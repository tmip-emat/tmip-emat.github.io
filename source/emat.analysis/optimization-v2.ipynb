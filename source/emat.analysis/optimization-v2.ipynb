{
 "cells": [
  {
   "cell_type": "code",
   "execution_count": 1,
   "metadata": {
    "ExecuteTime": {
     "end_time": "2020-07-18T18:43:57.859317Z",
     "start_time": "2020-07-18T18:43:53.940960Z"
    }
   },
   "outputs": [
    {
     "name": "stdout",
     "output_type": "stream",
     "text": [
      "emat 0.3.0, workbench 2.1.509, plotly 4.6.0\n"
     ]
    }
   ],
   "source": [
    "import emat, numpy, pandas\n",
    "emat.versions()"
   ]
  },
  {
   "cell_type": "markdown",
   "metadata": {},
   "source": [
    "# Optimization Tools"
   ]
  },
  {
   "cell_type": "markdown",
   "metadata": {},
   "source": [
    "Typically, transportation policy planning models will be used to\n",
    "try to find policies that provide the \"best\" outcomes.  In a traditional\n",
    "analytical environment, that typically means using models to find \n",
    "optimal outcomes for performance measures.\n",
    "\n",
    "Transportation models as used in the TMIP-EMAT frawework are \n",
    "generally characterized by two important features: they are \n",
    "subject to significant exogenous uncertainties about the future\n",
    "state of the world, and they include numerous performance measures\n",
    "for which decision makers would like to see good outcomes. Therefore,\n",
    "optimization tools applied to these models should be \n",
    "flexible to consider *multiple objectives*,\n",
    "as well as be *robust* against uncertainty."
   ]
  },
  {
   "cell_type": "markdown",
   "metadata": {},
   "source": [
    "## Multi-Objective Optimization"
   ]
  },
  {
   "cell_type": "markdown",
   "metadata": {},
   "source": [
    "With exploratory modeling, optimization is also often undertaken as a \n",
    "[multi-objective optimization](https://en.wikipedia.org/wiki/Multi-objective_optimization) exercise, where multiple\n",
    "and possibly conflicting performance measures need to be addressed simultaneously. \n",
    "A road capacity expansion project is a good example of a multi-objective optimization \n",
    "problem. In such a situation, we want to expand the capacity of a roadway, both minimizing\n",
    "the costs and maximizing the travel time benefits.  A smaller expansion project will cost less\n",
    "but also provide lesser benefits.  Funding it with variable rate debt might \n",
    "decrease expected future costs but doing so entails more risk than fixed-rate debt."
   ]
  },
  {
   "cell_type": "markdown",
   "metadata": {},
   "source": [
    "One approach to managing a multi-objective optimization problem is to distill it \n",
    "into a single objective problem, by assigning relative weights to the various \n",
    "objectives.  For a variety of reasons, this can be difficult to accomplish in public policy environments that are common in transportation planning. \n",
    "Multiple stakeholders may have different\n",
    "priorities and may not be able to agree on a relative weighting structure.  \n",
    "Certain small improvements in a performance measure may be valued very differently \n",
    "if they tip the measure over a regulated threshold (e.g. to attain a particular \n",
    "mandated level of emissions or air quality).\n",
    "\n",
    "Instead of trying to simplify a multi-objective into a simple-objective one,\n",
    "an alternate approach is to preserve the multi-objective nature of the problem\n",
    "and find a set or spectrum of different solutions, each of which solves the problem\n",
    "at a different weighting of the various objectives.  Decision makers can then\n",
    "review the various different solutions, and make judgements about the various\n",
    "trade-offs implicit in choosing one path over another.\n",
    "\n",
    "Within a set of solutions for this kind of problem, each individual solution is \n",
    "\"[Pareto optimal](https://en.wikipedia.org/wiki/Pareto_efficiency)\", such that\n",
    "no individual objective can be improved without degrading at least one other\n",
    "objective by some amount.  Thus, each of these solutions might be the \"best\"\n",
    "policy to adopt, and exactly which is the best is left as a subjective judgement\n",
    "to decision makers, instead of being a concretely objective evaluation based \n",
    "on mathematics alone."
   ]
  },
  {
   "cell_type": "markdown",
   "metadata": {},
   "source": [
    "## Robust Optimization"
   ]
  },
  {
   "cell_type": "markdown",
   "metadata": {},
   "source": [
    "Robust optimization is a variant of the more traditional optimization\n",
    "problem, where we will try to find policies that yield *good* outcomes\n",
    "across a range of possible futures, instead of trying to find a policy\n",
    "that delivers the *best* outcome for a particular future.\n",
    "\n",
    "To conceptualize this, let us consider a decision where there are four\n",
    "possible policies to choose among, a single exogenous uncertainty that\n",
    "will impact the future, and a single performance measure that we would\n",
    "like to mimimize.  We have a model that can forecast the performance \n",
    "measure, conditional on the chosen policy and the future value of the\n",
    "exogenous uncertainty, and which gives us a forecasts as shown below."
   ]
  },
  {
   "cell_type": "code",
   "execution_count": 2,
   "metadata": {
    "ExecuteTime": {
     "end_time": "2020-07-18T18:43:58.470723Z",
     "start_time": "2020-07-18T18:43:57.862148Z"
    },
    "nbsphinx": "hidden"
   },
   "outputs": [
    {
     "data": {
      "image/png": "[encoded data removed]",
      "text/plain": [
       "<Figure size 432x288 with 1 Axes>"
      ]
     },
     "metadata": {
      "needs_background": "light"
     },
     "output_type": "display_data"
    }
   ],
   "source": [
    "import numpy\n",
    "from matplotlib import pyplot as plt\n",
    "x = numpy.linspace(0,1)\n",
    "y1 = x**3 + numpy.cos((x-3)*23)*.01\n",
    "y2 = x**3 + .1 + numpy.sin((x-3)*23)*.01\n",
    "y3 = 1.3*(1-x)**17 + numpy.cos((x-3)*23)*.01 + .1\n",
    "y4 = numpy.sin((x-3)*23)*.01+0.16 + .1*(x-0.5)\n",
    "\n",
    "linestyles = [\n",
    "    dict(ls='-', c='blue'),\n",
    "    dict(ls=':', c='orange'),\n",
    "    dict(ls='-.', c='green'),\n",
    "    dict(ls='--', c='red'),\n",
    "]\n",
    "\n",
    "fig, ax = plt.subplots(1,1)\n",
    "ax.plot(x, y1, **linestyles[0], label=\"Policy 1\")\n",
    "ax.plot(x, y2, **linestyles[1], label=\"Policy 2\")\n",
    "ax.plot(x, y3, **linestyles[2], label=\"Policy 3\")\n",
    "ax.plot(x, y4, **linestyles[3], label=\"Policy 4\")\n",
    "ax.set_ylabel(\"Performance Measure\\n← Lower is Better ←\")\n",
    "ax.set_xlabel(\"Exogenous Uncertainty\")\n",
    "ax.legend()\n",
    "ax.set_title(\"Example Simple Forecasting Experiment\")\n",
    "\n",
    "plt.savefig(\"robust_example.png\")\n",
    "plt.show()"
   ]
  },
  {
   "cell_type": "raw",
   "metadata": {
    "raw_mimetype": "text/restructuredtext"
   },
   "source": [
    ".. image:: robust_example.png"
   ]
  },
  {
   "cell_type": "markdown",
   "metadata": {},
   "source": [
    "In a naive optimization approach, if we want to minimize the performance\n",
    "measure, we can do so by selecting Policy 1 and setting the exogenous\n",
    "uncertainty to 0.1.  Of course, in application we are able to select\n",
    "Policy 1, but we are unable to actually control the exogenous uncertainty\n",
    "(hence, \"exogenous\") and we may very well end up with a very bad result\n",
    "on the right side of the figure.\n",
    "\n",
    "We can see from the figure that, depending on the ultimate value for \n",
    "the exogenous uncertainty, either Policy 1 or Policy 3 might yield the\n",
    "best possible value of the performace measure.  However, both of these\n",
    "policies come with substantial risks as well -- in each Policy there are\n",
    "some futures where the results are optimal, but there are also some \n",
    "futures where the results are exceptionally poor.\n",
    "\n",
    "In contrast with these optimal policies, Policy 4 may be considered a \n",
    "\"robust\" solution.  Although there is no value of the exogenous \n",
    "uncertainty where Policy 4 yields the best possible outcome, there is\n",
    "also no future where Policy 4 yields a very poor outcome.  Instead, across\n",
    "all futures it is always generating a \"pretty good\" outcome.\n",
    "\n",
    "Different expectations for the future may lead to different policy \n",
    "choices.  If the decision maker feels that low values of the exogenous\n",
    "uncertainty are much more likely than high values, Policy 1 might be\n",
    "the best policy to choose.  If high values of the exogenous uncertainty\n",
    "are expected, then Policy 3 might be the best choice.  If there is not\n",
    "much agreement on the probable future values of the exogenous uncertainty,\n",
    "or if decision makers want to adopt a risk-averse stance, then Policy 4\n",
    "might be the best choice.  \n",
    "\n",
    "The remaining policy shown in the figure, Policy 2, is the lone holdout \n",
    "in this example -- there is no set of expectations about the future, or\n",
    "attitudes toward risk, that can make this policy the best choice.  This\n",
    "is because, no matter what the future value of the exogenous uncertainty\n",
    "may be, the performance measure has a better outcome from Policy 1 than\n",
    "from Policy 2.  In this circumstance, we can say that Policy 2 is \n",
    "\"dominated\" and should never be chosen by decision makers."
   ]
  },
  {
   "cell_type": "markdown",
   "metadata": {},
   "source": [
    "### Robustness Functions"
   ]
  },
  {
   "cell_type": "markdown",
   "metadata": {},
   "source": [
    "To perform robust optimization in EMAT, we need a core model (or meta-model)\n",
    "with defined input and output parameters, as well a set of functions called\n",
    "\"robustness measures\" that define what a \"robust\" measure represents.  \n",
    "As noted above, different expectations about future states of the world\n",
    "can lead to different rankings of policy options.  In addition, different\n",
    "attitudes towards risk can result in different robustness measures that are\n",
    "derived from the same underlying modeled performance measures.  \n",
    "\n",
    "For example, consider the *Example Simple Forecasting Experiment* shown above.\n",
    "In this example, we could compute a robustness measure for each policy where\n",
    "we calculate the maximum value of the performance measure across any possible\n",
    "value of the exogenous uncertainty.  This value is shown in the first column\n",
    "of robustness measures in the figure below, and under this measure Policy 4 is\n",
    "far and away the best choice. "
   ]
  },
  {
   "cell_type": "code",
   "execution_count": 3,
   "metadata": {
    "ExecuteTime": {
     "end_time": "2020-07-18T18:43:58.791893Z",
     "start_time": "2020-07-18T18:43:58.474546Z"
    },
    "nbsphinx": "hidden"
   },
   "outputs": [
    {
     "data": {
      "image/png": "[encoded data removed]",
      "text/plain": [
       "<Figure size 576x288 with 6 Axes>"
      ]
     },
     "metadata": {
      "needs_background": "light"
     },
     "output_type": "display_data"
    }
   ],
   "source": [
    "fig, ax = plt.subplots(\n",
    "    1,6, sharey=True, \n",
    "    gridspec_kw=dict(width_ratios=[7,1,1,1,1,1], wspace=0.05,), \n",
    "    figsize=[8, 4.],\n",
    ")\n",
    "\n",
    "\n",
    "ax[0].plot(x, y1, **linestyles[0], label=\"Policy 1\")\n",
    "ax[0].plot(x, y2, **linestyles[1], label=\"Policy 2\")\n",
    "ax[0].plot(x, y3, **linestyles[2], label=\"Policy 3\")\n",
    "ax[0].plot(x, y4, **linestyles[3], label=\"Policy 4\")\n",
    "ax[1].plot([0,1], [y1.max()]*2, **linestyles[0], lw=2)\n",
    "ax[1].plot([0,1], [y2.max()]*2, **linestyles[1], lw=2)\n",
    "ax[1].plot([0,1],[y3.max()]*2, **linestyles[2],  lw=2)\n",
    "ax[1].plot([0,1], [y4.max()]*2, **linestyles[3], lw=2)\n",
    "\n",
    "ax[2].plot([0,1], [y1.mean()]*2, **linestyles[0], lw=2)\n",
    "ax[2].plot([0,1], [y2.mean()]*2, **linestyles[1], lw=2)\n",
    "ax[2].plot([0,1],[y3.mean()]*2, **linestyles[2],  lw=2)\n",
    "ax[2].plot([0,1], [y4.mean()]*2, **linestyles[3], lw=2)\n",
    "\n",
    "ax[3].plot([0,1], [numpy.median(y1)]*2, **linestyles[0], lw=2)\n",
    "ax[3].plot([0,1], [numpy.median(y2)]*2, **linestyles[1], lw=2)\n",
    "ax[3].plot([0,1], [numpy.median(y3)]*2, **linestyles[2],  lw=2)\n",
    "ax[3].plot([0,1], [numpy.median(y4)]*2, **linestyles[3], lw=2)\n",
    "\n",
    "ax[4].plot([0,1], [numpy.percentile(y1, 90)]*2, **linestyles[0], lw=2)\n",
    "ax[4].plot([0,1], [numpy.percentile(y2, 90)]*2, **linestyles[1], lw=2)\n",
    "ax[4].plot([0,1], [numpy.percentile(y3, 90)]*2, **linestyles[2],  lw=2)\n",
    "ax[4].plot([0,1], [numpy.percentile(y4, 90)]*2, **linestyles[3], lw=2)\n",
    "\n",
    "ax[5].plot([0,1], [y1.min()]*2, **linestyles[0], lw=2)\n",
    "ax[5].plot([0,1], [y2.min()]*2, **linestyles[1], lw=2)\n",
    "ax[5].plot([0,1], [y3.min()]*2, **linestyles[2], lw=2)\n",
    "ax[5].plot([0,1], [y4.min()]*2, **linestyles[3], lw=2)\n",
    "\n",
    "\n",
    "ax[0].set_ylabel(\"Performance Measure\\n← Lower is Better ←\")\n",
    "ax[0].set_xlabel(\"Exogenous Uncertainty\")\n",
    "ax[0].legend()\n",
    "ax[0].set_title(\"Example Simple Forecasting Experiment\")\n",
    "ax[3].set_title(\"Robustness Measures\")\n",
    "ax[1].set_xlabel(\"Max\\nPM\")\n",
    "ax[2].set_xlabel(\"Mean\\nPM\")\n",
    "ax[3].set_xlabel(\"Median\\nPM\")\n",
    "ax[4].set_xlabel(\"90%ile\\nPM\")\n",
    "ax[5].set_xlabel(\"Min\\nPM\")\n",
    "ax[-1].yaxis.set_label_position(\"right\")\n",
    "for a in [1,2,3,4,5]:\n",
    "    ax[a].set_xticks([])\n",
    "    ax[a].set_yticks([])\n",
    "plt.savefig(\"robust_measures.png\")\n",
    "plt.show()"
   ]
  },
  {
   "cell_type": "raw",
   "metadata": {
    "raw_mimetype": "text/restructuredtext"
   },
   "source": [
    ".. image:: robust_measures.png"
   ]
  },
  {
   "cell_type": "markdown",
   "metadata": {},
   "source": [
    "The \"maximum performance measure result\" robustness function is a very\n",
    "risk averse approach, as no consideration is given to the shape or distribution\n",
    "of performance measure values other than the maximum.  Consider these same\n",
    "policies shown if Policy 4 is not available. In this case, the next best \n",
    "policy under this robustness function is Policy 1, as it has the next lowest\n",
    "maximum value.  However, when we look at\n",
    "a comparison between Policies 1 and 3 in aggregate, we might easily conclude\n",
    "that Policy 3 is a better choice overall: it is better than Policy 1 on average,\n",
    "as judged by the mean, median, and 90th percentile measures.  The only reason \n",
    "Policy 3 appears worse than Policy 1 on the initial robustness function is that \n",
    "it has an especially poor outcome at one extreme end of the uncertainty \n",
    "distribution.  Depending on our attitude towards risk on this performance measure,\n",
    "we may want to consider using some of these alternative robustness functions.\n",
    "An additional consideration here is that the various robustness measures\n",
    "in this example case are all unweighted measures: they implicitly assume a \n",
    "uniform probability distribution for the entire range of possible values for\n",
    "the exogenous uncertainty.  If we are able to develop a probability distribution\n",
    "on our expectations for the future values of the exogenous uncertainties,\n",
    "we can use that probability distribution to weight the robustness functions\n",
    "appropriately, creating more meaningful values, particularly for the non-extreme\n",
    "value robustness functions (i.e., everything except the min and max)."
   ]
  },
  {
   "cell_type": "markdown",
   "metadata": {},
   "source": [
    "# Mechanics of Using Optimization"
   ]
  },
  {
   "cell_type": "markdown",
   "metadata": {},
   "source": [
    "## Policy Optimization: Search over Levers"
   ]
  },
  {
   "cell_type": "markdown",
   "metadata": {},
   "source": [
    "The simplest optimization tool available for TMIP-EMAT users is \n",
    "a *search over policy levers*, which represents multi-objective\n",
    "optimization, manipulating policy lever values to find a Pareto\n",
    "optimal set of solutions, holding the exogenous uncertainties\n",
    "fixed at a particular value for each uncertainty (typically at \n",
    "the default values).  This is often a useful first step\n",
    "in exploratory analysis, even if your ultimate goal is to \n",
    "eventually undertake a robust optimization analysis.  This less\n",
    "complex optimization can give insights into tradeoffs between\n",
    "performance measures and reasonable combinations of policy levers.\n",
    "\n",
    "To demonstrate a search over levers, we'll use the Road Test \n",
    "example model."
   ]
  },
  {
   "cell_type": "code",
   "execution_count": 4,
   "metadata": {
    "ExecuteTime": {
     "end_time": "2020-07-18T18:43:58.848963Z",
     "start_time": "2020-07-18T18:43:58.794013Z"
    }
   },
   "outputs": [],
   "source": [
    "import emat.examples\n",
    "scope, db, model = emat.examples.road_test()"
   ]
  },
  {
   "cell_type": "markdown",
   "metadata": {},
   "source": [
    "The scope defined for a model in TMIP-EMAT will already provide\n",
    "information about the preferred directionality of performance\n",
    "measures (i.e., 'maximize' when larger values are better,\n",
    "'minimize' when smaller values are better, or 'info' when we\n",
    "do not have a preference for bigger or smaller values, but we \n",
    "just want to be tracking the measure).  We can see these\n",
    "preferences for any particular performance measure by inspecting\n",
    "the scope definition file, or by using the `info` method of\n",
    "`emat.Measure` instances."
   ]
  },
  {
   "cell_type": "code",
   "execution_count": 5,
   "metadata": {
    "ExecuteTime": {
     "end_time": "2020-07-18T18:43:58.852952Z",
     "start_time": "2020-07-18T18:43:58.850507Z"
    }
   },
   "outputs": [
    {
     "name": "stdout",
     "output_type": "stream",
     "text": [
      "net_benefits:\n",
      "  shortname: Net Benefits\n",
      "  kind: maximize\n"
     ]
    }
   ],
   "source": [
    "scope['net_benefits'].info()"
   ]
  },
  {
   "cell_type": "markdown",
   "metadata": {},
   "source": [
    "To conduct an optimization search over levers, we'll use the \n",
    "`optimize` method of the TMIP-EMAT model class, setting the\n",
    "`search_over` argument to `'levers'`.  In this example, we will\n",
    "set the number of function evaluations (`nfe`) to 10,000, although\n",
    "for other models you may need more or fewer to achieve a good, \n",
    "well converged result.  In a Jupyter notebook environment, \n",
    "we can monitor convergence visually in real time in the figures\n",
    "that will appear automatically."
   ]
  },
  {
   "cell_type": "code",
   "execution_count": 6,
   "metadata": {
    "ExecuteTime": {
     "end_time": "2020-07-18T18:44:00.042823Z",
     "start_time": "2020-07-18T18:43:58.854335Z"
    }
   },
   "outputs": [
    {
     "data": {
      "application/vnd.jupyter.widget-view+json": {
       "model_id": "e63a27e4d53149e9bf283beb910fb618",
       "version_major": 2,
       "version_minor": 0
      },
      "text/plain": [
       "ConvergenceMetrics(children=(FigureWidget({\n",
       "    'data': [{'fill': 'tonexty',\n",
       "              'line': {'shape': '…"
      ]
     },
     "metadata": {},
     "output_type": "display_data"
    }
   ],
   "source": [
    "result = model.optimize(\n",
    "    nfe=50_000, \n",
    "    searchover='levers', \n",
    "    check_extremes=2,\n",
    "    cache_file='./optimization_cache/road_test_search_over_levers_v4.gz',\n",
    ")"
   ]
  },
  {
   "cell_type": "markdown",
   "metadata": {},
   "source": [
    "The `optimize` method returns an `OptimizationResult` object, \n",
    "which contains the resulting solutions, as well as some information\n",
    "about how they were derived.  We can review the raw values of the\n",
    "solutions as a pandas DataFrame, or see the scenario values used \n",
    "to generate these solutions."
   ]
  },
  {
   "cell_type": "code",
   "execution_count": 7,
   "metadata": {
    "ExecuteTime": {
     "end_time": "2020-07-18T18:44:00.061526Z",
     "start_time": "2020-07-18T18:44:00.045361Z"
    }
   },
   "outputs": [
    {
     "data": {
      "text/html": [
       "<div>\n",
       "<style scoped>\n",
       "    .dataframe tbody tr th:only-of-type {\n",
       "        vertical-align: middle;\n",
       "    }\n",
       "\n",
       "    .dataframe tbody tr th {\n",
       "        vertical-align: top;\n",
       "    }\n",
       "\n",
       "    .dataframe thead th {\n",
       "        text-align: right;\n",
       "    }\n",
       "</style>\n",
       "<table border=\"1\" class=\"dataframe\">\n",
       "  <thead>\n",
       "    <tr style=\"text-align: right;\">\n",
       "      <th></th>\n",
       "      <th>expand_capacity</th>\n",
       "      <th>amortization_period</th>\n",
       "      <th>debt_type</th>\n",
       "      <th>interest_rate_lock</th>\n",
       "      <th>build_travel_time</th>\n",
       "      <th>time_savings</th>\n",
       "      <th>value_of_time_savings</th>\n",
       "      <th>net_benefits</th>\n",
       "      <th>cost_of_capacity_expansion</th>\n",
       "      <th>free_flow_time</th>\n",
       "      <th>initial_capacity</th>\n",
       "    </tr>\n",
       "  </thead>\n",
       "  <tbody>\n",
       "    <tr>\n",
       "      <th>0</th>\n",
       "      <td>4.754359</td>\n",
       "      <td>50</td>\n",
       "      <td>Paygo</td>\n",
       "      <td>False</td>\n",
       "      <td>67.474017</td>\n",
       "      <td>1.525983</td>\n",
       "      <td>11.444871</td>\n",
       "      <td>-0.684797</td>\n",
       "      <td>12.129669</td>\n",
       "      <td>60</td>\n",
       "      <td>100</td>\n",
       "    </tr>\n",
       "    <tr>\n",
       "      <th>1</th>\n",
       "      <td>61.313878</td>\n",
       "      <td>50</td>\n",
       "      <td>Paygo</td>\n",
       "      <td>False</td>\n",
       "      <td>61.329094</td>\n",
       "      <td>7.670906</td>\n",
       "      <td>57.531798</td>\n",
       "      <td>-98.896650</td>\n",
       "      <td>156.428447</td>\n",
       "      <td>60</td>\n",
       "      <td>100</td>\n",
       "    </tr>\n",
       "    <tr>\n",
       "      <th>2</th>\n",
       "      <td>49.221991</td>\n",
       "      <td>50</td>\n",
       "      <td>Paygo</td>\n",
       "      <td>False</td>\n",
       "      <td>61.815144</td>\n",
       "      <td>7.184856</td>\n",
       "      <td>53.886417</td>\n",
       "      <td>-71.692324</td>\n",
       "      <td>125.578741</td>\n",
       "      <td>60</td>\n",
       "      <td>100</td>\n",
       "    </tr>\n",
       "    <tr>\n",
       "      <th>3</th>\n",
       "      <td>2.573995</td>\n",
       "      <td>50</td>\n",
       "      <td>Paygo</td>\n",
       "      <td>True</td>\n",
       "      <td>68.130054</td>\n",
       "      <td>0.869946</td>\n",
       "      <td>6.524596</td>\n",
       "      <td>-0.042369</td>\n",
       "      <td>6.566965</td>\n",
       "      <td>60</td>\n",
       "      <td>100</td>\n",
       "    </tr>\n",
       "    <tr>\n",
       "      <th>4</th>\n",
       "      <td>8.137031</td>\n",
       "      <td>50</td>\n",
       "      <td>Paygo</td>\n",
       "      <td>True</td>\n",
       "      <td>66.581801</td>\n",
       "      <td>2.418199</td>\n",
       "      <td>18.136493</td>\n",
       "      <td>-2.623295</td>\n",
       "      <td>20.759788</td>\n",
       "      <td>60</td>\n",
       "      <td>100</td>\n",
       "    </tr>\n",
       "  </tbody>\n",
       "</table>\n",
       "</div>"
      ],
      "text/plain": [
       "   expand_capacity  amortization_period debt_type  interest_rate_lock  \\\n",
       "0         4.754359                   50     Paygo               False   \n",
       "1        61.313878                   50     Paygo               False   \n",
       "2        49.221991                   50     Paygo               False   \n",
       "3         2.573995                   50     Paygo                True   \n",
       "4         8.137031                   50     Paygo                True   \n",
       "\n",
       "   build_travel_time  time_savings  value_of_time_savings  net_benefits  \\\n",
       "0          67.474017      1.525983              11.444871     -0.684797   \n",
       "1          61.329094      7.670906              57.531798    -98.896650   \n",
       "2          61.815144      7.184856              53.886417    -71.692324   \n",
       "3          68.130054      0.869946               6.524596     -0.042369   \n",
       "4          66.581801      2.418199              18.136493     -2.623295   \n",
       "\n",
       "   cost_of_capacity_expansion  free_flow_time  initial_capacity  \n",
       "0                   12.129669              60               100  \n",
       "1                  156.428447              60               100  \n",
       "2                  125.578741              60               100  \n",
       "3                    6.566965              60               100  \n",
       "4                   20.759788              60               100  "
      ]
     },
     "execution_count": 7,
     "metadata": {},
     "output_type": "execute_result"
    }
   ],
   "source": [
    "result.result.head()"
   ]
  },
  {
   "cell_type": "markdown",
   "metadata": {},
   "source": [
    "Note that since this optimization was a search over levers, only one \"Scenario\" (a set of values for the uncertainties) is used."
   ]
  },
  {
   "cell_type": "code",
   "execution_count": 8,
   "metadata": {
    "ExecuteTime": {
     "end_time": "2020-07-18T18:44:00.070104Z",
     "start_time": "2020-07-18T18:44:00.066950Z"
    }
   },
   "outputs": [
    {
     "data": {
      "text/plain": [
       "Scenario({'alpha': 0.15, 'beta': 4.0, 'input_flow': 100, 'value_of_time': 0.075, 'unit_cost_expansion': 100, 'interest_rate': 0.03, 'yield_curve': 0.01})"
      ]
     },
     "execution_count": 8,
     "metadata": {},
     "output_type": "execute_result"
    }
   ],
   "source": [
    "result.scenario"
   ]
  },
  {
   "cell_type": "markdown",
   "metadata": {},
   "source": [
    "We can visualize the set of solutions using a\n",
    "[parallel coordinates](https://en.wikipedia.org/wiki/Parallel_coordinates) \n",
    "plot.  This figure is composed of a number of vertical axes, one for each \n",
    "column of data in the results DataFrame.  Each row of the DataFrame is\n",
    "represented by a chord that connects across each of the vertical axes.\n",
    "\n",
    "By default, the axes representing performace measures to be minimized are\n",
    "inverted in the parallel coordinates, such that moving up along any \n",
    "performance measure axis results in a \"better\" outcome for that performance\n",
    "measure.\n",
    "\n",
    "In the figure below, we can quickly see that pretty much all the all of the Pareto\n",
    "optimal policy solutions for our reference scenario share an amortization\n",
    "period of 50 years, and all share a debt type of 'Paygo'.  By contrast, the set of \n",
    "solutions include multiple different values for the expand capacity lever,\n",
    "ranging from 0 to 100.  These different values offer possible tradeoffs \n",
    "among the performance measures: lower levels of capacity expansion (shown\n",
    "in yellow) will maximize net benefits and minimize the cost of the project,\n",
    "but they will also fail to provide much travel time savings.  Conversely,\n",
    "larger levels of capacity expansion will provide better travel time savings, \n",
    "but will not perform as well on costs.  It is left up the the analysts and\n",
    "decision makers to judge what tradeoffs to make between these conflicting\n",
    "goals."
   ]
  },
  {
   "cell_type": "code",
   "execution_count": 9,
   "metadata": {
    "ExecuteTime": {
     "end_time": "2020-07-18T18:44:00.075459Z",
     "start_time": "2020-07-18T18:44:00.073354Z"
    }
   },
   "outputs": [],
   "source": [
    "# import emat.analysis.explore_2.components\n",
    "# import importlib\n",
    "# importlib.reload(emat.analysis.explore_2.components)\n",
    "# from emat.analysis.explore_2.components import new_parcoords_figure\n",
    "\n",
    "# colorss = ['rgb(2, 2, 2)', 'rgb(255, 127, 140)']\n",
    "\n",
    "\n",
    "# ff = new_parcoords_figure(\n",
    "#     data=result.result,\n",
    "#     scope=scope,\n",
    "#     coords=result.result.columns,\n",
    "#     selection = (result.result['expand_capacity'] > 50), #.astype(float),\n",
    "# )\n",
    "\n",
    "# ff"
   ]
  },
  {
   "cell_type": "code",
   "execution_count": 39,
   "metadata": {
    "ExecuteTime": {
     "end_time": "2020-07-20T14:06:58.131906Z",
     "start_time": "2020-07-20T14:06:57.463953Z"
    }
   },
   "outputs": [
    {
     "data": {
      "application/vnd.jupyter.widget-view+json": {
       "model_id": "a652e62c2d624727b25ebebd8467501c",
       "version_major": 2,
       "version_minor": 0
      },
      "text/plain": [
       "ParCoordsViewer(children=(FigureWidget({\n",
       "    'data': [{'dimensions': [{'label': '(L) Expand Amount',\n",
       "         …"
      ]
     },
     "metadata": {},
     "output_type": "display_data"
    }
   ],
   "source": [
    "result.par_coords()"
   ]
  },
  {
   "cell_type": "code",
   "execution_count": 40,
   "metadata": {
    "ExecuteTime": {
     "end_time": "2020-07-20T14:10:25.294119Z",
     "start_time": "2020-07-20T14:10:25.135331Z"
    }
   },
   "outputs": [
    {
     "data": {
      "application/vnd.jupyter.widget-view+json": {
       "model_id": "4aad1bed371244f9b7c8d28df9b48cd7",
       "version_major": 2,
       "version_minor": 0
      },
      "text/plain": [
       "FigureWidget({\n",
       "    'data': [{'hovertemplate': ('<b>Expand Amount</b>: %{y}<br>' ... 'tra>Experiment %{meta}</e…"
      ]
     },
     "metadata": {},
     "output_type": "display_data"
    }
   ],
   "source": [
    "result.visualizer.splom()"
   ]
  },
  {
   "cell_type": "code",
   "execution_count": 42,
   "metadata": {
    "ExecuteTime": {
     "end_time": "2020-07-20T14:10:53.017972Z",
     "start_time": "2020-07-20T14:10:52.492894Z"
    }
   },
   "outputs": [
    {
     "data": {
      "application/vnd.jupyter.widget-view+json": {
       "model_id": "d8e30fbb348a4815910a9a3b3d5a2f47",
       "version_major": 2,
       "version_minor": 0
      },
      "text/plain": [
       "FigureWidget({\n",
       "    'data': [{'hovertemplate': ('<b>Expand Amount</b>: %{y}<br>' ... 'tra>Experiment %{meta}</e…"
      ]
     },
     "metadata": {},
     "output_type": "display_data"
    }
   ],
   "source": [
    "result.visualizer.splom(rows=['expand_capacity', 'net_benefits'], cols='M')"
   ]
  },
  {
   "cell_type": "markdown",
   "metadata": {},
   "source": [
    "As noted above, nearly all but not exactly all of the identified Pareto optimal\n",
    "solutions in this figure share an amortization period of 50 years.  We can review a table \n",
    "of a subset of particular solutions using the `query` method of a pandas DataFrame.  \n",
    "In this example, we may want to see a table of the instances where the amortization period \n",
    "is not 50 years."
   ]
  },
  {
   "cell_type": "code",
   "execution_count": 13,
   "metadata": {
    "ExecuteTime": {
     "end_time": "2020-07-18T18:44:04.875399Z",
     "start_time": "2020-07-18T18:44:04.861030Z"
    }
   },
   "outputs": [
    {
     "data": {
      "text/html": [
       "<div>\n",
       "<style scoped>\n",
       "    .dataframe tbody tr th:only-of-type {\n",
       "        vertical-align: middle;\n",
       "    }\n",
       "\n",
       "    .dataframe tbody tr th {\n",
       "        vertical-align: top;\n",
       "    }\n",
       "\n",
       "    .dataframe thead th {\n",
       "        text-align: right;\n",
       "    }\n",
       "</style>\n",
       "<table border=\"1\" class=\"dataframe\">\n",
       "  <thead>\n",
       "    <tr style=\"text-align: right;\">\n",
       "      <th></th>\n",
       "      <th>expand_capacity</th>\n",
       "      <th>amortization_period</th>\n",
       "      <th>debt_type</th>\n",
       "      <th>interest_rate_lock</th>\n",
       "      <th>build_travel_time</th>\n",
       "      <th>time_savings</th>\n",
       "      <th>value_of_time_savings</th>\n",
       "      <th>net_benefits</th>\n",
       "      <th>cost_of_capacity_expansion</th>\n",
       "      <th>free_flow_time</th>\n",
       "      <th>initial_capacity</th>\n",
       "      <th>_debt_type_perturb</th>\n",
       "      <th>_interest_rate_lock_perturb</th>\n",
       "    </tr>\n",
       "  </thead>\n",
       "  <tbody>\n",
       "    <tr>\n",
       "      <th>9</th>\n",
       "      <td>0.0</td>\n",
       "      <td>46</td>\n",
       "      <td>Paygo</td>\n",
       "      <td>True</td>\n",
       "      <td>69.0</td>\n",
       "      <td>0.0</td>\n",
       "      <td>0.0</td>\n",
       "      <td>0.0</td>\n",
       "      <td>0.0</td>\n",
       "      <td>60</td>\n",
       "      <td>100</td>\n",
       "      <td>1.936808</td>\n",
       "      <td>0.948216</td>\n",
       "    </tr>\n",
       "  </tbody>\n",
       "</table>\n",
       "</div>"
      ],
      "text/plain": [
       "   expand_capacity  amortization_period debt_type  interest_rate_lock  \\\n",
       "9              0.0                   46     Paygo                True   \n",
       "\n",
       "   build_travel_time  time_savings  value_of_time_savings  net_benefits  \\\n",
       "9               69.0           0.0                    0.0           0.0   \n",
       "\n",
       "   cost_of_capacity_expansion  free_flow_time  initial_capacity  \\\n",
       "9                         0.0              60               100   \n",
       "\n",
       "   _debt_type_perturb  _interest_rate_lock_perturb  \n",
       "9            1.936808                     0.948216  "
      ]
     },
     "execution_count": 13,
     "metadata": {},
     "output_type": "execute_result"
    }
   ],
   "source": [
    "result.result.query(\"amortization_period != 50\")"
   ]
  },
  {
   "cell_type": "markdown",
   "metadata": {},
   "source": [
    "The first row in this table shows a particular edge case: when the capacity expansion is\n",
    "exactly zero, all of the remaining policy levers have no effect -- the details of debt\n",
    "financing are irrelevant when there is no debt at all, and thus no values of the other\n",
    "levers result in a Pareto-optimal solution that would dominate any other such solution.\n",
    "On the other hand other solution shown is a different edge case, with a capacity \n",
    "expansion at the maximum (100). Here, the numerical difference between an amortization\n",
    "period of 49 years and 50 years may be two small for the algorithm to catch (i.e., it \n",
    "may be swallowed by a rounding error somewhere inside the calculations).  In each case,\n",
    "an analyst with domain knowledge, who understands the underlying system being modeled,\n",
    "will be able to bring a more nuanced understanding of the results than can be achieved\n",
    "merely by applying the mathematical algorithms in TMIP-EMAT, and correctly infer\n",
    "that the 50 year amortization is always an optimal solution, and that the outlier\n",
    "solutions are not important."
   ]
  },
  {
   "cell_type": "markdown",
   "metadata": {},
   "source": [
    "Lastly, a note on the interpretation of the visualization of parallel coordinates\n",
    "plots: for numerical parameters and measures, the range of values shown in each \n",
    "vertical axis of plot is determined not by the full range of possible values, but instead\n",
    "it only displays the range of values included in the solutions being visualized.\n",
    "For example, the `amortization_period` axis only shows values between 47 and 50, even\n",
    "though the actual range of values is defined in the scope to be between 15 and 50 years.\n",
    "Similarly, the range of values for `net_benefits` is between 0.08 and -194.18.\n",
    "Because the solutions being displayed are optimal, the top value of 0.08 is \n",
    "(barring numerical problems) the best value of `net_benefits` that might be obtained,\n",
    "but the bottom value of -194.18 is by no means the worst possible `net_benefits`\n",
    "outcome that could arise from various different policies.  Instead, this bottom\n",
    "value is not a worst outcome but *also an optimal value*, except it is conditional \n",
    "on also achieving some particular other desirable outcome.  In the example shown, this \n",
    "other desirable outcome is a high level of travel time savings.  It is left entirely\n",
    "up to the analyst and policy makers to judge whether this outcome is \"bad\" or not,\n",
    "relative to the other possible outcomes."
   ]
  },
  {
   "cell_type": "markdown",
   "metadata": {},
   "source": [
    "## Worst Case Discovery: Search over Uncertainties"
   ]
  },
  {
   "cell_type": "markdown",
   "metadata": {},
   "source": [
    "We can apply the same multiobjective optimization tool in reverse to \n",
    "study the worst case outcomes from any particular set of policy lever\n",
    "settings.  To do so, we switch out the `searchover` argument from\n",
    "`'levers'` to `'uncertainties'`, and set `reverse_targets` to True,\n",
    "which will tell the optimization engine to search for the worst outcomes\n",
    "instead of the best ones.  We'll often also want to override the reference\n",
    "policy values with selected particular values, although it's possible\n",
    "to omit this reference argument to search for the worst case scenarios\n",
    "under the default policy lever settings."
   ]
  },
  {
   "cell_type": "code",
   "execution_count": 14,
   "metadata": {
    "ExecuteTime": {
     "end_time": "2020-07-18T18:44:05.315826Z",
     "start_time": "2020-07-18T18:44:04.876889Z"
    }
   },
   "outputs": [
    {
     "data": {
      "application/vnd.jupyter.widget-view+json": {
       "model_id": "bf9ca05c2dd542cc90966ef33663543f",
       "version_major": 2,
       "version_minor": 0
      },
      "text/plain": [
       "ConvergenceMetrics(children=(FigureWidget({\n",
       "    'data': [{'fill': 'tonexty',\n",
       "              'line': {'shape': '…"
      ]
     },
     "metadata": {},
     "output_type": "display_data"
    }
   ],
   "source": [
    "worst = model.optimize(\n",
    "    nfe=100_000, \n",
    "    searchover='uncertainties', \n",
    "    reverse_targets = True,\n",
    "    check_extremes=1,\n",
    "    cache_file='./optimization_cache/road_test_search_over_uncs_v2_.gz',\n",
    "    reference={\n",
    "        'expand_capacity': 100.0, \n",
    "        'amortization_period': 50, \n",
    "        'debt_type': 'PayGo', \n",
    "        'interest_rate_lock': False,\n",
    "    }\n",
    ")"
   ]
  },
  {
   "cell_type": "code",
   "execution_count": 15,
   "metadata": {
    "ExecuteTime": {
     "end_time": "2020-07-18T18:44:05.696474Z",
     "start_time": "2020-07-18T18:44:05.317366Z"
    }
   },
   "outputs": [
    {
     "data": {
      "application/vnd.jupyter.widget-view+json": {
       "model_id": "95d2a1ae7ffd4615aab9f383600d04ad",
       "version_major": 2,
       "version_minor": 0
      },
      "text/plain": [
       "ParCoordsViewer(children=(FigureWidget({\n",
       "    'data': [{'dimensions': [{'label': '(X) alpha',\n",
       "                 …"
      ]
     },
     "metadata": {},
     "output_type": "display_data"
    }
   ],
   "source": [
    "worst.par_coords()"
   ]
  },
  {
   "cell_type": "code",
   "execution_count": 43,
   "metadata": {
    "ExecuteTime": {
     "end_time": "2020-07-20T14:16:23.628130Z",
     "start_time": "2020-07-20T14:16:23.551174Z"
    }
   },
   "outputs": [
    {
     "data": {
      "application/vnd.jupyter.widget-view+json": {
       "model_id": "8ba8b452bc5b4ad0a4ae1674d30e12bc",
       "version_major": 2,
       "version_minor": 0
      },
      "text/plain": [
       "TwoWayFigure(children=(FigureWidget({\n",
       "    'data': [{'hovertemplate': ('%{xaxis.title.text}: %{x}<br>%' ... 'tr…"
      ]
     },
     "metadata": {},
     "output_type": "display_data"
    }
   ],
   "source": [
    "worst.visualizer.two_way(x='alpha', y='build_travel_time')"
   ]
  },
  {
   "cell_type": "code",
   "execution_count": 45,
   "metadata": {
    "ExecuteTime": {
     "end_time": "2020-07-20T14:16:44.038850Z",
     "start_time": "2020-07-20T14:16:43.125281Z"
    }
   },
   "outputs": [
    {
     "data": {
      "application/vnd.jupyter.widget-view+json": {
       "model_id": "92331795258e4afb90392983852eb6c0",
       "version_major": 2,
       "version_minor": 0
      },
      "text/plain": [
       "FigureWidget({\n",
       "    'data': [{'hovertemplate': '<b>alpha</b>: %{y}<br><b>Build Time</b>: %{x}<extra>Experiment …"
      ]
     },
     "metadata": {},
     "output_type": "display_data"
    }
   ],
   "source": [
    "worst.visualizer.splom(rows='X',cols='M')"
   ]
  },
  {
   "cell_type": "code",
   "execution_count": 18,
   "metadata": {
    "ExecuteTime": {
     "end_time": "2020-07-18T18:44:09.268380Z",
     "start_time": "2020-07-18T18:44:08.921341Z"
    }
   },
   "outputs": [
    {
     "data": {
      "application/vnd.jupyter.widget-view+json": {
       "model_id": "bac2915106cf44e2b706d1c311680ea0",
       "version_major": 2,
       "version_minor": 0
      },
      "text/plain": [
       "FigureWidget({\n",
       "    'data': [{'dimensions': [{'label': '(M-) Build Time',\n",
       "                              'name':…"
      ]
     },
     "metadata": {},
     "output_type": "display_data"
    }
   ],
   "source": [
    "worst.visualizer.parcoords(coords='MX')"
   ]
  },
  {
   "cell_type": "code",
   "execution_count": 19,
   "metadata": {
    "ExecuteTime": {
     "end_time": "2020-07-18T18:44:09.400560Z",
     "start_time": "2020-07-18T18:44:09.270009Z"
    }
   },
   "outputs": [],
   "source": [
    "worst1 = worst.visualizer.subvisualize(\"net_benefits < 0\")"
   ]
  },
  {
   "cell_type": "code",
   "execution_count": 46,
   "metadata": {
    "ExecuteTime": {
     "end_time": "2020-07-20T14:16:56.364107Z",
     "start_time": "2020-07-20T14:16:54.017419Z"
    }
   },
   "outputs": [
    {
     "data": {
      "application/vnd.jupyter.widget-view+json": {
       "model_id": "94dd1cffbf9c4952adb3ffe50d3ae7c0",
       "version_major": 2,
       "version_minor": 0
      },
      "text/plain": [
       "FigureWidget({\n",
       "    'data': [{'hovertemplate': ('<b>Build Time</b>: %{y}<br><b>' ... 'tra>Experiment %{meta}</e…"
      ]
     },
     "metadata": {},
     "output_type": "display_data"
    }
   ],
   "source": [
    "worst1.splom(rows='M',cols='M')"
   ]
  },
  {
   "cell_type": "code",
   "execution_count": 21,
   "metadata": {
    "ExecuteTime": {
     "end_time": "2020-07-18T18:44:12.754270Z",
     "start_time": "2020-07-18T18:44:12.385260Z"
    }
   },
   "outputs": [
    {
     "data": {
      "application/vnd.jupyter.widget-view+json": {
       "model_id": "5b834dfb48df42eaa4744ac03c933119",
       "version_major": 2,
       "version_minor": 0
      },
      "text/plain": [
       "TwoWayFigure(children=(FigureWidget({\n",
       "    'data': [{'hovertemplate': ('%{xaxis.title.text}: %{x}<br>%' ... 'tr…"
      ]
     },
     "metadata": {},
     "output_type": "display_data"
    }
   ],
   "source": [
    "worst1.two_way(x='alpha', y='build_travel_time')"
   ]
  },
  {
   "cell_type": "markdown",
   "metadata": {},
   "source": [
    "## Using Robust Optimization"
   ]
  },
  {
   "cell_type": "markdown",
   "metadata": {},
   "source": [
    "As discussed above, implementing robust optimization requires the\n",
    "definition of relevant robustness functions.  Because the functional\n",
    "form of these functions can be so many different things depending on\n",
    "the particular application, TMIP-EMAT does not implement a mechanism\n",
    "to generate them automatically.  Instead, it is left to the analyst to\n",
    "develop a set of robustness functions that are appropriate for each\n",
    "application.\n",
    "\n",
    "Each robustness function represents an aggregate performance measure,\n",
    "calculated based on the results from a group of individual runs of the\n",
    "underlying core model (or meta-model).  These runs are conducted with\n",
    "a common set of policy lever settings, and a variety of different \n",
    "exogenous uncertainty scenarios.  This allows us to create aggregate \n",
    "measures that encapsulate information from the distribution of possible\n",
    "outcomes, instead of for just one particular future scenario.\n",
    "\n",
    "A robust measure is created in TMIP-EMAT using the same `Measure` class\n",
    "used for performace measures that are direct model outputs.  Like any \n",
    "other measure, they have a `name` and `kind` (minimize, maximize, or info).\n",
    "The names used for robust measures must be unique new names that are \n",
    "not otherwise used in the model's scope, so you cannot use the same name\n",
    "as an existing performance measure. Instead, the names can (and usually \n",
    "should) be descriptive variants of the existing performance measures. \n",
    "For example, if an existing performance measure is `'net_benefits'`,\n",
    "you can name a robust measure `'min_net_benefits'`.\n",
    "\n",
    "In addition to the `name` and `kind`, robust measures have two important\n",
    "additional attributes: a `variable_name`, which names the underlying\n",
    "performance measure upon which this robust measure is based, and a\n",
    "`function` that describes how to aggregate the results.  The function\n",
    "should be a callable function, which accepts an array of performance\n",
    "measure values as its single argument, and returns a single numeric\n",
    "value that is the robust measure.  For example, the code below will \n",
    "create a robust measure that represents the minimum net benefit across \n",
    "all exogenous uncertainty scenarios."
   ]
  },
  {
   "cell_type": "code",
   "execution_count": 22,
   "metadata": {
    "ExecuteTime": {
     "end_time": "2020-07-18T18:44:12.758255Z",
     "start_time": "2020-07-18T18:44:12.755916Z"
    }
   },
   "outputs": [],
   "source": [
    "from emat import Measure\n",
    "\n",
    "minimum_net_benefit = Measure(\n",
    "    name='Minimum Net Benefits',\n",
    "    kind=Measure.MAXIMIZE,\n",
    "    variable_name='net_benefits',\n",
    "    function=min,\n",
    ")"
   ]
  },
  {
   "cell_type": "markdown",
   "metadata": {},
   "source": [
    "As suggested earlier, this measure might be too sensitive to outliers\n",
    "in the set of exogenous uncertainty scenarios.  We can address this \n",
    "by creating a different robust measure, based on the same underlying\n",
    "performance measure, but which is based on the mean instead of the \n",
    "minimum value."
   ]
  },
  {
   "cell_type": "code",
   "execution_count": 23,
   "metadata": {
    "ExecuteTime": {
     "end_time": "2020-07-18T18:44:12.767300Z",
     "start_time": "2020-07-18T18:44:12.764955Z"
    }
   },
   "outputs": [],
   "source": [
    "expected_net_benefit = Measure(\n",
    "    name='Mean Net Benefits',\n",
    "    kind=Measure.MAXIMIZE,\n",
    "    variable_name='net_benefits',\n",
    "    function=numpy.mean,\n",
    ")"
   ]
  },
  {
   "cell_type": "markdown",
   "metadata": {},
   "source": [
    "Or we can adopt an intermediate approach, focusing on the 5th percentile\n",
    "instead of the minimum, which avoids being overly sensitive to the \n",
    "most extreme tail ends of the distribution, but maintains a fairly \n",
    "risk-averse robustness approach.\n",
    "\n",
    "Note that normally, the `numpy.percentile` function requires two arguments\n",
    "instead of one: the array of values, and the target percentile value.\n",
    "Since the `function` of the robust measure needs to accept only a single \n",
    "argument, we can inject the `q=5` argument here using \n",
    "[functools.partial](https://docs.python.org/3/library/functools.html#functools.partial)."
   ]
  },
  {
   "cell_type": "code",
   "execution_count": 24,
   "metadata": {
    "ExecuteTime": {
     "end_time": "2020-07-18T18:44:12.773048Z",
     "start_time": "2020-07-18T18:44:12.770450Z"
    }
   },
   "outputs": [],
   "source": [
    "import functools\n",
    "\n",
    "pct5_net_benefit = Measure(\n",
    "    '5%ile Net Benefits',\n",
    "    kind = Measure.MAXIMIZE,\n",
    "    variable_name = 'net_benefits', \n",
    "    function = functools.partial(numpy.percentile, q=5), \n",
    ")"
   ]
  },
  {
   "cell_type": "markdown",
   "metadata": {},
   "source": [
    "We can also capture robustness measures that are not statistical versions\n",
    "of the performance measure (that can be contrasted directly with the \n",
    "performance measure outputs, like the mean or median), but rather more abstract \n",
    "measures, like the percentage of scenarios where the performace measure \n",
    "meets some target value.  For example, we can compute the percentage of scenarios\n",
    "for the road test example where the net benefits are negative.  To do so,\n",
    "we will use the `percentileofscore` function from the `scipy.stats` package.\n",
    "For this function, set the `kind` argument to `'strict'` to count only strictly\n",
    "negative results -- not scenarios where the net benefits are exactly zero -- or\n",
    "to `'weak'` to count all non-positive results."
   ]
  },
  {
   "cell_type": "code",
   "execution_count": 25,
   "metadata": {
    "ExecuteTime": {
     "end_time": "2020-07-18T18:44:12.776781Z",
     "start_time": "2020-07-18T18:44:12.774428Z"
    }
   },
   "outputs": [],
   "source": [
    "from scipy.stats import percentileofscore\n",
    "\n",
    "neg_net_benefit = Measure(\n",
    "    'Possibility of Negative Net Benefits',\n",
    "    kind = Measure.MINIMIZE,\n",
    "    variable_name = 'net_benefits', \n",
    "    function = functools.partial(percentileofscore, score=0, kind='strict'), \n",
    ")"
   ]
  },
  {
   "cell_type": "markdown",
   "metadata": {},
   "source": [
    "We can of course also create robust measures based on other \n",
    "performance measures in the core model.  For example, in the \n",
    "Road Test model the total cost of the capacity expansion is\n",
    "subject to some uncertainty, and we may want to make policy\n",
    "choices not just to maximize net benefits but also trying to\n",
    "keep costs in check."
   ]
  },
  {
   "cell_type": "code",
   "execution_count": 26,
   "metadata": {
    "ExecuteTime": {
     "end_time": "2020-07-18T18:44:12.780523Z",
     "start_time": "2020-07-18T18:44:12.778206Z"
    }
   },
   "outputs": [],
   "source": [
    "pct95_cost = Measure(\n",
    "    '95%ile Capacity Expansion Cost',\n",
    "    kind = Measure.MINIMIZE,\n",
    "    variable_name = 'cost_of_capacity_expansion', \n",
    "    function = functools.partial(numpy.percentile, q = 95), \n",
    ")"
   ]
  },
  {
   "cell_type": "markdown",
   "metadata": {},
   "source": [
    "We may also be interested in finding policies that will maximize the expected time savings.  \n",
    "Although we can easily conceptualize that these two goals are in opposition (increasing time\n",
    "savings pretty obviously goes hand in hand with increasing cost) we will be able to use\n",
    "the results of this robust optimization to visualize the tradeoffs and try to find an \n",
    "appropriate balance."
   ]
  },
  {
   "cell_type": "code",
   "execution_count": 27,
   "metadata": {
    "ExecuteTime": {
     "end_time": "2020-07-18T18:44:12.785166Z",
     "start_time": "2020-07-18T18:44:12.782228Z"
    }
   },
   "outputs": [],
   "source": [
    "expected_time_savings = Measure(\n",
    "    'Expected Time Savings',\n",
    "    kind = Measure.MAXIMIZE, \n",
    "    variable_name = 'time_savings', \n",
    "    function = numpy.mean,\n",
    ")"
   ]
  },
  {
   "cell_type": "code",
   "execution_count": 28,
   "metadata": {
    "ExecuteTime": {
     "end_time": "2020-07-18T18:44:12.791138Z",
     "start_time": "2020-07-18T18:44:12.786891Z"
    }
   },
   "outputs": [],
   "source": [
    "from emat.util.distributed import get_client"
   ]
  },
  {
   "cell_type": "code",
   "execution_count": 29,
   "metadata": {
    "ExecuteTime": {
     "end_time": "2020-07-18T18:44:14.368941Z",
     "start_time": "2020-07-18T18:44:12.792536Z"
    }
   },
   "outputs": [
    {
     "data": {
      "application/vnd.jupyter.widget-view+json": {
       "model_id": "1f2f7d30d0b644e2814109a7b87dbcb5",
       "version_major": 2,
       "version_minor": 0
      },
      "text/plain": [
       "ConvergenceMetrics(children=(FigureWidget({\n",
       "    'data': [{'fill': 'tonexty',\n",
       "              'line': {'shape': '…"
      ]
     },
     "metadata": {},
     "output_type": "display_data"
    }
   ],
   "source": [
    "robust_result = model.robust_optimize(\n",
    "    robustness_functions=[\n",
    "        expected_net_benefit,\n",
    "        pct5_net_benefit,\n",
    "        neg_net_benefit,\n",
    "        pct95_cost,\n",
    "        expected_time_savings,\n",
    "    ],\n",
    "    scenarios=250,\n",
    "    nfe=25_000,\n",
    "    check_extremes=1,\n",
    "    evaluator=get_client(),\n",
    "    cache_file='./optimization_cache/road_test_robust_search_v2.gz',\n",
    ")"
   ]
  },
  {
   "cell_type": "code",
   "execution_count": 30,
   "metadata": {
    "ExecuteTime": {
     "end_time": "2020-07-18T18:44:14.664652Z",
     "start_time": "2020-07-18T18:44:14.370749Z"
    }
   },
   "outputs": [
    {
     "data": {
      "application/vnd.jupyter.widget-view+json": {
       "model_id": "43e4a21398b646de8075c9c89a21167e",
       "version_major": 2,
       "version_minor": 0
      },
      "text/plain": [
       "ParCoordsViewer(children=(FigureWidget({\n",
       "    'data': [{'dimensions': [{'label': '(L) Expand Amount',\n",
       "         …"
      ]
     },
     "metadata": {},
     "output_type": "display_data"
    }
   ],
   "source": [
    "robust_result.par_coords()"
   ]
  },
  {
   "cell_type": "code",
   "execution_count": 31,
   "metadata": {
    "ExecuteTime": {
     "end_time": "2020-07-18T18:44:14.669701Z",
     "start_time": "2020-07-18T18:44:14.666131Z"
    }
   },
   "outputs": [
    {
     "data": {
      "text/plain": [
       "Index(['expand_capacity', 'amortization_period', 'debt_type',\n",
       "       'interest_rate_lock', 'Mean Net Benefits', '5%ile Net Benefits',\n",
       "       'Possibility of Negative Net Benefits',\n",
       "       '95%ile Capacity Expansion Cost', 'Expected Time Savings'],\n",
       "      dtype='object')"
      ]
     },
     "execution_count": 31,
     "metadata": {},
     "output_type": "execute_result"
    }
   ],
   "source": [
    "robust_result.result.head().columns"
   ]
  },
  {
   "cell_type": "code",
   "execution_count": 34,
   "metadata": {
    "ExecuteTime": {
     "end_time": "2020-07-18T18:45:57.423657Z",
     "start_time": "2020-07-18T18:45:56.112981Z"
    }
   },
   "outputs": [
    {
     "data": {
      "application/vnd.jupyter.widget-view+json": {
       "model_id": "8eb474b3ef924fb3afb6ec0f159c2ea6",
       "version_major": 2,
       "version_minor": 0
      },
      "text/plain": [
       "FigureWidget({\n",
       "    'data': [{'hovertemplate': ('<b>Mean Net Benefits</b>: %{y}' ... 'tra>Experiment %{meta}</e…"
      ]
     },
     "metadata": {},
     "output_type": "display_data"
    }
   ],
   "source": [
    "robust_result.visualizer.splom(\n",
    "    cols=\"L\",\n",
    "    rows=[\n",
    "        \"Mean Net Benefits\", \n",
    "        \"Possibility of Negative Net Benefits\",\n",
    "        \"Expected Time Savings\",\n",
    "    ]\n",
    ")"
   ]
  },
  {
   "cell_type": "code",
   "execution_count": 33,
   "metadata": {
    "ExecuteTime": {
     "end_time": "2020-07-18T18:44:15.880941Z",
     "start_time": "2020-07-18T18:44:15.553029Z"
    }
   },
   "outputs": [
    {
     "ename": "NameError",
     "evalue": "name 'STOP' is not defined",
     "output_type": "error",
     "traceback": [
      "\u001b[0;31m---------------------------------------------------------------------------\u001b[0m",
      "\u001b[0;31mNameError\u001b[0m                                 Traceback (most recent call last)",
      "\u001b[0;32m<ipython-input-33-ee4decdca3b8>\u001b[0m in \u001b[0;36m<module>\u001b[0;34m\u001b[0m\n\u001b[0;32m----> 1\u001b[0;31m \u001b[0mSTOP\u001b[0m\u001b[0;34m\u001b[0m\u001b[0;34m\u001b[0m\u001b[0m\n\u001b[0m",
      "\u001b[0;31mNameError\u001b[0m: name 'STOP' is not defined"
     ]
    }
   ],
   "source": [
    "STOP"
   ]
  },
  {
   "cell_type": "markdown",
   "metadata": {},
   "source": [
    "### Constraints\n",
    "\n",
    "The robust optimization process can be constrained to only include \n",
    "solutions that satisfy certain constraints. These constraints can \n",
    "be based on the policy lever parameters that are contained in the \n",
    "core model, the aggregate performance measures identified in the \n",
    "list of robustness functions, or some combination of levers and \n",
    "aggregate measures.  Importantly, the constraints *cannot* be imposed \n",
    "on the exogenous uncertainties, nor directly on the output measures \n",
    "from the core models (or the equivalent meta-model). This is because \n",
    "the robust version of the model aggregates a number of individual \n",
    "core model runs, and effectively hides these two components from \n",
    "the optimization engine.  \n",
    "\n",
    "One way to work around this limitation, at least on the output measures, \n",
    "is to write robustness functions that transmit the relevant output \n",
    "measures through the aggregation process. For example, to constrain \n",
    "the robust search only to instances where a particular output measure \n",
    "is always positive, then write a robustness function that takes the \n",
    "*minimum* value of the targeted performance measure, and write a \n",
    "constraint that ensures that the minimum value is always positive.  \n",
    "This approach should be used with caution, however, as it may severely \n",
    "limit the search space.\n",
    "\n",
    "For the road test example, we can define some constraints to consider \n",
    "solutions that are within the limited search space. To do so, we will use the \n",
    "`Constraint` class.  "
   ]
  },
  {
   "cell_type": "code",
   "execution_count": 35,
   "metadata": {
    "ExecuteTime": {
     "end_time": "2020-07-18T18:51:51.755688Z",
     "start_time": "2020-07-18T18:51:51.752676Z"
    }
   },
   "outputs": [],
   "source": [
    "from emat import Constraint"
   ]
  },
  {
   "cell_type": "markdown",
   "metadata": {},
   "source": [
    "Each `Constraint` needs to have a unique name\n",
    "(i.e. not the same as anything else in the scope or any robust\n",
    "measure).  Each `Constraint` is also defined by one or more \n",
    "`parameter_names` and/or `outcome_names`, plus a `function` that will be used to \n",
    "determine whether the constraint is violated.  The `function`\n",
    "should accept positional values for each of the `parameter_names` \n",
    "and `outcome_names`, in order, and return 0 if the constraint is not\n",
    "violated, and a positive number if it is violated.\n",
    "\n",
    "Two convenient class methods are provided within the `Constraint` class:\n",
    "`must_be_less_than` and `must_be_greater_than`, which can simplify\n",
    "the creation and legibility of simple constraints on a single\n",
    "parameter or outcome.  Each take a single argument, the threshold\n",
    "of the constraint."
   ]
  },
  {
   "cell_type": "code",
   "execution_count": 36,
   "metadata": {
    "ExecuteTime": {
     "end_time": "2020-07-18T18:51:52.504363Z",
     "start_time": "2020-07-18T18:51:52.500922Z"
    }
   },
   "outputs": [],
   "source": [
    "c_min_expansion = Constraint(\n",
    "    \"Minimum Capacity Expansion\",\n",
    "    parameter_names=\"expand_capacity\",\n",
    "    function=Constraint.must_be_greater_than(10),\n",
    ")\n",
    "\n",
    "c_positive_mean_net_benefit = Constraint(\n",
    "    \"Minimum Net Benefit\",\n",
    "    outcome_names = \"Mean Net Benefits\",\n",
    "    function = Constraint.must_be_greater_than(0),\n",
    ")"
   ]
  },
  {
   "cell_type": "markdown",
   "metadata": {},
   "source": [
    "It is also possible to impose constraints based on a combination \n",
    "of inputs and outputs. For example, suppose that the total funds \n",
    "available for pay-as-you-go financing are only 3,000. We may thus \n",
    "want to restrict the robust search to only solutions that are almost \n",
    "certainly within the available funds at 99% confidence (a robustness\n",
    "measure that is an output we can construct) \n",
    "but only if the Paygo financing option is used (a model input). \n",
    "This kind of constraint can be created by giving both \n",
    "`parameter_names` and `outcomes_names`, and writing a constraint \n",
    "function that takes two arguments."
   ]
  },
  {
   "cell_type": "code",
   "execution_count": 37,
   "metadata": {
    "ExecuteTime": {
     "end_time": "2020-07-18T18:51:53.331324Z",
     "start_time": "2020-07-18T18:51:53.327568Z"
    }
   },
   "outputs": [],
   "source": [
    "pct99_present_cost = Measure(\n",
    "    '99%ile Present Cost',\n",
    "    kind=Measure.INFO,\n",
    "    variable_name='present_cost_expansion',\n",
    "    function=functools.partial(numpy.percentile, q=99),\n",
    ")\n",
    "\n",
    "c_max_paygo = Constraint(\n",
    "    \"Maximum Paygo\",\n",
    "    parameter_names='debt_type',\n",
    "    outcome_names='99%ile Present Cost',\n",
    "    function=lambda i,j: max(0, j-3000) if i=='Paygo' else 0,\n",
    ")"
   ]
  },
  {
   "cell_type": "markdown",
   "metadata": {},
   "source": [
    "The constraints are then passed to the `robust_optimize` method in addition to the \n",
    "other arguments."
   ]
  },
  {
   "cell_type": "code",
   "execution_count": 38,
   "metadata": {
    "ExecuteTime": {
     "end_time": "2020-07-18T18:59:25.284137Z",
     "start_time": "2020-07-18T18:52:05.169201Z"
    }
   },
   "outputs": [
    {
     "data": {
      "application/vnd.jupyter.widget-view+json": {
       "model_id": "2774dbf36d7045b9948a59c79331808d",
       "version_major": 2,
       "version_minor": 0
      },
      "text/plain": [
       "ConvergenceMetrics(children=(FigureWidget({\n",
       "    'data': [{'fill': 'tonexty',\n",
       "              'line': {'shape': '…"
      ]
     },
     "metadata": {},
     "output_type": "display_data"
    }
   ],
   "source": [
    "robust_constrained = model.robust_optimize(\n",
    "    robustness_functions=[\n",
    "        expected_net_benefit,\n",
    "        pct5_net_benefit,\n",
    "        neg_net_benefit,\n",
    "        pct95_cost,\n",
    "        expected_time_savings,\n",
    "        pct99_present_cost,\n",
    "    ],\n",
    "    constraints = [\n",
    "        c_min_expansion, \n",
    "        c_positive_mean_net_benefit, \n",
    "        c_max_paygo,\n",
    "    ],\n",
    "    scenarios=250,\n",
    "    nfe=10_000,\n",
    "    check_extremes=1,\n",
    "    evaluator=get_client(),\n",
    "    cache_file='./optimization_cache/road_test_robust_search_constrained_v2.gz',\n",
    ")"
   ]
  },
  {
   "cell_type": "code",
   "execution_count": null,
   "metadata": {
    "ExecuteTime": {
     "end_time": "2020-07-18T18:44:15.887386Z",
     "start_time": "2020-07-18T18:43:54.128Z"
    }
   },
   "outputs": [],
   "source": [
    "robust_constrained.par_coords()"
   ]
  },
  {
   "cell_type": "code",
   "execution_count": null,
   "metadata": {},
   "outputs": [],
   "source": []
  }
 ],
 "metadata": {
  "jupytext": {
   "cell_metadata_json": true,
   "encoding": "# -*- coding: utf-8 -*-",
   "formats": "ipynb,py:percent"
  },
  "kernelspec": {
   "display_name": "Python 3",
   "language": "python",
   "name": "python3"
  },
  "language_info": {
   "codemirror_mode": {
    "name": "ipython",
    "version": 3
   },
   "file_extension": ".py",
   "mimetype": "text/x-python",
   "name": "python",
   "nbconvert_exporter": "python",
   "pygments_lexer": "ipython3",
   "version": "3.7.6"
  },
  "toc": {
   "base_numbering": 1,
   "nav_menu": {},
   "number_sections": true,
   "sideBar": true,
   "skip_h1_title": false,
   "title_cell": "Table of Contents",
   "title_sidebar": "Contents",
   "toc_cell": false,
   "toc_position": {},
   "toc_section_display": true,
   "toc_window_display": false
  },
  "widgets": {
   "application/vnd.jupyter.widget-state+json": {
    "state": {
     "00670da9c51547d7b3c9a93f09dd859b": {
      "model_module": "@jupyter-widgets/controls",
      "model_module_version": "1.5.0",
      "model_name": "CheckboxModel",
      "state": {
       "description": "(M+) value_of_time_savings",
       "description_tooltip": "value_of_time_savings",
       "disabled": false,
       "layout": "IPY_MODEL_9ce630e8a2e645109f0ca0ae3d3eb8d9",
       "name": "value_of_time_savings",
       "style": "IPY_MODEL_20b5a1f858a64fcea66c0c2f71417d5c",
       "value": true
      }
     },
     "01fd8ab1163542d18a899d13a605a873": {
      "model_module": "@jupyter-widgets/base",
      "model_module_version": "1.2.0",
      "model_name": "LayoutModel",
      "state": {}
     },
     "021f06b87188454e8858f31e0e74a137": {
      "model_module": "@jupyter-widgets/controls",
      "model_module_version": "1.5.0",
      "model_name": "AccordionModel",
      "state": {
       "_titles": {
        "0": "Axes"
       },
       "children": [
        "IPY_MODEL_42f57280158e48d98a2134a50dead33f"
       ],
       "layout": "IPY_MODEL_6fa65a79301e45a1bd8a6e525f771e2c",
       "selected_index": null
      }
     },
     "03fd575257d348e5a290e5a4fdb19186": {
      "model_module": "@jupyter-widgets/base",
      "model_module_version": "1.2.0",
      "model_name": "LayoutModel",
      "state": {}
     },
     "04a63dc5c25a4a0b91bb0be3856a6fa0": {
      "model_module": "@jupyter-widgets/base",
      "model_module_version": "1.2.0",
      "model_name": "LayoutModel",
      "state": {}
     },
     "04c9a8144efe4a1d921d566441f9b0f3": {
      "model_module": "@jupyter-widgets/controls",
      "model_module_version": "1.5.0",
      "model_name": "CheckboxModel",
      "state": {
       "description": "(L) expand_capacity",
       "description_tooltip": "expand_capacity",
       "disabled": false,
       "layout": "IPY_MODEL_e76af495be0e479391ee5f210eff72cb",
       "name": "expand_capacity",
       "style": "IPY_MODEL_f9a34703e02d4e9387654ffaca372de1",
       "value": true
      }
     },
     "06ff94974b7a4cd2a1f9c9bb8a07cceb": {
      "model_module": "@jupyter-widgets/controls",
      "model_module_version": "1.5.0",
      "model_name": "AccordionModel",
      "state": {
       "_titles": {
        "0": "Axes"
       },
       "children": [
        "IPY_MODEL_6b3b63f16a0148a1b1a450396e64bff0"
       ],
       "layout": "IPY_MODEL_ee696c786fe3483db564c3df74693fcc",
       "selected_index": null
      }
     },
     "0a17c422187445b6b805e87042f66bc5": {
      "model_module": "@jupyter-widgets/controls",
      "model_module_version": "1.5.0",
      "model_name": "HTMLModel",
      "state": {
       "layout": "IPY_MODEL_ebb14c33449e4466baa6f19524f7b8e3",
       "style": "IPY_MODEL_ce045043e09e41b69e89e12735c5bf38",
       "value": "\n\t\t\t(M-) Performance Measure to Minimize<br>\n\t\t\t(M+) Performance Measure to Maximize<br>\n\t\t\t(M) Performance Measure without preferred direction<br>\n\t\t\t(L) Policy Lever<br>\n\t\t\t(X) Exogenous Uncertainty\n\t\t"
      }
     },
     "0a3b235a7e8444a48453d3f450cb53f1": {
      "model_module": "@jupyter-widgets/controls",
      "model_module_version": "1.5.0",
      "model_name": "CheckboxModel",
      "state": {
       "description": "(M+) 5%ile Net Benefits",
       "description_tooltip": "5%ile Net Benefits",
       "disabled": false,
       "layout": "IPY_MODEL_2fafe1f1cf204fffb48184c89974ec75",
       "name": "5%ile Net Benefits",
       "style": "IPY_MODEL_36851441db9244be81812bb646b7c94f",
       "value": true
      }
     },
     "0a8823e7d5bf4420bf0627e3eb119e59": {
      "model_module": "@jupyter-widgets/output",
      "model_module_version": "1.0.0",
      "model_name": "OutputModel",
      "state": {
       "layout": "IPY_MODEL_6e97fc74149349b2864b383229377f32"
      }
     },
     "0ade3ffaddfa40638938fc42a2025dba": {
      "model_module": "@jupyter-widgets/controls",
      "model_module_version": "1.5.0",
      "model_name": "CheckboxModel",
      "state": {
       "description": "(X) value_of_time",
       "description_tooltip": "value_of_time",
       "disabled": false,
       "layout": "IPY_MODEL_77d75435d61a4cd89ae5511b02a70f5a",
       "name": "value_of_time",
       "style": "IPY_MODEL_4dc8bf5c55004ed2b82b8aee9ed938c9",
       "value": true
      }
     },
     "0ce38c3a2f1b4b1184f24566fce3fee7": {
      "model_module": "@jupyter-widgets/base",
      "model_module_version": "1.2.0",
      "model_name": "LayoutModel",
      "state": {
       "flex_flow": "row wrap"
      }
     },
     "0e0294da27b84fe9a8f8f475fec05e86": {
      "model_module": "@jupyter-widgets/controls",
      "model_module_version": "1.5.0",
      "model_name": "CheckboxModel",
      "state": {
       "description": "(L) amortization_period",
       "description_tooltip": "amortization_period",
       "disabled": false,
       "layout": "IPY_MODEL_5a9bbf884a444764990af34c5b1c2f52",
       "name": "amortization_period",
       "style": "IPY_MODEL_ad65791d093b4584b00180b5f0b615e6",
       "value": true
      }
     },
     "0e5a0fb2ddfa4eec8f38d6761a0389b8": {
      "model_module": "@jupyter-widgets/controls",
      "model_module_version": "1.5.0",
      "model_name": "HBoxModel",
      "state": {
       "children": [
        "IPY_MODEL_9dd6205ad5e044d094786b6b2383596d",
        "IPY_MODEL_8568c483500e4c27afe98063b1f6030c"
       ],
       "layout": "IPY_MODEL_fd39799f1224481eba7d0ca8f28f514b"
      }
     },
     "0ea4eccae9dc4753a9041ef4616da723": {
      "model_module": "@jupyter-widgets/base",
      "model_module_version": "1.2.0",
      "model_name": "LayoutModel",
      "state": {}
     },
     "0ef5d22bf9574c8283b1ab019dbad150": {
      "model_module": "@jupyter-widgets/controls",
      "model_module_version": "1.5.0",
      "model_name": "DescriptionStyleModel",
      "state": {
       "description_width": ""
      }
     },
     "0efe347d7f2340de8794eddfd12f9a2f": {
      "model_module": "@jupyter-widgets/controls",
      "model_module_version": "1.5.0",
      "model_name": "DescriptionStyleModel",
      "state": {
       "description_width": ""
      }
     },
     "0f5bf3b09ba54ac78707017e166b2575": {
      "model_module": "@jupyter-widgets/controls",
      "model_module_version": "1.5.0",
      "model_name": "CheckboxModel",
      "state": {
       "description": "(L) interest_rate_lock",
       "description_tooltip": "interest_rate_lock",
       "disabled": false,
       "layout": "IPY_MODEL_bfa1002fe01642dea649e4035f58766c",
       "name": "interest_rate_lock",
       "style": "IPY_MODEL_c0b946a5bf1e47c787a201f05349ca20",
       "value": true
      }
     },
     "13f98d58ca4343088270ef0a9c2e93b9": {
      "model_module": "@jupyter-widgets/base",
      "model_module_version": "1.2.0",
      "model_name": "LayoutModel",
      "state": {
       "align_items": "center"
      }
     },
     "13fa504708514ccc92f91516b65b7f22": {
      "model_module": "@jupyter-widgets/controls",
      "model_module_version": "1.5.0",
      "model_name": "CheckboxModel",
      "state": {
       "description": "(X) alpha",
       "description_tooltip": "alpha",
       "disabled": false,
       "layout": "IPY_MODEL_d0975311ab494221ba29da7de8cb386b",
       "name": "alpha",
       "style": "IPY_MODEL_7092ff51a7c64c6eac567469f43e1fd9",
       "value": true
      }
     },
     "15ba41c21405493fbbfb03cdc293271e": {
      "model_module": "plotlywidget",
      "model_module_version": "^1.2.0",
      "model_name": "FigureModel",
      "state": {
       "_config": {
        "plotlyServerURL": "https://plot.ly"
       },
       "_data": [
        {
         "fill": "tonexty",
         "line": {
          "shape": "linear"
         },
         "mode": "lines+markers",
         "name": "",
         "type": "scatter",
         "uid": "f3a8ed98-907b-44ef-be25-c0c2f89d9db8",
         "x": [
          0,
          100,
          200,
          300,
          400,
          500,
          600,
          700,
          800,
          900,
          1000,
          1100,
          1200,
          1300,
          1400,
          1500,
          1600,
          1700,
          1800,
          1900,
          2000,
          2100,
          2200,
          2300,
          2400,
          2500,
          2600,
          2700,
          2800,
          2900,
          3000,
          3100,
          3200,
          3300,
          3400,
          3500,
          3600,
          3700,
          3800,
          3900,
          4000,
          4100,
          4200,
          4300,
          4400,
          4500,
          4600,
          4700,
          4800,
          4900,
          5000,
          5100,
          5200,
          5300,
          5400,
          5500,
          5600,
          5700,
          5800,
          5900,
          6000,
          6100,
          6200,
          6300,
          6400,
          6500,
          6600,
          6700,
          6800,
          6900,
          7000,
          7100,
          7200,
          7300,
          7400,
          7500,
          7600,
          7700,
          7800,
          7900,
          8000,
          8100,
          8200,
          8300,
          8400,
          8500,
          8600,
          8700,
          8800,
          8900,
          9000,
          9100,
          9200,
          9300,
          9400,
          9500,
          9600,
          9700,
          9800,
          9900,
          10000,
          10120,
          10280,
          10440,
          10600,
          10760,
          10920,
          11080,
          11240,
          11400,
          11560,
          11720,
          11880,
          12040,
          12200,
          12360,
          12520,
          12680,
          12840,
          13000,
          13160,
          13320,
          13480,
          13640,
          13800,
          13960,
          14120,
          14280,
          14440,
          14600,
          14760,
          14920,
          15080,
          15240,
          15400,
          15560,
          15720,
          15880,
          16040,
          16200,
          16360,
          16520,
          16680,
          16840,
          17000,
          17160,
          17320,
          17480,
          17640,
          17800,
          17960,
          18120,
          18280,
          18440,
          18600,
          18760,
          18920,
          19080,
          19240,
          19400,
          19560,
          19720,
          19880,
          20040,
          20200,
          20360,
          20520,
          20680,
          20840,
          21000,
          21160,
          21320,
          21480,
          21640,
          21800,
          21960,
          22120,
          22280,
          22440,
          22600,
          22760,
          22920,
          23080,
          23240,
          23400,
          23560,
          23720,
          23880,
          24040,
          24200,
          24360,
          24520,
          24680,
          24840
         ],
         "y": [
          0,
          16,
          22,
          22,
          23,
          23,
          24,
          26,
          26,
          26,
          28,
          27,
          27,
          28,
          28,
          29,
          29,
          30,
          30,
          31,
          31,
          32,
          33,
          34,
          34,
          33,
          33,
          34,
          34,
          34,
          33,
          33,
          33,
          33,
          33,
          33,
          33,
          33,
          33,
          34,
          34,
          34,
          34,
          34,
          35,
          35,
          35,
          36,
          36,
          36,
          36,
          36,
          36,
          36,
          36,
          36,
          36,
          36,
          36,
          36,
          36,
          36,
          36,
          37,
          38,
          38,
          38,
          38,
          38,
          38,
          38,
          38,
          38,
          39,
          39,
          39,
          39,
          39,
          38,
          38,
          38,
          38,
          38,
          39,
          40,
          40,
          40,
          40,
          40,
          40,
          40,
          40,
          40,
          40,
          40,
          40,
          40,
          40,
          40,
          40,
          40,
          43,
          44,
          43,
          43,
          44,
          44,
          44,
          44,
          44,
          46,
          47,
          48,
          48,
          48,
          48,
          48,
          48,
          48,
          48,
          48,
          48,
          48,
          48,
          48,
          48,
          48,
          48,
          48,
          48,
          48,
          48,
          48,
          49,
          49,
          49,
          49,
          49,
          49,
          49,
          49,
          49,
          49,
          49,
          50,
          50,
          50,
          50,
          50,
          50,
          50,
          50,
          50,
          50,
          50,
          51,
          51,
          51,
          51,
          51,
          51,
          51,
          51,
          51,
          50,
          50,
          50,
          50,
          51,
          51,
          51,
          51,
          51,
          51,
          51,
          51,
          51,
          51,
          51,
          51,
          52,
          52,
          52,
          52,
          52,
          52,
          52,
          52,
          52,
          52,
          52,
          52,
          52,
          52
         ]
        }
       ],
       "_js2py_pointsCallback": {},
       "_js2py_relayout": {},
       "_js2py_restyle": {},
       "_js2py_update": {},
       "_last_layout_edit_id": 4,
       "_last_trace_edit_id": 1,
       "_layout": {
        "height": 240,
        "hovermode": "closest",
        "margin": {
         "b": 15,
         "l": 15,
         "r": 15,
         "t": 40
        },
        "showlegend": false,
        "template": {
         "data": {
          "bar": [
           {
            "error_x": {
             "color": "#2a3f5f"
            },
            "error_y": {
             "color": "#2a3f5f"
            },
            "marker": {
             "line": {
              "color": "#E5ECF6",
              "width": 0.5
             }
            },
            "type": "bar"
           }
          ],
          "barpolar": [
           {
            "marker": {
             "line": {
              "color": "#E5ECF6",
              "width": 0.5
             }
            },
            "type": "barpolar"
           }
          ],
          "carpet": [
           {
            "aaxis": {
             "endlinecolor": "#2a3f5f",
             "gridcolor": "white",
             "linecolor": "white",
             "minorgridcolor": "white",
             "startlinecolor": "#2a3f5f"
            },
            "baxis": {
             "endlinecolor": "#2a3f5f",
             "gridcolor": "white",
             "linecolor": "white",
             "minorgridcolor": "white",
             "startlinecolor": "#2a3f5f"
            },
            "type": "carpet"
           }
          ],
          "choropleth": [
           {
            "colorbar": {
             "outlinewidth": 0,
             "ticks": ""
            },
            "type": "choropleth"
           }
          ],
          "contour": [
           {
            "colorbar": {
             "outlinewidth": 0,
             "ticks": ""
            },
            "colorscale": [
             [
              0,
              "#0d0887"
             ],
             [
              0.1111111111111111,
              "#46039f"
             ],
             [
              0.2222222222222222,
              "#7201a8"
             ],
             [
              0.3333333333333333,
              "#9c179e"
             ],
             [
              0.4444444444444444,
              "#bd3786"
             ],
             [
              0.5555555555555556,
              "#d8576b"
             ],
             [
              0.6666666666666666,
              "#ed7953"
             ],
             [
              0.7777777777777778,
              "#fb9f3a"
             ],
             [
              0.8888888888888888,
              "#fdca26"
             ],
             [
              1,
              "#f0f921"
             ]
            ],
            "type": "contour"
           }
          ],
          "contourcarpet": [
           {
            "colorbar": {
             "outlinewidth": 0,
             "ticks": ""
            },
            "type": "contourcarpet"
           }
          ],
          "heatmap": [
           {
            "colorbar": {
             "outlinewidth": 0,
             "ticks": ""
            },
            "colorscale": [
             [
              0,
              "#0d0887"
             ],
             [
              0.1111111111111111,
              "#46039f"
             ],
             [
              0.2222222222222222,
              "#7201a8"
             ],
             [
              0.3333333333333333,
              "#9c179e"
             ],
             [
              0.4444444444444444,
              "#bd3786"
             ],
             [
              0.5555555555555556,
              "#d8576b"
             ],
             [
              0.6666666666666666,
              "#ed7953"
             ],
             [
              0.7777777777777778,
              "#fb9f3a"
             ],
             [
              0.8888888888888888,
              "#fdca26"
             ],
             [
              1,
              "#f0f921"
             ]
            ],
            "type": "heatmap"
           }
          ],
          "heatmapgl": [
           {
            "colorbar": {
             "outlinewidth": 0,
             "ticks": ""
            },
            "colorscale": [
             [
              0,
              "#0d0887"
             ],
             [
              0.1111111111111111,
              "#46039f"
             ],
             [
              0.2222222222222222,
              "#7201a8"
             ],
             [
              0.3333333333333333,
              "#9c179e"
             ],
             [
              0.4444444444444444,
              "#bd3786"
             ],
             [
              0.5555555555555556,
              "#d8576b"
             ],
             [
              0.6666666666666666,
              "#ed7953"
             ],
             [
              0.7777777777777778,
              "#fb9f3a"
             ],
             [
              0.8888888888888888,
              "#fdca26"
             ],
             [
              1,
              "#f0f921"
             ]
            ],
            "type": "heatmapgl"
           }
          ],
          "histogram": [
           {
            "marker": {
             "colorbar": {
              "outlinewidth": 0,
              "ticks": ""
             }
            },
            "type": "histogram"
           }
          ],
          "histogram2d": [
           {
            "colorbar": {
             "outlinewidth": 0,
             "ticks": ""
            },
            "colorscale": [
             [
              0,
              "#0d0887"
             ],
             [
              0.1111111111111111,
              "#46039f"
             ],
             [
              0.2222222222222222,
              "#7201a8"
             ],
             [
              0.3333333333333333,
              "#9c179e"
             ],
             [
              0.4444444444444444,
              "#bd3786"
             ],
             [
              0.5555555555555556,
              "#d8576b"
             ],
             [
              0.6666666666666666,
              "#ed7953"
             ],
             [
              0.7777777777777778,
              "#fb9f3a"
             ],
             [
              0.8888888888888888,
              "#fdca26"
             ],
             [
              1,
              "#f0f921"
             ]
            ],
            "type": "histogram2d"
           }
          ],
          "histogram2dcontour": [
           {
            "colorbar": {
             "outlinewidth": 0,
             "ticks": ""
            },
            "colorscale": [
             [
              0,
              "#0d0887"
             ],
             [
              0.1111111111111111,
              "#46039f"
             ],
             [
              0.2222222222222222,
              "#7201a8"
             ],
             [
              0.3333333333333333,
              "#9c179e"
             ],
             [
              0.4444444444444444,
              "#bd3786"
             ],
             [
              0.5555555555555556,
              "#d8576b"
             ],
             [
              0.6666666666666666,
              "#ed7953"
             ],
             [
              0.7777777777777778,
              "#fb9f3a"
             ],
             [
              0.8888888888888888,
              "#fdca26"
             ],
             [
              1,
              "#f0f921"
             ]
            ],
            "type": "histogram2dcontour"
           }
          ],
          "mesh3d": [
           {
            "colorbar": {
             "outlinewidth": 0,
             "ticks": ""
            },
            "type": "mesh3d"
           }
          ],
          "parcoords": [
           {
            "line": {
             "colorbar": {
              "outlinewidth": 0,
              "ticks": ""
             }
            },
            "type": "parcoords"
           }
          ],
          "scatter": [
           {
            "marker": {
             "colorbar": {
              "outlinewidth": 0,
              "ticks": ""
             }
            },
            "type": "scatter"
           }
          ],
          "scatter3d": [
           {
            "line": {
             "colorbar": {
              "outlinewidth": 0,
              "ticks": ""
             }
            },
            "marker": {
             "colorbar": {
              "outlinewidth": 0,
              "ticks": ""
             }
            },
            "type": "scatter3d"
           }
          ],
          "scattercarpet": [
           {
            "marker": {
             "colorbar": {
              "outlinewidth": 0,
              "ticks": ""
             }
            },
            "type": "scattercarpet"
           }
          ],
          "scattergeo": [
           {
            "marker": {
             "colorbar": {
              "outlinewidth": 0,
              "ticks": ""
             }
            },
            "type": "scattergeo"
           }
          ],
          "scattergl": [
           {
            "marker": {
             "colorbar": {
              "outlinewidth": 0,
              "ticks": ""
             }
            },
            "type": "scattergl"
           }
          ],
          "scattermapbox": [
           {
            "marker": {
             "colorbar": {
              "outlinewidth": 0,
              "ticks": ""
             }
            },
            "type": "scattermapbox"
           }
          ],
          "scatterpolar": [
           {
            "marker": {
             "colorbar": {
              "outlinewidth": 0,
              "ticks": ""
             }
            },
            "type": "scatterpolar"
           }
          ],
          "scatterpolargl": [
           {
            "marker": {
             "colorbar": {
              "outlinewidth": 0,
              "ticks": ""
             }
            },
            "type": "scatterpolargl"
           }
          ],
          "scatterternary": [
           {
            "marker": {
             "colorbar": {
              "outlinewidth": 0,
              "ticks": ""
             }
            },
            "type": "scatterternary"
           }
          ],
          "surface": [
           {
            "colorbar": {
             "outlinewidth": 0,
             "ticks": ""
            },
            "colorscale": [
             [
              0,
              "#0d0887"
             ],
             [
              0.1111111111111111,
              "#46039f"
             ],
             [
              0.2222222222222222,
              "#7201a8"
             ],
             [
              0.3333333333333333,
              "#9c179e"
             ],
             [
              0.4444444444444444,
              "#bd3786"
             ],
             [
              0.5555555555555556,
              "#d8576b"
             ],
             [
              0.6666666666666666,
              "#ed7953"
             ],
             [
              0.7777777777777778,
              "#fb9f3a"
             ],
             [
              0.8888888888888888,
              "#fdca26"
             ],
             [
              1,
              "#f0f921"
             ]
            ],
            "type": "surface"
           }
          ],
          "table": [
           {
            "cells": {
             "fill": {
              "color": "#EBF0F8"
             },
             "line": {
              "color": "white"
             }
            },
            "header": {
             "fill": {
              "color": "#C8D4E3"
             },
             "line": {
              "color": "white"
             }
            },
            "type": "table"
           }
          ]
         },
         "layout": {
          "annotationdefaults": {
           "arrowcolor": "#2a3f5f",
           "arrowhead": 0,
           "arrowwidth": 1
          },
          "colorscale": {
           "diverging": [
            [
             0,
             "#8e0152"
            ],
            [
             0.1,
             "#c51b7d"
            ],
            [
             0.2,
             "#de77ae"
            ],
            [
             0.3,
             "#f1b6da"
            ],
            [
             0.4,
             "#fde0ef"
            ],
            [
             0.5,
             "#f7f7f7"
            ],
            [
             0.6,
             "#e6f5d0"
            ],
            [
             0.7,
             "#b8e186"
            ],
            [
             0.8,
             "#7fbc41"
            ],
            [
             0.9,
             "#4d9221"
            ],
            [
             1,
             "#276419"
            ]
           ],
           "sequential": [
            [
             0,
             "#0d0887"
            ],
            [
             0.1111111111111111,
             "#46039f"
            ],
            [
             0.2222222222222222,
             "#7201a8"
            ],
            [
             0.3333333333333333,
             "#9c179e"
            ],
            [
             0.4444444444444444,
             "#bd3786"
            ],
            [
             0.5555555555555556,
             "#d8576b"
            ],
            [
             0.6666666666666666,
             "#ed7953"
            ],
            [
             0.7777777777777778,
             "#fb9f3a"
            ],
            [
             0.8888888888888888,
             "#fdca26"
            ],
            [
             1,
             "#f0f921"
            ]
           ],
           "sequentialminus": [
            [
             0,
             "#0d0887"
            ],
            [
             0.1111111111111111,
             "#46039f"
            ],
            [
             0.2222222222222222,
             "#7201a8"
            ],
            [
             0.3333333333333333,
             "#9c179e"
            ],
            [
             0.4444444444444444,
             "#bd3786"
            ],
            [
             0.5555555555555556,
             "#d8576b"
            ],
            [
             0.6666666666666666,
             "#ed7953"
            ],
            [
             0.7777777777777778,
             "#fb9f3a"
            ],
            [
             0.8888888888888888,
             "#fdca26"
            ],
            [
             1,
             "#f0f921"
            ]
           ]
          },
          "colorway": [
           "#636efa",
           "#EF553B",
           "#00cc96",
           "#ab63fa",
           "#FFA15A",
           "#19d3f3",
           "#FF6692",
           "#B6E880",
           "#FF97FF",
           "#FECB52"
          ],
          "font": {
           "color": "#2a3f5f"
          },
          "geo": {
           "bgcolor": "white",
           "lakecolor": "white",
           "landcolor": "#E5ECF6",
           "showlakes": true,
           "showland": true,
           "subunitcolor": "white"
          },
          "hoverlabel": {
           "align": "left"
          },
          "hovermode": "closest",
          "mapbox": {
           "style": "light"
          },
          "paper_bgcolor": "white",
          "plot_bgcolor": "#E5ECF6",
          "polar": {
           "angularaxis": {
            "gridcolor": "white",
            "linecolor": "white",
            "ticks": ""
           },
           "bgcolor": "#E5ECF6",
           "radialaxis": {
            "gridcolor": "white",
            "linecolor": "white",
            "ticks": ""
           }
          },
          "scene": {
           "xaxis": {
            "backgroundcolor": "#E5ECF6",
            "gridcolor": "white",
            "gridwidth": 2,
            "linecolor": "white",
            "showbackground": true,
            "ticks": "",
            "zerolinecolor": "white"
           },
           "yaxis": {
            "backgroundcolor": "#E5ECF6",
            "gridcolor": "white",
            "gridwidth": 2,
            "linecolor": "white",
            "showbackground": true,
            "ticks": "",
            "zerolinecolor": "white"
           },
           "zaxis": {
            "backgroundcolor": "#E5ECF6",
            "gridcolor": "white",
            "gridwidth": 2,
            "linecolor": "white",
            "showbackground": true,
            "ticks": "",
            "zerolinecolor": "white"
           }
          },
          "shapedefaults": {
           "line": {
            "color": "#2a3f5f"
           }
          },
          "ternary": {
           "aaxis": {
            "gridcolor": "white",
            "linecolor": "white",
            "ticks": ""
           },
           "baxis": {
            "gridcolor": "white",
            "linecolor": "white",
            "ticks": ""
           },
           "bgcolor": "#E5ECF6",
           "caxis": {
            "gridcolor": "white",
            "linecolor": "white",
            "ticks": ""
           }
          },
          "title": {
           "x": 0.05
          },
          "xaxis": {
           "automargin": true,
           "gridcolor": "white",
           "linecolor": "white",
           "ticks": "",
           "zerolinecolor": "white",
           "zerolinewidth": 2
          },
          "yaxis": {
           "automargin": true,
           "gridcolor": "white",
           "linecolor": "white",
           "ticks": "",
           "zerolinecolor": "white",
           "zerolinewidth": 2
          }
         }
        },
        "title": {
         "text": "Number of Solutions"
        },
        "width": 340
       },
       "_py2js_addTraces": {},
       "_py2js_animate": {},
       "_py2js_deleteTraces": {},
       "_py2js_moveTraces": {},
       "_py2js_removeLayoutProps": {},
       "_py2js_removeTraceProps": {},
       "_py2js_restyle": {},
       "_view_count": 1
      }
     },
     "15bef01d15344dc7ba4897920827a8c3": {
      "model_module": "@jupyter-widgets/controls",
      "model_module_version": "1.5.0",
      "model_name": "DescriptionStyleModel",
      "state": {
       "description_width": ""
      }
     },
     "1635fb90176b4e7582163420ff3bb411": {
      "model_module": "@jupyter-widgets/base",
      "model_module_version": "1.2.0",
      "model_name": "LayoutModel",
      "state": {}
     },
     "168aeb871bc840659370b24926003f5a": {
      "model_module": "@jupyter-widgets/base",
      "model_module_version": "1.2.0",
      "model_name": "LayoutModel",
      "state": {}
     },
     "16b00c54f33d4d77bd9ce466126596a4": {
      "model_module": "@jupyter-widgets/controls",
      "model_module_version": "1.5.0",
      "model_name": "CheckboxModel",
      "state": {
       "description": "(M+) time_savings",
       "description_tooltip": "time_savings",
       "disabled": false,
       "layout": "IPY_MODEL_f5b0fe49e30e4b01aac5f2c1828a723f",
       "name": "time_savings",
       "style": "IPY_MODEL_5fc14d3bf27b47b48368a1c4566e1dcf",
       "value": true
      }
     },
     "18e3a018bcfe4c0d9a65165662f62e79": {
      "model_module": "@jupyter-widgets/controls",
      "model_module_version": "1.5.0",
      "model_name": "CheckboxModel",
      "state": {
       "description": "(M+) time_savings",
       "description_tooltip": "time_savings",
       "disabled": false,
       "layout": "IPY_MODEL_1635fb90176b4e7582163420ff3bb411",
       "name": "time_savings",
       "style": "IPY_MODEL_936f089a83424397b601b17cb6abc2b1",
       "value": true
      }
     },
     "19d7f98f71154d6580522c462875db01": {
      "model_module": "@jupyter-widgets/base",
      "model_module_version": "1.2.0",
      "model_name": "LayoutModel",
      "state": {}
     },
     "19e3e51664b946cc8999a2509fdfab8c": {
      "model_module": "@jupyter-widgets/controls",
      "model_module_version": "1.5.0",
      "model_name": "CheckboxModel",
      "state": {
       "description": "(L) debt_type",
       "description_tooltip": "debt_type",
       "disabled": false,
       "layout": "IPY_MODEL_01fd8ab1163542d18a899d13a605a873",
       "name": "debt_type",
       "style": "IPY_MODEL_ff5ff70fcad34429b7a15fee63ae1320",
       "value": true
      }
     },
     "1be8c7a5ddf3437a92581c01955085f4": {
      "model_module": "@jupyter-widgets/base",
      "model_module_version": "1.2.0",
      "model_name": "LayoutModel",
      "state": {}
     },
     "1c8b9670625c40f080919fb4083f03a5": {
      "model_module": "@jupyter-widgets/base",
      "model_module_version": "1.2.0",
      "model_name": "LayoutModel",
      "state": {
       "align_items": "center"
      }
     },
     "20b5a1f858a64fcea66c0c2f71417d5c": {
      "model_module": "@jupyter-widgets/controls",
      "model_module_version": "1.5.0",
      "model_name": "DescriptionStyleModel",
      "state": {
       "description_width": ""
      }
     },
     "21bcc2673c504a70a44611b5574511f0": {
      "model_module": "@jupyter-widgets/base",
      "model_module_version": "1.2.0",
      "model_name": "LayoutModel",
      "state": {
       "flex_flow": "row wrap"
      }
     },
     "21fba651301b4e919983744d63d657c6": {
      "model_module": "@jupyter-widgets/controls",
      "model_module_version": "1.5.0",
      "model_name": "DropdownModel",
      "state": {
       "_options_labels": [
        " ",
        "   Clear Selection Constraints",
        "-- (X) Uncertainties --",
        "   Show All Exogenous Uncertainties",
        "   Hide All Exogenous Uncertainties",
        "-- (L) Levers --",
        "   Show All Policy Levers",
        "   Hide All Policy Levers",
        "-- (M) Measures --",
        "   Show All Performance Measures",
        "   Hide All Performance Measures"
       ],
       "description": "View:",
       "index": 0,
       "layout": "IPY_MODEL_5d75873599004c7ea814536860bbdf82",
       "style": "IPY_MODEL_b934ee196581485a8eb2552a61437043"
      }
     },
     "23b2853209264a1aad824efa675cf39c": {
      "model_module": "@jupyter-widgets/controls",
      "model_module_version": "1.5.0",
      "model_name": "CheckboxModel",
      "state": {
       "description": "(L) debt_type",
       "description_tooltip": "debt_type",
       "disabled": false,
       "layout": "IPY_MODEL_f1efc27ddcf448e2a6bc4e5e85de11e4",
       "name": "debt_type",
       "style": "IPY_MODEL_fb4c6ec0f1be441fa8abeead54f1c7be",
       "value": true
      }
     },
     "26aeb94c1deb460ea6ea885dc0373176": {
      "model_module": "@jupyter-widgets/base",
      "model_module_version": "1.2.0",
      "model_name": "LayoutModel",
      "state": {}
     },
     "280dea1374eb4ffe89f56053d84cd7dd": {
      "model_module": "@jupyter-widgets/controls",
      "model_module_version": "1.5.0",
      "model_name": "CheckboxModel",
      "state": {
       "description": "(M-) 95%ile Capacity Expansion Cost",
       "description_tooltip": "95%ile Capacity Expansion Cost",
       "disabled": false,
       "layout": "IPY_MODEL_2ce6b2f1ca2b43cf859c68b583c5a5cc",
       "name": "95%ile Capacity Expansion Cost",
       "style": "IPY_MODEL_70c774bd7772495fa9b5e0f2d29864e8",
       "value": true
      }
     },
     "28c978122bf94e6e90925e4de5ef2188": {
      "model_module": "@jupyter-widgets/controls",
      "model_module_version": "1.5.0",
      "model_name": "CheckboxModel",
      "state": {
       "description": "(M-) build_travel_time",
       "description_tooltip": "build_travel_time",
       "disabled": false,
       "layout": "IPY_MODEL_72a9b6f161724c11bbbd82e623c6c35d",
       "name": "build_travel_time",
       "style": "IPY_MODEL_c8a65d956a64408489c49bece93b2c8b",
       "value": true
      }
     },
     "2bcabe8839a3499d950881c24da8d9ac": {
      "model_module": "plotlywidget",
      "model_module_version": "^1.2.0",
      "model_name": "FigureModel",
      "state": {
       "_config": {
        "plotlyServerURL": "https://plot.ly"
       },
       "_data": [
        {
         "fill": "tonexty",
         "line": {
          "shape": "linear"
         },
         "mode": "lines+markers",
         "name": "",
         "type": "scatter",
         "uid": "f871ac25-cdb3-4ae3-b898-35f04e0a0e59",
         "x": [
          0,
          100,
          200,
          300,
          400,
          500,
          600,
          700,
          800,
          900,
          1000,
          1100,
          1200,
          1300,
          1400,
          1500,
          1600,
          1700,
          1800,
          1900,
          2000,
          2100,
          2200,
          2300,
          2400,
          2500,
          2600,
          2700,
          2800,
          2900,
          3000,
          3100,
          3200,
          3300,
          3400,
          3500,
          3600,
          3700,
          3800,
          3900,
          4000,
          4100,
          4200,
          4300,
          4400,
          4500,
          4600,
          4700,
          4800,
          4900,
          5000,
          5100,
          5200,
          5300,
          5400,
          5500,
          5600,
          5700,
          5800,
          5900,
          6000,
          6100,
          6200,
          6300,
          6400,
          6500,
          6600,
          6700,
          6800,
          6900,
          7000,
          7100,
          7200,
          7300,
          7400,
          7500,
          7600,
          7700,
          7800,
          7900,
          8000,
          8100,
          8200,
          8300,
          8400,
          8500,
          8600,
          8700,
          8800,
          8900,
          9000,
          9100,
          9200,
          9300,
          9400,
          9500,
          9600,
          9700,
          9800,
          9900,
          10000
         ],
         "y": [
          0,
          35,
          43,
          52,
          62,
          72,
          76,
          81,
          86,
          90,
          93,
          95,
          100,
          105,
          107,
          109,
          110,
          111,
          111,
          112,
          112,
          113,
          113,
          113,
          115,
          115,
          116,
          116,
          117,
          118,
          118,
          119,
          122,
          123,
          124,
          124,
          125,
          125,
          127,
          128,
          128,
          128,
          130,
          130,
          130,
          130,
          130,
          130,
          130,
          130,
          130,
          130,
          130,
          131,
          131,
          132,
          132,
          132,
          132,
          132,
          132,
          132,
          132,
          133,
          133,
          133,
          133,
          134,
          134,
          134,
          134,
          134,
          134,
          134,
          134,
          134,
          134,
          134,
          134,
          134,
          134,
          135,
          135,
          136,
          136,
          136,
          136,
          136,
          136,
          136,
          136,
          136,
          136,
          136,
          136,
          136,
          136,
          136,
          136,
          136,
          136
         ]
        }
       ],
       "_js2py_pointsCallback": {},
       "_js2py_relayout": {},
       "_js2py_restyle": {},
       "_js2py_update": {},
       "_last_layout_edit_id": 4,
       "_last_trace_edit_id": 1,
       "_layout": {
        "height": 240,
        "hovermode": "closest",
        "margin": {
         "b": 15,
         "l": 15,
         "r": 15,
         "t": 40
        },
        "showlegend": false,
        "template": {
         "data": {
          "bar": [
           {
            "error_x": {
             "color": "#2a3f5f"
            },
            "error_y": {
             "color": "#2a3f5f"
            },
            "marker": {
             "line": {
              "color": "#E5ECF6",
              "width": 0.5
             }
            },
            "type": "bar"
           }
          ],
          "barpolar": [
           {
            "marker": {
             "line": {
              "color": "#E5ECF6",
              "width": 0.5
             }
            },
            "type": "barpolar"
           }
          ],
          "carpet": [
           {
            "aaxis": {
             "endlinecolor": "#2a3f5f",
             "gridcolor": "white",
             "linecolor": "white",
             "minorgridcolor": "white",
             "startlinecolor": "#2a3f5f"
            },
            "baxis": {
             "endlinecolor": "#2a3f5f",
             "gridcolor": "white",
             "linecolor": "white",
             "minorgridcolor": "white",
             "startlinecolor": "#2a3f5f"
            },
            "type": "carpet"
           }
          ],
          "choropleth": [
           {
            "colorbar": {
             "outlinewidth": 0,
             "ticks": ""
            },
            "type": "choropleth"
           }
          ],
          "contour": [
           {
            "colorbar": {
             "outlinewidth": 0,
             "ticks": ""
            },
            "colorscale": [
             [
              0,
              "#0d0887"
             ],
             [
              0.1111111111111111,
              "#46039f"
             ],
             [
              0.2222222222222222,
              "#7201a8"
             ],
             [
              0.3333333333333333,
              "#9c179e"
             ],
             [
              0.4444444444444444,
              "#bd3786"
             ],
             [
              0.5555555555555556,
              "#d8576b"
             ],
             [
              0.6666666666666666,
              "#ed7953"
             ],
             [
              0.7777777777777778,
              "#fb9f3a"
             ],
             [
              0.8888888888888888,
              "#fdca26"
             ],
             [
              1,
              "#f0f921"
             ]
            ],
            "type": "contour"
           }
          ],
          "contourcarpet": [
           {
            "colorbar": {
             "outlinewidth": 0,
             "ticks": ""
            },
            "type": "contourcarpet"
           }
          ],
          "heatmap": [
           {
            "colorbar": {
             "outlinewidth": 0,
             "ticks": ""
            },
            "colorscale": [
             [
              0,
              "#0d0887"
             ],
             [
              0.1111111111111111,
              "#46039f"
             ],
             [
              0.2222222222222222,
              "#7201a8"
             ],
             [
              0.3333333333333333,
              "#9c179e"
             ],
             [
              0.4444444444444444,
              "#bd3786"
             ],
             [
              0.5555555555555556,
              "#d8576b"
             ],
             [
              0.6666666666666666,
              "#ed7953"
             ],
             [
              0.7777777777777778,
              "#fb9f3a"
             ],
             [
              0.8888888888888888,
              "#fdca26"
             ],
             [
              1,
              "#f0f921"
             ]
            ],
            "type": "heatmap"
           }
          ],
          "heatmapgl": [
           {
            "colorbar": {
             "outlinewidth": 0,
             "ticks": ""
            },
            "colorscale": [
             [
              0,
              "#0d0887"
             ],
             [
              0.1111111111111111,
              "#46039f"
             ],
             [
              0.2222222222222222,
              "#7201a8"
             ],
             [
              0.3333333333333333,
              "#9c179e"
             ],
             [
              0.4444444444444444,
              "#bd3786"
             ],
             [
              0.5555555555555556,
              "#d8576b"
             ],
             [
              0.6666666666666666,
              "#ed7953"
             ],
             [
              0.7777777777777778,
              "#fb9f3a"
             ],
             [
              0.8888888888888888,
              "#fdca26"
             ],
             [
              1,
              "#f0f921"
             ]
            ],
            "type": "heatmapgl"
           }
          ],
          "histogram": [
           {
            "marker": {
             "colorbar": {
              "outlinewidth": 0,
              "ticks": ""
             }
            },
            "type": "histogram"
           }
          ],
          "histogram2d": [
           {
            "colorbar": {
             "outlinewidth": 0,
             "ticks": ""
            },
            "colorscale": [
             [
              0,
              "#0d0887"
             ],
             [
              0.1111111111111111,
              "#46039f"
             ],
             [
              0.2222222222222222,
              "#7201a8"
             ],
             [
              0.3333333333333333,
              "#9c179e"
             ],
             [
              0.4444444444444444,
              "#bd3786"
             ],
             [
              0.5555555555555556,
              "#d8576b"
             ],
             [
              0.6666666666666666,
              "#ed7953"
             ],
             [
              0.7777777777777778,
              "#fb9f3a"
             ],
             [
              0.8888888888888888,
              "#fdca26"
             ],
             [
              1,
              "#f0f921"
             ]
            ],
            "type": "histogram2d"
           }
          ],
          "histogram2dcontour": [
           {
            "colorbar": {
             "outlinewidth": 0,
             "ticks": ""
            },
            "colorscale": [
             [
              0,
              "#0d0887"
             ],
             [
              0.1111111111111111,
              "#46039f"
             ],
             [
              0.2222222222222222,
              "#7201a8"
             ],
             [
              0.3333333333333333,
              "#9c179e"
             ],
             [
              0.4444444444444444,
              "#bd3786"
             ],
             [
              0.5555555555555556,
              "#d8576b"
             ],
             [
              0.6666666666666666,
              "#ed7953"
             ],
             [
              0.7777777777777778,
              "#fb9f3a"
             ],
             [
              0.8888888888888888,
              "#fdca26"
             ],
             [
              1,
              "#f0f921"
             ]
            ],
            "type": "histogram2dcontour"
           }
          ],
          "mesh3d": [
           {
            "colorbar": {
             "outlinewidth": 0,
             "ticks": ""
            },
            "type": "mesh3d"
           }
          ],
          "parcoords": [
           {
            "line": {
             "colorbar": {
              "outlinewidth": 0,
              "ticks": ""
             }
            },
            "type": "parcoords"
           }
          ],
          "scatter": [
           {
            "marker": {
             "colorbar": {
              "outlinewidth": 0,
              "ticks": ""
             }
            },
            "type": "scatter"
           }
          ],
          "scatter3d": [
           {
            "line": {
             "colorbar": {
              "outlinewidth": 0,
              "ticks": ""
             }
            },
            "marker": {
             "colorbar": {
              "outlinewidth": 0,
              "ticks": ""
             }
            },
            "type": "scatter3d"
           }
          ],
          "scattercarpet": [
           {
            "marker": {
             "colorbar": {
              "outlinewidth": 0,
              "ticks": ""
             }
            },
            "type": "scattercarpet"
           }
          ],
          "scattergeo": [
           {
            "marker": {
             "colorbar": {
              "outlinewidth": 0,
              "ticks": ""
             }
            },
            "type": "scattergeo"
           }
          ],
          "scattergl": [
           {
            "marker": {
             "colorbar": {
              "outlinewidth": 0,
              "ticks": ""
             }
            },
            "type": "scattergl"
           }
          ],
          "scattermapbox": [
           {
            "marker": {
             "colorbar": {
              "outlinewidth": 0,
              "ticks": ""
             }
            },
            "type": "scattermapbox"
           }
          ],
          "scatterpolar": [
           {
            "marker": {
             "colorbar": {
              "outlinewidth": 0,
              "ticks": ""
             }
            },
            "type": "scatterpolar"
           }
          ],
          "scatterpolargl": [
           {
            "marker": {
             "colorbar": {
              "outlinewidth": 0,
              "ticks": ""
             }
            },
            "type": "scatterpolargl"
           }
          ],
          "scatterternary": [
           {
            "marker": {
             "colorbar": {
              "outlinewidth": 0,
              "ticks": ""
             }
            },
            "type": "scatterternary"
           }
          ],
          "surface": [
           {
            "colorbar": {
             "outlinewidth": 0,
             "ticks": ""
            },
            "colorscale": [
             [
              0,
              "#0d0887"
             ],
             [
              0.1111111111111111,
              "#46039f"
             ],
             [
              0.2222222222222222,
              "#7201a8"
             ],
             [
              0.3333333333333333,
              "#9c179e"
             ],
             [
              0.4444444444444444,
              "#bd3786"
             ],
             [
              0.5555555555555556,
              "#d8576b"
             ],
             [
              0.6666666666666666,
              "#ed7953"
             ],
             [
              0.7777777777777778,
              "#fb9f3a"
             ],
             [
              0.8888888888888888,
              "#fdca26"
             ],
             [
              1,
              "#f0f921"
             ]
            ],
            "type": "surface"
           }
          ],
          "table": [
           {
            "cells": {
             "fill": {
              "color": "#EBF0F8"
             },
             "line": {
              "color": "white"
             }
            },
            "header": {
             "fill": {
              "color": "#C8D4E3"
             },
             "line": {
              "color": "white"
             }
            },
            "type": "table"
           }
          ]
         },
         "layout": {
          "annotationdefaults": {
           "arrowcolor": "#2a3f5f",
           "arrowhead": 0,
           "arrowwidth": 1
          },
          "colorscale": {
           "diverging": [
            [
             0,
             "#8e0152"
            ],
            [
             0.1,
             "#c51b7d"
            ],
            [
             0.2,
             "#de77ae"
            ],
            [
             0.3,
             "#f1b6da"
            ],
            [
             0.4,
             "#fde0ef"
            ],
            [
             0.5,
             "#f7f7f7"
            ],
            [
             0.6,
             "#e6f5d0"
            ],
            [
             0.7,
             "#b8e186"
            ],
            [
             0.8,
             "#7fbc41"
            ],
            [
             0.9,
             "#4d9221"
            ],
            [
             1,
             "#276419"
            ]
           ],
           "sequential": [
            [
             0,
             "#0d0887"
            ],
            [
             0.1111111111111111,
             "#46039f"
            ],
            [
             0.2222222222222222,
             "#7201a8"
            ],
            [
             0.3333333333333333,
             "#9c179e"
            ],
            [
             0.4444444444444444,
             "#bd3786"
            ],
            [
             0.5555555555555556,
             "#d8576b"
            ],
            [
             0.6666666666666666,
             "#ed7953"
            ],
            [
             0.7777777777777778,
             "#fb9f3a"
            ],
            [
             0.8888888888888888,
             "#fdca26"
            ],
            [
             1,
             "#f0f921"
            ]
           ],
           "sequentialminus": [
            [
             0,
             "#0d0887"
            ],
            [
             0.1111111111111111,
             "#46039f"
            ],
            [
             0.2222222222222222,
             "#7201a8"
            ],
            [
             0.3333333333333333,
             "#9c179e"
            ],
            [
             0.4444444444444444,
             "#bd3786"
            ],
            [
             0.5555555555555556,
             "#d8576b"
            ],
            [
             0.6666666666666666,
             "#ed7953"
            ],
            [
             0.7777777777777778,
             "#fb9f3a"
            ],
            [
             0.8888888888888888,
             "#fdca26"
            ],
            [
             1,
             "#f0f921"
            ]
           ]
          },
          "colorway": [
           "#636efa",
           "#EF553B",
           "#00cc96",
           "#ab63fa",
           "#FFA15A",
           "#19d3f3",
           "#FF6692",
           "#B6E880",
           "#FF97FF",
           "#FECB52"
          ],
          "font": {
           "color": "#2a3f5f"
          },
          "geo": {
           "bgcolor": "white",
           "lakecolor": "white",
           "landcolor": "#E5ECF6",
           "showlakes": true,
           "showland": true,
           "subunitcolor": "white"
          },
          "hoverlabel": {
           "align": "left"
          },
          "hovermode": "closest",
          "mapbox": {
           "style": "light"
          },
          "paper_bgcolor": "white",
          "plot_bgcolor": "#E5ECF6",
          "polar": {
           "angularaxis": {
            "gridcolor": "white",
            "linecolor": "white",
            "ticks": ""
           },
           "bgcolor": "#E5ECF6",
           "radialaxis": {
            "gridcolor": "white",
            "linecolor": "white",
            "ticks": ""
           }
          },
          "scene": {
           "xaxis": {
            "backgroundcolor": "#E5ECF6",
            "gridcolor": "white",
            "gridwidth": 2,
            "linecolor": "white",
            "showbackground": true,
            "ticks": "",
            "zerolinecolor": "white"
           },
           "yaxis": {
            "backgroundcolor": "#E5ECF6",
            "gridcolor": "white",
            "gridwidth": 2,
            "linecolor": "white",
            "showbackground": true,
            "ticks": "",
            "zerolinecolor": "white"
           },
           "zaxis": {
            "backgroundcolor": "#E5ECF6",
            "gridcolor": "white",
            "gridwidth": 2,
            "linecolor": "white",
            "showbackground": true,
            "ticks": "",
            "zerolinecolor": "white"
           }
          },
          "shapedefaults": {
           "line": {
            "color": "#2a3f5f"
           }
          },
          "ternary": {
           "aaxis": {
            "gridcolor": "white",
            "linecolor": "white",
            "ticks": ""
           },
           "baxis": {
            "gridcolor": "white",
            "linecolor": "white",
            "ticks": ""
           },
           "bgcolor": "#E5ECF6",
           "caxis": {
            "gridcolor": "white",
            "linecolor": "white",
            "ticks": ""
           }
          },
          "title": {
           "x": 0.05
          },
          "xaxis": {
           "automargin": true,
           "gridcolor": "white",
           "linecolor": "white",
           "ticks": "",
           "zerolinecolor": "white",
           "zerolinewidth": 2
          },
          "yaxis": {
           "automargin": true,
           "gridcolor": "white",
           "linecolor": "white",
           "ticks": "",
           "zerolinecolor": "white",
           "zerolinewidth": 2
          }
         }
        },
        "title": {
         "text": "ε-Progress"
        },
        "width": 340
       },
       "_py2js_addTraces": {},
       "_py2js_animate": {},
       "_py2js_deleteTraces": {},
       "_py2js_moveTraces": {},
       "_py2js_removeLayoutProps": {},
       "_py2js_removeTraceProps": {},
       "_py2js_restyle": {},
       "_view_count": 1
      }
     },
     "2beea68438d64331b29ce2e6e6e52fec": {
      "model_module": "@jupyter-widgets/base",
      "model_module_version": "1.2.0",
      "model_name": "LayoutModel",
      "state": {}
     },
     "2c0e40a3ee7f4e86beed07b4e89c51de": {
      "model_module": "@jupyter-widgets/controls",
      "model_module_version": "1.5.0",
      "model_name": "DescriptionStyleModel",
      "state": {
       "description_width": ""
      }
     },
     "2ce6b2f1ca2b43cf859c68b583c5a5cc": {
      "model_module": "@jupyter-widgets/base",
      "model_module_version": "1.2.0",
      "model_name": "LayoutModel",
      "state": {}
     },
     "2db7466cdc42411b9bc677e2bb3f0cf4": {
      "model_module": "@jupyter-widgets/base",
      "model_module_version": "1.2.0",
      "model_name": "LayoutModel",
      "state": {}
     },
     "2fafe1f1cf204fffb48184c89974ec75": {
      "model_module": "@jupyter-widgets/base",
      "model_module_version": "1.2.0",
      "model_name": "LayoutModel",
      "state": {}
     },
     "3246a2e21fe9449999c5e23f109033a3": {
      "model_module": "@jupyter-widgets/controls",
      "model_module_version": "1.5.0",
      "model_name": "DescriptionStyleModel",
      "state": {
       "description_width": ""
      }
     },
     "339e004859a34cfda372d2307ac27065": {
      "model_module": "@jupyter-widgets/controls",
      "model_module_version": "1.5.0",
      "model_name": "DropdownModel",
      "state": {
       "_options_labels": [
        "< None >",
        "expand_capacity",
        "amortization_period",
        "debt_type",
        "interest_rate_lock",
        "build_travel_time",
        "time_savings",
        "value_of_time_savings",
        "net_benefits",
        "cost_of_capacity_expansion"
       ],
       "description": "Colorize:",
       "index": 1,
       "layout": "IPY_MODEL_66c65c71746f41e285f6cc791df16afd",
       "style": "IPY_MODEL_6a621502683648faadb7e2f5e7eb7409"
      }
     },
     "36851441db9244be81812bb646b7c94f": {
      "model_module": "@jupyter-widgets/controls",
      "model_module_version": "1.5.0",
      "model_name": "DescriptionStyleModel",
      "state": {
       "description_width": ""
      }
     },
     "391989d906204b54950da05a908ce427": {
      "model_module": "@jupyter-widgets/controls",
      "model_module_version": "1.5.0",
      "model_name": "DescriptionStyleModel",
      "state": {
       "description_width": ""
      }
     },
     "3ab85b85ca0c43aa8045165704ebe11d": {
      "model_module": "@jupyter-widgets/base",
      "model_module_version": "1.2.0",
      "model_name": "LayoutModel",
      "state": {
       "flex_flow": "row wrap"
      }
     },
     "3aba7b8ed62c453ab6a591442383c642": {
      "model_module": "@jupyter-widgets/controls",
      "model_module_version": "1.5.0",
      "model_name": "CheckboxModel",
      "state": {
       "description": "(X) beta",
       "description_tooltip": "beta",
       "disabled": false,
       "layout": "IPY_MODEL_1be8c7a5ddf3437a92581c01955085f4",
       "name": "beta",
       "style": "IPY_MODEL_7bc4c5f82c8546cabdb1f202f915097d",
       "value": true
      }
     },
     "3e53003d0bbf4d7fb0ec3c65a8a9879c": {
      "model_module": "@jupyter-widgets/controls",
      "model_module_version": "1.5.0",
      "model_name": "CheckboxModel",
      "state": {
       "description": "(L) debt_type",
       "description_tooltip": "debt_type",
       "disabled": false,
       "layout": "IPY_MODEL_e4a5968892d34c3fa2d3d47fa63a05dc",
       "name": "debt_type",
       "style": "IPY_MODEL_df5a4c87d0ad4bfd903a0ea0df02b988",
       "value": true
      }
     },
     "40f8032b453a41eeaa4f0d784e2981e4": {
      "model_module": "@jupyter-widgets/controls",
      "model_module_version": "1.5.0",
      "model_name": "AccordionModel",
      "state": {
       "_titles": {
        "0": "Axes"
       },
       "children": [
        "IPY_MODEL_d43dfde7a2b5438b9365411cf951386e"
       ],
       "layout": "IPY_MODEL_5279ed4d46f443c88c08ea4c9624ee50",
       "selected_index": null
      }
     },
     "42f57280158e48d98a2134a50dead33f": {
      "model_module": "@jupyter-widgets/controls",
      "model_module_version": "1.5.0",
      "model_name": "BoxModel",
      "state": {
       "children": [
        "IPY_MODEL_975a623a32a94b94aec327e52980d344",
        "IPY_MODEL_445a5c6568f142f985e7228f3b8703db",
        "IPY_MODEL_19e3e51664b946cc8999a2509fdfab8c",
        "IPY_MODEL_a431bc3a0bff4eccbde69ceba14263bf",
        "IPY_MODEL_4589670d035e46ea9f22b7e2a236ff15",
        "IPY_MODEL_0a3b235a7e8444a48453d3f450cb53f1",
        "IPY_MODEL_cecd412920ef43baa43f4593e52682a5",
        "IPY_MODEL_e3e83bed7e4f4f3893b1e70a46de1372",
        "IPY_MODEL_57ffb331b2bd49b8b24c59da1a8bf4cd",
        "IPY_MODEL_d87a95976773438e95fa8a37c8d2eabd"
       ],
       "layout": "IPY_MODEL_3ab85b85ca0c43aa8045165704ebe11d"
      }
     },
     "43315a1e7bcd41c49eeee66c92928f13": {
      "model_module": "@jupyter-widgets/controls",
      "model_module_version": "1.5.0",
      "model_name": "CheckboxModel",
      "state": {
       "description": "(M+) Expected Time Savings",
       "description_tooltip": "Expected Time Savings",
       "disabled": false,
       "layout": "IPY_MODEL_441085606292422697d0e599999c4b8e",
       "name": "Expected Time Savings",
       "style": "IPY_MODEL_0ef5d22bf9574c8283b1ab019dbad150",
       "value": true
      }
     },
     "441085606292422697d0e599999c4b8e": {
      "model_module": "@jupyter-widgets/base",
      "model_module_version": "1.2.0",
      "model_name": "LayoutModel",
      "state": {}
     },
     "445a5c6568f142f985e7228f3b8703db": {
      "model_module": "@jupyter-widgets/controls",
      "model_module_version": "1.5.0",
      "model_name": "CheckboxModel",
      "state": {
       "description": "(L) amortization_period",
       "description_tooltip": "amortization_period",
       "disabled": false,
       "layout": "IPY_MODEL_a9468acb099a4ef19ef00712b5060d16",
       "name": "amortization_period",
       "style": "IPY_MODEL_9756f0f5caa640b2bd30f5e0b0da4dd9",
       "value": true
      }
     },
     "4589670d035e46ea9f22b7e2a236ff15": {
      "model_module": "@jupyter-widgets/controls",
      "model_module_version": "1.5.0",
      "model_name": "CheckboxModel",
      "state": {
       "description": "(M+) Mean Net Benefits",
       "description_tooltip": "Mean Net Benefits",
       "disabled": false,
       "layout": "IPY_MODEL_03fd575257d348e5a290e5a4fdb19186",
       "name": "Mean Net Benefits",
       "style": "IPY_MODEL_d8e47f00c68241fc8265800b1f83e07a",
       "value": true
      }
     },
     "46fdc8f4236941d096fe1e4f4e10bc5e": {
      "model_module": "@jupyter-widgets/controls",
      "model_module_version": "1.5.0",
      "model_name": "DescriptionStyleModel",
      "state": {
       "description_width": ""
      }
     },
     "48a1e2a68dfd4899816f47f31c7c4985": {
      "model_module": "@jupyter-widgets/controls",
      "model_module_version": "1.5.0",
      "model_name": "DescriptionStyleModel",
      "state": {
       "description_width": ""
      }
     },
     "48d5bd7e48394e8db04b217937be5660": {
      "model_module": "@jupyter-widgets/base",
      "model_module_version": "1.2.0",
      "model_name": "LayoutModel",
      "state": {}
     },
     "492a9998aee545308e0b0b24e0752064": {
      "model_module": "@jupyter-widgets/controls",
      "model_module_version": "1.5.0",
      "model_name": "DescriptionStyleModel",
      "state": {
       "description_width": ""
      }
     },
     "493fc285102c4919aee7bc8480c31bc9": {
      "model_module": "@jupyter-widgets/controls",
      "model_module_version": "1.5.0",
      "model_name": "DescriptionStyleModel",
      "state": {
       "description_width": ""
      }
     },
     "4b0f4c35f9d249aa843fefe6b1ece3d4": {
      "model_module": "@jupyter-widgets/controls",
      "model_module_version": "1.5.0",
      "model_name": "CheckboxModel",
      "state": {
       "description": "(M+) net_benefits",
       "description_tooltip": "net_benefits",
       "disabled": false,
       "layout": "IPY_MODEL_b5af107ea2fc41039beeb9ff684ce0bd",
       "name": "net_benefits",
       "style": "IPY_MODEL_cf9dd054476840719dfd39c3571453e2",
       "value": true
      }
     },
     "4bfa963e908d4a4aa48e5f654a65599c": {
      "model_module": "@jupyter-widgets/base",
      "model_module_version": "1.2.0",
      "model_name": "LayoutModel",
      "state": {}
     },
     "4d87eb7431fa4ce3867ff455240b08d8": {
      "model_module": "@jupyter-widgets/base",
      "model_module_version": "1.2.0",
      "model_name": "LayoutModel",
      "state": {}
     },
     "4dc8bf5c55004ed2b82b8aee9ed938c9": {
      "model_module": "@jupyter-widgets/controls",
      "model_module_version": "1.5.0",
      "model_name": "DescriptionStyleModel",
      "state": {
       "description_width": ""
      }
     },
     "4dd02d3090734247a48e90a99ccfdce7": {
      "model_module": "@jupyter-widgets/base",
      "model_module_version": "1.2.0",
      "model_name": "LayoutModel",
      "state": {}
     },
     "4f6c87af3b5747abb9ea12ed80cb4b8f": {
      "model_module": "@jupyter-widgets/controls",
      "model_module_version": "1.5.0",
      "model_name": "CheckboxModel",
      "state": {
       "description": "(L) amortization_period",
       "description_tooltip": "amortization_period",
       "disabled": false,
       "layout": "IPY_MODEL_ba25a2915eda491a997cc52f9ab22490",
       "name": "amortization_period",
       "style": "IPY_MODEL_88639999fb10400b8e2c4d99e4ace68d",
       "value": true
      }
     },
     "510d6634796b4bb0b231683f586bf61c": {
      "model_module": "@jupyter-widgets/output",
      "model_module_version": "1.0.0",
      "model_name": "OutputModel",
      "state": {
       "layout": "IPY_MODEL_efd47a4d2161454eb6a47b97fed1d105"
      }
     },
     "5279ed4d46f443c88c08ea4c9624ee50": {
      "model_module": "@jupyter-widgets/base",
      "model_module_version": "1.2.0",
      "model_name": "LayoutModel",
      "state": {
       "width": "100%"
      }
     },
     "52dda6d3ef734d6ea093e22848ac82b7": {
      "model_module": "@jupyter-widgets/base",
      "model_module_version": "1.2.0",
      "model_name": "LayoutModel",
      "state": {}
     },
     "55258e9329dd4b88824cce67937b4095": {
      "model_module": "@jupyter-widgets/base",
      "model_module_version": "1.2.0",
      "model_name": "LayoutModel",
      "state": {}
     },
     "5535fababdf441d2a10fb1c9748558ea": {
      "model_module": "@jupyter-widgets/controls",
      "model_module_version": "1.5.0",
      "model_name": "HTMLModel",
      "state": {
       "layout": "IPY_MODEL_99019833dd884c84859016c3e013ad0f",
       "style": "IPY_MODEL_a23a36aee9a741019f978005f05ffad1",
       "value": "\n\t\t\t(M-) Performance Measure to Minimize<br>\n\t\t\t(M+) Performance Measure to Maximize<br>\n\t\t\t(M) Performance Measure without preferred direction<br>\n\t\t\t(L) Policy Lever<br>\n\t\t\t(X) Exogenous Uncertainty\n\t\t"
      }
     },
     "560ed6ea6f6d4c3cb74266f8b5d72c7c": {
      "buffers": [
       {
        "data": "7hD/R761R0C2nR9h0zssQB6/u1H40+U/AAAAAAAAAAD+15Iow7RRQPjrD2nvzA1AKJZz5vn+HEAA632GHxGlP4i7upGpSSZAP4oOBFpkGkCgNSFr82NVQO6kdr6jBgZA8jEsfXWN/z/W5iIoxnIQQJBDZTV4LlNAvB50pQZEH0BdJC3+6XYtQAAAAAAAAFlAAAAAAAAAWUAzUsoAclNQQIWia2bSmldAqQL+0OE4U0AZt3qugN1KQL2zlgzkfkRA4jsqu4q7U0DSAnHAK31DQCS1Dgo5hURAm8NZqnkSTUBWnT4FvEgzQPotk7nJwSNA4lCaOFd0MUAqOvxoeYI3QNCDAR7RfldAbNl32pd7LkBi+Eu6iosnQDc1L6O7RTBAOj7AoYeyNUBHshgin5k0QBJ82hXBTU1Ab3OUGoCZT0CUXA1ytXFRQB0vfoeQfUlAzHUD6eoUPkDuo4j8F444QO+WPV4V8UtALhKpPCOJVUCVadc/EMgzQFLPSOZkYR5ARogqtqo5H0Bnkc8sy44iQDIWo8maLhJANgFzwreqFUAsYMIBRKcuQFS0JAfgqEBA7hD/R761R0C2nR9h0zssQB6/u1H40+U//teSKMO0UUAolnPm+f4cQADrfYYfEaU/7qR2vqMGBkDyMSx9dY3/PzNSygByU1BAhaJrZtKaV0CpAv7Q4ThTQBm3eq6A3UpAvbOWDOR+REDSAnHAK31DQOJQmjhXdDFAKjr8aHmCN0A3NS+ju0UwQEeyGCKfmTRAEnzaFcFNTUAdL36HkH1JQMx1A+nqFD5A7qOI/BeOOEDvlj1eFfFLQC4SqTwjiVVAlWnXPxDIM0BGiCq2qjkfQGeRzyzLjiJAMhajyZouEkA2AXPCt6oVQCxgwgFEpy5AiLu6kalJJkA/ig4EWmQaQKA1IWvzY1VAkENlNXguU0C8HnSlBkQfQF0kLf7pdi1A4jsqu4q7U0AktQ4KOYVEQJvDWap5Ek1AVp0+BbxIM0D6LZO5ycEjQNCDAR7RfldAbNl32pd7LkBi+Eu6iosnQDo+wKGHsjVAb3OUGoCZT0CUXA1ytXFRQFLPSOZkYR5AVLQkB+CoQEA=",
        "encoding": "base64",
        "path": [
         "_data",
         0,
         "dimensions",
         0,
         "values",
         "value"
        ]
       },
       {
        "data": "A5jquOuy/z+LQ4CpcxoAQENPyan4Rv8/LXDoUECh/z93vhyQFZ//PxZo9zB8rP8/ZfAQA8ZHAEB1UL15BioAQOcwONSm2/8/ygzQvDei/z8V29ACWTYAQNYcSRyjLwBAZBtPunmO/z9mGRQwNw0AQPAaznXQBgBASGHU6CP0/z8caddQSpr/P35YkIkuPf8/4Px8x/OA/z9s670jJA4AQMBGrSKPXf8/nbtAmdIBAECLDntvvmEAQDwRq4zw5P8/g8ZuQ0EgAEDtiswRlv7/PwEnG8cyhv8/rGxCRb0JAEB8dK5r9F0AQC/LIll1+/8/u1vI/ty1/z8TWBFLWm3/Pyy4dekphP8/Mzqwf8DT/z8//5M0FQYAQFG5oLvkYP8/re4Dy96R/z8+ZwnlUBIAQKGwy5EQKgBAL+KVnGs+AECFJrnB+zIAQKqu4zvSIABASCriLuAXAEDgRR7ipLn/P6izN4yBh/8//kDEbAE1AED7ZwdpThIAQKI8n1Zb5P8/qHJ2ndLe/z8WpeCjIzb/Pwq6Qkb+GABAY5jYxBBn/z/B3ajnNzf/PxAt9JUiZABAA3St1Pht/z8qWXWsqGD/P4kPsHAbNv8/TOVO81FZ/z8FBh0G39r/P+1J1txvSwBAWyuTRPxe/z+xf1+TUur/PwhbagFBQ/8/WSBR22P4/z/5GTB3LW//Py8hZ6bxOQBARyBbQJg5/z8aaIMrbiAAQNjJgxmCMQBA9VcGRoQvAEArejRDkjkAQErXxdR1+/8/2BOmElVd/z+oKHFw0zb/P1xI9vFVu/8/1CAoRyQrAECO5ibUZUYAQJZ+EqXJ9f8/7YmNNT1HAECZv18HzJ7/P/Gq0Jymtf8/1oDeuerj/z/eyjRCMlb/P+Mcd+CxTwBAOMb/HfRfAEBAdnhS6U3/P6IRQKYcWABAExYSSBmT/z+JGnUHgEkAQElLXGQOmv8/v7smYR1M/z/vIzanUBEAQH/TZkdIJQBA7P/Lx1o/AED1ONN9EjcAQLYn3jdyWP8/FMXLXo+o/z++FkcyB1cAQIR59vPfRQBAfnt1sAE1AEABhDKEcDMAQPo0Nfma3/8/9pKZlNZh/z8=",
        "encoding": "base64",
        "path": [
         "_data",
         0,
         "dimensions",
         2,
         "values",
         "value"
        ]
       },
       {
        "data": "7FqY64517j/Y1lprearwPxNKRJBkSu8/FsIqdN9U7z+/oX7oW7zuP0HYRDe2SPA/cyNN214W8D/cn/GNXn3vPx3CiVUW6pq/mKHJRgk0jj/qFmglFcGdv9S2CYsbu+8/oYpfhsaK8D9aXBoc0R3wP4hz3FPQXaW/yOgYTEQXmj+APc+D6/eNP4Egf5h+bfA/GoM7D5j1nr+QCYq2+4PvP8cZpK+qUO8/QzYG/4hY8D94fK+GsJ7wPzKWTGpEoe4/HOmyuMNUpD91ts7em4DuP3pBMN0eK6E/iBTWpu/Rhb/Fu01+4Qmiv7ohrZ550ac/NsaZ9n518D+SF3/XcRLwP1DLnB5AYGK/nbtVMknhpr/04+tLm/OHP2r0CTOVLfA/Qs9guczCpL/eo3+k6s3uPwadssyprPA/ULbCzlDrmD/KurXmsmWkv/aEoyl3vPA/42rEG73Z7j+MZ1/Q+LLuP+CYJmIOBfA/+nS7Nqhj8D/xDyRmDiTvP5b/Jh0tn6I/mQ9lVF8G8D9inwaparHuP/HFS/igvPA/aSHaFw6f7j8BJU9zM6jvP/BsFBrpUIw/oAa7ZNyYlj8AkqIzvjkpP9B/83phgnm/TFoO1KU9gT+6jDvZ5tmWv7R2TWPm5I6/7GKkuzM7nj8ucnsIYZKmP/xMVc1Ux58/v2NtLqFep78myqNDYC6pP0jchPhM6pI/wD/RVyVikb+KGwuM/8mav2cb9olxYam/1udto370oT/Uvv3MqseRPxgzJ2rtfZE/mB4HRKm2eT+0Yf9QQjiYv2jHF7ZLUam/0LF72lt2kT/oL4VJCpeMv6ATj1y8D56/cKuFO5T8cD9YlFYRK3N2P0KeghyY66A/4POty7XpZT/Y2qUPCTKovyj9Xdy/r3Q/pgfFovfM7j+9buL36cXwPzjGPSfd+u8/FHB3oWDB7z+pGSgh2C3vP/ZFmPbGI+8/nyaXxHjL7j/vLwidwcvvP9k2OwlpKPA/u9nXcCKa8D+CSe2RZqjvP1LyFrDqku4/+sDw4rZq8D/8X5MIgGTvP+JPSyGvBPA/ViY/oWKg7z/JZukfm37wPzfTN9d18e4/dwD55z3A7z8=",
        "encoding": "base64",
        "path": [
         "_data",
         0,
         "dimensions",
         3,
         "values",
         "value"
        ]
       },
       {
        "data": "5jbyomrlUkD76VKvEV5TQEclHdXzWhhAAAAAAAAAAAAlSQVPkzM6QHFVtQR7sj1ATpCj54dpSUDPybYSURTYP4m+5nVbK1FAnyGVz3/lR0ChajZtRMoXwLzXOD1FwDZAUuWFkV/GMEDe7xSM5ihAQMGzzKEDgDBAEE0B+8wZS0CyDxQLfQRUQAIgvRdJgUnAls8thfI+RsCcRTSysalDQJMgoHBGw0HAi4sm4IorJkCMnSjsDQpQQIOe0qXhQ1VAATi19kMBJkBSRNiqAt5VQBSlw0sR61VAkDEd9Lp9TUCCUR8IPF9WQHKapGN91E9AoLwwLmFKVUBQd3XXei1XQLJOKVE+MjzAxzhGuGRYVEBQU71Cwb1RQAVssHj3sFRAtPO6bGMnV0BE+jJ3nH9WQHAroP4oG0tAptRrYxUhSEBIZVkOTKVAQP8CZ/fsVlFAjzevHDt5V0B3zqCw2lRXQAz865Kv701AuEjCQd0lKsD9+VlxGzxWQA4Mzt3dikpAF2aZjDHSSkDqDuOIzjxOQM2CcBfVlEFAwUeNXGlLREBDn/AlEyZUQGZs+EAWqFdAj09h0jyrU0D2seXP9ZhTQN4OZHl7iBhApIM912fRPkCw//YVA6ZJQDRhXUtCQNg/ytbikTbuNkDzXd+7R+cwQHP//IaMykVAeNGKUgBfPcB5I/3RyxgwQNYDeI0z6lBAuBX1deLuVUCES4s5nYBWQPmCcLcxk1VAP1BFDo6PV0BteCCf2fRUQFJff2KM1VZAtiVI/iQETUD27h4+mitSQOHMsvW49ldAUMpiVEq7V0Dk18li8cFPQFIpSbvz1R3AaD5vJqGOVkBNy0oaUxNLQNE4kWA5ik5Arxad4MG6QUDONSL1mnhEQLwG2VQDZlRA6nKqVN78UECYyw0bc65HQNVBDGOhDCfAIwa1gmj/JkARRcnRldhKQHzLwrAHx1NABIuzwyluF0AzHhen2z9VQPLXGSGcmEtASwFugMkOVkBvwHvcEYJPQNoSrs8+KUHALkZwoc8YVEBogGy9pIxRQDvGt6TfzFZA8cj2zskRRkBIfD81P748QIFgo2x/S0pAxgfPxRYdV0A=",
        "encoding": "base64",
        "path": [
         "_data",
         0,
         "dimensions",
         4,
         "values",
         "value"
        ]
       },
       {
        "data": "tHpwSRqYYcDpJ/UE9ZNCwOlMaHWPe/m/AAAAAAAAAAAJSITpR0hrwFFlV/5/5iHAPn1nZlbxMcBIaSom1YK4v5UcyfybPUDASowjaBz5MsDuGeJPcNJxwIW3iSxzOxrAiHnkbfemEsAMKspOfNMjwKUOW3pvq2/At5Lp7FWQNsBGGDja0apFwJxrqNygxnPA4O/v3rj4dMC3LmkspwBpwORRi6SckHLAANWuUBbEbcBlSQ5SKDFkwKfF9BhG8l3ATtkydlhYcMDQYz+cWlFcwCmSXWUQpV/Ape45HftsZ8ChDHtHraVMwGpqSnQVsTzArgHA35hgR8BWM/0KcSxQwLi+RbxeqHPAcKbK3mlxRsCBlpfXlS9BwJx5WHw5qkXAXEzphSkxUMA0at141PtLwPZ7DC13NmbAkJ37EwGKacBg7pBIwH9swJR9P1e6DmPA2sU7/os0VcCUTOY5EfdQwDNoieI1FWXApBCTaePIcMBETxJHEMpKwHqkSo7r6DXArM4AkWdoM8CEk+OaQF83wITNW9n8/iXADw5j1ERnKsAqISEpAE5EwMktJWzxY1nAqIG9YCiiYsAaC0X+PbtEwIQlZfNz+v2/bKtNNd/5bMD2HgiLf+M0wIdoSwsjtLy/TtZSK2rmHsBg2SEozP8VwDBgzzyOd2rAuM66PtDAc8AFo0/thb5vwJivNqbne2XAZCGuSsKaX8AE1c8/zPddwFZvGCt51EnARsKP0DGaUcBKQEiOmARIwFxSVpWerk7AqodXD4GeZ8A1tDv+VzlkwPZKHUTsyVbApoZjkRprUsAEqogrgXlmwIpG+WvX8nHAs6YzWFxqTcCQqpnVrYg2wG50mZBR5zrAIncvmtLaKcBwP7FE/PsuwAR46di3kkbAThKfZO+VPMCs1qWwnT4wwKRDeHzuqXDAcJqmVwKzbcCufHKiPG8zwIpVmjxQdEPArq2opXmabsDyI1khivxdwPUnKSY8BWbAM199gHsNSsCEKql7iAg5wMJ4kTF5eHLADIJrx7QuRMDE/4sycF8+wN3Nm5OAn03AuCKdpKUfaMDi7xHOz9pqwCBm/kL12TLASHb18uvFV8A=",
        "encoding": "base64",
        "path": [
         "_data",
         0,
         "dimensions",
         5,
         "values",
         "value"
        ]
       },
       {
        "data": "AQAAAAAATECamZmZmZlDQJqZmZmZmT9AAAAAAAAAAABmZmZmZmZPQM3MzMzMzEBAmpmZmZmZQkBmZmZmZmY+QAAAAAAAAENAzczMzMzMQUDNzMzMzExQQJqZmZmZmUBAMzMzMzMzQEDNzMzMzMxAQM3MzMzMzE9AZmZmZmZmQkAAAAAAAABEQDMzMzMzM1FAmpmZmZkZUUBmZmZmZmZOQM3MzMzMzFBAmpmZmZmZT0CZmZmZmZlMQM3MzMzMzEpAAAAAAAAAUEA0MzMzMzNKQDQzMzMzM0pA////////TECZmZmZmZlEQAAAAAAAAENAAAAAAAAARUDNzMzMzMxGQDMzMzMzs1BAAAAAAAAAREBnZmZmZmZDQAAAAAAAAEVAZmZmZmZmRUCamZmZmZlFQGZmZmZmZk1AzMzMzMzMTUCZmZmZmZlOQGZmZmZmZkxAzczMzMzMSEAAAAAAAABHQDMzMzMzM01AmpmZmZmZUEBmZmZmZmZFQDMzMzMzM0JAzczMzMzMQkAAAAAAAABDQDMzMzMzM0FAmZmZmZmZQUBmZmZmZmZEQDMzMzMzM0hAZ2ZmZmZmS0AAAAAAAABEQJqZmZmZmT9AzczMzMzMTkAzMzMzMzNCQDMzMzMzMz9AMzMzMzMzQUAAAAAAAABBQAAAAAAAAE5AMzMzMzOzUEDNzMzMzMxPQDIzMzMzM0xANDMzMzMzSkDNzMzMzMxJQJmZmZmZmURAAAAAAAAARkA0MzMzMzNEQM3MzMzMzERAMzMzMzMzTUDOzMzMzMxLQGdmZmZmZkdAAAAAAAAARkDMzMzMzMxMQM3MzMzMTFBAzczMzMzMREBmZmZmZmZCQM3MzMzMzEJAZmZmZmZmQUCZmZmZmZlBQAAAAAAAAERAmpmZmZmZQ0CamZmZmZlCQJqZmZmZmVBAmpmZmZmZT0DNzMzMzMxCQDQzMzMzM0RAmpmZmZkZUEDNzMzMzMxKQGZmZmZmZk1AZmZmZmZmRUAAAAAAAABDQDMzMzMzs1BAZmZmZmZmRECamZmZmZlDQM3MzMzMzEVAMzMzMzMzTkAzMzMzMzNPQJqZmZmZmUJAzczMzMzMSUA=",
        "encoding": "base64",
        "path": [
         "_data",
         0,
         "dimensions",
         6,
         "values",
         "value"
        ]
       },
       {
        "data": "fCdTkCmGZUAbPMafeqFJQFNKP/3N0ANAAAAAAAAAAAAKPj7o4BJwQIZa8wWcDStAHYc9YKNSOkC+FW3M6x/DP5a1XlPlb0ZAXr9MLKCROkBppfwdpYh1QASJ343N/iNAgofTcMikHEDYyYdgJt0tQJT8w9pfT3NAeK0hH6l5P0Bcepx0dalNQOfN+9r4sXZAiITt2uIqeUDG0f/aRKRtQJiA1g65bXVAbdVqgTdzcUAeZurwc2NoQMI8jZErm2JAunoNYWTdc0C6La2/NbFhQD4F9ahsqGRAr1Gs1FhEbUDAoPO40GlTQHJGcxau40NASILPyMqwT0AYp+yynldVQPiRIzYfp3dAns8+f+KvTkBGY6+m7rNHQA404mBfi01AvGrjIMDXVUCFNKPGb7NSQL8Vj08nmmpAWyW4NLXPb0CyOtkgoo9xQNaRs+v1I2dAesJVqPROW0A6tWMokUpWQPbV6pygXWlAouuzCN+Mc0DqjLqyMvVRQK/FpJmClT5AabQcQLdYPED/DS4kz9hAQKy5Cex8gTBAZRf2BlurM0DQwfnGz9NLQDno/TB0xWBACXdMmWreZ0B52jBTQmxMQCLTRC5q+QVAyck53iLTcUAKcKudtzA9QEx6NiNDNcU/1nfHhmwsJkBbmUDvlcMfQK4byp1zb3BAPm0SiVDDd0AcnRFT21lzQCjdtaqWC2tADGPEzgyiZEDME9Znmp5jQG6ROWtIklFAZD5Hx82qV0CaJle6pWFQQLKEN7/1vFRApI3K8AWAbUA2+qDISqlpQMIHY2uFSF5ApoUHcTe4WECWRvEYBCFsQOLYQLoUrnVAAH6fYP/pU0AWzZdqO28/QHoG1eegrkJASTbZgstNMkAW2+na4s81QFnHfJHZ205AMB5PkaU7REDhFTqTePU3QF7+g90ca3NAw/QjpcNpcUDroMeyHmI8QHYLGs2Ev0pAPp/cs9TpcUCIINgd66BiQPZR6PBWZGpAkraFk5uBUUD8uTtIgO9BQFqhgLlMVHVApZvJVyqsS0AOc4wC2l9FQGx6C4dyslNACNAU3bavbECl5Wt3A6xvQNCkM7dhlDtACoa0bWA/XkA=",
        "encoding": "base64",
        "path": [
         "_data",
         0,
         "dimensions",
         7,
         "values",
         "value"
        ]
       },
       {
        "data": "Mc0peqj8MUB4JcxuJbkjQEnhCAzka+U/AAAAAAAAAACq6S7qmMczQAxAVG/G5wpAeL9ZCfviF0BQQwmiWg2lPzkHG263ryBAwQDiALEaFkAPD3wnKV80QM2egjntaQRAFwZ6IM/f/T+a0+QoWWUNQI6IbymqDDRAPx3RYxtkGUCeSSF4MkwkQEo46ayLvzRASjjprIu/NEBDaaC1+HkzQIUbyV3cnjRARC3ir2QONECfqMxmnJ8yQLjHA1GXKTFA9uPFqVwjNEB+7fHy0dswQInXCL5sKzFAJTKWGWH9MkA7flB2jQ0oQPUvI8Vjfx5AN5V+wTKkJkC41aWXvuIqQPS/vdITnDRAEKSq6YnCJEBxLAH47V0hQLJpUU5bqSVAHcKf/Pm8KUDRllT90P4oQIMXGANmBjNAE2GdTHBYM0CiMNZ567kzQNGWY9s7XTJAWyFP7GlYLkAZCUhIf4ErQIUMiNQuzzJAhGoey9tjNEA3wKV+fmooQKqVEkBCzxhA1NQpSFddGUC+PLolkhEdQE+7yVDODxBA9LGXpUW1EkB/Tqn4E9YkQL89iKccuC9AMc0peqj8MUB4JcxuJbkjQEnhCAzka+U/quku6pjHM0B4v1kJ++IXQFBDCaJaDaU/zZ6COe1pBEAXBnogz9/9P0NpoLX4eTNAhRvJXdyeNEBELeKvZA40QJ+ozGacnzJAuMcDUZcpMUB+7fHy0dswQDeVfsEypCZAuNWll77iKkCyaVFOW6klQNGWVP3Q/ihAgxcYA2YGM0DRlmPbO10yQFshT+xpWC5AGQlISH+BK0CFDIjULs8yQIRqHsvbYzRAN8Clfn5qKEDU1ClIV10ZQL48uiWSER1AT7vJUM4PEED0sZelRbUSQH9OqfgT1iRAOQcbbrevIEDBAOIAsRoWQA8PfCcpXzRAjohvKaoMNEA/HdFjG2QZQJ5JIXgyTCRA9uPFqVwjNECJ1wi+bCsxQCUylhlh/TJAO35Qdo0NKED1LyPFY38eQPS/vdITnDRAEKSq6YnCJEBxLAH47V0hQB3Cn/z5vClAE2GdTHBYM0CiMNZ567kzQKqVEkBCzxhAvz2Ipxy4L0A=",
        "encoding": "base64",
        "path": [
         "_data",
         0,
         "dimensions",
         8,
         "values",
         "value"
        ]
       },
       {
        "data": "7hD/R761R0C2nR9h0zssQB6/u1H40+U/AAAAAAAAAAD+15Iow7RRQPjrD2nvzA1AKJZz5vn+HEAA632GHxGlP4i7upGpSSZAP4oOBFpkGkCgNSFr82NVQO6kdr6jBgZA8jEsfXWN/z/W5iIoxnIQQJBDZTV4LlNAvB50pQZEH0BdJC3+6XYtQAAAAAAAAFlAAAAAAAAAWUAzUsoAclNQQIWia2bSmldAqQL+0OE4U0AZt3qugN1KQL2zlgzkfkRA4jsqu4q7U0DSAnHAK31DQCS1Dgo5hURAm8NZqnkSTUBWnT4FvEgzQPotk7nJwSNA4lCaOFd0MUAqOvxoeYI3QNCDAR7RfldAbNl32pd7LkBi+Eu6iosnQDc1L6O7RTBAOj7AoYeyNUBHshgin5k0QBJ82hXBTU1Ab3OUGoCZT0CUXA1ytXFRQB0vfoeQfUlAzHUD6eoUPkDuo4j8F444QO+WPV4V8UtALhKpPCOJVUCVadc/EMgzQFLPSOZkYR5ARogqtqo5H0Bnkc8sy44iQDIWo8maLhJANgFzwreqFUAsYMIBRKcuQFS0JAfgqEBA7hD/R761R0C2nR9h0zssQB6/u1H40+U//teSKMO0UUAolnPm+f4cQADrfYYfEaU/7qR2vqMGBkDyMSx9dY3/PzNSygByU1BAhaJrZtKaV0CpAv7Q4ThTQBm3eq6A3UpAvbOWDOR+REDSAnHAK31DQOJQmjhXdDFAKjr8aHmCN0A3NS+ju0UwQEeyGCKfmTRAEnzaFcFNTUAdL36HkH1JQMx1A+nqFD5A7qOI/BeOOEDvlj1eFfFLQC4SqTwjiVVAlWnXPxDIM0BGiCq2qjkfQGeRzyzLjiJAMhajyZouEkA2AXPCt6oVQCxgwgFEpy5AiLu6kalJJkA/ig4EWmQaQKA1IWvzY1VAkENlNXguU0C8HnSlBkQfQF0kLf7pdi1A4jsqu4q7U0AktQ4KOYVEQJvDWap5Ek1AVp0+BbxIM0D6LZO5ycEjQNCDAR7RfldAbNl32pd7LkBi+Eu6iosnQDo+wKGHsjVAb3OUGoCZT0CUXA1ytXFRQFLPSOZkYR5AVLQkB+CoQEA=",
        "encoding": "base64",
        "path": [
         "_data",
         0,
         "line",
         "color",
         "value"
        ]
       }
      ],
      "model_module": "plotlywidget",
      "model_module_version": "^1.2.0",
      "model_name": "FigureModel",
      "state": {
       "_config": {
        "plotlyServerURL": "https://plot.ly"
       },
       "_data": [
        {
         "dimensions": [
          {
           "label": "(L) expand_capacity",
           "name": "expand_capacity",
           "range": [
            0,
            100
           ],
           "values": {
            "dtype": "float64",
            "shape": [
             103
            ],
            "value": {}
           }
          },
          {
           "label": "(L) amortization_period",
           "name": "amortization_period",
           "range": [
            31,
            50
           ],
           "values": [
            50,
            50,
            50,
            31,
            50,
            50,
            50,
            50,
            50,
            50,
            50,
            50,
            50,
            50,
            50,
            50,
            50,
            50,
            50,
            50,
            50,
            50,
            50,
            50,
            50,
            50,
            50,
            50,
            50,
            50,
            50,
            50,
            50,
            50,
            50,
            50,
            50,
            50,
            50,
            50,
            50,
            50,
            50,
            50,
            50,
            50,
            50,
            50,
            50,
            50,
            50,
            50,
            50,
            50,
            50,
            50,
            50,
            50,
            50,
            50,
            50,
            50,
            50,
            50,
            50,
            50,
            50,
            50,
            50,
            50,
            50,
            50,
            50,
            50,
            50,
            50,
            50,
            50,
            50,
            50,
            50,
            50,
            50,
            50,
            50,
            50,
            50,
            50,
            50,
            50,
            50,
            50,
            50,
            50,
            50,
            50,
            50,
            50,
            50,
            50,
            50,
            50,
            50
           ]
          },
          {
           "label": "(L) debt_type",
           "name": "debt_type",
           "range": [
            -0.1,
            2.1
           ],
           "ticktext": [
            "",
            "GO Bond",
            "Rev Bond",
            "Paygo",
            ""
           ],
           "tickvals": [
            -0.1,
            0,
            1,
            2,
            2.1
           ],
           "values": {
            "dtype": "float64",
            "shape": [
             103
            ],
            "value": {}
           }
          },
          {
           "label": "(L) interest_rate_lock",
           "name": "interest_rate_lock",
           "range": [
            -0.1,
            1.1
           ],
           "ticktext": [
            "",
            "False",
            "True",
            ""
           ],
           "tickvals": [
            -0.1,
            0,
            1,
            1.1
           ],
           "values": {
            "dtype": "float64",
            "shape": [
             103
            ],
            "value": {}
           }
          },
          {
           "label": "(M+) Mean Net Benefits",
           "name": "Mean Net Benefits",
           "range": [
            -51.01004311308499,
            95.85503904782264
           ],
           "values": {
            "dtype": "float64",
            "shape": [
             103
            ],
            "value": {}
           }
          },
          {
           "label": "(M+) 5%ile Net Benefits",
           "name": "5%ile Net Benefits",
           "range": [
            -335.54513448453326,
            0
           ],
           "values": {
            "dtype": "float64",
            "shape": [
             103
            ],
            "value": {}
           }
          },
          {
           "label": "(M-) Possibility of<br>   Negative Net Benefits",
           "name": "Possibility of Negative Net Benefits",
           "range": [
            68.8,
            0
           ],
           "values": {
            "dtype": "float64",
            "shape": [
             103
            ],
            "value": {}
           }
          },
          {
           "label": "(M-) 95%ile Capacity<br>   Expansion Cost",
           "name": "95%ile Capacity Expansion Cost",
           "range": [
            402.68038456707336,
            0
           ],
           "values": {
            "dtype": "float64",
            "shape": [
             103
            ],
            "value": {}
           }
          },
          {
           "label": "(M+) Expected Time<br>   Savings",
           "name": "Expected Time Savings",
           "range": [
            0,
            20.748225027979323
           ],
           "values": {
            "dtype": "float64",
            "shape": [
             103
            ],
            "value": {}
           }
          }
         ],
         "domain": {
          "y": [
           0,
           0.7
          ]
         },
         "labelangle": -90,
         "labelfont": {
          "color": "#AA0000"
         },
         "line": {
          "cmax": 100,
          "cmin": 0,
          "color": {
           "dtype": "float64",
           "shape": [
            103
           ],
           "value": {}
          },
          "colorbar": {
           "title": {
            "side": "right",
            "text": "expand_capacity"
           }
          },
          "colorscale": [
           [
            0,
            "#440154"
           ],
           [
            0.1111111111111111,
            "#482878"
           ],
           [
            0.2222222222222222,
            "#3e4989"
           ],
           [
            0.3333333333333333,
            "#31688e"
           ],
           [
            0.4444444444444444,
            "#26828e"
           ],
           [
            0.5555555555555556,
            "#1f9e89"
           ],
           [
            0.6666666666666666,
            "#35b779"
           ],
           [
            0.7777777777777778,
            "#6ece58"
           ],
           [
            0.8888888888888888,
            "#b5de2b"
           ],
           [
            1,
            "#fde725"
           ]
          ],
          "reversescale": true,
          "showscale": true
         },
         "type": "parcoords",
         "uid": "ec537bb7-d14b-46b5-9264-e84f5f030bd6"
        }
       ],
       "_js2py_pointsCallback": {},
       "_js2py_restyle": {},
       "_js2py_update": {},
       "_last_layout_edit_id": 1,
       "_layout": {
        "autosize": true,
        "template": {
         "data": {
          "bar": [
           {
            "error_x": {
             "color": "#2a3f5f"
            },
            "error_y": {
             "color": "#2a3f5f"
            },
            "marker": {
             "line": {
              "color": "#E5ECF6",
              "width": 0.5
             }
            },
            "type": "bar"
           }
          ],
          "barpolar": [
           {
            "marker": {
             "line": {
              "color": "#E5ECF6",
              "width": 0.5
             }
            },
            "type": "barpolar"
           }
          ],
          "carpet": [
           {
            "aaxis": {
             "endlinecolor": "#2a3f5f",
             "gridcolor": "white",
             "linecolor": "white",
             "minorgridcolor": "white",
             "startlinecolor": "#2a3f5f"
            },
            "baxis": {
             "endlinecolor": "#2a3f5f",
             "gridcolor": "white",
             "linecolor": "white",
             "minorgridcolor": "white",
             "startlinecolor": "#2a3f5f"
            },
            "type": "carpet"
           }
          ],
          "choropleth": [
           {
            "colorbar": {
             "outlinewidth": 0,
             "ticks": ""
            },
            "type": "choropleth"
           }
          ],
          "contour": [
           {
            "colorbar": {
             "outlinewidth": 0,
             "ticks": ""
            },
            "colorscale": [
             [
              0,
              "#0d0887"
             ],
             [
              0.1111111111111111,
              "#46039f"
             ],
             [
              0.2222222222222222,
              "#7201a8"
             ],
             [
              0.3333333333333333,
              "#9c179e"
             ],
             [
              0.4444444444444444,
              "#bd3786"
             ],
             [
              0.5555555555555556,
              "#d8576b"
             ],
             [
              0.6666666666666666,
              "#ed7953"
             ],
             [
              0.7777777777777778,
              "#fb9f3a"
             ],
             [
              0.8888888888888888,
              "#fdca26"
             ],
             [
              1,
              "#f0f921"
             ]
            ],
            "type": "contour"
           }
          ],
          "contourcarpet": [
           {
            "colorbar": {
             "outlinewidth": 0,
             "ticks": ""
            },
            "type": "contourcarpet"
           }
          ],
          "heatmap": [
           {
            "colorbar": {
             "outlinewidth": 0,
             "ticks": ""
            },
            "colorscale": [
             [
              0,
              "#0d0887"
             ],
             [
              0.1111111111111111,
              "#46039f"
             ],
             [
              0.2222222222222222,
              "#7201a8"
             ],
             [
              0.3333333333333333,
              "#9c179e"
             ],
             [
              0.4444444444444444,
              "#bd3786"
             ],
             [
              0.5555555555555556,
              "#d8576b"
             ],
             [
              0.6666666666666666,
              "#ed7953"
             ],
             [
              0.7777777777777778,
              "#fb9f3a"
             ],
             [
              0.8888888888888888,
              "#fdca26"
             ],
             [
              1,
              "#f0f921"
             ]
            ],
            "type": "heatmap"
           }
          ],
          "heatmapgl": [
           {
            "colorbar": {
             "outlinewidth": 0,
             "ticks": ""
            },
            "colorscale": [
             [
              0,
              "#0d0887"
             ],
             [
              0.1111111111111111,
              "#46039f"
             ],
             [
              0.2222222222222222,
              "#7201a8"
             ],
             [
              0.3333333333333333,
              "#9c179e"
             ],
             [
              0.4444444444444444,
              "#bd3786"
             ],
             [
              0.5555555555555556,
              "#d8576b"
             ],
             [
              0.6666666666666666,
              "#ed7953"
             ],
             [
              0.7777777777777778,
              "#fb9f3a"
             ],
             [
              0.8888888888888888,
              "#fdca26"
             ],
             [
              1,
              "#f0f921"
             ]
            ],
            "type": "heatmapgl"
           }
          ],
          "histogram": [
           {
            "marker": {
             "colorbar": {
              "outlinewidth": 0,
              "ticks": ""
             }
            },
            "type": "histogram"
           }
          ],
          "histogram2d": [
           {
            "colorbar": {
             "outlinewidth": 0,
             "ticks": ""
            },
            "colorscale": [
             [
              0,
              "#0d0887"
             ],
             [
              0.1111111111111111,
              "#46039f"
             ],
             [
              0.2222222222222222,
              "#7201a8"
             ],
             [
              0.3333333333333333,
              "#9c179e"
             ],
             [
              0.4444444444444444,
              "#bd3786"
             ],
             [
              0.5555555555555556,
              "#d8576b"
             ],
             [
              0.6666666666666666,
              "#ed7953"
             ],
             [
              0.7777777777777778,
              "#fb9f3a"
             ],
             [
              0.8888888888888888,
              "#fdca26"
             ],
             [
              1,
              "#f0f921"
             ]
            ],
            "type": "histogram2d"
           }
          ],
          "histogram2dcontour": [
           {
            "colorbar": {
             "outlinewidth": 0,
             "ticks": ""
            },
            "colorscale": [
             [
              0,
              "#0d0887"
             ],
             [
              0.1111111111111111,
              "#46039f"
             ],
             [
              0.2222222222222222,
              "#7201a8"
             ],
             [
              0.3333333333333333,
              "#9c179e"
             ],
             [
              0.4444444444444444,
              "#bd3786"
             ],
             [
              0.5555555555555556,
              "#d8576b"
             ],
             [
              0.6666666666666666,
              "#ed7953"
             ],
             [
              0.7777777777777778,
              "#fb9f3a"
             ],
             [
              0.8888888888888888,
              "#fdca26"
             ],
             [
              1,
              "#f0f921"
             ]
            ],
            "type": "histogram2dcontour"
           }
          ],
          "mesh3d": [
           {
            "colorbar": {
             "outlinewidth": 0,
             "ticks": ""
            },
            "type": "mesh3d"
           }
          ],
          "parcoords": [
           {
            "line": {
             "colorbar": {
              "outlinewidth": 0,
              "ticks": ""
             }
            },
            "type": "parcoords"
           }
          ],
          "scatter": [
           {
            "marker": {
             "colorbar": {
              "outlinewidth": 0,
              "ticks": ""
             }
            },
            "type": "scatter"
           }
          ],
          "scatter3d": [
           {
            "line": {
             "colorbar": {
              "outlinewidth": 0,
              "ticks": ""
             }
            },
            "marker": {
             "colorbar": {
              "outlinewidth": 0,
              "ticks": ""
             }
            },
            "type": "scatter3d"
           }
          ],
          "scattercarpet": [
           {
            "marker": {
             "colorbar": {
              "outlinewidth": 0,
              "ticks": ""
             }
            },
            "type": "scattercarpet"
           }
          ],
          "scattergeo": [
           {
            "marker": {
             "colorbar": {
              "outlinewidth": 0,
              "ticks": ""
             }
            },
            "type": "scattergeo"
           }
          ],
          "scattergl": [
           {
            "marker": {
             "colorbar": {
              "outlinewidth": 0,
              "ticks": ""
             }
            },
            "type": "scattergl"
           }
          ],
          "scattermapbox": [
           {
            "marker": {
             "colorbar": {
              "outlinewidth": 0,
              "ticks": ""
             }
            },
            "type": "scattermapbox"
           }
          ],
          "scatterpolar": [
           {
            "marker": {
             "colorbar": {
              "outlinewidth": 0,
              "ticks": ""
             }
            },
            "type": "scatterpolar"
           }
          ],
          "scatterpolargl": [
           {
            "marker": {
             "colorbar": {
              "outlinewidth": 0,
              "ticks": ""
             }
            },
            "type": "scatterpolargl"
           }
          ],
          "scatterternary": [
           {
            "marker": {
             "colorbar": {
              "outlinewidth": 0,
              "ticks": ""
             }
            },
            "type": "scatterternary"
           }
          ],
          "surface": [
           {
            "colorbar": {
             "outlinewidth": 0,
             "ticks": ""
            },
            "colorscale": [
             [
              0,
              "#0d0887"
             ],
             [
              0.1111111111111111,
              "#46039f"
             ],
             [
              0.2222222222222222,
              "#7201a8"
             ],
             [
              0.3333333333333333,
              "#9c179e"
             ],
             [
              0.4444444444444444,
              "#bd3786"
             ],
             [
              0.5555555555555556,
              "#d8576b"
             ],
             [
              0.6666666666666666,
              "#ed7953"
             ],
             [
              0.7777777777777778,
              "#fb9f3a"
             ],
             [
              0.8888888888888888,
              "#fdca26"
             ],
             [
              1,
              "#f0f921"
             ]
            ],
            "type": "surface"
           }
          ],
          "table": [
           {
            "cells": {
             "fill": {
              "color": "#EBF0F8"
             },
             "line": {
              "color": "white"
             }
            },
            "header": {
             "fill": {
              "color": "#C8D4E3"
             },
             "line": {
              "color": "white"
             }
            },
            "type": "table"
           }
          ]
         },
         "layout": {
          "annotationdefaults": {
           "arrowcolor": "#2a3f5f",
           "arrowhead": 0,
           "arrowwidth": 1
          },
          "colorscale": {
           "diverging": [
            [
             0,
             "#8e0152"
            ],
            [
             0.1,
             "#c51b7d"
            ],
            [
             0.2,
             "#de77ae"
            ],
            [
             0.3,
             "#f1b6da"
            ],
            [
             0.4,
             "#fde0ef"
            ],
            [
             0.5,
             "#f7f7f7"
            ],
            [
             0.6,
             "#e6f5d0"
            ],
            [
             0.7,
             "#b8e186"
            ],
            [
             0.8,
             "#7fbc41"
            ],
            [
             0.9,
             "#4d9221"
            ],
            [
             1,
             "#276419"
            ]
           ],
           "sequential": [
            [
             0,
             "#0d0887"
            ],
            [
             0.1111111111111111,
             "#46039f"
            ],
            [
             0.2222222222222222,
             "#7201a8"
            ],
            [
             0.3333333333333333,
             "#9c179e"
            ],
            [
             0.4444444444444444,
             "#bd3786"
            ],
            [
             0.5555555555555556,
             "#d8576b"
            ],
            [
             0.6666666666666666,
             "#ed7953"
            ],
            [
             0.7777777777777778,
             "#fb9f3a"
            ],
            [
             0.8888888888888888,
             "#fdca26"
            ],
            [
             1,
             "#f0f921"
            ]
           ],
           "sequentialminus": [
            [
             0,
             "#0d0887"
            ],
            [
             0.1111111111111111,
             "#46039f"
            ],
            [
             0.2222222222222222,
             "#7201a8"
            ],
            [
             0.3333333333333333,
             "#9c179e"
            ],
            [
             0.4444444444444444,
             "#bd3786"
            ],
            [
             0.5555555555555556,
             "#d8576b"
            ],
            [
             0.6666666666666666,
             "#ed7953"
            ],
            [
             0.7777777777777778,
             "#fb9f3a"
            ],
            [
             0.8888888888888888,
             "#fdca26"
            ],
            [
             1,
             "#f0f921"
            ]
           ]
          },
          "colorway": [
           "#636efa",
           "#EF553B",
           "#00cc96",
           "#ab63fa",
           "#FFA15A",
           "#19d3f3",
           "#FF6692",
           "#B6E880",
           "#FF97FF",
           "#FECB52"
          ],
          "font": {
           "color": "#2a3f5f"
          },
          "geo": {
           "bgcolor": "white",
           "lakecolor": "white",
           "landcolor": "#E5ECF6",
           "showlakes": true,
           "showland": true,
           "subunitcolor": "white"
          },
          "hoverlabel": {
           "align": "left"
          },
          "hovermode": "closest",
          "mapbox": {
           "style": "light"
          },
          "paper_bgcolor": "white",
          "plot_bgcolor": "#E5ECF6",
          "polar": {
           "angularaxis": {
            "gridcolor": "white",
            "linecolor": "white",
            "ticks": ""
           },
           "bgcolor": "#E5ECF6",
           "radialaxis": {
            "gridcolor": "white",
            "linecolor": "white",
            "ticks": ""
           }
          },
          "scene": {
           "xaxis": {
            "backgroundcolor": "#E5ECF6",
            "gridcolor": "white",
            "gridwidth": 2,
            "linecolor": "white",
            "showbackground": true,
            "ticks": "",
            "zerolinecolor": "white"
           },
           "yaxis": {
            "backgroundcolor": "#E5ECF6",
            "gridcolor": "white",
            "gridwidth": 2,
            "linecolor": "white",
            "showbackground": true,
            "ticks": "",
            "zerolinecolor": "white"
           },
           "zaxis": {
            "backgroundcolor": "#E5ECF6",
            "gridcolor": "white",
            "gridwidth": 2,
            "linecolor": "white",
            "showbackground": true,
            "ticks": "",
            "zerolinecolor": "white"
           }
          },
          "shapedefaults": {
           "line": {
            "color": "#2a3f5f"
           }
          },
          "ternary": {
           "aaxis": {
            "gridcolor": "white",
            "linecolor": "white",
            "ticks": ""
           },
           "baxis": {
            "gridcolor": "white",
            "linecolor": "white",
            "ticks": ""
           },
           "bgcolor": "#E5ECF6",
           "caxis": {
            "gridcolor": "white",
            "linecolor": "white",
            "ticks": ""
           }
          },
          "title": {
           "x": 0.05
          },
          "xaxis": {
           "automargin": true,
           "gridcolor": "white",
           "linecolor": "white",
           "ticks": "",
           "zerolinecolor": "white",
           "zerolinewidth": 2
          },
          "yaxis": {
           "automargin": true,
           "gridcolor": "white",
           "linecolor": "white",
           "ticks": "",
           "zerolinecolor": "white",
           "zerolinewidth": 2
          }
         }
        }
       },
       "_py2js_addTraces": {},
       "_py2js_animate": {},
       "_py2js_deleteTraces": {},
       "_py2js_moveTraces": {},
       "_py2js_removeLayoutProps": {},
       "_py2js_removeTraceProps": {},
       "_py2js_restyle": {},
       "_py2js_update": {},
       "_view_count": 1
      }
     },
     "57ffb331b2bd49b8b24c59da1a8bf4cd": {
      "model_module": "@jupyter-widgets/controls",
      "model_module_version": "1.5.0",
      "model_name": "CheckboxModel",
      "state": {
       "description": "(M+) Expected Time Savings",
       "description_tooltip": "Expected Time Savings",
       "disabled": false,
       "layout": "IPY_MODEL_2beea68438d64331b29ce2e6e6e52fec",
       "name": "Expected Time Savings",
       "style": "IPY_MODEL_492a9998aee545308e0b0b24e0752064",
       "value": true
      }
     },
     "5a9bbf884a444764990af34c5b1c2f52": {
      "model_module": "@jupyter-widgets/base",
      "model_module_version": "1.2.0",
      "model_name": "LayoutModel",
      "state": {}
     },
     "5c07c8fae876464ba62f4954321b236e": {
      "model_module": "@jupyter-widgets/base",
      "model_module_version": "1.2.0",
      "model_name": "LayoutModel",
      "state": {}
     },
     "5d75873599004c7ea814536860bbdf82": {
      "model_module": "@jupyter-widgets/base",
      "model_module_version": "1.2.0",
      "model_name": "LayoutModel",
      "state": {}
     },
     "5ea5bcaed1c447628d3f49330cb5284f": {
      "model_module": "@jupyter-widgets/controls",
      "model_module_version": "1.5.0",
      "model_name": "DescriptionStyleModel",
      "state": {
       "description_width": ""
      }
     },
     "5ed0c690a8694e8da20dbc1357162e5a": {
      "model_module": "@jupyter-widgets/base",
      "model_module_version": "1.2.0",
      "model_name": "LayoutModel",
      "state": {}
     },
     "5f1a87b6bf0641c0991d4b4d69b0f3c5": {
      "model_module": "@jupyter-widgets/controls",
      "model_module_version": "1.5.0",
      "model_name": "DescriptionStyleModel",
      "state": {
       "description_width": ""
      }
     },
     "5fc14d3bf27b47b48368a1c4566e1dcf": {
      "model_module": "@jupyter-widgets/controls",
      "model_module_version": "1.5.0",
      "model_name": "DescriptionStyleModel",
      "state": {
       "description_width": ""
      }
     },
     "62a56772a3ef41f5b98bcdd3dee39da8": {
      "model_module": "@jupyter-widgets/controls",
      "model_module_version": "1.5.0",
      "model_name": "CheckboxModel",
      "state": {
       "description": "(M+) Mean Net Benefits",
       "description_tooltip": "Mean Net Benefits",
       "disabled": false,
       "layout": "IPY_MODEL_fb4f366471714c729c99eda49d0e42ec",
       "name": "Mean Net Benefits",
       "style": "IPY_MODEL_0efe347d7f2340de8794eddfd12f9a2f",
       "value": true
      }
     },
     "66c65c71746f41e285f6cc791df16afd": {
      "model_module": "@jupyter-widgets/base",
      "model_module_version": "1.2.0",
      "model_name": "LayoutModel",
      "state": {}
     },
     "67fe8a9d2ec34b0194c7cfa6135b55ea": {
      "model_module": "@jupyter-widgets/controls",
      "model_module_version": "1.5.0",
      "model_name": "DescriptionStyleModel",
      "state": {
       "description_width": ""
      }
     },
     "6a621502683648faadb7e2f5e7eb7409": {
      "model_module": "@jupyter-widgets/controls",
      "model_module_version": "1.5.0",
      "model_name": "DescriptionStyleModel",
      "state": {
       "description_width": ""
      }
     },
     "6b3b63f16a0148a1b1a450396e64bff0": {
      "model_module": "@jupyter-widgets/controls",
      "model_module_version": "1.5.0",
      "model_name": "BoxModel",
      "state": {
       "children": [
        "IPY_MODEL_04c9a8144efe4a1d921d566441f9b0f3",
        "IPY_MODEL_0e0294da27b84fe9a8f8f475fec05e86",
        "IPY_MODEL_3e53003d0bbf4d7fb0ec3c65a8a9879c",
        "IPY_MODEL_0f5bf3b09ba54ac78707017e166b2575",
        "IPY_MODEL_6d28ef82b313472a9c4d364e88eddff9",
        "IPY_MODEL_18e3a018bcfe4c0d9a65165662f62e79",
        "IPY_MODEL_00670da9c51547d7b3c9a93f09dd859b",
        "IPY_MODEL_4b0f4c35f9d249aa843fefe6b1ece3d4",
        "IPY_MODEL_c757731518ef4a03afd2c93cc6865f0e"
       ],
       "layout": "IPY_MODEL_7da12cef1418402d9145429c780c20c5"
      }
     },
     "6bad9dbbec374301bca81bc4749832f3": {
      "model_module": "plotlywidget",
      "model_module_version": "^1.2.0",
      "model_name": "FigureModel",
      "state": {
       "_config": {
        "plotlyServerURL": "https://plot.ly"
       },
       "_data": [
        {
         "fill": "tonexty",
         "line": {
          "shape": "linear"
         },
         "mode": "lines+markers",
         "name": "",
         "type": "scatter",
         "uid": "a3559da7-3331-41ac-b6ee-ca2d37e489aa",
         "x": [
          0,
          100,
          200,
          300,
          400,
          500,
          600,
          700,
          800,
          900,
          1000,
          1100,
          1200,
          1300,
          1400,
          1500,
          1600,
          1700,
          1800,
          1900,
          2000,
          2100,
          2200,
          2300,
          2400,
          2500,
          2600,
          2700,
          2800,
          2900,
          3000,
          3100,
          3200,
          3300,
          3400,
          3500,
          3600,
          3700,
          3800,
          3900,
          4000,
          4100,
          4200,
          4300,
          4400,
          4500,
          4600,
          4700,
          4800,
          4900,
          5000,
          5100,
          5200,
          5300,
          5400,
          5500,
          5600,
          5700,
          5800,
          5900,
          6000,
          6100,
          6200,
          6300,
          6400,
          6500,
          6600,
          6700,
          6800,
          6900,
          7000,
          7100,
          7200,
          7300,
          7400,
          7500,
          7600,
          7700,
          7800,
          7900,
          8000,
          8100,
          8200,
          8300,
          8400,
          8500,
          8600,
          8700,
          8800,
          8900,
          9000,
          9100,
          9200,
          9300,
          9400,
          9500,
          9600,
          9700,
          9800,
          9900,
          10000
         ],
         "y": [
          0,
          9,
          14,
          21,
          29,
          31,
          35,
          36,
          40,
          41,
          42,
          42,
          43,
          44,
          45,
          45,
          47,
          48,
          49,
          49,
          49,
          50,
          50,
          50,
          50,
          51,
          51,
          51,
          51,
          53,
          53,
          53,
          54,
          54,
          54,
          54,
          55,
          55,
          55,
          55,
          56,
          56,
          56,
          56,
          56,
          56,
          56,
          56,
          56,
          56,
          56,
          56,
          56,
          56,
          56,
          56,
          56,
          56,
          56,
          56,
          56,
          56,
          56,
          56,
          56,
          56,
          56,
          56,
          56,
          56,
          56,
          56,
          56,
          56,
          57,
          57,
          57,
          57,
          58,
          59,
          59,
          60,
          60,
          60,
          60,
          60,
          61,
          61,
          61,
          61,
          61,
          61,
          61,
          61,
          62,
          62,
          63,
          63,
          63,
          63,
          63
         ]
        }
       ],
       "_js2py_pointsCallback": {},
       "_js2py_relayout": {},
       "_js2py_restyle": {},
       "_js2py_update": {},
       "_last_layout_edit_id": 4,
       "_last_trace_edit_id": 1,
       "_layout": {
        "height": 240,
        "hovermode": "closest",
        "margin": {
         "b": 15,
         "l": 15,
         "r": 15,
         "t": 40
        },
        "showlegend": false,
        "template": {
         "data": {
          "bar": [
           {
            "error_x": {
             "color": "#2a3f5f"
            },
            "error_y": {
             "color": "#2a3f5f"
            },
            "marker": {
             "line": {
              "color": "#E5ECF6",
              "width": 0.5
             }
            },
            "type": "bar"
           }
          ],
          "barpolar": [
           {
            "marker": {
             "line": {
              "color": "#E5ECF6",
              "width": 0.5
             }
            },
            "type": "barpolar"
           }
          ],
          "carpet": [
           {
            "aaxis": {
             "endlinecolor": "#2a3f5f",
             "gridcolor": "white",
             "linecolor": "white",
             "minorgridcolor": "white",
             "startlinecolor": "#2a3f5f"
            },
            "baxis": {
             "endlinecolor": "#2a3f5f",
             "gridcolor": "white",
             "linecolor": "white",
             "minorgridcolor": "white",
             "startlinecolor": "#2a3f5f"
            },
            "type": "carpet"
           }
          ],
          "choropleth": [
           {
            "colorbar": {
             "outlinewidth": 0,
             "ticks": ""
            },
            "type": "choropleth"
           }
          ],
          "contour": [
           {
            "colorbar": {
             "outlinewidth": 0,
             "ticks": ""
            },
            "colorscale": [
             [
              0,
              "#0d0887"
             ],
             [
              0.1111111111111111,
              "#46039f"
             ],
             [
              0.2222222222222222,
              "#7201a8"
             ],
             [
              0.3333333333333333,
              "#9c179e"
             ],
             [
              0.4444444444444444,
              "#bd3786"
             ],
             [
              0.5555555555555556,
              "#d8576b"
             ],
             [
              0.6666666666666666,
              "#ed7953"
             ],
             [
              0.7777777777777778,
              "#fb9f3a"
             ],
             [
              0.8888888888888888,
              "#fdca26"
             ],
             [
              1,
              "#f0f921"
             ]
            ],
            "type": "contour"
           }
          ],
          "contourcarpet": [
           {
            "colorbar": {
             "outlinewidth": 0,
             "ticks": ""
            },
            "type": "contourcarpet"
           }
          ],
          "heatmap": [
           {
            "colorbar": {
             "outlinewidth": 0,
             "ticks": ""
            },
            "colorscale": [
             [
              0,
              "#0d0887"
             ],
             [
              0.1111111111111111,
              "#46039f"
             ],
             [
              0.2222222222222222,
              "#7201a8"
             ],
             [
              0.3333333333333333,
              "#9c179e"
             ],
             [
              0.4444444444444444,
              "#bd3786"
             ],
             [
              0.5555555555555556,
              "#d8576b"
             ],
             [
              0.6666666666666666,
              "#ed7953"
             ],
             [
              0.7777777777777778,
              "#fb9f3a"
             ],
             [
              0.8888888888888888,
              "#fdca26"
             ],
             [
              1,
              "#f0f921"
             ]
            ],
            "type": "heatmap"
           }
          ],
          "heatmapgl": [
           {
            "colorbar": {
             "outlinewidth": 0,
             "ticks": ""
            },
            "colorscale": [
             [
              0,
              "#0d0887"
             ],
             [
              0.1111111111111111,
              "#46039f"
             ],
             [
              0.2222222222222222,
              "#7201a8"
             ],
             [
              0.3333333333333333,
              "#9c179e"
             ],
             [
              0.4444444444444444,
              "#bd3786"
             ],
             [
              0.5555555555555556,
              "#d8576b"
             ],
             [
              0.6666666666666666,
              "#ed7953"
             ],
             [
              0.7777777777777778,
              "#fb9f3a"
             ],
             [
              0.8888888888888888,
              "#fdca26"
             ],
             [
              1,
              "#f0f921"
             ]
            ],
            "type": "heatmapgl"
           }
          ],
          "histogram": [
           {
            "marker": {
             "colorbar": {
              "outlinewidth": 0,
              "ticks": ""
             }
            },
            "type": "histogram"
           }
          ],
          "histogram2d": [
           {
            "colorbar": {
             "outlinewidth": 0,
             "ticks": ""
            },
            "colorscale": [
             [
              0,
              "#0d0887"
             ],
             [
              0.1111111111111111,
              "#46039f"
             ],
             [
              0.2222222222222222,
              "#7201a8"
             ],
             [
              0.3333333333333333,
              "#9c179e"
             ],
             [
              0.4444444444444444,
              "#bd3786"
             ],
             [
              0.5555555555555556,
              "#d8576b"
             ],
             [
              0.6666666666666666,
              "#ed7953"
             ],
             [
              0.7777777777777778,
              "#fb9f3a"
             ],
             [
              0.8888888888888888,
              "#fdca26"
             ],
             [
              1,
              "#f0f921"
             ]
            ],
            "type": "histogram2d"
           }
          ],
          "histogram2dcontour": [
           {
            "colorbar": {
             "outlinewidth": 0,
             "ticks": ""
            },
            "colorscale": [
             [
              0,
              "#0d0887"
             ],
             [
              0.1111111111111111,
              "#46039f"
             ],
             [
              0.2222222222222222,
              "#7201a8"
             ],
             [
              0.3333333333333333,
              "#9c179e"
             ],
             [
              0.4444444444444444,
              "#bd3786"
             ],
             [
              0.5555555555555556,
              "#d8576b"
             ],
             [
              0.6666666666666666,
              "#ed7953"
             ],
             [
              0.7777777777777778,
              "#fb9f3a"
             ],
             [
              0.8888888888888888,
              "#fdca26"
             ],
             [
              1,
              "#f0f921"
             ]
            ],
            "type": "histogram2dcontour"
           }
          ],
          "mesh3d": [
           {
            "colorbar": {
             "outlinewidth": 0,
             "ticks": ""
            },
            "type": "mesh3d"
           }
          ],
          "parcoords": [
           {
            "line": {
             "colorbar": {
              "outlinewidth": 0,
              "ticks": ""
             }
            },
            "type": "parcoords"
           }
          ],
          "scatter": [
           {
            "marker": {
             "colorbar": {
              "outlinewidth": 0,
              "ticks": ""
             }
            },
            "type": "scatter"
           }
          ],
          "scatter3d": [
           {
            "line": {
             "colorbar": {
              "outlinewidth": 0,
              "ticks": ""
             }
            },
            "marker": {
             "colorbar": {
              "outlinewidth": 0,
              "ticks": ""
             }
            },
            "type": "scatter3d"
           }
          ],
          "scattercarpet": [
           {
            "marker": {
             "colorbar": {
              "outlinewidth": 0,
              "ticks": ""
             }
            },
            "type": "scattercarpet"
           }
          ],
          "scattergeo": [
           {
            "marker": {
             "colorbar": {
              "outlinewidth": 0,
              "ticks": ""
             }
            },
            "type": "scattergeo"
           }
          ],
          "scattergl": [
           {
            "marker": {
             "colorbar": {
              "outlinewidth": 0,
              "ticks": ""
             }
            },
            "type": "scattergl"
           }
          ],
          "scattermapbox": [
           {
            "marker": {
             "colorbar": {
              "outlinewidth": 0,
              "ticks": ""
             }
            },
            "type": "scattermapbox"
           }
          ],
          "scatterpolar": [
           {
            "marker": {
             "colorbar": {
              "outlinewidth": 0,
              "ticks": ""
             }
            },
            "type": "scatterpolar"
           }
          ],
          "scatterpolargl": [
           {
            "marker": {
             "colorbar": {
              "outlinewidth": 0,
              "ticks": ""
             }
            },
            "type": "scatterpolargl"
           }
          ],
          "scatterternary": [
           {
            "marker": {
             "colorbar": {
              "outlinewidth": 0,
              "ticks": ""
             }
            },
            "type": "scatterternary"
           }
          ],
          "surface": [
           {
            "colorbar": {
             "outlinewidth": 0,
             "ticks": ""
            },
            "colorscale": [
             [
              0,
              "#0d0887"
             ],
             [
              0.1111111111111111,
              "#46039f"
             ],
             [
              0.2222222222222222,
              "#7201a8"
             ],
             [
              0.3333333333333333,
              "#9c179e"
             ],
             [
              0.4444444444444444,
              "#bd3786"
             ],
             [
              0.5555555555555556,
              "#d8576b"
             ],
             [
              0.6666666666666666,
              "#ed7953"
             ],
             [
              0.7777777777777778,
              "#fb9f3a"
             ],
             [
              0.8888888888888888,
              "#fdca26"
             ],
             [
              1,
              "#f0f921"
             ]
            ],
            "type": "surface"
           }
          ],
          "table": [
           {
            "cells": {
             "fill": {
              "color": "#EBF0F8"
             },
             "line": {
              "color": "white"
             }
            },
            "header": {
             "fill": {
              "color": "#C8D4E3"
             },
             "line": {
              "color": "white"
             }
            },
            "type": "table"
           }
          ]
         },
         "layout": {
          "annotationdefaults": {
           "arrowcolor": "#2a3f5f",
           "arrowhead": 0,
           "arrowwidth": 1
          },
          "colorscale": {
           "diverging": [
            [
             0,
             "#8e0152"
            ],
            [
             0.1,
             "#c51b7d"
            ],
            [
             0.2,
             "#de77ae"
            ],
            [
             0.3,
             "#f1b6da"
            ],
            [
             0.4,
             "#fde0ef"
            ],
            [
             0.5,
             "#f7f7f7"
            ],
            [
             0.6,
             "#e6f5d0"
            ],
            [
             0.7,
             "#b8e186"
            ],
            [
             0.8,
             "#7fbc41"
            ],
            [
             0.9,
             "#4d9221"
            ],
            [
             1,
             "#276419"
            ]
           ],
           "sequential": [
            [
             0,
             "#0d0887"
            ],
            [
             0.1111111111111111,
             "#46039f"
            ],
            [
             0.2222222222222222,
             "#7201a8"
            ],
            [
             0.3333333333333333,
             "#9c179e"
            ],
            [
             0.4444444444444444,
             "#bd3786"
            ],
            [
             0.5555555555555556,
             "#d8576b"
            ],
            [
             0.6666666666666666,
             "#ed7953"
            ],
            [
             0.7777777777777778,
             "#fb9f3a"
            ],
            [
             0.8888888888888888,
             "#fdca26"
            ],
            [
             1,
             "#f0f921"
            ]
           ],
           "sequentialminus": [
            [
             0,
             "#0d0887"
            ],
            [
             0.1111111111111111,
             "#46039f"
            ],
            [
             0.2222222222222222,
             "#7201a8"
            ],
            [
             0.3333333333333333,
             "#9c179e"
            ],
            [
             0.4444444444444444,
             "#bd3786"
            ],
            [
             0.5555555555555556,
             "#d8576b"
            ],
            [
             0.6666666666666666,
             "#ed7953"
            ],
            [
             0.7777777777777778,
             "#fb9f3a"
            ],
            [
             0.8888888888888888,
             "#fdca26"
            ],
            [
             1,
             "#f0f921"
            ]
           ]
          },
          "colorway": [
           "#636efa",
           "#EF553B",
           "#00cc96",
           "#ab63fa",
           "#FFA15A",
           "#19d3f3",
           "#FF6692",
           "#B6E880",
           "#FF97FF",
           "#FECB52"
          ],
          "font": {
           "color": "#2a3f5f"
          },
          "geo": {
           "bgcolor": "white",
           "lakecolor": "white",
           "landcolor": "#E5ECF6",
           "showlakes": true,
           "showland": true,
           "subunitcolor": "white"
          },
          "hoverlabel": {
           "align": "left"
          },
          "hovermode": "closest",
          "mapbox": {
           "style": "light"
          },
          "paper_bgcolor": "white",
          "plot_bgcolor": "#E5ECF6",
          "polar": {
           "angularaxis": {
            "gridcolor": "white",
            "linecolor": "white",
            "ticks": ""
           },
           "bgcolor": "#E5ECF6",
           "radialaxis": {
            "gridcolor": "white",
            "linecolor": "white",
            "ticks": ""
           }
          },
          "scene": {
           "xaxis": {
            "backgroundcolor": "#E5ECF6",
            "gridcolor": "white",
            "gridwidth": 2,
            "linecolor": "white",
            "showbackground": true,
            "ticks": "",
            "zerolinecolor": "white"
           },
           "yaxis": {
            "backgroundcolor": "#E5ECF6",
            "gridcolor": "white",
            "gridwidth": 2,
            "linecolor": "white",
            "showbackground": true,
            "ticks": "",
            "zerolinecolor": "white"
           },
           "zaxis": {
            "backgroundcolor": "#E5ECF6",
            "gridcolor": "white",
            "gridwidth": 2,
            "linecolor": "white",
            "showbackground": true,
            "ticks": "",
            "zerolinecolor": "white"
           }
          },
          "shapedefaults": {
           "line": {
            "color": "#2a3f5f"
           }
          },
          "ternary": {
           "aaxis": {
            "gridcolor": "white",
            "linecolor": "white",
            "ticks": ""
           },
           "baxis": {
            "gridcolor": "white",
            "linecolor": "white",
            "ticks": ""
           },
           "bgcolor": "#E5ECF6",
           "caxis": {
            "gridcolor": "white",
            "linecolor": "white",
            "ticks": ""
           }
          },
          "title": {
           "x": 0.05
          },
          "xaxis": {
           "automargin": true,
           "gridcolor": "white",
           "linecolor": "white",
           "ticks": "",
           "zerolinecolor": "white",
           "zerolinewidth": 2
          },
          "yaxis": {
           "automargin": true,
           "gridcolor": "white",
           "linecolor": "white",
           "ticks": "",
           "zerolinecolor": "white",
           "zerolinewidth": 2
          }
         }
        },
        "title": {
         "text": "ε-Progress"
        },
        "width": 340
       },
       "_py2js_addTraces": {},
       "_py2js_animate": {},
       "_py2js_deleteTraces": {},
       "_py2js_moveTraces": {},
       "_py2js_removeLayoutProps": {},
       "_py2js_removeTraceProps": {},
       "_py2js_restyle": {},
       "_view_count": 1
      }
     },
     "6d28ef82b313472a9c4d364e88eddff9": {
      "model_module": "@jupyter-widgets/controls",
      "model_module_version": "1.5.0",
      "model_name": "CheckboxModel",
      "state": {
       "description": "(M-) build_travel_time",
       "description_tooltip": "build_travel_time",
       "disabled": false,
       "layout": "IPY_MODEL_fc93c527a63c4b21ae0ec23b5b4f410c",
       "name": "build_travel_time",
       "style": "IPY_MODEL_15bef01d15344dc7ba4897920827a8c3",
       "value": true
      }
     },
     "6dbfacbe6cee441ea79a48cebf79f4f6": {
      "model_module": "@jupyter-widgets/base",
      "model_module_version": "1.2.0",
      "model_name": "LayoutModel",
      "state": {}
     },
     "6e15eb1fc66f4206bf8b59d499552647": {
      "model_module": "@jupyter-widgets/controls",
      "model_module_version": "1.5.0",
      "model_name": "HBoxModel",
      "state": {
       "children": [
        "IPY_MODEL_f88442b47a3f4a79843f0d68ffb0e099",
        "IPY_MODEL_21fba651301b4e919983744d63d657c6"
       ],
       "layout": "IPY_MODEL_52dda6d3ef734d6ea093e22848ac82b7"
      }
     },
     "6e97fc74149349b2864b383229377f32": {
      "model_module": "@jupyter-widgets/base",
      "model_module_version": "1.2.0",
      "model_name": "LayoutModel",
      "state": {}
     },
     "6eef9c1732124c05967a9b1ffc44db71": {
      "model_module": "@jupyter-widgets/controls",
      "model_module_version": "1.5.0",
      "model_name": "CheckboxModel",
      "state": {
       "description": "(X) yield_curve",
       "description_tooltip": "yield_curve",
       "disabled": false,
       "layout": "IPY_MODEL_ec9e44733a63452f98cfa34f9ecc5f46",
       "name": "yield_curve",
       "style": "IPY_MODEL_7a23e0327bd648648c1a48b53e10649c",
       "value": true
      }
     },
     "6fa65a79301e45a1bd8a6e525f771e2c": {
      "model_module": "@jupyter-widgets/base",
      "model_module_version": "1.2.0",
      "model_name": "LayoutModel",
      "state": {
       "width": "100%"
      }
     },
     "7092ff51a7c64c6eac567469f43e1fd9": {
      "model_module": "@jupyter-widgets/controls",
      "model_module_version": "1.5.0",
      "model_name": "DescriptionStyleModel",
      "state": {
       "description_width": ""
      }
     },
     "70ae140f89904958ba5a5119793fb383": {
      "model_module": "@jupyter-widgets/base",
      "model_module_version": "1.2.0",
      "model_name": "LayoutModel",
      "state": {}
     },
     "70c774bd7772495fa9b5e0f2d29864e8": {
      "model_module": "@jupyter-widgets/controls",
      "model_module_version": "1.5.0",
      "model_name": "DescriptionStyleModel",
      "state": {
       "description_width": ""
      }
     },
     "72a9b6f161724c11bbbd82e623c6c35d": {
      "model_module": "@jupyter-widgets/base",
      "model_module_version": "1.2.0",
      "model_name": "LayoutModel",
      "state": {}
     },
     "77d75435d61a4cd89ae5511b02a70f5a": {
      "model_module": "@jupyter-widgets/base",
      "model_module_version": "1.2.0",
      "model_name": "LayoutModel",
      "state": {}
     },
     "780e0a58761e4c488d9ac1bdec972989": {
      "model_module": "@jupyter-widgets/controls",
      "model_module_version": "1.5.0",
      "model_name": "DescriptionStyleModel",
      "state": {
       "description_width": ""
      }
     },
     "7a099f5b5d07494fb5334438111c0a06": {
      "model_module": "@jupyter-widgets/controls",
      "model_module_version": "1.5.0",
      "model_name": "VBoxModel",
      "state": {
       "children": [
        "IPY_MODEL_e8555411cacb467f82303c2fd33ce945",
        "IPY_MODEL_f77d10e215b143da97cc07b32205fe6e",
        "IPY_MODEL_06ff94974b7a4cd2a1f9c9bb8a07cceb",
        "IPY_MODEL_d3e7f370b18d4d07ba03c24eeddd8c90"
       ],
       "layout": "IPY_MODEL_e0624fa8221f4c628f886bfff69ba623"
      }
     },
     "7a23e0327bd648648c1a48b53e10649c": {
      "model_module": "@jupyter-widgets/controls",
      "model_module_version": "1.5.0",
      "model_name": "DescriptionStyleModel",
      "state": {
       "description_width": ""
      }
     },
     "7a36356d421d4417a555992460b2f197": {
      "model_module": "@jupyter-widgets/controls",
      "model_module_version": "1.5.0",
      "model_name": "DescriptionStyleModel",
      "state": {
       "description_width": ""
      }
     },
     "7bc4c5f82c8546cabdb1f202f915097d": {
      "model_module": "@jupyter-widgets/controls",
      "model_module_version": "1.5.0",
      "model_name": "DescriptionStyleModel",
      "state": {
       "description_width": ""
      }
     },
     "7da12cef1418402d9145429c780c20c5": {
      "model_module": "@jupyter-widgets/base",
      "model_module_version": "1.2.0",
      "model_name": "LayoutModel",
      "state": {
       "flex_flow": "row wrap"
      }
     },
     "7de8548af5964b74be1cb39d5d64e8d8": {
      "model_module": "@jupyter-widgets/base",
      "model_module_version": "1.2.0",
      "model_name": "LayoutModel",
      "state": {
       "width": "100%"
      }
     },
     "7e481f5ae1764240a952d5c90f785f7b": {
      "model_module": "@jupyter-widgets/base",
      "model_module_version": "1.2.0",
      "model_name": "LayoutModel",
      "state": {}
     },
     "80fd3c947149438d9ed02fb54b101e19": {
      "model_module": "@jupyter-widgets/base",
      "model_module_version": "1.2.0",
      "model_name": "LayoutModel",
      "state": {}
     },
     "83bf71295a614edd90aaf541a7140131": {
      "model_module": "@jupyter-widgets/base",
      "model_module_version": "1.2.0",
      "model_name": "LayoutModel",
      "state": {}
     },
     "846047c25e0e47799ea7d976ad2c3bfc": {
      "model_module": "@jupyter-widgets/base",
      "model_module_version": "1.2.0",
      "model_name": "LayoutModel",
      "state": {}
     },
     "855963b7d1c944a7ad41a363559fe2f3": {
      "model_module": "@jupyter-widgets/controls",
      "model_module_version": "1.5.0",
      "model_name": "DescriptionStyleModel",
      "state": {
       "description_width": ""
      }
     },
     "8568c483500e4c27afe98063b1f6030c": {
      "model_module": "plotlywidget",
      "model_module_version": "^1.2.0",
      "model_name": "FigureModel",
      "state": {
       "_config": {
        "plotlyServerURL": "https://plot.ly"
       },
       "_data": [
        {
         "fill": "tonexty",
         "line": {
          "shape": "linear"
         },
         "mode": "lines+markers",
         "name": "",
         "type": "scatter",
         "uid": "84806cbf-e483-4cbe-8db4-6c0ea05244ab",
         "x": [
          0,
          100,
          200,
          300,
          400,
          500,
          600,
          700,
          800,
          900,
          1000,
          1100,
          1200,
          1300,
          1400,
          1500,
          1600,
          1700,
          1800,
          1900,
          2000,
          2100,
          2200,
          2300,
          2400,
          2500,
          2600,
          2700,
          2800,
          2900,
          3000,
          3100,
          3200,
          3300,
          3400,
          3500,
          3600,
          3700,
          3800,
          3900,
          4000,
          4100,
          4200,
          4300,
          4400,
          4500,
          4600,
          4700,
          4800,
          4900,
          5000,
          5100,
          5200,
          5300,
          5400,
          5500,
          5600,
          5700,
          5800,
          5900,
          6000,
          6100,
          6200,
          6300,
          6400,
          6500,
          6600,
          6700,
          6800,
          6900,
          7000,
          7100,
          7200,
          7300,
          7400,
          7500,
          7600,
          7700,
          7800,
          7900,
          8000,
          8100,
          8200,
          8300,
          8400,
          8500,
          8600,
          8700,
          8800,
          8900,
          9000,
          9100,
          9200,
          9300,
          9400,
          9500,
          9600,
          9700,
          9800,
          9900,
          10000
         ],
         "y": [
          0,
          27,
          35,
          46,
          54,
          60,
          66,
          73,
          57,
          62,
          59,
          62,
          56,
          58,
          50,
          52,
          58,
          59,
          62,
          63,
          58,
          61,
          62,
          64,
          64,
          67,
          67,
          68,
          70,
          68,
          68,
          70,
          72,
          76,
          78,
          80,
          80,
          82,
          79,
          80,
          82,
          82,
          82,
          85,
          85,
          85,
          82,
          83,
          84,
          83,
          83,
          84,
          85,
          84,
          84,
          79,
          81,
          81,
          81,
          81,
          81,
          81,
          78,
          78,
          78,
          79,
          80,
          80,
          78,
          77,
          79,
          79,
          79,
          80,
          80,
          81,
          83,
          69,
          71,
          72,
          71,
          70,
          70,
          71,
          72,
          72,
          72,
          74,
          74,
          74,
          74,
          74,
          74,
          75,
          76,
          77,
          79,
          79,
          79,
          80,
          72
         ]
        }
       ],
       "_js2py_pointsCallback": {},
       "_js2py_relayout": {},
       "_js2py_restyle": {},
       "_js2py_update": {},
       "_last_layout_edit_id": 4,
       "_last_trace_edit_id": 1,
       "_layout": {
        "height": 240,
        "hovermode": "closest",
        "margin": {
         "b": 15,
         "l": 15,
         "r": 15,
         "t": 40
        },
        "showlegend": false,
        "template": {
         "data": {
          "bar": [
           {
            "error_x": {
             "color": "#2a3f5f"
            },
            "error_y": {
             "color": "#2a3f5f"
            },
            "marker": {
             "line": {
              "color": "#E5ECF6",
              "width": 0.5
             }
            },
            "type": "bar"
           }
          ],
          "barpolar": [
           {
            "marker": {
             "line": {
              "color": "#E5ECF6",
              "width": 0.5
             }
            },
            "type": "barpolar"
           }
          ],
          "carpet": [
           {
            "aaxis": {
             "endlinecolor": "#2a3f5f",
             "gridcolor": "white",
             "linecolor": "white",
             "minorgridcolor": "white",
             "startlinecolor": "#2a3f5f"
            },
            "baxis": {
             "endlinecolor": "#2a3f5f",
             "gridcolor": "white",
             "linecolor": "white",
             "minorgridcolor": "white",
             "startlinecolor": "#2a3f5f"
            },
            "type": "carpet"
           }
          ],
          "choropleth": [
           {
            "colorbar": {
             "outlinewidth": 0,
             "ticks": ""
            },
            "type": "choropleth"
           }
          ],
          "contour": [
           {
            "colorbar": {
             "outlinewidth": 0,
             "ticks": ""
            },
            "colorscale": [
             [
              0,
              "#0d0887"
             ],
             [
              0.1111111111111111,
              "#46039f"
             ],
             [
              0.2222222222222222,
              "#7201a8"
             ],
             [
              0.3333333333333333,
              "#9c179e"
             ],
             [
              0.4444444444444444,
              "#bd3786"
             ],
             [
              0.5555555555555556,
              "#d8576b"
             ],
             [
              0.6666666666666666,
              "#ed7953"
             ],
             [
              0.7777777777777778,
              "#fb9f3a"
             ],
             [
              0.8888888888888888,
              "#fdca26"
             ],
             [
              1,
              "#f0f921"
             ]
            ],
            "type": "contour"
           }
          ],
          "contourcarpet": [
           {
            "colorbar": {
             "outlinewidth": 0,
             "ticks": ""
            },
            "type": "contourcarpet"
           }
          ],
          "heatmap": [
           {
            "colorbar": {
             "outlinewidth": 0,
             "ticks": ""
            },
            "colorscale": [
             [
              0,
              "#0d0887"
             ],
             [
              0.1111111111111111,
              "#46039f"
             ],
             [
              0.2222222222222222,
              "#7201a8"
             ],
             [
              0.3333333333333333,
              "#9c179e"
             ],
             [
              0.4444444444444444,
              "#bd3786"
             ],
             [
              0.5555555555555556,
              "#d8576b"
             ],
             [
              0.6666666666666666,
              "#ed7953"
             ],
             [
              0.7777777777777778,
              "#fb9f3a"
             ],
             [
              0.8888888888888888,
              "#fdca26"
             ],
             [
              1,
              "#f0f921"
             ]
            ],
            "type": "heatmap"
           }
          ],
          "heatmapgl": [
           {
            "colorbar": {
             "outlinewidth": 0,
             "ticks": ""
            },
            "colorscale": [
             [
              0,
              "#0d0887"
             ],
             [
              0.1111111111111111,
              "#46039f"
             ],
             [
              0.2222222222222222,
              "#7201a8"
             ],
             [
              0.3333333333333333,
              "#9c179e"
             ],
             [
              0.4444444444444444,
              "#bd3786"
             ],
             [
              0.5555555555555556,
              "#d8576b"
             ],
             [
              0.6666666666666666,
              "#ed7953"
             ],
             [
              0.7777777777777778,
              "#fb9f3a"
             ],
             [
              0.8888888888888888,
              "#fdca26"
             ],
             [
              1,
              "#f0f921"
             ]
            ],
            "type": "heatmapgl"
           }
          ],
          "histogram": [
           {
            "marker": {
             "colorbar": {
              "outlinewidth": 0,
              "ticks": ""
             }
            },
            "type": "histogram"
           }
          ],
          "histogram2d": [
           {
            "colorbar": {
             "outlinewidth": 0,
             "ticks": ""
            },
            "colorscale": [
             [
              0,
              "#0d0887"
             ],
             [
              0.1111111111111111,
              "#46039f"
             ],
             [
              0.2222222222222222,
              "#7201a8"
             ],
             [
              0.3333333333333333,
              "#9c179e"
             ],
             [
              0.4444444444444444,
              "#bd3786"
             ],
             [
              0.5555555555555556,
              "#d8576b"
             ],
             [
              0.6666666666666666,
              "#ed7953"
             ],
             [
              0.7777777777777778,
              "#fb9f3a"
             ],
             [
              0.8888888888888888,
              "#fdca26"
             ],
             [
              1,
              "#f0f921"
             ]
            ],
            "type": "histogram2d"
           }
          ],
          "histogram2dcontour": [
           {
            "colorbar": {
             "outlinewidth": 0,
             "ticks": ""
            },
            "colorscale": [
             [
              0,
              "#0d0887"
             ],
             [
              0.1111111111111111,
              "#46039f"
             ],
             [
              0.2222222222222222,
              "#7201a8"
             ],
             [
              0.3333333333333333,
              "#9c179e"
             ],
             [
              0.4444444444444444,
              "#bd3786"
             ],
             [
              0.5555555555555556,
              "#d8576b"
             ],
             [
              0.6666666666666666,
              "#ed7953"
             ],
             [
              0.7777777777777778,
              "#fb9f3a"
             ],
             [
              0.8888888888888888,
              "#fdca26"
             ],
             [
              1,
              "#f0f921"
             ]
            ],
            "type": "histogram2dcontour"
           }
          ],
          "mesh3d": [
           {
            "colorbar": {
             "outlinewidth": 0,
             "ticks": ""
            },
            "type": "mesh3d"
           }
          ],
          "parcoords": [
           {
            "line": {
             "colorbar": {
              "outlinewidth": 0,
              "ticks": ""
             }
            },
            "type": "parcoords"
           }
          ],
          "scatter": [
           {
            "marker": {
             "colorbar": {
              "outlinewidth": 0,
              "ticks": ""
             }
            },
            "type": "scatter"
           }
          ],
          "scatter3d": [
           {
            "line": {
             "colorbar": {
              "outlinewidth": 0,
              "ticks": ""
             }
            },
            "marker": {
             "colorbar": {
              "outlinewidth": 0,
              "ticks": ""
             }
            },
            "type": "scatter3d"
           }
          ],
          "scattercarpet": [
           {
            "marker": {
             "colorbar": {
              "outlinewidth": 0,
              "ticks": ""
             }
            },
            "type": "scattercarpet"
           }
          ],
          "scattergeo": [
           {
            "marker": {
             "colorbar": {
              "outlinewidth": 0,
              "ticks": ""
             }
            },
            "type": "scattergeo"
           }
          ],
          "scattergl": [
           {
            "marker": {
             "colorbar": {
              "outlinewidth": 0,
              "ticks": ""
             }
            },
            "type": "scattergl"
           }
          ],
          "scattermapbox": [
           {
            "marker": {
             "colorbar": {
              "outlinewidth": 0,
              "ticks": ""
             }
            },
            "type": "scattermapbox"
           }
          ],
          "scatterpolar": [
           {
            "marker": {
             "colorbar": {
              "outlinewidth": 0,
              "ticks": ""
             }
            },
            "type": "scatterpolar"
           }
          ],
          "scatterpolargl": [
           {
            "marker": {
             "colorbar": {
              "outlinewidth": 0,
              "ticks": ""
             }
            },
            "type": "scatterpolargl"
           }
          ],
          "scatterternary": [
           {
            "marker": {
             "colorbar": {
              "outlinewidth": 0,
              "ticks": ""
             }
            },
            "type": "scatterternary"
           }
          ],
          "surface": [
           {
            "colorbar": {
             "outlinewidth": 0,
             "ticks": ""
            },
            "colorscale": [
             [
              0,
              "#0d0887"
             ],
             [
              0.1111111111111111,
              "#46039f"
             ],
             [
              0.2222222222222222,
              "#7201a8"
             ],
             [
              0.3333333333333333,
              "#9c179e"
             ],
             [
              0.4444444444444444,
              "#bd3786"
             ],
             [
              0.5555555555555556,
              "#d8576b"
             ],
             [
              0.6666666666666666,
              "#ed7953"
             ],
             [
              0.7777777777777778,
              "#fb9f3a"
             ],
             [
              0.8888888888888888,
              "#fdca26"
             ],
             [
              1,
              "#f0f921"
             ]
            ],
            "type": "surface"
           }
          ],
          "table": [
           {
            "cells": {
             "fill": {
              "color": "#EBF0F8"
             },
             "line": {
              "color": "white"
             }
            },
            "header": {
             "fill": {
              "color": "#C8D4E3"
             },
             "line": {
              "color": "white"
             }
            },
            "type": "table"
           }
          ]
         },
         "layout": {
          "annotationdefaults": {
           "arrowcolor": "#2a3f5f",
           "arrowhead": 0,
           "arrowwidth": 1
          },
          "colorscale": {
           "diverging": [
            [
             0,
             "#8e0152"
            ],
            [
             0.1,
             "#c51b7d"
            ],
            [
             0.2,
             "#de77ae"
            ],
            [
             0.3,
             "#f1b6da"
            ],
            [
             0.4,
             "#fde0ef"
            ],
            [
             0.5,
             "#f7f7f7"
            ],
            [
             0.6,
             "#e6f5d0"
            ],
            [
             0.7,
             "#b8e186"
            ],
            [
             0.8,
             "#7fbc41"
            ],
            [
             0.9,
             "#4d9221"
            ],
            [
             1,
             "#276419"
            ]
           ],
           "sequential": [
            [
             0,
             "#0d0887"
            ],
            [
             0.1111111111111111,
             "#46039f"
            ],
            [
             0.2222222222222222,
             "#7201a8"
            ],
            [
             0.3333333333333333,
             "#9c179e"
            ],
            [
             0.4444444444444444,
             "#bd3786"
            ],
            [
             0.5555555555555556,
             "#d8576b"
            ],
            [
             0.6666666666666666,
             "#ed7953"
            ],
            [
             0.7777777777777778,
             "#fb9f3a"
            ],
            [
             0.8888888888888888,
             "#fdca26"
            ],
            [
             1,
             "#f0f921"
            ]
           ],
           "sequentialminus": [
            [
             0,
             "#0d0887"
            ],
            [
             0.1111111111111111,
             "#46039f"
            ],
            [
             0.2222222222222222,
             "#7201a8"
            ],
            [
             0.3333333333333333,
             "#9c179e"
            ],
            [
             0.4444444444444444,
             "#bd3786"
            ],
            [
             0.5555555555555556,
             "#d8576b"
            ],
            [
             0.6666666666666666,
             "#ed7953"
            ],
            [
             0.7777777777777778,
             "#fb9f3a"
            ],
            [
             0.8888888888888888,
             "#fdca26"
            ],
            [
             1,
             "#f0f921"
            ]
           ]
          },
          "colorway": [
           "#636efa",
           "#EF553B",
           "#00cc96",
           "#ab63fa",
           "#FFA15A",
           "#19d3f3",
           "#FF6692",
           "#B6E880",
           "#FF97FF",
           "#FECB52"
          ],
          "font": {
           "color": "#2a3f5f"
          },
          "geo": {
           "bgcolor": "white",
           "lakecolor": "white",
           "landcolor": "#E5ECF6",
           "showlakes": true,
           "showland": true,
           "subunitcolor": "white"
          },
          "hoverlabel": {
           "align": "left"
          },
          "hovermode": "closest",
          "mapbox": {
           "style": "light"
          },
          "paper_bgcolor": "white",
          "plot_bgcolor": "#E5ECF6",
          "polar": {
           "angularaxis": {
            "gridcolor": "white",
            "linecolor": "white",
            "ticks": ""
           },
           "bgcolor": "#E5ECF6",
           "radialaxis": {
            "gridcolor": "white",
            "linecolor": "white",
            "ticks": ""
           }
          },
          "scene": {
           "xaxis": {
            "backgroundcolor": "#E5ECF6",
            "gridcolor": "white",
            "gridwidth": 2,
            "linecolor": "white",
            "showbackground": true,
            "ticks": "",
            "zerolinecolor": "white"
           },
           "yaxis": {
            "backgroundcolor": "#E5ECF6",
            "gridcolor": "white",
            "gridwidth": 2,
            "linecolor": "white",
            "showbackground": true,
            "ticks": "",
            "zerolinecolor": "white"
           },
           "zaxis": {
            "backgroundcolor": "#E5ECF6",
            "gridcolor": "white",
            "gridwidth": 2,
            "linecolor": "white",
            "showbackground": true,
            "ticks": "",
            "zerolinecolor": "white"
           }
          },
          "shapedefaults": {
           "line": {
            "color": "#2a3f5f"
           }
          },
          "ternary": {
           "aaxis": {
            "gridcolor": "white",
            "linecolor": "white",
            "ticks": ""
           },
           "baxis": {
            "gridcolor": "white",
            "linecolor": "white",
            "ticks": ""
           },
           "bgcolor": "#E5ECF6",
           "caxis": {
            "gridcolor": "white",
            "linecolor": "white",
            "ticks": ""
           }
          },
          "title": {
           "x": 0.05
          },
          "xaxis": {
           "automargin": true,
           "gridcolor": "white",
           "linecolor": "white",
           "ticks": "",
           "zerolinecolor": "white",
           "zerolinewidth": 2
          },
          "yaxis": {
           "automargin": true,
           "gridcolor": "white",
           "linecolor": "white",
           "ticks": "",
           "zerolinecolor": "white",
           "zerolinewidth": 2
          }
         }
        },
        "title": {
         "text": "Number of Solutions"
        },
        "width": 340
       },
       "_py2js_addTraces": {},
       "_py2js_animate": {},
       "_py2js_deleteTraces": {},
       "_py2js_moveTraces": {},
       "_py2js_removeLayoutProps": {},
       "_py2js_removeTraceProps": {},
       "_py2js_restyle": {},
       "_view_count": 1
      }
     },
     "8590de8013e845e6aff0a27811a22f0c": {
      "model_module": "@jupyter-widgets/controls",
      "model_module_version": "1.5.0",
      "model_name": "CheckboxModel",
      "state": {
       "description": "(M-) Possibility of Negative Net Benefits",
       "description_tooltip": "Possibility of Negative Net Benefits",
       "disabled": false,
       "layout": "IPY_MODEL_a212678fdd1a4e5aa216f1a814325cf5",
       "name": "Possibility of Negative Net Benefits",
       "style": "IPY_MODEL_9ba3093ce82c4138af01c11f63c90b0d",
       "value": true
      }
     },
     "8733564b7ecd4a55bd3ff2cf1e626afc": {
      "model_module": "@jupyter-widgets/base",
      "model_module_version": "1.2.0",
      "model_name": "LayoutModel",
      "state": {
       "flex_flow": "row wrap"
      }
     },
     "88268a160909436487603e84a69f1922": {
      "model_module": "@jupyter-widgets/controls",
      "model_module_version": "1.5.0",
      "model_name": "DescriptionStyleModel",
      "state": {
       "description_width": ""
      }
     },
     "88639999fb10400b8e2c4d99e4ace68d": {
      "model_module": "@jupyter-widgets/controls",
      "model_module_version": "1.5.0",
      "model_name": "DescriptionStyleModel",
      "state": {
       "description_width": ""
      }
     },
     "8a50035b17d648058b8811920de79fed": {
      "model_module": "@jupyter-widgets/base",
      "model_module_version": "1.2.0",
      "model_name": "LayoutModel",
      "state": {}
     },
     "8d0f6a89ec874489b574f7df814f8496": {
      "model_module": "@jupyter-widgets/controls",
      "model_module_version": "1.5.0",
      "model_name": "DropdownModel",
      "state": {
       "_options_labels": [
        " ",
        "   Clear Selection Constraints",
        "-- (X) Uncertainties --",
        "   Show All Exogenous Uncertainties",
        "   Hide All Exogenous Uncertainties",
        "-- (L) Levers --",
        "   Show All Policy Levers",
        "   Hide All Policy Levers",
        "-- (M) Measures --",
        "   Show All Performance Measures",
        "   Hide All Performance Measures"
       ],
       "description": "View:",
       "index": 0,
       "layout": "IPY_MODEL_0ea4eccae9dc4753a9041ef4616da723",
       "style": "IPY_MODEL_b21df3cc7c6e4f0798ad2c7fb7672fef"
      }
     },
     "8d8e7149180044298f08b0da8cde8de9": {
      "model_module": "@jupyter-widgets/base",
      "model_module_version": "1.2.0",
      "model_name": "LayoutModel",
      "state": {}
     },
     "8dcb321d0ec04d54a0f482e17cc63cc4": {
      "model_module": "@jupyter-widgets/controls",
      "model_module_version": "1.5.0",
      "model_name": "CheckboxModel",
      "state": {
       "description": "(M+) net_benefits",
       "description_tooltip": "net_benefits",
       "disabled": false,
       "layout": "IPY_MODEL_6dbfacbe6cee441ea79a48cebf79f4f6",
       "name": "net_benefits",
       "style": "IPY_MODEL_7a36356d421d4417a555992460b2f197",
       "value": true
      }
     },
     "8fd17160436844abb5f4e9169c60626b": {
      "model_module": "@jupyter-widgets/controls",
      "model_module_version": "1.5.0",
      "model_name": "HBoxModel",
      "state": {
       "children": [
        "IPY_MODEL_6bad9dbbec374301bca81bc4749832f3",
        "IPY_MODEL_ad13b04e0743446f8ade93aa246deebe"
       ],
       "layout": "IPY_MODEL_dccb23e701274dd08cc4d61069e40045"
      }
     },
     "904fb58914d643bdaadb6ff65cde93f6": {
      "model_module": "@jupyter-widgets/controls",
      "model_module_version": "1.5.0",
      "model_name": "AccordionModel",
      "state": {
       "_titles": {
        "0": "Axes"
       },
       "children": [
        "IPY_MODEL_ae601136f7924b54b909eb4c1feb8ea4"
       ],
       "layout": "IPY_MODEL_7de8548af5964b74be1cb39d5d64e8d8",
       "selected_index": null
      }
     },
     "911f8caeaa934c6ca8f5affbab19bf5c": {
      "model_module": "@jupyter-widgets/controls",
      "model_module_version": "1.5.0",
      "model_name": "DescriptionStyleModel",
      "state": {
       "description_width": ""
      }
     },
     "92ead3687e1641b28b9577b6b4fdb357": {
      "model_module": "@jupyter-widgets/controls",
      "model_module_version": "1.5.0",
      "model_name": "DropdownModel",
      "state": {
       "_options_labels": [
        "< None >",
        "alpha",
        "beta",
        "input_flow",
        "value_of_time",
        "unit_cost_expansion",
        "interest_rate",
        "yield_curve",
        "build_travel_time",
        "time_savings",
        "value_of_time_savings",
        "net_benefits",
        "cost_of_capacity_expansion"
       ],
       "description": "Colorize:",
       "index": 1,
       "layout": "IPY_MODEL_70ae140f89904958ba5a5119793fb383",
       "style": "IPY_MODEL_911f8caeaa934c6ca8f5affbab19bf5c"
      }
     },
     "936f089a83424397b601b17cb6abc2b1": {
      "model_module": "@jupyter-widgets/controls",
      "model_module_version": "1.5.0",
      "model_name": "DescriptionStyleModel",
      "state": {
       "description_width": ""
      }
     },
     "9378a847d70249fa860f064212506261": {
      "model_module": "plotlywidget",
      "model_module_version": "^1.2.0",
      "model_name": "FigureModel",
      "state": {
       "_config": {
        "plotlyServerURL": "https://plot.ly"
       },
       "_data": [
        {
         "fill": "tonexty",
         "line": {
          "shape": "linear"
         },
         "mode": "lines+markers",
         "name": "",
         "type": "scatter",
         "uid": "f13b6bf3-a758-476f-9a25-c9ca0ab43e09",
         "x": [
          0,
          100,
          200,
          300,
          400,
          500,
          600,
          700,
          800,
          900,
          1000,
          1100,
          1200,
          1300,
          1400,
          1500,
          1600,
          1700,
          1800,
          1900,
          2000,
          2100,
          2200,
          2300,
          2400,
          2500,
          2600,
          2700,
          2800,
          2900,
          3000,
          3100,
          3200,
          3300,
          3400,
          3500,
          3600,
          3700,
          3800,
          3900,
          4000,
          4100,
          4200,
          4300,
          4400,
          4500,
          4600,
          4700,
          4800,
          4900,
          5000,
          5100,
          5200,
          5300,
          5400,
          5500,
          5600,
          5700,
          5800,
          5900,
          6000,
          6100,
          6200,
          6300,
          6400,
          6500,
          6600,
          6700,
          6800,
          6900,
          7000,
          7100,
          7200,
          7300,
          7400,
          7500,
          7600,
          7700,
          7800,
          7900,
          8000,
          8100,
          8200,
          8300,
          8400,
          8500,
          8600,
          8700,
          8800,
          8900,
          9000,
          9100,
          9200,
          9300,
          9400,
          9500,
          9600,
          9700,
          9800,
          9900,
          10000
         ],
         "y": [
          0,
          21,
          25,
          33,
          39,
          41,
          44,
          45,
          45,
          47,
          49,
          49,
          50,
          54,
          56,
          55,
          55,
          55,
          55,
          55,
          55,
          55,
          55,
          55,
          57,
          57,
          58,
          58,
          58,
          59,
          59,
          60,
          61,
          62,
          63,
          63,
          63,
          63,
          64,
          65,
          65,
          65,
          66,
          66,
          66,
          66,
          66,
          66,
          66,
          66,
          66,
          66,
          66,
          66,
          66,
          66,
          66,
          66,
          66,
          66,
          66,
          66,
          66,
          67,
          67,
          67,
          67,
          68,
          68,
          68,
          68,
          68,
          68,
          68,
          68,
          68,
          68,
          68,
          68,
          68,
          68,
          69,
          69,
          70,
          70,
          70,
          70,
          70,
          70,
          70,
          70,
          70,
          70,
          70,
          70,
          70,
          70,
          70,
          70,
          70,
          70
         ]
        }
       ],
       "_js2py_pointsCallback": {},
       "_js2py_relayout": {},
       "_js2py_restyle": {},
       "_js2py_update": {},
       "_last_layout_edit_id": 4,
       "_last_trace_edit_id": 1,
       "_layout": {
        "height": 240,
        "hovermode": "closest",
        "margin": {
         "b": 15,
         "l": 15,
         "r": 15,
         "t": 40
        },
        "showlegend": false,
        "template": {
         "data": {
          "bar": [
           {
            "error_x": {
             "color": "#2a3f5f"
            },
            "error_y": {
             "color": "#2a3f5f"
            },
            "marker": {
             "line": {
              "color": "#E5ECF6",
              "width": 0.5
             }
            },
            "type": "bar"
           }
          ],
          "barpolar": [
           {
            "marker": {
             "line": {
              "color": "#E5ECF6",
              "width": 0.5
             }
            },
            "type": "barpolar"
           }
          ],
          "carpet": [
           {
            "aaxis": {
             "endlinecolor": "#2a3f5f",
             "gridcolor": "white",
             "linecolor": "white",
             "minorgridcolor": "white",
             "startlinecolor": "#2a3f5f"
            },
            "baxis": {
             "endlinecolor": "#2a3f5f",
             "gridcolor": "white",
             "linecolor": "white",
             "minorgridcolor": "white",
             "startlinecolor": "#2a3f5f"
            },
            "type": "carpet"
           }
          ],
          "choropleth": [
           {
            "colorbar": {
             "outlinewidth": 0,
             "ticks": ""
            },
            "type": "choropleth"
           }
          ],
          "contour": [
           {
            "colorbar": {
             "outlinewidth": 0,
             "ticks": ""
            },
            "colorscale": [
             [
              0,
              "#0d0887"
             ],
             [
              0.1111111111111111,
              "#46039f"
             ],
             [
              0.2222222222222222,
              "#7201a8"
             ],
             [
              0.3333333333333333,
              "#9c179e"
             ],
             [
              0.4444444444444444,
              "#bd3786"
             ],
             [
              0.5555555555555556,
              "#d8576b"
             ],
             [
              0.6666666666666666,
              "#ed7953"
             ],
             [
              0.7777777777777778,
              "#fb9f3a"
             ],
             [
              0.8888888888888888,
              "#fdca26"
             ],
             [
              1,
              "#f0f921"
             ]
            ],
            "type": "contour"
           }
          ],
          "contourcarpet": [
           {
            "colorbar": {
             "outlinewidth": 0,
             "ticks": ""
            },
            "type": "contourcarpet"
           }
          ],
          "heatmap": [
           {
            "colorbar": {
             "outlinewidth": 0,
             "ticks": ""
            },
            "colorscale": [
             [
              0,
              "#0d0887"
             ],
             [
              0.1111111111111111,
              "#46039f"
             ],
             [
              0.2222222222222222,
              "#7201a8"
             ],
             [
              0.3333333333333333,
              "#9c179e"
             ],
             [
              0.4444444444444444,
              "#bd3786"
             ],
             [
              0.5555555555555556,
              "#d8576b"
             ],
             [
              0.6666666666666666,
              "#ed7953"
             ],
             [
              0.7777777777777778,
              "#fb9f3a"
             ],
             [
              0.8888888888888888,
              "#fdca26"
             ],
             [
              1,
              "#f0f921"
             ]
            ],
            "type": "heatmap"
           }
          ],
          "heatmapgl": [
           {
            "colorbar": {
             "outlinewidth": 0,
             "ticks": ""
            },
            "colorscale": [
             [
              0,
              "#0d0887"
             ],
             [
              0.1111111111111111,
              "#46039f"
             ],
             [
              0.2222222222222222,
              "#7201a8"
             ],
             [
              0.3333333333333333,
              "#9c179e"
             ],
             [
              0.4444444444444444,
              "#bd3786"
             ],
             [
              0.5555555555555556,
              "#d8576b"
             ],
             [
              0.6666666666666666,
              "#ed7953"
             ],
             [
              0.7777777777777778,
              "#fb9f3a"
             ],
             [
              0.8888888888888888,
              "#fdca26"
             ],
             [
              1,
              "#f0f921"
             ]
            ],
            "type": "heatmapgl"
           }
          ],
          "histogram": [
           {
            "marker": {
             "colorbar": {
              "outlinewidth": 0,
              "ticks": ""
             }
            },
            "type": "histogram"
           }
          ],
          "histogram2d": [
           {
            "colorbar": {
             "outlinewidth": 0,
             "ticks": ""
            },
            "colorscale": [
             [
              0,
              "#0d0887"
             ],
             [
              0.1111111111111111,
              "#46039f"
             ],
             [
              0.2222222222222222,
              "#7201a8"
             ],
             [
              0.3333333333333333,
              "#9c179e"
             ],
             [
              0.4444444444444444,
              "#bd3786"
             ],
             [
              0.5555555555555556,
              "#d8576b"
             ],
             [
              0.6666666666666666,
              "#ed7953"
             ],
             [
              0.7777777777777778,
              "#fb9f3a"
             ],
             [
              0.8888888888888888,
              "#fdca26"
             ],
             [
              1,
              "#f0f921"
             ]
            ],
            "type": "histogram2d"
           }
          ],
          "histogram2dcontour": [
           {
            "colorbar": {
             "outlinewidth": 0,
             "ticks": ""
            },
            "colorscale": [
             [
              0,
              "#0d0887"
             ],
             [
              0.1111111111111111,
              "#46039f"
             ],
             [
              0.2222222222222222,
              "#7201a8"
             ],
             [
              0.3333333333333333,
              "#9c179e"
             ],
             [
              0.4444444444444444,
              "#bd3786"
             ],
             [
              0.5555555555555556,
              "#d8576b"
             ],
             [
              0.6666666666666666,
              "#ed7953"
             ],
             [
              0.7777777777777778,
              "#fb9f3a"
             ],
             [
              0.8888888888888888,
              "#fdca26"
             ],
             [
              1,
              "#f0f921"
             ]
            ],
            "type": "histogram2dcontour"
           }
          ],
          "mesh3d": [
           {
            "colorbar": {
             "outlinewidth": 0,
             "ticks": ""
            },
            "type": "mesh3d"
           }
          ],
          "parcoords": [
           {
            "line": {
             "colorbar": {
              "outlinewidth": 0,
              "ticks": ""
             }
            },
            "type": "parcoords"
           }
          ],
          "scatter": [
           {
            "marker": {
             "colorbar": {
              "outlinewidth": 0,
              "ticks": ""
             }
            },
            "type": "scatter"
           }
          ],
          "scatter3d": [
           {
            "line": {
             "colorbar": {
              "outlinewidth": 0,
              "ticks": ""
             }
            },
            "marker": {
             "colorbar": {
              "outlinewidth": 0,
              "ticks": ""
             }
            },
            "type": "scatter3d"
           }
          ],
          "scattercarpet": [
           {
            "marker": {
             "colorbar": {
              "outlinewidth": 0,
              "ticks": ""
             }
            },
            "type": "scattercarpet"
           }
          ],
          "scattergeo": [
           {
            "marker": {
             "colorbar": {
              "outlinewidth": 0,
              "ticks": ""
             }
            },
            "type": "scattergeo"
           }
          ],
          "scattergl": [
           {
            "marker": {
             "colorbar": {
              "outlinewidth": 0,
              "ticks": ""
             }
            },
            "type": "scattergl"
           }
          ],
          "scattermapbox": [
           {
            "marker": {
             "colorbar": {
              "outlinewidth": 0,
              "ticks": ""
             }
            },
            "type": "scattermapbox"
           }
          ],
          "scatterpolar": [
           {
            "marker": {
             "colorbar": {
              "outlinewidth": 0,
              "ticks": ""
             }
            },
            "type": "scatterpolar"
           }
          ],
          "scatterpolargl": [
           {
            "marker": {
             "colorbar": {
              "outlinewidth": 0,
              "ticks": ""
             }
            },
            "type": "scatterpolargl"
           }
          ],
          "scatterternary": [
           {
            "marker": {
             "colorbar": {
              "outlinewidth": 0,
              "ticks": ""
             }
            },
            "type": "scatterternary"
           }
          ],
          "surface": [
           {
            "colorbar": {
             "outlinewidth": 0,
             "ticks": ""
            },
            "colorscale": [
             [
              0,
              "#0d0887"
             ],
             [
              0.1111111111111111,
              "#46039f"
             ],
             [
              0.2222222222222222,
              "#7201a8"
             ],
             [
              0.3333333333333333,
              "#9c179e"
             ],
             [
              0.4444444444444444,
              "#bd3786"
             ],
             [
              0.5555555555555556,
              "#d8576b"
             ],
             [
              0.6666666666666666,
              "#ed7953"
             ],
             [
              0.7777777777777778,
              "#fb9f3a"
             ],
             [
              0.8888888888888888,
              "#fdca26"
             ],
             [
              1,
              "#f0f921"
             ]
            ],
            "type": "surface"
           }
          ],
          "table": [
           {
            "cells": {
             "fill": {
              "color": "#EBF0F8"
             },
             "line": {
              "color": "white"
             }
            },
            "header": {
             "fill": {
              "color": "#C8D4E3"
             },
             "line": {
              "color": "white"
             }
            },
            "type": "table"
           }
          ]
         },
         "layout": {
          "annotationdefaults": {
           "arrowcolor": "#2a3f5f",
           "arrowhead": 0,
           "arrowwidth": 1
          },
          "colorscale": {
           "diverging": [
            [
             0,
             "#8e0152"
            ],
            [
             0.1,
             "#c51b7d"
            ],
            [
             0.2,
             "#de77ae"
            ],
            [
             0.3,
             "#f1b6da"
            ],
            [
             0.4,
             "#fde0ef"
            ],
            [
             0.5,
             "#f7f7f7"
            ],
            [
             0.6,
             "#e6f5d0"
            ],
            [
             0.7,
             "#b8e186"
            ],
            [
             0.8,
             "#7fbc41"
            ],
            [
             0.9,
             "#4d9221"
            ],
            [
             1,
             "#276419"
            ]
           ],
           "sequential": [
            [
             0,
             "#0d0887"
            ],
            [
             0.1111111111111111,
             "#46039f"
            ],
            [
             0.2222222222222222,
             "#7201a8"
            ],
            [
             0.3333333333333333,
             "#9c179e"
            ],
            [
             0.4444444444444444,
             "#bd3786"
            ],
            [
             0.5555555555555556,
             "#d8576b"
            ],
            [
             0.6666666666666666,
             "#ed7953"
            ],
            [
             0.7777777777777778,
             "#fb9f3a"
            ],
            [
             0.8888888888888888,
             "#fdca26"
            ],
            [
             1,
             "#f0f921"
            ]
           ],
           "sequentialminus": [
            [
             0,
             "#0d0887"
            ],
            [
             0.1111111111111111,
             "#46039f"
            ],
            [
             0.2222222222222222,
             "#7201a8"
            ],
            [
             0.3333333333333333,
             "#9c179e"
            ],
            [
             0.4444444444444444,
             "#bd3786"
            ],
            [
             0.5555555555555556,
             "#d8576b"
            ],
            [
             0.6666666666666666,
             "#ed7953"
            ],
            [
             0.7777777777777778,
             "#fb9f3a"
            ],
            [
             0.8888888888888888,
             "#fdca26"
            ],
            [
             1,
             "#f0f921"
            ]
           ]
          },
          "colorway": [
           "#636efa",
           "#EF553B",
           "#00cc96",
           "#ab63fa",
           "#FFA15A",
           "#19d3f3",
           "#FF6692",
           "#B6E880",
           "#FF97FF",
           "#FECB52"
          ],
          "font": {
           "color": "#2a3f5f"
          },
          "geo": {
           "bgcolor": "white",
           "lakecolor": "white",
           "landcolor": "#E5ECF6",
           "showlakes": true,
           "showland": true,
           "subunitcolor": "white"
          },
          "hoverlabel": {
           "align": "left"
          },
          "hovermode": "closest",
          "mapbox": {
           "style": "light"
          },
          "paper_bgcolor": "white",
          "plot_bgcolor": "#E5ECF6",
          "polar": {
           "angularaxis": {
            "gridcolor": "white",
            "linecolor": "white",
            "ticks": ""
           },
           "bgcolor": "#E5ECF6",
           "radialaxis": {
            "gridcolor": "white",
            "linecolor": "white",
            "ticks": ""
           }
          },
          "scene": {
           "xaxis": {
            "backgroundcolor": "#E5ECF6",
            "gridcolor": "white",
            "gridwidth": 2,
            "linecolor": "white",
            "showbackground": true,
            "ticks": "",
            "zerolinecolor": "white"
           },
           "yaxis": {
            "backgroundcolor": "#E5ECF6",
            "gridcolor": "white",
            "gridwidth": 2,
            "linecolor": "white",
            "showbackground": true,
            "ticks": "",
            "zerolinecolor": "white"
           },
           "zaxis": {
            "backgroundcolor": "#E5ECF6",
            "gridcolor": "white",
            "gridwidth": 2,
            "linecolor": "white",
            "showbackground": true,
            "ticks": "",
            "zerolinecolor": "white"
           }
          },
          "shapedefaults": {
           "line": {
            "color": "#2a3f5f"
           }
          },
          "ternary": {
           "aaxis": {
            "gridcolor": "white",
            "linecolor": "white",
            "ticks": ""
           },
           "baxis": {
            "gridcolor": "white",
            "linecolor": "white",
            "ticks": ""
           },
           "bgcolor": "#E5ECF6",
           "caxis": {
            "gridcolor": "white",
            "linecolor": "white",
            "ticks": ""
           }
          },
          "title": {
           "x": 0.05
          },
          "xaxis": {
           "automargin": true,
           "gridcolor": "white",
           "linecolor": "white",
           "ticks": "",
           "zerolinecolor": "white",
           "zerolinewidth": 2
          },
          "yaxis": {
           "automargin": true,
           "gridcolor": "white",
           "linecolor": "white",
           "ticks": "",
           "zerolinecolor": "white",
           "zerolinewidth": 2
          }
         }
        },
        "title": {
         "text": "Number of Solutions"
        },
        "width": 340
       },
       "_py2js_addTraces": {},
       "_py2js_animate": {},
       "_py2js_deleteTraces": {},
       "_py2js_moveTraces": {},
       "_py2js_removeLayoutProps": {},
       "_py2js_removeTraceProps": {},
       "_py2js_restyle": {},
       "_view_count": 1
      }
     },
     "9756f0f5caa640b2bd30f5e0b0da4dd9": {
      "model_module": "@jupyter-widgets/controls",
      "model_module_version": "1.5.0",
      "model_name": "DescriptionStyleModel",
      "state": {
       "description_width": ""
      }
     },
     "975a623a32a94b94aec327e52980d344": {
      "model_module": "@jupyter-widgets/controls",
      "model_module_version": "1.5.0",
      "model_name": "CheckboxModel",
      "state": {
       "description": "(L) expand_capacity",
       "description_tooltip": "expand_capacity",
       "disabled": false,
       "layout": "IPY_MODEL_4d87eb7431fa4ce3867ff455240b08d8",
       "name": "expand_capacity",
       "style": "IPY_MODEL_bcbb430ecab24e7b97d5d86e81edcbbd",
       "value": true
      }
     },
     "99019833dd884c84859016c3e013ad0f": {
      "model_module": "@jupyter-widgets/base",
      "model_module_version": "1.2.0",
      "model_name": "LayoutModel",
      "state": {}
     },
     "9ba3093ce82c4138af01c11f63c90b0d": {
      "model_module": "@jupyter-widgets/controls",
      "model_module_version": "1.5.0",
      "model_name": "DescriptionStyleModel",
      "state": {
       "description_width": ""
      }
     },
     "9ce630e8a2e645109f0ca0ae3d3eb8d9": {
      "model_module": "@jupyter-widgets/base",
      "model_module_version": "1.2.0",
      "model_name": "LayoutModel",
      "state": {}
     },
     "9dd6205ad5e044d094786b6b2383596d": {
      "model_module": "plotlywidget",
      "model_module_version": "^1.2.0",
      "model_name": "FigureModel",
      "state": {
       "_config": {
        "plotlyServerURL": "https://plot.ly"
       },
       "_data": [
        {
         "fill": "tonexty",
         "line": {
          "shape": "linear"
         },
         "mode": "lines+markers",
         "name": "",
         "type": "scatter",
         "uid": "be4ec7de-4f9f-444c-bad8-7edf1832abfc",
         "x": [
          0,
          100,
          200,
          300,
          400,
          500,
          600,
          700,
          800,
          900,
          1000,
          1100,
          1200,
          1300,
          1400,
          1500,
          1600,
          1700,
          1800,
          1900,
          2000,
          2100,
          2200,
          2300,
          2400,
          2500,
          2600,
          2700,
          2800,
          2900,
          3000,
          3100,
          3200,
          3300,
          3400,
          3500,
          3600,
          3700,
          3800,
          3900,
          4000,
          4100,
          4200,
          4300,
          4400,
          4500,
          4600,
          4700,
          4800,
          4900,
          5000,
          5100,
          5200,
          5300,
          5400,
          5500,
          5600,
          5700,
          5800,
          5900,
          6000,
          6100,
          6200,
          6300,
          6400,
          6500,
          6600,
          6700,
          6800,
          6900,
          7000,
          7100,
          7200,
          7300,
          7400,
          7500,
          7600,
          7700,
          7800,
          7900,
          8000,
          8100,
          8200,
          8300,
          8400,
          8500,
          8600,
          8700,
          8800,
          8900,
          9000,
          9100,
          9200,
          9300,
          9400,
          9500,
          9600,
          9700,
          9800,
          9900,
          10000
         ],
         "y": [
          0,
          38,
          56,
          75,
          96,
          104,
          120,
          130,
          141,
          151,
          154,
          163,
          170,
          176,
          184,
          188,
          195,
          196,
          203,
          205,
          210,
          213,
          214,
          216,
          220,
          224,
          227,
          228,
          232,
          236,
          237,
          239,
          242,
          246,
          248,
          250,
          250,
          254,
          255,
          257,
          259,
          259,
          259,
          262,
          262,
          264,
          266,
          267,
          268,
          269,
          269,
          270,
          272,
          273,
          273,
          274,
          277,
          277,
          277,
          279,
          280,
          280,
          281,
          281,
          281,
          282,
          283,
          284,
          285,
          287,
          289,
          289,
          289,
          290,
          290,
          291,
          293,
          296,
          298,
          299,
          300,
          301,
          301,
          302,
          303,
          303,
          303,
          305,
          305,
          305,
          305,
          307,
          307,
          309,
          310,
          311,
          313,
          313,
          313,
          314,
          316
         ]
        }
       ],
       "_js2py_pointsCallback": {},
       "_js2py_relayout": {},
       "_js2py_restyle": {},
       "_js2py_update": {},
       "_last_layout_edit_id": 4,
       "_last_trace_edit_id": 1,
       "_layout": {
        "height": 240,
        "hovermode": "closest",
        "margin": {
         "b": 15,
         "l": 15,
         "r": 15,
         "t": 40
        },
        "showlegend": false,
        "template": {
         "data": {
          "bar": [
           {
            "error_x": {
             "color": "#2a3f5f"
            },
            "error_y": {
             "color": "#2a3f5f"
            },
            "marker": {
             "line": {
              "color": "#E5ECF6",
              "width": 0.5
             }
            },
            "type": "bar"
           }
          ],
          "barpolar": [
           {
            "marker": {
             "line": {
              "color": "#E5ECF6",
              "width": 0.5
             }
            },
            "type": "barpolar"
           }
          ],
          "carpet": [
           {
            "aaxis": {
             "endlinecolor": "#2a3f5f",
             "gridcolor": "white",
             "linecolor": "white",
             "minorgridcolor": "white",
             "startlinecolor": "#2a3f5f"
            },
            "baxis": {
             "endlinecolor": "#2a3f5f",
             "gridcolor": "white",
             "linecolor": "white",
             "minorgridcolor": "white",
             "startlinecolor": "#2a3f5f"
            },
            "type": "carpet"
           }
          ],
          "choropleth": [
           {
            "colorbar": {
             "outlinewidth": 0,
             "ticks": ""
            },
            "type": "choropleth"
           }
          ],
          "contour": [
           {
            "colorbar": {
             "outlinewidth": 0,
             "ticks": ""
            },
            "colorscale": [
             [
              0,
              "#0d0887"
             ],
             [
              0.1111111111111111,
              "#46039f"
             ],
             [
              0.2222222222222222,
              "#7201a8"
             ],
             [
              0.3333333333333333,
              "#9c179e"
             ],
             [
              0.4444444444444444,
              "#bd3786"
             ],
             [
              0.5555555555555556,
              "#d8576b"
             ],
             [
              0.6666666666666666,
              "#ed7953"
             ],
             [
              0.7777777777777778,
              "#fb9f3a"
             ],
             [
              0.8888888888888888,
              "#fdca26"
             ],
             [
              1,
              "#f0f921"
             ]
            ],
            "type": "contour"
           }
          ],
          "contourcarpet": [
           {
            "colorbar": {
             "outlinewidth": 0,
             "ticks": ""
            },
            "type": "contourcarpet"
           }
          ],
          "heatmap": [
           {
            "colorbar": {
             "outlinewidth": 0,
             "ticks": ""
            },
            "colorscale": [
             [
              0,
              "#0d0887"
             ],
             [
              0.1111111111111111,
              "#46039f"
             ],
             [
              0.2222222222222222,
              "#7201a8"
             ],
             [
              0.3333333333333333,
              "#9c179e"
             ],
             [
              0.4444444444444444,
              "#bd3786"
             ],
             [
              0.5555555555555556,
              "#d8576b"
             ],
             [
              0.6666666666666666,
              "#ed7953"
             ],
             [
              0.7777777777777778,
              "#fb9f3a"
             ],
             [
              0.8888888888888888,
              "#fdca26"
             ],
             [
              1,
              "#f0f921"
             ]
            ],
            "type": "heatmap"
           }
          ],
          "heatmapgl": [
           {
            "colorbar": {
             "outlinewidth": 0,
             "ticks": ""
            },
            "colorscale": [
             [
              0,
              "#0d0887"
             ],
             [
              0.1111111111111111,
              "#46039f"
             ],
             [
              0.2222222222222222,
              "#7201a8"
             ],
             [
              0.3333333333333333,
              "#9c179e"
             ],
             [
              0.4444444444444444,
              "#bd3786"
             ],
             [
              0.5555555555555556,
              "#d8576b"
             ],
             [
              0.6666666666666666,
              "#ed7953"
             ],
             [
              0.7777777777777778,
              "#fb9f3a"
             ],
             [
              0.8888888888888888,
              "#fdca26"
             ],
             [
              1,
              "#f0f921"
             ]
            ],
            "type": "heatmapgl"
           }
          ],
          "histogram": [
           {
            "marker": {
             "colorbar": {
              "outlinewidth": 0,
              "ticks": ""
             }
            },
            "type": "histogram"
           }
          ],
          "histogram2d": [
           {
            "colorbar": {
             "outlinewidth": 0,
             "ticks": ""
            },
            "colorscale": [
             [
              0,
              "#0d0887"
             ],
             [
              0.1111111111111111,
              "#46039f"
             ],
             [
              0.2222222222222222,
              "#7201a8"
             ],
             [
              0.3333333333333333,
              "#9c179e"
             ],
             [
              0.4444444444444444,
              "#bd3786"
             ],
             [
              0.5555555555555556,
              "#d8576b"
             ],
             [
              0.6666666666666666,
              "#ed7953"
             ],
             [
              0.7777777777777778,
              "#fb9f3a"
             ],
             [
              0.8888888888888888,
              "#fdca26"
             ],
             [
              1,
              "#f0f921"
             ]
            ],
            "type": "histogram2d"
           }
          ],
          "histogram2dcontour": [
           {
            "colorbar": {
             "outlinewidth": 0,
             "ticks": ""
            },
            "colorscale": [
             [
              0,
              "#0d0887"
             ],
             [
              0.1111111111111111,
              "#46039f"
             ],
             [
              0.2222222222222222,
              "#7201a8"
             ],
             [
              0.3333333333333333,
              "#9c179e"
             ],
             [
              0.4444444444444444,
              "#bd3786"
             ],
             [
              0.5555555555555556,
              "#d8576b"
             ],
             [
              0.6666666666666666,
              "#ed7953"
             ],
             [
              0.7777777777777778,
              "#fb9f3a"
             ],
             [
              0.8888888888888888,
              "#fdca26"
             ],
             [
              1,
              "#f0f921"
             ]
            ],
            "type": "histogram2dcontour"
           }
          ],
          "mesh3d": [
           {
            "colorbar": {
             "outlinewidth": 0,
             "ticks": ""
            },
            "type": "mesh3d"
           }
          ],
          "parcoords": [
           {
            "line": {
             "colorbar": {
              "outlinewidth": 0,
              "ticks": ""
             }
            },
            "type": "parcoords"
           }
          ],
          "scatter": [
           {
            "marker": {
             "colorbar": {
              "outlinewidth": 0,
              "ticks": ""
             }
            },
            "type": "scatter"
           }
          ],
          "scatter3d": [
           {
            "line": {
             "colorbar": {
              "outlinewidth": 0,
              "ticks": ""
             }
            },
            "marker": {
             "colorbar": {
              "outlinewidth": 0,
              "ticks": ""
             }
            },
            "type": "scatter3d"
           }
          ],
          "scattercarpet": [
           {
            "marker": {
             "colorbar": {
              "outlinewidth": 0,
              "ticks": ""
             }
            },
            "type": "scattercarpet"
           }
          ],
          "scattergeo": [
           {
            "marker": {
             "colorbar": {
              "outlinewidth": 0,
              "ticks": ""
             }
            },
            "type": "scattergeo"
           }
          ],
          "scattergl": [
           {
            "marker": {
             "colorbar": {
              "outlinewidth": 0,
              "ticks": ""
             }
            },
            "type": "scattergl"
           }
          ],
          "scattermapbox": [
           {
            "marker": {
             "colorbar": {
              "outlinewidth": 0,
              "ticks": ""
             }
            },
            "type": "scattermapbox"
           }
          ],
          "scatterpolar": [
           {
            "marker": {
             "colorbar": {
              "outlinewidth": 0,
              "ticks": ""
             }
            },
            "type": "scatterpolar"
           }
          ],
          "scatterpolargl": [
           {
            "marker": {
             "colorbar": {
              "outlinewidth": 0,
              "ticks": ""
             }
            },
            "type": "scatterpolargl"
           }
          ],
          "scatterternary": [
           {
            "marker": {
             "colorbar": {
              "outlinewidth": 0,
              "ticks": ""
             }
            },
            "type": "scatterternary"
           }
          ],
          "surface": [
           {
            "colorbar": {
             "outlinewidth": 0,
             "ticks": ""
            },
            "colorscale": [
             [
              0,
              "#0d0887"
             ],
             [
              0.1111111111111111,
              "#46039f"
             ],
             [
              0.2222222222222222,
              "#7201a8"
             ],
             [
              0.3333333333333333,
              "#9c179e"
             ],
             [
              0.4444444444444444,
              "#bd3786"
             ],
             [
              0.5555555555555556,
              "#d8576b"
             ],
             [
              0.6666666666666666,
              "#ed7953"
             ],
             [
              0.7777777777777778,
              "#fb9f3a"
             ],
             [
              0.8888888888888888,
              "#fdca26"
             ],
             [
              1,
              "#f0f921"
             ]
            ],
            "type": "surface"
           }
          ],
          "table": [
           {
            "cells": {
             "fill": {
              "color": "#EBF0F8"
             },
             "line": {
              "color": "white"
             }
            },
            "header": {
             "fill": {
              "color": "#C8D4E3"
             },
             "line": {
              "color": "white"
             }
            },
            "type": "table"
           }
          ]
         },
         "layout": {
          "annotationdefaults": {
           "arrowcolor": "#2a3f5f",
           "arrowhead": 0,
           "arrowwidth": 1
          },
          "colorscale": {
           "diverging": [
            [
             0,
             "#8e0152"
            ],
            [
             0.1,
             "#c51b7d"
            ],
            [
             0.2,
             "#de77ae"
            ],
            [
             0.3,
             "#f1b6da"
            ],
            [
             0.4,
             "#fde0ef"
            ],
            [
             0.5,
             "#f7f7f7"
            ],
            [
             0.6,
             "#e6f5d0"
            ],
            [
             0.7,
             "#b8e186"
            ],
            [
             0.8,
             "#7fbc41"
            ],
            [
             0.9,
             "#4d9221"
            ],
            [
             1,
             "#276419"
            ]
           ],
           "sequential": [
            [
             0,
             "#0d0887"
            ],
            [
             0.1111111111111111,
             "#46039f"
            ],
            [
             0.2222222222222222,
             "#7201a8"
            ],
            [
             0.3333333333333333,
             "#9c179e"
            ],
            [
             0.4444444444444444,
             "#bd3786"
            ],
            [
             0.5555555555555556,
             "#d8576b"
            ],
            [
             0.6666666666666666,
             "#ed7953"
            ],
            [
             0.7777777777777778,
             "#fb9f3a"
            ],
            [
             0.8888888888888888,
             "#fdca26"
            ],
            [
             1,
             "#f0f921"
            ]
           ],
           "sequentialminus": [
            [
             0,
             "#0d0887"
            ],
            [
             0.1111111111111111,
             "#46039f"
            ],
            [
             0.2222222222222222,
             "#7201a8"
            ],
            [
             0.3333333333333333,
             "#9c179e"
            ],
            [
             0.4444444444444444,
             "#bd3786"
            ],
            [
             0.5555555555555556,
             "#d8576b"
            ],
            [
             0.6666666666666666,
             "#ed7953"
            ],
            [
             0.7777777777777778,
             "#fb9f3a"
            ],
            [
             0.8888888888888888,
             "#fdca26"
            ],
            [
             1,
             "#f0f921"
            ]
           ]
          },
          "colorway": [
           "#636efa",
           "#EF553B",
           "#00cc96",
           "#ab63fa",
           "#FFA15A",
           "#19d3f3",
           "#FF6692",
           "#B6E880",
           "#FF97FF",
           "#FECB52"
          ],
          "font": {
           "color": "#2a3f5f"
          },
          "geo": {
           "bgcolor": "white",
           "lakecolor": "white",
           "landcolor": "#E5ECF6",
           "showlakes": true,
           "showland": true,
           "subunitcolor": "white"
          },
          "hoverlabel": {
           "align": "left"
          },
          "hovermode": "closest",
          "mapbox": {
           "style": "light"
          },
          "paper_bgcolor": "white",
          "plot_bgcolor": "#E5ECF6",
          "polar": {
           "angularaxis": {
            "gridcolor": "white",
            "linecolor": "white",
            "ticks": ""
           },
           "bgcolor": "#E5ECF6",
           "radialaxis": {
            "gridcolor": "white",
            "linecolor": "white",
            "ticks": ""
           }
          },
          "scene": {
           "xaxis": {
            "backgroundcolor": "#E5ECF6",
            "gridcolor": "white",
            "gridwidth": 2,
            "linecolor": "white",
            "showbackground": true,
            "ticks": "",
            "zerolinecolor": "white"
           },
           "yaxis": {
            "backgroundcolor": "#E5ECF6",
            "gridcolor": "white",
            "gridwidth": 2,
            "linecolor": "white",
            "showbackground": true,
            "ticks": "",
            "zerolinecolor": "white"
           },
           "zaxis": {
            "backgroundcolor": "#E5ECF6",
            "gridcolor": "white",
            "gridwidth": 2,
            "linecolor": "white",
            "showbackground": true,
            "ticks": "",
            "zerolinecolor": "white"
           }
          },
          "shapedefaults": {
           "line": {
            "color": "#2a3f5f"
           }
          },
          "ternary": {
           "aaxis": {
            "gridcolor": "white",
            "linecolor": "white",
            "ticks": ""
           },
           "baxis": {
            "gridcolor": "white",
            "linecolor": "white",
            "ticks": ""
           },
           "bgcolor": "#E5ECF6",
           "caxis": {
            "gridcolor": "white",
            "linecolor": "white",
            "ticks": ""
           }
          },
          "title": {
           "x": 0.05
          },
          "xaxis": {
           "automargin": true,
           "gridcolor": "white",
           "linecolor": "white",
           "ticks": "",
           "zerolinecolor": "white",
           "zerolinewidth": 2
          },
          "yaxis": {
           "automargin": true,
           "gridcolor": "white",
           "linecolor": "white",
           "ticks": "",
           "zerolinecolor": "white",
           "zerolinewidth": 2
          }
         }
        },
        "title": {
         "text": "ε-Progress"
        },
        "width": 340
       },
       "_py2js_addTraces": {},
       "_py2js_animate": {},
       "_py2js_deleteTraces": {},
       "_py2js_moveTraces": {},
       "_py2js_removeLayoutProps": {},
       "_py2js_removeTraceProps": {},
       "_py2js_restyle": {},
       "_view_count": 1
      }
     },
     "9e414533a47443f6b10a54457e01f2e9": {
      "model_module": "@jupyter-widgets/controls",
      "model_module_version": "1.5.0",
      "model_name": "DescriptionStyleModel",
      "state": {
       "description_width": ""
      }
     },
     "a212678fdd1a4e5aa216f1a814325cf5": {
      "model_module": "@jupyter-widgets/base",
      "model_module_version": "1.2.0",
      "model_name": "LayoutModel",
      "state": {}
     },
     "a23a36aee9a741019f978005f05ffad1": {
      "model_module": "@jupyter-widgets/controls",
      "model_module_version": "1.5.0",
      "model_name": "DescriptionStyleModel",
      "state": {
       "description_width": ""
      }
     },
     "a2d14a1e0db84f5eb70dbc6fd7a46d74": {
      "model_module": "@jupyter-widgets/base",
      "model_module_version": "1.2.0",
      "model_name": "LayoutModel",
      "state": {
       "align_items": "center"
      }
     },
     "a375ac61ef53457cb8e333b1a227f801": {
      "model_module": "@jupyter-widgets/base",
      "model_module_version": "1.2.0",
      "model_name": "LayoutModel",
      "state": {}
     },
     "a431bc3a0bff4eccbde69ceba14263bf": {
      "model_module": "@jupyter-widgets/controls",
      "model_module_version": "1.5.0",
      "model_name": "CheckboxModel",
      "state": {
       "description": "(L) interest_rate_lock",
       "description_tooltip": "interest_rate_lock",
       "disabled": false,
       "layout": "IPY_MODEL_ece25a4445c3427ba9457fdbd7051dce",
       "name": "interest_rate_lock",
       "style": "IPY_MODEL_855963b7d1c944a7ad41a363559fe2f3",
       "value": true
      }
     },
     "a566b280c89f4687ae6a38dad386a8ed": {
      "model_module": "@jupyter-widgets/base",
      "model_module_version": "1.2.0",
      "model_name": "LayoutModel",
      "state": {}
     },
     "a9468acb099a4ef19ef00712b5060d16": {
      "model_module": "@jupyter-widgets/base",
      "model_module_version": "1.2.0",
      "model_name": "LayoutModel",
      "state": {}
     },
     "ad13b04e0743446f8ade93aa246deebe": {
      "model_module": "plotlywidget",
      "model_module_version": "^1.2.0",
      "model_name": "FigureModel",
      "state": {
       "_config": {
        "plotlyServerURL": "https://plot.ly"
       },
       "_data": [
        {
         "fill": "tonexty",
         "line": {
          "shape": "linear"
         },
         "mode": "lines+markers",
         "name": "",
         "type": "scatter",
         "uid": "abf3abdf-de7c-4115-aad3-e9e360be2bb1",
         "x": [
          0,
          100,
          200,
          300,
          400,
          500,
          600,
          700,
          800,
          900,
          1000,
          1100,
          1200,
          1300,
          1400,
          1500,
          1600,
          1700,
          1800,
          1900,
          2000,
          2100,
          2200,
          2300,
          2400,
          2500,
          2600,
          2700,
          2800,
          2900,
          3000,
          3100,
          3200,
          3300,
          3400,
          3500,
          3600,
          3700,
          3800,
          3900,
          4000,
          4100,
          4200,
          4300,
          4400,
          4500,
          4600,
          4700,
          4800,
          4900,
          5000,
          5100,
          5200,
          5300,
          5400,
          5500,
          5600,
          5700,
          5800,
          5900,
          6000,
          6100,
          6200,
          6300,
          6400,
          6500,
          6600,
          6700,
          6800,
          6900,
          7000,
          7100,
          7200,
          7300,
          7400,
          7500,
          7600,
          7700,
          7800,
          7900,
          8000,
          8100,
          8200,
          8300,
          8400,
          8500,
          8600,
          8700,
          8800,
          8900,
          9000,
          9100,
          9200,
          9300,
          9400,
          9500,
          9600,
          9700,
          9800,
          9900,
          10000
         ],
         "y": [
          0,
          6,
          9,
          12,
          19,
          18,
          18,
          18,
          20,
          20,
          20,
          20,
          20,
          20,
          20,
          20,
          20,
          18,
          17,
          17,
          17,
          18,
          18,
          18,
          18,
          18,
          18,
          18,
          18,
          18,
          18,
          18,
          18,
          18,
          18,
          18,
          18,
          18,
          18,
          18,
          18,
          18,
          18,
          18,
          18,
          18,
          18,
          18,
          18,
          18,
          18,
          18,
          18,
          18,
          18,
          18,
          18,
          18,
          18,
          18,
          18,
          18,
          18,
          18,
          18,
          18,
          18,
          18,
          18,
          18,
          18,
          18,
          18,
          18,
          18,
          18,
          18,
          18,
          18,
          18,
          18,
          17,
          17,
          17,
          17,
          17,
          18,
          18,
          18,
          18,
          18,
          18,
          18,
          18,
          17,
          17,
          17,
          17,
          17,
          17,
          17
         ]
        }
       ],
       "_js2py_pointsCallback": {},
       "_js2py_relayout": {},
       "_js2py_restyle": {},
       "_js2py_update": {},
       "_last_layout_edit_id": 4,
       "_last_trace_edit_id": 1,
       "_layout": {
        "height": 240,
        "hovermode": "closest",
        "margin": {
         "b": 15,
         "l": 15,
         "r": 15,
         "t": 40
        },
        "showlegend": false,
        "template": {
         "data": {
          "bar": [
           {
            "error_x": {
             "color": "#2a3f5f"
            },
            "error_y": {
             "color": "#2a3f5f"
            },
            "marker": {
             "line": {
              "color": "#E5ECF6",
              "width": 0.5
             }
            },
            "type": "bar"
           }
          ],
          "barpolar": [
           {
            "marker": {
             "line": {
              "color": "#E5ECF6",
              "width": 0.5
             }
            },
            "type": "barpolar"
           }
          ],
          "carpet": [
           {
            "aaxis": {
             "endlinecolor": "#2a3f5f",
             "gridcolor": "white",
             "linecolor": "white",
             "minorgridcolor": "white",
             "startlinecolor": "#2a3f5f"
            },
            "baxis": {
             "endlinecolor": "#2a3f5f",
             "gridcolor": "white",
             "linecolor": "white",
             "minorgridcolor": "white",
             "startlinecolor": "#2a3f5f"
            },
            "type": "carpet"
           }
          ],
          "choropleth": [
           {
            "colorbar": {
             "outlinewidth": 0,
             "ticks": ""
            },
            "type": "choropleth"
           }
          ],
          "contour": [
           {
            "colorbar": {
             "outlinewidth": 0,
             "ticks": ""
            },
            "colorscale": [
             [
              0,
              "#0d0887"
             ],
             [
              0.1111111111111111,
              "#46039f"
             ],
             [
              0.2222222222222222,
              "#7201a8"
             ],
             [
              0.3333333333333333,
              "#9c179e"
             ],
             [
              0.4444444444444444,
              "#bd3786"
             ],
             [
              0.5555555555555556,
              "#d8576b"
             ],
             [
              0.6666666666666666,
              "#ed7953"
             ],
             [
              0.7777777777777778,
              "#fb9f3a"
             ],
             [
              0.8888888888888888,
              "#fdca26"
             ],
             [
              1,
              "#f0f921"
             ]
            ],
            "type": "contour"
           }
          ],
          "contourcarpet": [
           {
            "colorbar": {
             "outlinewidth": 0,
             "ticks": ""
            },
            "type": "contourcarpet"
           }
          ],
          "heatmap": [
           {
            "colorbar": {
             "outlinewidth": 0,
             "ticks": ""
            },
            "colorscale": [
             [
              0,
              "#0d0887"
             ],
             [
              0.1111111111111111,
              "#46039f"
             ],
             [
              0.2222222222222222,
              "#7201a8"
             ],
             [
              0.3333333333333333,
              "#9c179e"
             ],
             [
              0.4444444444444444,
              "#bd3786"
             ],
             [
              0.5555555555555556,
              "#d8576b"
             ],
             [
              0.6666666666666666,
              "#ed7953"
             ],
             [
              0.7777777777777778,
              "#fb9f3a"
             ],
             [
              0.8888888888888888,
              "#fdca26"
             ],
             [
              1,
              "#f0f921"
             ]
            ],
            "type": "heatmap"
           }
          ],
          "heatmapgl": [
           {
            "colorbar": {
             "outlinewidth": 0,
             "ticks": ""
            },
            "colorscale": [
             [
              0,
              "#0d0887"
             ],
             [
              0.1111111111111111,
              "#46039f"
             ],
             [
              0.2222222222222222,
              "#7201a8"
             ],
             [
              0.3333333333333333,
              "#9c179e"
             ],
             [
              0.4444444444444444,
              "#bd3786"
             ],
             [
              0.5555555555555556,
              "#d8576b"
             ],
             [
              0.6666666666666666,
              "#ed7953"
             ],
             [
              0.7777777777777778,
              "#fb9f3a"
             ],
             [
              0.8888888888888888,
              "#fdca26"
             ],
             [
              1,
              "#f0f921"
             ]
            ],
            "type": "heatmapgl"
           }
          ],
          "histogram": [
           {
            "marker": {
             "colorbar": {
              "outlinewidth": 0,
              "ticks": ""
             }
            },
            "type": "histogram"
           }
          ],
          "histogram2d": [
           {
            "colorbar": {
             "outlinewidth": 0,
             "ticks": ""
            },
            "colorscale": [
             [
              0,
              "#0d0887"
             ],
             [
              0.1111111111111111,
              "#46039f"
             ],
             [
              0.2222222222222222,
              "#7201a8"
             ],
             [
              0.3333333333333333,
              "#9c179e"
             ],
             [
              0.4444444444444444,
              "#bd3786"
             ],
             [
              0.5555555555555556,
              "#d8576b"
             ],
             [
              0.6666666666666666,
              "#ed7953"
             ],
             [
              0.7777777777777778,
              "#fb9f3a"
             ],
             [
              0.8888888888888888,
              "#fdca26"
             ],
             [
              1,
              "#f0f921"
             ]
            ],
            "type": "histogram2d"
           }
          ],
          "histogram2dcontour": [
           {
            "colorbar": {
             "outlinewidth": 0,
             "ticks": ""
            },
            "colorscale": [
             [
              0,
              "#0d0887"
             ],
             [
              0.1111111111111111,
              "#46039f"
             ],
             [
              0.2222222222222222,
              "#7201a8"
             ],
             [
              0.3333333333333333,
              "#9c179e"
             ],
             [
              0.4444444444444444,
              "#bd3786"
             ],
             [
              0.5555555555555556,
              "#d8576b"
             ],
             [
              0.6666666666666666,
              "#ed7953"
             ],
             [
              0.7777777777777778,
              "#fb9f3a"
             ],
             [
              0.8888888888888888,
              "#fdca26"
             ],
             [
              1,
              "#f0f921"
             ]
            ],
            "type": "histogram2dcontour"
           }
          ],
          "mesh3d": [
           {
            "colorbar": {
             "outlinewidth": 0,
             "ticks": ""
            },
            "type": "mesh3d"
           }
          ],
          "parcoords": [
           {
            "line": {
             "colorbar": {
              "outlinewidth": 0,
              "ticks": ""
             }
            },
            "type": "parcoords"
           }
          ],
          "scatter": [
           {
            "marker": {
             "colorbar": {
              "outlinewidth": 0,
              "ticks": ""
             }
            },
            "type": "scatter"
           }
          ],
          "scatter3d": [
           {
            "line": {
             "colorbar": {
              "outlinewidth": 0,
              "ticks": ""
             }
            },
            "marker": {
             "colorbar": {
              "outlinewidth": 0,
              "ticks": ""
             }
            },
            "type": "scatter3d"
           }
          ],
          "scattercarpet": [
           {
            "marker": {
             "colorbar": {
              "outlinewidth": 0,
              "ticks": ""
             }
            },
            "type": "scattercarpet"
           }
          ],
          "scattergeo": [
           {
            "marker": {
             "colorbar": {
              "outlinewidth": 0,
              "ticks": ""
             }
            },
            "type": "scattergeo"
           }
          ],
          "scattergl": [
           {
            "marker": {
             "colorbar": {
              "outlinewidth": 0,
              "ticks": ""
             }
            },
            "type": "scattergl"
           }
          ],
          "scattermapbox": [
           {
            "marker": {
             "colorbar": {
              "outlinewidth": 0,
              "ticks": ""
             }
            },
            "type": "scattermapbox"
           }
          ],
          "scatterpolar": [
           {
            "marker": {
             "colorbar": {
              "outlinewidth": 0,
              "ticks": ""
             }
            },
            "type": "scatterpolar"
           }
          ],
          "scatterpolargl": [
           {
            "marker": {
             "colorbar": {
              "outlinewidth": 0,
              "ticks": ""
             }
            },
            "type": "scatterpolargl"
           }
          ],
          "scatterternary": [
           {
            "marker": {
             "colorbar": {
              "outlinewidth": 0,
              "ticks": ""
             }
            },
            "type": "scatterternary"
           }
          ],
          "surface": [
           {
            "colorbar": {
             "outlinewidth": 0,
             "ticks": ""
            },
            "colorscale": [
             [
              0,
              "#0d0887"
             ],
             [
              0.1111111111111111,
              "#46039f"
             ],
             [
              0.2222222222222222,
              "#7201a8"
             ],
             [
              0.3333333333333333,
              "#9c179e"
             ],
             [
              0.4444444444444444,
              "#bd3786"
             ],
             [
              0.5555555555555556,
              "#d8576b"
             ],
             [
              0.6666666666666666,
              "#ed7953"
             ],
             [
              0.7777777777777778,
              "#fb9f3a"
             ],
             [
              0.8888888888888888,
              "#fdca26"
             ],
             [
              1,
              "#f0f921"
             ]
            ],
            "type": "surface"
           }
          ],
          "table": [
           {
            "cells": {
             "fill": {
              "color": "#EBF0F8"
             },
             "line": {
              "color": "white"
             }
            },
            "header": {
             "fill": {
              "color": "#C8D4E3"
             },
             "line": {
              "color": "white"
             }
            },
            "type": "table"
           }
          ]
         },
         "layout": {
          "annotationdefaults": {
           "arrowcolor": "#2a3f5f",
           "arrowhead": 0,
           "arrowwidth": 1
          },
          "colorscale": {
           "diverging": [
            [
             0,
             "#8e0152"
            ],
            [
             0.1,
             "#c51b7d"
            ],
            [
             0.2,
             "#de77ae"
            ],
            [
             0.3,
             "#f1b6da"
            ],
            [
             0.4,
             "#fde0ef"
            ],
            [
             0.5,
             "#f7f7f7"
            ],
            [
             0.6,
             "#e6f5d0"
            ],
            [
             0.7,
             "#b8e186"
            ],
            [
             0.8,
             "#7fbc41"
            ],
            [
             0.9,
             "#4d9221"
            ],
            [
             1,
             "#276419"
            ]
           ],
           "sequential": [
            [
             0,
             "#0d0887"
            ],
            [
             0.1111111111111111,
             "#46039f"
            ],
            [
             0.2222222222222222,
             "#7201a8"
            ],
            [
             0.3333333333333333,
             "#9c179e"
            ],
            [
             0.4444444444444444,
             "#bd3786"
            ],
            [
             0.5555555555555556,
             "#d8576b"
            ],
            [
             0.6666666666666666,
             "#ed7953"
            ],
            [
             0.7777777777777778,
             "#fb9f3a"
            ],
            [
             0.8888888888888888,
             "#fdca26"
            ],
            [
             1,
             "#f0f921"
            ]
           ],
           "sequentialminus": [
            [
             0,
             "#0d0887"
            ],
            [
             0.1111111111111111,
             "#46039f"
            ],
            [
             0.2222222222222222,
             "#7201a8"
            ],
            [
             0.3333333333333333,
             "#9c179e"
            ],
            [
             0.4444444444444444,
             "#bd3786"
            ],
            [
             0.5555555555555556,
             "#d8576b"
            ],
            [
             0.6666666666666666,
             "#ed7953"
            ],
            [
             0.7777777777777778,
             "#fb9f3a"
            ],
            [
             0.8888888888888888,
             "#fdca26"
            ],
            [
             1,
             "#f0f921"
            ]
           ]
          },
          "colorway": [
           "#636efa",
           "#EF553B",
           "#00cc96",
           "#ab63fa",
           "#FFA15A",
           "#19d3f3",
           "#FF6692",
           "#B6E880",
           "#FF97FF",
           "#FECB52"
          ],
          "font": {
           "color": "#2a3f5f"
          },
          "geo": {
           "bgcolor": "white",
           "lakecolor": "white",
           "landcolor": "#E5ECF6",
           "showlakes": true,
           "showland": true,
           "subunitcolor": "white"
          },
          "hoverlabel": {
           "align": "left"
          },
          "hovermode": "closest",
          "mapbox": {
           "style": "light"
          },
          "paper_bgcolor": "white",
          "plot_bgcolor": "#E5ECF6",
          "polar": {
           "angularaxis": {
            "gridcolor": "white",
            "linecolor": "white",
            "ticks": ""
           },
           "bgcolor": "#E5ECF6",
           "radialaxis": {
            "gridcolor": "white",
            "linecolor": "white",
            "ticks": ""
           }
          },
          "scene": {
           "xaxis": {
            "backgroundcolor": "#E5ECF6",
            "gridcolor": "white",
            "gridwidth": 2,
            "linecolor": "white",
            "showbackground": true,
            "ticks": "",
            "zerolinecolor": "white"
           },
           "yaxis": {
            "backgroundcolor": "#E5ECF6",
            "gridcolor": "white",
            "gridwidth": 2,
            "linecolor": "white",
            "showbackground": true,
            "ticks": "",
            "zerolinecolor": "white"
           },
           "zaxis": {
            "backgroundcolor": "#E5ECF6",
            "gridcolor": "white",
            "gridwidth": 2,
            "linecolor": "white",
            "showbackground": true,
            "ticks": "",
            "zerolinecolor": "white"
           }
          },
          "shapedefaults": {
           "line": {
            "color": "#2a3f5f"
           }
          },
          "ternary": {
           "aaxis": {
            "gridcolor": "white",
            "linecolor": "white",
            "ticks": ""
           },
           "baxis": {
            "gridcolor": "white",
            "linecolor": "white",
            "ticks": ""
           },
           "bgcolor": "#E5ECF6",
           "caxis": {
            "gridcolor": "white",
            "linecolor": "white",
            "ticks": ""
           }
          },
          "title": {
           "x": 0.05
          },
          "xaxis": {
           "automargin": true,
           "gridcolor": "white",
           "linecolor": "white",
           "ticks": "",
           "zerolinecolor": "white",
           "zerolinewidth": 2
          },
          "yaxis": {
           "automargin": true,
           "gridcolor": "white",
           "linecolor": "white",
           "ticks": "",
           "zerolinecolor": "white",
           "zerolinewidth": 2
          }
         }
        },
        "title": {
         "text": "Number of Solutions"
        },
        "width": 340
       },
       "_py2js_addTraces": {},
       "_py2js_animate": {},
       "_py2js_deleteTraces": {},
       "_py2js_moveTraces": {},
       "_py2js_removeLayoutProps": {},
       "_py2js_removeTraceProps": {},
       "_py2js_restyle": {},
       "_view_count": 1
      }
     },
     "ad65791d093b4584b00180b5f0b615e6": {
      "model_module": "@jupyter-widgets/controls",
      "model_module_version": "1.5.0",
      "model_name": "DescriptionStyleModel",
      "state": {
       "description_width": ""
      }
     },
     "ada8ecac33014842a279175f07e68ff7": {
      "model_module": "@jupyter-widgets/controls",
      "model_module_version": "1.5.0",
      "model_name": "HBoxModel",
      "state": {
       "children": [
        "IPY_MODEL_debcfe2464d546bc9b5fdad6890d4adf",
        "IPY_MODEL_15ba41c21405493fbbfb03cdc293271e"
       ],
       "layout": "IPY_MODEL_21bcc2673c504a70a44611b5574511f0"
      }
     },
     "ae601136f7924b54b909eb4c1feb8ea4": {
      "model_module": "@jupyter-widgets/controls",
      "model_module_version": "1.5.0",
      "model_name": "BoxModel",
      "state": {
       "children": [
        "IPY_MODEL_dfba3290338b4bfdae5a9d315d1440b0",
        "IPY_MODEL_4f6c87af3b5747abb9ea12ed80cb4b8f",
        "IPY_MODEL_23b2853209264a1aad824efa675cf39c",
        "IPY_MODEL_b0e615996f5f45c886f668241e2c02ff",
        "IPY_MODEL_62a56772a3ef41f5b98bcdd3dee39da8",
        "IPY_MODEL_fe389e66a6ff4a13aea182b81c2b726c",
        "IPY_MODEL_8590de8013e845e6aff0a27811a22f0c",
        "IPY_MODEL_280dea1374eb4ffe89f56053d84cd7dd",
        "IPY_MODEL_43315a1e7bcd41c49eeee66c92928f13"
       ],
       "layout": "IPY_MODEL_c7c94c1dd721418e943b8a82ea77f127"
      }
     },
     "b0e615996f5f45c886f668241e2c02ff": {
      "model_module": "@jupyter-widgets/controls",
      "model_module_version": "1.5.0",
      "model_name": "CheckboxModel",
      "state": {
       "description": "(L) interest_rate_lock",
       "description_tooltip": "interest_rate_lock",
       "disabled": false,
       "layout": "IPY_MODEL_d2cb6c2cc66e4a9ba7937ab53d47d1da",
       "name": "interest_rate_lock",
       "style": "IPY_MODEL_e11adc0eedce4855803b59222a3f2913",
       "value": true
      }
     },
     "b21df3cc7c6e4f0798ad2c7fb7672fef": {
      "model_module": "@jupyter-widgets/controls",
      "model_module_version": "1.5.0",
      "model_name": "DescriptionStyleModel",
      "state": {
       "description_width": ""
      }
     },
     "b359d155079a4305a5fb191d335f9d83": {
      "model_module": "@jupyter-widgets/controls",
      "model_module_version": "1.5.0",
      "model_name": "DescriptionStyleModel",
      "state": {
       "description_width": ""
      }
     },
     "b5af107ea2fc41039beeb9ff684ce0bd": {
      "model_module": "@jupyter-widgets/base",
      "model_module_version": "1.2.0",
      "model_name": "LayoutModel",
      "state": {}
     },
     "b7e7742532ed461584caa4f0d06a115d": {
      "model_module": "@jupyter-widgets/controls",
      "model_module_version": "1.5.0",
      "model_name": "HTMLModel",
      "state": {
       "layout": "IPY_MODEL_7e481f5ae1764240a952d5c90f785f7b",
       "style": "IPY_MODEL_2c0e40a3ee7f4e86beed07b4e89c51de",
       "value": "\n\t\t\t(M-) Performance Measure to Minimize<br>\n\t\t\t(M+) Performance Measure to Maximize<br>\n\t\t\t(M) Performance Measure without preferred direction<br>\n\t\t\t(L) Policy Lever<br>\n\t\t\t(X) Exogenous Uncertainty\n\t\t"
      }
     },
     "b8d3975371da47429fea61944fc67d83": {
      "model_module": "@jupyter-widgets/controls",
      "model_module_version": "1.5.0",
      "model_name": "DropdownModel",
      "state": {
       "_options_labels": [
        " ",
        "   Clear Selection Constraints",
        "-- (X) Uncertainties --",
        "   Show All Exogenous Uncertainties",
        "   Hide All Exogenous Uncertainties",
        "-- (L) Levers --",
        "   Show All Policy Levers",
        "   Hide All Policy Levers",
        "-- (M) Measures --",
        "   Show All Performance Measures",
        "   Hide All Performance Measures"
       ],
       "description": "View:",
       "index": 0,
       "layout": "IPY_MODEL_c8f7285c625c43389b52f16dbc7e8516",
       "style": "IPY_MODEL_67fe8a9d2ec34b0194c7cfa6135b55ea"
      }
     },
     "b934ee196581485a8eb2552a61437043": {
      "model_module": "@jupyter-widgets/controls",
      "model_module_version": "1.5.0",
      "model_name": "DescriptionStyleModel",
      "state": {
       "description_width": ""
      }
     },
     "ba25a2915eda491a997cc52f9ab22490": {
      "model_module": "@jupyter-widgets/base",
      "model_module_version": "1.2.0",
      "model_name": "LayoutModel",
      "state": {}
     },
     "bbf3229763394de18175c94f9d2af319": {
      "model_module": "@jupyter-widgets/controls",
      "model_module_version": "1.5.0",
      "model_name": "CheckboxModel",
      "state": {
       "description": "(X) interest_rate",
       "description_tooltip": "interest_rate",
       "disabled": false,
       "layout": "IPY_MODEL_83bf71295a614edd90aaf541a7140131",
       "name": "interest_rate",
       "style": "IPY_MODEL_b359d155079a4305a5fb191d335f9d83",
       "value": true
      }
     },
     "bcbb430ecab24e7b97d5d86e81edcbbd": {
      "model_module": "@jupyter-widgets/controls",
      "model_module_version": "1.5.0",
      "model_name": "DescriptionStyleModel",
      "state": {
       "description_width": ""
      }
     },
     "bfa1002fe01642dea649e4035f58766c": {
      "model_module": "@jupyter-widgets/base",
      "model_module_version": "1.2.0",
      "model_name": "LayoutModel",
      "state": {}
     },
     "c0228e8400da44e08f706095f9018dba": {
      "model_module": "@jupyter-widgets/output",
      "model_module_version": "1.0.0",
      "model_name": "OutputModel",
      "state": {
       "layout": "IPY_MODEL_846047c25e0e47799ea7d976ad2c3bfc"
      }
     },
     "c0b946a5bf1e47c787a201f05349ca20": {
      "model_module": "@jupyter-widgets/controls",
      "model_module_version": "1.5.0",
      "model_name": "DescriptionStyleModel",
      "state": {
       "description_width": ""
      }
     },
     "c15197364686415a81b9a143167caac3": {
      "model_module": "@jupyter-widgets/base",
      "model_module_version": "1.2.0",
      "model_name": "LayoutModel",
      "state": {}
     },
     "c5f180b9c52e422c89382b511875c8e6": {
      "model_module": "@jupyter-widgets/controls",
      "model_module_version": "1.5.0",
      "model_name": "DropdownModel",
      "state": {
       "_options_labels": [
        "< None >",
        "expand_capacity",
        "amortization_period",
        "debt_type",
        "interest_rate_lock",
        "Mean Net Benefits",
        "5%ile Net Benefits",
        "Possibility of Negative Net Benefits",
        "95%ile Capacity Expansion Cost",
        "Expected Time Savings"
       ],
       "description": "Colorize:",
       "index": 1,
       "layout": "IPY_MODEL_d558994e99784908bb77dc1b4f3a336a",
       "style": "IPY_MODEL_5ea5bcaed1c447628d3f49330cb5284f"
      }
     },
     "c6708507687f4e7589bd63c20d6cfaf7": {
      "model_module": "@jupyter-widgets/controls",
      "model_module_version": "1.5.0",
      "model_name": "HBoxModel",
      "state": {
       "children": [
        "IPY_MODEL_c5f180b9c52e422c89382b511875c8e6",
        "IPY_MODEL_b8d3975371da47429fea61944fc67d83"
       ],
       "layout": "IPY_MODEL_d2ea07b6fee940f9a666c3771a6e325b"
      }
     },
     "c757731518ef4a03afd2c93cc6865f0e": {
      "model_module": "@jupyter-widgets/controls",
      "model_module_version": "1.5.0",
      "model_name": "CheckboxModel",
      "state": {
       "description": "(M-) cost_of_capacity_expansion",
       "description_tooltip": "cost_of_capacity_expansion",
       "disabled": false,
       "layout": "IPY_MODEL_5c07c8fae876464ba62f4954321b236e",
       "name": "cost_of_capacity_expansion",
       "style": "IPY_MODEL_eb98a61a83a64db4b9af1bf82f87bc5e",
       "value": true
      }
     },
     "c7c94c1dd721418e943b8a82ea77f127": {
      "model_module": "@jupyter-widgets/base",
      "model_module_version": "1.2.0",
      "model_name": "LayoutModel",
      "state": {
       "flex_flow": "row wrap"
      }
     },
     "c8a65d956a64408489c49bece93b2c8b": {
      "model_module": "@jupyter-widgets/controls",
      "model_module_version": "1.5.0",
      "model_name": "DescriptionStyleModel",
      "state": {
       "description_width": ""
      }
     },
     "c8f7285c625c43389b52f16dbc7e8516": {
      "model_module": "@jupyter-widgets/base",
      "model_module_version": "1.2.0",
      "model_name": "LayoutModel",
      "state": {}
     },
     "cdd0fc20a3d344d780530941275979f8": {
      "model_module": "@jupyter-widgets/controls",
      "model_module_version": "1.5.0",
      "model_name": "DescriptionStyleModel",
      "state": {
       "description_width": ""
      }
     },
     "ce045043e09e41b69e89e12735c5bf38": {
      "model_module": "@jupyter-widgets/controls",
      "model_module_version": "1.5.0",
      "model_name": "DescriptionStyleModel",
      "state": {
       "description_width": ""
      }
     },
     "cecd412920ef43baa43f4593e52682a5": {
      "model_module": "@jupyter-widgets/controls",
      "model_module_version": "1.5.0",
      "model_name": "CheckboxModel",
      "state": {
       "description": "(M-) Possibility of Negative Net Benefits",
       "description_tooltip": "Possibility of Negative Net Benefits",
       "disabled": false,
       "layout": "IPY_MODEL_8d8e7149180044298f08b0da8cde8de9",
       "name": "Possibility of Negative Net Benefits",
       "style": "IPY_MODEL_3246a2e21fe9449999c5e23f109033a3",
       "value": true
      }
     },
     "cf9dd054476840719dfd39c3571453e2": {
      "model_module": "@jupyter-widgets/controls",
      "model_module_version": "1.5.0",
      "model_name": "DescriptionStyleModel",
      "state": {
       "description_width": ""
      }
     },
     "d037b09b21e345698b9b9893da5259e6": {
      "model_module": "@jupyter-widgets/controls",
      "model_module_version": "1.5.0",
      "model_name": "DropdownModel",
      "state": {
       "_options_labels": [
        " ",
        "   Clear Selection Constraints",
        "-- (X) Uncertainties --",
        "   Show All Exogenous Uncertainties",
        "   Hide All Exogenous Uncertainties",
        "-- (L) Levers --",
        "   Show All Policy Levers",
        "   Hide All Policy Levers",
        "-- (M) Measures --",
        "   Show All Performance Measures",
        "   Hide All Performance Measures"
       ],
       "description": "View:",
       "index": 0,
       "layout": "IPY_MODEL_a375ac61ef53457cb8e333b1a227f801",
       "style": "IPY_MODEL_9e414533a47443f6b10a54457e01f2e9"
      }
     },
     "d0975311ab494221ba29da7de8cb386b": {
      "model_module": "@jupyter-widgets/base",
      "model_module_version": "1.2.0",
      "model_name": "LayoutModel",
      "state": {}
     },
     "d161ab7735294eb69eab34cbb52f7f68": {
      "model_module": "@jupyter-widgets/controls",
      "model_module_version": "1.5.0",
      "model_name": "HBoxModel",
      "state": {
       "children": [
        "IPY_MODEL_2bcabe8839a3499d950881c24da8d9ac",
        "IPY_MODEL_9378a847d70249fa860f064212506261"
       ],
       "layout": "IPY_MODEL_0ce38c3a2f1b4b1184f24566fce3fee7"
      }
     },
     "d2cb6c2cc66e4a9ba7937ab53d47d1da": {
      "model_module": "@jupyter-widgets/base",
      "model_module_version": "1.2.0",
      "model_name": "LayoutModel",
      "state": {}
     },
     "d2ea07b6fee940f9a666c3771a6e325b": {
      "model_module": "@jupyter-widgets/base",
      "model_module_version": "1.2.0",
      "model_name": "LayoutModel",
      "state": {}
     },
     "d3e7f370b18d4d07ba03c24eeddd8c90": {
      "model_module": "@jupyter-widgets/controls",
      "model_module_version": "1.5.0",
      "model_name": "HTMLModel",
      "state": {
       "layout": "IPY_MODEL_a566b280c89f4687ae6a38dad386a8ed",
       "style": "IPY_MODEL_780e0a58761e4c488d9ac1bdec972989",
       "value": "\n\t\t\t(M-) Performance Measure to Minimize<br>\n\t\t\t(M+) Performance Measure to Maximize<br>\n\t\t\t(M) Performance Measure without preferred direction<br>\n\t\t\t(L) Policy Lever<br>\n\t\t\t(X) Exogenous Uncertainty\n\t\t"
      }
     },
     "d43dfde7a2b5438b9365411cf951386e": {
      "model_module": "@jupyter-widgets/controls",
      "model_module_version": "1.5.0",
      "model_name": "BoxModel",
      "state": {
       "children": [
        "IPY_MODEL_13fa504708514ccc92f91516b65b7f22",
        "IPY_MODEL_3aba7b8ed62c453ab6a591442383c642",
        "IPY_MODEL_f0accc21ba8b45698b7618f684305a98",
        "IPY_MODEL_0ade3ffaddfa40638938fc42a2025dba",
        "IPY_MODEL_ede3b37d7d1b4e64be0afb8f0146656f",
        "IPY_MODEL_bbf3229763394de18175c94f9d2af319",
        "IPY_MODEL_6eef9c1732124c05967a9b1ffc44db71",
        "IPY_MODEL_28c978122bf94e6e90925e4de5ef2188",
        "IPY_MODEL_16b00c54f33d4d77bd9ce466126596a4",
        "IPY_MODEL_f437e02ba1e743b39f886114232f577b",
        "IPY_MODEL_8dcb321d0ec04d54a0f482e17cc63cc4",
        "IPY_MODEL_e17de753251843239b3ed08a27413c08"
       ],
       "layout": "IPY_MODEL_8733564b7ecd4a55bd3ff2cf1e626afc"
      }
     },
     "d558994e99784908bb77dc1b4f3a336a": {
      "model_module": "@jupyter-widgets/base",
      "model_module_version": "1.2.0",
      "model_name": "LayoutModel",
      "state": {}
     },
     "d87a95976773438e95fa8a37c8d2eabd": {
      "model_module": "@jupyter-widgets/controls",
      "model_module_version": "1.5.0",
      "model_name": "CheckboxModel",
      "state": {
       "description": "(M) 99%ile Present Cost",
       "description_tooltip": "99%ile Present Cost",
       "disabled": false,
       "layout": "IPY_MODEL_04a63dc5c25a4a0b91bb0be3856a6fa0",
       "name": "99%ile Present Cost",
       "style": "IPY_MODEL_5f1a87b6bf0641c0991d4b4d69b0f3c5",
       "value": false
      }
     },
     "d89c8abb54644d96b87e863da5f1a2c2": {
      "model_module": "@jupyter-widgets/base",
      "model_module_version": "1.2.0",
      "model_name": "LayoutModel",
      "state": {
       "width": "250px"
      }
     },
     "d8e47f00c68241fc8265800b1f83e07a": {
      "model_module": "@jupyter-widgets/controls",
      "model_module_version": "1.5.0",
      "model_name": "DescriptionStyleModel",
      "state": {
       "description_width": ""
      }
     },
     "d9ada4397313480680862f1c4e8cb7d8": {
      "model_module": "@jupyter-widgets/output",
      "model_module_version": "1.0.0",
      "model_name": "OutputModel",
      "state": {
       "layout": "IPY_MODEL_48d5bd7e48394e8db04b217937be5660"
      }
     },
     "da9be28086c44ccf85cb9f24365c00ee": {
      "model_module": "@jupyter-widgets/controls",
      "model_module_version": "1.5.0",
      "model_name": "DescriptionStyleModel",
      "state": {
       "description_width": ""
      }
     },
     "dccb23e701274dd08cc4d61069e40045": {
      "model_module": "@jupyter-widgets/base",
      "model_module_version": "1.2.0",
      "model_name": "LayoutModel",
      "state": {
       "flex_flow": "row wrap"
      }
     },
     "debcfe2464d546bc9b5fdad6890d4adf": {
      "model_module": "plotlywidget",
      "model_module_version": "^1.2.0",
      "model_name": "FigureModel",
      "state": {
       "_config": {
        "plotlyServerURL": "https://plot.ly"
       },
       "_data": [
        {
         "fill": "tonexty",
         "line": {
          "shape": "linear"
         },
         "mode": "lines+markers",
         "name": "",
         "type": "scatter",
         "uid": "07ebfc68-6938-4aa1-9b2c-0445aafad330",
         "x": [
          0,
          100,
          200,
          300,
          400,
          500,
          600,
          700,
          800,
          900,
          1000,
          1100,
          1200,
          1300,
          1400,
          1500,
          1600,
          1700,
          1800,
          1900,
          2000,
          2100,
          2200,
          2300,
          2400,
          2500,
          2600,
          2700,
          2800,
          2900,
          3000,
          3100,
          3200,
          3300,
          3400,
          3500,
          3600,
          3700,
          3800,
          3900,
          4000,
          4100,
          4200,
          4300,
          4400,
          4500,
          4600,
          4700,
          4800,
          4900,
          5000,
          5100,
          5200,
          5300,
          5400,
          5500,
          5600,
          5700,
          5800,
          5900,
          6000,
          6100,
          6200,
          6300,
          6400,
          6500,
          6600,
          6700,
          6800,
          6900,
          7000,
          7100,
          7200,
          7300,
          7400,
          7500,
          7600,
          7700,
          7800,
          7900,
          8000,
          8100,
          8200,
          8300,
          8400,
          8500,
          8600,
          8700,
          8800,
          8900,
          9000,
          9100,
          9200,
          9300,
          9400,
          9500,
          9600,
          9700,
          9800,
          9900,
          10000,
          10120,
          10280,
          10440,
          10600,
          10760,
          10920,
          11080,
          11240,
          11400,
          11560,
          11720,
          11880,
          12040,
          12200,
          12360,
          12520,
          12680,
          12840,
          13000,
          13160,
          13320,
          13480,
          13640,
          13800,
          13960,
          14120,
          14280,
          14440,
          14600,
          14760,
          14920,
          15080,
          15240,
          15400,
          15560,
          15720,
          15880,
          16040,
          16200,
          16360,
          16520,
          16680,
          16840,
          17000,
          17160,
          17320,
          17480,
          17640,
          17800,
          17960,
          18120,
          18280,
          18440,
          18600,
          18760,
          18920,
          19080,
          19240,
          19400,
          19560,
          19720,
          19880,
          20040,
          20200,
          20360,
          20520,
          20680,
          20840,
          21000,
          21160,
          21320,
          21480,
          21640,
          21800,
          21960,
          22120,
          22280,
          22440,
          22600,
          22760,
          22920,
          23080,
          23240,
          23400,
          23560,
          23720,
          23880,
          24040,
          24200,
          24360,
          24520,
          24680,
          24840
         ],
         "y": [
          0,
          24,
          30,
          35,
          36,
          37,
          40,
          43,
          43,
          44,
          46,
          48,
          49,
          50,
          50,
          51,
          51,
          52,
          53,
          54,
          54,
          55,
          57,
          60,
          60,
          61,
          61,
          62,
          62,
          63,
          64,
          64,
          64,
          64,
          64,
          64,
          64,
          64,
          64,
          65,
          65,
          65,
          65,
          65,
          66,
          66,
          67,
          69,
          69,
          69,
          69,
          69,
          69,
          69,
          69,
          69,
          69,
          69,
          69,
          69,
          70,
          70,
          70,
          71,
          72,
          72,
          72,
          72,
          73,
          73,
          73,
          73,
          73,
          74,
          75,
          76,
          77,
          78,
          79,
          79,
          79,
          79,
          79,
          80,
          81,
          81,
          81,
          81,
          81,
          81,
          81,
          81,
          81,
          81,
          81,
          83,
          83,
          84,
          84,
          84,
          84,
          91,
          92,
          95,
          95,
          96,
          96,
          96,
          98,
          99,
          101,
          102,
          104,
          104,
          104,
          104,
          104,
          104,
          104,
          104,
          104,
          104,
          104,
          106,
          107,
          107,
          108,
          108,
          108,
          108,
          108,
          108,
          108,
          109,
          109,
          109,
          109,
          110,
          110,
          110,
          111,
          111,
          111,
          111,
          112,
          112,
          112,
          112,
          112,
          112,
          112,
          112,
          112,
          112,
          113,
          114,
          114,
          114,
          114,
          114,
          115,
          115,
          115,
          115,
          117,
          118,
          118,
          118,
          119,
          119,
          120,
          121,
          121,
          121,
          121,
          121,
          121,
          121,
          121,
          121,
          122,
          122,
          122,
          122,
          122,
          122,
          122,
          122,
          122,
          122,
          122,
          122,
          122,
          122
         ]
        }
       ],
       "_js2py_pointsCallback": {},
       "_js2py_relayout": {},
       "_js2py_restyle": {},
       "_js2py_update": {},
       "_last_layout_edit_id": 4,
       "_last_trace_edit_id": 1,
       "_layout": {
        "height": 240,
        "hovermode": "closest",
        "margin": {
         "b": 15,
         "l": 15,
         "r": 15,
         "t": 40
        },
        "showlegend": false,
        "template": {
         "data": {
          "bar": [
           {
            "error_x": {
             "color": "#2a3f5f"
            },
            "error_y": {
             "color": "#2a3f5f"
            },
            "marker": {
             "line": {
              "color": "#E5ECF6",
              "width": 0.5
             }
            },
            "type": "bar"
           }
          ],
          "barpolar": [
           {
            "marker": {
             "line": {
              "color": "#E5ECF6",
              "width": 0.5
             }
            },
            "type": "barpolar"
           }
          ],
          "carpet": [
           {
            "aaxis": {
             "endlinecolor": "#2a3f5f",
             "gridcolor": "white",
             "linecolor": "white",
             "minorgridcolor": "white",
             "startlinecolor": "#2a3f5f"
            },
            "baxis": {
             "endlinecolor": "#2a3f5f",
             "gridcolor": "white",
             "linecolor": "white",
             "minorgridcolor": "white",
             "startlinecolor": "#2a3f5f"
            },
            "type": "carpet"
           }
          ],
          "choropleth": [
           {
            "colorbar": {
             "outlinewidth": 0,
             "ticks": ""
            },
            "type": "choropleth"
           }
          ],
          "contour": [
           {
            "colorbar": {
             "outlinewidth": 0,
             "ticks": ""
            },
            "colorscale": [
             [
              0,
              "#0d0887"
             ],
             [
              0.1111111111111111,
              "#46039f"
             ],
             [
              0.2222222222222222,
              "#7201a8"
             ],
             [
              0.3333333333333333,
              "#9c179e"
             ],
             [
              0.4444444444444444,
              "#bd3786"
             ],
             [
              0.5555555555555556,
              "#d8576b"
             ],
             [
              0.6666666666666666,
              "#ed7953"
             ],
             [
              0.7777777777777778,
              "#fb9f3a"
             ],
             [
              0.8888888888888888,
              "#fdca26"
             ],
             [
              1,
              "#f0f921"
             ]
            ],
            "type": "contour"
           }
          ],
          "contourcarpet": [
           {
            "colorbar": {
             "outlinewidth": 0,
             "ticks": ""
            },
            "type": "contourcarpet"
           }
          ],
          "heatmap": [
           {
            "colorbar": {
             "outlinewidth": 0,
             "ticks": ""
            },
            "colorscale": [
             [
              0,
              "#0d0887"
             ],
             [
              0.1111111111111111,
              "#46039f"
             ],
             [
              0.2222222222222222,
              "#7201a8"
             ],
             [
              0.3333333333333333,
              "#9c179e"
             ],
             [
              0.4444444444444444,
              "#bd3786"
             ],
             [
              0.5555555555555556,
              "#d8576b"
             ],
             [
              0.6666666666666666,
              "#ed7953"
             ],
             [
              0.7777777777777778,
              "#fb9f3a"
             ],
             [
              0.8888888888888888,
              "#fdca26"
             ],
             [
              1,
              "#f0f921"
             ]
            ],
            "type": "heatmap"
           }
          ],
          "heatmapgl": [
           {
            "colorbar": {
             "outlinewidth": 0,
             "ticks": ""
            },
            "colorscale": [
             [
              0,
              "#0d0887"
             ],
             [
              0.1111111111111111,
              "#46039f"
             ],
             [
              0.2222222222222222,
              "#7201a8"
             ],
             [
              0.3333333333333333,
              "#9c179e"
             ],
             [
              0.4444444444444444,
              "#bd3786"
             ],
             [
              0.5555555555555556,
              "#d8576b"
             ],
             [
              0.6666666666666666,
              "#ed7953"
             ],
             [
              0.7777777777777778,
              "#fb9f3a"
             ],
             [
              0.8888888888888888,
              "#fdca26"
             ],
             [
              1,
              "#f0f921"
             ]
            ],
            "type": "heatmapgl"
           }
          ],
          "histogram": [
           {
            "marker": {
             "colorbar": {
              "outlinewidth": 0,
              "ticks": ""
             }
            },
            "type": "histogram"
           }
          ],
          "histogram2d": [
           {
            "colorbar": {
             "outlinewidth": 0,
             "ticks": ""
            },
            "colorscale": [
             [
              0,
              "#0d0887"
             ],
             [
              0.1111111111111111,
              "#46039f"
             ],
             [
              0.2222222222222222,
              "#7201a8"
             ],
             [
              0.3333333333333333,
              "#9c179e"
             ],
             [
              0.4444444444444444,
              "#bd3786"
             ],
             [
              0.5555555555555556,
              "#d8576b"
             ],
             [
              0.6666666666666666,
              "#ed7953"
             ],
             [
              0.7777777777777778,
              "#fb9f3a"
             ],
             [
              0.8888888888888888,
              "#fdca26"
             ],
             [
              1,
              "#f0f921"
             ]
            ],
            "type": "histogram2d"
           }
          ],
          "histogram2dcontour": [
           {
            "colorbar": {
             "outlinewidth": 0,
             "ticks": ""
            },
            "colorscale": [
             [
              0,
              "#0d0887"
             ],
             [
              0.1111111111111111,
              "#46039f"
             ],
             [
              0.2222222222222222,
              "#7201a8"
             ],
             [
              0.3333333333333333,
              "#9c179e"
             ],
             [
              0.4444444444444444,
              "#bd3786"
             ],
             [
              0.5555555555555556,
              "#d8576b"
             ],
             [
              0.6666666666666666,
              "#ed7953"
             ],
             [
              0.7777777777777778,
              "#fb9f3a"
             ],
             [
              0.8888888888888888,
              "#fdca26"
             ],
             [
              1,
              "#f0f921"
             ]
            ],
            "type": "histogram2dcontour"
           }
          ],
          "mesh3d": [
           {
            "colorbar": {
             "outlinewidth": 0,
             "ticks": ""
            },
            "type": "mesh3d"
           }
          ],
          "parcoords": [
           {
            "line": {
             "colorbar": {
              "outlinewidth": 0,
              "ticks": ""
             }
            },
            "type": "parcoords"
           }
          ],
          "scatter": [
           {
            "marker": {
             "colorbar": {
              "outlinewidth": 0,
              "ticks": ""
             }
            },
            "type": "scatter"
           }
          ],
          "scatter3d": [
           {
            "line": {
             "colorbar": {
              "outlinewidth": 0,
              "ticks": ""
             }
            },
            "marker": {
             "colorbar": {
              "outlinewidth": 0,
              "ticks": ""
             }
            },
            "type": "scatter3d"
           }
          ],
          "scattercarpet": [
           {
            "marker": {
             "colorbar": {
              "outlinewidth": 0,
              "ticks": ""
             }
            },
            "type": "scattercarpet"
           }
          ],
          "scattergeo": [
           {
            "marker": {
             "colorbar": {
              "outlinewidth": 0,
              "ticks": ""
             }
            },
            "type": "scattergeo"
           }
          ],
          "scattergl": [
           {
            "marker": {
             "colorbar": {
              "outlinewidth": 0,
              "ticks": ""
             }
            },
            "type": "scattergl"
           }
          ],
          "scattermapbox": [
           {
            "marker": {
             "colorbar": {
              "outlinewidth": 0,
              "ticks": ""
             }
            },
            "type": "scattermapbox"
           }
          ],
          "scatterpolar": [
           {
            "marker": {
             "colorbar": {
              "outlinewidth": 0,
              "ticks": ""
             }
            },
            "type": "scatterpolar"
           }
          ],
          "scatterpolargl": [
           {
            "marker": {
             "colorbar": {
              "outlinewidth": 0,
              "ticks": ""
             }
            },
            "type": "scatterpolargl"
           }
          ],
          "scatterternary": [
           {
            "marker": {
             "colorbar": {
              "outlinewidth": 0,
              "ticks": ""
             }
            },
            "type": "scatterternary"
           }
          ],
          "surface": [
           {
            "colorbar": {
             "outlinewidth": 0,
             "ticks": ""
            },
            "colorscale": [
             [
              0,
              "#0d0887"
             ],
             [
              0.1111111111111111,
              "#46039f"
             ],
             [
              0.2222222222222222,
              "#7201a8"
             ],
             [
              0.3333333333333333,
              "#9c179e"
             ],
             [
              0.4444444444444444,
              "#bd3786"
             ],
             [
              0.5555555555555556,
              "#d8576b"
             ],
             [
              0.6666666666666666,
              "#ed7953"
             ],
             [
              0.7777777777777778,
              "#fb9f3a"
             ],
             [
              0.8888888888888888,
              "#fdca26"
             ],
             [
              1,
              "#f0f921"
             ]
            ],
            "type": "surface"
           }
          ],
          "table": [
           {
            "cells": {
             "fill": {
              "color": "#EBF0F8"
             },
             "line": {
              "color": "white"
             }
            },
            "header": {
             "fill": {
              "color": "#C8D4E3"
             },
             "line": {
              "color": "white"
             }
            },
            "type": "table"
           }
          ]
         },
         "layout": {
          "annotationdefaults": {
           "arrowcolor": "#2a3f5f",
           "arrowhead": 0,
           "arrowwidth": 1
          },
          "colorscale": {
           "diverging": [
            [
             0,
             "#8e0152"
            ],
            [
             0.1,
             "#c51b7d"
            ],
            [
             0.2,
             "#de77ae"
            ],
            [
             0.3,
             "#f1b6da"
            ],
            [
             0.4,
             "#fde0ef"
            ],
            [
             0.5,
             "#f7f7f7"
            ],
            [
             0.6,
             "#e6f5d0"
            ],
            [
             0.7,
             "#b8e186"
            ],
            [
             0.8,
             "#7fbc41"
            ],
            [
             0.9,
             "#4d9221"
            ],
            [
             1,
             "#276419"
            ]
           ],
           "sequential": [
            [
             0,
             "#0d0887"
            ],
            [
             0.1111111111111111,
             "#46039f"
            ],
            [
             0.2222222222222222,
             "#7201a8"
            ],
            [
             0.3333333333333333,
             "#9c179e"
            ],
            [
             0.4444444444444444,
             "#bd3786"
            ],
            [
             0.5555555555555556,
             "#d8576b"
            ],
            [
             0.6666666666666666,
             "#ed7953"
            ],
            [
             0.7777777777777778,
             "#fb9f3a"
            ],
            [
             0.8888888888888888,
             "#fdca26"
            ],
            [
             1,
             "#f0f921"
            ]
           ],
           "sequentialminus": [
            [
             0,
             "#0d0887"
            ],
            [
             0.1111111111111111,
             "#46039f"
            ],
            [
             0.2222222222222222,
             "#7201a8"
            ],
            [
             0.3333333333333333,
             "#9c179e"
            ],
            [
             0.4444444444444444,
             "#bd3786"
            ],
            [
             0.5555555555555556,
             "#d8576b"
            ],
            [
             0.6666666666666666,
             "#ed7953"
            ],
            [
             0.7777777777777778,
             "#fb9f3a"
            ],
            [
             0.8888888888888888,
             "#fdca26"
            ],
            [
             1,
             "#f0f921"
            ]
           ]
          },
          "colorway": [
           "#636efa",
           "#EF553B",
           "#00cc96",
           "#ab63fa",
           "#FFA15A",
           "#19d3f3",
           "#FF6692",
           "#B6E880",
           "#FF97FF",
           "#FECB52"
          ],
          "font": {
           "color": "#2a3f5f"
          },
          "geo": {
           "bgcolor": "white",
           "lakecolor": "white",
           "landcolor": "#E5ECF6",
           "showlakes": true,
           "showland": true,
           "subunitcolor": "white"
          },
          "hoverlabel": {
           "align": "left"
          },
          "hovermode": "closest",
          "mapbox": {
           "style": "light"
          },
          "paper_bgcolor": "white",
          "plot_bgcolor": "#E5ECF6",
          "polar": {
           "angularaxis": {
            "gridcolor": "white",
            "linecolor": "white",
            "ticks": ""
           },
           "bgcolor": "#E5ECF6",
           "radialaxis": {
            "gridcolor": "white",
            "linecolor": "white",
            "ticks": ""
           }
          },
          "scene": {
           "xaxis": {
            "backgroundcolor": "#E5ECF6",
            "gridcolor": "white",
            "gridwidth": 2,
            "linecolor": "white",
            "showbackground": true,
            "ticks": "",
            "zerolinecolor": "white"
           },
           "yaxis": {
            "backgroundcolor": "#E5ECF6",
            "gridcolor": "white",
            "gridwidth": 2,
            "linecolor": "white",
            "showbackground": true,
            "ticks": "",
            "zerolinecolor": "white"
           },
           "zaxis": {
            "backgroundcolor": "#E5ECF6",
            "gridcolor": "white",
            "gridwidth": 2,
            "linecolor": "white",
            "showbackground": true,
            "ticks": "",
            "zerolinecolor": "white"
           }
          },
          "shapedefaults": {
           "line": {
            "color": "#2a3f5f"
           }
          },
          "ternary": {
           "aaxis": {
            "gridcolor": "white",
            "linecolor": "white",
            "ticks": ""
           },
           "baxis": {
            "gridcolor": "white",
            "linecolor": "white",
            "ticks": ""
           },
           "bgcolor": "#E5ECF6",
           "caxis": {
            "gridcolor": "white",
            "linecolor": "white",
            "ticks": ""
           }
          },
          "title": {
           "x": 0.05
          },
          "xaxis": {
           "automargin": true,
           "gridcolor": "white",
           "linecolor": "white",
           "ticks": "",
           "zerolinecolor": "white",
           "zerolinewidth": 2
          },
          "yaxis": {
           "automargin": true,
           "gridcolor": "white",
           "linecolor": "white",
           "ticks": "",
           "zerolinecolor": "white",
           "zerolinewidth": 2
          }
         }
        },
        "title": {
         "text": "ε-Progress"
        },
        "width": 340
       },
       "_py2js_addTraces": {},
       "_py2js_animate": {},
       "_py2js_deleteTraces": {},
       "_py2js_moveTraces": {},
       "_py2js_removeLayoutProps": {},
       "_py2js_removeTraceProps": {},
       "_py2js_restyle": {},
       "_view_count": 1
      }
     },
     "df1f820ae74c4779af73794ee808a38a": {
      "model_module": "@jupyter-widgets/controls",
      "model_module_version": "1.5.0",
      "model_name": "HBoxModel",
      "state": {
       "children": [
        "IPY_MODEL_92ead3687e1641b28b9577b6b4fdb357",
        "IPY_MODEL_8d0f6a89ec874489b574f7df814f8496"
       ],
       "layout": "IPY_MODEL_55258e9329dd4b88824cce67937b4095"
      }
     },
     "df5a4c87d0ad4bfd903a0ea0df02b988": {
      "model_module": "@jupyter-widgets/controls",
      "model_module_version": "1.5.0",
      "model_name": "DescriptionStyleModel",
      "state": {
       "description_width": ""
      }
     },
     "dfba3290338b4bfdae5a9d315d1440b0": {
      "model_module": "@jupyter-widgets/controls",
      "model_module_version": "1.5.0",
      "model_name": "CheckboxModel",
      "state": {
       "description": "(L) expand_capacity",
       "description_tooltip": "expand_capacity",
       "disabled": false,
       "layout": "IPY_MODEL_4dd02d3090734247a48e90a99ccfdce7",
       "name": "expand_capacity",
       "style": "IPY_MODEL_46fdc8f4236941d096fe1e4f4e10bc5e",
       "value": true
      }
     },
     "e0624fa8221f4c628f886bfff69ba623": {
      "model_module": "@jupyter-widgets/base",
      "model_module_version": "1.2.0",
      "model_name": "LayoutModel",
      "state": {
       "align_items": "center"
      }
     },
     "e0a722647bc54c8c9f55703f583e0408": {
      "model_module": "@jupyter-widgets/controls",
      "model_module_version": "1.5.0",
      "model_name": "VBoxModel",
      "state": {
       "children": [
        "IPY_MODEL_fbbdb44f991d4df48b8af8bb81cdb5a3",
        "IPY_MODEL_6e15eb1fc66f4206bf8b59d499552647",
        "IPY_MODEL_021f06b87188454e8858f31e0e74a137",
        "IPY_MODEL_5535fababdf441d2a10fb1c9748558ea"
       ],
       "layout": "IPY_MODEL_1c8b9670625c40f080919fb4083f03a5"
      }
     },
     "e11adc0eedce4855803b59222a3f2913": {
      "model_module": "@jupyter-widgets/controls",
      "model_module_version": "1.5.0",
      "model_name": "DescriptionStyleModel",
      "state": {
       "description_width": ""
      }
     },
     "e17de753251843239b3ed08a27413c08": {
      "model_module": "@jupyter-widgets/controls",
      "model_module_version": "1.5.0",
      "model_name": "CheckboxModel",
      "state": {
       "description": "(M-) cost_of_capacity_expansion",
       "description_tooltip": "cost_of_capacity_expansion",
       "disabled": false,
       "layout": "IPY_MODEL_26aeb94c1deb460ea6ea885dc0373176",
       "name": "cost_of_capacity_expansion",
       "style": "IPY_MODEL_88268a160909436487603e84a69f1922",
       "value": true
      }
     },
     "e3e83bed7e4f4f3893b1e70a46de1372": {
      "model_module": "@jupyter-widgets/controls",
      "model_module_version": "1.5.0",
      "model_name": "CheckboxModel",
      "state": {
       "description": "(M-) 95%ile Capacity Expansion Cost",
       "description_tooltip": "95%ile Capacity Expansion Cost",
       "disabled": false,
       "layout": "IPY_MODEL_168aeb871bc840659370b24926003f5a",
       "name": "95%ile Capacity Expansion Cost",
       "style": "IPY_MODEL_da9be28086c44ccf85cb9f24365c00ee",
       "value": true
      }
     },
     "e4a5968892d34c3fa2d3d47fa63a05dc": {
      "model_module": "@jupyter-widgets/base",
      "model_module_version": "1.2.0",
      "model_name": "LayoutModel",
      "state": {}
     },
     "e76af495be0e479391ee5f210eff72cb": {
      "model_module": "@jupyter-widgets/base",
      "model_module_version": "1.2.0",
      "model_name": "LayoutModel",
      "state": {}
     },
     "e8555411cacb467f82303c2fd33ce945": {
      "buffers": [
       {
        "data": "QnDL1t4BSUAAJq1MMwAYQE38DWvPSUFAVUbltOMoLEAB08m/oJQHQDng/////1hAd3oDxwgs0D9MK/zICwNUQCeTLclNqlRAAAAAAAAAAAAAAAAAAABZQHJM9BC82BVAbTGCuEjGN0AM+WeX5IwzQGHzfk9qJz5AizdDV3XcSkAh1tK6GEtVQC6E6N/sfFZAZOvlBQlSJUDyMHMG4IREQKzJIyj+71VAIA9zhRRZNEBcZcu+W3wsQDhSVK2pYztAZeEQKuCTOUAYiZJCkFFJQKqRupUn4DhARp4rp8JTGkA8KhtWwRI2QLNrUH6cPwhAID1Cp98D7D9Jv9f9l6QCQLeFk3QjmFJApDUySqmi8j8UW05JVofkP+CSbZNRDL8/EP9EzqObxj8KPUnlgOYgQKhVEopoW/s/GMSW0K3T4j8i3FlQqcXxP5ihHTz6Tx1A0E4o5GkAIUBU2Cin5IMRQHvP1D/x9xtAz/MxFfAQ3j8AXDfnYmt2P4oKkIhogqw/mCi79ArGDUC2z4mfL3kgQLAadLY7yuc/+J2F+LIJ1j+rtka6oS8kQB6p8y4TBf4/LVTRLupOMUC7jLYBDWQLQEBdx0rumbM/xu+5kJxgRUA+ncZmTO4mQFgUmmzTBNE/NPI5EXFXMECU7QKwYNkQQLRjqSF/Pf8/INGfBT1t1D/We0fSV2L3P8ABRzUVLds/wQNHYJvzCEBmVn5CfUruPyCq8NdYoTFAEk4SQAWiV0DGOnL+sQc6QMwWHF9N5TBAFWL+fTEQR0DnrFRsWM4pQHT+M4TPnU9AEwLuHrOaIkChL5G3/DRMQIky2A0MOxxA3Y1B5/B5UUC+9tXM1IFMQNohAZYIhENAx5iXH5fnT0DSX3RvvY0wQI0VPbphAUxAgZPU9veaSUA=",
        "encoding": "base64",
        "path": [
         "_data",
         0,
         "dimensions",
         0,
         "values",
         "value"
        ]
       },
       {
        "data": "5KDfEnHW/z/zw+AY0tP/P9sFqv4FCwBAWEBd9mN1/z8bW3kufNT/P5p/MupZCgBA9P54X8vs/z86i0ReX4//P5m8Qon06P8/3C0vPEQ4/z/wPNQhEyYAQIAVNtC1QwBA2HwNpaUWAED8BnzOBUAAQOQt1JouJwBA0Thdpa5LAECx9zOSnjIAQD6ooLesHABAr/NL7Zrz/z8rjTw+EhcAQDVw69vBNgBAW9m+mRoMAED6eFSdta3/P+FKesZgy/8/FjN9zb8aAEDXOKqbRlkAQBklfqwh6P8/8bS5lSVx/z/rNA6I3Ev/P2+3B99Rw/8/IhWAQB47/z9DgdplEEYAQCDdx52NSwBAIwDSbCVb/z9f6vO1W2EAQAgZnpNBoP8/eaQLiukdAEBSgbqPAmb/P10CK5tOpf8/hXlA5nQjAEDJKSuRGQQAQLApvRFnLQBAPgVypMqa/z+DxKuReWr/P3m/VueGHABA4xTPFCNl/z9cThdrolX/Py51rhYgOgBAQflef69TAEB0WQjZ41MAQBBT56FADwBAByZlalTp/z/A9aUlN/P/P33QaTl+4v8/pVjVG+Op/z//0XPPUgsAQCCy3HPrOf8/GBzV+8g9AECYHusdT2D/PzncHmeDXf8/5zpMejMDAEAUTkwsb00AQMlOJDJnYABA+tXfPi0LAECpP1NQmNH/P9XOGfhrOwBAKZQLkDIkAEBYy3x3CWD/P1wNMMDVKwBAxxLTy/hA/z8xBjgm/lcAQC0estYGYQBAeX6qPvbY/z/T9TcPE0wAQI9fdVwUzf8/p3Wb1qx2/z8G5j8DQjEAQADv22r+HgBA8SJd55n+/z+6qrYB7EQAQK7rsz9DeP8/DxVol3Vr/z9AxkBaTC0AQBiM3UdZOABAEpEDCkb8/z8=",
        "encoding": "base64",
        "path": [
         "_data",
         0,
         "dimensions",
         2,
         "values",
         "value"
        ]
       },
       {
        "data": "VaHHSXWI8D+HYBIAGC3wPxBIK7pCA6U/IvLmHM6L7j/A4cZpp7zwP8hDsbRud50/9HJIhdH7hD8NipHhi7nuP+CEla+py4E/64jrI3SV8D/JpMf/zuHuPxRkAeL71u8/b/MAc5/C8D9khUoV9CPvPzxPy/k/GfA/Bfb2SQKb7j8XgyHqdnDwP2qL2ebl1+8/1nt4vOC48D+aiyETdz3wP7esEKvrpfA/or7G3zlZ8D8l8nlygROgv+03G3cHoJO/MK5PmPoQfT/0VDpD2GGSvyD/u6vg5Ic/FB6/Jvi0oj/QImyO72aKP35njndxq+8/bOyP1ZVcp78J9aOQTS/vP1aqkOk+OaC/K+xBRLjI7z96/AVh6HGWv7SsY+H9Zu8/oDUf3JM2Xb9H7Ji7/iqWv0ZKrwLKHaM/qOCnsybbdb/AP4X607umv3B0171+SJy/11Rqy4Cu8D88g7UlUKqgv3LeCrmz5u8/GtWvGIxdkb+4DX9NUiyZP7z927TJdpk/gJr/obxycL/AUTsnwkzwP4PNgXVqKvA/WlYJZoty8D8GcRsnExKiP5cPZLvRbvA/7/YgihKd7z+AbtljOMU6P/fEGNihYpi/H6qMGdeipr9Ao7JW6VaevwCbIA+PrqW/iduTMll38D90Kt8j5GfuPxT+QGOL6Z2/YK+1gPvilL+czRYJV42NvwDQTuna9DI/fa2oSFXm7z9ZVJKXZXjwPyCgWwcrEY2/uJShYND0mj9QypVGdveZP3RXnuskt+8/3JnyX3dHoL9Sz61FnwbvPwDNmzQDsO4//xOY4r6Y8D8OosKmUWXvP0gmCP6TsPA/FWmRHdP97j9LqOzG+wDwP+4Mv084OvA/nPvcOnAKkD/AMnzt0d+UP6g8ytVcj42/4ASnwGSSmD8=",
        "encoding": "base64",
        "path": [
         "_data",
         0,
         "dimensions",
         3,
         "values",
         "value"
        ]
       },
       {
        "data": "m7L4hnfjTkDcMscZPshQQCtwqC03X09A+zD/kRVUUEBEXfDUzwBRQLcAAAAASE5A+uGb9DY6UUAy7c+Vn21OQIIHf6h7Z05AAAAAAABAUUD//////0dOQEIHpCii0VBAEcdLUtPqT0Drofj5+hlQQEZdxylxkU9AfcgZdU3OTkCng+vs+mFOQBAbKJB8WE5AP1rxTxyAUECWiGexJCNPQE1vrSa2XE5A1oFcPZQSUECDMwqvJVJQQOK2zSxxtU9ARuW4qjzPT0BawG/Eut9OQFyevgC+2U9A37GffV2+UECdRgfcYQNQQHRZtdUm/1BAu0PuUUMsUUB0CB3aSw1RQIhCRtaXfE5Ax4intu0lUUDhX5sSdDFRQOJjptA2PVFA2mIHz/I7UUDsMNkEZKBQQGHJBd07GlFAij8TR6QyUUAfjqNzGidRQPbBZDIUslBA1cfoSZ2fUECMq3k0QuVQQLVx0ZKOt1BA3G2ZV001UUC1Gmq43z9RQPk7Pwe4PlFAENlgQazxUEDMmqObr6NQQD4xolUvL1FAK3lKWiI4UUB81NBwFohQQJJTQri5FlFAdhgcCSowUECM4n09bvdQQBYy1z89PlFAMV/4r2MVT0DZ9+agIXVQQChyIerpOVFAyAauc2Y6UEC+1RcbXuhQQP7DNocgFVFAGwldZrQ4UUBrdDOohR9RQCpTQtBRNlFAO3kdS2n9UECbFu9usipRQEcdn+3YLFBAWAssl3FQTkA4F+37nshPQHCr3xZ7NFBASoFG86j8TkC8ouWpfGJQQOiK2YpDok5AhzntQo+TUECZJtridsBOQFuQ4k57tlBAimnPrzyKTkC1Udilib1OQKZYE4VRNE9A/A+28/2fTkBmmzQtHjhQQMmQKyx2wk5ADvS/0lrcTkA=",
        "encoding": "base64",
        "path": [
         "_data",
         0,
         "dimensions",
         4,
         "values",
         "value"
        ]
       },
       {
        "data": "KGs6yEPkHEAASTOOefD9P6h+vJJGBhlAoOAZwE19DUAAXtGHFZjvPyT9////3yBAABh4kC0ktz84S8CogUkgQPjhA14RYiBAAAAAAAAAAAAEAAAAAOAgQIAv/tZ1l/s/eMehbWWpFEBQ4XVgUGASQNAVxbF2dBdAGLwxV5SNHUBk8VFMFHggQMCTX78NniBAILjUAXb8B0BQu8N02uYaQMxCSmUnjSBAoOI3KrzWEkCgj7keSrsNQPBIkpl2VBZA0NU4qhqGFUAw/YHcKQIdQCANC/oPMhVAIMQJTFA0AEAwlos/4skTQACjqZJKNvA/AEW8Ea680z8AxnvxElrpP+D15qagDSBAADl3WEkS2j8APkDJ2hfNPwDw4Mx6SaY/AJh04sM0sD+A4tlkf/MDQIBPG30R4uI/AOyA2XG3yj8A4XFcjOXYP0DBZ7N5vQFAYAXnwlYMBEAAHZXhcq/2P2DJ0aUtDgFAAEgkzVBlxT8AgKXyyiNgPwBwQAyMf5Q/ALzJp++U8z+ApoyLDIoDQADCzl2q0NA/AFQb1pZ2vz+AcOXlMf0GQAA31t4jo+Q/oHg+bl/9EEAAXYegcCTyPwCg3owCLJw/eAY9gOJUG0DgBCHjy1sJQABgN3pXWLg/gJMfxZhZEECAkAo6eej1PwABnmS8b+U/AJTbi2YuvT+AykXmKz3gPwCsWXtfXMM/QLGhOK2l8D8AZekQkU3VP5ArDiZxMhFAoNJPozm+IEBARpcgCLsVQABJBZJOuBBAsPXLZbgaHECAqEvDarALQMCoM6nj7R5AIM9YoheOBUA4yy7pSPwdQKD0rSOWMAFAsLOEgRquH0BYcj3RshMeQNA6ZddzXRpAIIBPYhAAH0CgSbYsHX4QQLh5o55O7B1AkF8AaikdHUA=",
        "encoding": "base64",
        "path": [
         "_data",
         0,
         "dimensions",
         5,
         "values",
         "value"
        ]
       },
       {
        "data": "dsS2i/8VS0BvFFD1cREsQL22kCnidUdAlkIY5HilO0AgSFQvlJ4dQKP6////o09AgJZwt+qx5T8JjWgc04lOQLFHR5Dgt05AAAAAAAAAAAAIAAAAAKRPQIhMjnn+3SlAAavHFs9eQ0A7g25aSzpBQHPEqEYv/UVAVqC+Ebu0S0CcpBkPJuFOQAc108ZZKE9Anmy3oa58NkCbf3fNbDhJQD49692pCE9AdmSUZ1CpQUCm9s18ld87QGEk+S8v70RAc0iV/7gtREBd3bk+BzJLQE5cavru3kNAvE+SjhZiLkDN3JIbRI1CQJ8R/tLLZR5AsICgMOOAAkCgCWTCccQXQAQN8TiNGU5AcMXvwiRxCEAgOqwcXUb7PwDhEiDj5NQ//5yaSO9i3j9YRIxuR7QyQIiaSWXwsxFAQN3ou/oL+T/wwqqWM1cHQCxFMRiioTBACpW4VpHLMkAwy3uze0QlQJNZ6ZaV+i9AgANSwPsO9D//T/aGHEOOPwBpfEuTN8M/QCBNraBbIkAY3NPCa1EyQL+r428/h/8/v565aC1/7T94GYfHXo01QJDT6KDxWBNALCK17hLbP0Aw536WKQIhQP+1EGRCaco/EDY5WJSfSUCS9O4kD8Y3QADqkwLS0uY/kDSbcf6nPkB452mm8YkkQPAgVJ7AGBRAwNodI4Bb6z+w28JPsnIOQEARpIOZJvI/VywvyqQ2H0Cwztr/t/gDQNdIrRNKH0BA7Ko1EqxkT0Dc0Y2eV19EQN/oyVGTWT9AVTZv3wxZSkD47RYXZPU5QDNuoG4F/0xALkIzKDY1NECE3ptahBxMQFYVc8GMHTBAdWhs2TizTUAymymkdzJMQCPn7pmct0hAHYgqXA8QTUAMytWzduw+QBxCubSJDUxAlllg01ZLS0A=",
        "encoding": "base64",
        "path": [
         "_data",
         0,
         "dimensions",
         6,
         "values",
         "value"
        ]
       },
       {
        "data": "/I4m+HVbUsDYXPpBkmL0v/eRdy2RpUTACPtUu+aMIMDAmR31t329v48E6uoS+2fA4MCBHs4LoT8LLltHsORhwD2dRx+JrmLAAAAAAAAAAAASOYBz0kVowFBgMdRrAvC/pKPGpifqNcD0vjgchdguwHVpRcv7eUDAhX3GCH9pVMChVje0VHFjwJyIiBio5WTAOKJo9yXXEsBDHhEJGCFLwFwNBL7MOWTArHupayiXMMAMVaY9oe0gwOaa/EhMAjzAxiGAQPnlOMAIIf7qGrNSwA5fcNcIuTfAsIzyEiyb+b886ppwFjYzwICvNEuCG8G/wC1X9yFRtD8A2H3CajRtv9XfsZfRMWDAQE/gTnBwtT8wo1pXa2exP7AkRYfedJE/EJF8BSjAmD8oHOm2ItYGwECqh9NhQrA/IJN/ACJ9sD8gm1gEl2+1PwgLuYJThADAuOGyyj0kB8DA57pUWzXhv7i0cd0yl/2/4OhDxYs3rD+gfyfx2JtKP+A6CFRGiIA/QCvmizc71L8AE1TKZ5EFwPCsHNMt5bI/wCaPkrcmpj+ow/tGmcoQwIBCSBaeoak/5NJrpMyaKMAAGzmbG5DNv3DK4RJBg4Y/fBnhFYzqTMCEGBF4O+kVwMBJOC6B0aE/bGLbazcSJsAAAzvwdovevwB6bLvG5qU/IOGVlUnOpD8gFUG+jcmzP4BlPdnXJ6o/oF4qaeCzw7+ANVrZcNi0P0RGEIBneCnAM+kPkHVMZsCwg47SOKo5wD5eHkrngifAcF2eYxQ/UMC4nGNentcbwJbQWwBA1VnAuJkzDhkyDMC+rFa9GO1VwBCdk8fiP/6/IB2NY6K8XcBjMSmGJURWwIGe5VuiEknAdEtbwtgqWsCc14wsVp4mwCCXeqTBslXAWXkdgxYEU8A=",
        "encoding": "base64",
        "path": [
         "_data",
         0,
         "dimensions",
         7,
         "values",
         "value"
        ]
       },
       {
        "data": "N/EBvnXmX0AKYI89xJ0uQFokhKu5DVZADWDhIPb1QUCHvigPixQeQDgD6uoS5G9AcnqI1S2h5D9NUXUOJYdpQClvWUOBXGpAAAAAAAAAAACKHMA5aRdwQJJ4FPRL3itA0/wq6uJTTkD4snyhbPBIQPQW94iVO1NA2ObSSO4hYUDIv/03nilrQN5VPYq+r2xALJWRH3gyO0DvTkRrwixaQKvcfjX3+2tATCJpneT0SUCWkNANMytCQOq4O6oqeFFAq6zqz1pQUEDbhy1FDyZgQNWLImZzu09AqVB4CL7KMEDrUeBTTyhMQBu3V+Wn7h5AQsflIFreAUBbWbxPGMgXQBYj7uU0uGdA9sJ4QKHFB0DtjzZn5i/6P7WOnjeVzdM/7tNCyOzW3D/dZ2nFC481QN97+93mchFADuTgmygE+D8X/ofetqsGQI1miIgssjJAQfEOEBmwNUCsecdo0VcmQBXIS/m91jFAOeQnYj8t8z8F2OP3XpmMP1LlO+YOL8I/mlGsaXr9IkB4Xh68mAM1QPDgsZLsWP4/U6yQ78Ec7D9iCkYZBcA5QAtDvGSuJRNAz4V1oDwURkCcy+sEanghQFiZ4lIOAck/xicNNxBFW0CzOvMCXkA9QGRlsO+5teU/43LEE43YRECQv+tdTX4lQPxH3RDz7BNArnzEiZsO6j8H09DhZdQNQBQm2sRaVfE/TH94zUPUH0AE/Q959FEDQGhasfNjfUZA7lOdlKAlbkDaieoDOppQQP+LbHuDjUVAm/hV05prXUCT6lfXpXVAQNgD1lthKmRAZbX5SXm7N0AATlJ1rf1hQCdP7O2KATJAraghaB9LZkB+/x6ssC5iQNJC6nof5VhAwUc4OHBZZEDtGg7l0B1FQBecaz/D3GFAEtNm9uBUYEA=",
        "encoding": "base64",
        "path": [
         "_data",
         0,
         "dimensions",
         8,
         "values",
         "value"
        ]
       },
       {
        "data": "QnDL1t4BSUAAJq1MMwAYQE38DWvPSUFAVUbltOMoLEAB08m/oJQHQDng/////1hAd3oDxwgs0D9MK/zICwNUQCeTLclNqlRAAAAAAAAAAAAAAAAAAABZQHJM9BC82BVAbTGCuEjGN0AM+WeX5IwzQGHzfk9qJz5AizdDV3XcSkAh1tK6GEtVQC6E6N/sfFZAZOvlBQlSJUDyMHMG4IREQKzJIyj+71VAIA9zhRRZNEBcZcu+W3wsQDhSVK2pYztAZeEQKuCTOUAYiZJCkFFJQKqRupUn4DhARp4rp8JTGkA8KhtWwRI2QLNrUH6cPwhAID1Cp98D7D9Jv9f9l6QCQLeFk3QjmFJApDUySqmi8j8UW05JVofkP+CSbZNRDL8/EP9EzqObxj8KPUnlgOYgQKhVEopoW/s/GMSW0K3T4j8i3FlQqcXxP5ihHTz6Tx1A0E4o5GkAIUBU2Cin5IMRQHvP1D/x9xtAz/MxFfAQ3j8AXDfnYmt2P4oKkIhogqw/mCi79ArGDUC2z4mfL3kgQLAadLY7yuc/+J2F+LIJ1j+rtka6oS8kQB6p8y4TBf4/LVTRLupOMUC7jLYBDWQLQEBdx0rumbM/xu+5kJxgRUA+ncZmTO4mQFgUmmzTBNE/NPI5EXFXMECU7QKwYNkQQLRjqSF/Pf8/INGfBT1t1D/We0fSV2L3P8ABRzUVLds/wQNHYJvzCEBmVn5CfUruPyCq8NdYoTFAEk4SQAWiV0DGOnL+sQc6QMwWHF9N5TBAFWL+fTEQR0DnrFRsWM4pQHT+M4TPnU9AEwLuHrOaIkChL5G3/DRMQIky2A0MOxxA3Y1B5/B5UUC+9tXM1IFMQNohAZYIhENAx5iXH5fnT0DSX3RvvY0wQI0VPbphAUxAgZPU9veaSUA=",
        "encoding": "base64",
        "path": [
         "_data",
         0,
         "line",
         "color",
         "value"
        ]
       }
      ],
      "model_module": "plotlywidget",
      "model_module_version": "^1.2.0",
      "model_name": "FigureModel",
      "state": {
       "_config": {
        "plotlyServerURL": "https://plot.ly"
       },
       "_data": [
        {
         "dimensions": [
          {
           "label": "(L) expand_capacity",
           "name": "expand_capacity",
           "range": [
            0,
            100
           ],
           "values": {
            "dtype": "float64",
            "shape": [
             85
            ],
            "value": {}
           }
          },
          {
           "label": "(L) amortization_period",
           "name": "amortization_period",
           "range": [
            47,
            50
           ],
           "values": [
            50,
            50,
            50,
            50,
            50,
            50,
            50,
            50,
            50,
            47,
            49,
            50,
            50,
            50,
            50,
            50,
            50,
            50,
            50,
            50,
            50,
            50,
            50,
            50,
            50,
            50,
            50,
            50,
            50,
            50,
            50,
            50,
            50,
            50,
            50,
            50,
            50,
            50,
            50,
            50,
            50,
            50,
            50,
            50,
            50,
            50,
            50,
            50,
            50,
            50,
            50,
            50,
            50,
            50,
            50,
            50,
            50,
            50,
            50,
            50,
            50,
            50,
            50,
            50,
            50,
            50,
            50,
            50,
            50,
            50,
            50,
            50,
            50,
            50,
            50,
            50,
            50,
            50,
            50,
            50,
            50,
            50,
            50,
            50,
            50
           ]
          },
          {
           "label": "(L) debt_type",
           "name": "debt_type",
           "range": [
            -0.1,
            2.1
           ],
           "ticktext": [
            "",
            "GO Bond",
            "Rev Bond",
            "Paygo",
            ""
           ],
           "tickvals": [
            -0.1,
            0,
            1,
            2,
            2.1
           ],
           "values": {
            "dtype": "float64",
            "shape": [
             85
            ],
            "value": {}
           }
          },
          {
           "label": "(L) interest_rate_lock",
           "name": "interest_rate_lock",
           "range": [
            -0.1,
            1.1
           ],
           "ticktext": [
            "",
            "False",
            "True",
            ""
           ],
           "tickvals": [
            -0.1,
            0,
            1,
            1.1
           ],
           "values": {
            "dtype": "float64",
            "shape": [
             85
            ],
            "value": {}
           }
          },
          {
           "label": "(M-) build_travel_time",
           "name": "build_travel_time",
           "range": [
            69,
            60.56249999999999
           ],
           "values": {
            "dtype": "float64",
            "shape": [
             85
            ],
            "value": {}
           }
          },
          {
           "label": "(M+) time_savings",
           "name": "time_savings",
           "range": [
            0,
            8.437500000000007
           ],
           "values": {
            "dtype": "float64",
            "shape": [
             85
            ],
            "value": {}
           }
          },
          {
           "label": "(M+)<br>   value_of_time_savings",
           "name": "value_of_time_savings",
           "range": [
            0,
            63.28125000000006
           ],
           "values": {
            "dtype": "float64",
            "shape": [
             85
            ],
            "value": {}
           }
          },
          {
           "label": "(M+) net_benefits",
           "name": "net_benefits",
           "range": [
            -194.181939840732,
            0.08374692846001341
           ],
           "values": {
            "dtype": "float64",
            "shape": [
             85
            ],
            "value": {}
           }
          },
          {
           "label": "(M-) cost_of_capacity_ex<br>   pansion",
           "name": "cost_of_capacity_expansion",
           "range": [
            257.46318984073207,
            0
           ],
           "values": {
            "dtype": "float64",
            "shape": [
             85
            ],
            "value": {}
           }
          }
         ],
         "domain": {
          "y": [
           0,
           0.7
          ]
         },
         "labelangle": -90,
         "labelfont": {
          "color": "#AA0000"
         },
         "line": {
          "cmax": 100,
          "cmin": 0,
          "color": {
           "dtype": "float64",
           "shape": [
            85
           ],
           "value": {}
          },
          "colorbar": {
           "title": {
            "side": "right",
            "text": "expand_capacity"
           }
          },
          "colorscale": [
           [
            0,
            "#440154"
           ],
           [
            0.1111111111111111,
            "#482878"
           ],
           [
            0.2222222222222222,
            "#3e4989"
           ],
           [
            0.3333333333333333,
            "#31688e"
           ],
           [
            0.4444444444444444,
            "#26828e"
           ],
           [
            0.5555555555555556,
            "#1f9e89"
           ],
           [
            0.6666666666666666,
            "#35b779"
           ],
           [
            0.7777777777777778,
            "#6ece58"
           ],
           [
            0.8888888888888888,
            "#b5de2b"
           ],
           [
            1,
            "#fde725"
           ]
          ],
          "reversescale": true,
          "showscale": true
         },
         "type": "parcoords",
         "uid": "11869248-4cae-4c41-bef2-0003397e77b9"
        }
       ],
       "_js2py_pointsCallback": {},
       "_js2py_restyle": {},
       "_js2py_update": {},
       "_last_layout_edit_id": 1,
       "_layout": {
        "autosize": true,
        "template": {
         "data": {
          "bar": [
           {
            "error_x": {
             "color": "#2a3f5f"
            },
            "error_y": {
             "color": "#2a3f5f"
            },
            "marker": {
             "line": {
              "color": "#E5ECF6",
              "width": 0.5
             }
            },
            "type": "bar"
           }
          ],
          "barpolar": [
           {
            "marker": {
             "line": {
              "color": "#E5ECF6",
              "width": 0.5
             }
            },
            "type": "barpolar"
           }
          ],
          "carpet": [
           {
            "aaxis": {
             "endlinecolor": "#2a3f5f",
             "gridcolor": "white",
             "linecolor": "white",
             "minorgridcolor": "white",
             "startlinecolor": "#2a3f5f"
            },
            "baxis": {
             "endlinecolor": "#2a3f5f",
             "gridcolor": "white",
             "linecolor": "white",
             "minorgridcolor": "white",
             "startlinecolor": "#2a3f5f"
            },
            "type": "carpet"
           }
          ],
          "choropleth": [
           {
            "colorbar": {
             "outlinewidth": 0,
             "ticks": ""
            },
            "type": "choropleth"
           }
          ],
          "contour": [
           {
            "colorbar": {
             "outlinewidth": 0,
             "ticks": ""
            },
            "colorscale": [
             [
              0,
              "#0d0887"
             ],
             [
              0.1111111111111111,
              "#46039f"
             ],
             [
              0.2222222222222222,
              "#7201a8"
             ],
             [
              0.3333333333333333,
              "#9c179e"
             ],
             [
              0.4444444444444444,
              "#bd3786"
             ],
             [
              0.5555555555555556,
              "#d8576b"
             ],
             [
              0.6666666666666666,
              "#ed7953"
             ],
             [
              0.7777777777777778,
              "#fb9f3a"
             ],
             [
              0.8888888888888888,
              "#fdca26"
             ],
             [
              1,
              "#f0f921"
             ]
            ],
            "type": "contour"
           }
          ],
          "contourcarpet": [
           {
            "colorbar": {
             "outlinewidth": 0,
             "ticks": ""
            },
            "type": "contourcarpet"
           }
          ],
          "heatmap": [
           {
            "colorbar": {
             "outlinewidth": 0,
             "ticks": ""
            },
            "colorscale": [
             [
              0,
              "#0d0887"
             ],
             [
              0.1111111111111111,
              "#46039f"
             ],
             [
              0.2222222222222222,
              "#7201a8"
             ],
             [
              0.3333333333333333,
              "#9c179e"
             ],
             [
              0.4444444444444444,
              "#bd3786"
             ],
             [
              0.5555555555555556,
              "#d8576b"
             ],
             [
              0.6666666666666666,
              "#ed7953"
             ],
             [
              0.7777777777777778,
              "#fb9f3a"
             ],
             [
              0.8888888888888888,
              "#fdca26"
             ],
             [
              1,
              "#f0f921"
             ]
            ],
            "type": "heatmap"
           }
          ],
          "heatmapgl": [
           {
            "colorbar": {
             "outlinewidth": 0,
             "ticks": ""
            },
            "colorscale": [
             [
              0,
              "#0d0887"
             ],
             [
              0.1111111111111111,
              "#46039f"
             ],
             [
              0.2222222222222222,
              "#7201a8"
             ],
             [
              0.3333333333333333,
              "#9c179e"
             ],
             [
              0.4444444444444444,
              "#bd3786"
             ],
             [
              0.5555555555555556,
              "#d8576b"
             ],
             [
              0.6666666666666666,
              "#ed7953"
             ],
             [
              0.7777777777777778,
              "#fb9f3a"
             ],
             [
              0.8888888888888888,
              "#fdca26"
             ],
             [
              1,
              "#f0f921"
             ]
            ],
            "type": "heatmapgl"
           }
          ],
          "histogram": [
           {
            "marker": {
             "colorbar": {
              "outlinewidth": 0,
              "ticks": ""
             }
            },
            "type": "histogram"
           }
          ],
          "histogram2d": [
           {
            "colorbar": {
             "outlinewidth": 0,
             "ticks": ""
            },
            "colorscale": [
             [
              0,
              "#0d0887"
             ],
             [
              0.1111111111111111,
              "#46039f"
             ],
             [
              0.2222222222222222,
              "#7201a8"
             ],
             [
              0.3333333333333333,
              "#9c179e"
             ],
             [
              0.4444444444444444,
              "#bd3786"
             ],
             [
              0.5555555555555556,
              "#d8576b"
             ],
             [
              0.6666666666666666,
              "#ed7953"
             ],
             [
              0.7777777777777778,
              "#fb9f3a"
             ],
             [
              0.8888888888888888,
              "#fdca26"
             ],
             [
              1,
              "#f0f921"
             ]
            ],
            "type": "histogram2d"
           }
          ],
          "histogram2dcontour": [
           {
            "colorbar": {
             "outlinewidth": 0,
             "ticks": ""
            },
            "colorscale": [
             [
              0,
              "#0d0887"
             ],
             [
              0.1111111111111111,
              "#46039f"
             ],
             [
              0.2222222222222222,
              "#7201a8"
             ],
             [
              0.3333333333333333,
              "#9c179e"
             ],
             [
              0.4444444444444444,
              "#bd3786"
             ],
             [
              0.5555555555555556,
              "#d8576b"
             ],
             [
              0.6666666666666666,
              "#ed7953"
             ],
             [
              0.7777777777777778,
              "#fb9f3a"
             ],
             [
              0.8888888888888888,
              "#fdca26"
             ],
             [
              1,
              "#f0f921"
             ]
            ],
            "type": "histogram2dcontour"
           }
          ],
          "mesh3d": [
           {
            "colorbar": {
             "outlinewidth": 0,
             "ticks": ""
            },
            "type": "mesh3d"
           }
          ],
          "parcoords": [
           {
            "line": {
             "colorbar": {
              "outlinewidth": 0,
              "ticks": ""
             }
            },
            "type": "parcoords"
           }
          ],
          "scatter": [
           {
            "marker": {
             "colorbar": {
              "outlinewidth": 0,
              "ticks": ""
             }
            },
            "type": "scatter"
           }
          ],
          "scatter3d": [
           {
            "line": {
             "colorbar": {
              "outlinewidth": 0,
              "ticks": ""
             }
            },
            "marker": {
             "colorbar": {
              "outlinewidth": 0,
              "ticks": ""
             }
            },
            "type": "scatter3d"
           }
          ],
          "scattercarpet": [
           {
            "marker": {
             "colorbar": {
              "outlinewidth": 0,
              "ticks": ""
             }
            },
            "type": "scattercarpet"
           }
          ],
          "scattergeo": [
           {
            "marker": {
             "colorbar": {
              "outlinewidth": 0,
              "ticks": ""
             }
            },
            "type": "scattergeo"
           }
          ],
          "scattergl": [
           {
            "marker": {
             "colorbar": {
              "outlinewidth": 0,
              "ticks": ""
             }
            },
            "type": "scattergl"
           }
          ],
          "scattermapbox": [
           {
            "marker": {
             "colorbar": {
              "outlinewidth": 0,
              "ticks": ""
             }
            },
            "type": "scattermapbox"
           }
          ],
          "scatterpolar": [
           {
            "marker": {
             "colorbar": {
              "outlinewidth": 0,
              "ticks": ""
             }
            },
            "type": "scatterpolar"
           }
          ],
          "scatterpolargl": [
           {
            "marker": {
             "colorbar": {
              "outlinewidth": 0,
              "ticks": ""
             }
            },
            "type": "scatterpolargl"
           }
          ],
          "scatterternary": [
           {
            "marker": {
             "colorbar": {
              "outlinewidth": 0,
              "ticks": ""
             }
            },
            "type": "scatterternary"
           }
          ],
          "surface": [
           {
            "colorbar": {
             "outlinewidth": 0,
             "ticks": ""
            },
            "colorscale": [
             [
              0,
              "#0d0887"
             ],
             [
              0.1111111111111111,
              "#46039f"
             ],
             [
              0.2222222222222222,
              "#7201a8"
             ],
             [
              0.3333333333333333,
              "#9c179e"
             ],
             [
              0.4444444444444444,
              "#bd3786"
             ],
             [
              0.5555555555555556,
              "#d8576b"
             ],
             [
              0.6666666666666666,
              "#ed7953"
             ],
             [
              0.7777777777777778,
              "#fb9f3a"
             ],
             [
              0.8888888888888888,
              "#fdca26"
             ],
             [
              1,
              "#f0f921"
             ]
            ],
            "type": "surface"
           }
          ],
          "table": [
           {
            "cells": {
             "fill": {
              "color": "#EBF0F8"
             },
             "line": {
              "color": "white"
             }
            },
            "header": {
             "fill": {
              "color": "#C8D4E3"
             },
             "line": {
              "color": "white"
             }
            },
            "type": "table"
           }
          ]
         },
         "layout": {
          "annotationdefaults": {
           "arrowcolor": "#2a3f5f",
           "arrowhead": 0,
           "arrowwidth": 1
          },
          "colorscale": {
           "diverging": [
            [
             0,
             "#8e0152"
            ],
            [
             0.1,
             "#c51b7d"
            ],
            [
             0.2,
             "#de77ae"
            ],
            [
             0.3,
             "#f1b6da"
            ],
            [
             0.4,
             "#fde0ef"
            ],
            [
             0.5,
             "#f7f7f7"
            ],
            [
             0.6,
             "#e6f5d0"
            ],
            [
             0.7,
             "#b8e186"
            ],
            [
             0.8,
             "#7fbc41"
            ],
            [
             0.9,
             "#4d9221"
            ],
            [
             1,
             "#276419"
            ]
           ],
           "sequential": [
            [
             0,
             "#0d0887"
            ],
            [
             0.1111111111111111,
             "#46039f"
            ],
            [
             0.2222222222222222,
             "#7201a8"
            ],
            [
             0.3333333333333333,
             "#9c179e"
            ],
            [
             0.4444444444444444,
             "#bd3786"
            ],
            [
             0.5555555555555556,
             "#d8576b"
            ],
            [
             0.6666666666666666,
             "#ed7953"
            ],
            [
             0.7777777777777778,
             "#fb9f3a"
            ],
            [
             0.8888888888888888,
             "#fdca26"
            ],
            [
             1,
             "#f0f921"
            ]
           ],
           "sequentialminus": [
            [
             0,
             "#0d0887"
            ],
            [
             0.1111111111111111,
             "#46039f"
            ],
            [
             0.2222222222222222,
             "#7201a8"
            ],
            [
             0.3333333333333333,
             "#9c179e"
            ],
            [
             0.4444444444444444,
             "#bd3786"
            ],
            [
             0.5555555555555556,
             "#d8576b"
            ],
            [
             0.6666666666666666,
             "#ed7953"
            ],
            [
             0.7777777777777778,
             "#fb9f3a"
            ],
            [
             0.8888888888888888,
             "#fdca26"
            ],
            [
             1,
             "#f0f921"
            ]
           ]
          },
          "colorway": [
           "#636efa",
           "#EF553B",
           "#00cc96",
           "#ab63fa",
           "#FFA15A",
           "#19d3f3",
           "#FF6692",
           "#B6E880",
           "#FF97FF",
           "#FECB52"
          ],
          "font": {
           "color": "#2a3f5f"
          },
          "geo": {
           "bgcolor": "white",
           "lakecolor": "white",
           "landcolor": "#E5ECF6",
           "showlakes": true,
           "showland": true,
           "subunitcolor": "white"
          },
          "hoverlabel": {
           "align": "left"
          },
          "hovermode": "closest",
          "mapbox": {
           "style": "light"
          },
          "paper_bgcolor": "white",
          "plot_bgcolor": "#E5ECF6",
          "polar": {
           "angularaxis": {
            "gridcolor": "white",
            "linecolor": "white",
            "ticks": ""
           },
           "bgcolor": "#E5ECF6",
           "radialaxis": {
            "gridcolor": "white",
            "linecolor": "white",
            "ticks": ""
           }
          },
          "scene": {
           "xaxis": {
            "backgroundcolor": "#E5ECF6",
            "gridcolor": "white",
            "gridwidth": 2,
            "linecolor": "white",
            "showbackground": true,
            "ticks": "",
            "zerolinecolor": "white"
           },
           "yaxis": {
            "backgroundcolor": "#E5ECF6",
            "gridcolor": "white",
            "gridwidth": 2,
            "linecolor": "white",
            "showbackground": true,
            "ticks": "",
            "zerolinecolor": "white"
           },
           "zaxis": {
            "backgroundcolor": "#E5ECF6",
            "gridcolor": "white",
            "gridwidth": 2,
            "linecolor": "white",
            "showbackground": true,
            "ticks": "",
            "zerolinecolor": "white"
           }
          },
          "shapedefaults": {
           "line": {
            "color": "#2a3f5f"
           }
          },
          "ternary": {
           "aaxis": {
            "gridcolor": "white",
            "linecolor": "white",
            "ticks": ""
           },
           "baxis": {
            "gridcolor": "white",
            "linecolor": "white",
            "ticks": ""
           },
           "bgcolor": "#E5ECF6",
           "caxis": {
            "gridcolor": "white",
            "linecolor": "white",
            "ticks": ""
           }
          },
          "title": {
           "x": 0.05
          },
          "xaxis": {
           "automargin": true,
           "gridcolor": "white",
           "linecolor": "white",
           "ticks": "",
           "zerolinecolor": "white",
           "zerolinewidth": 2
          },
          "yaxis": {
           "automargin": true,
           "gridcolor": "white",
           "linecolor": "white",
           "ticks": "",
           "zerolinecolor": "white",
           "zerolinewidth": 2
          }
         }
        }
       },
       "_py2js_addTraces": {},
       "_py2js_animate": {},
       "_py2js_deleteTraces": {},
       "_py2js_moveTraces": {},
       "_py2js_removeLayoutProps": {},
       "_py2js_removeTraceProps": {},
       "_py2js_restyle": {},
       "_py2js_update": {},
       "_view_count": 1
      }
     },
     "eb98a61a83a64db4b9af1bf82f87bc5e": {
      "model_module": "@jupyter-widgets/controls",
      "model_module_version": "1.5.0",
      "model_name": "DescriptionStyleModel",
      "state": {
       "description_width": ""
      }
     },
     "ebb14c33449e4466baa6f19524f7b8e3": {
      "model_module": "@jupyter-widgets/base",
      "model_module_version": "1.2.0",
      "model_name": "LayoutModel",
      "state": {}
     },
     "ec9e44733a63452f98cfa34f9ecc5f46": {
      "model_module": "@jupyter-widgets/base",
      "model_module_version": "1.2.0",
      "model_name": "LayoutModel",
      "state": {}
     },
     "ece25a4445c3427ba9457fdbd7051dce": {
      "model_module": "@jupyter-widgets/base",
      "model_module_version": "1.2.0",
      "model_name": "LayoutModel",
      "state": {}
     },
     "ede3b37d7d1b4e64be0afb8f0146656f": {
      "model_module": "@jupyter-widgets/controls",
      "model_module_version": "1.5.0",
      "model_name": "CheckboxModel",
      "state": {
       "description": "(X) unit_cost_expansion",
       "description_tooltip": "unit_cost_expansion",
       "disabled": false,
       "layout": "IPY_MODEL_19d7f98f71154d6580522c462875db01",
       "name": "unit_cost_expansion",
       "style": "IPY_MODEL_cdd0fc20a3d344d780530941275979f8",
       "value": true
      }
     },
     "ee696c786fe3483db564c3df74693fcc": {
      "model_module": "@jupyter-widgets/base",
      "model_module_version": "1.2.0",
      "model_name": "LayoutModel",
      "state": {
       "width": "100%"
      }
     },
     "efd47a4d2161454eb6a47b97fed1d105": {
      "model_module": "@jupyter-widgets/base",
      "model_module_version": "1.2.0",
      "model_name": "LayoutModel",
      "state": {}
     },
     "f0accc21ba8b45698b7618f684305a98": {
      "model_module": "@jupyter-widgets/controls",
      "model_module_version": "1.5.0",
      "model_name": "CheckboxModel",
      "state": {
       "description": "(X) input_flow",
       "description_tooltip": "input_flow",
       "disabled": false,
       "layout": "IPY_MODEL_c15197364686415a81b9a143167caac3",
       "name": "input_flow",
       "style": "IPY_MODEL_48a1e2a68dfd4899816f47f31c7c4985",
       "value": true
      }
     },
     "f0cd76d2613845c789b2f88a537fc181": {
      "buffers": [
       {
        "data": "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",
        "encoding": "base64",
        "path": [
         "_data",
         0,
         "dimensions",
         0,
         "values",
         "value"
        ]
       },
       {
        "data": "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",
        "encoding": "base64",
        "path": [
         "_data",
         0,
         "dimensions",
         1,
         "values",
         "value"
        ]
       },
       {
        "data": "/Knx0k1iUD/8qfHSTWJQP/yp8dJNYlA//Knx0k1iUD/8qfHSTWJQP/yp8dJNYlA//Knx0k1iUD/8qfHSTWJQP/yp8dJNYlA//Knx0k1iUD/8qfHSTWJQP/yp8dJNYlA//Knx0k1iUD/8qfHSTWJQP/yp8dJNYlA//Knx0k1iUD/8qfHSTWJQP/yp8dJNYlA//Knx0k1iUD/8qfHSTWJQP/yp8dJNYlA//Knx0k1iUD/8qfHSTWJQP/yp8dJNYlA//Knx0k1iUD/8qfHSTWJQP/yp8dJNYlA//Knx0k1iUD/8qfHSTWJQP/yp8dJNYlA//Knx0k1iUD/8qfHSTWJQP/yp8dJNYlA//Knx0k1iUD/8qfHSTWJQP/yp8dJNYlA//Knx0k1iUD/8qfHSTWJQP/yp8dJNYlA//Knx0k1iUD/8qfHSTWJQP/yp8dJNYlA//Knx0k1iUD/8qfHSTWJQP/yp8dJNYlA//Knx0k1iUD/8qfHSTWJQP/yp8dJNYlA//Knx0k1iUD/8qfHSTWJQP/yp8dJNYlA//Knx0k1iUD/8qfHSTWJQP/yp8dJNYlA//Knx0k1iUD/8qfHSTWJQP/yp8dJNYlA//Knx0k1iUD/8qfHSTWJQP/yp8dJNYlA//Knx0k1iUD/8qfHSTWJQP/yp8dJNYlA//Knx0k1iUD/8qfHSTWJQP/yp8dJNYlA//Knx0k1iUD/8qfHSTWJQP/yp8dJNYlA//Knx0k1iUD/8qfHSTWJQP/yp8dJNYlA//Knx0k1iUD/8qfHSTWJQP/yp8dJNYlA//Knx0k1iUD/8qfHSTWJQP/yp8dJNYlA//Knx0k1iUD/8qfHSTWJQP/yp8dJNYlA//Knx0k1iUD/8qfHSTWJQP/yp8dJNYlA//Knx0k1iUD/8qfHSTWJQP/yp8dJNYlA//Knx0k1iUD/8qfHSTWJQP/yp8dJNYlA//Knx0k1iUD/8qfHSTWJQP/yp8dJNYlA//Knx0k1iUD/8qfHSTWJQP/yp8dJNYlA//Knx0k1iUD/8qfHSTWJQP/yp8dJNYlA//Knx0k1iUD/8qfHSTWJQP/yp8dJNYlA//Knx0k1iUD/8qfHSTWJQP/yp8dJNYlA//Knx0k1iUD/8qfHSTWJQP/yp8dJNYlA//Knx0k1iUD/8qfHSTWJQP/yp8dJNYlA//Knx0k1iUD/8qfHSTWJQP/yp8dJNYlA//Knx0k1iUD/8qfHSTWJQP/yp8dJNYlA//Knx0k1iUD/8qfHSTWJQP/yp8dJNYlA//Knx0k1iUD/8qfHSTWJQP/yp8dJNYlA//Knx0k1iUD/8qfHSTWJQP/yp8dJNYlA//Knx0k1iUD/8qfHSTWJQP/yp8dJNYlA//Knx0k1iUD/8qfHSTWJQP/yp8dJNYlA//Knx0k1iUD/8qfHSTWJQP/yp8dJNYlA//Knx0k1iUD/8qfHSTWJQP/yp8dJNYlA//Knx0k1iUD/8qfHSTWJQP/yp8dJNYlA//Knx0k1iUD/8qfHSTWJQP/yp8dJNYlA//Knx0k1iUD/8qfHSTWJQP/yp8dJNYlA//Knx0k1iUD/8qfHSTWJQP/yp8dJNYlA//Knx0k1iUD/8qfHSTWJQP/yp8dJNYlA//Knx0k1iUD/8qfHSTWJQP/yp8dJNYlA//Knx0k1iUD/8qfHSTWJQP/yp8dJNYlA//Knx0k1iUD/8qfHSTWJQP/yp8dJNYlA//Knx0k1iUD/8qfHSTWJQP/yp8dJNYlA//Knx0k1iUD/8qfHSTWJQP/yp8dJNYlA//Knx0k1iUD/8qfHSTWJQP/yp8dJNYlA//Knx0k1iUD/8qfHSTWJQP/yp8dJNYlA//Knx0k1iUD/8qfHSTWJQP/yp8dJNYlA//Knx0k1iUD/8qfHSTWJQP/yp8dJNYlA//Knx0k1iUD/8qfHSTWJQP/yp8dJNYlA//Knx0k1iUD/8qfHSTWJQP/yp8dJNYlA//Knx0k1iUD/8qfHSTWJQP/yp8dJNYlA//Knx0k1iUD/8qfHSTWJQP/yp8dJNYlA//Knx0k1iUD/8qfHSTWJQP/yp8dJNYlA//Knx0k1iUD/8qfHSTWJQP/yp8dJNYlA//Knx0k1iUD/8qfHSTWJQP/yp8dJNYlA//Knx0k1iUD/8qfHSTWJQP/yp8dJNYlA//Knx0k1iUD/8qfHSTWJQP/yp8dJNYlA//Knx0k1iUD/8qfHSTWJQP/yp8dJNYlA//Knx0k1iUD/8qfHSTWJQP/yp8dJNYlA//Knx0k1iUD/8qfHSTWJQP/yp8dJNYlA//Knx0k1iUD/8qfHSTWJQP/yp8dJNYlA//Knx0k1iUD/8qfHSTWJQP/yp8dJNYlA//Knx0k1iUD/8qfHSTWJQP/yp8dJNYlA//Knx0k1iUD/8qfHSTWJQP/yp8dJNYlA//Knx0k1iUD/8qfHSTWJQP/yp8dJNYlA//Knx0k1iUD/8qfHSTWJQP/yp8dJNYlA//Knx0k1iUD/8qfHSTWJQP/yp8dJNYlA//Knx0k1iUD/8qfHSTWJQP/yp8dJNYlA//Knx0k1iUD/8qfHSTWJQP/yp8dJNYlA//Knx0k1iUD/8qfHSTWJQP/yp8dJNYlA//Knx0k1iUD/8qfHSTWJQP/yp8dJNYlA//Knx0k1iUD/8qfHSTWJQP/yp8dJNYlA//Knx0k1iUD/8qfHSTWJQP/yp8dJNYlA//Knx0k1iUD/8qfHSTWJQP/yp8dJNYlA//Knx0k1iUD/8qfHSTWJQP/yp8dJNYlA//Knx0k1iUD/8qfHSTWJQP/yp8dJNYlA//Knx0k1iUD/8qfHSTWJQP/yp8dJNYlA//Knx0k1iUD/8qfHSTWJQP/yp8dJNYlA//Knx0k1iUD/8qfHSTWJQP/yp8dJNYlA//Knx0k1iUD/8qfHSTWJQP/yp8dJNYlA//Knx0k1iUD/8qfHSTWJQP/yp8dJNYlA//Knx0k1iUD/8qfHSTWJQP/yp8dJNYlA//Knx0k1iUD/8qfHSTWJQP/yp8dJNYlA//Knx0k1iUD/8qfHSTWJQPw==",
        "encoding": "base64",
        "path": [
         "_data",
         0,
         "dimensions",
         3,
         "values",
         "value"
        ]
       },
       {
        "data": "AAAAAAAgYkAAAAAAACBiQAAAAAAAIGJAAAAAAAAgYkAAAAAAACBiQAAAAAAAIGJAAAAAAAAgYkAAAAAAACBiQAAAAAAAIGJAAAAAAAAgYkAAAAAAACBiQAAAAAAAIGJAAAAAAAAgYkAAAAAAACBiQAAAAAAAIGJAAAAAAAAgYkAAAAAAACBiQAAAAAAAIGJAAAAAAAAgYkAAAAAAACBiQAAAAAAAIGJAAAAAAAAgYkAAAAAAACBiQAAAAAAAIGJAAAAAAAAgYkAAAAAAACBiQAAAAAAAIGJAAAAAAAAgYkAAAAAAACBiQAAAAAAAIGJAAAAAAAAgYkAAAAAAACBiQAAAAAAAIGJAAAAAAAAgYkAAAAAAACBiQAAAAAAAIGJAAAAAAAAgYkAAAAAAACBiQAAAAAAAIGJAAAAAAAAgYkAAAAAAACBiQAAAAAAAIGJAAAAAAAAgYkAAAAAAACBiQAAAAAAAIGJAAAAAAAAgYkAAAAAAACBiQAAAAAAAIGJAAAAAAAAgYkAAAAAAACBiQAAAAAAAIGJAAAAAAAAgYkAAAAAAACBiQAAAAAAAIGJAAAAAAAAgYkAAAAAAACBiQAAAAAAAIGJAAAAAAAAgYkAAAAAAACBiQAAAAAAAIGJAAAAAAAAgYkAAAAAAACBiQAAAAAAAIGJAAAAAAAAgYkAAAAAAACBiQAAAAAAAIGJAAAAAAAAgYkAAAAAAACBiQAAAAAAAIGJAAAAAAAAgYkAAAAAAACBiQAAAAAAAIGJAAAAAAAAgYkAAAAAAACBiQAAAAAAAIGJAAAAAAAAgYkAAAAAAACBiQAAAAAAAIGJAAAAAAAAgYkAAAAAAACBiQAAAAAAAIGJAAAAAAAAgYkAAAAAAACBiQAAAAAAAIGJAAAAAAAAgYkAAAAAAACBiQAAAAAAAIGJAAAAAAAAgYkAAAAAAACBiQAAAAAAAIGJAAAAAAAAgYkAAAAAAACBiQAAAAAAAIGJAAAAAAAAgYkAAAAAAACBiQAAAAAAAIGJAAAAAAAAgYkAAAAAAACBiQAAAAAAAIGJAAAAAAAAgYkAAAAAAACBiQAAAAAAAIGJAAAAAAAAgYkAAAAAAACBiQAAAAAAAIGJAAAAAAAAgYkAAAAAAACBiQAAAAAAAIGJAAAAAAAAgYkAAAAAAACBiQAAAAAAAIGJAAAAAAAAgYkAAAAAAACBiQAAAAAAAIGJAAAAAAAAgYkAAAAAAACBiQAAAAAAAIGJAAAAAAAAgYkAAAAAAACBiQAAAAAAAIGJAAAAAAAAgYkAAAAAAACBiQAAAAAAAIGJAAAAAAAAgYkAAAAAAACBiQAAAAAAAIGJAAAAAAAAgYkAAAAAAACBiQAAAAAAAIGJAAAAAAAAgYkAAAAAAACBiQAAAAAAAIGJAAAAAAAAgYkAAAAAAACBiQAAAAAAAIGJAAAAAAAAgYkAAAAAAACBiQAAAAAAAIGJAAAAAAAAgYkAAAAAAACBiQAAAAAAAIGJAAAAAAAAgYkAAAAAAACBiQAAAAAAAIGJAAAAAAAAgYkAAAAAAACBiQAAAAAAAIGJAAAAAAAAgYkAAAAAAACBiQAAAAAAAIGJAAAAAAAAgYkAAAAAAACBiQAAAAAAAIGJAAAAAAAAgYkAAAAAAACBiQAAAAAAAIGJAAAAAAAAgYkAAAAAAACBiQAAAAAAAIGJAAAAAAAAgYkAAAAAAACBiQAAAAAAAIGJAAAAAAAAgYkAAAAAAACBiQAAAAAAAIGJAAAAAAAAgYkAAAAAAACBiQAAAAAAAIGJAAAAAAAAgYkAAAAAAACBiQAAAAAAAIGJAAAAAAAAgYkAAAAAAACBiQAAAAAAAIGJAAAAAAAAgYkAAAAAAACBiQAAAAAAAIGJAAAAAAAAgYkAAAAAAACBiQAAAAAAAIGJAAAAAAAAgYkAAAAAAACBiQAAAAAAAIGJAAAAAAAAgYkAAAAAAACBiQAAAAAAAIGJAAAAAAAAgYkAAAAAAACBiQAAAAAAAIGJAAAAAAAAgYkAAAAAAACBiQAAAAAAAIGJAAAAAAAAgYkAAAAAAACBiQAAAAAAAIGJAAAAAAAAgYkAAAAAAACBiQAAAAAAAIGJAAAAAAAAgYkAAAAAAACBiQAAAAAAAIGJAAAAAAAAgYkAAAAAAACBiQAAAAAAAIGJAAAAAAAAgYkAAAAAAACBiQAAAAAAAIGJAAAAAAAAgYkAAAAAAACBiQAAAAAAAIGJAAAAAAAAgYkAAAAAAACBiQAAAAAAAIGJAAAAAAAAgYkAAAAAAACBiQAAAAAAAIGJAAAAAAAAgYkAAAAAAACBiQAAAAAAAIGJAAAAAAAAgYkAAAAAAACBiQAAAAAAAIGJAAAAAAAAgYkAAAAAAACBiQAAAAAAAIGJAAAAAAAAgYkAAAAAAACBiQAAAAAAAIGJAAAAAAAAgYkAAAAAAACBiQAAAAAAAIGJAAAAAAAAgYkAAAAAAACBiQAAAAAAAIGJAAAAAAAAgYkAAAAAAACBiQAAAAAAAIGJAAAAAAAAgYkAAAAAAACBiQAAAAAAAIGJAAAAAAAAgYkAAAAAAACBiQAAAAAAAIGJAAAAAAAAgYkAAAAAAACBiQAAAAAAAIGJAAAAAAAAgYkAAAAAAACBiQAAAAAAAIGJAAAAAAAAgYkAAAAAAACBiQAAAAAAAIGJAAAAAAAAgYkAAAAAAACBiQAAAAAAAIGJAAAAAAAAgYkAAAAAAACBiQAAAAAAAIGJAAAAAAAAgYkAAAAAAACBiQAAAAAAAIGJAAAAAAAAgYkAAAAAAACBiQAAAAAAAIGJAAAAAAAAgYkAAAAAAACBiQAAAAAAAIGJAAAAAAAAgYkAAAAAAACBiQAAAAAAAIGJAAAAAAAAgYkAAAAAAACBiQAAAAAAAIGJAAAAAAAAgYkAAAAAAACBiQAAAAAAAIGJAAAAAAAAgYkAAAAAAACBiQAAAAAAAIGJAAAAAAAAgYkAAAAAAACBiQAAAAAAAIGJAAAAAAAAgYkAAAAAAACBiQAAAAAAAIGJAAAAAAAAgYkAAAAAAACBiQA==",
        "encoding": "base64",
        "path": [
         "_data",
         0,
         "dimensions",
         4,
         "values",
         "value"
        ]
       },
       {
        "data": "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",
        "encoding": "base64",
        "path": [
         "_data",
         0,
         "dimensions",
         5,
         "values",
         "value"
        ]
       },
       {
        "data": "exSuR+F6lD97FK5H4XqUP3sUrkfhepQ/exSuR+F6lD97FK5H4XqUP3sUrkfhepQ/exSuR+F6lD97FK5H4XqUP3sUrkfhepQ/exSuR+F6lD97FK5H4XqUP3sUrkfhepQ/exSuR+F6lD97FK5H4XqUP3sUrkfhepQ/exSuR+F6lD97FK5H4XqUP3sUrkfhepQ/exSuR+F6lD97FK5H4XqUP3sUrkfhepQ/exSuR+F6lD97FK5H4XqUP3sUrkfhepQ/exSuR+F6lD97FK5H4XqUP3sUrkfhepQ/exSuR+F6lD97FK5H4XqUP3sUrkfhepQ/exSuR+F6lD97FK5H4XqUP3sUrkfhepQ/exSuR+F6lD97FK5H4XqUP3sUrkfhepQ/exSuR+F6lD97FK5H4XqUP3sUrkfhepQ/exSuR+F6lD97FK5H4XqUP3sUrkfhepQ/exSuR+F6lD97FK5H4XqUP3sUrkfhepQ/exSuR+F6lD97FK5H4XqUP3sUrkfhepQ/exSuR+F6lD97FK5H4XqUP3sUrkfhepQ/exSuR+F6lD97FK5H4XqUP3sUrkfhepQ/exSuR+F6lD97FK5H4XqUP3sUrkfhepQ/exSuR+F6lD97FK5H4XqUP3sUrkfhepQ/exSuR+F6lD97FK5H4XqUP3sUrkfhepQ/exSuR+F6lD97FK5H4XqUP3sUrkfhepQ/exSuR+F6lD97FK5H4XqUP3sUrkfhepQ/exSuR+F6lD97FK5H4XqUP3sUrkfhepQ/exSuR+F6lD97FK5H4XqUP3sUrkfhepQ/exSuR+F6lD97FK5H4XqUP3sUrkfhepQ/exSuR+F6lD97FK5H4XqUP3sUrkfhepQ/exSuR+F6lD97FK5H4XqUP3sUrkfhepQ/exSuR+F6lD97FK5H4XqUP3sUrkfhepQ/exSuR+F6lD97FK5H4XqUP3sUrkfhepQ/exSuR+F6lD97FK5H4XqUP3sUrkfhepQ/exSuR+F6lD97FK5H4XqUP3sUrkfhepQ/exSuR+F6lD97FK5H4XqUP3sUrkfhepQ/exSuR+F6lD97FK5H4XqUP3sUrkfhepQ/exSuR+F6lD97FK5H4XqUP3sUrkfhepQ/exSuR+F6lD97FK5H4XqUP3sUrkfhepQ/exSuR+F6lD97FK5H4XqUP3sUrkfhepQ/exSuR+F6lD97FK5H4XqUP3sUrkfhepQ/exSuR+F6lD97FK5H4XqUP3sUrkfhepQ/exSuR+F6lD97FK5H4XqUP3sUrkfhepQ/exSuR+F6lD97FK5H4XqUP3sUrkfhepQ/exSuR+F6lD97FK5H4XqUP3sUrkfhepQ/exSuR+F6lD97FK5H4XqUP3sUrkfhepQ/exSuR+F6lD97FK5H4XqUP3sUrkfhepQ/exSuR+F6lD97FK5H4XqUP3sUrkfhepQ/exSuR+F6lD97FK5H4XqUP3sUrkfhepQ/exSuR+F6lD97FK5H4XqUP3sUrkfhepQ/exSuR+F6lD97FK5H4XqUP3sUrkfhepQ/exSuR+F6lD97FK5H4XqUP3sUrkfhepQ/exSuR+F6lD97FK5H4XqUP3sUrkfhepQ/exSuR+F6lD97FK5H4XqUP3sUrkfhepQ/exSuR+F6lD97FK5H4XqUP3sUrkfhepQ/exSuR+F6lD97FK5H4XqUP3sUrkfhepQ/exSuR+F6lD97FK5H4XqUP3sUrkfhepQ/exSuR+F6lD97FK5H4XqUP3sUrkfhepQ/exSuR+F6lD97FK5H4XqUP3sUrkfhepQ/exSuR+F6lD97FK5H4XqUP3sUrkfhepQ/exSuR+F6lD97FK5H4XqUP3sUrkfhepQ/exSuR+F6lD97FK5H4XqUP3sUrkfhepQ/exSuR+F6lD97FK5H4XqUP3sUrkfhepQ/exSuR+F6lD97FK5H4XqUP3sUrkfhepQ/exSuR+F6lD97FK5H4XqUP3sUrkfhepQ/exSuR+F6lD97FK5H4XqUP3sUrkfhepQ/exSuR+F6lD97FK5H4XqUP3sUrkfhepQ/exSuR+F6lD97FK5H4XqUP3sUrkfhepQ/exSuR+F6lD97FK5H4XqUP3sUrkfhepQ/exSuR+F6lD97FK5H4XqUP3sUrkfhepQ/exSuR+F6lD97FK5H4XqUP3sUrkfhepQ/exSuR+F6lD97FK5H4XqUP3sUrkfhepQ/exSuR+F6lD97FK5H4XqUP3sUrkfhepQ/exSuR+F6lD97FK5H4XqUP3sUrkfhepQ/exSuR+F6lD97FK5H4XqUP3sUrkfhepQ/exSuR+F6lD97FK5H4XqUP3sUrkfhepQ/exSuR+F6lD97FK5H4XqUP3sUrkfhepQ/exSuR+F6lD97FK5H4XqUP3sUrkfhepQ/exSuR+F6lD97FK5H4XqUP3sUrkfhepQ/exSuR+F6lD97FK5H4XqUP3sUrkfhepQ/exSuR+F6lD97FK5H4XqUP3sUrkfhepQ/exSuR+F6lD97FK5H4XqUP3sUrkfhepQ/exSuR+F6lD97FK5H4XqUP3sUrkfhepQ/exSuR+F6lD97FK5H4XqUP3sUrkfhepQ/exSuR+F6lD97FK5H4XqUP3sUrkfhepQ/exSuR+F6lD97FK5H4XqUP3sUrkfhepQ/exSuR+F6lD97FK5H4XqUP3sUrkfhepQ/exSuR+F6lD97FK5H4XqUP3sUrkfhepQ/exSuR+F6lD97FK5H4XqUP3sUrkfhepQ/exSuR+F6lD97FK5H4XqUP3sUrkfhepQ/exSuR+F6lD97FK5H4XqUP3sUrkfhepQ/exSuR+F6lD97FK5H4XqUP3sUrkfhepQ/exSuR+F6lD97FK5H4XqUP3sUrkfhepQ/exSuR+F6lD97FK5H4XqUP3sUrkfhepQ/exSuR+F6lD97FK5H4XqUP3sUrkfhepQ/exSuR+F6lD97FK5H4XqUP3sUrkfhepQ/exSuR+F6lD97FK5H4XqUP3sUrkfhepQ/exSuR+F6lD97FK5H4XqUP3sUrkfhepQ/exSuR+F6lD97FK5H4XqUPw==",
        "encoding": "base64",
        "path": [
         "_data",
         0,
         "dimensions",
         6,
         "values",
         "value"
        ]
       },
       {
        "data": "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",
        "encoding": "base64",
        "path": [
         "_data",
         0,
         "dimensions",
         7,
         "values",
         "value"
        ]
       },
       {
        "data": "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",
        "encoding": "base64",
        "path": [
         "_data",
         0,
         "dimensions",
         8,
         "values",
         "value"
        ]
       },
       {
        "data": "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",
        "encoding": "base64",
        "path": [
         "_data",
         0,
         "dimensions",
         9,
         "values",
         "value"
        ]
       },
       {
        "data": "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",
        "encoding": "base64",
        "path": [
         "_data",
         0,
         "dimensions",
         10,
         "values",
         "value"
        ]
       },
       {
        "data": "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",
        "encoding": "base64",
        "path": [
         "_data",
         0,
         "dimensions",
         11,
         "values",
         "value"
        ]
       },
       {
        "data": "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",
        "encoding": "base64",
        "path": [
         "_data",
         0,
         "line",
         "color",
         "value"
        ]
       }
      ],
      "model_module": "plotlywidget",
      "model_module_version": "^1.2.0",
      "model_name": "FigureModel",
      "state": {
       "_config": {
        "plotlyServerURL": "https://plot.ly"
       },
       "_data": [
        {
         "dimensions": [
          {
           "label": "(X) alpha",
           "name": "alpha",
           "range": [
            0.1,
            0.2
           ],
           "values": {
            "dtype": "float64",
            "shape": [
             287
            ],
            "value": {}
           }
          },
          {
           "label": "(X) beta",
           "name": "beta",
           "range": [
            3.5,
            5.5
           ],
           "values": {
            "dtype": "float64",
            "shape": [
             287
            ],
            "value": {}
           }
          },
          {
           "label": "(X) input_flow",
           "name": "input_flow",
           "range": [
            80,
            150
           ],
           "values": [
            87,
            81,
            83,
            86,
            80,
            81,
            83,
            86,
            80,
            81,
            87,
            81,
            83,
            86,
            141,
            114,
            86,
            91,
            150,
            109,
            150,
            122,
            147,
            110,
            87,
            80,
            148,
            148,
            150,
            81,
            122,
            133,
            133,
            150,
            116,
            137,
            136,
            134,
            147,
            137,
            118,
            147,
            133,
            134,
            135,
            126,
            106,
            126,
            150,
            123,
            120,
            131,
            121,
            134,
            150,
            147,
            120,
            111,
            102,
            111,
            94,
            84,
            109,
            125,
            147,
            118,
            134,
            83,
            150,
            94,
            126,
            134,
            123,
            117,
            147,
            147,
            86,
            110,
            143,
            141,
            114,
            91,
            81,
            87,
            148,
            82,
            122,
            116,
            136,
            83,
            137,
            133,
            135,
            106,
            123,
            120,
            131,
            121,
            134,
            102,
            111,
            94,
            84,
            144,
            109,
            118,
            126,
            117,
            147,
            86,
            110,
            143,
            141,
            114,
            87,
            148,
            81,
            122,
            116,
            136,
            83,
            137,
            133,
            135,
            106,
            123,
            120,
            131,
            121,
            134,
            102,
            111,
            94,
            84,
            144,
            109,
            118,
            126,
            117,
            147,
            86,
            110,
            143,
            80,
            80,
            80,
            80,
            80,
            80,
            80,
            80,
            80,
            80,
            80,
            80,
            80,
            80,
            80,
            80,
            80,
            80,
            80,
            80,
            80,
            80,
            80,
            80,
            80,
            80,
            80,
            80,
            80,
            80,
            80,
            80,
            80,
            80,
            80,
            80,
            80,
            80,
            80,
            80,
            80,
            80,
            80,
            80,
            80,
            80,
            80,
            80,
            80,
            80,
            80,
            80,
            80,
            80,
            80,
            80,
            80,
            80,
            80,
            80,
            80,
            80,
            80,
            80,
            80,
            80,
            80,
            80,
            80,
            80,
            80,
            80,
            80,
            80,
            80,
            80,
            80,
            80,
            80,
            80,
            80,
            80,
            80,
            80,
            150,
            150,
            150,
            150,
            150,
            150,
            150,
            150,
            150,
            150,
            150,
            150,
            150,
            150,
            150,
            150,
            150,
            150,
            150,
            150,
            150,
            150,
            150,
            150,
            150,
            150,
            150,
            150,
            150,
            150,
            150,
            150,
            150,
            150,
            150,
            150,
            150,
            150,
            150,
            150,
            150,
            150,
            150,
            150,
            150,
            150,
            150,
            150,
            150,
            150,
            150,
            150,
            150,
            150,
            150,
            150,
            150,
            150,
            150,
            150
           ]
          },
          {
           "label": "(X) value_of_time",
           "name": "value_of_time",
           "range": [
            0.001,
            0.001
           ],
           "values": {
            "dtype": "float64",
            "shape": [
             287
            ],
            "value": {}
           }
          },
          {
           "label": "(X) unit_cost_expansion",
           "name": "unit_cost_expansion",
           "range": [
            145,
            145
           ],
           "values": {
            "dtype": "float64",
            "shape": [
             287
            ],
            "value": {}
           }
          },
          {
           "label": "(X) interest_rate",
           "name": "interest_rate",
           "range": [
            0.02502903767879944,
            0.03966856928443664
           ],
           "values": {
            "dtype": "float64",
            "shape": [
             287
            ],
            "value": {}
           }
          },
          {
           "label": "(X) yield_curve",
           "name": "yield_curve",
           "range": [
            0.02,
            0.02
           ],
           "values": {
            "dtype": "float64",
            "shape": [
             287
            ],
            "value": {}
           }
          },
          {
           "label": "(M-) build_travel_time",
           "name": "build_travel_time",
           "range": [
            64.38425360665872,
            60.03885806788815
           ],
           "values": {
            "dtype": "float64",
            "shape": [
             287
            ],
            "value": {}
           }
          },
          {
           "label": "(M+) time_savings",
           "name": "time_savings",
           "range": [
            1.7196573437929672,
            45.21791368470065
           ],
           "values": {
            "dtype": "float64",
            "shape": [
             287
            ],
            "value": {}
           }
          },
          {
           "label": "(M+)<br>   value_of_time_savings",
           "name": "value_of_time_savings",
           "range": [
            0.13757258750343737,
            6.782687052705097
           ],
           "values": {
            "dtype": "float64",
            "shape": [
             287
            ],
            "value": {}
           }
          },
          {
           "label": "(M+) net_benefits",
           "name": "net_benefits",
           "range": [
            -461.29896811609655,
            -454.65385365089486
           ],
           "values": {
            "dtype": "float64",
            "shape": [
             287
            ],
            "value": {}
           }
          },
          {
           "label": "(M-) cost_of_capacity_ex<br>   pansion",
           "name": "cost_of_capacity_expansion",
           "range": [
            461.4365407036,
            461.4365407036
           ],
           "values": {
            "dtype": "float64",
            "shape": [
             287
            ],
            "value": {}
           }
          }
         ],
         "domain": {
          "y": [
           0,
           0.7
          ]
         },
         "labelangle": -90,
         "labelfont": {
          "color": "#AA0000"
         },
         "line": {
          "cmax": 0.2,
          "cmin": 0.1,
          "color": {
           "dtype": "float64",
           "shape": [
            287
           ],
           "value": {}
          },
          "colorbar": {
           "title": {
            "side": "right",
            "text": "alpha"
           }
          },
          "colorscale": [
           [
            0,
            "#440154"
           ],
           [
            0.1111111111111111,
            "#482878"
           ],
           [
            0.2222222222222222,
            "#3e4989"
           ],
           [
            0.3333333333333333,
            "#31688e"
           ],
           [
            0.4444444444444444,
            "#26828e"
           ],
           [
            0.5555555555555556,
            "#1f9e89"
           ],
           [
            0.6666666666666666,
            "#35b779"
           ],
           [
            0.7777777777777778,
            "#6ece58"
           ],
           [
            0.8888888888888888,
            "#b5de2b"
           ],
           [
            1,
            "#fde725"
           ]
          ],
          "reversescale": true,
          "showscale": true
         },
         "type": "parcoords",
         "uid": "f9e7f0db-3f30-434b-bb02-059801054dc4"
        }
       ],
       "_js2py_pointsCallback": {},
       "_js2py_restyle": {},
       "_js2py_update": {},
       "_last_layout_edit_id": 1,
       "_layout": {
        "autosize": true,
        "template": {
         "data": {
          "bar": [
           {
            "error_x": {
             "color": "#2a3f5f"
            },
            "error_y": {
             "color": "#2a3f5f"
            },
            "marker": {
             "line": {
              "color": "#E5ECF6",
              "width": 0.5
             }
            },
            "type": "bar"
           }
          ],
          "barpolar": [
           {
            "marker": {
             "line": {
              "color": "#E5ECF6",
              "width": 0.5
             }
            },
            "type": "barpolar"
           }
          ],
          "carpet": [
           {
            "aaxis": {
             "endlinecolor": "#2a3f5f",
             "gridcolor": "white",
             "linecolor": "white",
             "minorgridcolor": "white",
             "startlinecolor": "#2a3f5f"
            },
            "baxis": {
             "endlinecolor": "#2a3f5f",
             "gridcolor": "white",
             "linecolor": "white",
             "minorgridcolor": "white",
             "startlinecolor": "#2a3f5f"
            },
            "type": "carpet"
           }
          ],
          "choropleth": [
           {
            "colorbar": {
             "outlinewidth": 0,
             "ticks": ""
            },
            "type": "choropleth"
           }
          ],
          "contour": [
           {
            "colorbar": {
             "outlinewidth": 0,
             "ticks": ""
            },
            "colorscale": [
             [
              0,
              "#0d0887"
             ],
             [
              0.1111111111111111,
              "#46039f"
             ],
             [
              0.2222222222222222,
              "#7201a8"
             ],
             [
              0.3333333333333333,
              "#9c179e"
             ],
             [
              0.4444444444444444,
              "#bd3786"
             ],
             [
              0.5555555555555556,
              "#d8576b"
             ],
             [
              0.6666666666666666,
              "#ed7953"
             ],
             [
              0.7777777777777778,
              "#fb9f3a"
             ],
             [
              0.8888888888888888,
              "#fdca26"
             ],
             [
              1,
              "#f0f921"
             ]
            ],
            "type": "contour"
           }
          ],
          "contourcarpet": [
           {
            "colorbar": {
             "outlinewidth": 0,
             "ticks": ""
            },
            "type": "contourcarpet"
           }
          ],
          "heatmap": [
           {
            "colorbar": {
             "outlinewidth": 0,
             "ticks": ""
            },
            "colorscale": [
             [
              0,
              "#0d0887"
             ],
             [
              0.1111111111111111,
              "#46039f"
             ],
             [
              0.2222222222222222,
              "#7201a8"
             ],
             [
              0.3333333333333333,
              "#9c179e"
             ],
             [
              0.4444444444444444,
              "#bd3786"
             ],
             [
              0.5555555555555556,
              "#d8576b"
             ],
             [
              0.6666666666666666,
              "#ed7953"
             ],
             [
              0.7777777777777778,
              "#fb9f3a"
             ],
             [
              0.8888888888888888,
              "#fdca26"
             ],
             [
              1,
              "#f0f921"
             ]
            ],
            "type": "heatmap"
           }
          ],
          "heatmapgl": [
           {
            "colorbar": {
             "outlinewidth": 0,
             "ticks": ""
            },
            "colorscale": [
             [
              0,
              "#0d0887"
             ],
             [
              0.1111111111111111,
              "#46039f"
             ],
             [
              0.2222222222222222,
              "#7201a8"
             ],
             [
              0.3333333333333333,
              "#9c179e"
             ],
             [
              0.4444444444444444,
              "#bd3786"
             ],
             [
              0.5555555555555556,
              "#d8576b"
             ],
             [
              0.6666666666666666,
              "#ed7953"
             ],
             [
              0.7777777777777778,
              "#fb9f3a"
             ],
             [
              0.8888888888888888,
              "#fdca26"
             ],
             [
              1,
              "#f0f921"
             ]
            ],
            "type": "heatmapgl"
           }
          ],
          "histogram": [
           {
            "marker": {
             "colorbar": {
              "outlinewidth": 0,
              "ticks": ""
             }
            },
            "type": "histogram"
           }
          ],
          "histogram2d": [
           {
            "colorbar": {
             "outlinewidth": 0,
             "ticks": ""
            },
            "colorscale": [
             [
              0,
              "#0d0887"
             ],
             [
              0.1111111111111111,
              "#46039f"
             ],
             [
              0.2222222222222222,
              "#7201a8"
             ],
             [
              0.3333333333333333,
              "#9c179e"
             ],
             [
              0.4444444444444444,
              "#bd3786"
             ],
             [
              0.5555555555555556,
              "#d8576b"
             ],
             [
              0.6666666666666666,
              "#ed7953"
             ],
             [
              0.7777777777777778,
              "#fb9f3a"
             ],
             [
              0.8888888888888888,
              "#fdca26"
             ],
             [
              1,
              "#f0f921"
             ]
            ],
            "type": "histogram2d"
           }
          ],
          "histogram2dcontour": [
           {
            "colorbar": {
             "outlinewidth": 0,
             "ticks": ""
            },
            "colorscale": [
             [
              0,
              "#0d0887"
             ],
             [
              0.1111111111111111,
              "#46039f"
             ],
             [
              0.2222222222222222,
              "#7201a8"
             ],
             [
              0.3333333333333333,
              "#9c179e"
             ],
             [
              0.4444444444444444,
              "#bd3786"
             ],
             [
              0.5555555555555556,
              "#d8576b"
             ],
             [
              0.6666666666666666,
              "#ed7953"
             ],
             [
              0.7777777777777778,
              "#fb9f3a"
             ],
             [
              0.8888888888888888,
              "#fdca26"
             ],
             [
              1,
              "#f0f921"
             ]
            ],
            "type": "histogram2dcontour"
           }
          ],
          "mesh3d": [
           {
            "colorbar": {
             "outlinewidth": 0,
             "ticks": ""
            },
            "type": "mesh3d"
           }
          ],
          "parcoords": [
           {
            "line": {
             "colorbar": {
              "outlinewidth": 0,
              "ticks": ""
             }
            },
            "type": "parcoords"
           }
          ],
          "scatter": [
           {
            "marker": {
             "colorbar": {
              "outlinewidth": 0,
              "ticks": ""
             }
            },
            "type": "scatter"
           }
          ],
          "scatter3d": [
           {
            "line": {
             "colorbar": {
              "outlinewidth": 0,
              "ticks": ""
             }
            },
            "marker": {
             "colorbar": {
              "outlinewidth": 0,
              "ticks": ""
             }
            },
            "type": "scatter3d"
           }
          ],
          "scattercarpet": [
           {
            "marker": {
             "colorbar": {
              "outlinewidth": 0,
              "ticks": ""
             }
            },
            "type": "scattercarpet"
           }
          ],
          "scattergeo": [
           {
            "marker": {
             "colorbar": {
              "outlinewidth": 0,
              "ticks": ""
             }
            },
            "type": "scattergeo"
           }
          ],
          "scattergl": [
           {
            "marker": {
             "colorbar": {
              "outlinewidth": 0,
              "ticks": ""
             }
            },
            "type": "scattergl"
           }
          ],
          "scattermapbox": [
           {
            "marker": {
             "colorbar": {
              "outlinewidth": 0,
              "ticks": ""
             }
            },
            "type": "scattermapbox"
           }
          ],
          "scatterpolar": [
           {
            "marker": {
             "colorbar": {
              "outlinewidth": 0,
              "ticks": ""
             }
            },
            "type": "scatterpolar"
           }
          ],
          "scatterpolargl": [
           {
            "marker": {
             "colorbar": {
              "outlinewidth": 0,
              "ticks": ""
             }
            },
            "type": "scatterpolargl"
           }
          ],
          "scatterternary": [
           {
            "marker": {
             "colorbar": {
              "outlinewidth": 0,
              "ticks": ""
             }
            },
            "type": "scatterternary"
           }
          ],
          "surface": [
           {
            "colorbar": {
             "outlinewidth": 0,
             "ticks": ""
            },
            "colorscale": [
             [
              0,
              "#0d0887"
             ],
             [
              0.1111111111111111,
              "#46039f"
             ],
             [
              0.2222222222222222,
              "#7201a8"
             ],
             [
              0.3333333333333333,
              "#9c179e"
             ],
             [
              0.4444444444444444,
              "#bd3786"
             ],
             [
              0.5555555555555556,
              "#d8576b"
             ],
             [
              0.6666666666666666,
              "#ed7953"
             ],
             [
              0.7777777777777778,
              "#fb9f3a"
             ],
             [
              0.8888888888888888,
              "#fdca26"
             ],
             [
              1,
              "#f0f921"
             ]
            ],
            "type": "surface"
           }
          ],
          "table": [
           {
            "cells": {
             "fill": {
              "color": "#EBF0F8"
             },
             "line": {
              "color": "white"
             }
            },
            "header": {
             "fill": {
              "color": "#C8D4E3"
             },
             "line": {
              "color": "white"
             }
            },
            "type": "table"
           }
          ]
         },
         "layout": {
          "annotationdefaults": {
           "arrowcolor": "#2a3f5f",
           "arrowhead": 0,
           "arrowwidth": 1
          },
          "colorscale": {
           "diverging": [
            [
             0,
             "#8e0152"
            ],
            [
             0.1,
             "#c51b7d"
            ],
            [
             0.2,
             "#de77ae"
            ],
            [
             0.3,
             "#f1b6da"
            ],
            [
             0.4,
             "#fde0ef"
            ],
            [
             0.5,
             "#f7f7f7"
            ],
            [
             0.6,
             "#e6f5d0"
            ],
            [
             0.7,
             "#b8e186"
            ],
            [
             0.8,
             "#7fbc41"
            ],
            [
             0.9,
             "#4d9221"
            ],
            [
             1,
             "#276419"
            ]
           ],
           "sequential": [
            [
             0,
             "#0d0887"
            ],
            [
             0.1111111111111111,
             "#46039f"
            ],
            [
             0.2222222222222222,
             "#7201a8"
            ],
            [
             0.3333333333333333,
             "#9c179e"
            ],
            [
             0.4444444444444444,
             "#bd3786"
            ],
            [
             0.5555555555555556,
             "#d8576b"
            ],
            [
             0.6666666666666666,
             "#ed7953"
            ],
            [
             0.7777777777777778,
             "#fb9f3a"
            ],
            [
             0.8888888888888888,
             "#fdca26"
            ],
            [
             1,
             "#f0f921"
            ]
           ],
           "sequentialminus": [
            [
             0,
             "#0d0887"
            ],
            [
             0.1111111111111111,
             "#46039f"
            ],
            [
             0.2222222222222222,
             "#7201a8"
            ],
            [
             0.3333333333333333,
             "#9c179e"
            ],
            [
             0.4444444444444444,
             "#bd3786"
            ],
            [
             0.5555555555555556,
             "#d8576b"
            ],
            [
             0.6666666666666666,
             "#ed7953"
            ],
            [
             0.7777777777777778,
             "#fb9f3a"
            ],
            [
             0.8888888888888888,
             "#fdca26"
            ],
            [
             1,
             "#f0f921"
            ]
           ]
          },
          "colorway": [
           "#636efa",
           "#EF553B",
           "#00cc96",
           "#ab63fa",
           "#FFA15A",
           "#19d3f3",
           "#FF6692",
           "#B6E880",
           "#FF97FF",
           "#FECB52"
          ],
          "font": {
           "color": "#2a3f5f"
          },
          "geo": {
           "bgcolor": "white",
           "lakecolor": "white",
           "landcolor": "#E5ECF6",
           "showlakes": true,
           "showland": true,
           "subunitcolor": "white"
          },
          "hoverlabel": {
           "align": "left"
          },
          "hovermode": "closest",
          "mapbox": {
           "style": "light"
          },
          "paper_bgcolor": "white",
          "plot_bgcolor": "#E5ECF6",
          "polar": {
           "angularaxis": {
            "gridcolor": "white",
            "linecolor": "white",
            "ticks": ""
           },
           "bgcolor": "#E5ECF6",
           "radialaxis": {
            "gridcolor": "white",
            "linecolor": "white",
            "ticks": ""
           }
          },
          "scene": {
           "xaxis": {
            "backgroundcolor": "#E5ECF6",
            "gridcolor": "white",
            "gridwidth": 2,
            "linecolor": "white",
            "showbackground": true,
            "ticks": "",
            "zerolinecolor": "white"
           },
           "yaxis": {
            "backgroundcolor": "#E5ECF6",
            "gridcolor": "white",
            "gridwidth": 2,
            "linecolor": "white",
            "showbackground": true,
            "ticks": "",
            "zerolinecolor": "white"
           },
           "zaxis": {
            "backgroundcolor": "#E5ECF6",
            "gridcolor": "white",
            "gridwidth": 2,
            "linecolor": "white",
            "showbackground": true,
            "ticks": "",
            "zerolinecolor": "white"
           }
          },
          "shapedefaults": {
           "line": {
            "color": "#2a3f5f"
           }
          },
          "ternary": {
           "aaxis": {
            "gridcolor": "white",
            "linecolor": "white",
            "ticks": ""
           },
           "baxis": {
            "gridcolor": "white",
            "linecolor": "white",
            "ticks": ""
           },
           "bgcolor": "#E5ECF6",
           "caxis": {
            "gridcolor": "white",
            "linecolor": "white",
            "ticks": ""
           }
          },
          "title": {
           "x": 0.05
          },
          "xaxis": {
           "automargin": true,
           "gridcolor": "white",
           "linecolor": "white",
           "ticks": "",
           "zerolinecolor": "white",
           "zerolinewidth": 2
          },
          "yaxis": {
           "automargin": true,
           "gridcolor": "white",
           "linecolor": "white",
           "ticks": "",
           "zerolinecolor": "white",
           "zerolinewidth": 2
          }
         }
        }
       },
       "_py2js_addTraces": {},
       "_py2js_animate": {},
       "_py2js_deleteTraces": {},
       "_py2js_moveTraces": {},
       "_py2js_removeLayoutProps": {},
       "_py2js_removeTraceProps": {},
       "_py2js_restyle": {},
       "_py2js_update": {},
       "_view_count": 1
      }
     },
     "f1efc27ddcf448e2a6bc4e5e85de11e4": {
      "model_module": "@jupyter-widgets/base",
      "model_module_version": "1.2.0",
      "model_name": "LayoutModel",
      "state": {}
     },
     "f3f9c4d6177c49b3b4dc92dc95903413": {
      "model_module": "@jupyter-widgets/controls",
      "model_module_version": "1.5.0",
      "model_name": "VBoxModel",
      "state": {
       "children": [
        "IPY_MODEL_560ed6ea6f6d4c3cb74266f8b5d72c7c",
        "IPY_MODEL_c6708507687f4e7589bd63c20d6cfaf7",
        "IPY_MODEL_904fb58914d643bdaadb6ff65cde93f6",
        "IPY_MODEL_0a17c422187445b6b805e87042f66bc5"
       ],
       "layout": "IPY_MODEL_a2d14a1e0db84f5eb70dbc6fd7a46d74"
      }
     },
     "f437e02ba1e743b39f886114232f577b": {
      "model_module": "@jupyter-widgets/controls",
      "model_module_version": "1.5.0",
      "model_name": "CheckboxModel",
      "state": {
       "description": "(M+) value_of_time_savings",
       "description_tooltip": "value_of_time_savings",
       "disabled": false,
       "layout": "IPY_MODEL_2db7466cdc42411b9bc677e2bb3f0cf4",
       "name": "value_of_time_savings",
       "style": "IPY_MODEL_391989d906204b54950da05a908ce427",
       "value": true
      }
     },
     "f5b0fe49e30e4b01aac5f2c1828a723f": {
      "model_module": "@jupyter-widgets/base",
      "model_module_version": "1.2.0",
      "model_name": "LayoutModel",
      "state": {}
     },
     "f77d10e215b143da97cc07b32205fe6e": {
      "model_module": "@jupyter-widgets/controls",
      "model_module_version": "1.5.0",
      "model_name": "HBoxModel",
      "state": {
       "children": [
        "IPY_MODEL_339e004859a34cfda372d2307ac27065",
        "IPY_MODEL_d037b09b21e345698b9b9893da5259e6"
       ],
       "layout": "IPY_MODEL_80fd3c947149438d9ed02fb54b101e19"
      }
     },
     "f88442b47a3f4a79843f0d68ffb0e099": {
      "model_module": "@jupyter-widgets/controls",
      "model_module_version": "1.5.0",
      "model_name": "DropdownModel",
      "state": {
       "_options_labels": [
        "< None >",
        "expand_capacity",
        "amortization_period",
        "debt_type",
        "interest_rate_lock",
        "Mean Net Benefits",
        "5%ile Net Benefits",
        "Possibility of Negative Net Benefits",
        "95%ile Capacity Expansion Cost",
        "Expected Time Savings",
        "99%ile Present Cost"
       ],
       "description": "Colorize:",
       "index": 1,
       "layout": "IPY_MODEL_5ed0c690a8694e8da20dbc1357162e5a",
       "style": "IPY_MODEL_faf7a5d8d77a4431a26f100095584314"
      }
     },
     "f90010633ea14ae18c9a2894c5bbfebd": {
      "model_module": "@jupyter-widgets/controls",
      "model_module_version": "1.5.0",
      "model_name": "VBoxModel",
      "state": {
       "children": [
        "IPY_MODEL_f0cd76d2613845c789b2f88a537fc181",
        "IPY_MODEL_df1f820ae74c4779af73794ee808a38a",
        "IPY_MODEL_40f8032b453a41eeaa4f0d784e2981e4",
        "IPY_MODEL_b7e7742532ed461584caa4f0d06a115d"
       ],
       "layout": "IPY_MODEL_13f98d58ca4343088270ef0a9c2e93b9"
      }
     },
     "f9a34703e02d4e9387654ffaca372de1": {
      "model_module": "@jupyter-widgets/controls",
      "model_module_version": "1.5.0",
      "model_name": "DescriptionStyleModel",
      "state": {
       "description_width": ""
      }
     },
     "faf7a5d8d77a4431a26f100095584314": {
      "model_module": "@jupyter-widgets/controls",
      "model_module_version": "1.5.0",
      "model_name": "DescriptionStyleModel",
      "state": {
       "description_width": ""
      }
     },
     "fb4c6ec0f1be441fa8abeead54f1c7be": {
      "model_module": "@jupyter-widgets/controls",
      "model_module_version": "1.5.0",
      "model_name": "DescriptionStyleModel",
      "state": {
       "description_width": ""
      }
     },
     "fb4f366471714c729c99eda49d0e42ec": {
      "model_module": "@jupyter-widgets/base",
      "model_module_version": "1.2.0",
      "model_name": "LayoutModel",
      "state": {}
     },
     "fbbdb44f991d4df48b8af8bb81cdb5a3": {
      "buffers": [
       {
        "data": "Rh8qp6D4O0BMNRtfPQQ6QCKUz/nqCjhA5vfb9SzENUAVsXP9tWE0QJq96K/FYTJAyioWGNXGMkBMcXfhPu0nQL4uYS5ruTBAtuTu0kq3QEDE7OxBpW4+QFTfiO3FyDRAk3SBLqm3JEDC2tph+PcsQFx9n2Rk4zZAHF28YMyfPUAVsXP9tWE0QJq96K/FYTJAyioWGNXGMkBMcXfhPu0nQL4uYS5ruTBAVN+I7cXINECTdIEuqbckQMLa2mH49yxAHWayTZAcQUA=",
        "encoding": "base64",
        "path": [
         "_data",
         0,
         "dimensions",
         0,
         "values",
         "value"
        ]
       },
       {
        "data": "iCgh43brkT8WMlip3YaRv7CWsyWM3pE/gFLxeYK7Zz+GM5bvVEgAQCizEZc6Xf8/S4WHLWdr/z+qXHDXB7z/P2oPAMCFOgBARkv58LbipT/m+8YkT0iiPwNzpEjUXQBA4MrsxR+r/z++nN3hnoL/P+jeEmlcoX6/sDicJT6IZ78KmKP1OdL/P2lazo+Nnf8/ze48RjCG/z9Zvyi0N0kAQHOQJjvcEwBA+gq/LyJKAEC9GcDxADkAQGq5G1PBif8/iLnRvmmkp78=",
        "encoding": "base64",
        "path": [
         "_data",
         0,
         "dimensions",
         2,
         "values",
         "value"
        ]
       },
       {
        "data": "FPWb4aD97z+YH9/gCDXwP0Pb3dIBle8/xY//Hq0W8D99CrGU4n/wP6gJcveJZO8/EGZIF8S17j/iEgdgT8XuPzbMq2/gvu4/Vz+kK27f7z/wsf+YvTrwP1lUTWDdBu8/3rMABGh98D/JanaRJ5vvP0Da7mpcVu8/eO7/Vgem8D/d8SN24TmavwiVdIcykp0/qBWc8vIreb+yks/zW3Olv6cn6buimpO/DNQV/UGMlj8Yt8pBEs2SP8Tgbw1yfqC/BOhIo0oz8D8=",
        "encoding": "base64",
        "path": [
         "_data",
         0,
         "dimensions",
         3,
         "values",
         "value"
        ]
       },
       {
        "data": "pjAer/xWOECigt8yFsM8QKNRvfMaVkBAfUSLD1c0QkCpkxUMvDZVQE4CCesNkFRAQih2ACq1VEBVNVGP1N5QQBCpA6QK3FNACrtcbfsHI0BuZVY4ZBMyQCsxeMIaUlVAC49lwtL3TkDISIl5Y6VSQHmPMW2kVkFAGKyOXHM2NEDysHZnPJRVQAg96L5h5FRARwzzcU0LVUC1Es9nthVRQHdZ1rzDKFRASvS16nOxVUAGuN9p3VZPQIK68u7V51JAx1BXjxdsHEA=",
        "encoding": "base64",
        "path": [
         "_data",
         0,
         "dimensions",
         4,
         "values",
         "value"
        ]
       },
       {
        "data": "DiYQaEkXYsDN82cxWL9gwIbd2ijxy17AJISXlcO0W8CkD6Q4AXtKwEoWVBSjukfAnNMoITpFSMBvPLeGarQ9wNxAXkRRd0XAa1gZTgrhZcAKMXc20cpjwEJLa6t6CUvA8OYVzDBaOcDoSr0sP11CwKYORvnzOV3AwX+s/4g7Y8DwE58l6nlMwDtwQxbJS0nA4HGwl1frScByYwsBSj8/wNA+yKBSsUbAxPsb3IQfTcACc1YQ/LI6wB+S2rccR0PANmZQl39uZsA=",
        "encoding": "base64",
        "path": [
         "_data",
         0,
         "dimensions",
         5,
         "values",
         "value"
        ]
       },
       {
        "data": "ZmZmZmZmT0DNzMzMzMxOQJmZmZmZmU5AAAAAAAAATkDNzMzMzMxEQDQzMzMzM0RANDMzMzMzRECamZmZmZlCQM3MzMzMzENAZ2ZmZmZmUEDNzMzMzMxPQAAAAAAAAEVAmpmZmZmZQkAAAAAAAABDQJmZmZmZmU5AZmZmZmZmT0AzMzMzMzNFQJmZmZmZmURAmZmZmZmZREBnZmZmZmZDQDQzMzMzM0RAMzMzMzMzRUAzMzMzMzNCQAAAAAAAAERAZ2ZmZmZmUEA=",
        "encoding": "base64",
        "path": [
         "_data",
         0,
         "dimensions",
         6,
         "values",
         "value"
        ]
       },
       {
        "data": "Vs0R4iwyZkAMHvk2GqVkQDvoFzodFGNApSXrxLBFYUD0IPnFp4NSQGGwTBKfslBASnKfGGwOUUD8v+VLCrxFQIkE2K9LYk5AktNbJH+HakCyEtUcHSZoQOTptV5G4VJAag/D/rrRQkA9TwGngVBKQKo23ASbKWJAlHstZfmBZ0AexNi0wOJUQARH+C4n1lJACQjpbbY9U0Am/+Zwu4RIQHRVePtNI1FAgnGpKF1MVUDDdvYR1DpFQEREFd1gr01ASmG3czgoa0A=",
        "encoding": "base64",
        "path": [
         "_data",
         0,
         "dimensions",
         7,
         "values",
         "value"
        ]
       },
       {
        "data": "pSkhxy5dLEA4MakZwmArQPhZDpGwSipATJ8OKcTpKEDZrHVWZQAoQL7St5qpkyZADUb6yGbeJkAUoeLRAfYgQJfS0mMWSiVAKPcLf123LkAGHGLV9X0tQEXtS7LLRShAVufCR92CHkDBcjrA3WAjQIu2p0tGnClAqrIoP4AiLUDZrHVWZQAoQL7St5qpkyZADUb6yGbeJkAUoeLRAfYgQJfS0mMWSiVARe1LsstFKEBW58JH3YIeQMFyOsDdYCNAAoFlF6sDL0A=",
        "encoding": "base64",
        "path": [
         "_data",
         0,
         "dimensions",
         8,
         "values",
         "value"
        ]
       },
       {
        "data": "TkpIU6qKr0D9pGx2Z1atQNbbg0CUHKtACvENfnOLqEDpEIZjvfumQKuTLQx0uqRAWPlw4WkspUC3uF6IHvuaQLJuNZju26JAlnNbwIjZskAHTl5FjSixQCYOFS31b6dAekTVPKlcl0BKSlAMTVWgQNA6w4hUz6lA+smILO2zsEDpEIZjvfumQKuTLQx0uqRAWPlw4WkspUC3uF6IHvuaQLJuNZju26JAJg4VLfVvp0B6RNU8qVyXQEpKUAxNVaBAW2suj7tLs0A=",
        "encoding": "base64",
        "path": [
         "_data",
         0,
         "dimensions",
         9,
         "values",
         "value"
        ]
       },
       {
        "data": "Rh8qp6D4O0BMNRtfPQQ6QCKUz/nqCjhA5vfb9SzENUAVsXP9tWE0QJq96K/FYTJAyioWGNXGMkBMcXfhPu0nQL4uYS5ruTBAtuTu0kq3QEDE7OxBpW4+QFTfiO3FyDRAk3SBLqm3JEDC2tph+PcsQFx9n2Rk4zZAHF28YMyfPUAVsXP9tWE0QJq96K/FYTJAyioWGNXGMkBMcXfhPu0nQL4uYS5ruTBAVN+I7cXINECTdIEuqbckQMLa2mH49yxAHWayTZAcQUA=",
        "encoding": "base64",
        "path": [
         "_data",
         0,
         "line",
         "color",
         "value"
        ]
       }
      ],
      "model_module": "plotlywidget",
      "model_module_version": "^1.2.0",
      "model_name": "FigureModel",
      "state": {
       "_config": {
        "plotlyServerURL": "https://plot.ly"
       },
       "_data": [
        {
         "dimensions": [
          {
           "label": "(L) expand_capacity",
           "name": "expand_capacity",
           "range": [
            10.3587126286532,
            34.22315379343875
           ],
           "values": {
            "dtype": "float64",
            "shape": [
             25
            ],
            "value": {}
           }
          },
          {
           "label": "(L) amortization_period",
           "name": "amortization_period",
           "range": [
            50,
            50
           ],
           "values": [
            50,
            50,
            50,
            50,
            50,
            50,
            50,
            50,
            50,
            50,
            50,
            50,
            50,
            50,
            50,
            50,
            50,
            50,
            50,
            50,
            50,
            50,
            50,
            50,
            50
           ]
          },
          {
           "label": "(L) debt_type",
           "name": "debt_type",
           "range": [
            -0.1,
            2.1
           ],
           "ticktext": [
            "",
            "GO Bond",
            "Rev Bond",
            "Paygo",
            ""
           ],
           "tickvals": [
            -0.1,
            0,
            1,
            2,
            2.1
           ],
           "values": {
            "dtype": "float64",
            "shape": [
             25
            ],
            "value": {}
           }
          },
          {
           "label": "(L) interest_rate_lock",
           "name": "interest_rate_lock",
           "range": [
            -0.1,
            1.1
           ],
           "ticktext": [
            "",
            "False",
            "True",
            ""
           ],
           "tickvals": [
            -0.1,
            0,
            1,
            1.1
           ],
           "values": {
            "dtype": "float64",
            "shape": [
             25
            ],
            "value": {}
           }
          },
          {
           "label": "(M+) Mean Net Benefits",
           "name": "Mean Net Benefits",
           "range": [
            7.105558623985593,
            86.77270000237436
           ],
           "values": {
            "dtype": "float64",
            "shape": [
             25
            ],
            "value": {}
           }
          },
          {
           "label": "(M+) 5%ile Net Benefits",
           "name": "5%ile Net Benefits",
           "range": [
            -179.45307508185368,
            -25.352307086322014
           ],
           "values": {
            "dtype": "float64",
            "shape": [
             25
            ],
            "value": {}
           }
          },
          {
           "label": "(M-) Possibility of<br>   Negative Net Benefits",
           "name": "Possibility of Negative Net Benefits",
           "range": [
            65.60000000000001,
            36.4
           ],
           "values": {
            "dtype": "float64",
            "shape": [
             25
            ],
            "value": {}
           }
          },
          {
           "label": "(M-) 95%ile Capacity<br>   Expansion Cost",
           "name": "95%ile Capacity Expansion Cost",
           "range": [
            217.25689111534513,
            37.638519139522785
           ],
           "values": {
            "dtype": "float64",
            "shape": [
             25
            ],
            "value": {}
           }
          },
          {
           "label": "(M+) Expected Time<br>   Savings",
           "name": "Expected Time Savings",
           "range": [
            7.627797242423034,
            15.507164698734872
           ],
           "values": {
            "dtype": "float64",
            "shape": [
             25
            ],
            "value": {}
           }
          },
          {
           "label": "(M) 99%ile Present Cost",
           "name": "99%ile Present Cost",
           "range": [
            1495.1652711222691,
            4939.732653523645
           ],
           "values": {
            "dtype": "float64",
            "shape": [
             25
            ],
            "value": {}
           },
           "visible": false
          }
         ],
         "domain": {
          "y": [
           0,
           0.7
          ]
         },
         "labelangle": -90,
         "labelfont": {
          "color": "#AA0000"
         },
         "line": {
          "cmax": 34.22315379343875,
          "cmin": 10.3587126286532,
          "color": {
           "dtype": "float64",
           "shape": [
            25
           ],
           "value": {}
          },
          "colorbar": {
           "title": {
            "side": "right",
            "text": "expand_capacity"
           }
          },
          "colorscale": [
           [
            0,
            "#440154"
           ],
           [
            0.1111111111111111,
            "#482878"
           ],
           [
            0.2222222222222222,
            "#3e4989"
           ],
           [
            0.3333333333333333,
            "#31688e"
           ],
           [
            0.4444444444444444,
            "#26828e"
           ],
           [
            0.5555555555555556,
            "#1f9e89"
           ],
           [
            0.6666666666666666,
            "#35b779"
           ],
           [
            0.7777777777777778,
            "#6ece58"
           ],
           [
            0.8888888888888888,
            "#b5de2b"
           ],
           [
            1,
            "#fde725"
           ]
          ],
          "reversescale": true,
          "showscale": true
         },
         "type": "parcoords",
         "uid": "d8109500-15e9-46c9-9829-5327dbfd20ff"
        }
       ],
       "_js2py_pointsCallback": {},
       "_js2py_restyle": {},
       "_js2py_update": {},
       "_last_layout_edit_id": 2,
       "_last_trace_edit_id": 1,
       "_layout": {
        "autosize": true,
        "template": {
         "data": {
          "bar": [
           {
            "error_x": {
             "color": "#2a3f5f"
            },
            "error_y": {
             "color": "#2a3f5f"
            },
            "marker": {
             "line": {
              "color": "#E5ECF6",
              "width": 0.5
             }
            },
            "type": "bar"
           }
          ],
          "barpolar": [
           {
            "marker": {
             "line": {
              "color": "#E5ECF6",
              "width": 0.5
             }
            },
            "type": "barpolar"
           }
          ],
          "carpet": [
           {
            "aaxis": {
             "endlinecolor": "#2a3f5f",
             "gridcolor": "white",
             "linecolor": "white",
             "minorgridcolor": "white",
             "startlinecolor": "#2a3f5f"
            },
            "baxis": {
             "endlinecolor": "#2a3f5f",
             "gridcolor": "white",
             "linecolor": "white",
             "minorgridcolor": "white",
             "startlinecolor": "#2a3f5f"
            },
            "type": "carpet"
           }
          ],
          "choropleth": [
           {
            "colorbar": {
             "outlinewidth": 0,
             "ticks": ""
            },
            "type": "choropleth"
           }
          ],
          "contour": [
           {
            "colorbar": {
             "outlinewidth": 0,
             "ticks": ""
            },
            "colorscale": [
             [
              0,
              "#0d0887"
             ],
             [
              0.1111111111111111,
              "#46039f"
             ],
             [
              0.2222222222222222,
              "#7201a8"
             ],
             [
              0.3333333333333333,
              "#9c179e"
             ],
             [
              0.4444444444444444,
              "#bd3786"
             ],
             [
              0.5555555555555556,
              "#d8576b"
             ],
             [
              0.6666666666666666,
              "#ed7953"
             ],
             [
              0.7777777777777778,
              "#fb9f3a"
             ],
             [
              0.8888888888888888,
              "#fdca26"
             ],
             [
              1,
              "#f0f921"
             ]
            ],
            "type": "contour"
           }
          ],
          "contourcarpet": [
           {
            "colorbar": {
             "outlinewidth": 0,
             "ticks": ""
            },
            "type": "contourcarpet"
           }
          ],
          "heatmap": [
           {
            "colorbar": {
             "outlinewidth": 0,
             "ticks": ""
            },
            "colorscale": [
             [
              0,
              "#0d0887"
             ],
             [
              0.1111111111111111,
              "#46039f"
             ],
             [
              0.2222222222222222,
              "#7201a8"
             ],
             [
              0.3333333333333333,
              "#9c179e"
             ],
             [
              0.4444444444444444,
              "#bd3786"
             ],
             [
              0.5555555555555556,
              "#d8576b"
             ],
             [
              0.6666666666666666,
              "#ed7953"
             ],
             [
              0.7777777777777778,
              "#fb9f3a"
             ],
             [
              0.8888888888888888,
              "#fdca26"
             ],
             [
              1,
              "#f0f921"
             ]
            ],
            "type": "heatmap"
           }
          ],
          "heatmapgl": [
           {
            "colorbar": {
             "outlinewidth": 0,
             "ticks": ""
            },
            "colorscale": [
             [
              0,
              "#0d0887"
             ],
             [
              0.1111111111111111,
              "#46039f"
             ],
             [
              0.2222222222222222,
              "#7201a8"
             ],
             [
              0.3333333333333333,
              "#9c179e"
             ],
             [
              0.4444444444444444,
              "#bd3786"
             ],
             [
              0.5555555555555556,
              "#d8576b"
             ],
             [
              0.6666666666666666,
              "#ed7953"
             ],
             [
              0.7777777777777778,
              "#fb9f3a"
             ],
             [
              0.8888888888888888,
              "#fdca26"
             ],
             [
              1,
              "#f0f921"
             ]
            ],
            "type": "heatmapgl"
           }
          ],
          "histogram": [
           {
            "marker": {
             "colorbar": {
              "outlinewidth": 0,
              "ticks": ""
             }
            },
            "type": "histogram"
           }
          ],
          "histogram2d": [
           {
            "colorbar": {
             "outlinewidth": 0,
             "ticks": ""
            },
            "colorscale": [
             [
              0,
              "#0d0887"
             ],
             [
              0.1111111111111111,
              "#46039f"
             ],
             [
              0.2222222222222222,
              "#7201a8"
             ],
             [
              0.3333333333333333,
              "#9c179e"
             ],
             [
              0.4444444444444444,
              "#bd3786"
             ],
             [
              0.5555555555555556,
              "#d8576b"
             ],
             [
              0.6666666666666666,
              "#ed7953"
             ],
             [
              0.7777777777777778,
              "#fb9f3a"
             ],
             [
              0.8888888888888888,
              "#fdca26"
             ],
             [
              1,
              "#f0f921"
             ]
            ],
            "type": "histogram2d"
           }
          ],
          "histogram2dcontour": [
           {
            "colorbar": {
             "outlinewidth": 0,
             "ticks": ""
            },
            "colorscale": [
             [
              0,
              "#0d0887"
             ],
             [
              0.1111111111111111,
              "#46039f"
             ],
             [
              0.2222222222222222,
              "#7201a8"
             ],
             [
              0.3333333333333333,
              "#9c179e"
             ],
             [
              0.4444444444444444,
              "#bd3786"
             ],
             [
              0.5555555555555556,
              "#d8576b"
             ],
             [
              0.6666666666666666,
              "#ed7953"
             ],
             [
              0.7777777777777778,
              "#fb9f3a"
             ],
             [
              0.8888888888888888,
              "#fdca26"
             ],
             [
              1,
              "#f0f921"
             ]
            ],
            "type": "histogram2dcontour"
           }
          ],
          "mesh3d": [
           {
            "colorbar": {
             "outlinewidth": 0,
             "ticks": ""
            },
            "type": "mesh3d"
           }
          ],
          "parcoords": [
           {
            "line": {
             "colorbar": {
              "outlinewidth": 0,
              "ticks": ""
             }
            },
            "type": "parcoords"
           }
          ],
          "scatter": [
           {
            "marker": {
             "colorbar": {
              "outlinewidth": 0,
              "ticks": ""
             }
            },
            "type": "scatter"
           }
          ],
          "scatter3d": [
           {
            "line": {
             "colorbar": {
              "outlinewidth": 0,
              "ticks": ""
             }
            },
            "marker": {
             "colorbar": {
              "outlinewidth": 0,
              "ticks": ""
             }
            },
            "type": "scatter3d"
           }
          ],
          "scattercarpet": [
           {
            "marker": {
             "colorbar": {
              "outlinewidth": 0,
              "ticks": ""
             }
            },
            "type": "scattercarpet"
           }
          ],
          "scattergeo": [
           {
            "marker": {
             "colorbar": {
              "outlinewidth": 0,
              "ticks": ""
             }
            },
            "type": "scattergeo"
           }
          ],
          "scattergl": [
           {
            "marker": {
             "colorbar": {
              "outlinewidth": 0,
              "ticks": ""
             }
            },
            "type": "scattergl"
           }
          ],
          "scattermapbox": [
           {
            "marker": {
             "colorbar": {
              "outlinewidth": 0,
              "ticks": ""
             }
            },
            "type": "scattermapbox"
           }
          ],
          "scatterpolar": [
           {
            "marker": {
             "colorbar": {
              "outlinewidth": 0,
              "ticks": ""
             }
            },
            "type": "scatterpolar"
           }
          ],
          "scatterpolargl": [
           {
            "marker": {
             "colorbar": {
              "outlinewidth": 0,
              "ticks": ""
             }
            },
            "type": "scatterpolargl"
           }
          ],
          "scatterternary": [
           {
            "marker": {
             "colorbar": {
              "outlinewidth": 0,
              "ticks": ""
             }
            },
            "type": "scatterternary"
           }
          ],
          "surface": [
           {
            "colorbar": {
             "outlinewidth": 0,
             "ticks": ""
            },
            "colorscale": [
             [
              0,
              "#0d0887"
             ],
             [
              0.1111111111111111,
              "#46039f"
             ],
             [
              0.2222222222222222,
              "#7201a8"
             ],
             [
              0.3333333333333333,
              "#9c179e"
             ],
             [
              0.4444444444444444,
              "#bd3786"
             ],
             [
              0.5555555555555556,
              "#d8576b"
             ],
             [
              0.6666666666666666,
              "#ed7953"
             ],
             [
              0.7777777777777778,
              "#fb9f3a"
             ],
             [
              0.8888888888888888,
              "#fdca26"
             ],
             [
              1,
              "#f0f921"
             ]
            ],
            "type": "surface"
           }
          ],
          "table": [
           {
            "cells": {
             "fill": {
              "color": "#EBF0F8"
             },
             "line": {
              "color": "white"
             }
            },
            "header": {
             "fill": {
              "color": "#C8D4E3"
             },
             "line": {
              "color": "white"
             }
            },
            "type": "table"
           }
          ]
         },
         "layout": {
          "annotationdefaults": {
           "arrowcolor": "#2a3f5f",
           "arrowhead": 0,
           "arrowwidth": 1
          },
          "colorscale": {
           "diverging": [
            [
             0,
             "#8e0152"
            ],
            [
             0.1,
             "#c51b7d"
            ],
            [
             0.2,
             "#de77ae"
            ],
            [
             0.3,
             "#f1b6da"
            ],
            [
             0.4,
             "#fde0ef"
            ],
            [
             0.5,
             "#f7f7f7"
            ],
            [
             0.6,
             "#e6f5d0"
            ],
            [
             0.7,
             "#b8e186"
            ],
            [
             0.8,
             "#7fbc41"
            ],
            [
             0.9,
             "#4d9221"
            ],
            [
             1,
             "#276419"
            ]
           ],
           "sequential": [
            [
             0,
             "#0d0887"
            ],
            [
             0.1111111111111111,
             "#46039f"
            ],
            [
             0.2222222222222222,
             "#7201a8"
            ],
            [
             0.3333333333333333,
             "#9c179e"
            ],
            [
             0.4444444444444444,
             "#bd3786"
            ],
            [
             0.5555555555555556,
             "#d8576b"
            ],
            [
             0.6666666666666666,
             "#ed7953"
            ],
            [
             0.7777777777777778,
             "#fb9f3a"
            ],
            [
             0.8888888888888888,
             "#fdca26"
            ],
            [
             1,
             "#f0f921"
            ]
           ],
           "sequentialminus": [
            [
             0,
             "#0d0887"
            ],
            [
             0.1111111111111111,
             "#46039f"
            ],
            [
             0.2222222222222222,
             "#7201a8"
            ],
            [
             0.3333333333333333,
             "#9c179e"
            ],
            [
             0.4444444444444444,
             "#bd3786"
            ],
            [
             0.5555555555555556,
             "#d8576b"
            ],
            [
             0.6666666666666666,
             "#ed7953"
            ],
            [
             0.7777777777777778,
             "#fb9f3a"
            ],
            [
             0.8888888888888888,
             "#fdca26"
            ],
            [
             1,
             "#f0f921"
            ]
           ]
          },
          "colorway": [
           "#636efa",
           "#EF553B",
           "#00cc96",
           "#ab63fa",
           "#FFA15A",
           "#19d3f3",
           "#FF6692",
           "#B6E880",
           "#FF97FF",
           "#FECB52"
          ],
          "font": {
           "color": "#2a3f5f"
          },
          "geo": {
           "bgcolor": "white",
           "lakecolor": "white",
           "landcolor": "#E5ECF6",
           "showlakes": true,
           "showland": true,
           "subunitcolor": "white"
          },
          "hoverlabel": {
           "align": "left"
          },
          "hovermode": "closest",
          "mapbox": {
           "style": "light"
          },
          "paper_bgcolor": "white",
          "plot_bgcolor": "#E5ECF6",
          "polar": {
           "angularaxis": {
            "gridcolor": "white",
            "linecolor": "white",
            "ticks": ""
           },
           "bgcolor": "#E5ECF6",
           "radialaxis": {
            "gridcolor": "white",
            "linecolor": "white",
            "ticks": ""
           }
          },
          "scene": {
           "xaxis": {
            "backgroundcolor": "#E5ECF6",
            "gridcolor": "white",
            "gridwidth": 2,
            "linecolor": "white",
            "showbackground": true,
            "ticks": "",
            "zerolinecolor": "white"
           },
           "yaxis": {
            "backgroundcolor": "#E5ECF6",
            "gridcolor": "white",
            "gridwidth": 2,
            "linecolor": "white",
            "showbackground": true,
            "ticks": "",
            "zerolinecolor": "white"
           },
           "zaxis": {
            "backgroundcolor": "#E5ECF6",
            "gridcolor": "white",
            "gridwidth": 2,
            "linecolor": "white",
            "showbackground": true,
            "ticks": "",
            "zerolinecolor": "white"
           }
          },
          "shapedefaults": {
           "line": {
            "color": "#2a3f5f"
           }
          },
          "ternary": {
           "aaxis": {
            "gridcolor": "white",
            "linecolor": "white",
            "ticks": ""
           },
           "baxis": {
            "gridcolor": "white",
            "linecolor": "white",
            "ticks": ""
           },
           "bgcolor": "#E5ECF6",
           "caxis": {
            "gridcolor": "white",
            "linecolor": "white",
            "ticks": ""
           }
          },
          "title": {
           "x": 0.05
          },
          "xaxis": {
           "automargin": true,
           "gridcolor": "white",
           "linecolor": "white",
           "ticks": "",
           "zerolinecolor": "white",
           "zerolinewidth": 2
          },
          "yaxis": {
           "automargin": true,
           "gridcolor": "white",
           "linecolor": "white",
           "ticks": "",
           "zerolinecolor": "white",
           "zerolinewidth": 2
          }
         }
        }
       },
       "_py2js_addTraces": {},
       "_py2js_animate": {},
       "_py2js_deleteTraces": {},
       "_py2js_moveTraces": {},
       "_py2js_removeLayoutProps": {},
       "_py2js_removeTraceProps": {},
       "_py2js_update": {},
       "_view_count": 1
      }
     },
     "fc93c527a63c4b21ae0ec23b5b4f410c": {
      "model_module": "@jupyter-widgets/base",
      "model_module_version": "1.2.0",
      "model_name": "LayoutModel",
      "state": {}
     },
     "fd39799f1224481eba7d0ca8f28f514b": {
      "model_module": "@jupyter-widgets/base",
      "model_module_version": "1.2.0",
      "model_name": "LayoutModel",
      "state": {
       "flex_flow": "row wrap"
      }
     },
     "fe389e66a6ff4a13aea182b81c2b726c": {
      "model_module": "@jupyter-widgets/controls",
      "model_module_version": "1.5.0",
      "model_name": "CheckboxModel",
      "state": {
       "description": "(M+) 5%ile Net Benefits",
       "description_tooltip": "5%ile Net Benefits",
       "disabled": false,
       "layout": "IPY_MODEL_4bfa963e908d4a4aa48e5f654a65599c",
       "name": "5%ile Net Benefits",
       "style": "IPY_MODEL_493fc285102c4919aee7bc8480c31bc9",
       "value": true
      }
     },
     "ff5ff70fcad34429b7a15fee63ae1320": {
      "model_module": "@jupyter-widgets/controls",
      "model_module_version": "1.5.0",
      "model_name": "DescriptionStyleModel",
      "state": {
       "description_width": ""
      }
     }
    },
    "version_major": 2,
    "version_minor": 0
   }
  }
 },
 "nbformat": 4,
 "nbformat_minor": 4
}
