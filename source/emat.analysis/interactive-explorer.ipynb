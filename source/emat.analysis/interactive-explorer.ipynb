{
 "cells": [
  {
   "cell_type": "code",
   "execution_count": 1,
   "metadata": {
    "execution": {
     "iopub.execute_input": "2021-03-04T00:03:01.755830Z",
     "iopub.status.busy": "2021-03-04T00:03:01.755205Z",
     "iopub.status.idle": "2021-03-04T00:03:03.356202Z",
     "shell.execute_reply": "2021-03-04T00:03:03.356625Z"
    }
   },
   "outputs": [
    {
     "name": "stdout",
     "output_type": "stream",
     "text": [
      "emat 0.5.2, plotly 4.14.3\n"
     ]
    }
   ],
   "source": [
    "import emat\n",
    "emat.versions()"
   ]
  },
  {
   "cell_type": "markdown",
   "metadata": {},
   "source": [
    "# Interactive Explorer\n",
    "\n",
    "TMIP-EMAT includes an interactive explorer, inspired by a \n",
    "[similar tool](https://htmlpreview.github.io/?https://github.com/VisionEval/VisionEval/blob/master/sources/VEScenarioViewer/verpat.html) \n",
    "provided with the [VisionEval](https://visioneval.org) package.\n",
    "To demonstrate the interactive explorer, we will use the Road Test example model.\n",
    "First, we need to develop and run a design of experiments to have some\n",
    "data to explore.  We'll run 5,000 experiments to get a good size sample of \n",
    "data points to visualize."
   ]
  },
  {
   "cell_type": "code",
   "execution_count": 2,
   "metadata": {
    "execution": {
     "iopub.execute_input": "2021-03-04T00:03:03.359785Z",
     "iopub.status.busy": "2021-03-04T00:03:03.359377Z",
     "iopub.status.idle": "2021-03-04T00:03:54.150442Z",
     "shell.execute_reply": "2021-03-04T00:03:54.150877Z"
    }
   },
   "outputs": [],
   "source": [
    "import emat.examples\n",
    "scope, db, model = emat.examples.road_test()\n",
    "design = model.design_experiments(n_samples=5000)\n",
    "results = model.run_experiments(design)"
   ]
  },
  {
   "cell_type": "markdown",
   "metadata": {},
   "source": [
    "The interactive explorer class can be imported from the `emat.analysis` package.\n",
    "To use it, we create an `Explore` instance, giving a scope and a set of \n",
    "experimental results."
   ]
  },
  {
   "cell_type": "code",
   "execution_count": 3,
   "metadata": {
    "execution": {
     "iopub.execute_input": "2021-03-04T00:03:54.154090Z",
     "iopub.status.busy": "2021-03-04T00:03:54.153694Z",
     "iopub.status.idle": "2021-03-04T00:03:54.750357Z",
     "shell.execute_reply": "2021-03-04T00:03:54.750947Z"
    }
   },
   "outputs": [],
   "source": [
    "from emat.analysis import Explore\n",
    "xp = Explore(scope=scope, data=results)"
   ]
  },
  {
   "cell_type": "markdown",
   "metadata": {},
   "source": [
    "<span style=\"color:red; font-size:80%;\">\n",
    "Note: The interactivity of the figures displayed directly on the\n",
    "TMIP-EMAT website is not enabled.  This interactivity requires\n",
    "a live running Python kernel to support the calculations to\n",
    "update the figures.\n",
    "You can try to open a live interactive version in\n",
    "<a href=\"https://mybinder.org/v2/gh/tmip-emat/tmip-emat/ab5ea96371751d7d3ddd95dd5599b384d781f92e?filepath=docs%2Fsource%2Femat.analysis%2Finteractive-explorer.ipynb\">Binder</a>\n",
    "but it may take a bit of time to load.</span>"
   ]
  },
  {
   "cell_type": "markdown",
   "metadata": {},
   "source": [
    "## Single Dimension Figures\n",
    "\n",
    "To build a complete interactive workspace similar to that provided by VisionEval, we\n",
    "can use the `complete` method of the `Explore` instance we created above. This will\n",
    "create a set of histograms illustrating the data in the results computed above. There\n",
    "is one histogram for each policy lever, exogenous uncertainty, and performance measure.\n",
    "\n",
    "Each histogram is accompanied by a range slider or toggle buttons, depending on the \n",
    "data type (boolean and categorical data get toggle buttons).  These controls can \n",
    "be used interactively to select and highlight only a subset of the experiments in\n",
    "the complete data set.  By manipulating these controls, users can explore the \n",
    "interaction across various inputs and outputs."
   ]
  },
  {
   "cell_type": "code",
   "execution_count": 4,
   "metadata": {
    "execution": {
     "iopub.execute_input": "2021-03-04T00:03:54.756300Z",
     "iopub.status.busy": "2021-03-04T00:03:54.755008Z",
     "iopub.status.idle": "2021-03-04T00:03:55.527213Z",
     "shell.execute_reply": "2021-03-04T00:03:55.527686Z"
    }
   },
   "outputs": [
    {
     "data": {
      "application/vnd.jupyter.widget-view+json": {
       "model_id": "8ca91a1f219a4b6e9129134fa5588261",
       "version_major": 2,
       "version_minor": 0
      },
      "text/plain": [
       "VBox(children=(HBox(children=(HTML(value='<span style=\"font-weight:bold;font-size:150%\">5,000 Cases Selected o…"
      ]
     },
     "metadata": {},
     "output_type": "display_data"
    }
   ],
   "source": [
    "xp.complete()"
   ]
  },
  {
   "cell_type": "markdown",
   "metadata": {},
   "source": [
    "In addition to manipulating the controls interactively, they can also be\n",
    "set programatically from Python code.  For example, to clear the selections,\n",
    "use the `clear` method."
   ]
  },
  {
   "cell_type": "code",
   "execution_count": 5,
   "metadata": {
    "execution": {
     "iopub.execute_input": "2021-03-04T00:03:55.531326Z",
     "iopub.status.busy": "2021-03-04T00:03:55.530875Z",
     "iopub.status.idle": "2021-03-04T00:03:55.546368Z",
     "shell.execute_reply": "2021-03-04T00:03:55.546808Z"
    }
   },
   "outputs": [],
   "source": [
    "xp.clear()"
   ]
  },
  {
   "cell_type": "markdown",
   "metadata": {},
   "source": [
    "To set the lower or upper bound on a range slider, use `set_lower_bound` or `set_upper_bound`, \n",
    "each of which takes the name of the scope parmeter or measure to set, and the bound."
   ]
  },
  {
   "cell_type": "code",
   "execution_count": 6,
   "metadata": {
    "execution": {
     "iopub.execute_input": "2021-03-04T00:03:55.549303Z",
     "iopub.status.busy": "2021-03-04T00:03:55.548833Z",
     "iopub.status.idle": "2021-03-04T00:03:55.607807Z",
     "shell.execute_reply": "2021-03-04T00:03:55.608249Z"
    }
   },
   "outputs": [],
   "source": [
    "xp.set_lower_bound('net_benefits', 0)"
   ]
  },
  {
   "cell_type": "markdown",
   "metadata": {},
   "source": [
    "To set toggle buttons, use `remove_from_allowed_set` or `add_to_allowed_set`, again giving as \n",
    "arguments the name of the scope parmeter or measure, and the value to remove or add."
   ]
  },
  {
   "cell_type": "code",
   "execution_count": 7,
   "metadata": {
    "execution": {
     "iopub.execute_input": "2021-03-04T00:03:55.611265Z",
     "iopub.status.busy": "2021-03-04T00:03:55.610845Z",
     "iopub.status.idle": "2021-03-04T00:03:55.665146Z",
     "shell.execute_reply": "2021-03-04T00:03:55.665659Z"
    }
   },
   "outputs": [],
   "source": [
    "xp.remove_from_allowed_set('debt_type', 'Rev Bond')"
   ]
  },
  {
   "cell_type": "markdown",
   "metadata": {},
   "source": [
    "In addition to the histogram views, TMIP-EMAT can also generate kernel density plots,\n",
    "by specifying the `style` keyword argument as `'kde'` when using the `viewers` or \n",
    "`selectors` methods.\n",
    "These plots differ from the histograms in two ways: the discrete bars are replaced\n",
    "by smoothed curves, and the selected (orange) area is renormalized to the same scale \n",
    "as the overall (blue) curves, similar to a probability density function (although the\n",
    "figures generated are not actually PDF's, as they incorporate a selection of experiments\n",
    "that vary based on policy levers, which are not probabilistic distributions)."
   ]
  },
  {
   "cell_type": "code",
   "execution_count": 8,
   "metadata": {
    "execution": {
     "iopub.execute_input": "2021-03-04T00:03:55.669018Z",
     "iopub.status.busy": "2021-03-04T00:03:55.668431Z",
     "iopub.status.idle": "2021-03-04T00:03:55.822009Z",
     "shell.execute_reply": "2021-03-04T00:03:55.822556Z"
    }
   },
   "outputs": [
    {
     "data": {
      "application/vnd.jupyter.widget-view+json": {
       "model_id": "9d8ef1682ecd43bbb97ca9a1574eadfe",
       "version_major": 2,
       "version_minor": 0
      },
      "text/plain": [
       "Box(children=(VBox(children=(HTML(value='<span title=\"time_savings\">Time Savings</span>'), FigureWidget({\n",
       "    …"
      ]
     },
     "metadata": {},
     "output_type": "display_data"
    }
   ],
   "source": [
    "xp.viewers(['time_savings', 'net_benefits'], style='kde')"
   ]
  },
  {
   "cell_type": "code",
   "execution_count": 9,
   "metadata": {
    "execution": {
     "iopub.execute_input": "2021-03-04T00:03:55.826675Z",
     "iopub.status.busy": "2021-03-04T00:03:55.826227Z",
     "iopub.status.idle": "2021-03-04T00:03:56.000619Z",
     "shell.execute_reply": "2021-03-04T00:03:56.001224Z"
    }
   },
   "outputs": [
    {
     "data": {
      "application/vnd.jupyter.widget-view+json": {
       "model_id": "9e7fe6a11b4e47d6a6f004be5290eb57",
       "version_major": 2,
       "version_minor": 0
      },
      "text/plain": [
       "Box(children=(VBox(children=(HTML(value='<span title=\"input_flow\">Input Flow</span>'), FigureWidget({\n",
       "    'dat…"
      ]
     },
     "metadata": {},
     "output_type": "display_data"
    }
   ],
   "source": [
    "xp.viewers(['input_flow', 'net_benefits', 'value_of_time'], style='kde')"
   ]
  },
  {
   "cell_type": "markdown",
   "metadata": {},
   "source": [
    "## Two Dimension Figures"
   ]
  },
  {
   "cell_type": "markdown",
   "metadata": {},
   "source": [
    "The `Explore` object can also create an interactive two-dimensional scatter plot,\n",
    "using the `two_way` method. This method allows the user to specify the variables\n",
    "for both the `x` and `y` axis, and either can be any policy lever, exogenous \n",
    "uncertainty, or performance measure.  These dimensions can be changed interactively\n",
    "later as well.  The resulting scatter plot is linked to the same selection of\n",
    "experiments in the interactive one-dimensional figures shown above, and by default\n",
    "the same experiments are highlighted in blue and orange in all of these related\n",
    "figures."
   ]
  },
  {
   "cell_type": "code",
   "execution_count": 10,
   "metadata": {
    "execution": {
     "iopub.execute_input": "2021-03-04T00:03:56.004505Z",
     "iopub.status.busy": "2021-03-04T00:03:56.003887Z",
     "iopub.status.idle": "2021-03-04T00:03:56.223451Z",
     "shell.execute_reply": "2021-03-04T00:03:56.223891Z"
    }
   },
   "outputs": [
    {
     "data": {
      "application/vnd.jupyter.widget-view+json": {
       "model_id": "de9f282e03014b089e8f4e986ae69e04",
       "version_major": 2,
       "version_minor": 0
      },
      "text/plain": [
       "DataFrameViewer(children=(FigureWidget({\n",
       "    'data': [{'hovertemplate': ('%{xaxis.title.text}: %{x}<br>%' ... …"
      ]
     },
     "metadata": {},
     "output_type": "display_data"
    }
   ],
   "source": [
    "xp.two_way(x='expand_capacity', y='time_savings')"
   ]
  },
  {
   "cell_type": "markdown",
   "metadata": {},
   "source": [
    "## Using PRIM with the Interactive Explorer\n",
    "\n",
    "The PRIM tools are available directly within the interactive explorer. Simply \n",
    "set a target as shown."
   ]
  },
  {
   "cell_type": "code",
   "execution_count": 11,
   "metadata": {
    "execution": {
     "iopub.execute_input": "2021-03-04T00:03:56.227220Z",
     "iopub.status.busy": "2021-03-04T00:03:56.226798Z",
     "iopub.status.idle": "2021-03-04T00:03:56.317724Z",
     "shell.execute_reply": "2021-03-04T00:03:56.318220Z"
    }
   },
   "outputs": [],
   "source": [
    "prim = xp.prim(target=xp.data['net_benefits'] > 0)"
   ]
  },
  {
   "cell_type": "markdown",
   "metadata": {},
   "source": [
    "The tradeoff selector is directly integrated into the explorer.  In addition\n",
    "to the information visible by hovering over any point in the tradeoff selector\n",
    "figure, clicking on that point will set all of the interactive constraints \n",
    "to the bounds given by that particular point."
   ]
  },
  {
   "cell_type": "code",
   "execution_count": 12,
   "metadata": {
    "execution": {
     "iopub.execute_input": "2021-03-04T00:03:56.324438Z",
     "iopub.status.busy": "2021-03-04T00:03:56.320557Z",
     "iopub.status.idle": "2021-03-04T00:03:59.255587Z",
     "shell.execute_reply": "2021-03-04T00:03:59.256015Z"
    }
   },
   "outputs": [
    {
     "data": {
      "application/vnd.jupyter.widget-view+json": {
       "model_id": "905fba486cd74230b0de091509b90fe3",
       "version_major": 2,
       "version_minor": 0
      },
      "text/plain": [
       "FigureWidget({\n",
       "    'data': [{'hoverinfo': 'text',\n",
       "              'marker': {'color': array([0, 1, 1, 1, 1, 1, 1…"
      ]
     },
     "metadata": {},
     "output_type": "display_data"
    }
   ],
   "source": [
    "prim.tradeoff_selector()"
   ]
  }
 ],
 "metadata": {
  "jupytext": {
   "formats": "ipynb,py:percent"
  },
  "kernelspec": {
   "display_name": "Python 3",
   "language": "python",
   "name": "python3"
  },
  "language_info": {
   "codemirror_mode": {
    "name": "ipython",
    "version": 3
   },
   "file_extension": ".py",
   "mimetype": "text/x-python",
   "name": "python",
   "nbconvert_exporter": "python",
   "pygments_lexer": "ipython3",
   "version": "3.8.6"
  },
  "pycharm": {
   "stem_cell": {
    "cell_type": "raw",
    "metadata": {
     "collapsed": false
    },
    "source": []
   }
  },
  "widgets": {
   "application/vnd.jupyter.widget-state+json": {
    "state": {
     "002528f30b9e42da894ab08795d58027": {
      "model_module": "@jupyter-widgets/controls",
      "model_module_version": "1.5.0",
      "model_name": "DescriptionStyleModel",
      "state": {
       "_model_module": "@jupyter-widgets/controls",
       "_model_module_version": "1.5.0",
       "_model_name": "DescriptionStyleModel",
       "_view_count": null,
       "_view_module": "@jupyter-widgets/base",
       "_view_module_version": "1.2.0",
       "_view_name": "StyleView",
       "description_width": ""
      }
     },
     "0227da92e56945ba8e82154235f41a20": {
      "model_module": "@jupyter-widgets/base",
      "model_module_version": "1.2.0",
      "model_name": "LayoutModel",
      "state": {
       "_model_module": "@jupyter-widgets/base",
       "_model_module_version": "1.2.0",
       "_model_name": "LayoutModel",
       "_view_count": null,
       "_view_module": "@jupyter-widgets/base",
       "_view_module_version": "1.2.0",
       "_view_name": "LayoutView",
       "align_content": null,
       "align_items": null,
       "align_self": null,
       "border": null,
       "bottom": null,
       "display": null,
       "flex": null,
       "flex_flow": null,
       "grid_area": null,
       "grid_auto_columns": null,
       "grid_auto_flow": null,
       "grid_auto_rows": null,
       "grid_column": null,
       "grid_gap": null,
       "grid_row": null,
       "grid_template_areas": null,
       "grid_template_columns": null,
       "grid_template_rows": null,
       "height": null,
       "justify_content": null,
       "justify_items": null,
       "left": null,
       "margin": null,
       "max_height": null,
       "max_width": null,
       "min_height": null,
       "min_width": null,
       "object_fit": null,
       "object_position": null,
       "order": null,
       "overflow": null,
       "overflow_x": null,
       "overflow_y": null,
       "padding": null,
       "right": null,
       "top": null,
       "visibility": null,
       "width": null
      }
     },
     "02a3510a96394282b9a922659598803e": {
      "model_module": "@jupyter-widgets/base",
      "model_module_version": "1.2.0",
      "model_name": "LayoutModel",
      "state": {
       "_model_module": "@jupyter-widgets/base",
       "_model_module_version": "1.2.0",
       "_model_name": "LayoutModel",
       "_view_count": null,
       "_view_module": "@jupyter-widgets/base",
       "_view_module_version": "1.2.0",
       "_view_name": "LayoutView",
       "align_content": null,
       "align_items": null,
       "align_self": null,
       "border": null,
       "bottom": null,
       "display": null,
       "flex": null,
       "flex_flow": null,
       "grid_area": null,
       "grid_auto_columns": null,
       "grid_auto_flow": null,
       "grid_auto_rows": null,
       "grid_column": null,
       "grid_gap": null,
       "grid_row": null,
       "grid_template_areas": null,
       "grid_template_columns": null,
       "grid_template_rows": null,
       "height": null,
       "justify_content": null,
       "justify_items": null,
       "left": null,
       "margin": null,
       "max_height": null,
       "max_width": null,
       "min_height": null,
       "min_width": null,
       "object_fit": null,
       "object_position": null,
       "order": null,
       "overflow": null,
       "overflow_x": null,
       "overflow_y": null,
       "padding": null,
       "right": null,
       "top": null,
       "visibility": null,
       "width": null
      }
     },
     "0604b2faaf144c3288569ea90c1d5b28": {
      "model_module": "@jupyter-widgets/controls",
      "model_module_version": "1.5.0",
      "model_name": "DescriptionStyleModel",
      "state": {
       "_model_module": "@jupyter-widgets/controls",
       "_model_module_version": "1.5.0",
       "_model_name": "DescriptionStyleModel",
       "_view_count": null,
       "_view_module": "@jupyter-widgets/base",
       "_view_module_version": "1.2.0",
       "_view_name": "StyleView",
       "description_width": ""
      }
     },
     "07fdf528bb714bd0bb3b6a4f738d75ba": {
      "model_module": "@jupyter-widgets/base",
      "model_module_version": "1.2.0",
      "model_name": "LayoutModel",
      "state": {
       "_model_module": "@jupyter-widgets/base",
       "_model_module_version": "1.2.0",
       "_model_name": "LayoutModel",
       "_view_count": null,
       "_view_module": "@jupyter-widgets/base",
       "_view_module_version": "1.2.0",
       "_view_name": "LayoutView",
       "align_content": null,
       "align_items": null,
       "align_self": null,
       "border": null,
       "bottom": null,
       "display": null,
       "flex": null,
       "flex_flow": null,
       "grid_area": null,
       "grid_auto_columns": null,
       "grid_auto_flow": null,
       "grid_auto_rows": null,
       "grid_column": null,
       "grid_gap": null,
       "grid_row": null,
       "grid_template_areas": null,
       "grid_template_columns": null,
       "grid_template_rows": null,
       "height": null,
       "justify_content": null,
       "justify_items": null,
       "left": null,
       "margin": null,
       "max_height": null,
       "max_width": null,
       "min_height": null,
       "min_width": null,
       "object_fit": null,
       "object_position": null,
       "order": null,
       "overflow": null,
       "overflow_x": null,
       "overflow_y": null,
       "padding": null,
       "right": null,
       "top": null,
       "visibility": null,
       "width": null
      }
     },
     "0d15d3a1742845e9a19b7dc7ec0fd62e": {
      "model_module": "@jupyter-widgets/base",
      "model_module_version": "1.2.0",
      "model_name": "LayoutModel",
      "state": {
       "_model_module": "@jupyter-widgets/base",
       "_model_module_version": "1.2.0",
       "_model_name": "LayoutModel",
       "_view_count": null,
       "_view_module": "@jupyter-widgets/base",
       "_view_module_version": "1.2.0",
       "_view_name": "LayoutView",
       "align_content": null,
       "align_items": null,
       "align_self": null,
       "border": null,
       "bottom": null,
       "display": null,
       "flex": null,
       "flex_flow": null,
       "grid_area": null,
       "grid_auto_columns": null,
       "grid_auto_flow": null,
       "grid_auto_rows": null,
       "grid_column": null,
       "grid_gap": null,
       "grid_row": null,
       "grid_template_areas": null,
       "grid_template_columns": null,
       "grid_template_rows": null,
       "height": null,
       "justify_content": null,
       "justify_items": null,
       "left": null,
       "margin": "1",
       "max_height": null,
       "max_width": null,
       "min_height": null,
       "min_width": null,
       "object_fit": null,
       "object_position": null,
       "order": null,
       "overflow": null,
       "overflow_x": null,
       "overflow_y": null,
       "padding": null,
       "right": null,
       "top": null,
       "visibility": null,
       "width": "auto"
      }
     },
     "0d6a8d2cdf5e40968765f9b9a609e2e3": {
      "model_module": "@jupyter-widgets/base",
      "model_module_version": "1.2.0",
      "model_name": "LayoutModel",
      "state": {
       "_model_module": "@jupyter-widgets/base",
       "_model_module_version": "1.2.0",
       "_model_name": "LayoutModel",
       "_view_count": null,
       "_view_module": "@jupyter-widgets/base",
       "_view_module_version": "1.2.0",
       "_view_name": "LayoutView",
       "align_content": null,
       "align_items": "center",
       "align_self": null,
       "border": "1px solid #AAA",
       "bottom": null,
       "display": null,
       "flex": null,
       "flex_flow": null,
       "grid_area": null,
       "grid_auto_columns": null,
       "grid_auto_flow": null,
       "grid_auto_rows": null,
       "grid_column": null,
       "grid_gap": null,
       "grid_row": null,
       "grid_template_areas": null,
       "grid_template_columns": null,
       "grid_template_rows": null,
       "height": null,
       "justify_content": null,
       "justify_items": null,
       "left": null,
       "margin": "2px",
       "max_height": null,
       "max_width": null,
       "min_height": null,
       "min_width": null,
       "object_fit": null,
       "object_position": null,
       "order": null,
       "overflow": null,
       "overflow_x": null,
       "overflow_y": null,
       "padding": null,
       "right": null,
       "top": null,
       "visibility": null,
       "width": "270px"
      }
     },
     "0f1d0e4782504e17a9dddafe1843a164": {
      "model_module": "@jupyter-widgets/controls",
      "model_module_version": "1.5.0",
      "model_name": "LabelModel",
      "state": {
       "_dom_classes": [],
       "_model_module": "@jupyter-widgets/controls",
       "_model_module_version": "1.5.0",
       "_model_name": "LabelModel",
       "_view_count": null,
       "_view_module": "@jupyter-widgets/controls",
       "_view_module_version": "1.5.0",
       "_view_name": "LabelView",
       "description": "",
       "description_tooltip": null,
       "layout": "IPY_MODEL_23ef3de18bd045e49be65a36c1c05736",
       "placeholder": "​",
       "style": "IPY_MODEL_ab9f9dadc44547e3899495f0ba334903",
       "value": ""
      }
     },
     "107e3259ba2e491fa11b841ee22bd5c7": {
      "model_module": "@jupyter-widgets/controls",
      "model_module_version": "1.5.0",
      "model_name": "DropdownModel",
      "state": {
       "_dom_classes": [],
       "_model_module": "@jupyter-widgets/controls",
       "_model_module_version": "1.5.0",
       "_model_name": "DropdownModel",
       "_options_labels": [
        "None",
        "Explore"
       ],
       "_view_count": null,
       "_view_module": "@jupyter-widgets/controls",
       "_view_module_version": "1.5.0",
       "_view_name": "DropdownView",
       "description": "",
       "description_tooltip": null,
       "disabled": false,
       "index": 1,
       "layout": "IPY_MODEL_e7d456ac336e4207a79ab43b4463ef6d",
       "style": "IPY_MODEL_8c063fe0775f4360b4b572b3e6fff48c"
      }
     },
     "127a76626113493ca37be4f6b8fb09f9": {
      "model_module": "@jupyter-widgets/controls",
      "model_module_version": "1.5.0",
      "model_name": "HTMLModel",
      "state": {
       "_dom_classes": [],
       "_model_module": "@jupyter-widgets/controls",
       "_model_module_version": "1.5.0",
       "_model_name": "HTMLModel",
       "_view_count": null,
       "_view_module": "@jupyter-widgets/controls",
       "_view_module_version": "1.5.0",
       "_view_name": "HTMLView",
       "description": "",
       "description_tooltip": null,
       "layout": "IPY_MODEL_47ac1c54a43d4faa98b5c1fd1206d4a8",
       "placeholder": "​",
       "style": "IPY_MODEL_42e2cf1fc66c419c975ca928d9379601",
       "value": "<span title=\"input_flow\">Input Flow</span>"
      }
     },
     "13e9a8f680884fd688b584e5f8ebee0e": {
      "model_module": "@jupyter-widgets/controls",
      "model_module_version": "1.5.0",
      "model_name": "VBoxModel",
      "state": {
       "_dom_classes": [],
       "_model_module": "@jupyter-widgets/controls",
       "_model_module_version": "1.5.0",
       "_model_name": "VBoxModel",
       "_view_count": null,
       "_view_module": "@jupyter-widgets/controls",
       "_view_module_version": "1.5.0",
       "_view_name": "VBoxView",
       "box_style": "",
       "children": [
        "IPY_MODEL_1c9fe4266ac449929a77afc218d0310d",
        "IPY_MODEL_90242fdd75a444a0807ab3ccb8a4f2df",
        "IPY_MODEL_f3621af3ea884ec49f68b193ab62f9a1"
       ],
       "layout": "IPY_MODEL_896b07f224ed4dfcb41d3d4e2b57febb"
      }
     },
     "1463261643d14bfca9fdea62229a389e": {
      "model_module": "@jupyter-widgets/controls",
      "model_module_version": "1.5.0",
      "model_name": "DescriptionStyleModel",
      "state": {
       "_model_module": "@jupyter-widgets/controls",
       "_model_module_version": "1.5.0",
       "_model_name": "DescriptionStyleModel",
       "_view_count": null,
       "_view_module": "@jupyter-widgets/base",
       "_view_module_version": "1.2.0",
       "_view_name": "StyleView",
       "description_width": ""
      }
     },
     "167742995387481c9f22878c5b3fad2b": {
      "model_module": "@jupyter-widgets/controls",
      "model_module_version": "1.5.0",
      "model_name": "HTMLModel",
      "state": {
       "_dom_classes": [],
       "_model_module": "@jupyter-widgets/controls",
       "_model_module_version": "1.5.0",
       "_model_name": "HTMLModel",
       "_view_count": null,
       "_view_module": "@jupyter-widgets/controls",
       "_view_module_version": "1.5.0",
       "_view_name": "HTMLView",
       "description": "",
       "description_tooltip": null,
       "layout": "IPY_MODEL_5cc884767ec940839ab0159c4001f94c",
       "placeholder": "​",
       "style": "IPY_MODEL_22111b1b0ec84978b5c5ae13616de387",
       "value": "<h3>Ⓧ Exogenous Uncertainties</h3>"
      }
     },
     "1723e39b09b94377a61cf018d4ee89bc": {
      "model_module": "@jupyter-widgets/base",
      "model_module_version": "1.2.0",
      "model_name": "LayoutModel",
      "state": {
       "_model_module": "@jupyter-widgets/base",
       "_model_module_version": "1.2.0",
       "_model_name": "LayoutModel",
       "_view_count": null,
       "_view_module": "@jupyter-widgets/base",
       "_view_module_version": "1.2.0",
       "_view_name": "LayoutView",
       "align_content": null,
       "align_items": null,
       "align_self": null,
       "border": null,
       "bottom": null,
       "display": null,
       "flex": null,
       "flex_flow": null,
       "grid_area": null,
       "grid_auto_columns": null,
       "grid_auto_flow": null,
       "grid_auto_rows": null,
       "grid_column": null,
       "grid_gap": null,
       "grid_row": null,
       "grid_template_areas": null,
       "grid_template_columns": null,
       "grid_template_rows": null,
       "height": null,
       "justify_content": null,
       "justify_items": null,
       "left": null,
       "margin": null,
       "max_height": null,
       "max_width": null,
       "min_height": null,
       "min_width": null,
       "object_fit": null,
       "object_position": null,
       "order": null,
       "overflow": null,
       "overflow_x": null,
       "overflow_y": null,
       "padding": null,
       "right": null,
       "top": null,
       "visibility": null,
       "width": null
      }
     },
     "1787b9f74f474dc390a282e9ff791ef4": {
      "model_module": "@jupyter-widgets/controls",
      "model_module_version": "1.5.0",
      "model_name": "FloatRangeSliderModel",
      "state": {
       "_dom_classes": [],
       "_model_module": "@jupyter-widgets/controls",
       "_model_module_version": "1.5.0",
       "_model_name": "FloatRangeSliderModel",
       "_view_count": null,
       "_view_module": "@jupyter-widgets/controls",
       "_view_module_version": "1.5.0",
       "_view_name": "FloatRangeSliderView",
       "continuous_update": false,
       "description": "",
       "description_tooltip": null,
       "disabled": false,
       "layout": "IPY_MODEL_891c93c06c964c19877e7f647975f9d2",
       "max": 160.6739478744379,
       "min": 61.93878101263677,
       "orientation": "horizontal",
       "readout": true,
       "readout_format": ".3g",
       "step": 0.49367583430900575,
       "style": "IPY_MODEL_213c58babdd3416ba1dd597ad53e9ccd",
       "value": [
        61.93878101263677,
        160.6739478744379
       ]
      }
     },
     "195ba9722daf4b01b090c0fb73ae4884": {
      "model_module": "@jupyter-widgets/base",
      "model_module_version": "1.2.0",
      "model_name": "LayoutModel",
      "state": {
       "_model_module": "@jupyter-widgets/base",
       "_model_module_version": "1.2.0",
       "_model_name": "LayoutModel",
       "_view_count": null,
       "_view_module": "@jupyter-widgets/base",
       "_view_module_version": "1.2.0",
       "_view_name": "LayoutView",
       "align_content": null,
       "align_items": null,
       "align_self": null,
       "border": null,
       "bottom": null,
       "display": null,
       "flex": null,
       "flex_flow": null,
       "grid_area": null,
       "grid_auto_columns": null,
       "grid_auto_flow": null,
       "grid_auto_rows": null,
       "grid_column": null,
       "grid_gap": null,
       "grid_row": null,
       "grid_template_areas": null,
       "grid_template_columns": null,
       "grid_template_rows": null,
       "height": null,
       "justify_content": null,
       "justify_items": null,
       "left": null,
       "margin": null,
       "max_height": null,
       "max_width": null,
       "min_height": null,
       "min_width": null,
       "object_fit": null,
       "object_position": null,
       "order": null,
       "overflow": null,
       "overflow_x": null,
       "overflow_y": null,
       "padding": null,
       "right": null,
       "top": null,
       "visibility": null,
       "width": null
      }
     },
     "1af1afb9bfc74aa395bb8df013e6ba3b": {
      "model_module": "@jupyter-widgets/controls",
      "model_module_version": "1.5.0",
      "model_name": "DropdownModel",
      "state": {
       "_dom_classes": [],
       "_model_module": "@jupyter-widgets/controls",
       "_model_module_version": "1.5.0",
       "_model_name": "DropdownModel",
       "_options_labels": [
        "-- (X) Uncertainties --",
        "alpha",
        "beta",
        "input_flow",
        "value_of_time",
        "unit_cost_expansion",
        "interest_rate",
        "yield_curve",
        "-- (L) Levers --",
        "expand_capacity",
        "amortization_period",
        "debt_type",
        "interest_rate_lock",
        "-- Constants --",
        "free_flow_time",
        "initial_capacity",
        "-- (M) Measures --",
        "no_build_travel_time",
        "build_travel_time",
        "time_savings",
        "value_of_time_savings",
        "net_benefits",
        "cost_of_capacity_expansion",
        "present_cost_expansion"
       ],
       "_view_count": null,
       "_view_module": "@jupyter-widgets/controls",
       "_view_module_version": "1.5.0",
       "_view_name": "DropdownView",
       "description": "",
       "description_tooltip": null,
       "disabled": false,
       "index": 9,
       "layout": "IPY_MODEL_4a4e50272a044685bbc09acf992eba29",
       "style": "IPY_MODEL_1cb1acb881c54f74b72ab1689c5ace24"
      }
     },
     "1b82d5bbef824dabbf1667fce4a0e94d": {
      "model_module": "@jupyter-widgets/controls",
      "model_module_version": "1.5.0",
      "model_name": "DescriptionStyleModel",
      "state": {
       "_model_module": "@jupyter-widgets/controls",
       "_model_module_version": "1.5.0",
       "_model_name": "DescriptionStyleModel",
       "_view_count": null,
       "_view_module": "@jupyter-widgets/base",
       "_view_module_version": "1.2.0",
       "_view_name": "StyleView",
       "description_width": ""
      }
     },
     "1c9fe4266ac449929a77afc218d0310d": {
      "model_module": "@jupyter-widgets/controls",
      "model_module_version": "1.5.0",
      "model_name": "HTMLModel",
      "state": {
       "_dom_classes": [],
       "_model_module": "@jupyter-widgets/controls",
       "_model_module_version": "1.5.0",
       "_model_name": "HTMLModel",
       "_view_count": null,
       "_view_module": "@jupyter-widgets/controls",
       "_view_module_version": "1.5.0",
       "_view_name": "HTMLView",
       "description": "",
       "description_tooltip": null,
       "layout": "IPY_MODEL_b3f370f5238e4e03b24c43320e14b992",
       "placeholder": "​",
       "style": "IPY_MODEL_d4e1b96495f74ef59fbcd6809fe14d83",
       "value": "<span title=\"input_flow\">Input Flow</span>"
      }
     },
     "1cb1acb881c54f74b72ab1689c5ace24": {
      "model_module": "@jupyter-widgets/controls",
      "model_module_version": "1.5.0",
      "model_name": "DescriptionStyleModel",
      "state": {
       "_model_module": "@jupyter-widgets/controls",
       "_model_module_version": "1.5.0",
       "_model_name": "DescriptionStyleModel",
       "_view_count": null,
       "_view_module": "@jupyter-widgets/base",
       "_view_module_version": "1.2.0",
       "_view_name": "StyleView",
       "description_width": ""
      }
     },
     "1ceb4e717ac24d95943d8f490fe358e6": {
      "model_module": "@jupyter-widgets/controls",
      "model_module_version": "1.5.0",
      "model_name": "DescriptionStyleModel",
      "state": {
       "_model_module": "@jupyter-widgets/controls",
       "_model_module_version": "1.5.0",
       "_model_name": "DescriptionStyleModel",
       "_view_count": null,
       "_view_module": "@jupyter-widgets/base",
       "_view_module_version": "1.2.0",
       "_view_name": "StyleView",
       "description_width": ""
      }
     },
     "1d4df92fd5fd4ce1ac17e71b6c18c16f": {
      "model_module": "@jupyter-widgets/base",
      "model_module_version": "1.2.0",
      "model_name": "LayoutModel",
      "state": {
       "_model_module": "@jupyter-widgets/base",
       "_model_module_version": "1.2.0",
       "_model_name": "LayoutModel",
       "_view_count": null,
       "_view_module": "@jupyter-widgets/base",
       "_view_module_version": "1.2.0",
       "_view_name": "LayoutView",
       "align_content": null,
       "align_items": null,
       "align_self": null,
       "border": null,
       "bottom": null,
       "display": null,
       "flex": null,
       "flex_flow": null,
       "grid_area": null,
       "grid_auto_columns": null,
       "grid_auto_flow": null,
       "grid_auto_rows": null,
       "grid_column": null,
       "grid_gap": null,
       "grid_row": null,
       "grid_template_areas": null,
       "grid_template_columns": null,
       "grid_template_rows": null,
       "height": null,
       "justify_content": null,
       "justify_items": null,
       "left": null,
       "margin": null,
       "max_height": null,
       "max_width": null,
       "min_height": null,
       "min_width": null,
       "object_fit": null,
       "object_position": null,
       "order": null,
       "overflow": null,
       "overflow_x": null,
       "overflow_y": null,
       "padding": null,
       "right": null,
       "top": null,
       "visibility": null,
       "width": null
      }
     },
     "1e580a099dbd4977a733a5561989f27e": {
      "model_module": "@jupyter-widgets/controls",
      "model_module_version": "1.5.0",
      "model_name": "DescriptionStyleModel",
      "state": {
       "_model_module": "@jupyter-widgets/controls",
       "_model_module_version": "1.5.0",
       "_model_name": "DescriptionStyleModel",
       "_view_count": null,
       "_view_module": "@jupyter-widgets/base",
       "_view_module_version": "1.2.0",
       "_view_name": "StyleView",
       "description_width": ""
      }
     },
     "1ef63cf9218b424baaa61603bd9b493d": {
      "model_module": "@jupyter-widgets/controls",
      "model_module_version": "1.5.0",
      "model_name": "BoxModel",
      "state": {
       "_dom_classes": [
        "btn-group"
       ],
       "_model_module": "@jupyter-widgets/controls",
       "_model_module_version": "1.5.0",
       "_model_name": "BoxModel",
       "_view_count": null,
       "_view_module": "@jupyter-widgets/controls",
       "_view_module_version": "1.5.0",
       "_view_name": "BoxView",
       "box_style": "",
       "children": [
        "IPY_MODEL_0f1d0e4782504e17a9dddafe1843a164",
        "IPY_MODEL_e8ca46ff731042d7b2df11ac08f7f72d",
        "IPY_MODEL_97b3af6ef61541df8165a38336622853",
        "IPY_MODEL_752f7a063d0846629313a0f4ccd5d6af"
       ],
       "layout": "IPY_MODEL_6714becd620647ff9bb2a4ba27580344"
      }
     },
     "213c58babdd3416ba1dd597ad53e9ccd": {
      "model_module": "@jupyter-widgets/controls",
      "model_module_version": "1.5.0",
      "model_name": "SliderStyleModel",
      "state": {
       "_model_module": "@jupyter-widgets/controls",
       "_model_module_version": "1.5.0",
       "_model_name": "SliderStyleModel",
       "_view_count": null,
       "_view_module": "@jupyter-widgets/base",
       "_view_module_version": "1.2.0",
       "_view_name": "StyleView",
       "description_width": "",
       "handle_color": null
      }
     },
     "2155d78011064f218f94f6d5b8cb4d38": {
      "model_module": "@jupyter-widgets/controls",
      "model_module_version": "1.5.0",
      "model_name": "FloatRangeSliderModel",
      "state": {
       "_dom_classes": [],
       "_model_module": "@jupyter-widgets/controls",
       "_model_module_version": "1.5.0",
       "_model_name": "FloatRangeSliderModel",
       "_view_count": null,
       "_view_module": "@jupyter-widgets/controls",
       "_view_module_version": "1.5.0",
       "_view_name": "FloatRangeSliderView",
       "continuous_update": false,
       "description": "",
       "description_tooltip": null,
       "disabled": false,
       "layout": "IPY_MODEL_891c93c06c964c19877e7f647975f9d2",
       "max": 14419.066090195183,
       "min": 0.07741083270841408,
       "orientation": "horizontal",
       "readout": true,
       "readout_format": ".3g",
       "step": 72.09494339681238,
       "style": "IPY_MODEL_a005df6db93c4675b03b712bb642460d",
       "value": [
        0.07741083270841408,
        14419.066090195183
       ]
      }
     },
     "22111b1b0ec84978b5c5ae13616de387": {
      "model_module": "@jupyter-widgets/controls",
      "model_module_version": "1.5.0",
      "model_name": "DescriptionStyleModel",
      "state": {
       "_model_module": "@jupyter-widgets/controls",
       "_model_module_version": "1.5.0",
       "_model_name": "DescriptionStyleModel",
       "_view_count": null,
       "_view_module": "@jupyter-widgets/base",
       "_view_module_version": "1.2.0",
       "_view_name": "StyleView",
       "description_width": ""
      }
     },
     "222d59a29cc84b96bb7fcca16a1a268f": {
      "model_module": "@jupyter-widgets/controls",
      "model_module_version": "1.5.0",
      "model_name": "FloatRangeSliderModel",
      "state": {
       "_dom_classes": [],
       "_model_module": "@jupyter-widgets/controls",
       "_model_module_version": "1.5.0",
       "_model_name": "FloatRangeSliderModel",
       "_view_count": null,
       "_view_module": "@jupyter-widgets/controls",
       "_view_module_version": "1.5.0",
       "_view_name": "FloatRangeSliderView",
       "continuous_update": false,
       "description": "",
       "description_tooltip": null,
       "disabled": false,
       "layout": "IPY_MODEL_891c93c06c964c19877e7f647975f9d2",
       "max": 145.0,
       "min": 95.0,
       "orientation": "horizontal",
       "readout": true,
       "readout_format": ".3g",
       "step": 0.25,
       "style": "IPY_MODEL_781b94e946ac41fba8d5f8f416e9a666",
       "value": [
        95.0,
        145.0
       ]
      }
     },
     "2234ba61c87e4398be8835be01181a50": {
      "model_module": "@jupyter-widgets/controls",
      "model_module_version": "1.5.0",
      "model_name": "DescriptionStyleModel",
      "state": {
       "_model_module": "@jupyter-widgets/controls",
       "_model_module_version": "1.5.0",
       "_model_name": "DescriptionStyleModel",
       "_view_count": null,
       "_view_module": "@jupyter-widgets/base",
       "_view_module_version": "1.2.0",
       "_view_name": "StyleView",
       "description_width": ""
      }
     },
     "22b279ca824f46a8af0ccbbd0cb18520": {
      "model_module": "@jupyter-widgets/base",
      "model_module_version": "1.2.0",
      "model_name": "LayoutModel",
      "state": {
       "_model_module": "@jupyter-widgets/base",
       "_model_module_version": "1.2.0",
       "_model_name": "LayoutModel",
       "_view_count": null,
       "_view_module": "@jupyter-widgets/base",
       "_view_module_version": "1.2.0",
       "_view_name": "LayoutView",
       "align_content": null,
       "align_items": "center",
       "align_self": null,
       "border": "1px solid #AAA",
       "bottom": null,
       "display": null,
       "flex": null,
       "flex_flow": null,
       "grid_area": null,
       "grid_auto_columns": null,
       "grid_auto_flow": null,
       "grid_auto_rows": null,
       "grid_column": null,
       "grid_gap": null,
       "grid_row": null,
       "grid_template_areas": null,
       "grid_template_columns": null,
       "grid_template_rows": null,
       "height": null,
       "justify_content": null,
       "justify_items": null,
       "left": null,
       "margin": "2px",
       "max_height": null,
       "max_width": null,
       "min_height": null,
       "min_width": null,
       "object_fit": null,
       "object_position": null,
       "order": null,
       "overflow": null,
       "overflow_x": null,
       "overflow_y": null,
       "padding": null,
       "right": null,
       "top": null,
       "visibility": null,
       "width": "270px"
      }
     },
     "2328a1394b63428a8c59c7460ca522bc": {
      "model_module": "@jupyter-widgets/base",
      "model_module_version": "1.2.0",
      "model_name": "LayoutModel",
      "state": {
       "_model_module": "@jupyter-widgets/base",
       "_model_module_version": "1.2.0",
       "_model_name": "LayoutModel",
       "_view_count": null,
       "_view_module": "@jupyter-widgets/base",
       "_view_module_version": "1.2.0",
       "_view_name": "LayoutView",
       "align_content": null,
       "align_items": "center",
       "align_self": null,
       "border": "1px solid #AAA",
       "bottom": null,
       "display": null,
       "flex": null,
       "flex_flow": null,
       "grid_area": null,
       "grid_auto_columns": null,
       "grid_auto_flow": null,
       "grid_auto_rows": null,
       "grid_column": null,
       "grid_gap": null,
       "grid_row": null,
       "grid_template_areas": null,
       "grid_template_columns": null,
       "grid_template_rows": null,
       "height": null,
       "justify_content": null,
       "justify_items": null,
       "left": null,
       "margin": "2px",
       "max_height": null,
       "max_width": null,
       "min_height": null,
       "min_width": null,
       "object_fit": null,
       "object_position": null,
       "order": null,
       "overflow": null,
       "overflow_x": null,
       "overflow_y": null,
       "padding": null,
       "right": null,
       "top": null,
       "visibility": null,
       "width": "270px"
      }
     },
     "23ef3de18bd045e49be65a36c1c05736": {
      "model_module": "@jupyter-widgets/base",
      "model_module_version": "1.2.0",
      "model_name": "LayoutModel",
      "state": {
       "_model_module": "@jupyter-widgets/base",
       "_model_module_version": "1.2.0",
       "_model_name": "LayoutModel",
       "_view_count": null,
       "_view_module": "@jupyter-widgets/base",
       "_view_module_version": "1.2.0",
       "_view_name": "LayoutView",
       "align_content": null,
       "align_items": null,
       "align_self": null,
       "border": null,
       "bottom": null,
       "display": null,
       "flex": null,
       "flex_flow": null,
       "grid_area": null,
       "grid_auto_columns": null,
       "grid_auto_flow": null,
       "grid_auto_rows": null,
       "grid_column": null,
       "grid_gap": null,
       "grid_row": null,
       "grid_template_areas": null,
       "grid_template_columns": null,
       "grid_template_rows": null,
       "height": null,
       "justify_content": null,
       "justify_items": null,
       "left": null,
       "margin": null,
       "max_height": null,
       "max_width": null,
       "min_height": null,
       "min_width": null,
       "object_fit": null,
       "object_position": null,
       "order": null,
       "overflow": null,
       "overflow_x": null,
       "overflow_y": null,
       "padding": null,
       "right": null,
       "top": null,
       "visibility": null,
       "width": "0px"
      }
     },
     "24783bb714294ea59cf69aa5997edccc": {
      "model_module": "@jupyter-widgets/controls",
      "model_module_version": "1.5.0",
      "model_name": "DescriptionStyleModel",
      "state": {
       "_model_module": "@jupyter-widgets/controls",
       "_model_module_version": "1.5.0",
       "_model_name": "DescriptionStyleModel",
       "_view_count": null,
       "_view_module": "@jupyter-widgets/base",
       "_view_module_version": "1.2.0",
       "_view_name": "StyleView",
       "description_width": ""
      }
     },
     "262eee41ed8841c0b9596062e69b49a6": {
      "model_module": "@jupyter-widgets/controls",
      "model_module_version": "1.5.0",
      "model_name": "HTMLModel",
      "state": {
       "_dom_classes": [],
       "_model_module": "@jupyter-widgets/controls",
       "_model_module_version": "1.5.0",
       "_model_name": "HTMLModel",
       "_view_count": null,
       "_view_module": "@jupyter-widgets/controls",
       "_view_module_version": "1.5.0",
       "_view_name": "HTMLView",
       "description": "",
       "description_tooltip": null,
       "layout": "IPY_MODEL_56dfa41bab41470da1f402260a2389b9",
       "placeholder": "​",
       "style": "IPY_MODEL_33a17caca954499b87da972b81a26125",
       "value": "<span style=\"font-weight:bold;font-size:150%\">303 Cases Selected out of 5,000 Total Cases</span>"
      }
     },
     "264902ad163e4b50968846ed14e328be": {
      "model_module": "@jupyter-widgets/controls",
      "model_module_version": "1.5.0",
      "model_name": "DescriptionStyleModel",
      "state": {
       "_model_module": "@jupyter-widgets/controls",
       "_model_module_version": "1.5.0",
       "_model_name": "DescriptionStyleModel",
       "_view_count": null,
       "_view_module": "@jupyter-widgets/base",
       "_view_module_version": "1.2.0",
       "_view_name": "StyleView",
       "description_width": ""
      }
     },
     "27b07e6add8e4d6e889960330c34cb7d": {
      "model_module": "@jupyter-widgets/controls",
      "model_module_version": "1.5.0",
      "model_name": "DescriptionStyleModel",
      "state": {
       "_model_module": "@jupyter-widgets/controls",
       "_model_module_version": "1.5.0",
       "_model_name": "DescriptionStyleModel",
       "_view_count": null,
       "_view_module": "@jupyter-widgets/base",
       "_view_module_version": "1.2.0",
       "_view_name": "StyleView",
       "description_width": ""
      }
     },
     "28517ff57b6c4aaebf0280a9ff73dc4c": {
      "model_module": "@jupyter-widgets/controls",
      "model_module_version": "1.5.0",
      "model_name": "HTMLModel",
      "state": {
       "_dom_classes": [],
       "_model_module": "@jupyter-widgets/controls",
       "_model_module_version": "1.5.0",
       "_model_name": "HTMLModel",
       "_view_count": null,
       "_view_module": "@jupyter-widgets/controls",
       "_view_module_version": "1.5.0",
       "_view_name": "HTMLView",
       "description": "",
       "description_tooltip": null,
       "layout": "IPY_MODEL_b45b2e05ef744c5c97084d3e6755bdd8",
       "placeholder": "​",
       "style": "IPY_MODEL_30e8625ae4da4c1f9fd5e822ab56b3c8",
       "value": "<span title=\"beta\">beta</span>"
      }
     },
     "2866b32bb0db4d8db900af2892cb0645": {
      "model_module": "@jupyter-widgets/controls",
      "model_module_version": "1.5.0",
      "model_name": "FloatRangeSliderModel",
      "state": {
       "_dom_classes": [],
       "_model_module": "@jupyter-widgets/controls",
       "_model_module_version": "1.5.0",
       "_model_name": "FloatRangeSliderModel",
       "_view_count": null,
       "_view_module": "@jupyter-widgets/controls",
       "_view_module_version": "1.5.0",
       "_view_name": "FloatRangeSliderView",
       "continuous_update": false,
       "description": "",
       "description_tooltip": null,
       "disabled": false,
       "layout": "IPY_MODEL_891c93c06c964c19877e7f647975f9d2",
       "max": 5.5,
       "min": 3.5,
       "orientation": "horizontal",
       "readout": true,
       "readout_format": ".3g",
       "step": 0.01,
       "style": "IPY_MODEL_4b40316414e04cc0bbfcdc6f50e5ea03",
       "value": [
        3.7201187427281197,
        5.5
       ]
      }
     },
     "287c9dc17f0d400391699c45ef421165": {
      "model_module": "@jupyter-widgets/controls",
      "model_module_version": "1.5.0",
      "model_name": "SliderStyleModel",
      "state": {
       "_model_module": "@jupyter-widgets/controls",
       "_model_module_version": "1.5.0",
       "_model_name": "SliderStyleModel",
       "_view_count": null,
       "_view_module": "@jupyter-widgets/base",
       "_view_module_version": "1.2.0",
       "_view_name": "StyleView",
       "description_width": "",
       "handle_color": null
      }
     },
     "29429fcb9b6d4350893d1480c971756d": {
      "model_module": "@jupyter-widgets/base",
      "model_module_version": "1.2.0",
      "model_name": "LayoutModel",
      "state": {
       "_model_module": "@jupyter-widgets/base",
       "_model_module_version": "1.2.0",
       "_model_name": "LayoutModel",
       "_view_count": null,
       "_view_module": "@jupyter-widgets/base",
       "_view_module_version": "1.2.0",
       "_view_name": "LayoutView",
       "align_content": null,
       "align_items": null,
       "align_self": null,
       "border": null,
       "bottom": null,
       "display": null,
       "flex": null,
       "flex_flow": null,
       "grid_area": null,
       "grid_auto_columns": null,
       "grid_auto_flow": null,
       "grid_auto_rows": null,
       "grid_column": null,
       "grid_gap": null,
       "grid_row": null,
       "grid_template_areas": null,
       "grid_template_columns": null,
       "grid_template_rows": null,
       "height": null,
       "justify_content": null,
       "justify_items": null,
       "left": null,
       "margin": null,
       "max_height": null,
       "max_width": null,
       "min_height": null,
       "min_width": null,
       "object_fit": null,
       "object_position": null,
       "order": null,
       "overflow": null,
       "overflow_x": null,
       "overflow_y": null,
       "padding": null,
       "right": null,
       "top": null,
       "visibility": null,
       "width": null
      }
     },
     "29620a05570b4dd1bca05a9862f5c83b": {
      "model_module": "@jupyter-widgets/base",
      "model_module_version": "1.2.0",
      "model_name": "LayoutModel",
      "state": {
       "_model_module": "@jupyter-widgets/base",
       "_model_module_version": "1.2.0",
       "_model_name": "LayoutModel",
       "_view_count": null,
       "_view_module": "@jupyter-widgets/base",
       "_view_module_version": "1.2.0",
       "_view_name": "LayoutView",
       "align_content": null,
       "align_items": "center",
       "align_self": null,
       "border": "1px solid #AAA",
       "bottom": null,
       "display": null,
       "flex": null,
       "flex_flow": null,
       "grid_area": null,
       "grid_auto_columns": null,
       "grid_auto_flow": null,
       "grid_auto_rows": null,
       "grid_column": null,
       "grid_gap": null,
       "grid_row": null,
       "grid_template_areas": null,
       "grid_template_columns": null,
       "grid_template_rows": null,
       "height": null,
       "justify_content": null,
       "justify_items": null,
       "left": null,
       "margin": "2px",
       "max_height": null,
       "max_width": null,
       "min_height": null,
       "min_width": null,
       "object_fit": null,
       "object_position": null,
       "order": null,
       "overflow": null,
       "overflow_x": null,
       "overflow_y": null,
       "padding": null,
       "right": null,
       "top": null,
       "visibility": null,
       "width": "270px"
      }
     },
     "2a1fd7cb5b504513b3c4d0a9faed4cef": {
      "buffers": [
       {
        "data": "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",
        "encoding": "base64",
        "path": [
         "_py2js_update",
         "style_data",
         "y",
         0,
         "buffer"
        ]
       }
      ],
      "model_module": "plotlywidget",
      "model_module_version": "^4.14.3",
      "model_name": "FigureModel",
      "state": {
       "_config": {
        "plotlyServerURL": "https://plot.ly"
       },
       "_data": [
        {
         "fill": "tozeroy",
         "marker": {
          "color": "rgb(31, 119, 180)"
         },
         "name": "Overall",
         "type": "scatter",
         "uid": "62619ad6-2165-43a0-85a0-d6c8ed0e91a1",
         "x": {
          "dtype": "float64",
          "shape": [
           250
          ]
         },
         "y": {
          "dtype": "float64",
          "shape": [
           250
          ]
         }
        },
        {
         "fill": "tozeroy",
         "marker": {
          "color": "rgb(255, 127, 14)"
         },
         "name": "Inside",
         "type": "scatter",
         "uid": "9fc0af0f-f0b5-4989-9588-bf2f08b017db",
         "x": {
          "dtype": "float64",
          "shape": [
           250
          ]
         },
         "y": {
          "dtype": "float64",
          "shape": [
           250
          ]
         }
        }
       ],
       "_dom_classes": [],
       "_js2py_layoutDelta": {},
       "_js2py_pointsCallback": {},
       "_js2py_relayout": {},
       "_js2py_restyle": {},
       "_js2py_traceDeltas": {},
       "_js2py_update": {},
       "_last_layout_edit_id": 1,
       "_last_trace_edit_id": 1,
       "_layout": {
        "height": 175,
        "margin": {
         "b": 10,
         "l": 10,
         "r": 10,
         "t": 10
        },
        "showlegend": false,
        "width": 300,
        "yaxis": {
         "showticklabels": false
        }
       },
       "_model_module": "plotlywidget",
       "_model_module_version": "^4.14.3",
       "_model_name": "FigureModel",
       "_py2js_addTraces": {},
       "_py2js_animate": {},
       "_py2js_deleteTraces": {},
       "_py2js_moveTraces": {},
       "_py2js_relayout": null,
       "_py2js_removeLayoutProps": {},
       "_py2js_removeTraceProps": {},
       "_py2js_restyle": {},
       "_py2js_update": null,
       "_view_count": 0,
       "_view_module": "plotlywidget",
       "_view_module_version": "^4.14.3",
       "_view_name": "FigureView"
      }
     },
     "2b05cb297afe4cbe9b6cbd2974b60cc3": {
      "model_module": "@jupyter-widgets/base",
      "model_module_version": "1.2.0",
      "model_name": "LayoutModel",
      "state": {
       "_model_module": "@jupyter-widgets/base",
       "_model_module_version": "1.2.0",
       "_model_name": "LayoutModel",
       "_view_count": null,
       "_view_module": "@jupyter-widgets/base",
       "_view_module_version": "1.2.0",
       "_view_name": "LayoutView",
       "align_content": null,
       "align_items": null,
       "align_self": null,
       "border": null,
       "bottom": null,
       "display": null,
       "flex": null,
       "flex_flow": null,
       "grid_area": null,
       "grid_auto_columns": null,
       "grid_auto_flow": null,
       "grid_auto_rows": null,
       "grid_column": null,
       "grid_gap": null,
       "grid_row": null,
       "grid_template_areas": null,
       "grid_template_columns": null,
       "grid_template_rows": null,
       "height": null,
       "justify_content": null,
       "justify_items": null,
       "left": null,
       "margin": null,
       "max_height": null,
       "max_width": null,
       "min_height": null,
       "min_width": null,
       "object_fit": null,
       "object_position": null,
       "order": null,
       "overflow": null,
       "overflow_x": null,
       "overflow_y": null,
       "padding": null,
       "right": null,
       "top": null,
       "visibility": null,
       "width": null
      }
     },
     "2b8ff201466f483aa66d1f76c051bd60": {
      "model_module": "@jupyter-widgets/controls",
      "model_module_version": "1.5.0",
      "model_name": "VBoxModel",
      "state": {
       "_dom_classes": [],
       "_model_module": "@jupyter-widgets/controls",
       "_model_module_version": "1.5.0",
       "_model_name": "VBoxModel",
       "_view_count": null,
       "_view_module": "@jupyter-widgets/controls",
       "_view_module_version": "1.5.0",
       "_view_name": "VBoxView",
       "box_style": "",
       "children": [
        "IPY_MODEL_4ca151b53cb9456a835e14cf30fe9144",
        "IPY_MODEL_2a1fd7cb5b504513b3c4d0a9faed4cef"
       ],
       "layout": "IPY_MODEL_5a7cc334c3c2456fba83d676369eecf3"
      }
     },
     "2e9b3c69ebfa41d89bd14e89433622c9": {
      "model_module": "@jupyter-widgets/controls",
      "model_module_version": "1.5.0",
      "model_name": "DescriptionStyleModel",
      "state": {
       "_model_module": "@jupyter-widgets/controls",
       "_model_module_version": "1.5.0",
       "_model_name": "DescriptionStyleModel",
       "_view_count": null,
       "_view_module": "@jupyter-widgets/base",
       "_view_module_version": "1.2.0",
       "_view_name": "StyleView",
       "description_width": ""
      }
     },
     "2f02a8f6b43744f1beb6953455ba0bb7": {
      "model_module": "@jupyter-widgets/controls",
      "model_module_version": "1.5.0",
      "model_name": "DescriptionStyleModel",
      "state": {
       "_model_module": "@jupyter-widgets/controls",
       "_model_module_version": "1.5.0",
       "_model_name": "DescriptionStyleModel",
       "_view_count": null,
       "_view_module": "@jupyter-widgets/base",
       "_view_module_version": "1.2.0",
       "_view_name": "StyleView",
       "description_width": ""
      }
     },
     "2f7c73b6399348609efe1cd068dbb034": {
      "model_module": "@jupyter-widgets/output",
      "model_module_version": "1.0.0",
      "model_name": "OutputModel",
      "state": {
       "_dom_classes": [],
       "_model_module": "@jupyter-widgets/output",
       "_model_module_version": "1.0.0",
       "_model_name": "OutputModel",
       "_view_count": null,
       "_view_module": "@jupyter-widgets/output",
       "_view_module_version": "1.0.0",
       "_view_name": "OutputView",
       "layout": "IPY_MODEL_1723e39b09b94377a61cf018d4ee89bc",
       "msg_id": "",
       "outputs": []
      }
     },
     "3048811ecd2a474b9194753b770f74f7": {
      "model_module": "@jupyter-widgets/base",
      "model_module_version": "1.2.0",
      "model_name": "LayoutModel",
      "state": {
       "_model_module": "@jupyter-widgets/base",
       "_model_module_version": "1.2.0",
       "_model_name": "LayoutModel",
       "_view_count": null,
       "_view_module": "@jupyter-widgets/base",
       "_view_module_version": "1.2.0",
       "_view_name": "LayoutView",
       "align_content": null,
       "align_items": null,
       "align_self": null,
       "border": null,
       "bottom": null,
       "display": null,
       "flex": null,
       "flex_flow": null,
       "grid_area": null,
       "grid_auto_columns": null,
       "grid_auto_flow": null,
       "grid_auto_rows": null,
       "grid_column": null,
       "grid_gap": null,
       "grid_row": null,
       "grid_template_areas": null,
       "grid_template_columns": null,
       "grid_template_rows": null,
       "height": null,
       "justify_content": null,
       "justify_items": null,
       "left": null,
       "margin": null,
       "max_height": null,
       "max_width": null,
       "min_height": null,
       "min_width": null,
       "object_fit": null,
       "object_position": null,
       "order": null,
       "overflow": null,
       "overflow_x": null,
       "overflow_y": null,
       "padding": null,
       "right": null,
       "top": null,
       "visibility": null,
       "width": null
      }
     },
     "30e8625ae4da4c1f9fd5e822ab56b3c8": {
      "model_module": "@jupyter-widgets/controls",
      "model_module_version": "1.5.0",
      "model_name": "DescriptionStyleModel",
      "state": {
       "_model_module": "@jupyter-widgets/controls",
       "_model_module_version": "1.5.0",
       "_model_name": "DescriptionStyleModel",
       "_view_count": null,
       "_view_module": "@jupyter-widgets/base",
       "_view_module_version": "1.2.0",
       "_view_name": "StyleView",
       "description_width": ""
      }
     },
     "321fdb4d6d00477580b869086631d233": {
      "model_module": "@jupyter-widgets/base",
      "model_module_version": "1.2.0",
      "model_name": "LayoutModel",
      "state": {
       "_model_module": "@jupyter-widgets/base",
       "_model_module_version": "1.2.0",
       "_model_name": "LayoutModel",
       "_view_count": null,
       "_view_module": "@jupyter-widgets/base",
       "_view_module_version": "1.2.0",
       "_view_name": "LayoutView",
       "align_content": null,
       "align_items": null,
       "align_self": null,
       "border": null,
       "bottom": null,
       "display": null,
       "flex": null,
       "flex_flow": "row wrap",
       "grid_area": null,
       "grid_auto_columns": null,
       "grid_auto_flow": null,
       "grid_auto_rows": null,
       "grid_column": null,
       "grid_gap": null,
       "grid_row": null,
       "grid_template_areas": null,
       "grid_template_columns": null,
       "grid_template_rows": null,
       "height": null,
       "justify_content": null,
       "justify_items": null,
       "left": null,
       "margin": null,
       "max_height": null,
       "max_width": null,
       "min_height": null,
       "min_width": null,
       "object_fit": null,
       "object_position": null,
       "order": null,
       "overflow": null,
       "overflow_x": null,
       "overflow_y": null,
       "padding": null,
       "right": null,
       "top": null,
       "visibility": null,
       "width": null
      }
     },
     "33a17caca954499b87da972b81a26125": {
      "model_module": "@jupyter-widgets/controls",
      "model_module_version": "1.5.0",
      "model_name": "DescriptionStyleModel",
      "state": {
       "_model_module": "@jupyter-widgets/controls",
       "_model_module_version": "1.5.0",
       "_model_name": "DescriptionStyleModel",
       "_view_count": null,
       "_view_module": "@jupyter-widgets/base",
       "_view_module_version": "1.2.0",
       "_view_name": "StyleView",
       "description_width": ""
      }
     },
     "34aff8a2af1b4c9084ad8c88bec28d35": {
      "model_module": "@jupyter-widgets/controls",
      "model_module_version": "1.5.0",
      "model_name": "DescriptionStyleModel",
      "state": {
       "_model_module": "@jupyter-widgets/controls",
       "_model_module_version": "1.5.0",
       "_model_name": "DescriptionStyleModel",
       "_view_count": null,
       "_view_module": "@jupyter-widgets/base",
       "_view_module_version": "1.2.0",
       "_view_name": "StyleView",
       "description_width": ""
      }
     },
     "351b0eeb9c594044a44b3872a172696f": {
      "buffers": [
       {
        "data": "POJNJEanYUA84k0kRqdhQDjiTSRGp2FAPOJNJEanYUA84k0kRqdhQDjiTSRGp2FAPOJNJEanYUA84k0kRqdhQDjiTSRGp2FAQOJNJEanYUA44k0kRqdhQDjiTSRGp2FAQOJNJEanYUA44k0kRqdhQDjiTSRGp2FAQOJNJEanYUBA4k0kRqdhQDDiTSRGp2FAQOJNJEanYUA44k0kRqdhQA==",
        "encoding": "base64",
        "path": [
         "_data",
         0,
         "width",
         "buffer"
        ]
       },
       {
        "data": "wAy7qZZgkMDxoGLKW1eMwGIoT0GK7YfA1K87uLiDg8CKblBezjN+wGx9KUwrYHXAoBgFdBAZacCQ2dw+KcdNwLBXLan3alRAEI7k+MHca0AoOJkOBMJ2QEQpwCCnlX9AMI1zGaU0hEDABYeidp6IQE5+mitICI1AbvtW2gy5kEC2t+Ce9e2SQP5zamPeIpVARDD0J8dXl0CM7H3sr4yZQA==",
        "encoding": "base64",
        "path": [
         "_data",
         0,
         "x",
         "buffer"
        ]
       },
       {
        "data": "POJNJEanYUA84k0kRqdhQDjiTSRGp2FAPOJNJEanYUA84k0kRqdhQDjiTSRGp2FAPOJNJEanYUA84k0kRqdhQDjiTSRGp2FAQOJNJEanYUA44k0kRqdhQDjiTSRGp2FAQOJNJEanYUA44k0kRqdhQDjiTSRGp2FAQOJNJEanYUBA4k0kRqdhQDDiTSRGp2FAQOJNJEanYUA44k0kRqdhQA==",
        "encoding": "base64",
        "path": [
         "_data",
         1,
         "width",
         "buffer"
        ]
       },
       {
        "data": "wAy7qZZgkMDxoGLKW1eMwGIoT0GK7YfA1K87uLiDg8CKblBezjN+wGx9KUwrYHXAoBgFdBAZacCQ2dw+KcdNwLBXLan3alRAEI7k+MHca0AoOJkOBMJ2QEQpwCCnlX9AMI1zGaU0hEDABYeidp6IQE5+mitICI1AbvtW2gy5kEC2t+Ce9e2SQP5zamPeIpVARDD0J8dXl0CM7H3sr4yZQA==",
        "encoding": "base64",
        "path": [
         "_data",
         1,
         "x",
         "buffer"
        ]
       }
      ],
      "model_module": "plotlywidget",
      "model_module_version": "^4.14.3",
      "model_name": "FigureModel",
      "state": {
       "_config": {
        "plotlyServerURL": "https://plot.ly"
       },
       "_data": [
        {
         "marker": {
          "color": "rgb(255, 127, 14)"
         },
         "name": "Inside",
         "type": "bar",
         "uid": "44886343-bbe7-466f-a446-7a1912d6f0f1",
         "width": {
          "dtype": "float64",
          "shape": [
           20
          ]
         },
         "x": {
          "dtype": "float64",
          "shape": [
           20
          ]
         },
         "y": [
          5,
          27,
          88,
          258,
          514,
          895,
          1130,
          1237,
          406,
          191,
          107,
          61,
          27,
          25,
          11,
          10,
          4,
          2,
          1,
          1
         ]
        },
        {
         "marker": {
          "color": "rgb(31, 119, 180)"
         },
         "name": "Outside",
         "type": "bar",
         "uid": "974da832-c3e9-4c36-87b8-1a3423f3beb5",
         "width": {
          "dtype": "float64",
          "shape": [
           20
          ]
         },
         "x": {
          "dtype": "float64",
          "shape": [
           20
          ]
         },
         "y": [
          0,
          0,
          0,
          0,
          0,
          0,
          0,
          0,
          0,
          0,
          0,
          0,
          0,
          0,
          0,
          0,
          0,
          0,
          0,
          0
         ]
        }
       ],
       "_dom_classes": [],
       "_js2py_layoutDelta": {},
       "_js2py_pointsCallback": {},
       "_js2py_relayout": {},
       "_js2py_restyle": {},
       "_js2py_traceDeltas": {},
       "_js2py_update": {},
       "_last_layout_edit_id": 3,
       "_last_trace_edit_id": 3,
       "_layout": {
        "barmode": "stack",
        "dragmode": "select",
        "height": 175,
        "margin": {
         "b": 10,
         "l": 10,
         "r": 10,
         "t": 10
        },
        "selectdirection": "h",
        "showlegend": false,
        "width": 300,
        "yaxis": {
         "showticklabels": false
        }
       },
       "_model_module": "plotlywidget",
       "_model_module_version": "^4.14.3",
       "_model_name": "FigureModel",
       "_py2js_addTraces": {},
       "_py2js_animate": {},
       "_py2js_deleteTraces": {},
       "_py2js_moveTraces": {},
       "_py2js_relayout": null,
       "_py2js_removeLayoutProps": {},
       "_py2js_removeTraceProps": {},
       "_py2js_restyle": {},
       "_py2js_update": null,
       "_view_count": 0,
       "_view_module": "plotlywidget",
       "_view_module_version": "^4.14.3",
       "_view_name": "FigureView"
      }
     },
     "3735ace008574970ac85315c9e31b7c4": {
      "model_module": "@jupyter-widgets/base",
      "model_module_version": "1.2.0",
      "model_name": "LayoutModel",
      "state": {
       "_model_module": "@jupyter-widgets/base",
       "_model_module_version": "1.2.0",
       "_model_name": "LayoutModel",
       "_view_count": null,
       "_view_module": "@jupyter-widgets/base",
       "_view_module_version": "1.2.0",
       "_view_name": "LayoutView",
       "align_content": null,
       "align_items": null,
       "align_self": null,
       "border": null,
       "bottom": null,
       "display": null,
       "flex": null,
       "flex_flow": null,
       "grid_area": null,
       "grid_auto_columns": null,
       "grid_auto_flow": null,
       "grid_auto_rows": null,
       "grid_column": null,
       "grid_gap": null,
       "grid_row": null,
       "grid_template_areas": null,
       "grid_template_columns": null,
       "grid_template_rows": null,
       "height": null,
       "justify_content": null,
       "justify_items": null,
       "left": null,
       "margin": null,
       "max_height": null,
       "max_width": null,
       "min_height": null,
       "min_width": null,
       "object_fit": null,
       "object_position": null,
       "order": null,
       "overflow": null,
       "overflow_x": null,
       "overflow_y": null,
       "padding": null,
       "right": null,
       "top": null,
       "visibility": null,
       "width": null
      }
     },
     "380f1a3807e34aa5b789c8b2e0c084de": {
      "model_module": "@jupyter-widgets/controls",
      "model_module_version": "1.5.0",
      "model_name": "HTMLModel",
      "state": {
       "_dom_classes": [],
       "_model_module": "@jupyter-widgets/controls",
       "_model_module_version": "1.5.0",
       "_model_name": "HTMLModel",
       "_view_count": null,
       "_view_module": "@jupyter-widgets/controls",
       "_view_module_version": "1.5.0",
       "_view_name": "HTMLView",
       "description": "",
       "description_tooltip": null,
       "layout": "IPY_MODEL_adffbd6690774c559cbbd8d0ae3bf7a3",
       "placeholder": "​",
       "style": "IPY_MODEL_be4d196c26ad4a1cb5475764643a33c1",
       "value": "<div style=\"line-height:125%;margin:9px 0px\">\n\t\t\tThe <span style=\"font-weight:bold;color:rgb(31, 119, 180)\">blue</span> bars\n\t\t\tdepict the unconditional frequency of performance measures in the data across\n\t\t\tall cases, while the <span style=\"font-weight:bold;color:rgb(255, 127, 14)\">orange</span> \n\t\t\tbars depict the frequency of performance measures conditional on the constraints.\n\t\t\t</div>"
      }
     },
     "3899bc4128544bca8be413ddc813cd33": {
      "model_module": "@jupyter-widgets/controls",
      "model_module_version": "1.5.0",
      "model_name": "VBoxModel",
      "state": {
       "_dom_classes": [],
       "_model_module": "@jupyter-widgets/controls",
       "_model_module_version": "1.5.0",
       "_model_name": "VBoxModel",
       "_view_count": null,
       "_view_module": "@jupyter-widgets/controls",
       "_view_module_version": "1.5.0",
       "_view_name": "VBoxView",
       "box_style": "",
       "children": [
        "IPY_MODEL_62c6f2db5ade4a9db76cbe2ea5a49fed",
        "IPY_MODEL_c36c403c340d413e92fb313d00cefac5",
        "IPY_MODEL_8b3b74b9ca514d6488ab469eb5f4ca74"
       ],
       "layout": "IPY_MODEL_dc74685d1fc5494a9ba21362e7c9709b"
      }
     },
     "393a9794e05e419092f6c9a23493f252": {
      "model_module": "@jupyter-widgets/controls",
      "model_module_version": "1.5.0",
      "model_name": "DescriptionModel",
      "state": {
       "_dom_classes": [],
       "_model_module": "@jupyter-widgets/controls",
       "_model_module_version": "1.5.0",
       "_model_name": "DescriptionModel",
       "_options_labels": [
        "GO Bond",
        "Rev Bond",
        "Paygo"
       ],
       "_view_count": null,
       "_view_module": "@jupyter-widgets/controls",
       "_view_module_version": "1.5.0",
       "_view_name": null,
       "description": "",
       "description_tooltip": null,
       "disabled": false,
       "index": [
        0,
        1,
        2
       ],
       "layout": "IPY_MODEL_1d4df92fd5fd4ce1ac17e71b6c18c16f",
       "style": "IPY_MODEL_2f02a8f6b43744f1beb6953455ba0bb7"
      }
     },
     "3a1992e7e92245059f96276b8ee232f0": {
      "model_module": "@jupyter-widgets/controls",
      "model_module_version": "1.5.0",
      "model_name": "HTMLModel",
      "state": {
       "_dom_classes": [],
       "_model_module": "@jupyter-widgets/controls",
       "_model_module_version": "1.5.0",
       "_model_name": "HTMLModel",
       "_view_count": null,
       "_view_module": "@jupyter-widgets/controls",
       "_view_module_version": "1.5.0",
       "_view_name": "HTMLView",
       "description": "",
       "description_tooltip": null,
       "layout": "IPY_MODEL_60036092cf074ffba5f7b1a633cd3dc3",
       "placeholder": "​",
       "style": "IPY_MODEL_ffc302a362074572abeaeae659e8a5ad",
       "value": "<span title=\"net_benefits\">Net Benefits</span>"
      }
     },
     "3a2a6e3cc5b14b0d9a4ee5cbe316d8aa": {
      "model_module": "@jupyter-widgets/controls",
      "model_module_version": "1.5.0",
      "model_name": "SliderStyleModel",
      "state": {
       "_model_module": "@jupyter-widgets/controls",
       "_model_module_version": "1.5.0",
       "_model_name": "SliderStyleModel",
       "_view_count": null,
       "_view_module": "@jupyter-widgets/base",
       "_view_module_version": "1.2.0",
       "_view_name": "StyleView",
       "description_width": "",
       "handle_color": null
      }
     },
     "3a9d375cfd834059bd4052f37e887f63": {
      "model_module": "@jupyter-widgets/controls",
      "model_module_version": "1.5.0",
      "model_name": "FloatRangeSliderModel",
      "state": {
       "_dom_classes": [],
       "_model_module": "@jupyter-widgets/controls",
       "_model_module_version": "1.5.0",
       "_model_name": "FloatRangeSliderModel",
       "_view_count": null,
       "_view_module": "@jupyter-widgets/controls",
       "_view_module_version": "1.5.0",
       "_view_name": "FloatRangeSliderView",
       "continuous_update": false,
       "description": "",
       "description_tooltip": null,
       "disabled": false,
       "layout": "IPY_MODEL_891c93c06c964c19877e7f647975f9d2",
       "max": 97.04887705565578,
       "min": 0.0006030320928971378,
       "orientation": "horizontal",
       "readout": true,
       "readout_format": ".3g",
       "step": 0.48524137011781443,
       "style": "IPY_MODEL_93d0b9c89ba14e6cb8c4a39643d8e9c4",
       "value": [
        0.0006030320928971378,
        97.04887705565578
       ]
      }
     },
     "3aa45e86b12c43f190d20de5ac93ce8d": {
      "model_module": "plotlywidget",
      "model_module_version": "^4.14.3",
      "model_name": "FigureModel",
      "state": {
       "_config": {
        "plotlyServerURL": "https://plot.ly"
       },
       "_data": [
        {
         "marker": {
          "color": "rgb(255, 127, 14)"
         },
         "name": "Inside",
         "type": "bar",
         "uid": "3e582485-5d75-44eb-9ab5-1f5ee456fa0a",
         "x": [
          "GO Bond",
          "Rev Bond",
          "Paygo"
         ],
         "y": [
          1666,
          1668,
          1666
         ]
        },
        {
         "marker": {
          "color": "rgb(31, 119, 180)"
         },
         "name": "Outside",
         "type": "bar",
         "uid": "4a283ea0-3b27-4dc5-aa2b-4a17a9deab4a",
         "x": [
          "GO Bond",
          "Rev Bond",
          "Paygo"
         ],
         "y": [
          0,
          0,
          0
         ]
        }
       ],
       "_dom_classes": [],
       "_js2py_layoutDelta": {},
       "_js2py_pointsCallback": {},
       "_js2py_relayout": {},
       "_js2py_restyle": {},
       "_js2py_traceDeltas": {},
       "_js2py_update": {},
       "_last_layout_edit_id": 3,
       "_last_trace_edit_id": 3,
       "_layout": {
        "barmode": "stack",
        "height": 175,
        "margin": {
         "b": 10,
         "l": 10,
         "r": 10,
         "t": 10
        },
        "showlegend": false,
        "width": 300,
        "yaxis": {
         "showticklabels": false
        }
       },
       "_model_module": "plotlywidget",
       "_model_module_version": "^4.14.3",
       "_model_name": "FigureModel",
       "_py2js_addTraces": {},
       "_py2js_animate": {},
       "_py2js_deleteTraces": {},
       "_py2js_moveTraces": {},
       "_py2js_relayout": null,
       "_py2js_removeLayoutProps": {},
       "_py2js_removeTraceProps": {},
       "_py2js_restyle": {},
       "_py2js_update": null,
       "_view_count": 0,
       "_view_module": "plotlywidget",
       "_view_module_version": "^4.14.3",
       "_view_name": "FigureView"
      }
     },
     "3af0998971a04659b0cb0212385fface": {
      "buffers": [
       {
        "data": "wIU93WySSD+ghT3dbJJIP8CFPd1skkg/wIU93WySSD+ghT3dbJJIP8CFPd1skkg/wIU93WySSD/AhT3dbJJIP8CFPd1skkg/wIU93WySSD+AhT3dbJJIP8CFPd1skkg/wIU93WySSD/AhT3dbJJIP8CFPd1skkg/gIU93WySSD/AhT3dbJJIP8CFPd1skkg/wIU93WySSD/AhT3dbJJIPw==",
        "encoding": "base64",
        "path": [
         "_data",
         0,
         "width",
         "buffer"
        ]
       },
       {
        "data": "eiV6MTKamT+oEWSYxV6aP9X9Tf9YI5s/A+o3Zuznmz8x1iHNf6ycP17CCzQTcZ0/jK71mqY1nj+6mt8BOvqeP+iGyWjNvp8/i7nZZ7BBoD+ir04b+qOgP7ilw85DBqE/z5s4go1ooT/mka0118qhP/2HIukgLaI/FH6XnGqPoj8qdAxQtPGiP0FqgQP+U6M/WGD2tke2oz9vVmtqkRikPw==",
        "encoding": "base64",
        "path": [
         "_data",
         0,
         "x",
         "buffer"
        ]
       },
       {
        "data": "wIU93WySSD+ghT3dbJJIP8CFPd1skkg/wIU93WySSD+ghT3dbJJIP8CFPd1skkg/wIU93WySSD/AhT3dbJJIP8CFPd1skkg/wIU93WySSD+AhT3dbJJIP8CFPd1skkg/wIU93WySSD/AhT3dbJJIP8CFPd1skkg/gIU93WySSD/AhT3dbJJIP8CFPd1skkg/wIU93WySSD/AhT3dbJJIPw==",
        "encoding": "base64",
        "path": [
         "_data",
         1,
         "width",
         "buffer"
        ]
       },
       {
        "data": "eiV6MTKamT+oEWSYxV6aP9X9Tf9YI5s/A+o3Zuznmz8x1iHNf6ycP17CCzQTcZ0/jK71mqY1nj+6mt8BOvqeP+iGyWjNvp8/i7nZZ7BBoD+ir04b+qOgP7ilw85DBqE/z5s4go1ooT/mka0118qhP/2HIukgLaI/FH6XnGqPoj8qdAxQtPGiP0FqgQP+U6M/WGD2tke2oz9vVmtqkRikPw==",
        "encoding": "base64",
        "path": [
         "_data",
         1,
         "x",
         "buffer"
        ]
       }
      ],
      "model_module": "plotlywidget",
      "model_module_version": "^4.14.3",
      "model_name": "FigureModel",
      "state": {
       "_config": {
        "plotlyServerURL": "https://plot.ly"
       },
       "_data": [
        {
         "marker": {
          "color": "rgb(255, 127, 14)"
         },
         "name": "Inside",
         "type": "bar",
         "uid": "cae19c76-350a-4d59-8d9c-4d225d16b2ed",
         "width": {
          "dtype": "float64",
          "shape": [
           20
          ]
         },
         "x": {
          "dtype": "float64",
          "shape": [
           20
          ]
         },
         "y": [
          251,
          250,
          250,
          249,
          251,
          249,
          250,
          250,
          250,
          251,
          249,
          250,
          250,
          250,
          251,
          250,
          249,
          250,
          250,
          250
         ]
        },
        {
         "marker": {
          "color": "rgb(31, 119, 180)"
         },
         "name": "Outside",
         "type": "bar",
         "uid": "32f21957-f6d9-487c-ab1b-7fac9e721bd8",
         "width": {
          "dtype": "float64",
          "shape": [
           20
          ]
         },
         "x": {
          "dtype": "float64",
          "shape": [
           20
          ]
         },
         "y": [
          0,
          0,
          0,
          0,
          0,
          0,
          0,
          0,
          0,
          0,
          0,
          0,
          0,
          0,
          0,
          0,
          0,
          0,
          0,
          0
         ]
        }
       ],
       "_dom_classes": [],
       "_js2py_layoutDelta": {},
       "_js2py_pointsCallback": {},
       "_js2py_relayout": {},
       "_js2py_restyle": {},
       "_js2py_traceDeltas": {},
       "_js2py_update": {},
       "_last_layout_edit_id": 3,
       "_last_trace_edit_id": 3,
       "_layout": {
        "barmode": "stack",
        "dragmode": "select",
        "height": 175,
        "margin": {
         "b": 10,
         "l": 10,
         "r": 10,
         "t": 10
        },
        "selectdirection": "h",
        "showlegend": false,
        "width": 300,
        "yaxis": {
         "showticklabels": false
        }
       },
       "_model_module": "plotlywidget",
       "_model_module_version": "^4.14.3",
       "_model_name": "FigureModel",
       "_py2js_addTraces": {},
       "_py2js_animate": {},
       "_py2js_deleteTraces": {},
       "_py2js_moveTraces": {},
       "_py2js_relayout": null,
       "_py2js_removeLayoutProps": {},
       "_py2js_removeTraceProps": {},
       "_py2js_restyle": {},
       "_py2js_update": null,
       "_view_count": 0,
       "_view_module": "plotlywidget",
       "_view_module_version": "^4.14.3",
       "_view_name": "FigureView"
      }
     },
     "3cbdf9b477ca48b6a28af3aa6f735ccd": {
      "model_module": "@jupyter-widgets/base",
      "model_module_version": "1.2.0",
      "model_name": "LayoutModel",
      "state": {
       "_model_module": "@jupyter-widgets/base",
       "_model_module_version": "1.2.0",
       "_model_name": "LayoutModel",
       "_view_count": null,
       "_view_module": "@jupyter-widgets/base",
       "_view_module_version": "1.2.0",
       "_view_name": "LayoutView",
       "align_content": null,
       "align_items": null,
       "align_self": null,
       "border": null,
       "bottom": null,
       "display": null,
       "flex": null,
       "flex_flow": null,
       "grid_area": null,
       "grid_auto_columns": null,
       "grid_auto_flow": null,
       "grid_auto_rows": null,
       "grid_column": null,
       "grid_gap": null,
       "grid_row": null,
       "grid_template_areas": null,
       "grid_template_columns": null,
       "grid_template_rows": null,
       "height": null,
       "justify_content": null,
       "justify_items": null,
       "left": null,
       "margin": null,
       "max_height": null,
       "max_width": null,
       "min_height": null,
       "min_width": null,
       "object_fit": null,
       "object_position": null,
       "order": null,
       "overflow": null,
       "overflow_x": null,
       "overflow_y": null,
       "padding": null,
       "right": null,
       "top": null,
       "visibility": null,
       "width": null
      }
     },
     "3d44f1d9c2cd4ccebeb7728b91214ca5": {
      "model_module": "@jupyter-widgets/controls",
      "model_module_version": "1.5.0",
      "model_name": "DescriptionStyleModel",
      "state": {
       "_model_module": "@jupyter-widgets/controls",
       "_model_module_version": "1.5.0",
       "_model_name": "DescriptionStyleModel",
       "_view_count": null,
       "_view_module": "@jupyter-widgets/base",
       "_view_module_version": "1.2.0",
       "_view_name": "StyleView",
       "description_width": ""
      }
     },
     "3d89a35fa793436aadf76ce4e66e10df": {
      "model_module": "@jupyter-widgets/controls",
      "model_module_version": "1.5.0",
      "model_name": "HBoxModel",
      "state": {
       "_dom_classes": [],
       "_model_module": "@jupyter-widgets/controls",
       "_model_module_version": "1.5.0",
       "_model_name": "HBoxModel",
       "_view_count": null,
       "_view_module": "@jupyter-widgets/controls",
       "_view_module_version": "1.5.0",
       "_view_name": "HBoxView",
       "box_style": "",
       "children": [
        "IPY_MODEL_44de0267846c49f8accffc1710edae52",
        "IPY_MODEL_8bc5b85aff09402598e7c340fe3723a6"
       ],
       "layout": "IPY_MODEL_a8c159fbfe684d1fa3fb0bde67cbcbf4"
      }
     },
     "3e9b758754564cfd9107dae5ec65b588": {
      "buffers": [
       {
        "data": "IkLAav0GW0AiQsBq/QZbQCRCwGr9BltAIELAav0GW0AgQsBq/QZbQChCwGr9BltAIELAav0GW0AgQsBq/QZbQCBCwGr9BltAGELAav0GW0AgQsBq/QZbQDBCwGr9BltAIELAav0GW0AgQsBq/QZbQCBCwGr9BltAIELAav0GW0AgQsBq/QZbQCBCwGr9BltAMELAav0GW0AgQsBq/QZbQA==",
        "encoding": "base64",
        "path": [
         "_data",
         0,
         "width",
         "buffer"
        ]
       },
       {
        "data": "E/nSF6Cpiz+6AMG32gdbQG6hQBFsB2tAQGFQY3VFdEDIcQC+NAd7QChBWAx65IBAbUmwuVlFhECxUQhnOaaHQPVZYBQZB4tAOWK4wfhnjkA+NYg3bOSQQGA5NA7clJJAgz3g5EtFlEClQYy7u/WVQMdFOJIrppdA6UnkaJtWmUALTpA/CwebQC1SPBZ7t5xAT1bo7OpnnkA5LcphLQygQA==",
        "encoding": "base64",
        "path": [
         "_data",
         0,
         "x",
         "buffer"
        ]
       },
       {
        "data": "IkLAav0GW0AiQsBq/QZbQCRCwGr9BltAIELAav0GW0AgQsBq/QZbQChCwGr9BltAIELAav0GW0AgQsBq/QZbQCBCwGr9BltAGELAav0GW0AgQsBq/QZbQDBCwGr9BltAIELAav0GW0AgQsBq/QZbQCBCwGr9BltAIELAav0GW0AgQsBq/QZbQCBCwGr9BltAMELAav0GW0AgQsBq/QZbQA==",
        "encoding": "base64",
        "path": [
         "_data",
         1,
         "width",
         "buffer"
        ]
       },
       {
        "data": "E/nSF6Cpiz+6AMG32gdbQG6hQBFsB2tAQGFQY3VFdEDIcQC+NAd7QChBWAx65IBAbUmwuVlFhECxUQhnOaaHQPVZYBQZB4tAOWK4wfhnjkA+NYg3bOSQQGA5NA7clJJAgz3g5EtFlEClQYy7u/WVQMdFOJIrppdA6UnkaJtWmUALTpA/CwebQC1SPBZ7t5xAT1bo7OpnnkA5LcphLQygQA==",
        "encoding": "base64",
        "path": [
         "_data",
         1,
         "x",
         "buffer"
        ]
       }
      ],
      "model_module": "plotlywidget",
      "model_module_version": "^4.14.3",
      "model_name": "FigureModel",
      "state": {
       "_config": {
        "plotlyServerURL": "https://plot.ly"
       },
       "_data": [
        {
         "marker": {
          "color": "rgb(255, 127, 14)"
         },
         "name": "Inside",
         "type": "bar",
         "uid": "6dad6747-7517-4ea0-a422-1daca1b1d27f",
         "width": {
          "dtype": "float64",
          "shape": [
           20
          ]
         },
         "x": {
          "dtype": "float64",
          "shape": [
           20
          ]
         },
         "y": [
          2642,
          927,
          503,
          305,
          224,
          127,
          97,
          47,
          49,
          26,
          12,
          13,
          12,
          6,
          5,
          3,
          0,
          0,
          1,
          1
         ]
        },
        {
         "marker": {
          "color": "rgb(31, 119, 180)"
         },
         "name": "Outside",
         "type": "bar",
         "uid": "9cd862d9-2a35-41a1-b1ef-917d49ad6e7c",
         "width": {
          "dtype": "float64",
          "shape": [
           20
          ]
         },
         "x": {
          "dtype": "float64",
          "shape": [
           20
          ]
         },
         "y": [
          0,
          0,
          0,
          0,
          0,
          0,
          0,
          0,
          0,
          0,
          0,
          0,
          0,
          0,
          0,
          0,
          0,
          0,
          0,
          0
         ]
        }
       ],
       "_dom_classes": [],
       "_js2py_layoutDelta": {},
       "_js2py_pointsCallback": {},
       "_js2py_relayout": {},
       "_js2py_restyle": {},
       "_js2py_traceDeltas": {},
       "_js2py_update": {},
       "_last_layout_edit_id": 3,
       "_last_trace_edit_id": 3,
       "_layout": {
        "barmode": "stack",
        "dragmode": "select",
        "height": 175,
        "margin": {
         "b": 10,
         "l": 10,
         "r": 10,
         "t": 10
        },
        "selectdirection": "h",
        "showlegend": false,
        "width": 300,
        "yaxis": {
         "showticklabels": false
        }
       },
       "_model_module": "plotlywidget",
       "_model_module_version": "^4.14.3",
       "_model_name": "FigureModel",
       "_py2js_addTraces": {},
       "_py2js_animate": {},
       "_py2js_deleteTraces": {},
       "_py2js_moveTraces": {},
       "_py2js_relayout": null,
       "_py2js_removeLayoutProps": {},
       "_py2js_removeTraceProps": {},
       "_py2js_restyle": {},
       "_py2js_update": null,
       "_view_count": 0,
       "_view_module": "plotlywidget",
       "_view_module_version": "^4.14.3",
       "_view_name": "FigureView"
      }
     },
     "3f56b32b0eed49cba9b0b3433fd24f3b": {
      "model_module": "@jupyter-widgets/controls",
      "model_module_version": "1.5.0",
      "model_name": "DropdownModel",
      "state": {
       "_dom_classes": [],
       "_model_module": "@jupyter-widgets/controls",
       "_model_module_version": "1.5.0",
       "_model_name": "DropdownModel",
       "_options_labels": [
        "None",
        "Box",
        "Expr",
        "PRIM Target"
       ],
       "_view_count": null,
       "_view_module": "@jupyter-widgets/controls",
       "_view_module_version": "1.5.0",
       "_view_name": "DropdownView",
       "description": "",
       "description_tooltip": null,
       "disabled": false,
       "index": 1,
       "layout": "IPY_MODEL_29429fcb9b6d4350893d1480c971756d",
       "style": "IPY_MODEL_49a59de170964c0e9c8dd8ee1d12caf3"
      }
     },
     "3f961d7b8ae946cd84826b64f657dbd0": {
      "model_module": "@jupyter-widgets/base",
      "model_module_version": "1.2.0",
      "model_name": "LayoutModel",
      "state": {
       "_model_module": "@jupyter-widgets/base",
       "_model_module_version": "1.2.0",
       "_model_name": "LayoutModel",
       "_view_count": null,
       "_view_module": "@jupyter-widgets/base",
       "_view_module_version": "1.2.0",
       "_view_name": "LayoutView",
       "align_content": null,
       "align_items": null,
       "align_self": null,
       "border": null,
       "bottom": null,
       "display": null,
       "flex": null,
       "flex_flow": null,
       "grid_area": null,
       "grid_auto_columns": null,
       "grid_auto_flow": null,
       "grid_auto_rows": null,
       "grid_column": null,
       "grid_gap": null,
       "grid_row": null,
       "grid_template_areas": null,
       "grid_template_columns": null,
       "grid_template_rows": null,
       "height": null,
       "justify_content": null,
       "justify_items": null,
       "left": null,
       "margin": null,
       "max_height": null,
       "max_width": null,
       "min_height": null,
       "min_width": null,
       "object_fit": null,
       "object_position": null,
       "order": null,
       "overflow": null,
       "overflow_x": null,
       "overflow_y": null,
       "padding": null,
       "right": null,
       "top": null,
       "visibility": null,
       "width": null
      }
     },
     "408448be45de419584e288f037ac1a93": {
      "model_module": "@jupyter-widgets/base",
      "model_module_version": "1.2.0",
      "model_name": "LayoutModel",
      "state": {
       "_model_module": "@jupyter-widgets/base",
       "_model_module_version": "1.2.0",
       "_model_name": "LayoutModel",
       "_view_count": null,
       "_view_module": "@jupyter-widgets/base",
       "_view_module_version": "1.2.0",
       "_view_name": "LayoutView",
       "align_content": null,
       "align_items": "center",
       "align_self": null,
       "border": "1px solid #AAA",
       "bottom": null,
       "display": null,
       "flex": null,
       "flex_flow": null,
       "grid_area": null,
       "grid_auto_columns": null,
       "grid_auto_flow": null,
       "grid_auto_rows": null,
       "grid_column": null,
       "grid_gap": null,
       "grid_row": null,
       "grid_template_areas": null,
       "grid_template_columns": null,
       "grid_template_rows": null,
       "height": null,
       "justify_content": null,
       "justify_items": null,
       "left": null,
       "margin": "2px",
       "max_height": null,
       "max_width": null,
       "min_height": null,
       "min_width": null,
       "object_fit": null,
       "object_position": null,
       "order": null,
       "overflow": null,
       "overflow_x": null,
       "overflow_y": null,
       "padding": null,
       "right": null,
       "top": null,
       "visibility": null,
       "width": "270px"
      }
     },
     "40d8db58eca24e309c8d52eacc061864": {
      "model_module": "@jupyter-widgets/base",
      "model_module_version": "1.2.0",
      "model_name": "LayoutModel",
      "state": {
       "_model_module": "@jupyter-widgets/base",
       "_model_module_version": "1.2.0",
       "_model_name": "LayoutModel",
       "_view_count": null,
       "_view_module": "@jupyter-widgets/base",
       "_view_module_version": "1.2.0",
       "_view_name": "LayoutView",
       "align_content": null,
       "align_items": null,
       "align_self": null,
       "border": null,
       "bottom": null,
       "display": null,
       "flex": null,
       "flex_flow": null,
       "grid_area": null,
       "grid_auto_columns": null,
       "grid_auto_flow": null,
       "grid_auto_rows": null,
       "grid_column": null,
       "grid_gap": null,
       "grid_row": null,
       "grid_template_areas": null,
       "grid_template_columns": null,
       "grid_template_rows": null,
       "height": null,
       "justify_content": null,
       "justify_items": null,
       "left": null,
       "margin": null,
       "max_height": null,
       "max_width": null,
       "min_height": null,
       "min_width": null,
       "object_fit": null,
       "object_position": null,
       "order": null,
       "overflow": null,
       "overflow_x": null,
       "overflow_y": null,
       "padding": null,
       "right": null,
       "top": null,
       "visibility": null,
       "width": null
      }
     },
     "40d98b0846dd49c489414dc444087575": {
      "model_module": "@jupyter-widgets/base",
      "model_module_version": "1.2.0",
      "model_name": "LayoutModel",
      "state": {
       "_model_module": "@jupyter-widgets/base",
       "_model_module_version": "1.2.0",
       "_model_name": "LayoutModel",
       "_view_count": null,
       "_view_module": "@jupyter-widgets/base",
       "_view_module_version": "1.2.0",
       "_view_name": "LayoutView",
       "align_content": null,
       "align_items": null,
       "align_self": null,
       "border": null,
       "bottom": null,
       "display": null,
       "flex": null,
       "flex_flow": null,
       "grid_area": null,
       "grid_auto_columns": null,
       "grid_auto_flow": null,
       "grid_auto_rows": null,
       "grid_column": null,
       "grid_gap": null,
       "grid_row": null,
       "grid_template_areas": null,
       "grid_template_columns": null,
       "grid_template_rows": null,
       "height": null,
       "justify_content": null,
       "justify_items": null,
       "left": null,
       "margin": null,
       "max_height": null,
       "max_width": null,
       "min_height": null,
       "min_width": null,
       "object_fit": null,
       "object_position": null,
       "order": null,
       "overflow": null,
       "overflow_x": null,
       "overflow_y": null,
       "padding": null,
       "right": null,
       "top": null,
       "visibility": null,
       "width": null
      }
     },
     "41217e320b8c453695ff3ea3c54a4ea1": {
      "model_module": "@jupyter-widgets/base",
      "model_module_version": "1.2.0",
      "model_name": "LayoutModel",
      "state": {
       "_model_module": "@jupyter-widgets/base",
       "_model_module_version": "1.2.0",
       "_model_name": "LayoutModel",
       "_view_count": null,
       "_view_module": "@jupyter-widgets/base",
       "_view_module_version": "1.2.0",
       "_view_name": "LayoutView",
       "align_content": null,
       "align_items": null,
       "align_self": null,
       "border": null,
       "bottom": null,
       "display": null,
       "flex": null,
       "flex_flow": null,
       "grid_area": null,
       "grid_auto_columns": null,
       "grid_auto_flow": null,
       "grid_auto_rows": null,
       "grid_column": null,
       "grid_gap": null,
       "grid_row": null,
       "grid_template_areas": null,
       "grid_template_columns": null,
       "grid_template_rows": null,
       "height": null,
       "justify_content": null,
       "justify_items": null,
       "left": null,
       "margin": null,
       "max_height": null,
       "max_width": null,
       "min_height": null,
       "min_width": null,
       "object_fit": null,
       "object_position": null,
       "order": null,
       "overflow": null,
       "overflow_x": null,
       "overflow_y": null,
       "padding": null,
       "right": null,
       "top": null,
       "visibility": null,
       "width": null
      }
     },
     "4153ad8838464250a800ed13c23bc721": {
      "model_module": "@jupyter-widgets/base",
      "model_module_version": "1.2.0",
      "model_name": "LayoutModel",
      "state": {
       "_model_module": "@jupyter-widgets/base",
       "_model_module_version": "1.2.0",
       "_model_name": "LayoutModel",
       "_view_count": null,
       "_view_module": "@jupyter-widgets/base",
       "_view_module_version": "1.2.0",
       "_view_name": "LayoutView",
       "align_content": null,
       "align_items": null,
       "align_self": null,
       "border": null,
       "bottom": null,
       "display": null,
       "flex": null,
       "flex_flow": null,
       "grid_area": null,
       "grid_auto_columns": null,
       "grid_auto_flow": null,
       "grid_auto_rows": null,
       "grid_column": null,
       "grid_gap": null,
       "grid_row": null,
       "grid_template_areas": null,
       "grid_template_columns": null,
       "grid_template_rows": null,
       "height": null,
       "justify_content": null,
       "justify_items": null,
       "left": null,
       "margin": null,
       "max_height": null,
       "max_width": null,
       "min_height": null,
       "min_width": null,
       "object_fit": null,
       "object_position": null,
       "order": null,
       "overflow": null,
       "overflow_x": null,
       "overflow_y": null,
       "padding": null,
       "right": null,
       "top": null,
       "visibility": null,
       "width": null
      }
     },
     "42227906125f4004be8acc86eb0574ca": {
      "model_module": "@jupyter-widgets/controls",
      "model_module_version": "1.5.0",
      "model_name": "DescriptionStyleModel",
      "state": {
       "_model_module": "@jupyter-widgets/controls",
       "_model_module_version": "1.5.0",
       "_model_name": "DescriptionStyleModel",
       "_view_count": null,
       "_view_module": "@jupyter-widgets/base",
       "_view_module_version": "1.2.0",
       "_view_name": "StyleView",
       "description_width": ""
      }
     },
     "423d3a7a070d48a4bcb539d4d22f8f13": {
      "model_module": "@jupyter-widgets/controls",
      "model_module_version": "1.5.0",
      "model_name": "SliderStyleModel",
      "state": {
       "_model_module": "@jupyter-widgets/controls",
       "_model_module_version": "1.5.0",
       "_model_name": "SliderStyleModel",
       "_view_count": null,
       "_view_module": "@jupyter-widgets/base",
       "_view_module_version": "1.2.0",
       "_view_name": "StyleView",
       "description_width": "",
       "handle_color": null
      }
     },
     "42557ede9860404982e9fa0f336ab3c0": {
      "model_module": "@jupyter-widgets/controls",
      "model_module_version": "1.5.0",
      "model_name": "LabelModel",
      "state": {
       "_dom_classes": [],
       "_model_module": "@jupyter-widgets/controls",
       "_model_module_version": "1.5.0",
       "_model_name": "LabelModel",
       "_view_count": null,
       "_view_module": "@jupyter-widgets/controls",
       "_view_module_version": "1.5.0",
       "_view_name": "LabelView",
       "description": "",
       "description_tooltip": null,
       "layout": "IPY_MODEL_02a3510a96394282b9a922659598803e",
       "placeholder": "​",
       "style": "IPY_MODEL_73ae87133da84de69d6fdaf8164ae36a",
       "value": "Selection"
      }
     },
     "42e2cf1fc66c419c975ca928d9379601": {
      "model_module": "@jupyter-widgets/controls",
      "model_module_version": "1.5.0",
      "model_name": "DescriptionStyleModel",
      "state": {
       "_model_module": "@jupyter-widgets/controls",
       "_model_module_version": "1.5.0",
       "_model_name": "DescriptionStyleModel",
       "_view_count": null,
       "_view_module": "@jupyter-widgets/base",
       "_view_module_version": "1.2.0",
       "_view_name": "StyleView",
       "description_width": ""
      }
     },
     "43642964b90641c0ac0f3c60f926dc8f": {
      "model_module": "@jupyter-widgets/controls",
      "model_module_version": "1.5.0",
      "model_name": "BoxModel",
      "state": {
       "_dom_classes": [
        "btn-group"
       ],
       "_model_module": "@jupyter-widgets/controls",
       "_model_module_version": "1.5.0",
       "_model_name": "BoxModel",
       "_view_count": null,
       "_view_module": "@jupyter-widgets/controls",
       "_view_module_version": "1.5.0",
       "_view_name": "BoxView",
       "box_style": "",
       "children": [
        "IPY_MODEL_a43ddc4d1c1a40fbb00fcd0b3a241f69",
        "IPY_MODEL_abdc65dbfee54f35a036326762e99412",
        "IPY_MODEL_d9caae37e96645c4bbc8c988b6f2570b"
       ],
       "layout": "IPY_MODEL_6714becd620647ff9bb2a4ba27580344"
      }
     },
     "44de0267846c49f8accffc1710edae52": {
      "model_module": "@jupyter-widgets/controls",
      "model_module_version": "1.5.0",
      "model_name": "VBoxModel",
      "state": {
       "_dom_classes": [],
       "_model_module": "@jupyter-widgets/controls",
       "_model_module_version": "1.5.0",
       "_model_name": "VBoxModel",
       "_view_count": null,
       "_view_module": "@jupyter-widgets/controls",
       "_view_module_version": "1.5.0",
       "_view_name": "VBoxView",
       "box_style": "",
       "children": [
        "IPY_MODEL_107e3259ba2e491fa11b841ee22bd5c7",
        "IPY_MODEL_b653bae9a8fd4a05b90dc9ea7485b745"
       ],
       "layout": "IPY_MODEL_773935dba17047bbb89931e9e37f1383"
      }
     },
     "45c0bde3262d405c9c52486bdb47be3f": {
      "model_module": "@jupyter-widgets/controls",
      "model_module_version": "1.5.0",
      "model_name": "HTMLModel",
      "state": {
       "_dom_classes": [],
       "_model_module": "@jupyter-widgets/controls",
       "_model_module_version": "1.5.0",
       "_model_name": "HTMLModel",
       "_view_count": null,
       "_view_module": "@jupyter-widgets/controls",
       "_view_module_version": "1.5.0",
       "_view_name": "HTMLView",
       "description": "",
       "description_tooltip": null,
       "layout": "IPY_MODEL_c31433c67e674dcb8509bacaa63f9252",
       "placeholder": "​",
       "style": "IPY_MODEL_1463261643d14bfca9fdea62229a389e",
       "value": "<span title=\"expand_capacity\">Expand Amount</span>"
      }
     },
     "47646597d72e465e9bf75ad998dcd694": {
      "model_module": "@jupyter-widgets/base",
      "model_module_version": "1.2.0",
      "model_name": "LayoutModel",
      "state": {
       "_model_module": "@jupyter-widgets/base",
       "_model_module_version": "1.2.0",
       "_model_name": "LayoutModel",
       "_view_count": null,
       "_view_module": "@jupyter-widgets/base",
       "_view_module_version": "1.2.0",
       "_view_name": "LayoutView",
       "align_content": null,
       "align_items": null,
       "align_self": null,
       "border": null,
       "bottom": null,
       "display": null,
       "flex": null,
       "flex_flow": null,
       "grid_area": null,
       "grid_auto_columns": null,
       "grid_auto_flow": null,
       "grid_auto_rows": null,
       "grid_column": null,
       "grid_gap": null,
       "grid_row": null,
       "grid_template_areas": null,
       "grid_template_columns": null,
       "grid_template_rows": null,
       "height": null,
       "justify_content": null,
       "justify_items": null,
       "left": null,
       "margin": "1",
       "max_height": null,
       "max_width": null,
       "min_height": null,
       "min_width": null,
       "object_fit": null,
       "object_position": null,
       "order": null,
       "overflow": null,
       "overflow_x": null,
       "overflow_y": null,
       "padding": null,
       "right": null,
       "top": null,
       "visibility": null,
       "width": "auto"
      }
     },
     "479169ec74f840f790dc386ee62026ae": {
      "model_module": "@jupyter-widgets/controls",
      "model_module_version": "1.5.0",
      "model_name": "VBoxModel",
      "state": {
       "_dom_classes": [],
       "_model_module": "@jupyter-widgets/controls",
       "_model_module_version": "1.5.0",
       "_model_name": "VBoxModel",
       "_view_count": null,
       "_view_module": "@jupyter-widgets/controls",
       "_view_module_version": "1.5.0",
       "_view_name": "VBoxView",
       "box_style": "",
       "children": [
        "IPY_MODEL_fa7266657100443eab377360525daeed",
        "IPY_MODEL_959dc52534e6424da6bca14d38d8acd8"
       ],
       "layout": "IPY_MODEL_ea2ab532733a4a61ba2b3e89b825b625"
      }
     },
     "47ac1c54a43d4faa98b5c1fd1206d4a8": {
      "model_module": "@jupyter-widgets/base",
      "model_module_version": "1.2.0",
      "model_name": "LayoutModel",
      "state": {
       "_model_module": "@jupyter-widgets/base",
       "_model_module_version": "1.2.0",
       "_model_name": "LayoutModel",
       "_view_count": null,
       "_view_module": "@jupyter-widgets/base",
       "_view_module_version": "1.2.0",
       "_view_name": "LayoutView",
       "align_content": null,
       "align_items": null,
       "align_self": null,
       "border": null,
       "bottom": null,
       "display": null,
       "flex": null,
       "flex_flow": null,
       "grid_area": null,
       "grid_auto_columns": null,
       "grid_auto_flow": null,
       "grid_auto_rows": null,
       "grid_column": null,
       "grid_gap": null,
       "grid_row": null,
       "grid_template_areas": null,
       "grid_template_columns": null,
       "grid_template_rows": null,
       "height": null,
       "justify_content": null,
       "justify_items": null,
       "left": null,
       "margin": null,
       "max_height": null,
       "max_width": null,
       "min_height": null,
       "min_width": null,
       "object_fit": null,
       "object_position": null,
       "order": null,
       "overflow": null,
       "overflow_x": null,
       "overflow_y": null,
       "padding": null,
       "right": null,
       "top": null,
       "visibility": null,
       "width": null
      }
     },
     "48de60963b904daeba6bb85fb6458e36": {
      "buffers": [
       {
        "data": "yeMkI99oE0DJ4yQj32gTQMrjJCPfaBNAyOMkI99oE0DI4yQj32gTQMzjJCPfaBNAyOMkI99oE0DI4yQj32gTQMjjJCPfaBNAyOMkI99oE0DI4yQj32gTQNDjJCPfaBNAyOMkI99oE0DI4yQj32gTQMDjJCPfaBNA0OMkI99oE0DQ4yQj32gTQMDjJCPfaBNA0OMkI99oE0DA4yQj32gTQA==",
        "encoding": "base64",
        "path": [
         "_data",
         0,
         "width",
         "buffer"
        ]
       },
       {
        "data": "AAAIj5nCQz8JXPE3fWkTQOkfiy0uaSNAzpEdv50dLUDZAVioBmkzQMs6IXE+QzhAvnPqOXYdPUBY1lkB1/tAQNFyvuXyaENASg8jyg7WRUDDq4euKkNIQDxI7JJGsEpAtuRQd2IdTUAvgbVbfopPQNQODSDN+1BAEF0/ElsyUkBNq3EE6WhTQIr5o/Z2n1RAxkfW6ATWVUADlgjbkgxXQA==",
        "encoding": "base64",
        "path": [
         "_data",
         0,
         "x",
         "buffer"
        ]
       },
       {
        "data": "yeMkI99oE0DJ4yQj32gTQMrjJCPfaBNAyOMkI99oE0DI4yQj32gTQMzjJCPfaBNAyOMkI99oE0DI4yQj32gTQMjjJCPfaBNAyOMkI99oE0DI4yQj32gTQNDjJCPfaBNAyOMkI99oE0DI4yQj32gTQMDjJCPfaBNA0OMkI99oE0DQ4yQj32gTQMDjJCPfaBNA0OMkI99oE0DA4yQj32gTQA==",
        "encoding": "base64",
        "path": [
         "_data",
         1,
         "width",
         "buffer"
        ]
       },
       {
        "data": "AAAIj5nCQz8JXPE3fWkTQOkfiy0uaSNAzpEdv50dLUDZAVioBmkzQMs6IXE+QzhAvnPqOXYdPUBY1lkB1/tAQNFyvuXyaENASg8jyg7WRUDDq4euKkNIQDxI7JJGsEpAtuRQd2IdTUAvgbVbfopPQNQODSDN+1BAEF0/ElsyUkBNq3EE6WhTQIr5o/Z2n1RAxkfW6ATWVUADlgjbkgxXQA==",
        "encoding": "base64",
        "path": [
         "_data",
         1,
         "x",
         "buffer"
        ]
       }
      ],
      "model_module": "plotlywidget",
      "model_module_version": "^4.14.3",
      "model_name": "FigureModel",
      "state": {
       "_config": {
        "plotlyServerURL": "https://plot.ly"
       },
       "_data": [
        {
         "marker": {
          "color": "rgb(255, 127, 14)"
         },
         "name": "Inside",
         "type": "bar",
         "uid": "e2f9ccc4-1154-4373-b095-0430a768914a",
         "width": {
          "dtype": "float64",
          "shape": [
           20
          ]
         },
         "x": {
          "dtype": "float64",
          "shape": [
           20
          ]
         },
         "y": [
          1201,
          1076,
          715,
          501,
          392,
          285,
          229,
          172,
          120,
          106,
          74,
          32,
          26,
          27,
          26,
          5,
          8,
          2,
          2,
          1
         ]
        },
        {
         "marker": {
          "color": "rgb(31, 119, 180)"
         },
         "name": "Outside",
         "type": "bar",
         "uid": "01d60b61-f701-4fa5-9424-e02a7b7e1005",
         "width": {
          "dtype": "float64",
          "shape": [
           20
          ]
         },
         "x": {
          "dtype": "float64",
          "shape": [
           20
          ]
         },
         "y": [
          0,
          0,
          0,
          0,
          0,
          0,
          0,
          0,
          0,
          0,
          0,
          0,
          0,
          0,
          0,
          0,
          0,
          0,
          0,
          0
         ]
        }
       ],
       "_dom_classes": [],
       "_js2py_layoutDelta": {},
       "_js2py_pointsCallback": {},
       "_js2py_relayout": {},
       "_js2py_restyle": {},
       "_js2py_traceDeltas": {},
       "_js2py_update": {},
       "_last_layout_edit_id": 3,
       "_last_trace_edit_id": 3,
       "_layout": {
        "barmode": "stack",
        "dragmode": "select",
        "height": 175,
        "margin": {
         "b": 10,
         "l": 10,
         "r": 10,
         "t": 10
        },
        "selectdirection": "h",
        "showlegend": false,
        "width": 300,
        "yaxis": {
         "showticklabels": false
        }
       },
       "_model_module": "plotlywidget",
       "_model_module_version": "^4.14.3",
       "_model_name": "FigureModel",
       "_py2js_addTraces": {},
       "_py2js_animate": {},
       "_py2js_deleteTraces": {},
       "_py2js_moveTraces": {},
       "_py2js_relayout": null,
       "_py2js_removeLayoutProps": {},
       "_py2js_removeTraceProps": {},
       "_py2js_restyle": {},
       "_py2js_update": null,
       "_view_count": 0,
       "_view_module": "plotlywidget",
       "_view_module_version": "^4.14.3",
       "_view_name": "FigureView"
      }
     },
     "49a59de170964c0e9c8dd8ee1d12caf3": {
      "model_module": "@jupyter-widgets/controls",
      "model_module_version": "1.5.0",
      "model_name": "DescriptionStyleModel",
      "state": {
       "_model_module": "@jupyter-widgets/controls",
       "_model_module_version": "1.5.0",
       "_model_name": "DescriptionStyleModel",
       "_view_count": null,
       "_view_module": "@jupyter-widgets/base",
       "_view_module_version": "1.2.0",
       "_view_name": "StyleView",
       "description_width": ""
      }
     },
     "4a4e50272a044685bbc09acf992eba29": {
      "model_module": "@jupyter-widgets/base",
      "model_module_version": "1.2.0",
      "model_name": "LayoutModel",
      "state": {
       "_model_module": "@jupyter-widgets/base",
       "_model_module_version": "1.2.0",
       "_model_name": "LayoutModel",
       "_view_count": null,
       "_view_module": "@jupyter-widgets/base",
       "_view_module_version": "1.2.0",
       "_view_name": "LayoutView",
       "align_content": null,
       "align_items": null,
       "align_self": null,
       "border": null,
       "bottom": null,
       "display": null,
       "flex": null,
       "flex_flow": null,
       "grid_area": null,
       "grid_auto_columns": null,
       "grid_auto_flow": null,
       "grid_auto_rows": null,
       "grid_column": null,
       "grid_gap": null,
       "grid_row": null,
       "grid_template_areas": null,
       "grid_template_columns": null,
       "grid_template_rows": null,
       "height": null,
       "justify_content": null,
       "justify_items": null,
       "left": null,
       "margin": null,
       "max_height": null,
       "max_width": null,
       "min_height": null,
       "min_width": null,
       "object_fit": null,
       "object_position": null,
       "order": null,
       "overflow": null,
       "overflow_x": null,
       "overflow_y": null,
       "padding": null,
       "right": null,
       "top": null,
       "visibility": null,
       "width": null
      }
     },
     "4a5a30e2d43144b58dcfe6ac42041e63": {
      "model_module": "@jupyter-widgets/controls",
      "model_module_version": "1.5.0",
      "model_name": "DropdownModel",
      "state": {
       "_dom_classes": [],
       "_model_module": "@jupyter-widgets/controls",
       "_model_module_version": "1.5.0",
       "_model_name": "DropdownModel",
       "_options_labels": [
        "-- (X) Uncertainties --",
        "alpha",
        "beta",
        "input_flow",
        "value_of_time",
        "unit_cost_expansion",
        "interest_rate",
        "yield_curve",
        "-- (L) Levers --",
        "expand_capacity",
        "amortization_period",
        "debt_type",
        "interest_rate_lock",
        "-- Constants --",
        "free_flow_time",
        "initial_capacity",
        "-- (M) Measures --",
        "no_build_travel_time",
        "build_travel_time",
        "time_savings",
        "value_of_time_savings",
        "net_benefits",
        "cost_of_capacity_expansion",
        "present_cost_expansion"
       ],
       "_view_count": null,
       "_view_module": "@jupyter-widgets/controls",
       "_view_module_version": "1.5.0",
       "_view_name": "DropdownView",
       "description": "",
       "description_tooltip": null,
       "disabled": false,
       "index": 19,
       "layout": "IPY_MODEL_61c6c04b573446ebbc45664332467ecb",
       "style": "IPY_MODEL_712d25474982437882cdfb6bce776c4c"
      }
     },
     "4b3e7247b67a4f0a966686d899847447": {
      "model_module": "@jupyter-widgets/controls",
      "model_module_version": "1.5.0",
      "model_name": "LabelModel",
      "state": {
       "_dom_classes": [],
       "_model_module": "@jupyter-widgets/controls",
       "_model_module_version": "1.5.0",
       "_model_name": "LabelModel",
       "_view_count": null,
       "_view_module": "@jupyter-widgets/controls",
       "_view_module_version": "1.5.0",
       "_view_name": "LabelView",
       "description": "",
       "description_tooltip": null,
       "layout": "IPY_MODEL_2b05cb297afe4cbe9b6cbd2974b60cc3",
       "placeholder": "​",
       "style": "IPY_MODEL_e50ed3550de143c7be4b333a14e2c6dc",
       "value": "X Axis"
      }
     },
     "4b40316414e04cc0bbfcdc6f50e5ea03": {
      "model_module": "@jupyter-widgets/controls",
      "model_module_version": "1.5.0",
      "model_name": "SliderStyleModel",
      "state": {
       "_model_module": "@jupyter-widgets/controls",
       "_model_module_version": "1.5.0",
       "_model_name": "SliderStyleModel",
       "_view_count": null,
       "_view_module": "@jupyter-widgets/base",
       "_view_module_version": "1.2.0",
       "_view_name": "StyleView",
       "description_width": "",
       "handle_color": null
      }
     },
     "4bfbdf914e6f40a1bfa3c0d90b60965e": {
      "model_module": "@jupyter-widgets/base",
      "model_module_version": "1.2.0",
      "model_name": "LayoutModel",
      "state": {
       "_model_module": "@jupyter-widgets/base",
       "_model_module_version": "1.2.0",
       "_model_name": "LayoutModel",
       "_view_count": null,
       "_view_module": "@jupyter-widgets/base",
       "_view_module_version": "1.2.0",
       "_view_name": "LayoutView",
       "align_content": null,
       "align_items": null,
       "align_self": null,
       "border": null,
       "bottom": null,
       "display": null,
       "flex": null,
       "flex_flow": null,
       "grid_area": null,
       "grid_auto_columns": null,
       "grid_auto_flow": null,
       "grid_auto_rows": null,
       "grid_column": null,
       "grid_gap": null,
       "grid_row": null,
       "grid_template_areas": null,
       "grid_template_columns": null,
       "grid_template_rows": null,
       "height": null,
       "justify_content": null,
       "justify_items": null,
       "left": null,
       "margin": null,
       "max_height": null,
       "max_width": null,
       "min_height": null,
       "min_width": null,
       "object_fit": null,
       "object_position": null,
       "order": null,
       "overflow": null,
       "overflow_x": null,
       "overflow_y": null,
       "padding": null,
       "right": null,
       "top": null,
       "visibility": null,
       "width": null
      }
     },
     "4ca151b53cb9456a835e14cf30fe9144": {
      "model_module": "@jupyter-widgets/controls",
      "model_module_version": "1.5.0",
      "model_name": "HTMLModel",
      "state": {
       "_dom_classes": [],
       "_model_module": "@jupyter-widgets/controls",
       "_model_module_version": "1.5.0",
       "_model_name": "HTMLModel",
       "_view_count": null,
       "_view_module": "@jupyter-widgets/controls",
       "_view_module_version": "1.5.0",
       "_view_name": "HTMLView",
       "description": "",
       "description_tooltip": null,
       "layout": "IPY_MODEL_40d8db58eca24e309c8d52eacc061864",
       "placeholder": "​",
       "style": "IPY_MODEL_34aff8a2af1b4c9084ad8c88bec28d35",
       "value": "<span title=\"net_benefits\">Net Benefits</span>"
      }
     },
     "4e1b7f7e6ef4454188c02515905c52ac": {
      "model_module": "@jupyter-widgets/base",
      "model_module_version": "1.2.0",
      "model_name": "LayoutModel",
      "state": {
       "_model_module": "@jupyter-widgets/base",
       "_model_module_version": "1.2.0",
       "_model_name": "LayoutModel",
       "_view_count": null,
       "_view_module": "@jupyter-widgets/base",
       "_view_module_version": "1.2.0",
       "_view_name": "LayoutView",
       "align_content": null,
       "align_items": "center",
       "align_self": null,
       "border": "1px solid #AAA",
       "bottom": null,
       "display": null,
       "flex": null,
       "flex_flow": null,
       "grid_area": null,
       "grid_auto_columns": null,
       "grid_auto_flow": null,
       "grid_auto_rows": null,
       "grid_column": null,
       "grid_gap": null,
       "grid_row": null,
       "grid_template_areas": null,
       "grid_template_columns": null,
       "grid_template_rows": null,
       "height": null,
       "justify_content": null,
       "justify_items": null,
       "left": null,
       "margin": "2px",
       "max_height": null,
       "max_width": null,
       "min_height": null,
       "min_width": null,
       "object_fit": null,
       "object_position": null,
       "order": null,
       "overflow": null,
       "overflow_x": null,
       "overflow_y": null,
       "padding": null,
       "right": null,
       "top": null,
       "visibility": null,
       "width": "270px"
      }
     },
     "4f9239bc16194c2c92ca42242cc64ab6": {
      "model_module": "@jupyter-widgets/controls",
      "model_module_version": "1.5.0",
      "model_name": "DescriptionStyleModel",
      "state": {
       "_model_module": "@jupyter-widgets/controls",
       "_model_module_version": "1.5.0",
       "_model_name": "DescriptionStyleModel",
       "_view_count": null,
       "_view_module": "@jupyter-widgets/base",
       "_view_module_version": "1.2.0",
       "_view_name": "StyleView",
       "description_width": ""
      }
     },
     "4fc0d4de25a7415db07fbac3fb32eb6c": {
      "model_module": "@jupyter-widgets/controls",
      "model_module_version": "1.5.0",
      "model_name": "VBoxModel",
      "state": {
       "_dom_classes": [],
       "_model_module": "@jupyter-widgets/controls",
       "_model_module_version": "1.5.0",
       "_model_name": "VBoxModel",
       "_view_count": null,
       "_view_module": "@jupyter-widgets/controls",
       "_view_module_version": "1.5.0",
       "_view_name": "VBoxView",
       "box_style": "",
       "children": [
        "IPY_MODEL_3a1992e7e92245059f96276b8ee232f0",
        "IPY_MODEL_351b0eeb9c594044a44b3872a172696f",
        "IPY_MODEL_5f8d445fe74a4a358b1fb78ad3f112a1"
       ],
       "layout": "IPY_MODEL_9ffa528b1ed8498fbfb3a626b9389056"
      }
     },
     "500db0653d1b4181b62a2d16b7b2db4e": {
      "model_module": "@jupyter-widgets/controls",
      "model_module_version": "1.5.0",
      "model_name": "VBoxModel",
      "state": {
       "_dom_classes": [],
       "_model_module": "@jupyter-widgets/controls",
       "_model_module_version": "1.5.0",
       "_model_name": "VBoxModel",
       "_view_count": null,
       "_view_module": "@jupyter-widgets/controls",
       "_view_module_version": "1.5.0",
       "_view_name": "VBoxView",
       "box_style": "",
       "children": [
        "IPY_MODEL_4b3e7247b67a4f0a966686d899847447",
        "IPY_MODEL_1af1afb9bfc74aa395bb8df013e6ba3b",
        "IPY_MODEL_b51702dd56c741dd969287724698aca5",
        "IPY_MODEL_c46ca26d762a40f69500c39f97e6e91b",
        "IPY_MODEL_4a5a30e2d43144b58dcfe6ac42041e63",
        "IPY_MODEL_ac55c13cc6c94b63b81463706eaf7470",
        "IPY_MODEL_42557ede9860404982e9fa0f336ab3c0",
        "IPY_MODEL_3f56b32b0eed49cba9b0b3433fd24f3b",
        "IPY_MODEL_aee29de7073441a9b6d63646b1dc3063",
        "IPY_MODEL_ef0ee72cfd604650ab80c8431529574b",
        "IPY_MODEL_b9d4712a2fc44596980740adc45e20be"
       ],
       "layout": "IPY_MODEL_de12fd61d23e41e586ccd72935490c06"
      }
     },
     "50da9fabf8444195acbc89b0495b25ae": {
      "model_module": "@jupyter-widgets/controls",
      "model_module_version": "1.5.0",
      "model_name": "HTMLModel",
      "state": {
       "_dom_classes": [],
       "_model_module": "@jupyter-widgets/controls",
       "_model_module_version": "1.5.0",
       "_model_name": "HTMLModel",
       "_view_count": null,
       "_view_module": "@jupyter-widgets/controls",
       "_view_module_version": "1.5.0",
       "_view_name": "HTMLView",
       "description": "",
       "description_tooltip": null,
       "layout": "IPY_MODEL_3735ace008574970ac85315c9e31b7c4",
       "placeholder": "​",
       "style": "IPY_MODEL_1b82d5bbef824dabbf1667fce4a0e94d",
       "value": "<span title=\"value_of_time\">Value of Time</span>"
      }
     },
     "514ccff101c74262a5b66d1a79ab3708": {
      "model_module": "@jupyter-widgets/controls",
      "model_module_version": "1.5.0",
      "model_name": "DescriptionStyleModel",
      "state": {
       "_model_module": "@jupyter-widgets/controls",
       "_model_module_version": "1.5.0",
       "_model_name": "DescriptionStyleModel",
       "_view_count": null,
       "_view_module": "@jupyter-widgets/base",
       "_view_module_version": "1.2.0",
       "_view_name": "StyleView",
       "description_width": ""
      }
     },
     "53ea7464f9064a098a88687bcb10ad37": {
      "model_module": "@jupyter-widgets/controls",
      "model_module_version": "1.5.0",
      "model_name": "BoxModel",
      "state": {
       "_dom_classes": [],
       "_model_module": "@jupyter-widgets/controls",
       "_model_module_version": "1.5.0",
       "_model_name": "BoxModel",
       "_view_count": null,
       "_view_module": "@jupyter-widgets/controls",
       "_view_module_version": "1.5.0",
       "_view_name": "BoxView",
       "box_style": "",
       "children": [
        "IPY_MODEL_ad217775f2df4a818151a10deb4498b8",
        "IPY_MODEL_3899bc4128544bca8be413ddc813cd33",
        "IPY_MODEL_c2b3c62bdcb1453b9c35f16f21d1b75a",
        "IPY_MODEL_5c159b015e104a81bc6f96a749f5d043"
       ],
       "layout": "IPY_MODEL_874c940249c0494ebd2de2130ece95a1"
      }
     },
     "54a9d69b5a12434791517cea6838966f": {
      "model_module": "@jupyter-widgets/base",
      "model_module_version": "1.2.0",
      "model_name": "LayoutModel",
      "state": {
       "_model_module": "@jupyter-widgets/base",
       "_model_module_version": "1.2.0",
       "_model_name": "LayoutModel",
       "_view_count": null,
       "_view_module": "@jupyter-widgets/base",
       "_view_module_version": "1.2.0",
       "_view_name": "LayoutView",
       "align_content": null,
       "align_items": "center",
       "align_self": null,
       "border": "1px solid #AAA",
       "bottom": null,
       "display": null,
       "flex": null,
       "flex_flow": null,
       "grid_area": null,
       "grid_auto_columns": null,
       "grid_auto_flow": null,
       "grid_auto_rows": null,
       "grid_column": null,
       "grid_gap": null,
       "grid_row": null,
       "grid_template_areas": null,
       "grid_template_columns": null,
       "grid_template_rows": null,
       "height": null,
       "justify_content": null,
       "justify_items": null,
       "left": null,
       "margin": "2px",
       "max_height": null,
       "max_width": null,
       "min_height": null,
       "min_width": null,
       "object_fit": null,
       "object_position": null,
       "order": null,
       "overflow": null,
       "overflow_x": null,
       "overflow_y": null,
       "padding": null,
       "right": null,
       "top": null,
       "visibility": null,
       "width": "270px"
      }
     },
     "56dfa41bab41470da1f402260a2389b9": {
      "model_module": "@jupyter-widgets/base",
      "model_module_version": "1.2.0",
      "model_name": "LayoutModel",
      "state": {
       "_model_module": "@jupyter-widgets/base",
       "_model_module_version": "1.2.0",
       "_model_name": "LayoutModel",
       "_view_count": null,
       "_view_module": "@jupyter-widgets/base",
       "_view_module_version": "1.2.0",
       "_view_name": "LayoutView",
       "align_content": null,
       "align_items": null,
       "align_self": null,
       "border": null,
       "bottom": null,
       "display": null,
       "flex": null,
       "flex_flow": null,
       "grid_area": null,
       "grid_auto_columns": null,
       "grid_auto_flow": null,
       "grid_auto_rows": null,
       "grid_column": null,
       "grid_gap": null,
       "grid_row": null,
       "grid_template_areas": null,
       "grid_template_columns": null,
       "grid_template_rows": null,
       "height": null,
       "justify_content": null,
       "justify_items": null,
       "left": null,
       "margin": null,
       "max_height": null,
       "max_width": null,
       "min_height": null,
       "min_width": null,
       "object_fit": null,
       "object_position": null,
       "order": null,
       "overflow": null,
       "overflow_x": null,
       "overflow_y": null,
       "padding": null,
       "right": null,
       "top": null,
       "visibility": null,
       "width": null
      }
     },
     "582523f4bbc04de1a66b179878d2e04b": {
      "model_module": "@jupyter-widgets/controls",
      "model_module_version": "1.5.0",
      "model_name": "VBoxModel",
      "state": {
       "_dom_classes": [],
       "_model_module": "@jupyter-widgets/controls",
       "_model_module_version": "1.5.0",
       "_model_name": "VBoxModel",
       "_view_count": null,
       "_view_module": "@jupyter-widgets/controls",
       "_view_module_version": "1.5.0",
       "_view_name": "VBoxView",
       "box_style": "",
       "children": [
        "IPY_MODEL_defb0e6f0c1447508a6fc42409575ce4",
        "IPY_MODEL_6db5ebc54e05484aa20307532c05f76d",
        "IPY_MODEL_222d59a29cc84b96bb7fcca16a1a268f"
       ],
       "layout": "IPY_MODEL_8965ce3292ab46569670fb5b1f08f6ac"
      }
     },
     "583615315a484f578aba1df29b3bdde6": {
      "model_module": "@jupyter-widgets/controls",
      "model_module_version": "1.5.0",
      "model_name": "DescriptionStyleModel",
      "state": {
       "_model_module": "@jupyter-widgets/controls",
       "_model_module_version": "1.5.0",
       "_model_name": "DescriptionStyleModel",
       "_view_count": null,
       "_view_module": "@jupyter-widgets/base",
       "_view_module_version": "1.2.0",
       "_view_name": "StyleView",
       "description_width": ""
      }
     },
     "5863f4284784486d90fb37fc0b752d30": {
      "model_module": "@jupyter-widgets/base",
      "model_module_version": "1.2.0",
      "model_name": "LayoutModel",
      "state": {
       "_model_module": "@jupyter-widgets/base",
       "_model_module_version": "1.2.0",
       "_model_name": "LayoutModel",
       "_view_count": null,
       "_view_module": "@jupyter-widgets/base",
       "_view_module_version": "1.2.0",
       "_view_name": "LayoutView",
       "align_content": null,
       "align_items": null,
       "align_self": null,
       "border": null,
       "bottom": null,
       "display": null,
       "flex": null,
       "flex_flow": null,
       "grid_area": null,
       "grid_auto_columns": null,
       "grid_auto_flow": null,
       "grid_auto_rows": null,
       "grid_column": null,
       "grid_gap": null,
       "grid_row": null,
       "grid_template_areas": null,
       "grid_template_columns": null,
       "grid_template_rows": null,
       "height": null,
       "justify_content": null,
       "justify_items": null,
       "left": null,
       "margin": null,
       "max_height": null,
       "max_width": null,
       "min_height": null,
       "min_width": null,
       "object_fit": null,
       "object_position": null,
       "order": null,
       "overflow": null,
       "overflow_x": null,
       "overflow_y": null,
       "padding": null,
       "right": null,
       "top": null,
       "visibility": null,
       "width": null
      }
     },
     "593f503c4ad84a1cbb79f12b85f5bf3a": {
      "model_module": "@jupyter-widgets/base",
      "model_module_version": "1.2.0",
      "model_name": "LayoutModel",
      "state": {
       "_model_module": "@jupyter-widgets/base",
       "_model_module_version": "1.2.0",
       "_model_name": "LayoutModel",
       "_view_count": null,
       "_view_module": "@jupyter-widgets/base",
       "_view_module_version": "1.2.0",
       "_view_name": "LayoutView",
       "align_content": null,
       "align_items": null,
       "align_self": null,
       "border": null,
       "bottom": null,
       "display": null,
       "flex": null,
       "flex_flow": null,
       "grid_area": null,
       "grid_auto_columns": null,
       "grid_auto_flow": null,
       "grid_auto_rows": null,
       "grid_column": null,
       "grid_gap": null,
       "grid_row": null,
       "grid_template_areas": null,
       "grid_template_columns": null,
       "grid_template_rows": null,
       "height": null,
       "justify_content": null,
       "justify_items": null,
       "left": null,
       "margin": null,
       "max_height": null,
       "max_width": null,
       "min_height": null,
       "min_width": null,
       "object_fit": null,
       "object_position": null,
       "order": null,
       "overflow": null,
       "overflow_x": null,
       "overflow_y": null,
       "padding": null,
       "right": null,
       "top": null,
       "visibility": null,
       "width": null
      }
     },
     "5a7cc334c3c2456fba83d676369eecf3": {
      "model_module": "@jupyter-widgets/base",
      "model_module_version": "1.2.0",
      "model_name": "LayoutModel",
      "state": {
       "_model_module": "@jupyter-widgets/base",
       "_model_module_version": "1.2.0",
       "_model_name": "LayoutModel",
       "_view_count": null,
       "_view_module": "@jupyter-widgets/base",
       "_view_module_version": "1.2.0",
       "_view_name": "LayoutView",
       "align_content": null,
       "align_items": "center",
       "align_self": null,
       "border": "1px solid #AAA",
       "bottom": null,
       "display": null,
       "flex": null,
       "flex_flow": null,
       "grid_area": null,
       "grid_auto_columns": null,
       "grid_auto_flow": null,
       "grid_auto_rows": null,
       "grid_column": null,
       "grid_gap": null,
       "grid_row": null,
       "grid_template_areas": null,
       "grid_template_columns": null,
       "grid_template_rows": null,
       "height": null,
       "justify_content": null,
       "justify_items": null,
       "left": null,
       "margin": "2px",
       "max_height": null,
       "max_width": null,
       "min_height": null,
       "min_width": null,
       "object_fit": null,
       "object_position": null,
       "order": null,
       "overflow": null,
       "overflow_x": null,
       "overflow_y": null,
       "padding": null,
       "right": null,
       "top": null,
       "visibility": null,
       "width": "270px"
      }
     },
     "5ac8512387ad46ef8ad416921d2fad8b": {
      "model_module": "@jupyter-widgets/base",
      "model_module_version": "1.2.0",
      "model_name": "LayoutModel",
      "state": {
       "_model_module": "@jupyter-widgets/base",
       "_model_module_version": "1.2.0",
       "_model_name": "LayoutModel",
       "_view_count": null,
       "_view_module": "@jupyter-widgets/base",
       "_view_module_version": "1.2.0",
       "_view_name": "LayoutView",
       "align_content": null,
       "align_items": null,
       "align_self": null,
       "border": null,
       "bottom": null,
       "display": null,
       "flex": null,
       "flex_flow": null,
       "grid_area": null,
       "grid_auto_columns": null,
       "grid_auto_flow": null,
       "grid_auto_rows": null,
       "grid_column": null,
       "grid_gap": null,
       "grid_row": null,
       "grid_template_areas": null,
       "grid_template_columns": null,
       "grid_template_rows": null,
       "height": null,
       "justify_content": null,
       "justify_items": null,
       "left": null,
       "margin": null,
       "max_height": null,
       "max_width": null,
       "min_height": null,
       "min_width": null,
       "object_fit": null,
       "object_position": null,
       "order": null,
       "overflow": null,
       "overflow_x": null,
       "overflow_y": null,
       "padding": null,
       "right": null,
       "top": null,
       "visibility": null,
       "width": null
      }
     },
     "5c09cab686984d20947615cabd7ea359": {
      "model_module": "@jupyter-widgets/base",
      "model_module_version": "1.2.0",
      "model_name": "LayoutModel",
      "state": {
       "_model_module": "@jupyter-widgets/base",
       "_model_module_version": "1.2.0",
       "_model_name": "LayoutModel",
       "_view_count": null,
       "_view_module": "@jupyter-widgets/base",
       "_view_module_version": "1.2.0",
       "_view_name": "LayoutView",
       "align_content": null,
       "align_items": null,
       "align_self": null,
       "border": null,
       "bottom": null,
       "display": null,
       "flex": null,
       "flex_flow": null,
       "grid_area": null,
       "grid_auto_columns": null,
       "grid_auto_flow": null,
       "grid_auto_rows": null,
       "grid_column": null,
       "grid_gap": null,
       "grid_row": null,
       "grid_template_areas": null,
       "grid_template_columns": null,
       "grid_template_rows": null,
       "height": null,
       "justify_content": null,
       "justify_items": null,
       "left": null,
       "margin": null,
       "max_height": null,
       "max_width": null,
       "min_height": null,
       "min_width": null,
       "object_fit": null,
       "object_position": null,
       "order": null,
       "overflow": null,
       "overflow_x": null,
       "overflow_y": null,
       "padding": null,
       "right": null,
       "top": null,
       "visibility": null,
       "width": null
      }
     },
     "5c159b015e104a81bc6f96a749f5d043": {
      "model_module": "@jupyter-widgets/controls",
      "model_module_version": "1.5.0",
      "model_name": "VBoxModel",
      "state": {
       "_dom_classes": [],
       "_model_module": "@jupyter-widgets/controls",
       "_model_module_version": "1.5.0",
       "_model_name": "VBoxModel",
       "_view_count": null,
       "_view_module": "@jupyter-widgets/controls",
       "_view_module_version": "1.5.0",
       "_view_name": "VBoxView",
       "box_style": "",
       "children": [
        "IPY_MODEL_abe054c7ac2447efa41ff5a8e81d7d2b",
        "IPY_MODEL_a059c35b0c2141059bd413ae7f07ba28",
        "IPY_MODEL_43642964b90641c0ac0f3c60f926dc8f"
       ],
       "layout": "IPY_MODEL_caff8e78b06f44c6b3e58feebed8d79d"
      }
     },
     "5cc884767ec940839ab0159c4001f94c": {
      "model_module": "@jupyter-widgets/base",
      "model_module_version": "1.2.0",
      "model_name": "LayoutModel",
      "state": {
       "_model_module": "@jupyter-widgets/base",
       "_model_module_version": "1.2.0",
       "_model_name": "LayoutModel",
       "_view_count": null,
       "_view_module": "@jupyter-widgets/base",
       "_view_module_version": "1.2.0",
       "_view_name": "LayoutView",
       "align_content": null,
       "align_items": null,
       "align_self": null,
       "border": null,
       "bottom": null,
       "display": null,
       "flex": null,
       "flex_flow": null,
       "grid_area": null,
       "grid_auto_columns": null,
       "grid_auto_flow": null,
       "grid_auto_rows": null,
       "grid_column": null,
       "grid_gap": null,
       "grid_row": null,
       "grid_template_areas": null,
       "grid_template_columns": null,
       "grid_template_rows": null,
       "height": null,
       "justify_content": null,
       "justify_items": null,
       "left": null,
       "margin": null,
       "max_height": null,
       "max_width": null,
       "min_height": null,
       "min_width": null,
       "object_fit": null,
       "object_position": null,
       "order": null,
       "overflow": null,
       "overflow_x": null,
       "overflow_y": null,
       "padding": null,
       "right": null,
       "top": null,
       "visibility": null,
       "width": null
      }
     },
     "5f8d445fe74a4a358b1fb78ad3f112a1": {
      "model_module": "@jupyter-widgets/controls",
      "model_module_version": "1.5.0",
      "model_name": "FloatRangeSliderModel",
      "state": {
       "_dom_classes": [],
       "_model_module": "@jupyter-widgets/controls",
       "_model_module_version": "1.5.0",
       "_model_name": "FloatRangeSliderModel",
       "_view_count": null,
       "_view_module": "@jupyter-widgets/controls",
       "_view_module_version": "1.5.0",
       "_view_name": "FloatRangeSliderView",
       "continuous_update": false,
       "description": "",
       "description_tooltip": null,
       "disabled": false,
       "layout": "IPY_MODEL_891c93c06c964c19877e7f647975f9d2",
       "max": 1776.399112815551,
       "min": -1048.1471318460972,
       "orientation": "horizontal",
       "readout": true,
       "readout_format": ".3g",
       "step": 14.122731223308243,
       "style": "IPY_MODEL_ccade254a1a34fef889b24db62638fb0",
       "value": [
        -1048.1471318460972,
        1776.399112815551
       ]
      }
     },
     "60036092cf074ffba5f7b1a633cd3dc3": {
      "model_module": "@jupyter-widgets/base",
      "model_module_version": "1.2.0",
      "model_name": "LayoutModel",
      "state": {
       "_model_module": "@jupyter-widgets/base",
       "_model_module_version": "1.2.0",
       "_model_name": "LayoutModel",
       "_view_count": null,
       "_view_module": "@jupyter-widgets/base",
       "_view_module_version": "1.2.0",
       "_view_name": "LayoutView",
       "align_content": null,
       "align_items": null,
       "align_self": null,
       "border": null,
       "bottom": null,
       "display": null,
       "flex": null,
       "flex_flow": null,
       "grid_area": null,
       "grid_auto_columns": null,
       "grid_auto_flow": null,
       "grid_auto_rows": null,
       "grid_column": null,
       "grid_gap": null,
       "grid_row": null,
       "grid_template_areas": null,
       "grid_template_columns": null,
       "grid_template_rows": null,
       "height": null,
       "justify_content": null,
       "justify_items": null,
       "left": null,
       "margin": null,
       "max_height": null,
       "max_width": null,
       "min_height": null,
       "min_width": null,
       "object_fit": null,
       "object_position": null,
       "order": null,
       "overflow": null,
       "overflow_x": null,
       "overflow_y": null,
       "padding": null,
       "right": null,
       "top": null,
       "visibility": null,
       "width": null
      }
     },
     "61c6c04b573446ebbc45664332467ecb": {
      "model_module": "@jupyter-widgets/base",
      "model_module_version": "1.2.0",
      "model_name": "LayoutModel",
      "state": {
       "_model_module": "@jupyter-widgets/base",
       "_model_module_version": "1.2.0",
       "_model_name": "LayoutModel",
       "_view_count": null,
       "_view_module": "@jupyter-widgets/base",
       "_view_module_version": "1.2.0",
       "_view_name": "LayoutView",
       "align_content": null,
       "align_items": null,
       "align_self": null,
       "border": null,
       "bottom": null,
       "display": null,
       "flex": null,
       "flex_flow": null,
       "grid_area": null,
       "grid_auto_columns": null,
       "grid_auto_flow": null,
       "grid_auto_rows": null,
       "grid_column": null,
       "grid_gap": null,
       "grid_row": null,
       "grid_template_areas": null,
       "grid_template_columns": null,
       "grid_template_rows": null,
       "height": null,
       "justify_content": null,
       "justify_items": null,
       "left": null,
       "margin": null,
       "max_height": null,
       "max_width": null,
       "min_height": null,
       "min_width": null,
       "object_fit": null,
       "object_position": null,
       "order": null,
       "overflow": null,
       "overflow_x": null,
       "overflow_y": null,
       "padding": null,
       "right": null,
       "top": null,
       "visibility": null,
       "width": null
      }
     },
     "62514093875149568e0abd18e9e68ded": {
      "model_module": "@jupyter-widgets/controls",
      "model_module_version": "1.5.0",
      "model_name": "VBoxModel",
      "state": {
       "_dom_classes": [],
       "_model_module": "@jupyter-widgets/controls",
       "_model_module_version": "1.5.0",
       "_model_name": "VBoxModel",
       "_view_count": null,
       "_view_module": "@jupyter-widgets/controls",
       "_view_module_version": "1.5.0",
       "_view_name": "VBoxView",
       "box_style": "",
       "children": [
        "IPY_MODEL_695a5eb44b01486896587c3662acf2f2",
        "IPY_MODEL_3e9b758754564cfd9107dae5ec65b588",
        "IPY_MODEL_a3f0fe6dc4834415a64c056abd485ec8"
       ],
       "layout": "IPY_MODEL_4e1b7f7e6ef4454188c02515905c52ac"
      }
     },
     "626097eaa3094bda8cbd76caca167433": {
      "model_module": "@jupyter-widgets/controls",
      "model_module_version": "1.5.0",
      "model_name": "HTMLModel",
      "state": {
       "_dom_classes": [],
       "_model_module": "@jupyter-widgets/controls",
       "_model_module_version": "1.5.0",
       "_model_name": "HTMLModel",
       "_view_count": null,
       "_view_module": "@jupyter-widgets/controls",
       "_view_module_version": "1.5.0",
       "_view_name": "HTMLView",
       "description": "",
       "description_tooltip": null,
       "layout": "IPY_MODEL_4153ad8838464250a800ed13c23bc721",
       "placeholder": "​",
       "style": "IPY_MODEL_eab9ad0099504e1faab7ff6c3f4cbf37",
       "value": "<h3>Ⓜ Performance Measures</h3>"
      }
     },
     "62c6f2db5ade4a9db76cbe2ea5a49fed": {
      "model_module": "@jupyter-widgets/controls",
      "model_module_version": "1.5.0",
      "model_name": "HTMLModel",
      "state": {
       "_dom_classes": [],
       "_model_module": "@jupyter-widgets/controls",
       "_model_module_version": "1.5.0",
       "_model_name": "HTMLModel",
       "_view_count": null,
       "_view_module": "@jupyter-widgets/controls",
       "_view_module_version": "1.5.0",
       "_view_name": "HTMLView",
       "description": "",
       "description_tooltip": null,
       "layout": "IPY_MODEL_195ba9722daf4b01b090c0fb73ae4884",
       "placeholder": "​",
       "style": "IPY_MODEL_f65e1c03f9de44828257e9cfdf389970",
       "value": "<span title=\"amortization_period\">Amortization</span>"
      }
     },
     "63f49ca4d16041fe939c60978ee5a4f5": {
      "model_module": "@jupyter-widgets/controls",
      "model_module_version": "1.5.0",
      "model_name": "HTMLModel",
      "state": {
       "_dom_classes": [],
       "_model_module": "@jupyter-widgets/controls",
       "_model_module_version": "1.5.0",
       "_model_name": "HTMLModel",
       "_view_count": null,
       "_view_module": "@jupyter-widgets/controls",
       "_view_module_version": "1.5.0",
       "_view_name": "HTMLView",
       "description": "",
       "description_tooltip": null,
       "layout": "IPY_MODEL_efc91288d8744bc4ac5e5da7ee3ac86b",
       "placeholder": "​",
       "style": "IPY_MODEL_264902ad163e4b50968846ed14e328be",
       "value": "<span title=\"build_travel_time\">Build Time</span>"
      }
     },
     "65928eda75854f53836276572d7f8472": {
      "model_module": "@jupyter-widgets/controls",
      "model_module_version": "1.5.0",
      "model_name": "HTMLModel",
      "state": {
       "_dom_classes": [],
       "_model_module": "@jupyter-widgets/controls",
       "_model_module_version": "1.5.0",
       "_model_name": "HTMLModel",
       "_view_count": null,
       "_view_module": "@jupyter-widgets/controls",
       "_view_module_version": "1.5.0",
       "_view_name": "HTMLView",
       "description": "",
       "description_tooltip": null,
       "layout": "IPY_MODEL_5c09cab686984d20947615cabd7ea359",
       "placeholder": "​",
       "style": "IPY_MODEL_4f9239bc16194c2c92ca42242cc64ab6",
       "value": "<span title=\"cost_of_capacity_expansion\">Cost of Expand</span>"
      }
     },
     "66f6d05793254fac911a27f0a933b0f8": {
      "model_module": "@jupyter-widgets/base",
      "model_module_version": "1.2.0",
      "model_name": "LayoutModel",
      "state": {
       "_model_module": "@jupyter-widgets/base",
       "_model_module_version": "1.2.0",
       "_model_name": "LayoutModel",
       "_view_count": null,
       "_view_module": "@jupyter-widgets/base",
       "_view_module_version": "1.2.0",
       "_view_name": "LayoutView",
       "align_content": null,
       "align_items": null,
       "align_self": null,
       "border": null,
       "bottom": null,
       "display": null,
       "flex": null,
       "flex_flow": null,
       "grid_area": null,
       "grid_auto_columns": null,
       "grid_auto_flow": null,
       "grid_auto_rows": null,
       "grid_column": null,
       "grid_gap": null,
       "grid_row": null,
       "grid_template_areas": null,
       "grid_template_columns": null,
       "grid_template_rows": null,
       "height": null,
       "justify_content": null,
       "justify_items": null,
       "left": null,
       "margin": null,
       "max_height": null,
       "max_width": null,
       "min_height": null,
       "min_width": null,
       "object_fit": null,
       "object_position": null,
       "order": null,
       "overflow": null,
       "overflow_x": null,
       "overflow_y": null,
       "padding": null,
       "right": null,
       "top": null,
       "visibility": null,
       "width": null
      }
     },
     "6714becd620647ff9bb2a4ba27580344": {
      "model_module": "@jupyter-widgets/base",
      "model_module_version": "1.2.0",
      "model_name": "LayoutModel",
      "state": {
       "_model_module": "@jupyter-widgets/base",
       "_model_module_version": "1.2.0",
       "_model_name": "LayoutModel",
       "_view_count": null,
       "_view_module": "@jupyter-widgets/base",
       "_view_module_version": "1.2.0",
       "_view_name": "LayoutView",
       "align_content": null,
       "align_items": null,
       "align_self": null,
       "border": null,
       "bottom": null,
       "display": null,
       "flex": null,
       "flex_flow": null,
       "grid_area": null,
       "grid_auto_columns": null,
       "grid_auto_flow": null,
       "grid_auto_rows": null,
       "grid_column": null,
       "grid_gap": null,
       "grid_row": null,
       "grid_template_areas": null,
       "grid_template_columns": null,
       "grid_template_rows": null,
       "height": null,
       "justify_content": null,
       "justify_items": null,
       "left": null,
       "margin": null,
       "max_height": null,
       "max_width": null,
       "min_height": null,
       "min_width": null,
       "object_fit": null,
       "object_position": null,
       "order": null,
       "overflow": null,
       "overflow_x": null,
       "overflow_y": null,
       "padding": null,
       "right": null,
       "top": null,
       "visibility": null,
       "width": null
      }
     },
     "681652dd8d0a4c2fb20743e66475e58a": {
      "model_module": "@jupyter-widgets/controls",
      "model_module_version": "1.5.0",
      "model_name": "DescriptionModel",
      "state": {
       "_dom_classes": [],
       "_model_module": "@jupyter-widgets/controls",
       "_model_module_version": "1.5.0",
       "_model_name": "DescriptionModel",
       "_options_labels": [
        "False",
        "True"
       ],
       "_view_count": null,
       "_view_module": "@jupyter-widgets/controls",
       "_view_module_version": "1.5.0",
       "_view_name": null,
       "description": "",
       "description_tooltip": null,
       "disabled": false,
       "index": [
        0,
        1
       ],
       "layout": "IPY_MODEL_b25e4f4a0a2244d687051c1e643055a8",
       "style": "IPY_MODEL_42227906125f4004be8acc86eb0574ca"
      }
     },
     "694459b627bb4613b9e2faaab6851ad5": {
      "model_module": "@jupyter-widgets/base",
      "model_module_version": "1.2.0",
      "model_name": "LayoutModel",
      "state": {
       "_model_module": "@jupyter-widgets/base",
       "_model_module_version": "1.2.0",
       "_model_name": "LayoutModel",
       "_view_count": null,
       "_view_module": "@jupyter-widgets/base",
       "_view_module_version": "1.2.0",
       "_view_name": "LayoutView",
       "align_content": null,
       "align_items": null,
       "align_self": null,
       "border": null,
       "bottom": null,
       "display": null,
       "flex": null,
       "flex_flow": null,
       "grid_area": null,
       "grid_auto_columns": null,
       "grid_auto_flow": null,
       "grid_auto_rows": null,
       "grid_column": null,
       "grid_gap": null,
       "grid_row": null,
       "grid_template_areas": null,
       "grid_template_columns": null,
       "grid_template_rows": null,
       "height": null,
       "justify_content": null,
       "justify_items": null,
       "left": null,
       "margin": null,
       "max_height": null,
       "max_width": null,
       "min_height": null,
       "min_width": null,
       "object_fit": null,
       "object_position": null,
       "order": null,
       "overflow": null,
       "overflow_x": null,
       "overflow_y": null,
       "padding": null,
       "right": null,
       "top": null,
       "visibility": null,
       "width": null
      }
     },
     "695a5eb44b01486896587c3662acf2f2": {
      "model_module": "@jupyter-widgets/controls",
      "model_module_version": "1.5.0",
      "model_name": "HTMLModel",
      "state": {
       "_dom_classes": [],
       "_model_module": "@jupyter-widgets/controls",
       "_model_module_version": "1.5.0",
       "_model_name": "HTMLModel",
       "_view_count": null,
       "_view_module": "@jupyter-widgets/controls",
       "_view_module_version": "1.5.0",
       "_view_name": "HTMLView",
       "description": "",
       "description_tooltip": null,
       "layout": "IPY_MODEL_5ac8512387ad46ef8ad416921d2fad8b",
       "placeholder": "​",
       "style": "IPY_MODEL_ced522a334254873b4d90e6948cd23d6",
       "value": "<span title=\"value_of_time_savings\">Value Time Save</span>"
      }
     },
     "6b60fd24b06845b688bcd5161dc83bd2": {
      "model_module": "@jupyter-widgets/controls",
      "model_module_version": "1.5.0",
      "model_name": "VBoxModel",
      "state": {
       "_dom_classes": [],
       "_model_module": "@jupyter-widgets/controls",
       "_model_module_version": "1.5.0",
       "_model_name": "VBoxModel",
       "_view_count": null,
       "_view_module": "@jupyter-widgets/controls",
       "_view_module_version": "1.5.0",
       "_view_name": "VBoxView",
       "box_style": "",
       "children": [
        "IPY_MODEL_f7a27d99815b40dea4d7468f3393fe43",
        "IPY_MODEL_2a1fd7cb5b504513b3c4d0a9faed4cef"
       ],
       "layout": "IPY_MODEL_edf9a0260e474c13b971d0b5711ba798"
      }
     },
     "6db5ebc54e05484aa20307532c05f76d": {
      "buffers": [
       {
        "data": "oLprBvz+A0CAumsG/P4DQKC6awb8/gNAoLprBvz+A0CgumsG/P4DQKC6awb8/gNAgLprBvz+A0CgumsG/P4DQKC6awb8/gNAgLprBvz+A0CgumsG/P4DQKC6awb8/gNAoLprBvz+A0CgumsG/P4DQIC6awb8/gNAgLprBvz+A0DAumsG/P4DQIC6awb8/gNAwLprBvz+A0CAumsG/P4DQA==",
        "encoding": "base64",
        "path": [
         "_data",
         0,
         "width",
         "buffer"
        ]
       },
       {
        "data": "ue1uhl3AV0COS6JmVWBYQGKp1UZNAFlANwcJJ0WgWUAMZTwHPUBaQOHCb+c04FpAtiCjxyyAW0CKftanJCBcQF/cCYgcwFxANDo9aBRgXUAImHBIDABeQN31oygEoF5AslPXCPw/X0CHsQrp899fQK4Hn+T1P2BAmLa41PGPYECCZdLE7d9gQG0U7LTpL2FAV8MFpeV/YUBCch+V4c9hQA==",
        "encoding": "base64",
        "path": [
         "_data",
         0,
         "x",
         "buffer"
        ]
       },
       {
        "data": "oLprBvz+A0CAumsG/P4DQKC6awb8/gNAoLprBvz+A0CgumsG/P4DQKC6awb8/gNAgLprBvz+A0CgumsG/P4DQKC6awb8/gNAgLprBvz+A0CgumsG/P4DQKC6awb8/gNAoLprBvz+A0CgumsG/P4DQIC6awb8/gNAgLprBvz+A0DAumsG/P4DQIC6awb8/gNAwLprBvz+A0CAumsG/P4DQA==",
        "encoding": "base64",
        "path": [
         "_data",
         1,
         "width",
         "buffer"
        ]
       },
       {
        "data": "ue1uhl3AV0COS6JmVWBYQGKp1UZNAFlANwcJJ0WgWUAMZTwHPUBaQOHCb+c04FpAtiCjxyyAW0CKftanJCBcQF/cCYgcwFxANDo9aBRgXUAImHBIDABeQN31oygEoF5AslPXCPw/X0CHsQrp899fQK4Hn+T1P2BAmLa41PGPYECCZdLE7d9gQG0U7LTpL2FAV8MFpeV/YUBCch+V4c9hQA==",
        "encoding": "base64",
        "path": [
         "_data",
         1,
         "x",
         "buffer"
        ]
       }
      ],
      "model_module": "plotlywidget",
      "model_module_version": "^4.14.3",
      "model_name": "FigureModel",
      "state": {
       "_config": {
        "plotlyServerURL": "https://plot.ly"
       },
       "_data": [
        {
         "marker": {
          "color": "rgb(255, 127, 14)"
         },
         "name": "Inside",
         "type": "bar",
         "uid": "3b47e9d8-d986-49d2-8b81-4992f8087788",
         "width": {
          "dtype": "float64",
          "shape": [
           20
          ]
         },
         "x": {
          "dtype": "float64",
          "shape": [
           20
          ]
         },
         "y": [
          250,
          250,
          251,
          250,
          249,
          251,
          249,
          250,
          250,
          250,
          250,
          250,
          250,
          250,
          249,
          251,
          250,
          250,
          250,
          250
         ]
        },
        {
         "marker": {
          "color": "rgb(31, 119, 180)"
         },
         "name": "Outside",
         "type": "bar",
         "uid": "2aa64a7f-d432-46d7-9108-7adb9b1b31f8",
         "width": {
          "dtype": "float64",
          "shape": [
           20
          ]
         },
         "x": {
          "dtype": "float64",
          "shape": [
           20
          ]
         },
         "y": [
          0,
          0,
          0,
          0,
          0,
          0,
          0,
          0,
          0,
          0,
          0,
          0,
          0,
          0,
          0,
          0,
          0,
          0,
          0,
          0
         ]
        }
       ],
       "_dom_classes": [],
       "_js2py_layoutDelta": {},
       "_js2py_pointsCallback": {},
       "_js2py_relayout": {},
       "_js2py_restyle": {},
       "_js2py_traceDeltas": {},
       "_js2py_update": {},
       "_last_layout_edit_id": 3,
       "_last_trace_edit_id": 3,
       "_layout": {
        "barmode": "stack",
        "dragmode": "select",
        "height": 175,
        "margin": {
         "b": 10,
         "l": 10,
         "r": 10,
         "t": 10
        },
        "selectdirection": "h",
        "showlegend": false,
        "width": 300,
        "yaxis": {
         "showticklabels": false
        }
       },
       "_model_module": "plotlywidget",
       "_model_module_version": "^4.14.3",
       "_model_name": "FigureModel",
       "_py2js_addTraces": {},
       "_py2js_animate": {},
       "_py2js_deleteTraces": {},
       "_py2js_moveTraces": {},
       "_py2js_relayout": null,
       "_py2js_removeLayoutProps": {},
       "_py2js_removeTraceProps": {},
       "_py2js_restyle": {},
       "_py2js_update": null,
       "_view_count": 0,
       "_view_module": "plotlywidget",
       "_view_module_version": "^4.14.3",
       "_view_name": "FigureView"
      }
     },
     "6e1a5223085346869cbb3a9462887027": {
      "model_module": "@jupyter-widgets/base",
      "model_module_version": "1.2.0",
      "model_name": "LayoutModel",
      "state": {
       "_model_module": "@jupyter-widgets/base",
       "_model_module_version": "1.2.0",
       "_model_name": "LayoutModel",
       "_view_count": null,
       "_view_module": "@jupyter-widgets/base",
       "_view_module_version": "1.2.0",
       "_view_name": "LayoutView",
       "align_content": null,
       "align_items": "center",
       "align_self": null,
       "border": "1px solid #AAA",
       "bottom": null,
       "display": null,
       "flex": null,
       "flex_flow": null,
       "grid_area": null,
       "grid_auto_columns": null,
       "grid_auto_flow": null,
       "grid_auto_rows": null,
       "grid_column": null,
       "grid_gap": null,
       "grid_row": null,
       "grid_template_areas": null,
       "grid_template_columns": null,
       "grid_template_rows": null,
       "height": null,
       "justify_content": null,
       "justify_items": null,
       "left": null,
       "margin": "2px",
       "max_height": null,
       "max_width": null,
       "min_height": null,
       "min_width": null,
       "object_fit": null,
       "object_position": null,
       "order": null,
       "overflow": null,
       "overflow_x": null,
       "overflow_y": null,
       "padding": null,
       "right": null,
       "top": null,
       "visibility": null,
       "width": "270px"
      }
     },
     "6f8fc16e8f0a4778aaccde1992b636be": {
      "model_module": "@jupyter-widgets/controls",
      "model_module_version": "1.5.0",
      "model_name": "DescriptionStyleModel",
      "state": {
       "_model_module": "@jupyter-widgets/controls",
       "_model_module_version": "1.5.0",
       "_model_name": "DescriptionStyleModel",
       "_view_count": null,
       "_view_module": "@jupyter-widgets/base",
       "_view_module_version": "1.2.0",
       "_view_name": "StyleView",
       "description_width": ""
      }
     },
     "712d25474982437882cdfb6bce776c4c": {
      "model_module": "@jupyter-widgets/controls",
      "model_module_version": "1.5.0",
      "model_name": "DescriptionStyleModel",
      "state": {
       "_model_module": "@jupyter-widgets/controls",
       "_model_module_version": "1.5.0",
       "_model_name": "DescriptionStyleModel",
       "_view_count": null,
       "_view_module": "@jupyter-widgets/base",
       "_view_module_version": "1.2.0",
       "_view_name": "StyleView",
       "description_width": ""
      }
     },
     "73ae87133da84de69d6fdaf8164ae36a": {
      "model_module": "@jupyter-widgets/controls",
      "model_module_version": "1.5.0",
      "model_name": "DescriptionStyleModel",
      "state": {
       "_model_module": "@jupyter-widgets/controls",
       "_model_module_version": "1.5.0",
       "_model_name": "DescriptionStyleModel",
       "_view_count": null,
       "_view_module": "@jupyter-widgets/base",
       "_view_module_version": "1.2.0",
       "_view_name": "StyleView",
       "description_width": ""
      }
     },
     "752f7a063d0846629313a0f4ccd5d6af": {
      "model_module": "@jupyter-widgets/controls",
      "model_module_version": "1.5.0",
      "model_name": "ToggleButtonModel",
      "state": {
       "_dom_classes": [],
       "_model_module": "@jupyter-widgets/controls",
       "_model_module_version": "1.5.0",
       "_model_name": "ToggleButtonModel",
       "_view_count": null,
       "_view_module": "@jupyter-widgets/controls",
       "_view_module_version": "1.5.0",
       "_view_name": "ToggleButtonView",
       "button_style": "",
       "description": "Paygo",
       "description_tooltip": null,
       "disabled": false,
       "icon": "",
       "layout": "IPY_MODEL_dab59883d52e4f88b28c6a4f72c23606",
       "style": "IPY_MODEL_9168a1d7b47b4b9595b3b4324b985e1a",
       "tooltip": "Paygo",
       "value": true
      }
     },
     "773935dba17047bbb89931e9e37f1383": {
      "model_module": "@jupyter-widgets/base",
      "model_module_version": "1.2.0",
      "model_name": "LayoutModel",
      "state": {
       "_model_module": "@jupyter-widgets/base",
       "_model_module_version": "1.2.0",
       "_model_name": "LayoutModel",
       "_view_count": null,
       "_view_module": "@jupyter-widgets/base",
       "_view_module_version": "1.2.0",
       "_view_name": "LayoutView",
       "align_content": null,
       "align_items": null,
       "align_self": null,
       "border": null,
       "bottom": null,
       "display": null,
       "flex": null,
       "flex_flow": null,
       "grid_area": null,
       "grid_auto_columns": null,
       "grid_auto_flow": null,
       "grid_auto_rows": null,
       "grid_column": null,
       "grid_gap": null,
       "grid_row": null,
       "grid_template_areas": null,
       "grid_template_columns": null,
       "grid_template_rows": null,
       "height": null,
       "justify_content": null,
       "justify_items": null,
       "left": null,
       "margin": null,
       "max_height": null,
       "max_width": null,
       "min_height": null,
       "min_width": null,
       "object_fit": null,
       "object_position": null,
       "order": null,
       "overflow": null,
       "overflow_x": null,
       "overflow_y": null,
       "padding": null,
       "right": null,
       "top": null,
       "visibility": null,
       "width": null
      }
     },
     "774c432bb2804898b2117335c7f57abb": {
      "model_module": "@jupyter-widgets/controls",
      "model_module_version": "1.5.0",
      "model_name": "HBoxModel",
      "state": {
       "_dom_classes": [],
       "_model_module": "@jupyter-widgets/controls",
       "_model_module_version": "1.5.0",
       "_model_name": "HBoxModel",
       "_view_count": null,
       "_view_module": "@jupyter-widgets/controls",
       "_view_module_version": "1.5.0",
       "_view_name": "HBoxView",
       "box_style": "",
       "children": [
        "IPY_MODEL_262eee41ed8841c0b9596062e69b49a6",
        "IPY_MODEL_82d8241f498940b4aaac230a55012f8d"
       ],
       "layout": "IPY_MODEL_9560de1c712244e9815cf067dd2c54b5"
      }
     },
     "781b94e946ac41fba8d5f8f416e9a666": {
      "model_module": "@jupyter-widgets/controls",
      "model_module_version": "1.5.0",
      "model_name": "SliderStyleModel",
      "state": {
       "_model_module": "@jupyter-widgets/controls",
       "_model_module_version": "1.5.0",
       "_model_name": "SliderStyleModel",
       "_view_count": null,
       "_view_module": "@jupyter-widgets/base",
       "_view_module_version": "1.2.0",
       "_view_name": "StyleView",
       "description_width": "",
       "handle_color": null
      }
     },
     "78bbe6832ac64c9580113fc870077694": {
      "model_module": "@jupyter-widgets/base",
      "model_module_version": "1.2.0",
      "model_name": "LayoutModel",
      "state": {
       "_model_module": "@jupyter-widgets/base",
       "_model_module_version": "1.2.0",
       "_model_name": "LayoutModel",
       "_view_count": null,
       "_view_module": "@jupyter-widgets/base",
       "_view_module_version": "1.2.0",
       "_view_name": "LayoutView",
       "align_content": null,
       "align_items": null,
       "align_self": null,
       "border": null,
       "bottom": null,
       "display": null,
       "flex": null,
       "flex_flow": null,
       "grid_area": null,
       "grid_auto_columns": null,
       "grid_auto_flow": null,
       "grid_auto_rows": null,
       "grid_column": null,
       "grid_gap": null,
       "grid_row": null,
       "grid_template_areas": null,
       "grid_template_columns": null,
       "grid_template_rows": null,
       "height": null,
       "justify_content": null,
       "justify_items": null,
       "left": null,
       "margin": null,
       "max_height": null,
       "max_width": null,
       "min_height": null,
       "min_width": null,
       "object_fit": null,
       "object_position": null,
       "order": null,
       "overflow": null,
       "overflow_x": null,
       "overflow_y": null,
       "padding": null,
       "right": null,
       "top": null,
       "visibility": null,
       "width": null
      }
     },
     "79050a10e8e64a929ec95c6754c0c931": {
      "buffers": [
       {
        "data": "4EpHGPOXuT/gSkcY85e5P+BKRxjzl7k/4EpHGPOXuT/gSkcY85e5PwBLRxjzl7k/wEpHGPOXuT8AS0cY85e5P8BKRxjzl7k/AEtHGPOXuT/ASkcY85e5PwBLRxjzl7k/wEpHGPOXuT8AS0cY85e5PwBLRxjzl7k/wEpHGPOXuT/ASkcY85e5PwBLRxjzl7k/AEtHGPOXuT/ASkcY85e5Pw==",
        "encoding": "base64",
        "path": [
         "_data",
         0,
         "width",
         "buffer"
        ]
       },
       {
        "data": "vWb9B3EADEAUob+gMM0MQGvbgTnwmQ1AwhVE0q9mDkAZUAZrbzMPQDhF5IEXABBAZGJFTndmEECPf6Ya18wQQLucB+c2MxFA5rlos5aZEUAS18l/9v8RQD30KkxWZhJAaRGMGLbMEkCULu3kFTMTQMBLTrF1mRNA7GivfdX/E0AXhhBKNWYUQEKjcRaVzBRAbsDS4vQyFUCa3TOvVJkVQA==",
        "encoding": "base64",
        "path": [
         "_data",
         0,
         "x",
         "buffer"
        ]
       },
       {
        "data": "4EpHGPOXuT/gSkcY85e5P+BKRxjzl7k/4EpHGPOXuT/gSkcY85e5PwBLRxjzl7k/wEpHGPOXuT8AS0cY85e5P8BKRxjzl7k/AEtHGPOXuT/ASkcY85e5PwBLRxjzl7k/wEpHGPOXuT8AS0cY85e5PwBLRxjzl7k/wEpHGPOXuT/ASkcY85e5PwBLRxjzl7k/AEtHGPOXuT/ASkcY85e5Pw==",
        "encoding": "base64",
        "path": [
         "_data",
         1,
         "width",
         "buffer"
        ]
       },
       {
        "data": "vWb9B3EADEAUob+gMM0MQGvbgTnwmQ1AwhVE0q9mDkAZUAZrbzMPQDhF5IEXABBAZGJFTndmEECPf6Ya18wQQLucB+c2MxFA5rlos5aZEUAS18l/9v8RQD30KkxWZhJAaRGMGLbMEkCULu3kFTMTQMBLTrF1mRNA7GivfdX/E0AXhhBKNWYUQEKjcRaVzBRAbsDS4vQyFUCa3TOvVJkVQA==",
        "encoding": "base64",
        "path": [
         "_data",
         1,
         "x",
         "buffer"
        ]
       }
      ],
      "model_module": "plotlywidget",
      "model_module_version": "^4.14.3",
      "model_name": "FigureModel",
      "state": {
       "_config": {
        "plotlyServerURL": "https://plot.ly"
       },
       "_data": [
        {
         "marker": {
          "color": "rgb(255, 127, 14)"
         },
         "name": "Inside",
         "type": "bar",
         "uid": "33279a4b-1ac4-4e18-9e54-babeed315ee3",
         "width": {
          "dtype": "float64",
          "shape": [
           20
          ]
         },
         "x": {
          "dtype": "float64",
          "shape": [
           20
          ]
         },
         "y": [
          251,
          249,
          250,
          250,
          250,
          250,
          250,
          250,
          250,
          250,
          249,
          251,
          249,
          250,
          250,
          250,
          250,
          250,
          251,
          250
         ]
        },
        {
         "marker": {
          "color": "rgb(31, 119, 180)"
         },
         "name": "Outside",
         "type": "bar",
         "uid": "b4b3ce5d-052c-4803-b901-c49757332159",
         "width": {
          "dtype": "float64",
          "shape": [
           20
          ]
         },
         "x": {
          "dtype": "float64",
          "shape": [
           20
          ]
         },
         "y": [
          0,
          0,
          0,
          0,
          0,
          0,
          0,
          0,
          0,
          0,
          0,
          0,
          0,
          0,
          0,
          0,
          0,
          0,
          0,
          0
         ]
        }
       ],
       "_dom_classes": [],
       "_js2py_layoutDelta": {},
       "_js2py_pointsCallback": {},
       "_js2py_relayout": {},
       "_js2py_restyle": {},
       "_js2py_traceDeltas": {},
       "_js2py_update": {},
       "_last_layout_edit_id": 3,
       "_last_trace_edit_id": 3,
       "_layout": {
        "barmode": "stack",
        "dragmode": "select",
        "height": 175,
        "margin": {
         "b": 10,
         "l": 10,
         "r": 10,
         "t": 10
        },
        "selectdirection": "h",
        "showlegend": false,
        "width": 300,
        "yaxis": {
         "showticklabels": false
        }
       },
       "_model_module": "plotlywidget",
       "_model_module_version": "^4.14.3",
       "_model_name": "FigureModel",
       "_py2js_addTraces": {},
       "_py2js_animate": {},
       "_py2js_deleteTraces": {},
       "_py2js_moveTraces": {},
       "_py2js_relayout": null,
       "_py2js_removeLayoutProps": {},
       "_py2js_removeTraceProps": {},
       "_py2js_restyle": {},
       "_py2js_update": null,
       "_view_count": 0,
       "_view_module": "plotlywidget",
       "_view_module_version": "^4.14.3",
       "_view_name": "FigureView"
      }
     },
     "797d4b56d31444589d51c18c80b55044": {
      "model_module": "@jupyter-widgets/controls",
      "model_module_version": "1.5.0",
      "model_name": "VBoxModel",
      "state": {
       "_dom_classes": [],
       "_model_module": "@jupyter-widgets/controls",
       "_model_module_version": "1.5.0",
       "_model_name": "VBoxModel",
       "_view_count": null,
       "_view_module": "@jupyter-widgets/controls",
       "_view_module_version": "1.5.0",
       "_view_name": "VBoxView",
       "box_style": "",
       "children": [
        "IPY_MODEL_cff6d1ce3b2c40f098a83541c5dd1720",
        "IPY_MODEL_48de60963b904daeba6bb85fb6458e36",
        "IPY_MODEL_3a9d375cfd834059bd4052f37e887f63"
       ],
       "layout": "IPY_MODEL_0d6a8d2cdf5e40968765f9b9a609e2e3"
      }
     },
     "79bb32c912b04aed88fe41e5aaf3d605": {
      "buffers": [
       {
        "data": "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",
        "encoding": "base64",
        "path": [
         "_py2js_update",
         "style_data",
         "y",
         0,
         "buffer"
        ]
       }
      ],
      "model_module": "plotlywidget",
      "model_module_version": "^4.14.3",
      "model_name": "FigureModel",
      "state": {
       "_config": {
        "plotlyServerURL": "https://plot.ly"
       },
       "_data": [
        {
         "fill": "tozeroy",
         "marker": {
          "color": "rgb(31, 119, 180)"
         },
         "name": "Overall",
         "type": "scatter",
         "uid": "6bd31b09-1410-46cb-92ca-d26ce3881e72",
         "x": {
          "dtype": "float64",
          "shape": [
           250
          ]
         },
         "y": {
          "dtype": "float64",
          "shape": [
           250
          ]
         }
        },
        {
         "fill": "tozeroy",
         "marker": {
          "color": "rgb(255, 127, 14)"
         },
         "name": "Inside",
         "type": "scatter",
         "uid": "7ed7b1f3-f33d-45c9-8b99-4f552900f926",
         "x": {
          "dtype": "float64",
          "shape": [
           250
          ]
         },
         "y": {
          "dtype": "float64",
          "shape": [
           250
          ]
         }
        }
       ],
       "_dom_classes": [],
       "_js2py_layoutDelta": {},
       "_js2py_pointsCallback": {},
       "_js2py_relayout": {},
       "_js2py_restyle": {},
       "_js2py_traceDeltas": {},
       "_js2py_update": {},
       "_last_layout_edit_id": 1,
       "_last_trace_edit_id": 1,
       "_layout": {
        "height": 175,
        "margin": {
         "b": 10,
         "l": 10,
         "r": 10,
         "t": 10
        },
        "showlegend": false,
        "width": 300,
        "yaxis": {
         "showticklabels": false
        }
       },
       "_model_module": "plotlywidget",
       "_model_module_version": "^4.14.3",
       "_model_name": "FigureModel",
       "_py2js_addTraces": {},
       "_py2js_animate": {},
       "_py2js_deleteTraces": {},
       "_py2js_moveTraces": {},
       "_py2js_relayout": null,
       "_py2js_removeLayoutProps": {},
       "_py2js_removeTraceProps": {},
       "_py2js_restyle": {},
       "_py2js_update": null,
       "_view_count": 0,
       "_view_module": "plotlywidget",
       "_view_module_version": "^4.14.3",
       "_view_name": "FigureView"
      }
     },
     "7ce719a9ba2a4e4f8d16919710a40d34": {
      "model_module": "@jupyter-widgets/controls",
      "model_module_version": "1.5.0",
      "model_name": "BoxModel",
      "state": {
       "_dom_classes": [],
       "_model_module": "@jupyter-widgets/controls",
       "_model_module_version": "1.5.0",
       "_model_name": "BoxModel",
       "_view_count": null,
       "_view_module": "@jupyter-widgets/controls",
       "_view_module_version": "1.5.0",
       "_view_name": "BoxView",
       "box_style": "",
       "children": [
        "IPY_MODEL_92ad610cd6ca49ff9d096119579bb018",
        "IPY_MODEL_bb93e80c11494c1da8324be72aa98e0c",
        "IPY_MODEL_797d4b56d31444589d51c18c80b55044",
        "IPY_MODEL_62514093875149568e0abd18e9e68ded",
        "IPY_MODEL_4fc0d4de25a7415db07fbac3fb32eb6c",
        "IPY_MODEL_e0de52da73f7481bab437a1ded45fdaf",
        "IPY_MODEL_8cbe39aaece0462ba862b216c7381b1f"
       ],
       "layout": "IPY_MODEL_9ef605c0e1e54e53bad6162e3b2adac4"
      }
     },
     "7f3412fc347848ee87f728c115c9e0d1": {
      "model_module": "@jupyter-widgets/controls",
      "model_module_version": "1.5.0",
      "model_name": "DescriptionStyleModel",
      "state": {
       "_model_module": "@jupyter-widgets/controls",
       "_model_module_version": "1.5.0",
       "_model_name": "DescriptionStyleModel",
       "_view_count": null,
       "_view_module": "@jupyter-widgets/base",
       "_view_module_version": "1.2.0",
       "_view_name": "StyleView",
       "description_width": ""
      }
     },
     "82d8241f498940b4aaac230a55012f8d": {
      "model_module": "plotlywidget",
      "model_module_version": "^4.14.3",
      "model_name": "FigureModel",
      "state": {
       "_config": {
        "plotlyServerURL": "https://plot.ly"
       },
       "_data": [
        {
         "hoverinfo": "label+value",
         "labels": [
          "Inside",
          "Outside"
         ],
         "marker": {
          "colors": [
           "rgb(255, 127, 14)",
           "rgb(31, 119, 180)"
          ],
          "line": {
           "color": "#FFF",
           "width": 0.25
          }
         },
         "textfont": {
          "size": 10
         },
         "textinfo": "percent",
         "type": "pie",
         "uid": "c2188d09-b462-40a7-8b72-2dacf6bb5894",
         "values": [
          75,
          250
         ]
        }
       ],
       "_dom_classes": [],
       "_js2py_layoutDelta": {},
       "_js2py_pointsCallback": {},
       "_js2py_relayout": {},
       "_js2py_restyle": {},
       "_js2py_traceDeltas": {},
       "_js2py_update": {},
       "_last_layout_edit_id": 4,
       "_last_trace_edit_id": 4,
       "_layout": {
        "height": 100,
        "margin": {
         "b": 10,
         "l": 10,
         "r": 10,
         "t": 10
        },
        "showlegend": false,
        "width": 100
       },
       "_model_module": "plotlywidget",
       "_model_module_version": "^4.14.3",
       "_model_name": "FigureModel",
       "_py2js_addTraces": {},
       "_py2js_animate": {},
       "_py2js_deleteTraces": {},
       "_py2js_moveTraces": {},
       "_py2js_relayout": null,
       "_py2js_removeLayoutProps": {},
       "_py2js_removeTraceProps": {},
       "_py2js_restyle": null,
       "_py2js_update": {},
       "_view_count": 0,
       "_view_module": "plotlywidget",
       "_view_module_version": "^4.14.3",
       "_view_name": "FigureView"
      }
     },
     "83aae2db71be4bd29390dd79bc0c7f57": {
      "model_module": "@jupyter-widgets/base",
      "model_module_version": "1.2.0",
      "model_name": "LayoutModel",
      "state": {
       "_model_module": "@jupyter-widgets/base",
       "_model_module_version": "1.2.0",
       "_model_name": "LayoutModel",
       "_view_count": null,
       "_view_module": "@jupyter-widgets/base",
       "_view_module_version": "1.2.0",
       "_view_name": "LayoutView",
       "align_content": null,
       "align_items": "center",
       "align_self": null,
       "border": "1px solid #AAA",
       "bottom": null,
       "display": null,
       "flex": null,
       "flex_flow": null,
       "grid_area": null,
       "grid_auto_columns": null,
       "grid_auto_flow": null,
       "grid_auto_rows": null,
       "grid_column": null,
       "grid_gap": null,
       "grid_row": null,
       "grid_template_areas": null,
       "grid_template_columns": null,
       "grid_template_rows": null,
       "height": null,
       "justify_content": null,
       "justify_items": null,
       "left": null,
       "margin": "2px",
       "max_height": null,
       "max_width": null,
       "min_height": null,
       "min_width": null,
       "object_fit": null,
       "object_position": null,
       "order": null,
       "overflow": null,
       "overflow_x": null,
       "overflow_y": null,
       "padding": null,
       "right": null,
       "top": null,
       "visibility": null,
       "width": "270px"
      }
     },
     "86572fb4b5654db88b84a494ce224341": {
      "model_module": "@jupyter-widgets/base",
      "model_module_version": "1.2.0",
      "model_name": "LayoutModel",
      "state": {
       "_model_module": "@jupyter-widgets/base",
       "_model_module_version": "1.2.0",
       "_model_name": "LayoutModel",
       "_view_count": null,
       "_view_module": "@jupyter-widgets/base",
       "_view_module_version": "1.2.0",
       "_view_name": "LayoutView",
       "align_content": null,
       "align_items": null,
       "align_self": null,
       "border": null,
       "bottom": null,
       "display": null,
       "flex": null,
       "flex_flow": null,
       "grid_area": null,
       "grid_auto_columns": null,
       "grid_auto_flow": null,
       "grid_auto_rows": null,
       "grid_column": null,
       "grid_gap": null,
       "grid_row": null,
       "grid_template_areas": null,
       "grid_template_columns": null,
       "grid_template_rows": null,
       "height": null,
       "justify_content": null,
       "justify_items": null,
       "left": null,
       "margin": null,
       "max_height": null,
       "max_width": null,
       "min_height": null,
       "min_width": null,
       "object_fit": null,
       "object_position": null,
       "order": null,
       "overflow": null,
       "overflow_x": null,
       "overflow_y": null,
       "padding": null,
       "right": null,
       "top": null,
       "visibility": null,
       "width": null
      }
     },
     "874c940249c0494ebd2de2130ece95a1": {
      "model_module": "@jupyter-widgets/base",
      "model_module_version": "1.2.0",
      "model_name": "LayoutModel",
      "state": {
       "_model_module": "@jupyter-widgets/base",
       "_model_module_version": "1.2.0",
       "_model_name": "LayoutModel",
       "_view_count": null,
       "_view_module": "@jupyter-widgets/base",
       "_view_module_version": "1.2.0",
       "_view_name": "LayoutView",
       "align_content": null,
       "align_items": null,
       "align_self": null,
       "border": null,
       "bottom": null,
       "display": null,
       "flex": null,
       "flex_flow": "row wrap",
       "grid_area": null,
       "grid_auto_columns": null,
       "grid_auto_flow": null,
       "grid_auto_rows": null,
       "grid_column": null,
       "grid_gap": null,
       "grid_row": null,
       "grid_template_areas": null,
       "grid_template_columns": null,
       "grid_template_rows": null,
       "height": null,
       "justify_content": null,
       "justify_items": null,
       "left": null,
       "margin": null,
       "max_height": null,
       "max_width": null,
       "min_height": null,
       "min_width": null,
       "object_fit": null,
       "object_position": null,
       "order": null,
       "overflow": null,
       "overflow_x": null,
       "overflow_y": null,
       "padding": null,
       "right": null,
       "top": null,
       "visibility": null,
       "width": null
      }
     },
     "886846519c72426f897b5ae589b944ef": {
      "model_module": "@jupyter-widgets/base",
      "model_module_version": "1.2.0",
      "model_name": "LayoutModel",
      "state": {
       "_model_module": "@jupyter-widgets/base",
       "_model_module_version": "1.2.0",
       "_model_name": "LayoutModel",
       "_view_count": null,
       "_view_module": "@jupyter-widgets/base",
       "_view_module_version": "1.2.0",
       "_view_name": "LayoutView",
       "align_content": null,
       "align_items": null,
       "align_self": null,
       "border": null,
       "bottom": null,
       "display": null,
       "flex": null,
       "flex_flow": "row wrap",
       "grid_area": null,
       "grid_auto_columns": null,
       "grid_auto_flow": null,
       "grid_auto_rows": null,
       "grid_column": null,
       "grid_gap": null,
       "grid_row": null,
       "grid_template_areas": null,
       "grid_template_columns": null,
       "grid_template_rows": null,
       "height": null,
       "justify_content": null,
       "justify_items": null,
       "left": null,
       "margin": null,
       "max_height": null,
       "max_width": null,
       "min_height": null,
       "min_width": null,
       "object_fit": null,
       "object_position": null,
       "order": null,
       "overflow": null,
       "overflow_x": null,
       "overflow_y": null,
       "padding": null,
       "right": null,
       "top": null,
       "visibility": null,
       "width": null
      }
     },
     "891c93c06c964c19877e7f647975f9d2": {
      "model_module": "@jupyter-widgets/base",
      "model_module_version": "1.2.0",
      "model_name": "LayoutModel",
      "state": {
       "_model_module": "@jupyter-widgets/base",
       "_model_module_version": "1.2.0",
       "_model_name": "LayoutModel",
       "_view_count": null,
       "_view_module": "@jupyter-widgets/base",
       "_view_module_version": "1.2.0",
       "_view_name": "LayoutView",
       "align_content": null,
       "align_items": null,
       "align_self": null,
       "border": null,
       "bottom": null,
       "display": null,
       "flex": null,
       "flex_flow": null,
       "grid_area": null,
       "grid_auto_columns": null,
       "grid_auto_flow": null,
       "grid_auto_rows": null,
       "grid_column": null,
       "grid_gap": null,
       "grid_row": null,
       "grid_template_areas": null,
       "grid_template_columns": null,
       "grid_template_rows": null,
       "height": null,
       "justify_content": null,
       "justify_items": null,
       "left": null,
       "margin": null,
       "max_height": null,
       "max_width": null,
       "min_height": null,
       "min_width": null,
       "object_fit": null,
       "object_position": null,
       "order": null,
       "overflow": null,
       "overflow_x": null,
       "overflow_y": null,
       "padding": null,
       "right": null,
       "top": null,
       "visibility": null,
       "width": "250px"
      }
     },
     "8965ce3292ab46569670fb5b1f08f6ac": {
      "model_module": "@jupyter-widgets/base",
      "model_module_version": "1.2.0",
      "model_name": "LayoutModel",
      "state": {
       "_model_module": "@jupyter-widgets/base",
       "_model_module_version": "1.2.0",
       "_model_name": "LayoutModel",
       "_view_count": null,
       "_view_module": "@jupyter-widgets/base",
       "_view_module_version": "1.2.0",
       "_view_name": "LayoutView",
       "align_content": null,
       "align_items": "center",
       "align_self": null,
       "border": "1px solid #AAA",
       "bottom": null,
       "display": null,
       "flex": null,
       "flex_flow": null,
       "grid_area": null,
       "grid_auto_columns": null,
       "grid_auto_flow": null,
       "grid_auto_rows": null,
       "grid_column": null,
       "grid_gap": null,
       "grid_row": null,
       "grid_template_areas": null,
       "grid_template_columns": null,
       "grid_template_rows": null,
       "height": null,
       "justify_content": null,
       "justify_items": null,
       "left": null,
       "margin": "2px",
       "max_height": null,
       "max_width": null,
       "min_height": null,
       "min_width": null,
       "object_fit": null,
       "object_position": null,
       "order": null,
       "overflow": null,
       "overflow_x": null,
       "overflow_y": null,
       "padding": null,
       "right": null,
       "top": null,
       "visibility": null,
       "width": "270px"
      }
     },
     "896b07f224ed4dfcb41d3d4e2b57febb": {
      "model_module": "@jupyter-widgets/base",
      "model_module_version": "1.2.0",
      "model_name": "LayoutModel",
      "state": {
       "_model_module": "@jupyter-widgets/base",
       "_model_module_version": "1.2.0",
       "_model_name": "LayoutModel",
       "_view_count": null,
       "_view_module": "@jupyter-widgets/base",
       "_view_module_version": "1.2.0",
       "_view_name": "LayoutView",
       "align_content": null,
       "align_items": "center",
       "align_self": null,
       "border": "1px solid #AAA",
       "bottom": null,
       "display": null,
       "flex": null,
       "flex_flow": null,
       "grid_area": null,
       "grid_auto_columns": null,
       "grid_auto_flow": null,
       "grid_auto_rows": null,
       "grid_column": null,
       "grid_gap": null,
       "grid_row": null,
       "grid_template_areas": null,
       "grid_template_columns": null,
       "grid_template_rows": null,
       "height": null,
       "justify_content": null,
       "justify_items": null,
       "left": null,
       "margin": "2px",
       "max_height": null,
       "max_width": null,
       "min_height": null,
       "min_width": null,
       "object_fit": null,
       "object_position": null,
       "order": null,
       "overflow": null,
       "overflow_x": null,
       "overflow_y": null,
       "padding": null,
       "right": null,
       "top": null,
       "visibility": null,
       "width": "270px"
      }
     },
     "8b1c56c58f4441e89306dbd0310c924e": {
      "model_module": "@jupyter-widgets/controls",
      "model_module_version": "1.5.0",
      "model_name": "SliderStyleModel",
      "state": {
       "_model_module": "@jupyter-widgets/controls",
       "_model_module_version": "1.5.0",
       "_model_name": "SliderStyleModel",
       "_view_count": null,
       "_view_module": "@jupyter-widgets/base",
       "_view_module_version": "1.2.0",
       "_view_name": "StyleView",
       "description_width": "",
       "handle_color": null
      }
     },
     "8b28a4fd82f4413394505971211c8762": {
      "model_module": "@jupyter-widgets/controls",
      "model_module_version": "1.5.0",
      "model_name": "DescriptionStyleModel",
      "state": {
       "_model_module": "@jupyter-widgets/controls",
       "_model_module_version": "1.5.0",
       "_model_name": "DescriptionStyleModel",
       "_view_count": null,
       "_view_module": "@jupyter-widgets/base",
       "_view_module_version": "1.2.0",
       "_view_name": "StyleView",
       "description_width": ""
      }
     },
     "8b3b74b9ca514d6488ab469eb5f4ca74": {
      "model_module": "@jupyter-widgets/controls",
      "model_module_version": "1.5.0",
      "model_name": "IntRangeSliderModel",
      "state": {
       "_dom_classes": [],
       "_model_module": "@jupyter-widgets/controls",
       "_model_module_version": "1.5.0",
       "_model_name": "IntRangeSliderModel",
       "_view_count": null,
       "_view_module": "@jupyter-widgets/controls",
       "_view_module_version": "1.5.0",
       "_view_name": "IntRangeSliderView",
       "continuous_update": false,
       "description": "",
       "description_tooltip": null,
       "disabled": false,
       "layout": "IPY_MODEL_891c93c06c964c19877e7f647975f9d2",
       "max": 50,
       "min": 15,
       "orientation": "horizontal",
       "readout": true,
       "readout_format": "d",
       "step": 1,
       "style": "IPY_MODEL_287c9dc17f0d400391699c45ef421165",
       "value": [
        19,
        50
       ]
      }
     },
     "8b53867dedf0409eb29f48fc9e70e188": {
      "model_module": "@jupyter-widgets/base",
      "model_module_version": "1.2.0",
      "model_name": "LayoutModel",
      "state": {
       "_model_module": "@jupyter-widgets/base",
       "_model_module_version": "1.2.0",
       "_model_name": "LayoutModel",
       "_view_count": null,
       "_view_module": "@jupyter-widgets/base",
       "_view_module_version": "1.2.0",
       "_view_name": "LayoutView",
       "align_content": null,
       "align_items": "center",
       "align_self": null,
       "border": "1px solid #AAA",
       "bottom": null,
       "display": null,
       "flex": null,
       "flex_flow": null,
       "grid_area": null,
       "grid_auto_columns": null,
       "grid_auto_flow": null,
       "grid_auto_rows": null,
       "grid_column": null,
       "grid_gap": null,
       "grid_row": null,
       "grid_template_areas": null,
       "grid_template_columns": null,
       "grid_template_rows": null,
       "height": null,
       "justify_content": null,
       "justify_items": null,
       "left": null,
       "margin": "2px",
       "max_height": null,
       "max_width": null,
       "min_height": null,
       "min_width": null,
       "object_fit": null,
       "object_position": null,
       "order": null,
       "overflow": null,
       "overflow_x": null,
       "overflow_y": null,
       "padding": null,
       "right": null,
       "top": null,
       "visibility": null,
       "width": "270px"
      }
     },
     "8bc5b85aff09402598e7c340fe3723a6": {
      "model_module": "plotlywidget",
      "model_module_version": "^4.14.3",
      "model_name": "FigureModel",
      "state": {
       "_config": {
        "plotlyServerURL": "https://plot.ly"
       },
       "_data": [
        {
         "hoverinfo": "label+value",
         "labels": [
          "Inside",
          "Outside"
         ],
         "marker": {
          "colors": [
           "rgb(255, 127, 14)",
           "rgb(31, 119, 180)"
          ],
          "line": {
           "color": "#FFF",
           "width": 0.25
          }
         },
         "textfont": {
          "size": 10
         },
         "textinfo": "percent",
         "type": "pie",
         "uid": "2db5ce64-dcd8-4a6e-b55b-5ab8bc3b2c91",
         "values": [
          75,
          250
         ]
        }
       ],
       "_dom_classes": [],
       "_js2py_layoutDelta": {},
       "_js2py_pointsCallback": {},
       "_js2py_relayout": {},
       "_js2py_restyle": {},
       "_js2py_traceDeltas": {},
       "_js2py_update": {},
       "_last_layout_edit_id": 1,
       "_last_trace_edit_id": 1,
       "_layout": {
        "height": 100,
        "margin": {
         "b": 10,
         "l": 10,
         "r": 10,
         "t": 10
        },
        "showlegend": false,
        "width": 100
       },
       "_model_module": "plotlywidget",
       "_model_module_version": "^4.14.3",
       "_model_name": "FigureModel",
       "_py2js_addTraces": {},
       "_py2js_animate": {},
       "_py2js_deleteTraces": {},
       "_py2js_moveTraces": {},
       "_py2js_relayout": null,
       "_py2js_removeLayoutProps": {},
       "_py2js_removeTraceProps": {},
       "_py2js_restyle": null,
       "_py2js_update": {},
       "_view_count": 0,
       "_view_module": "plotlywidget",
       "_view_module_version": "^4.14.3",
       "_view_name": "FigureView"
      }
     },
     "8c063fe0775f4360b4b572b3e6fff48c": {
      "model_module": "@jupyter-widgets/controls",
      "model_module_version": "1.5.0",
      "model_name": "DescriptionStyleModel",
      "state": {
       "_model_module": "@jupyter-widgets/controls",
       "_model_module_version": "1.5.0",
       "_model_name": "DescriptionStyleModel",
       "_view_count": null,
       "_view_module": "@jupyter-widgets/base",
       "_view_module_version": "1.2.0",
       "_view_name": "StyleView",
       "description_width": ""
      }
     },
     "8ca91a1f219a4b6e9129134fa5588261": {
      "model_module": "@jupyter-widgets/controls",
      "model_module_version": "1.5.0",
      "model_name": "VBoxModel",
      "state": {
       "_dom_classes": [],
       "_model_module": "@jupyter-widgets/controls",
       "_model_module_version": "1.5.0",
       "_model_name": "VBoxModel",
       "_view_count": null,
       "_view_module": "@jupyter-widgets/controls",
       "_view_module_version": "1.5.0",
       "_view_name": "VBoxView",
       "box_style": "",
       "children": [
        "IPY_MODEL_774c432bb2804898b2117335c7f57abb",
        "IPY_MODEL_cf006101081f401c87279e5144fe474a",
        "IPY_MODEL_53ea7464f9064a098a88687bcb10ad37",
        "IPY_MODEL_167742995387481c9f22878c5b3fad2b",
        "IPY_MODEL_d4c799c172784149ac48ea66570ba925",
        "IPY_MODEL_626097eaa3094bda8cbd76caca167433",
        "IPY_MODEL_380f1a3807e34aa5b789c8b2e0c084de",
        "IPY_MODEL_7ce719a9ba2a4e4f8d16919710a40d34"
       ],
       "layout": "IPY_MODEL_40d98b0846dd49c489414dc444087575"
      }
     },
     "8cbe39aaece0462ba862b216c7381b1f": {
      "model_module": "@jupyter-widgets/controls",
      "model_module_version": "1.5.0",
      "model_name": "VBoxModel",
      "state": {
       "_dom_classes": [],
       "_model_module": "@jupyter-widgets/controls",
       "_model_module_version": "1.5.0",
       "_model_name": "VBoxModel",
       "_view_count": null,
       "_view_module": "@jupyter-widgets/controls",
       "_view_module_version": "1.5.0",
       "_view_name": "VBoxView",
       "box_style": "",
       "children": [
        "IPY_MODEL_9464127c263646c4acffd8eae9aef477",
        "IPY_MODEL_b7ca7935b35f4be0b6b29bbf2b472c1b",
        "IPY_MODEL_2155d78011064f218f94f6d5b8cb4d38"
       ],
       "layout": "IPY_MODEL_9a3ed8597d10410a86dfea2acf8c0693"
      }
     },
     "8fb38c6b640f4f79843113ddc0c36759": {
      "model_module": "@jupyter-widgets/base",
      "model_module_version": "1.2.0",
      "model_name": "LayoutModel",
      "state": {
       "_model_module": "@jupyter-widgets/base",
       "_model_module_version": "1.2.0",
       "_model_name": "LayoutModel",
       "_view_count": null,
       "_view_module": "@jupyter-widgets/base",
       "_view_module_version": "1.2.0",
       "_view_name": "LayoutView",
       "align_content": null,
       "align_items": "center",
       "align_self": null,
       "border": "1px solid #AAA",
       "bottom": null,
       "display": null,
       "flex": null,
       "flex_flow": null,
       "grid_area": null,
       "grid_auto_columns": null,
       "grid_auto_flow": null,
       "grid_auto_rows": null,
       "grid_column": null,
       "grid_gap": null,
       "grid_row": null,
       "grid_template_areas": null,
       "grid_template_columns": null,
       "grid_template_rows": null,
       "height": null,
       "justify_content": null,
       "justify_items": null,
       "left": null,
       "margin": "2px",
       "max_height": null,
       "max_width": null,
       "min_height": null,
       "min_width": null,
       "object_fit": null,
       "object_position": null,
       "order": null,
       "overflow": null,
       "overflow_x": null,
       "overflow_y": null,
       "padding": null,
       "right": null,
       "top": null,
       "visibility": null,
       "width": "270px"
      }
     },
     "90242fdd75a444a0807ab3ccb8a4f2df": {
      "buffers": [
       {
        "data": "gPHbpZ6M7z+A8dulnozvP4Dx26WejO8/APLbpZ6M7z+A8dulnozvP4Dx26WejO8/gPHbpZ6M7z+A8dulnozvP4Dx26WejO8/APLbpZ6M7z+A8dulnozvP4Dx26WejO8/gPHbpZ6M7z+A8dulnozvP4Dx26WejO8/gPHbpZ6M7z8A8tulnozvP4Dx26WejO8/gPHbpZ6M7z+A8dulnozvP4Dx26WejO8/APLbpZ6M7z8A8dulnozvPwDy26WejO8/gPHbpZ6M7z+A8dulnozvP4Dx26WejO8/gPHbpZ6M7z8A8tulnozvP4Dx26WejO8/gPHbpZ6M7z+A8dulnozvP4Dx26WejO8/APLbpZ6M7z8A8dulnozvPwDy26WejO8/gPHbpZ6M7z+A8dulnozvP4Dx26WejO8/gPHbpZ6M7z8A8tulnozvPwDx26WejO8/APLbpZ6M7z+A8dulnozvP4Dx26WejO8/gPHbpZ6M7z+A8dulnozvPwDy26WejO8/APHbpZ6M7z8A8tulnozvPwDx26WejO8/APLbpZ6M7z8A8tulnozvPwDx26WejO8/APLbpZ6M7z8A8dulnozvPwDy26WejO8/APLbpZ6M7z8A8dulnozvPwDy26WejO8/APHbpZ6M7z8A8tulnozvPwDy26WejO8/APHbpZ6M7z8A8dulnozvPwDy26WejO8/APLbpZ6M7z8A8tulnozvPwDx26WejO8/APHbpZ6M7z8A8tulnozvPw==",
        "encoding": "base64",
        "path": [
         "_data",
         0,
         "width",
         "buffer"
        ]
       },
       {
        "data": "AAAAAAAAVEDjt0s9GT9UQMZvl3oyflRAqSfjt0u9VECN3y71ZPxUQHCXejJ+O1VAU0/Gb5d6VUA2BxKtsLlVQBm/XerJ+FVA/HapJ+M3VkDgLvVk/HZWQMPmQKIVtlZApp6M3y71VkCJVtgcSDRXQGwOJFphc1dAT8Zvl3qyV0AyfrvUk/FXQBY2BxKtMFhA+e1ST8ZvWEDcpZ6M365YQL9d6sn47VhAohU2BxItWUCGzYFEK2xZQGiFzYFEq1lATD0Zv13qWUAv9WT8dilaQBKtsDmQaFpA9WT8dqmnWkDYHEi0wuZaQLzUk/HbJVtAn4zfLvVkW0CCRCtsDqRbQGX8dqkn41tASLTC5kAiXEAsbA4kWmFcQA4kWmFzoFxA8tulnozfXEDVk/HbpR5dQLhLPRm/XV1AmwOJVticXUB+u9ST8dtdQGJzINEKG15ARCtsDiRaXkAo47dLPZleQAubA4lW2F5A7lJPxm8XX0DRCpsDiVZfQLTC5kCilV9AmHoyfrvUX0A9Gb9d6glgQC/1ZPx2KWBAINEKmwNJYEASrbA5kGhgQASJVtgciGBA9WT8dqmnYEDnQKIVNsdgQNgcSLTC5mBAyvjtUk8GYUC81JPx2yVhQK2wOZBoRWFAn4zfLvVkYUCQaIXNgYRhQIJEK2wOpGFAdCDRCpvDYUBl/HapJ+NhQFbYHEi0AmJASLTC5kAiYkA6kGiFzUFiQCxsDiRaYWJAHUi0wuaAYkAOJFphc6BiQA==",
        "encoding": "base64",
        "path": [
         "_data",
         0,
         "x",
         "buffer"
        ]
       },
       {
        "data": "gPHbpZ6M7z+A8dulnozvP4Dx26WejO8/APLbpZ6M7z+A8dulnozvP4Dx26WejO8/gPHbpZ6M7z+A8dulnozvP4Dx26WejO8/APLbpZ6M7z+A8dulnozvP4Dx26WejO8/gPHbpZ6M7z+A8dulnozvP4Dx26WejO8/gPHbpZ6M7z8A8tulnozvP4Dx26WejO8/gPHbpZ6M7z+A8dulnozvP4Dx26WejO8/APLbpZ6M7z8A8dulnozvPwDy26WejO8/gPHbpZ6M7z+A8dulnozvP4Dx26WejO8/gPHbpZ6M7z8A8tulnozvP4Dx26WejO8/gPHbpZ6M7z+A8dulnozvP4Dx26WejO8/APLbpZ6M7z8A8dulnozvPwDy26WejO8/gPHbpZ6M7z+A8dulnozvP4Dx26WejO8/gPHbpZ6M7z8A8tulnozvPwDx26WejO8/APLbpZ6M7z+A8dulnozvP4Dx26WejO8/gPHbpZ6M7z+A8dulnozvPwDy26WejO8/APHbpZ6M7z8A8tulnozvPwDx26WejO8/APLbpZ6M7z8A8tulnozvPwDx26WejO8/APLbpZ6M7z8A8dulnozvPwDy26WejO8/APLbpZ6M7z8A8dulnozvPwDy26WejO8/APHbpZ6M7z8A8tulnozvPwDy26WejO8/APHbpZ6M7z8A8dulnozvPwDy26WejO8/APLbpZ6M7z8A8tulnozvPwDx26WejO8/APHbpZ6M7z8A8tulnozvPw==",
        "encoding": "base64",
        "path": [
         "_data",
         1,
         "width",
         "buffer"
        ]
       },
       {
        "data": "AAAAAAAAVEDjt0s9GT9UQMZvl3oyflRAqSfjt0u9VECN3y71ZPxUQHCXejJ+O1VAU0/Gb5d6VUA2BxKtsLlVQBm/XerJ+FVA/HapJ+M3VkDgLvVk/HZWQMPmQKIVtlZApp6M3y71VkCJVtgcSDRXQGwOJFphc1dAT8Zvl3qyV0AyfrvUk/FXQBY2BxKtMFhA+e1ST8ZvWEDcpZ6M365YQL9d6sn47VhAohU2BxItWUCGzYFEK2xZQGiFzYFEq1lATD0Zv13qWUAv9WT8dilaQBKtsDmQaFpA9WT8dqmnWkDYHEi0wuZaQLzUk/HbJVtAn4zfLvVkW0CCRCtsDqRbQGX8dqkn41tASLTC5kAiXEAsbA4kWmFcQA4kWmFzoFxA8tulnozfXEDVk/HbpR5dQLhLPRm/XV1AmwOJVticXUB+u9ST8dtdQGJzINEKG15ARCtsDiRaXkAo47dLPZleQAubA4lW2F5A7lJPxm8XX0DRCpsDiVZfQLTC5kCilV9AmHoyfrvUX0A9Gb9d6glgQC/1ZPx2KWBAINEKmwNJYEASrbA5kGhgQASJVtgciGBA9WT8dqmnYEDnQKIVNsdgQNgcSLTC5mBAyvjtUk8GYUC81JPx2yVhQK2wOZBoRWFAn4zfLvVkYUCQaIXNgYRhQIJEK2wOpGFAdCDRCpvDYUBl/HapJ+NhQFbYHEi0AmJASLTC5kAiYkA6kGiFzUFiQCxsDiRaYWJAHUi0wuaAYkAOJFphc6BiQA==",
        "encoding": "base64",
        "path": [
         "_data",
         1,
         "x",
         "buffer"
        ]
       }
      ],
      "model_module": "plotlywidget",
      "model_module_version": "^4.14.3",
      "model_name": "FigureModel",
      "state": {
       "_config": {
        "plotlyServerURL": "https://plot.ly"
       },
       "_data": [
        {
         "marker": {
          "color": "rgb(255, 127, 14)",
          "line": {
           "width": 0
          }
         },
         "name": "Inside",
         "type": "bar",
         "uid": "99c27297-1f63-433b-8743-b62a0d8ae335",
         "width": {
          "dtype": "float64",
          "shape": [
           71
          ]
         },
         "x": {
          "dtype": "float64",
          "shape": [
           71
          ]
         },
         "y": [
          70,
          70,
          71,
          71,
          70,
          71,
          70,
          71,
          69,
          71,
          71,
          70,
          71,
          70,
          71,
          70,
          70,
          70,
          71,
          70,
          71,
          70,
          71,
          70,
          71,
          70,
          70,
          71,
          70,
          71,
          70,
          71,
          70,
          70,
          71,
          70,
          71,
          70,
          71,
          70,
          70,
          70,
          71,
          70,
          71,
          70,
          70,
          72,
          70,
          70,
          70,
          71,
          70,
          71,
          70,
          71,
          70,
          71,
          70,
          70,
          70,
          72,
          69,
          71,
          71,
          70,
          71,
          69,
          71,
          71,
          70
         ]
        },
        {
         "marker": {
          "color": "rgb(31, 119, 180)",
          "line": {
           "width": 0
          }
         },
         "name": "Outside",
         "type": "bar",
         "uid": "81db6387-a0ee-42a9-a13a-3ff89b25d41b",
         "width": {
          "dtype": "float64",
          "shape": [
           71
          ]
         },
         "x": {
          "dtype": "float64",
          "shape": [
           71
          ]
         },
         "y": [
          0,
          0,
          0,
          0,
          0,
          0,
          0,
          0,
          0,
          0,
          0,
          0,
          0,
          0,
          0,
          0,
          0,
          0,
          0,
          0,
          0,
          0,
          0,
          0,
          0,
          0,
          0,
          0,
          0,
          0,
          0,
          0,
          0,
          0,
          0,
          0,
          0,
          0,
          0,
          0,
          0,
          0,
          0,
          0,
          0,
          0,
          0,
          0,
          0,
          0,
          0,
          0,
          0,
          0,
          0,
          0,
          0,
          0,
          0,
          0,
          0,
          0,
          0,
          0,
          0,
          0,
          0,
          0,
          0,
          0,
          0
         ]
        }
       ],
       "_dom_classes": [],
       "_js2py_layoutDelta": {},
       "_js2py_pointsCallback": {},
       "_js2py_relayout": {},
       "_js2py_restyle": {},
       "_js2py_traceDeltas": {},
       "_js2py_update": {},
       "_last_layout_edit_id": 3,
       "_last_trace_edit_id": 3,
       "_layout": {
        "barmode": "stack",
        "dragmode": "select",
        "height": 175,
        "margin": {
         "b": 10,
         "l": 10,
         "r": 10,
         "t": 10
        },
        "selectdirection": "h",
        "showlegend": false,
        "width": 300,
        "yaxis": {
         "showticklabels": false
        }
       },
       "_model_module": "plotlywidget",
       "_model_module_version": "^4.14.3",
       "_model_name": "FigureModel",
       "_py2js_addTraces": {},
       "_py2js_animate": {},
       "_py2js_deleteTraces": {},
       "_py2js_moveTraces": {},
       "_py2js_relayout": null,
       "_py2js_removeLayoutProps": {},
       "_py2js_removeTraceProps": {},
       "_py2js_restyle": {},
       "_py2js_update": null,
       "_view_count": 0,
       "_view_module": "plotlywidget",
       "_view_module_version": "^4.14.3",
       "_view_name": "FigureView"
      }
     },
     "905fba486cd74230b0de091509b90fe3": {
      "buffers": [
       {
        "data": "q6qqqqqq2j8AAAAAAAD0P6uqqqqqqgBAVVVVVVVVB0AAAAAAAAAOQFVVVVVVVRJA",
        "encoding": "base64",
        "path": [
         "_py2js_addTraces",
         "trace_data",
         0,
         "marker",
         "colorbar",
         "tickvals",
         "buffer"
        ]
       },
       {
        "data": "AAAAAAAA8D8AAAAAAADwPwAAAAAAAPA/AAAAAAAA8D8AAAAAAADwP0+1TKog+u8/n2qZVEH07z/uH+b+Ye7vP90/zP3D3O8/GxX/pkbF7z+on3766afvPyRK5EzveO8/AIqwSrNV7z/dyXxIdzLvP0eUyJne8e4/P+mTPumT7j+6k/mQ7mTuP4Xzq40UMO4/ux2q26G67T8uHdvSsS3tP2NH2SA/uOw/s4bWFRMI7D+hMG1fKEzrP4elHgOV3Oo/orodqtuh6j+ZD+lO5kPqP9duzEIcguk/iEMw467d6D8fA5Xc+nPoPyg4eoKjJ+g/gCKs0mzV5z/HLMQhmHHnP/xWwm8l/OY/MYHAvbKG5j8gK1cHyMrlP64/h6UeA+U/O1S3Q3U75D/bSAHjaYXjPxBz/zD3D+M/5AeX08WO4j+D/OByutjhP1iReBWJV+E/jbt2Yxbi4D+wBVuwBVvgP+4f5v5h7t8/AIqwSrNV3z/vM0eUyJneP7JydYCsXN0/+QY+GotO3D8d29KxLR3bP4gvz01IMto/8oPL6WJH2T9c2MeFfVzYPwUC98oaWtc/6wBZuTpA1j/0v+6plknVP/5+hJryUtQ/aNOANg1o0z/SJ33SJ33SP8HRExw9wdE/jbt2Yxbi0D+5OkBWrg7QP1DJrT+Hpc4/Lh3b0rEtzT/Nm9W8Wc3LPw==",
        "encoding": "base64",
        "path": [
         "_py2js_addTraces",
         "trace_data",
         0,
         "x",
         "buffer"
        ]
       },
       {
        "data": "QmDl0CLb0T/efwh9iaTSP4CtIhSYgdM/Xup+xblx1D+qKITtw3zVPwhABsnoOdY/PWBQQNME1z/juJjZb93XP3R1soeSv9g/olROD5n62T9DOa8xlPPaPyVFSu3x5ts/L8V8oXUG3T+q6Zbg9EDeP7k4bKmrdt8/rT7nMU5e4D8sFovFYrHgP83oK/8cCeE/lnsaYbmn4T/PkH7Xpj7iPwK0Yjkz6OI/QyUX0vxs4z+Ey97Qk+rjP9QIyz2NMOQ/6hZ3w6WG5D8KTotfo+DkP/DNwQacWOU/v29D0a7p5T/daMWv8C3mP2v4ebL2rOY/3/2K3GEG5z+zULFBb2DnP6fdsKzKxOc/W+o1tlon6D/ZiZ3YiZ3oPwjyP68p/eg/qL87NvJV6T+c3vSmN73pP/75559//uk/zm8hYJRq6j8A9bdBu73qPwAAAAAAAOs/JrSX0F5C6z+jsBSBtoXrPzUm0gOVs+s/eDkFL6fg6z8WLu9BHAzsP8zgS02bXew/ynCoZU+d7D8oxitwj9/sPzoWwwVPYO0/Ph/Esn7i7T98xVd8xVfuP91pdafVne4/YNKpeZC77j/GMn8ud//uP3/yJ3/yJ+8/VVVVVVVV7z90L0L3InTvP/bWhmnugu8/GjL7CjCS7z+F5AJeb6PvP/Q8z/M8z+8/76oV21Hm7z8AAAAAAADwPw==",
        "encoding": "base64",
        "path": [
         "_py2js_addTraces",
         "trace_data",
         0,
         "y",
         "buffer"
        ]
       }
      ],
      "model_module": "plotlywidget",
      "model_module_version": "^4.14.3",
      "model_name": "FigureModel",
      "state": {
       "_config": {
        "plotlyServerURL": "https://plot.ly"
       },
       "_data": [],
       "_dom_classes": [],
       "_js2py_layoutDelta": {},
       "_js2py_pointsCallback": {},
       "_js2py_relayout": {},
       "_js2py_restyle": {},
       "_js2py_traceDeltas": {},
       "_js2py_update": {},
       "_last_layout_edit_id": 2,
       "_last_trace_edit_id": 2,
       "_layout": {},
       "_model_module": "plotlywidget",
       "_model_module_version": "^4.14.3",
       "_model_name": "FigureModel",
       "_py2js_addTraces": null,
       "_py2js_animate": {},
       "_py2js_deleteTraces": {},
       "_py2js_moveTraces": {},
       "_py2js_relayout": null,
       "_py2js_removeLayoutProps": {},
       "_py2js_removeTraceProps": {},
       "_py2js_restyle": {},
       "_py2js_update": null,
       "_view_count": 0,
       "_view_module": "plotlywidget",
       "_view_module_version": "^4.14.3",
       "_view_name": "FigureView"
      }
     },
     "9168a1d7b47b4b9595b3b4324b985e1a": {
      "model_module": "@jupyter-widgets/controls",
      "model_module_version": "1.5.0",
      "model_name": "DescriptionStyleModel",
      "state": {
       "_model_module": "@jupyter-widgets/controls",
       "_model_module_version": "1.5.0",
       "_model_name": "DescriptionStyleModel",
       "_view_count": null,
       "_view_module": "@jupyter-widgets/base",
       "_view_module_version": "1.2.0",
       "_view_name": "StyleView",
       "description_width": ""
      }
     },
     "92ad610cd6ca49ff9d096119579bb018": {
      "model_module": "@jupyter-widgets/controls",
      "model_module_version": "1.5.0",
      "model_name": "VBoxModel",
      "state": {
       "_dom_classes": [],
       "_model_module": "@jupyter-widgets/controls",
       "_model_module_version": "1.5.0",
       "_model_name": "VBoxModel",
       "_view_count": null,
       "_view_module": "@jupyter-widgets/controls",
       "_view_module_version": "1.5.0",
       "_view_name": "VBoxView",
       "box_style": "",
       "children": [
        "IPY_MODEL_993c8970025d49a1bf63f34c4ce7616b",
        "IPY_MODEL_b1af38c4dca74ad095b5918f8aafb64b",
        "IPY_MODEL_1787b9f74f474dc390a282e9ff791ef4"
       ],
       "layout": "IPY_MODEL_9c457e2f7b5b4cad8a94c95ba47c14bf"
      }
     },
     "92b049c92fb8468abc43ec0778584868": {
      "model_module": "@jupyter-widgets/base",
      "model_module_version": "1.2.0",
      "model_name": "LayoutModel",
      "state": {
       "_model_module": "@jupyter-widgets/base",
       "_model_module_version": "1.2.0",
       "_model_name": "LayoutModel",
       "_view_count": null,
       "_view_module": "@jupyter-widgets/base",
       "_view_module_version": "1.2.0",
       "_view_name": "LayoutView",
       "align_content": null,
       "align_items": null,
       "align_self": null,
       "border": null,
       "bottom": null,
       "display": null,
       "flex": null,
       "flex_flow": null,
       "grid_area": null,
       "grid_auto_columns": null,
       "grid_auto_flow": null,
       "grid_auto_rows": null,
       "grid_column": null,
       "grid_gap": null,
       "grid_row": null,
       "grid_template_areas": null,
       "grid_template_columns": null,
       "grid_template_rows": null,
       "height": null,
       "justify_content": null,
       "justify_items": null,
       "left": null,
       "margin": "1",
       "max_height": null,
       "max_width": null,
       "min_height": null,
       "min_width": null,
       "object_fit": null,
       "object_position": null,
       "order": null,
       "overflow": null,
       "overflow_x": null,
       "overflow_y": null,
       "padding": null,
       "right": null,
       "top": null,
       "visibility": null,
       "width": "auto"
      }
     },
     "92bb13a0d2fd4c7eb1cac2375b42a680": {
      "model_module": "@jupyter-widgets/controls",
      "model_module_version": "1.5.0",
      "model_name": "DescriptionStyleModel",
      "state": {
       "_model_module": "@jupyter-widgets/controls",
       "_model_module_version": "1.5.0",
       "_model_name": "DescriptionStyleModel",
       "_view_count": null,
       "_view_module": "@jupyter-widgets/base",
       "_view_module_version": "1.2.0",
       "_view_name": "StyleView",
       "description_width": ""
      }
     },
     "93d0b9c89ba14e6cb8c4a39643d8e9c4": {
      "model_module": "@jupyter-widgets/controls",
      "model_module_version": "1.5.0",
      "model_name": "SliderStyleModel",
      "state": {
       "_model_module": "@jupyter-widgets/controls",
       "_model_module_version": "1.5.0",
       "_model_name": "SliderStyleModel",
       "_view_count": null,
       "_view_module": "@jupyter-widgets/base",
       "_view_module_version": "1.2.0",
       "_view_name": "StyleView",
       "description_width": "",
       "handle_color": null
      }
     },
     "942626cb60994e289e14b4c449e5e879": {
      "model_module": "@jupyter-widgets/controls",
      "model_module_version": "1.5.0",
      "model_name": "SliderStyleModel",
      "state": {
       "_model_module": "@jupyter-widgets/controls",
       "_model_module_version": "1.5.0",
       "_model_name": "SliderStyleModel",
       "_view_count": null,
       "_view_module": "@jupyter-widgets/base",
       "_view_module_version": "1.2.0",
       "_view_name": "StyleView",
       "description_width": "",
       "handle_color": null
      }
     },
     "9464127c263646c4acffd8eae9aef477": {
      "model_module": "@jupyter-widgets/controls",
      "model_module_version": "1.5.0",
      "model_name": "HTMLModel",
      "state": {
       "_dom_classes": [],
       "_model_module": "@jupyter-widgets/controls",
       "_model_module_version": "1.5.0",
       "_model_name": "HTMLModel",
       "_view_count": null,
       "_view_module": "@jupyter-widgets/controls",
       "_view_module_version": "1.5.0",
       "_view_name": "HTMLView",
       "description": "",
       "description_tooltip": null,
       "layout": "IPY_MODEL_5863f4284784486d90fb37fc0b752d30",
       "placeholder": "​",
       "style": "IPY_MODEL_1e580a099dbd4977a733a5561989f27e",
       "value": "<span title=\"present_cost_expansion\">Present Cost</span>"
      }
     },
     "9560de1c712244e9815cf067dd2c54b5": {
      "model_module": "@jupyter-widgets/base",
      "model_module_version": "1.2.0",
      "model_name": "LayoutModel",
      "state": {
       "_model_module": "@jupyter-widgets/base",
       "_model_module_version": "1.2.0",
       "_model_name": "LayoutModel",
       "_view_count": null,
       "_view_module": "@jupyter-widgets/base",
       "_view_module_version": "1.2.0",
       "_view_name": "LayoutView",
       "align_content": null,
       "align_items": "center",
       "align_self": null,
       "border": null,
       "bottom": null,
       "display": null,
       "flex": null,
       "flex_flow": null,
       "grid_area": null,
       "grid_auto_columns": null,
       "grid_auto_flow": null,
       "grid_auto_rows": null,
       "grid_column": null,
       "grid_gap": null,
       "grid_row": null,
       "grid_template_areas": null,
       "grid_template_columns": null,
       "grid_template_rows": null,
       "height": null,
       "justify_content": "space-between",
       "justify_items": null,
       "left": null,
       "margin": null,
       "max_height": null,
       "max_width": null,
       "min_height": null,
       "min_width": null,
       "object_fit": null,
       "object_position": null,
       "order": null,
       "overflow": null,
       "overflow_x": null,
       "overflow_y": null,
       "padding": null,
       "right": null,
       "top": null,
       "visibility": null,
       "width": null
      }
     },
     "959dc52534e6424da6bca14d38d8acd8": {
      "buffers": [
       {
        "data": "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",
        "encoding": "base64",
        "path": [
         "_py2js_update",
         "style_data",
         "y",
         0,
         "buffer"
        ]
       }
      ],
      "model_module": "plotlywidget",
      "model_module_version": "^4.14.3",
      "model_name": "FigureModel",
      "state": {
       "_config": {
        "plotlyServerURL": "https://plot.ly"
       },
       "_data": [
        {
         "fill": "tozeroy",
         "marker": {
          "color": "rgb(31, 119, 180)"
         },
         "name": "Overall",
         "type": "scatter",
         "uid": "ad76badb-6f48-4e9a-bd25-6ccdfc232357",
         "x": {
          "dtype": "float64",
          "shape": [
           250
          ]
         },
         "y": {
          "dtype": "float64",
          "shape": [
           250
          ]
         }
        },
        {
         "fill": "tozeroy",
         "marker": {
          "color": "rgb(255, 127, 14)"
         },
         "name": "Inside",
         "type": "scatter",
         "uid": "2092e825-8f75-4ae7-82eb-b2cb44ecc344",
         "x": {
          "dtype": "float64",
          "shape": [
           250
          ]
         },
         "y": {
          "dtype": "float64",
          "shape": [
           250
          ]
         }
        }
       ],
       "_dom_classes": [],
       "_js2py_layoutDelta": {},
       "_js2py_pointsCallback": {},
       "_js2py_relayout": {},
       "_js2py_restyle": {},
       "_js2py_traceDeltas": {},
       "_js2py_update": {},
       "_last_layout_edit_id": 1,
       "_last_trace_edit_id": 1,
       "_layout": {
        "height": 175,
        "margin": {
         "b": 10,
         "l": 10,
         "r": 10,
         "t": 10
        },
        "showlegend": false,
        "width": 300,
        "yaxis": {
         "showticklabels": false
        }
       },
       "_model_module": "plotlywidget",
       "_model_module_version": "^4.14.3",
       "_model_name": "FigureModel",
       "_py2js_addTraces": {},
       "_py2js_animate": {},
       "_py2js_deleteTraces": {},
       "_py2js_moveTraces": {},
       "_py2js_relayout": null,
       "_py2js_removeLayoutProps": {},
       "_py2js_removeTraceProps": {},
       "_py2js_restyle": {},
       "_py2js_update": null,
       "_view_count": 0,
       "_view_module": "plotlywidget",
       "_view_module_version": "^4.14.3",
       "_view_name": "FigureView"
      }
     },
     "97b3af6ef61541df8165a38336622853": {
      "model_module": "@jupyter-widgets/controls",
      "model_module_version": "1.5.0",
      "model_name": "ToggleButtonModel",
      "state": {
       "_dom_classes": [],
       "_model_module": "@jupyter-widgets/controls",
       "_model_module_version": "1.5.0",
       "_model_name": "ToggleButtonModel",
       "_view_count": null,
       "_view_module": "@jupyter-widgets/controls",
       "_view_module_version": "1.5.0",
       "_view_name": "ToggleButtonView",
       "button_style": "",
       "description": "Rev Bond",
       "description_tooltip": null,
       "disabled": false,
       "icon": "",
       "layout": "IPY_MODEL_92b049c92fb8468abc43ec0778584868",
       "style": "IPY_MODEL_002528f30b9e42da894ab08795d58027",
       "tooltip": "Rev Bond",
       "value": true
      }
     },
     "991ae396d9c542b7ab8cec34ed069269": {
      "model_module": "@jupyter-widgets/controls",
      "model_module_version": "1.5.0",
      "model_name": "VBoxModel",
      "state": {
       "_dom_classes": [],
       "_model_module": "@jupyter-widgets/controls",
       "_model_module_version": "1.5.0",
       "_model_name": "VBoxModel",
       "_view_count": null,
       "_view_module": "@jupyter-widgets/controls",
       "_view_module_version": "1.5.0",
       "_view_name": "VBoxView",
       "box_style": "",
       "children": [
        "IPY_MODEL_fd925db0d0484626933df0ad692d803e",
        "IPY_MODEL_fcda147775494e12830c2dd549b638d5",
        "IPY_MODEL_ce9b5411365049c1a77d39cf7ad14252"
       ],
       "layout": "IPY_MODEL_29620a05570b4dd1bca05a9862f5c83b"
      }
     },
     "993c8970025d49a1bf63f34c4ce7616b": {
      "model_module": "@jupyter-widgets/controls",
      "model_module_version": "1.5.0",
      "model_name": "HTMLModel",
      "state": {
       "_dom_classes": [],
       "_model_module": "@jupyter-widgets/controls",
       "_model_module_version": "1.5.0",
       "_model_name": "HTMLModel",
       "_view_count": null,
       "_view_module": "@jupyter-widgets/controls",
       "_view_module_version": "1.5.0",
       "_view_name": "HTMLView",
       "description": "",
       "description_tooltip": null,
       "layout": "IPY_MODEL_ba6cd39b407f46318358ac86b2c1dadf",
       "placeholder": "​",
       "style": "IPY_MODEL_7f3412fc347848ee87f728c115c9e0d1",
       "value": "<span title=\"no_build_travel_time\">No Build Time</span>"
      }
     },
     "9a3ed8597d10410a86dfea2acf8c0693": {
      "model_module": "@jupyter-widgets/base",
      "model_module_version": "1.2.0",
      "model_name": "LayoutModel",
      "state": {
       "_model_module": "@jupyter-widgets/base",
       "_model_module_version": "1.2.0",
       "_model_name": "LayoutModel",
       "_view_count": null,
       "_view_module": "@jupyter-widgets/base",
       "_view_module_version": "1.2.0",
       "_view_name": "LayoutView",
       "align_content": null,
       "align_items": "center",
       "align_self": null,
       "border": "1px solid #AAA",
       "bottom": null,
       "display": null,
       "flex": null,
       "flex_flow": null,
       "grid_area": null,
       "grid_auto_columns": null,
       "grid_auto_flow": null,
       "grid_auto_rows": null,
       "grid_column": null,
       "grid_gap": null,
       "grid_row": null,
       "grid_template_areas": null,
       "grid_template_columns": null,
       "grid_template_rows": null,
       "height": null,
       "justify_content": null,
       "justify_items": null,
       "left": null,
       "margin": "2px",
       "max_height": null,
       "max_width": null,
       "min_height": null,
       "min_width": null,
       "object_fit": null,
       "object_position": null,
       "order": null,
       "overflow": null,
       "overflow_x": null,
       "overflow_y": null,
       "padding": null,
       "right": null,
       "top": null,
       "visibility": null,
       "width": "270px"
      }
     },
     "9aede3dad33d4e0a8ea74fac3ab92cc6": {
      "model_module": "@jupyter-widgets/controls",
      "model_module_version": "1.5.0",
      "model_name": "DescriptionStyleModel",
      "state": {
       "_model_module": "@jupyter-widgets/controls",
       "_model_module_version": "1.5.0",
       "_model_name": "DescriptionStyleModel",
       "_view_count": null,
       "_view_module": "@jupyter-widgets/base",
       "_view_module_version": "1.2.0",
       "_view_name": "StyleView",
       "description_width": ""
      }
     },
     "9aee94a811e242bdbba24a03e64f6bf4": {
      "model_module": "@jupyter-widgets/controls",
      "model_module_version": "1.5.0",
      "model_name": "SliderStyleModel",
      "state": {
       "_model_module": "@jupyter-widgets/controls",
       "_model_module_version": "1.5.0",
       "_model_name": "SliderStyleModel",
       "_view_count": null,
       "_view_module": "@jupyter-widgets/base",
       "_view_module_version": "1.2.0",
       "_view_name": "StyleView",
       "description_width": "",
       "handle_color": null
      }
     },
     "9bcbc36ca54e4c018717af2fe853d5e1": {
      "model_module": "@jupyter-widgets/controls",
      "model_module_version": "1.5.0",
      "model_name": "VBoxModel",
      "state": {
       "_dom_classes": [],
       "_model_module": "@jupyter-widgets/controls",
       "_model_module_version": "1.5.0",
       "_model_name": "VBoxModel",
       "_view_count": null,
       "_view_module": "@jupyter-widgets/controls",
       "_view_module_version": "1.5.0",
       "_view_name": "VBoxView",
       "box_style": "",
       "children": [
        "IPY_MODEL_127a76626113493ca37be4f6b8fb09f9",
        "IPY_MODEL_fed919ee282c475da018aa903ef0a1ec"
       ],
       "layout": "IPY_MODEL_f67a47e99c914a5a8e84a2f7ffcf90bd"
      }
     },
     "9c457e2f7b5b4cad8a94c95ba47c14bf": {
      "model_module": "@jupyter-widgets/base",
      "model_module_version": "1.2.0",
      "model_name": "LayoutModel",
      "state": {
       "_model_module": "@jupyter-widgets/base",
       "_model_module_version": "1.2.0",
       "_model_name": "LayoutModel",
       "_view_count": null,
       "_view_module": "@jupyter-widgets/base",
       "_view_module_version": "1.2.0",
       "_view_name": "LayoutView",
       "align_content": null,
       "align_items": "center",
       "align_self": null,
       "border": "1px solid #AAA",
       "bottom": null,
       "display": null,
       "flex": null,
       "flex_flow": null,
       "grid_area": null,
       "grid_auto_columns": null,
       "grid_auto_flow": null,
       "grid_auto_rows": null,
       "grid_column": null,
       "grid_gap": null,
       "grid_row": null,
       "grid_template_areas": null,
       "grid_template_columns": null,
       "grid_template_rows": null,
       "height": null,
       "justify_content": null,
       "justify_items": null,
       "left": null,
       "margin": "2px",
       "max_height": null,
       "max_width": null,
       "min_height": null,
       "min_width": null,
       "object_fit": null,
       "object_position": null,
       "order": null,
       "overflow": null,
       "overflow_x": null,
       "overflow_y": null,
       "padding": null,
       "right": null,
       "top": null,
       "visibility": null,
       "width": "270px"
      }
     },
     "9d8ef1682ecd43bbb97ca9a1574eadfe": {
      "model_module": "@jupyter-widgets/controls",
      "model_module_version": "1.5.0",
      "model_name": "BoxModel",
      "state": {
       "_dom_classes": [],
       "_model_module": "@jupyter-widgets/controls",
       "_model_module_version": "1.5.0",
       "_model_name": "BoxModel",
       "_view_count": null,
       "_view_module": "@jupyter-widgets/controls",
       "_view_module_version": "1.5.0",
       "_view_name": "BoxView",
       "box_style": "",
       "children": [
        "IPY_MODEL_479169ec74f840f790dc386ee62026ae",
        "IPY_MODEL_2b8ff201466f483aa66d1f76c051bd60"
       ],
       "layout": "IPY_MODEL_321fdb4d6d00477580b869086631d233"
      }
     },
     "9e7fe6a11b4e47d6a6f004be5290eb57": {
      "model_module": "@jupyter-widgets/controls",
      "model_module_version": "1.5.0",
      "model_name": "BoxModel",
      "state": {
       "_dom_classes": [],
       "_model_module": "@jupyter-widgets/controls",
       "_model_module_version": "1.5.0",
       "_model_name": "BoxModel",
       "_view_count": null,
       "_view_module": "@jupyter-widgets/controls",
       "_view_module_version": "1.5.0",
       "_view_name": "BoxView",
       "box_style": "",
       "children": [
        "IPY_MODEL_9bcbc36ca54e4c018717af2fe853d5e1",
        "IPY_MODEL_6b60fd24b06845b688bcd5161dc83bd2",
        "IPY_MODEL_d99981ba8eb640518d44f24eb7c8cdf5"
       ],
       "layout": "IPY_MODEL_bd2dd6bc50c947b6b52ab78ee5e0c9d5"
      }
     },
     "9ed852ef19e647c8b5311cefdd9354d5": {
      "model_module": "@jupyter-widgets/controls",
      "model_module_version": "1.5.0",
      "model_name": "HTMLModel",
      "state": {
       "_dom_classes": [],
       "_model_module": "@jupyter-widgets/controls",
       "_model_module_version": "1.5.0",
       "_model_name": "HTMLModel",
       "_view_count": null,
       "_view_module": "@jupyter-widgets/controls",
       "_view_module_version": "1.5.0",
       "_view_name": "HTMLView",
       "description": "",
       "description_tooltip": null,
       "layout": "IPY_MODEL_d0c7d71cb4c5434f903f9c309cb41d8d",
       "placeholder": "​",
       "style": "IPY_MODEL_2234ba61c87e4398be8835be01181a50",
       "value": "<span title=\"interest_rate\">Interest Rate</span>"
      }
     },
     "9ef605c0e1e54e53bad6162e3b2adac4": {
      "model_module": "@jupyter-widgets/base",
      "model_module_version": "1.2.0",
      "model_name": "LayoutModel",
      "state": {
       "_model_module": "@jupyter-widgets/base",
       "_model_module_version": "1.2.0",
       "_model_name": "LayoutModel",
       "_view_count": null,
       "_view_module": "@jupyter-widgets/base",
       "_view_module_version": "1.2.0",
       "_view_name": "LayoutView",
       "align_content": null,
       "align_items": null,
       "align_self": null,
       "border": null,
       "bottom": null,
       "display": null,
       "flex": null,
       "flex_flow": "row wrap",
       "grid_area": null,
       "grid_auto_columns": null,
       "grid_auto_flow": null,
       "grid_auto_rows": null,
       "grid_column": null,
       "grid_gap": null,
       "grid_row": null,
       "grid_template_areas": null,
       "grid_template_columns": null,
       "grid_template_rows": null,
       "height": null,
       "justify_content": null,
       "justify_items": null,
       "left": null,
       "margin": null,
       "max_height": null,
       "max_width": null,
       "min_height": null,
       "min_width": null,
       "object_fit": null,
       "object_position": null,
       "order": null,
       "overflow": null,
       "overflow_x": null,
       "overflow_y": null,
       "padding": null,
       "right": null,
       "top": null,
       "visibility": null,
       "width": null
      }
     },
     "9ffa528b1ed8498fbfb3a626b9389056": {
      "model_module": "@jupyter-widgets/base",
      "model_module_version": "1.2.0",
      "model_name": "LayoutModel",
      "state": {
       "_model_module": "@jupyter-widgets/base",
       "_model_module_version": "1.2.0",
       "_model_name": "LayoutModel",
       "_view_count": null,
       "_view_module": "@jupyter-widgets/base",
       "_view_module_version": "1.2.0",
       "_view_name": "LayoutView",
       "align_content": null,
       "align_items": "center",
       "align_self": null,
       "border": "1px solid #AAA",
       "bottom": null,
       "display": null,
       "flex": null,
       "flex_flow": null,
       "grid_area": null,
       "grid_auto_columns": null,
       "grid_auto_flow": null,
       "grid_auto_rows": null,
       "grid_column": null,
       "grid_gap": null,
       "grid_row": null,
       "grid_template_areas": null,
       "grid_template_columns": null,
       "grid_template_rows": null,
       "height": null,
       "justify_content": null,
       "justify_items": null,
       "left": null,
       "margin": "2px",
       "max_height": null,
       "max_width": null,
       "min_height": null,
       "min_width": null,
       "object_fit": null,
       "object_position": null,
       "order": null,
       "overflow": null,
       "overflow_x": null,
       "overflow_y": null,
       "padding": null,
       "right": null,
       "top": null,
       "visibility": null,
       "width": "270px"
      }
     },
     "a005df6db93c4675b03b712bb642460d": {
      "model_module": "@jupyter-widgets/controls",
      "model_module_version": "1.5.0",
      "model_name": "SliderStyleModel",
      "state": {
       "_model_module": "@jupyter-widgets/controls",
       "_model_module_version": "1.5.0",
       "_model_name": "SliderStyleModel",
       "_view_count": null,
       "_view_module": "@jupyter-widgets/base",
       "_view_module_version": "1.2.0",
       "_view_name": "StyleView",
       "description_width": "",
       "handle_color": null
      }
     },
     "a059c35b0c2141059bd413ae7f07ba28": {
      "model_module": "plotlywidget",
      "model_module_version": "^4.14.3",
      "model_name": "FigureModel",
      "state": {
       "_config": {
        "plotlyServerURL": "https://plot.ly"
       },
       "_data": [
        {
         "marker": {
          "color": "rgb(255, 127, 14)"
         },
         "name": "Inside",
         "type": "bar",
         "uid": "491cac2a-0f19-4f13-9e66-f57646594b75",
         "x": [
          false,
          true
         ],
         "y": [
          2500,
          2500
         ]
        },
        {
         "marker": {
          "color": "rgb(31, 119, 180)"
         },
         "name": "Outside",
         "type": "bar",
         "uid": "ea001f4f-62f6-4c88-9f22-0bcaea0347d3",
         "x": [
          false,
          true
         ],
         "y": [
          0,
          0
         ]
        }
       ],
       "_dom_classes": [],
       "_js2py_layoutDelta": {},
       "_js2py_pointsCallback": {},
       "_js2py_relayout": {},
       "_js2py_restyle": {},
       "_js2py_traceDeltas": {},
       "_js2py_update": {},
       "_last_layout_edit_id": 3,
       "_last_trace_edit_id": 3,
       "_layout": {
        "barmode": "stack",
        "height": 175,
        "margin": {
         "b": 10,
         "l": 10,
         "r": 10,
         "t": 10
        },
        "showlegend": false,
        "width": 300,
        "yaxis": {
         "showticklabels": false
        }
       },
       "_model_module": "plotlywidget",
       "_model_module_version": "^4.14.3",
       "_model_name": "FigureModel",
       "_py2js_addTraces": {},
       "_py2js_animate": {},
       "_py2js_deleteTraces": {},
       "_py2js_moveTraces": {},
       "_py2js_relayout": null,
       "_py2js_removeLayoutProps": {},
       "_py2js_removeTraceProps": {},
       "_py2js_restyle": {},
       "_py2js_update": null,
       "_view_count": 0,
       "_view_module": "plotlywidget",
       "_view_module_version": "^4.14.3",
       "_view_name": "FigureView"
      }
     },
     "a161403a77fe49e39f60ebfe46b4b641": {
      "model_module": "@jupyter-widgets/base",
      "model_module_version": "1.2.0",
      "model_name": "LayoutModel",
      "state": {
       "_model_module": "@jupyter-widgets/base",
       "_model_module_version": "1.2.0",
       "_model_name": "LayoutModel",
       "_view_count": null,
       "_view_module": "@jupyter-widgets/base",
       "_view_module_version": "1.2.0",
       "_view_name": "LayoutView",
       "align_content": null,
       "align_items": null,
       "align_self": null,
       "border": null,
       "bottom": null,
       "display": null,
       "flex": null,
       "flex_flow": null,
       "grid_area": null,
       "grid_auto_columns": null,
       "grid_auto_flow": null,
       "grid_auto_rows": null,
       "grid_column": null,
       "grid_gap": null,
       "grid_row": null,
       "grid_template_areas": null,
       "grid_template_columns": null,
       "grid_template_rows": null,
       "height": null,
       "justify_content": null,
       "justify_items": null,
       "left": null,
       "margin": "1",
       "max_height": null,
       "max_width": null,
       "min_height": null,
       "min_width": null,
       "object_fit": null,
       "object_position": null,
       "order": null,
       "overflow": null,
       "overflow_x": null,
       "overflow_y": null,
       "padding": null,
       "right": null,
       "top": null,
       "visibility": null,
       "width": "auto"
      }
     },
     "a36c3abce744447fac856e6f1b713dd0": {
      "model_module": "@jupyter-widgets/controls",
      "model_module_version": "1.5.0",
      "model_name": "DescriptionStyleModel",
      "state": {
       "_model_module": "@jupyter-widgets/controls",
       "_model_module_version": "1.5.0",
       "_model_name": "DescriptionStyleModel",
       "_view_count": null,
       "_view_module": "@jupyter-widgets/base",
       "_view_module_version": "1.2.0",
       "_view_name": "StyleView",
       "description_width": ""
      }
     },
     "a3f0fe6dc4834415a64c056abd485ec8": {
      "model_module": "@jupyter-widgets/controls",
      "model_module_version": "1.5.0",
      "model_name": "FloatRangeSliderModel",
      "state": {
       "_dom_classes": [],
       "_model_module": "@jupyter-widgets/controls",
       "_model_module_version": "1.5.0",
       "_model_name": "FloatRangeSliderModel",
       "_view_count": null,
       "_view_module": "@jupyter-widgets/controls",
       "_view_module_version": "1.5.0",
       "_view_name": "FloatRangeSliderView",
       "continuous_update": false,
       "description": "",
       "description_tooltip": null,
       "disabled": false,
       "layout": "IPY_MODEL_891c93c06c964c19877e7f647975f9d2",
       "max": 2162.1978540475584,
       "min": 0.013507128455213768,
       "orientation": "horizontal",
       "readout": true,
       "readout_format": ".3g",
       "step": 10.810921734595516,
       "style": "IPY_MODEL_3a2a6e3cc5b14b0d9a4ee5cbe316d8aa",
       "value": [
        0.013507128455213768,
        2162.1978540475584
       ]
      }
     },
     "a43ddc4d1c1a40fbb00fcd0b3a241f69": {
      "model_module": "@jupyter-widgets/controls",
      "model_module_version": "1.5.0",
      "model_name": "LabelModel",
      "state": {
       "_dom_classes": [],
       "_model_module": "@jupyter-widgets/controls",
       "_model_module_version": "1.5.0",
       "_model_name": "LabelModel",
       "_view_count": null,
       "_view_module": "@jupyter-widgets/controls",
       "_view_module_version": "1.5.0",
       "_view_name": "LabelView",
       "description": "",
       "description_tooltip": null,
       "layout": "IPY_MODEL_e5d668b0d35d432286712168f9dc2d79",
       "placeholder": "​",
       "style": "IPY_MODEL_c32018d067c847448710cec2243e5ba3",
       "value": ""
      }
     },
     "a6bd20e140204993a82671137ea18e2a": {
      "model_module": "@jupyter-widgets/controls",
      "model_module_version": "1.5.0",
      "model_name": "DescriptionStyleModel",
      "state": {
       "_model_module": "@jupyter-widgets/controls",
       "_model_module_version": "1.5.0",
       "_model_name": "DescriptionStyleModel",
       "_view_count": null,
       "_view_module": "@jupyter-widgets/base",
       "_view_module_version": "1.2.0",
       "_view_name": "StyleView",
       "description_width": ""
      }
     },
     "a8c159fbfe684d1fa3fb0bde67cbcbf4": {
      "model_module": "@jupyter-widgets/base",
      "model_module_version": "1.2.0",
      "model_name": "LayoutModel",
      "state": {
       "_model_module": "@jupyter-widgets/base",
       "_model_module_version": "1.2.0",
       "_model_name": "LayoutModel",
       "_view_count": null,
       "_view_module": "@jupyter-widgets/base",
       "_view_module_version": "1.2.0",
       "_view_name": "LayoutView",
       "align_content": null,
       "align_items": "center",
       "align_self": null,
       "border": null,
       "bottom": null,
       "display": null,
       "flex": null,
       "flex_flow": null,
       "grid_area": null,
       "grid_auto_columns": null,
       "grid_auto_flow": null,
       "grid_auto_rows": null,
       "grid_column": null,
       "grid_gap": null,
       "grid_row": null,
       "grid_template_areas": null,
       "grid_template_columns": null,
       "grid_template_rows": null,
       "height": null,
       "justify_content": "space-between",
       "justify_items": null,
       "left": null,
       "margin": null,
       "max_height": null,
       "max_width": null,
       "min_height": null,
       "min_width": null,
       "object_fit": null,
       "object_position": null,
       "order": null,
       "overflow": null,
       "overflow_x": null,
       "overflow_y": null,
       "padding": null,
       "right": null,
       "top": null,
       "visibility": null,
       "width": null
      }
     },
     "a933b30048ed435f831f153846792ad0": {
      "model_module": "@jupyter-widgets/controls",
      "model_module_version": "1.5.0",
      "model_name": "SliderStyleModel",
      "state": {
       "_model_module": "@jupyter-widgets/controls",
       "_model_module_version": "1.5.0",
       "_model_name": "SliderStyleModel",
       "_view_count": null,
       "_view_module": "@jupyter-widgets/base",
       "_view_module_version": "1.2.0",
       "_view_name": "StyleView",
       "description_width": "",
       "handle_color": null
      }
     },
     "aa4d48ad824d470989285c8104269209": {
      "buffers": [
       {
        "data": "5WQ/Qzv/E0DlZD9DO/8TQOZkP0M7/xNA5mQ/Qzv/E0DkZD9DO/8TQOhkP0M7/xNA3GQ/Qzv/E0DoZD9DO/8TQOhkP0M7/xNA4GQ/Qzv/E0DoZD9DO/8TQOhkP0M7/xNA4GQ/Qzv/E0DgZD9DO/8TQPBkP0M7/xNA4GQ/Qzv/E0DgZD9DO/8TQPBkP0M7/xNA4GQ/Qzv/E0DgZD9DO/8TQA==",
        "encoding": "base64",
        "path": [
         "_data",
         0,
         "width",
         "buffer"
        ]
       },
       {
        "data": "NEGswhQERj9HeuVj6/8TQJZvklOT/yNACSIy9TD/LUA+6mhLZ/8zQHfDOBw2/zhAsZwI7QT/PUD0OuzeaX9BQJEnVEdR/0NALhS8rzh/RkDKACQYIP9IQGfti4AHf0tABNrz6O7+TUBQ460oaz9QQJ7Z4dxef1FA7c8VkVK/UkA7xklFRv9TQIm8ffk5P1VA2LKxrS1/VkAmqeVhIb9XQA==",
        "encoding": "base64",
        "path": [
         "_data",
         0,
         "x",
         "buffer"
        ]
       },
       {
        "data": "5WQ/Qzv/E0DlZD9DO/8TQOZkP0M7/xNA5mQ/Qzv/E0DkZD9DO/8TQOhkP0M7/xNA3GQ/Qzv/E0DoZD9DO/8TQOhkP0M7/xNA4GQ/Qzv/E0DoZD9DO/8TQOhkP0M7/xNA4GQ/Qzv/E0DgZD9DO/8TQPBkP0M7/xNA4GQ/Qzv/E0DgZD9DO/8TQPBkP0M7/xNA4GQ/Qzv/E0DgZD9DO/8TQA==",
        "encoding": "base64",
        "path": [
         "_data",
         1,
         "width",
         "buffer"
        ]
       },
       {
        "data": "NEGswhQERj9HeuVj6/8TQJZvklOT/yNACSIy9TD/LUA+6mhLZ/8zQHfDOBw2/zhAsZwI7QT/PUD0OuzeaX9BQJEnVEdR/0NALhS8rzh/RkDKACQYIP9IQGfti4AHf0tABNrz6O7+TUBQ460oaz9QQJ7Z4dxef1FA7c8VkVK/UkA7xklFRv9TQIm8ffk5P1VA2LKxrS1/VkAmqeVhIb9XQA==",
        "encoding": "base64",
        "path": [
         "_data",
         1,
         "x",
         "buffer"
        ]
       }
      ],
      "model_module": "plotlywidget",
      "model_module_version": "^4.14.3",
      "model_name": "FigureModel",
      "state": {
       "_config": {
        "plotlyServerURL": "https://plot.ly"
       },
       "_data": [
        {
         "marker": {
          "color": "rgb(255, 127, 14)"
         },
         "name": "Inside",
         "type": "bar",
         "uid": "41745455-02d8-4b48-8d2d-6b92fa7481b0",
         "width": {
          "dtype": "float64",
          "shape": [
           20
          ]
         },
         "x": {
          "dtype": "float64",
          "shape": [
           20
          ]
         },
         "y": [
          250,
          250,
          250,
          250,
          250,
          250,
          249,
          251,
          250,
          249,
          251,
          249,
          251,
          250,
          249,
          250,
          250,
          251,
          250,
          250
         ]
        },
        {
         "marker": {
          "color": "rgb(31, 119, 180)"
         },
         "name": "Outside",
         "type": "bar",
         "uid": "a0abb475-4447-4cf0-be7c-6a86ed081aa2",
         "width": {
          "dtype": "float64",
          "shape": [
           20
          ]
         },
         "x": {
          "dtype": "float64",
          "shape": [
           20
          ]
         },
         "y": [
          0,
          0,
          0,
          0,
          0,
          0,
          0,
          0,
          0,
          0,
          0,
          0,
          0,
          0,
          0,
          0,
          0,
          0,
          0,
          0
         ]
        }
       ],
       "_dom_classes": [],
       "_js2py_layoutDelta": {},
       "_js2py_pointsCallback": {},
       "_js2py_relayout": {},
       "_js2py_restyle": {},
       "_js2py_traceDeltas": {},
       "_js2py_update": {},
       "_last_layout_edit_id": 3,
       "_last_trace_edit_id": 3,
       "_layout": {
        "barmode": "stack",
        "dragmode": "select",
        "height": 175,
        "margin": {
         "b": 10,
         "l": 10,
         "r": 10,
         "t": 10
        },
        "selectdirection": "h",
        "showlegend": false,
        "width": 300,
        "yaxis": {
         "showticklabels": false
        }
       },
       "_model_module": "plotlywidget",
       "_model_module_version": "^4.14.3",
       "_model_name": "FigureModel",
       "_py2js_addTraces": {},
       "_py2js_animate": {},
       "_py2js_deleteTraces": {},
       "_py2js_moveTraces": {},
       "_py2js_relayout": null,
       "_py2js_removeLayoutProps": {},
       "_py2js_removeTraceProps": {},
       "_py2js_restyle": {},
       "_py2js_update": null,
       "_view_count": 0,
       "_view_module": "plotlywidget",
       "_view_module_version": "^4.14.3",
       "_view_name": "FigureView"
      }
     },
     "ab9f9dadc44547e3899495f0ba334903": {
      "model_module": "@jupyter-widgets/controls",
      "model_module_version": "1.5.0",
      "model_name": "DescriptionStyleModel",
      "state": {
       "_model_module": "@jupyter-widgets/controls",
       "_model_module_version": "1.5.0",
       "_model_name": "DescriptionStyleModel",
       "_view_count": null,
       "_view_module": "@jupyter-widgets/base",
       "_view_module_version": "1.2.0",
       "_view_name": "StyleView",
       "description_width": ""
      }
     },
     "abdc65dbfee54f35a036326762e99412": {
      "model_module": "@jupyter-widgets/controls",
      "model_module_version": "1.5.0",
      "model_name": "ToggleButtonModel",
      "state": {
       "_dom_classes": [],
       "_model_module": "@jupyter-widgets/controls",
       "_model_module_version": "1.5.0",
       "_model_name": "ToggleButtonModel",
       "_view_count": null,
       "_view_module": "@jupyter-widgets/controls",
       "_view_module_version": "1.5.0",
       "_view_name": "ToggleButtonView",
       "button_style": "",
       "description": "False",
       "description_tooltip": null,
       "disabled": false,
       "icon": "",
       "layout": "IPY_MODEL_47646597d72e465e9bf75ad998dcd694",
       "style": "IPY_MODEL_583615315a484f578aba1df29b3bdde6",
       "tooltip": "False",
       "value": true
      }
     },
     "abe054c7ac2447efa41ff5a8e81d7d2b": {
      "model_module": "@jupyter-widgets/controls",
      "model_module_version": "1.5.0",
      "model_name": "HTMLModel",
      "state": {
       "_dom_classes": [],
       "_model_module": "@jupyter-widgets/controls",
       "_model_module_version": "1.5.0",
       "_model_name": "HTMLModel",
       "_view_count": null,
       "_view_module": "@jupyter-widgets/controls",
       "_view_module_version": "1.5.0",
       "_view_name": "HTMLView",
       "description": "",
       "description_tooltip": null,
       "layout": "IPY_MODEL_78bbe6832ac64c9580113fc870077694",
       "placeholder": "​",
       "style": "IPY_MODEL_c8d92a79545b425d90accce36adf8a94",
       "value": "<span title=\"interest_rate_lock\">Rate Lock</span>"
      }
     },
     "abfa1606133648f6b0822b29d5434f9e": {
      "model_module": "@jupyter-widgets/base",
      "model_module_version": "1.2.0",
      "model_name": "LayoutModel",
      "state": {
       "_model_module": "@jupyter-widgets/base",
       "_model_module_version": "1.2.0",
       "_model_name": "LayoutModel",
       "_view_count": null,
       "_view_module": "@jupyter-widgets/base",
       "_view_module_version": "1.2.0",
       "_view_name": "LayoutView",
       "align_content": null,
       "align_items": null,
       "align_self": null,
       "border": null,
       "bottom": null,
       "display": null,
       "flex": null,
       "flex_flow": null,
       "grid_area": null,
       "grid_auto_columns": null,
       "grid_auto_flow": null,
       "grid_auto_rows": null,
       "grid_column": null,
       "grid_gap": null,
       "grid_row": null,
       "grid_template_areas": null,
       "grid_template_columns": null,
       "grid_template_rows": null,
       "height": null,
       "justify_content": null,
       "justify_items": null,
       "left": null,
       "margin": null,
       "max_height": null,
       "max_width": null,
       "min_height": null,
       "min_width": null,
       "object_fit": null,
       "object_position": null,
       "order": null,
       "overflow": null,
       "overflow_x": null,
       "overflow_y": null,
       "padding": null,
       "right": null,
       "top": null,
       "visibility": null,
       "width": null
      }
     },
     "ac55c13cc6c94b63b81463706eaf7470": {
      "model_module": "@jupyter-widgets/controls",
      "model_module_version": "1.5.0",
      "model_name": "DropdownModel",
      "state": {
       "_dom_classes": [],
       "_model_module": "@jupyter-widgets/controls",
       "_model_module_version": "1.5.0",
       "_model_name": "DropdownModel",
       "_options_labels": [
        "linear",
        "log"
       ],
       "_view_count": null,
       "_view_module": "@jupyter-widgets/controls",
       "_view_module_version": "1.5.0",
       "_view_name": "DropdownView",
       "description": "",
       "description_tooltip": null,
       "disabled": false,
       "index": 0,
       "layout": "IPY_MODEL_66f6d05793254fac911a27f0a933b0f8",
       "style": "IPY_MODEL_0604b2faaf144c3288569ea90c1d5b28"
      }
     },
     "ad217775f2df4a818151a10deb4498b8": {
      "model_module": "@jupyter-widgets/controls",
      "model_module_version": "1.5.0",
      "model_name": "VBoxModel",
      "state": {
       "_dom_classes": [],
       "_model_module": "@jupyter-widgets/controls",
       "_model_module_version": "1.5.0",
       "_model_name": "VBoxModel",
       "_view_count": null,
       "_view_module": "@jupyter-widgets/controls",
       "_view_module_version": "1.5.0",
       "_view_name": "VBoxView",
       "box_style": "",
       "children": [
        "IPY_MODEL_45c0bde3262d405c9c52486bdb47be3f",
        "IPY_MODEL_aa4d48ad824d470989285c8104269209",
        "IPY_MODEL_d2b0f444efff4a85bef2612858ecca01"
       ],
       "layout": "IPY_MODEL_2328a1394b63428a8c59c7460ca522bc"
      }
     },
     "adffbd6690774c559cbbd8d0ae3bf7a3": {
      "model_module": "@jupyter-widgets/base",
      "model_module_version": "1.2.0",
      "model_name": "LayoutModel",
      "state": {
       "_model_module": "@jupyter-widgets/base",
       "_model_module_version": "1.2.0",
       "_model_name": "LayoutModel",
       "_view_count": null,
       "_view_module": "@jupyter-widgets/base",
       "_view_module_version": "1.2.0",
       "_view_name": "LayoutView",
       "align_content": null,
       "align_items": null,
       "align_self": null,
       "border": null,
       "bottom": null,
       "display": null,
       "flex": null,
       "flex_flow": null,
       "grid_area": null,
       "grid_auto_columns": null,
       "grid_auto_flow": null,
       "grid_auto_rows": null,
       "grid_column": null,
       "grid_gap": null,
       "grid_row": null,
       "grid_template_areas": null,
       "grid_template_columns": null,
       "grid_template_rows": null,
       "height": null,
       "justify_content": null,
       "justify_items": null,
       "left": null,
       "margin": null,
       "max_height": null,
       "max_width": null,
       "min_height": null,
       "min_width": null,
       "object_fit": null,
       "object_position": null,
       "order": null,
       "overflow": null,
       "overflow_x": null,
       "overflow_y": null,
       "padding": null,
       "right": null,
       "top": null,
       "visibility": null,
       "width": null
      }
     },
     "aee29de7073441a9b6d63646b1dc3063": {
      "model_module": "@jupyter-widgets/controls",
      "model_module_version": "1.5.0",
      "model_name": "TextModel",
      "state": {
       "_dom_classes": [],
       "_model_module": "@jupyter-widgets/controls",
       "_model_module_version": "1.5.0",
       "_model_name": "TextModel",
       "_view_count": null,
       "_view_module": "@jupyter-widgets/controls",
       "_view_module_version": "1.5.0",
       "_view_name": "TextView",
       "continuous_update": true,
       "description": "",
       "description_tooltip": null,
       "disabled": true,
       "layout": "IPY_MODEL_593f503c4ad84a1cbb79f12b85f5bf3a",
       "placeholder": "​",
       "style": "IPY_MODEL_2e9b3c69ebfa41d89bd14e89433622c9",
       "value": ""
      }
     },
     "af7da0fbdccb429fa447ce95f0ef41aa": {
      "model_module": "@jupyter-widgets/controls",
      "model_module_version": "1.5.0",
      "model_name": "DescriptionStyleModel",
      "state": {
       "_model_module": "@jupyter-widgets/controls",
       "_model_module_version": "1.5.0",
       "_model_name": "DescriptionStyleModel",
       "_view_count": null,
       "_view_module": "@jupyter-widgets/base",
       "_view_module_version": "1.2.0",
       "_view_name": "StyleView",
       "description_width": ""
      }
     },
     "b1af38c4dca74ad095b5918f8aafb64b": {
      "buffers": [
       {
        "data": "0E4/lD2/E0DATj+UPb8TQNBOP5Q9vxNA0E4/lD2/E0DATj+UPb8TQNBOP5Q9vxNA0E4/lD2/E0DATj+UPb8TQMBOP5Q9vxNA0E4/lD2/E0DQTj+UPb8TQMBOP5Q9vxNA0E4/lD2/E0DQTj+UPb8TQMBOP5Q9vxNA4E4/lD2/E0DATj+UPb8TQMBOP5Q9vxNAwE4/lD2/E0DgTj+UPb8TQA==",
        "encoding": "base64",
        "path": [
         "_data",
         0,
         "width",
         "buffer"
        ]
       },
       {
        "data": "urDp+Sn4TkBKzTjWCLhQQDbCfK/881FAI7fAiPAvU0AQrARi5GtUQPygSDvYp1VA6ZWMFMzjVkDWitDtvx9YQMJ/FMezW1lArnRYoKeXWkCbaZx5m9NbQIhe4FKPD11AdFMkLINLXkBhSGgFd4dfQKceVm+1YWBAHRn4W6//YECUE5pIqZ1hQAoOPDWjO2JAgAjeIZ3ZYkD2AoAOl3djQA==",
        "encoding": "base64",
        "path": [
         "_data",
         0,
         "x",
         "buffer"
        ]
       },
       {
        "data": "0E4/lD2/E0DATj+UPb8TQNBOP5Q9vxNA0E4/lD2/E0DATj+UPb8TQNBOP5Q9vxNA0E4/lD2/E0DATj+UPb8TQMBOP5Q9vxNA0E4/lD2/E0DQTj+UPb8TQMBOP5Q9vxNA0E4/lD2/E0DQTj+UPb8TQMBOP5Q9vxNA4E4/lD2/E0DATj+UPb8TQMBOP5Q9vxNAwE4/lD2/E0DgTj+UPb8TQA==",
        "encoding": "base64",
        "path": [
         "_data",
         1,
         "width",
         "buffer"
        ]
       },
       {
        "data": "urDp+Sn4TkBKzTjWCLhQQDbCfK/881FAI7fAiPAvU0AQrARi5GtUQPygSDvYp1VA6ZWMFMzjVkDWitDtvx9YQMJ/FMezW1lArnRYoKeXWkCbaZx5m9NbQIhe4FKPD11AdFMkLINLXkBhSGgFd4dfQKceVm+1YWBAHRn4W6//YECUE5pIqZ1hQAoOPDWjO2JAgAjeIZ3ZYkD2AoAOl3djQA==",
        "encoding": "base64",
        "path": [
         "_data",
         1,
         "x",
         "buffer"
        ]
       }
      ],
      "model_module": "plotlywidget",
      "model_module_version": "^4.14.3",
      "model_name": "FigureModel",
      "state": {
       "_config": {
        "plotlyServerURL": "https://plot.ly"
       },
       "_data": [
        {
         "marker": {
          "color": "rgb(255, 127, 14)"
         },
         "name": "Inside",
         "type": "bar",
         "uid": "1bd9e53b-38c1-49a2-b503-6392314afcb0",
         "width": {
          "dtype": "float64",
          "shape": [
           20
          ]
         },
         "x": {
          "dtype": "float64",
          "shape": [
           20
          ]
         },
         "y": [
          1080,
          838,
          655,
          470,
          391,
          345,
          283,
          248,
          178,
          152,
          97,
          89,
          59,
          37,
          34,
          10,
          12,
          13,
          3,
          6
         ]
        },
        {
         "marker": {
          "color": "rgb(31, 119, 180)"
         },
         "name": "Outside",
         "type": "bar",
         "uid": "68a31e62-5f0f-4ce8-bc42-a678efc29358",
         "width": {
          "dtype": "float64",
          "shape": [
           20
          ]
         },
         "x": {
          "dtype": "float64",
          "shape": [
           20
          ]
         },
         "y": [
          0,
          0,
          0,
          0,
          0,
          0,
          0,
          0,
          0,
          0,
          0,
          0,
          0,
          0,
          0,
          0,
          0,
          0,
          0,
          0
         ]
        }
       ],
       "_dom_classes": [],
       "_js2py_layoutDelta": {},
       "_js2py_pointsCallback": {},
       "_js2py_relayout": {},
       "_js2py_restyle": {},
       "_js2py_traceDeltas": {},
       "_js2py_update": {},
       "_last_layout_edit_id": 3,
       "_last_trace_edit_id": 3,
       "_layout": {
        "barmode": "stack",
        "dragmode": "select",
        "height": 175,
        "margin": {
         "b": 10,
         "l": 10,
         "r": 10,
         "t": 10
        },
        "selectdirection": "h",
        "showlegend": false,
        "width": 300,
        "yaxis": {
         "showticklabels": false
        }
       },
       "_model_module": "plotlywidget",
       "_model_module_version": "^4.14.3",
       "_model_name": "FigureModel",
       "_py2js_addTraces": {},
       "_py2js_animate": {},
       "_py2js_deleteTraces": {},
       "_py2js_moveTraces": {},
       "_py2js_relayout": null,
       "_py2js_removeLayoutProps": {},
       "_py2js_removeTraceProps": {},
       "_py2js_restyle": {},
       "_py2js_update": null,
       "_view_count": 0,
       "_view_module": "plotlywidget",
       "_view_module_version": "^4.14.3",
       "_view_name": "FigureView"
      }
     },
     "b20337cc68e04b0cad00926b0715313b": {
      "buffers": [
       {
        "data": "XGcpdEJtUj9cZyl0Qm1SP1xnKXRCbVI/XGcpdEJtUj9cZyl0Qm1SP15nKXRCbVI/WGcpdEJtUj9gZyl0Qm1SP2BnKXRCbVI/WGcpdEJtUj9YZyl0Qm1SP2BnKXRCbVI/YGcpdEJtUj9QZyl0Qm1SP2BnKXRCbVI/YGcpdEJtUj9gZyl0Qm1SP2BnKXRCbVI/UGcpdEJtUj9gZyl0Qm1SPw==",
        "encoding": "base64",
        "path": [
         "_data",
         0,
         "width",
         "buffer"
        ]
       },
       {
        "data": "YX0S8JhyZL9mk/tr73dWvyiwSN+zKjC/pHau+CrFTD9XUUD462dgPwUFVTKNnmk/Wtw0NpdqcT8wNj/T5wV2PwiQSXA4oXo/4OlTDYk8fz/bIS/V7OuBP8ZOtCOVOYQ/sns5cj2Hhj+eqL7A5dSIP4jVQw+OIos/dALJXTZwjT9gL06s3r2PPyauaX3DBZE/nESspJcskj8R2+7La1OTPw==",
        "encoding": "base64",
        "path": [
         "_data",
         0,
         "x",
         "buffer"
        ]
       },
       {
        "data": "XGcpdEJtUj9cZyl0Qm1SP1xnKXRCbVI/XGcpdEJtUj9cZyl0Qm1SP15nKXRCbVI/WGcpdEJtUj9gZyl0Qm1SP2BnKXRCbVI/WGcpdEJtUj9YZyl0Qm1SP2BnKXRCbVI/YGcpdEJtUj9QZyl0Qm1SP2BnKXRCbVI/YGcpdEJtUj9gZyl0Qm1SP2BnKXRCbVI/UGcpdEJtUj9gZyl0Qm1SPw==",
        "encoding": "base64",
        "path": [
         "_data",
         1,
         "width",
         "buffer"
        ]
       },
       {
        "data": "YX0S8JhyZL9mk/tr73dWvyiwSN+zKjC/pHau+CrFTD9XUUD462dgPwUFVTKNnmk/Wtw0NpdqcT8wNj/T5wV2PwiQSXA4oXo/4OlTDYk8fz/bIS/V7OuBP8ZOtCOVOYQ/sns5cj2Hhj+eqL7A5dSIP4jVQw+OIos/dALJXTZwjT9gL06s3r2PPyauaX3DBZE/nESspJcskj8R2+7La1OTPw==",
        "encoding": "base64",
        "path": [
         "_data",
         1,
         "x",
         "buffer"
        ]
       }
      ],
      "model_module": "plotlywidget",
      "model_module_version": "^4.14.3",
      "model_name": "FigureModel",
      "state": {
       "_config": {
        "plotlyServerURL": "https://plot.ly"
       },
       "_data": [
        {
         "marker": {
          "color": "rgb(255, 127, 14)"
         },
         "name": "Inside",
         "type": "bar",
         "uid": "ec2144d8-1c41-42b4-99dd-f612c2fa8b95",
         "width": {
          "dtype": "float64",
          "shape": [
           20
          ]
         },
         "x": {
          "dtype": "float64",
          "shape": [
           20
          ]
         },
         "y": [
          251,
          249,
          251,
          249,
          251,
          249,
          251,
          249,
          250,
          251,
          249,
          250,
          250,
          250,
          250,
          249,
          251,
          250,
          250,
          250
         ]
        },
        {
         "marker": {
          "color": "rgb(31, 119, 180)"
         },
         "name": "Outside",
         "type": "bar",
         "uid": "95e7229a-b9ec-4399-92e2-c82ced260460",
         "width": {
          "dtype": "float64",
          "shape": [
           20
          ]
         },
         "x": {
          "dtype": "float64",
          "shape": [
           20
          ]
         },
         "y": [
          0,
          0,
          0,
          0,
          0,
          0,
          0,
          0,
          0,
          0,
          0,
          0,
          0,
          0,
          0,
          0,
          0,
          0,
          0,
          0
         ]
        }
       ],
       "_dom_classes": [],
       "_js2py_layoutDelta": {},
       "_js2py_pointsCallback": {},
       "_js2py_relayout": {},
       "_js2py_restyle": {},
       "_js2py_traceDeltas": {},
       "_js2py_update": {},
       "_last_layout_edit_id": 3,
       "_last_trace_edit_id": 3,
       "_layout": {
        "barmode": "stack",
        "dragmode": "select",
        "height": 175,
        "margin": {
         "b": 10,
         "l": 10,
         "r": 10,
         "t": 10
        },
        "selectdirection": "h",
        "showlegend": false,
        "width": 300,
        "yaxis": {
         "showticklabels": false
        }
       },
       "_model_module": "plotlywidget",
       "_model_module_version": "^4.14.3",
       "_model_name": "FigureModel",
       "_py2js_addTraces": {},
       "_py2js_animate": {},
       "_py2js_deleteTraces": {},
       "_py2js_moveTraces": {},
       "_py2js_relayout": null,
       "_py2js_removeLayoutProps": {},
       "_py2js_removeTraceProps": {},
       "_py2js_restyle": {},
       "_py2js_update": null,
       "_view_count": 0,
       "_view_module": "plotlywidget",
       "_view_module_version": "^4.14.3",
       "_view_name": "FigureView"
      }
     },
     "b25e4f4a0a2244d687051c1e643055a8": {
      "model_module": "@jupyter-widgets/base",
      "model_module_version": "1.2.0",
      "model_name": "LayoutModel",
      "state": {
       "_model_module": "@jupyter-widgets/base",
       "_model_module_version": "1.2.0",
       "_model_name": "LayoutModel",
       "_view_count": null,
       "_view_module": "@jupyter-widgets/base",
       "_view_module_version": "1.2.0",
       "_view_name": "LayoutView",
       "align_content": null,
       "align_items": null,
       "align_self": null,
       "border": null,
       "bottom": null,
       "display": null,
       "flex": null,
       "flex_flow": null,
       "grid_area": null,
       "grid_auto_columns": null,
       "grid_auto_flow": null,
       "grid_auto_rows": null,
       "grid_column": null,
       "grid_gap": null,
       "grid_row": null,
       "grid_template_areas": null,
       "grid_template_columns": null,
       "grid_template_rows": null,
       "height": null,
       "justify_content": null,
       "justify_items": null,
       "left": null,
       "margin": null,
       "max_height": null,
       "max_width": null,
       "min_height": null,
       "min_width": null,
       "object_fit": null,
       "object_position": null,
       "order": null,
       "overflow": null,
       "overflow_x": null,
       "overflow_y": null,
       "padding": null,
       "right": null,
       "top": null,
       "visibility": null,
       "width": null
      }
     },
     "b3ee5ac6852b438c99b281b17305366b": {
      "model_module": "@jupyter-widgets/controls",
      "model_module_version": "1.5.0",
      "model_name": "DescriptionStyleModel",
      "state": {
       "_model_module": "@jupyter-widgets/controls",
       "_model_module_version": "1.5.0",
       "_model_name": "DescriptionStyleModel",
       "_view_count": null,
       "_view_module": "@jupyter-widgets/base",
       "_view_module_version": "1.2.0",
       "_view_name": "StyleView",
       "description_width": ""
      }
     },
     "b3f370f5238e4e03b24c43320e14b992": {
      "model_module": "@jupyter-widgets/base",
      "model_module_version": "1.2.0",
      "model_name": "LayoutModel",
      "state": {
       "_model_module": "@jupyter-widgets/base",
       "_model_module_version": "1.2.0",
       "_model_name": "LayoutModel",
       "_view_count": null,
       "_view_module": "@jupyter-widgets/base",
       "_view_module_version": "1.2.0",
       "_view_name": "LayoutView",
       "align_content": null,
       "align_items": null,
       "align_self": null,
       "border": null,
       "bottom": null,
       "display": null,
       "flex": null,
       "flex_flow": null,
       "grid_area": null,
       "grid_auto_columns": null,
       "grid_auto_flow": null,
       "grid_auto_rows": null,
       "grid_column": null,
       "grid_gap": null,
       "grid_row": null,
       "grid_template_areas": null,
       "grid_template_columns": null,
       "grid_template_rows": null,
       "height": null,
       "justify_content": null,
       "justify_items": null,
       "left": null,
       "margin": null,
       "max_height": null,
       "max_width": null,
       "min_height": null,
       "min_width": null,
       "object_fit": null,
       "object_position": null,
       "order": null,
       "overflow": null,
       "overflow_x": null,
       "overflow_y": null,
       "padding": null,
       "right": null,
       "top": null,
       "visibility": null,
       "width": null
      }
     },
     "b45b2e05ef744c5c97084d3e6755bdd8": {
      "model_module": "@jupyter-widgets/base",
      "model_module_version": "1.2.0",
      "model_name": "LayoutModel",
      "state": {
       "_model_module": "@jupyter-widgets/base",
       "_model_module_version": "1.2.0",
       "_model_name": "LayoutModel",
       "_view_count": null,
       "_view_module": "@jupyter-widgets/base",
       "_view_module_version": "1.2.0",
       "_view_name": "LayoutView",
       "align_content": null,
       "align_items": null,
       "align_self": null,
       "border": null,
       "bottom": null,
       "display": null,
       "flex": null,
       "flex_flow": null,
       "grid_area": null,
       "grid_auto_columns": null,
       "grid_auto_flow": null,
       "grid_auto_rows": null,
       "grid_column": null,
       "grid_gap": null,
       "grid_row": null,
       "grid_template_areas": null,
       "grid_template_columns": null,
       "grid_template_rows": null,
       "height": null,
       "justify_content": null,
       "justify_items": null,
       "left": null,
       "margin": null,
       "max_height": null,
       "max_width": null,
       "min_height": null,
       "min_width": null,
       "object_fit": null,
       "object_position": null,
       "order": null,
       "overflow": null,
       "overflow_x": null,
       "overflow_y": null,
       "padding": null,
       "right": null,
       "top": null,
       "visibility": null,
       "width": null
      }
     },
     "b51702dd56c741dd969287724698aca5": {
      "model_module": "@jupyter-widgets/controls",
      "model_module_version": "1.5.0",
      "model_name": "DropdownModel",
      "state": {
       "_dom_classes": [],
       "_model_module": "@jupyter-widgets/controls",
       "_model_module_version": "1.5.0",
       "_model_name": "DropdownModel",
       "_options_labels": [
        "linear",
        "log"
       ],
       "_view_count": null,
       "_view_module": "@jupyter-widgets/controls",
       "_view_module_version": "1.5.0",
       "_view_name": "DropdownView",
       "description": "",
       "description_tooltip": null,
       "disabled": false,
       "index": 0,
       "layout": "IPY_MODEL_86572fb4b5654db88b84a494ce224341",
       "style": "IPY_MODEL_ff7fa0a5dfaa4f07a7d5aec797cdf456"
      }
     },
     "b653bae9a8fd4a05b90dc9ea7485b745": {
      "model_module": "@jupyter-widgets/controls",
      "model_module_version": "1.5.0",
      "model_name": "HTMLModel",
      "state": {
       "_dom_classes": [],
       "_model_module": "@jupyter-widgets/controls",
       "_model_module_version": "1.5.0",
       "_model_name": "HTMLModel",
       "_view_count": null,
       "_view_module": "@jupyter-widgets/controls",
       "_view_module_version": "1.5.0",
       "_view_name": "HTMLView",
       "description": "",
       "description_tooltip": null,
       "layout": "IPY_MODEL_3f961d7b8ae946cd84826b64f657dbd0",
       "placeholder": "​",
       "style": "IPY_MODEL_24783bb714294ea59cf69aa5997edccc",
       "value": "<span style=\"font-weight:bold;font-size:150%\">5,000 Cases Selected out of 5,000 Total Cases</span>"
      }
     },
     "b7a40191411c4016a6c61d9237d4e780": {
      "model_module": "@jupyter-widgets/controls",
      "model_module_version": "1.5.0",
      "model_name": "FloatRangeSliderModel",
      "state": {
       "_dom_classes": [],
       "_model_module": "@jupyter-widgets/controls",
       "_model_module_version": "1.5.0",
       "_model_name": "FloatRangeSliderModel",
       "_view_count": null,
       "_view_module": "@jupyter-widgets/controls",
       "_view_module_version": "1.5.0",
       "_view_name": "FloatRangeSliderView",
       "continuous_update": false,
       "description": "",
       "description_tooltip": null,
       "disabled": false,
       "layout": "IPY_MODEL_891c93c06c964c19877e7f647975f9d2",
       "max": 0.25,
       "min": 0.001,
       "orientation": "horizontal",
       "readout": true,
       "readout_format": ".3g",
       "step": 0.001245,
       "style": "IPY_MODEL_daca9f548d144dfaa7fd583c946251da",
       "value": [
        0.10331314143622591,
        0.25
       ]
      }
     },
     "b7ca7935b35f4be0b6b29bbf2b472c1b": {
      "buffers": [
       {
        "data": "bRbWcJiHhkBtFtZwmIeGQGwW1nCYh4ZAbBbWcJiHhkBsFtZwmIeGQHQW1nCYh4ZAaBbWcJiHhkBwFtZwmIeGQHAW1nCYh4ZAaBbWcJiHhkBwFtZwmIeGQGgW1nCYh4ZAcBbWcJiHhkBgFtZwmIeGQHAW1nCYh4ZAcBbWcJiHhkBwFtZwmIeGQHAW1nCYh4ZAYBbWcJiHhkBwFtZwmIeGQA==",
        "encoding": "base64",
        "path": [
         "_data",
         0,
         "width",
         "buffer"
        ]
       },
       {
        "data": "V7nWQjLRsz8jLWj6NoiGQMghn7Xnh5ZAfxYF99nloEAanDoTwIemQLUhcC+mKaxAqdPSJcblsEB2lu0zubazQERZCEKsh7ZAEhwjUJ9YuUDf3j1ekim8QK2hWGyF+r5APbI5PbzlwECkE0fENU7CQAp1VEuvtsNAcdZh0igfxUDYN29ZoofGQD+ZfOAb8MdApvqJZ5VYyUAMXJfuDsHKQA==",
        "encoding": "base64",
        "path": [
         "_data",
         0,
         "x",
         "buffer"
        ]
       },
       {
        "data": "bRbWcJiHhkBtFtZwmIeGQGwW1nCYh4ZAbBbWcJiHhkBsFtZwmIeGQHQW1nCYh4ZAaBbWcJiHhkBwFtZwmIeGQHAW1nCYh4ZAaBbWcJiHhkBwFtZwmIeGQGgW1nCYh4ZAcBbWcJiHhkBgFtZwmIeGQHAW1nCYh4ZAcBbWcJiHhkBwFtZwmIeGQHAW1nCYh4ZAYBbWcJiHhkBwFtZwmIeGQA==",
        "encoding": "base64",
        "path": [
         "_data",
         1,
         "width",
         "buffer"
        ]
       },
       {
        "data": "V7nWQjLRsz8jLWj6NoiGQMghn7Xnh5ZAfxYF99nloEAanDoTwIemQLUhcC+mKaxAqdPSJcblsEB2lu0zubazQERZCEKsh7ZAEhwjUJ9YuUDf3j1ekim8QK2hWGyF+r5APbI5PbzlwECkE0fENU7CQAp1VEuvtsNAcdZh0igfxUDYN29ZoofGQD+ZfOAb8MdApvqJZ5VYyUAMXJfuDsHKQA==",
        "encoding": "base64",
        "path": [
         "_data",
         1,
         "x",
         "buffer"
        ]
       }
      ],
      "model_module": "plotlywidget",
      "model_module_version": "^4.14.3",
      "model_name": "FigureModel",
      "state": {
       "_config": {
        "plotlyServerURL": "https://plot.ly"
       },
       "_data": [
        {
         "marker": {
          "color": "rgb(255, 127, 14)"
         },
         "name": "Inside",
         "type": "bar",
         "uid": "52beb15f-f662-427f-b16e-461990bf81d0",
         "width": {
          "dtype": "float64",
          "shape": [
           20
          ]
         },
         "x": {
          "dtype": "float64",
          "shape": [
           20
          ]
         },
         "y": [
          304,
          298,
          312,
          306,
          293,
          319,
          306,
          288,
          302,
          326,
          307,
          303,
          316,
          271,
          250,
          174,
          137,
          93,
          68,
          27
         ]
        },
        {
         "marker": {
          "color": "rgb(31, 119, 180)"
         },
         "name": "Outside",
         "type": "bar",
         "uid": "d37df4a6-53b4-4328-959a-234016db29bb",
         "width": {
          "dtype": "float64",
          "shape": [
           20
          ]
         },
         "x": {
          "dtype": "float64",
          "shape": [
           20
          ]
         },
         "y": [
          0,
          0,
          0,
          0,
          0,
          0,
          0,
          0,
          0,
          0,
          0,
          0,
          0,
          0,
          0,
          0,
          0,
          0,
          0,
          0
         ]
        }
       ],
       "_dom_classes": [],
       "_js2py_layoutDelta": {},
       "_js2py_pointsCallback": {},
       "_js2py_relayout": {},
       "_js2py_restyle": {},
       "_js2py_traceDeltas": {},
       "_js2py_update": {},
       "_last_layout_edit_id": 3,
       "_last_trace_edit_id": 3,
       "_layout": {
        "barmode": "stack",
        "dragmode": "select",
        "height": 175,
        "margin": {
         "b": 10,
         "l": 10,
         "r": 10,
         "t": 10
        },
        "selectdirection": "h",
        "showlegend": false,
        "width": 300,
        "yaxis": {
         "showticklabels": false
        }
       },
       "_model_module": "plotlywidget",
       "_model_module_version": "^4.14.3",
       "_model_name": "FigureModel",
       "_py2js_addTraces": {},
       "_py2js_animate": {},
       "_py2js_deleteTraces": {},
       "_py2js_moveTraces": {},
       "_py2js_relayout": null,
       "_py2js_removeLayoutProps": {},
       "_py2js_removeTraceProps": {},
       "_py2js_restyle": {},
       "_py2js_update": null,
       "_view_count": 0,
       "_view_module": "plotlywidget",
       "_view_module_version": "^4.14.3",
       "_view_name": "FigureView"
      }
     },
     "b9d4712a2fc44596980740adc45e20be": {
      "model_module": "@jupyter-widgets/controls",
      "model_module_version": "1.5.0",
      "model_name": "TextModel",
      "state": {
       "_dom_classes": [],
       "_model_module": "@jupyter-widgets/controls",
       "_model_module_version": "1.5.0",
       "_model_name": "TextModel",
       "_view_count": null,
       "_view_module": "@jupyter-widgets/controls",
       "_view_module_version": "1.5.0",
       "_view_name": "TextView",
       "continuous_update": true,
       "description": "",
       "description_tooltip": null,
       "disabled": true,
       "layout": "IPY_MODEL_694459b627bb4613b9e2faaab6851ad5",
       "placeholder": "​",
       "style": "IPY_MODEL_1ceb4e717ac24d95943d8f490fe358e6",
       "value": "True"
      }
     },
     "ba6cd39b407f46318358ac86b2c1dadf": {
      "model_module": "@jupyter-widgets/base",
      "model_module_version": "1.2.0",
      "model_name": "LayoutModel",
      "state": {
       "_model_module": "@jupyter-widgets/base",
       "_model_module_version": "1.2.0",
       "_model_name": "LayoutModel",
       "_view_count": null,
       "_view_module": "@jupyter-widgets/base",
       "_view_module_version": "1.2.0",
       "_view_name": "LayoutView",
       "align_content": null,
       "align_items": null,
       "align_self": null,
       "border": null,
       "bottom": null,
       "display": null,
       "flex": null,
       "flex_flow": null,
       "grid_area": null,
       "grid_auto_columns": null,
       "grid_auto_flow": null,
       "grid_auto_rows": null,
       "grid_column": null,
       "grid_gap": null,
       "grid_row": null,
       "grid_template_areas": null,
       "grid_template_columns": null,
       "grid_template_rows": null,
       "height": null,
       "justify_content": null,
       "justify_items": null,
       "left": null,
       "margin": null,
       "max_height": null,
       "max_width": null,
       "min_height": null,
       "min_width": null,
       "object_fit": null,
       "object_position": null,
       "order": null,
       "overflow": null,
       "overflow_x": null,
       "overflow_y": null,
       "padding": null,
       "right": null,
       "top": null,
       "visibility": null,
       "width": null
      }
     },
     "bb93e80c11494c1da8324be72aa98e0c": {
      "model_module": "@jupyter-widgets/controls",
      "model_module_version": "1.5.0",
      "model_name": "VBoxModel",
      "state": {
       "_dom_classes": [],
       "_model_module": "@jupyter-widgets/controls",
       "_model_module_version": "1.5.0",
       "_model_name": "VBoxModel",
       "_view_count": null,
       "_view_module": "@jupyter-widgets/controls",
       "_view_module_version": "1.5.0",
       "_view_name": "VBoxView",
       "box_style": "",
       "children": [
        "IPY_MODEL_63f49ca4d16041fe939c60978ee5a4f5",
        "IPY_MODEL_db5a2197940e4cd3bb4b64cd7e780181",
        "IPY_MODEL_d481c7b0cd9b40a1a46c23838fe0b2db"
       ],
       "layout": "IPY_MODEL_8fb38c6b640f4f79843113ddc0c36759"
      }
     },
     "bbc53f5a6ae04ff0a950281a0d504bd3": {
      "buffers": [
       {
        "data": "8g0zgITxhz/yDTOAhPGHP/QNM4CE8Yc/8A0zgITxhz/wDTOAhPGHP/QNM4CE8Yc/8A0zgITxhz/wDTOAhPGHP/ANM4CE8Yc/8A0zgITxhz/4DTOAhPGHPwAOM4CE8Yc/8A0zgITxhz/wDTOAhPGHP/ANM4CE8Yc/8A0zgITxhz/wDTOAhPGHP/ANM4CE8Yc/8A0zgITxhz/wDTOAhPGHPw==",
        "encoding": "base64",
        "path": [
         "_data",
         0,
         "width",
         "buffer"
        ]
       },
       {
        "data": "LhMju1P4YT++0vtumW+MP1hwl/eOMJo/qXvYm6gUoz8lP+W7CRGpP6EC8ttqDa8/D2P//eWEsj/NxAWOFoO1P4smDB5Hgbg/SYgSrnd/uz8H6hg+qH2+P+OlD2fsvcA/w9YSrwQ9wj+iBxb3HLzDP4E4GT81O8U/YGkch026xj8/mh/PZTnIPx7LIhd+uMk//fslX5Y3yz/cLCmnrrbMPw==",
        "encoding": "base64",
        "path": [
         "_data",
         0,
         "x",
         "buffer"
        ]
       },
       {
        "data": "8g0zgITxhz/yDTOAhPGHP/QNM4CE8Yc/8A0zgITxhz/wDTOAhPGHP/QNM4CE8Yc/8A0zgITxhz/wDTOAhPGHP/ANM4CE8Yc/8A0zgITxhz/4DTOAhPGHPwAOM4CE8Yc/8A0zgITxhz/wDTOAhPGHP/ANM4CE8Yc/8A0zgITxhz/wDTOAhPGHP/ANM4CE8Yc/8A0zgITxhz/wDTOAhPGHPw==",
        "encoding": "base64",
        "path": [
         "_data",
         1,
         "width",
         "buffer"
        ]
       },
       {
        "data": "LhMju1P4YT++0vtumW+MP1hwl/eOMJo/qXvYm6gUoz8lP+W7CRGpP6EC8ttqDa8/D2P//eWEsj/NxAWOFoO1P4smDB5Hgbg/SYgSrnd/uz8H6hg+qH2+P+OlD2fsvcA/w9YSrwQ9wj+iBxb3HLzDP4E4GT81O8U/YGkch026xj8/mh/PZTnIPx7LIhd+uMk//fslX5Y3yz/cLCmnrrbMPw==",
        "encoding": "base64",
        "path": [
         "_data",
         1,
         "x",
         "buffer"
        ]
       }
      ],
      "model_module": "plotlywidget",
      "model_module_version": "^4.14.3",
      "model_name": "FigureModel",
      "state": {
       "_config": {
        "plotlyServerURL": "https://plot.ly"
       },
       "_data": [
        {
         "marker": {
          "color": "rgb(255, 127, 14)"
         },
         "name": "Inside",
         "type": "bar",
         "uid": "16633f0d-a9b3-49bd-9704-e15e8e8e6b0d",
         "width": {
          "dtype": "float64",
          "shape": [
           20
          ]
         },
         "x": {
          "dtype": "float64",
          "shape": [
           20
          ]
         },
         "y": [
          73,
          200,
          306,
          387,
          441,
          467,
          472,
          459,
          429,
          389,
          341,
          287,
          234,
          181,
          133,
          92,
          58,
          32,
          14,
          5
         ]
        },
        {
         "marker": {
          "color": "rgb(31, 119, 180)"
         },
         "name": "Outside",
         "type": "bar",
         "uid": "c9fd60ce-b747-4aa3-b50a-cd9f175f423e",
         "width": {
          "dtype": "float64",
          "shape": [
           20
          ]
         },
         "x": {
          "dtype": "float64",
          "shape": [
           20
          ]
         },
         "y": [
          0,
          0,
          0,
          0,
          0,
          0,
          0,
          0,
          0,
          0,
          0,
          0,
          0,
          0,
          0,
          0,
          0,
          0,
          0,
          0
         ]
        }
       ],
       "_dom_classes": [],
       "_js2py_layoutDelta": {},
       "_js2py_pointsCallback": {},
       "_js2py_relayout": {},
       "_js2py_restyle": {},
       "_js2py_traceDeltas": {},
       "_js2py_update": {},
       "_last_layout_edit_id": 3,
       "_last_trace_edit_id": 3,
       "_layout": {
        "barmode": "stack",
        "dragmode": "select",
        "height": 175,
        "margin": {
         "b": 10,
         "l": 10,
         "r": 10,
         "t": 10
        },
        "selectdirection": "h",
        "showlegend": false,
        "width": 300,
        "yaxis": {
         "showticklabels": false
        }
       },
       "_model_module": "plotlywidget",
       "_model_module_version": "^4.14.3",
       "_model_name": "FigureModel",
       "_py2js_addTraces": {},
       "_py2js_animate": {},
       "_py2js_deleteTraces": {},
       "_py2js_moveTraces": {},
       "_py2js_relayout": null,
       "_py2js_removeLayoutProps": {},
       "_py2js_removeTraceProps": {},
       "_py2js_restyle": {},
       "_py2js_update": null,
       "_view_count": 0,
       "_view_module": "plotlywidget",
       "_view_module_version": "^4.14.3",
       "_view_name": "FigureView"
      }
     },
     "bd2dd6bc50c947b6b52ab78ee5e0c9d5": {
      "model_module": "@jupyter-widgets/base",
      "model_module_version": "1.2.0",
      "model_name": "LayoutModel",
      "state": {
       "_model_module": "@jupyter-widgets/base",
       "_model_module_version": "1.2.0",
       "_model_name": "LayoutModel",
       "_view_count": null,
       "_view_module": "@jupyter-widgets/base",
       "_view_module_version": "1.2.0",
       "_view_name": "LayoutView",
       "align_content": null,
       "align_items": null,
       "align_self": null,
       "border": null,
       "bottom": null,
       "display": null,
       "flex": null,
       "flex_flow": "row wrap",
       "grid_area": null,
       "grid_auto_columns": null,
       "grid_auto_flow": null,
       "grid_auto_rows": null,
       "grid_column": null,
       "grid_gap": null,
       "grid_row": null,
       "grid_template_areas": null,
       "grid_template_columns": null,
       "grid_template_rows": null,
       "height": null,
       "justify_content": null,
       "justify_items": null,
       "left": null,
       "margin": null,
       "max_height": null,
       "max_width": null,
       "min_height": null,
       "min_width": null,
       "object_fit": null,
       "object_position": null,
       "order": null,
       "overflow": null,
       "overflow_x": null,
       "overflow_y": null,
       "padding": null,
       "right": null,
       "top": null,
       "visibility": null,
       "width": null
      }
     },
     "be4d196c26ad4a1cb5475764643a33c1": {
      "model_module": "@jupyter-widgets/controls",
      "model_module_version": "1.5.0",
      "model_name": "DescriptionStyleModel",
      "state": {
       "_model_module": "@jupyter-widgets/controls",
       "_model_module_version": "1.5.0",
       "_model_name": "DescriptionStyleModel",
       "_view_count": null,
       "_view_module": "@jupyter-widgets/base",
       "_view_module_version": "1.2.0",
       "_view_name": "StyleView",
       "description_width": ""
      }
     },
     "bf84203485d04753a1872dba88d22e30": {
      "model_module": "@jupyter-widgets/base",
      "model_module_version": "1.2.0",
      "model_name": "LayoutModel",
      "state": {
       "_model_module": "@jupyter-widgets/base",
       "_model_module_version": "1.2.0",
       "_model_name": "LayoutModel",
       "_view_count": null,
       "_view_module": "@jupyter-widgets/base",
       "_view_module_version": "1.2.0",
       "_view_name": "LayoutView",
       "align_content": null,
       "align_items": "center",
       "align_self": null,
       "border": "1px solid #AAA",
       "bottom": null,
       "display": null,
       "flex": null,
       "flex_flow": null,
       "grid_area": null,
       "grid_auto_columns": null,
       "grid_auto_flow": null,
       "grid_auto_rows": null,
       "grid_column": null,
       "grid_gap": null,
       "grid_row": null,
       "grid_template_areas": null,
       "grid_template_columns": null,
       "grid_template_rows": null,
       "height": null,
       "justify_content": null,
       "justify_items": null,
       "left": null,
       "margin": "2px",
       "max_height": null,
       "max_width": null,
       "min_height": null,
       "min_width": null,
       "object_fit": null,
       "object_position": null,
       "order": null,
       "overflow": null,
       "overflow_x": null,
       "overflow_y": null,
       "padding": null,
       "right": null,
       "top": null,
       "visibility": null,
       "width": "270px"
      }
     },
     "c0b0bbdefa3c4c3d9dd87cafa7449650": {
      "model_module": "@jupyter-widgets/base",
      "model_module_version": "1.2.0",
      "model_name": "LayoutModel",
      "state": {
       "_model_module": "@jupyter-widgets/base",
       "_model_module_version": "1.2.0",
       "_model_name": "LayoutModel",
       "_view_count": null,
       "_view_module": "@jupyter-widgets/base",
       "_view_module_version": "1.2.0",
       "_view_name": "LayoutView",
       "align_content": null,
       "align_items": null,
       "align_self": null,
       "border": null,
       "bottom": null,
       "display": null,
       "flex": null,
       "flex_flow": null,
       "grid_area": null,
       "grid_auto_columns": null,
       "grid_auto_flow": null,
       "grid_auto_rows": null,
       "grid_column": null,
       "grid_gap": null,
       "grid_row": null,
       "grid_template_areas": null,
       "grid_template_columns": null,
       "grid_template_rows": null,
       "height": null,
       "justify_content": null,
       "justify_items": null,
       "left": null,
       "margin": null,
       "max_height": null,
       "max_width": null,
       "min_height": null,
       "min_width": null,
       "object_fit": null,
       "object_position": null,
       "order": null,
       "overflow": null,
       "overflow_x": null,
       "overflow_y": null,
       "padding": null,
       "right": null,
       "top": null,
       "visibility": null,
       "width": null
      }
     },
     "c2b3c62bdcb1453b9c35f16f21d1b75a": {
      "model_module": "@jupyter-widgets/controls",
      "model_module_version": "1.5.0",
      "model_name": "VBoxModel",
      "state": {
       "_dom_classes": [],
       "_model_module": "@jupyter-widgets/controls",
       "_model_module_version": "1.5.0",
       "_model_name": "VBoxModel",
       "_view_count": null,
       "_view_module": "@jupyter-widgets/controls",
       "_view_module_version": "1.5.0",
       "_view_name": "VBoxView",
       "box_style": "",
       "children": [
        "IPY_MODEL_dc9a7eb1eed94ea9ba6559b03d984351",
        "IPY_MODEL_3aa45e86b12c43f190d20de5ac93ce8d",
        "IPY_MODEL_1ef63cf9218b424baaa61603bd9b493d"
       ],
       "layout": "IPY_MODEL_83aae2db71be4bd29390dd79bc0c7f57"
      }
     },
     "c31433c67e674dcb8509bacaa63f9252": {
      "model_module": "@jupyter-widgets/base",
      "model_module_version": "1.2.0",
      "model_name": "LayoutModel",
      "state": {
       "_model_module": "@jupyter-widgets/base",
       "_model_module_version": "1.2.0",
       "_model_name": "LayoutModel",
       "_view_count": null,
       "_view_module": "@jupyter-widgets/base",
       "_view_module_version": "1.2.0",
       "_view_name": "LayoutView",
       "align_content": null,
       "align_items": null,
       "align_self": null,
       "border": null,
       "bottom": null,
       "display": null,
       "flex": null,
       "flex_flow": null,
       "grid_area": null,
       "grid_auto_columns": null,
       "grid_auto_flow": null,
       "grid_auto_rows": null,
       "grid_column": null,
       "grid_gap": null,
       "grid_row": null,
       "grid_template_areas": null,
       "grid_template_columns": null,
       "grid_template_rows": null,
       "height": null,
       "justify_content": null,
       "justify_items": null,
       "left": null,
       "margin": null,
       "max_height": null,
       "max_width": null,
       "min_height": null,
       "min_width": null,
       "object_fit": null,
       "object_position": null,
       "order": null,
       "overflow": null,
       "overflow_x": null,
       "overflow_y": null,
       "padding": null,
       "right": null,
       "top": null,
       "visibility": null,
       "width": null
      }
     },
     "c32018d067c847448710cec2243e5ba3": {
      "model_module": "@jupyter-widgets/controls",
      "model_module_version": "1.5.0",
      "model_name": "DescriptionStyleModel",
      "state": {
       "_model_module": "@jupyter-widgets/controls",
       "_model_module_version": "1.5.0",
       "_model_name": "DescriptionStyleModel",
       "_view_count": null,
       "_view_module": "@jupyter-widgets/base",
       "_view_module_version": "1.2.0",
       "_view_name": "StyleView",
       "description_width": ""
      }
     },
     "c36c403c340d413e92fb313d00cefac5": {
      "buffers": [
       {
        "data": "wHEcx3Ec7z/AcRzHcRzvP+BxHMdxHO8/wHEcx3Ec7z/AcRzHcRzvP8BxHMdxHO8/4HEcx3Ec7z/AcRzHcRzvP8BxHMdxHO8/wHEcx3Ec7z/AcRzHcRzvP8BxHMdxHO8/4HEcx3Ec7z/AcRzHcRzvP+BxHMdxHO8/wHEcx3Ec7z/AcRzHcRzvP8BxHMdxHO8/wHEcx3Ec7z/AcRzHcRzvPwByHMdxHO8/gHEcx3Ec7z8AchzHcRzvP4BxHMdxHO8/AHIcx3Ec7z/AcRzHcRzvP8BxHMdxHO8/wHEcx3Ec7z/AcRzHcRzvPwByHMdxHO8/gHEcx3Ec7z8AchzHcRzvP8BxHMdxHO8/wHEcx3Ec7z/AcRzHcRzvP8BxHMdxHO8/",
        "encoding": "base64",
        "path": [
         "_data",
         0,
         "width",
         "buffer"
        ]
       },
       {
        "data": "AAAAAAAALkAcx3Ecx/EvQBzHcRzH8TBAq6qqqqrqMUA5juM4juMyQMdxHMdx3DNAVVVVVVXVNEDkOI7jOM41QHIcx3EcxzZAAAAAAADAN0CO4ziO47g4QBzHcRzHsTlAqqqqqqqqOkA5juM4jqM7QMdxHMdxnDxAVlVVVVWVPUDkOI7jOI4+QHIcx3Echz9AAAAAAABAQEDHcRzHcbxAQI7jOI7jOEFAVlVVVVW1QUAcx3EcxzFCQOQ4juM4rkJAqqqqqqoqQ0ByHMdxHKdDQDmO4ziOI0RAAAAAAACgREDHcRzHcRxFQI7jOI7jmEVAVlVVVVUVRkAcx3Ecx5FGQOQ4juM4DkdAq6qqqqqKR0ByHMdxHAdIQDmO4ziOg0hA",
        "encoding": "base64",
        "path": [
         "_data",
         0,
         "x",
         "buffer"
        ]
       },
       {
        "data": "wHEcx3Ec7z/AcRzHcRzvP+BxHMdxHO8/wHEcx3Ec7z/AcRzHcRzvP8BxHMdxHO8/4HEcx3Ec7z/AcRzHcRzvP8BxHMdxHO8/wHEcx3Ec7z/AcRzHcRzvP8BxHMdxHO8/4HEcx3Ec7z/AcRzHcRzvP+BxHMdxHO8/wHEcx3Ec7z/AcRzHcRzvP8BxHMdxHO8/wHEcx3Ec7z/AcRzHcRzvPwByHMdxHO8/gHEcx3Ec7z8AchzHcRzvP4BxHMdxHO8/AHIcx3Ec7z/AcRzHcRzvP8BxHMdxHO8/wHEcx3Ec7z/AcRzHcRzvPwByHMdxHO8/gHEcx3Ec7z8AchzHcRzvP8BxHMdxHO8/wHEcx3Ec7z/AcRzHcRzvP8BxHMdxHO8/",
        "encoding": "base64",
        "path": [
         "_data",
         1,
         "width",
         "buffer"
        ]
       },
       {
        "data": "AAAAAAAALkAcx3Ecx/EvQBzHcRzH8TBAq6qqqqrqMUA5juM4juMyQMdxHMdx3DNAVVVVVVXVNEDkOI7jOM41QHIcx3EcxzZAAAAAAADAN0CO4ziO47g4QBzHcRzHsTlAqqqqqqqqOkA5juM4jqM7QMdxHMdxnDxAVlVVVVWVPUDkOI7jOI4+QHIcx3Echz9AAAAAAABAQEDHcRzHcbxAQI7jOI7jOEFAVlVVVVW1QUAcx3EcxzFCQOQ4juM4rkJAqqqqqqoqQ0ByHMdxHKdDQDmO4ziOI0RAAAAAAACgREDHcRzHcRxFQI7jOI7jmEVAVlVVVVUVRkAcx3Ecx5FGQOQ4juM4DkdAq6qqqqqKR0ByHMdxHAdIQDmO4ziOg0hA",
        "encoding": "base64",
        "path": [
         "_data",
         1,
         "x",
         "buffer"
        ]
       }
      ],
      "model_module": "plotlywidget",
      "model_module_version": "^4.14.3",
      "model_name": "FigureModel",
      "state": {
       "_config": {
        "plotlyServerURL": "https://plot.ly"
       },
       "_data": [
        {
         "marker": {
          "color": "rgb(255, 127, 14)",
          "line": {
           "width": 0
          }
         },
         "name": "Inside",
         "type": "bar",
         "uid": "8681fe41-dbfe-4415-971e-487ea1805374",
         "width": {
          "dtype": "float64",
          "shape": [
           36
          ]
         },
         "x": {
          "dtype": "float64",
          "shape": [
           36
          ]
         },
         "y": [
          139,
          139,
          138,
          140,
          138,
          139,
          139,
          139,
          139,
          139,
          139,
          139,
          139,
          139,
          138,
          139,
          139,
          139,
          139,
          138,
          140,
          138,
          139,
          139,
          139,
          139,
          139,
          138,
          139,
          140,
          138,
          140,
          138,
          139,
          139,
          139
         ]
        },
        {
         "marker": {
          "color": "rgb(31, 119, 180)",
          "line": {
           "width": 0
          }
         },
         "name": "Outside",
         "type": "bar",
         "uid": "73f2b59f-bfa3-40e0-b48b-54f0d5273fd9",
         "width": {
          "dtype": "float64",
          "shape": [
           36
          ]
         },
         "x": {
          "dtype": "float64",
          "shape": [
           36
          ]
         },
         "y": [
          0,
          0,
          0,
          0,
          0,
          0,
          0,
          0,
          0,
          0,
          0,
          0,
          0,
          0,
          0,
          0,
          0,
          0,
          0,
          0,
          0,
          0,
          0,
          0,
          0,
          0,
          0,
          0,
          0,
          0,
          0,
          0,
          0,
          0,
          0,
          0
         ]
        }
       ],
       "_dom_classes": [],
       "_js2py_layoutDelta": {},
       "_js2py_pointsCallback": {},
       "_js2py_relayout": {},
       "_js2py_restyle": {},
       "_js2py_traceDeltas": {},
       "_js2py_update": {},
       "_last_layout_edit_id": 3,
       "_last_trace_edit_id": 3,
       "_layout": {
        "barmode": "stack",
        "dragmode": "select",
        "height": 175,
        "margin": {
         "b": 10,
         "l": 10,
         "r": 10,
         "t": 10
        },
        "selectdirection": "h",
        "showlegend": false,
        "width": 300,
        "yaxis": {
         "showticklabels": false
        }
       },
       "_model_module": "plotlywidget",
       "_model_module_version": "^4.14.3",
       "_model_name": "FigureModel",
       "_py2js_addTraces": {},
       "_py2js_animate": {},
       "_py2js_deleteTraces": {},
       "_py2js_moveTraces": {},
       "_py2js_relayout": null,
       "_py2js_removeLayoutProps": {},
       "_py2js_removeTraceProps": {},
       "_py2js_restyle": {},
       "_py2js_update": null,
       "_view_count": 0,
       "_view_module": "plotlywidget",
       "_view_module_version": "^4.14.3",
       "_view_name": "FigureView"
      }
     },
     "c46ca26d762a40f69500c39f97e6e91b": {
      "model_module": "@jupyter-widgets/controls",
      "model_module_version": "1.5.0",
      "model_name": "LabelModel",
      "state": {
       "_dom_classes": [],
       "_model_module": "@jupyter-widgets/controls",
       "_model_module_version": "1.5.0",
       "_model_name": "LabelModel",
       "_view_count": null,
       "_view_module": "@jupyter-widgets/controls",
       "_view_module_version": "1.5.0",
       "_view_name": "LabelView",
       "description": "",
       "description_tooltip": null,
       "layout": "IPY_MODEL_3cbdf9b477ca48b6a28af3aa6f735ccd",
       "placeholder": "​",
       "style": "IPY_MODEL_a36c3abce744447fac856e6f1b713dd0",
       "value": "Y Axis"
      }
     },
     "c8d92a79545b425d90accce36adf8a94": {
      "model_module": "@jupyter-widgets/controls",
      "model_module_version": "1.5.0",
      "model_name": "DescriptionStyleModel",
      "state": {
       "_model_module": "@jupyter-widgets/controls",
       "_model_module_version": "1.5.0",
       "_model_name": "DescriptionStyleModel",
       "_view_count": null,
       "_view_module": "@jupyter-widgets/base",
       "_view_module_version": "1.2.0",
       "_view_name": "StyleView",
       "description_width": ""
      }
     },
     "caff8e78b06f44c6b3e58feebed8d79d": {
      "model_module": "@jupyter-widgets/base",
      "model_module_version": "1.2.0",
      "model_name": "LayoutModel",
      "state": {
       "_model_module": "@jupyter-widgets/base",
       "_model_module_version": "1.2.0",
       "_model_name": "LayoutModel",
       "_view_count": null,
       "_view_module": "@jupyter-widgets/base",
       "_view_module_version": "1.2.0",
       "_view_name": "LayoutView",
       "align_content": null,
       "align_items": "center",
       "align_self": null,
       "border": "1px solid #AAA",
       "bottom": null,
       "display": null,
       "flex": null,
       "flex_flow": null,
       "grid_area": null,
       "grid_auto_columns": null,
       "grid_auto_flow": null,
       "grid_auto_rows": null,
       "grid_column": null,
       "grid_gap": null,
       "grid_row": null,
       "grid_template_areas": null,
       "grid_template_columns": null,
       "grid_template_rows": null,
       "height": null,
       "justify_content": null,
       "justify_items": null,
       "left": null,
       "margin": "2px",
       "max_height": null,
       "max_width": null,
       "min_height": null,
       "min_width": null,
       "object_fit": null,
       "object_position": null,
       "order": null,
       "overflow": null,
       "overflow_x": null,
       "overflow_y": null,
       "padding": null,
       "right": null,
       "top": null,
       "visibility": null,
       "width": "270px"
      }
     },
     "cbfa0f49cafe416e867d9694ab8f71c0": {
      "model_module": "@jupyter-widgets/controls",
      "model_module_version": "1.5.0",
      "model_name": "FloatRangeSliderModel",
      "state": {
       "_dom_classes": [],
       "_model_module": "@jupyter-widgets/controls",
       "_model_module_version": "1.5.0",
       "_model_name": "FloatRangeSliderModel",
       "_view_count": null,
       "_view_module": "@jupyter-widgets/controls",
       "_view_module_version": "1.5.0",
       "_view_name": "FloatRangeSliderView",
       "continuous_update": false,
       "description": "",
       "description_tooltip": null,
       "disabled": false,
       "layout": "IPY_MODEL_891c93c06c964c19877e7f647975f9d2",
       "max": 0.02,
       "min": -0.0025,
       "orientation": "horizontal",
       "readout": true,
       "readout_format": ".3g",
       "step": 0.0001125,
       "style": "IPY_MODEL_942626cb60994e289e14b4c449e5e879",
       "value": [
        -0.0025,
        0.02
       ]
      }
     },
     "ccade254a1a34fef889b24db62638fb0": {
      "model_module": "@jupyter-widgets/controls",
      "model_module_version": "1.5.0",
      "model_name": "SliderStyleModel",
      "state": {
       "_model_module": "@jupyter-widgets/controls",
       "_model_module_version": "1.5.0",
       "_model_name": "SliderStyleModel",
       "_view_count": null,
       "_view_module": "@jupyter-widgets/base",
       "_view_module_version": "1.2.0",
       "_view_name": "StyleView",
       "description_width": "",
       "handle_color": null
      }
     },
     "cd44522ddbb24757b6945b9ac87df7c2": {
      "model_module": "@jupyter-widgets/controls",
      "model_module_version": "1.5.0",
      "model_name": "VBoxModel",
      "state": {
       "_dom_classes": [],
       "_model_module": "@jupyter-widgets/controls",
       "_model_module_version": "1.5.0",
       "_model_name": "VBoxModel",
       "_view_count": null,
       "_view_module": "@jupyter-widgets/controls",
       "_view_module_version": "1.5.0",
       "_view_name": "VBoxView",
       "box_style": "",
       "children": [
        "IPY_MODEL_dc29aa6f749743ab914fad1840dd1454",
        "IPY_MODEL_b20337cc68e04b0cad00926b0715313b",
        "IPY_MODEL_cbfa0f49cafe416e867d9694ab8f71c0"
       ],
       "layout": "IPY_MODEL_6e1a5223085346869cbb3a9462887027"
      }
     },
     "cd83509ac7434579bbe1a599fbcb93f5": {
      "model_module": "@jupyter-widgets/controls",
      "model_module_version": "1.5.0",
      "model_name": "VBoxModel",
      "state": {
       "_dom_classes": [],
       "_model_module": "@jupyter-widgets/controls",
       "_model_module_version": "1.5.0",
       "_model_name": "VBoxModel",
       "_view_count": null,
       "_view_module": "@jupyter-widgets/controls",
       "_view_module_version": "1.5.0",
       "_view_name": "VBoxView",
       "box_style": "",
       "children": [
        "IPY_MODEL_28517ff57b6c4aaebf0280a9ff73dc4c",
        "IPY_MODEL_79050a10e8e64a929ec95c6754c0c931",
        "IPY_MODEL_2866b32bb0db4d8db900af2892cb0645"
       ],
       "layout": "IPY_MODEL_54a9d69b5a12434791517cea6838966f"
      }
     },
     "cddeac66e0ab4ed89df3204ba0bec69f": {
      "model_module": "@jupyter-widgets/base",
      "model_module_version": "1.2.0",
      "model_name": "LayoutModel",
      "state": {
       "_model_module": "@jupyter-widgets/base",
       "_model_module_version": "1.2.0",
       "_model_name": "LayoutModel",
       "_view_count": null,
       "_view_module": "@jupyter-widgets/base",
       "_view_module_version": "1.2.0",
       "_view_name": "LayoutView",
       "align_content": null,
       "align_items": null,
       "align_self": null,
       "border": null,
       "bottom": null,
       "display": null,
       "flex": null,
       "flex_flow": null,
       "grid_area": null,
       "grid_auto_columns": null,
       "grid_auto_flow": null,
       "grid_auto_rows": null,
       "grid_column": null,
       "grid_gap": null,
       "grid_row": null,
       "grid_template_areas": null,
       "grid_template_columns": null,
       "grid_template_rows": null,
       "height": null,
       "justify_content": null,
       "justify_items": null,
       "left": null,
       "margin": null,
       "max_height": null,
       "max_width": null,
       "min_height": null,
       "min_width": null,
       "object_fit": null,
       "object_position": null,
       "order": null,
       "overflow": null,
       "overflow_x": null,
       "overflow_y": null,
       "padding": null,
       "right": null,
       "top": null,
       "visibility": null,
       "width": null
      }
     },
     "ce9b5411365049c1a77d39cf7ad14252": {
      "model_module": "@jupyter-widgets/controls",
      "model_module_version": "1.5.0",
      "model_name": "FloatRangeSliderModel",
      "state": {
       "_dom_classes": [],
       "_model_module": "@jupyter-widgets/controls",
       "_model_module_version": "1.5.0",
       "_model_name": "FloatRangeSliderModel",
       "_view_count": null,
       "_view_module": "@jupyter-widgets/controls",
       "_view_module_version": "1.5.0",
       "_view_name": "FloatRangeSliderView",
       "continuous_update": false,
       "description": "",
       "description_tooltip": null,
       "disabled": false,
       "layout": "IPY_MODEL_891c93c06c964c19877e7f647975f9d2",
       "max": 0.2,
       "min": 0.1,
       "orientation": "horizontal",
       "readout": true,
       "readout_format": ".3g",
       "step": 0.0005,
       "style": "IPY_MODEL_423d3a7a070d48a4bcb539d4d22f8f13",
       "value": [
        0.1,
        0.2
       ]
      }
     },
     "ced522a334254873b4d90e6948cd23d6": {
      "model_module": "@jupyter-widgets/controls",
      "model_module_version": "1.5.0",
      "model_name": "DescriptionStyleModel",
      "state": {
       "_model_module": "@jupyter-widgets/controls",
       "_model_module_version": "1.5.0",
       "_model_name": "DescriptionStyleModel",
       "_view_count": null,
       "_view_module": "@jupyter-widgets/base",
       "_view_module_version": "1.2.0",
       "_view_name": "StyleView",
       "description_width": ""
      }
     },
     "cf006101081f401c87279e5144fe474a": {
      "model_module": "@jupyter-widgets/controls",
      "model_module_version": "1.5.0",
      "model_name": "HTMLModel",
      "state": {
       "_dom_classes": [],
       "_model_module": "@jupyter-widgets/controls",
       "_model_module_version": "1.5.0",
       "_model_name": "HTMLModel",
       "_view_count": null,
       "_view_module": "@jupyter-widgets/controls",
       "_view_module_version": "1.5.0",
       "_view_name": "HTMLView",
       "description": "",
       "description_tooltip": null,
       "layout": "IPY_MODEL_e34bcd4b8f734dd78e0f80c2dca9d90c",
       "placeholder": "​",
       "style": "IPY_MODEL_d036cca0e827417f8d8161726362e9a9",
       "value": "<h3>Ⓛ Policy Levers</h3>"
      }
     },
     "cff6d1ce3b2c40f098a83541c5dd1720": {
      "model_module": "@jupyter-widgets/controls",
      "model_module_version": "1.5.0",
      "model_name": "HTMLModel",
      "state": {
       "_dom_classes": [],
       "_model_module": "@jupyter-widgets/controls",
       "_model_module_version": "1.5.0",
       "_model_name": "HTMLModel",
       "_view_count": null,
       "_view_module": "@jupyter-widgets/controls",
       "_view_module_version": "1.5.0",
       "_view_name": "HTMLView",
       "description": "",
       "description_tooltip": null,
       "layout": "IPY_MODEL_cddeac66e0ab4ed89df3204ba0bec69f",
       "placeholder": "​",
       "style": "IPY_MODEL_6f8fc16e8f0a4778aaccde1992b636be",
       "value": "<span title=\"time_savings\">Time Savings</span>"
      }
     },
     "d036cca0e827417f8d8161726362e9a9": {
      "model_module": "@jupyter-widgets/controls",
      "model_module_version": "1.5.0",
      "model_name": "DescriptionStyleModel",
      "state": {
       "_model_module": "@jupyter-widgets/controls",
       "_model_module_version": "1.5.0",
       "_model_name": "DescriptionStyleModel",
       "_view_count": null,
       "_view_module": "@jupyter-widgets/base",
       "_view_module_version": "1.2.0",
       "_view_name": "StyleView",
       "description_width": ""
      }
     },
     "d0c7d71cb4c5434f903f9c309cb41d8d": {
      "model_module": "@jupyter-widgets/base",
      "model_module_version": "1.2.0",
      "model_name": "LayoutModel",
      "state": {
       "_model_module": "@jupyter-widgets/base",
       "_model_module_version": "1.2.0",
       "_model_name": "LayoutModel",
       "_view_count": null,
       "_view_module": "@jupyter-widgets/base",
       "_view_module_version": "1.2.0",
       "_view_name": "LayoutView",
       "align_content": null,
       "align_items": null,
       "align_self": null,
       "border": null,
       "bottom": null,
       "display": null,
       "flex": null,
       "flex_flow": null,
       "grid_area": null,
       "grid_auto_columns": null,
       "grid_auto_flow": null,
       "grid_auto_rows": null,
       "grid_column": null,
       "grid_gap": null,
       "grid_row": null,
       "grid_template_areas": null,
       "grid_template_columns": null,
       "grid_template_rows": null,
       "height": null,
       "justify_content": null,
       "justify_items": null,
       "left": null,
       "margin": null,
       "max_height": null,
       "max_width": null,
       "min_height": null,
       "min_width": null,
       "object_fit": null,
       "object_position": null,
       "order": null,
       "overflow": null,
       "overflow_x": null,
       "overflow_y": null,
       "padding": null,
       "right": null,
       "top": null,
       "visibility": null,
       "width": null
      }
     },
     "d2b0f444efff4a85bef2612858ecca01": {
      "model_module": "@jupyter-widgets/controls",
      "model_module_version": "1.5.0",
      "model_name": "FloatRangeSliderModel",
      "state": {
       "_dom_classes": [],
       "_model_module": "@jupyter-widgets/controls",
       "_model_module_version": "1.5.0",
       "_model_name": "FloatRangeSliderModel",
       "_view_count": null,
       "_view_module": "@jupyter-widgets/controls",
       "_view_module_version": "1.5.0",
       "_view_name": "FloatRangeSliderView",
       "continuous_update": false,
       "description": "",
       "description_tooltip": null,
       "disabled": false,
       "layout": "IPY_MODEL_891c93c06c964c19877e7f647975f9d2",
       "max": 100.0,
       "min": 0.0,
       "orientation": "horizontal",
       "readout": true,
       "readout_format": ".3g",
       "step": 0.5,
       "style": "IPY_MODEL_9aee94a811e242bdbba24a03e64f6bf4",
       "value": [
        0.0,
        62.05459588117523
       ]
      }
     },
     "d481c7b0cd9b40a1a46c23838fe0b2db": {
      "model_module": "@jupyter-widgets/controls",
      "model_module_version": "1.5.0",
      "model_name": "FloatRangeSliderModel",
      "state": {
       "_dom_classes": [],
       "_model_module": "@jupyter-widgets/controls",
       "_model_module_version": "1.5.0",
       "_model_name": "FloatRangeSliderModel",
       "_view_count": null,
       "_view_module": "@jupyter-widgets/controls",
       "_view_module_version": "1.5.0",
       "_view_name": "FloatRangeSliderView",
       "continuous_update": false,
       "description": "",
       "description_tooltip": null,
       "disabled": false,
       "layout": "IPY_MODEL_891c93c06c964c19877e7f647975f9d2",
       "max": 127.63230273618062,
       "min": 60.06032062361128,
       "orientation": "horizontal",
       "readout": true,
       "readout_format": ".3g",
       "step": 0.3378599105628467,
       "style": "IPY_MODEL_8b1c56c58f4441e89306dbd0310c924e",
       "value": [
        60.06032062361128,
        127.63230273618062
       ]
      }
     },
     "d4c799c172784149ac48ea66570ba925": {
      "model_module": "@jupyter-widgets/controls",
      "model_module_version": "1.5.0",
      "model_name": "BoxModel",
      "state": {
       "_dom_classes": [],
       "_model_module": "@jupyter-widgets/controls",
       "_model_module_version": "1.5.0",
       "_model_name": "BoxModel",
       "_view_count": null,
       "_view_module": "@jupyter-widgets/controls",
       "_view_module_version": "1.5.0",
       "_view_name": "BoxView",
       "box_style": "",
       "children": [
        "IPY_MODEL_991ae396d9c542b7ab8cec34ed069269",
        "IPY_MODEL_cd83509ac7434579bbe1a599fbcb93f5",
        "IPY_MODEL_13e9a8f680884fd688b584e5f8ebee0e",
        "IPY_MODEL_e06a70d7cecb49d89442884342d4ba6f",
        "IPY_MODEL_582523f4bbc04de1a66b179878d2e04b",
        "IPY_MODEL_e039e761f7044d9c9f71d8ec06f14921",
        "IPY_MODEL_cd44522ddbb24757b6945b9ac87df7c2"
       ],
       "layout": "IPY_MODEL_886846519c72426f897b5ae589b944ef"
      }
     },
     "d4e1b96495f74ef59fbcd6809fe14d83": {
      "model_module": "@jupyter-widgets/controls",
      "model_module_version": "1.5.0",
      "model_name": "DescriptionStyleModel",
      "state": {
       "_model_module": "@jupyter-widgets/controls",
       "_model_module_version": "1.5.0",
       "_model_name": "DescriptionStyleModel",
       "_view_count": null,
       "_view_module": "@jupyter-widgets/base",
       "_view_module_version": "1.2.0",
       "_view_name": "StyleView",
       "description_width": ""
      }
     },
     "d73e99c01c024751902185ad0304be60": {
      "model_module": "@jupyter-widgets/base",
      "model_module_version": "1.2.0",
      "model_name": "LayoutModel",
      "state": {
       "_model_module": "@jupyter-widgets/base",
       "_model_module_version": "1.2.0",
       "_model_name": "LayoutModel",
       "_view_count": null,
       "_view_module": "@jupyter-widgets/base",
       "_view_module_version": "1.2.0",
       "_view_name": "LayoutView",
       "align_content": null,
       "align_items": null,
       "align_self": null,
       "border": null,
       "bottom": null,
       "display": null,
       "flex": null,
       "flex_flow": null,
       "grid_area": null,
       "grid_auto_columns": null,
       "grid_auto_flow": null,
       "grid_auto_rows": null,
       "grid_column": null,
       "grid_gap": null,
       "grid_row": null,
       "grid_template_areas": null,
       "grid_template_columns": null,
       "grid_template_rows": null,
       "height": null,
       "justify_content": null,
       "justify_items": null,
       "left": null,
       "margin": null,
       "max_height": null,
       "max_width": null,
       "min_height": null,
       "min_width": null,
       "object_fit": null,
       "object_position": null,
       "order": null,
       "overflow": null,
       "overflow_x": null,
       "overflow_y": null,
       "padding": null,
       "right": null,
       "top": null,
       "visibility": null,
       "width": null
      }
     },
     "d99981ba8eb640518d44f24eb7c8cdf5": {
      "model_module": "@jupyter-widgets/controls",
      "model_module_version": "1.5.0",
      "model_name": "VBoxModel",
      "state": {
       "_dom_classes": [],
       "_model_module": "@jupyter-widgets/controls",
       "_model_module_version": "1.5.0",
       "_model_name": "VBoxModel",
       "_view_count": null,
       "_view_module": "@jupyter-widgets/controls",
       "_view_module_version": "1.5.0",
       "_view_name": "VBoxView",
       "box_style": "",
       "children": [
        "IPY_MODEL_50da9fabf8444195acbc89b0495b25ae",
        "IPY_MODEL_79bb32c912b04aed88fe41e5aaf3d605"
       ],
       "layout": "IPY_MODEL_22b279ca824f46a8af0ccbbd0cb18520"
      }
     },
     "d9caae37e96645c4bbc8c988b6f2570b": {
      "model_module": "@jupyter-widgets/controls",
      "model_module_version": "1.5.0",
      "model_name": "ToggleButtonModel",
      "state": {
       "_dom_classes": [],
       "_model_module": "@jupyter-widgets/controls",
       "_model_module_version": "1.5.0",
       "_model_name": "ToggleButtonModel",
       "_view_count": null,
       "_view_module": "@jupyter-widgets/controls",
       "_view_module_version": "1.5.0",
       "_view_name": "ToggleButtonView",
       "button_style": "",
       "description": "True",
       "description_tooltip": null,
       "disabled": false,
       "icon": "",
       "layout": "IPY_MODEL_a161403a77fe49e39f60ebfe46b4b641",
       "style": "IPY_MODEL_af7da0fbdccb429fa447ce95f0ef41aa",
       "tooltip": "True",
       "value": true
      }
     },
     "dab59883d52e4f88b28c6a4f72c23606": {
      "model_module": "@jupyter-widgets/base",
      "model_module_version": "1.2.0",
      "model_name": "LayoutModel",
      "state": {
       "_model_module": "@jupyter-widgets/base",
       "_model_module_version": "1.2.0",
       "_model_name": "LayoutModel",
       "_view_count": null,
       "_view_module": "@jupyter-widgets/base",
       "_view_module_version": "1.2.0",
       "_view_name": "LayoutView",
       "align_content": null,
       "align_items": null,
       "align_self": null,
       "border": null,
       "bottom": null,
       "display": null,
       "flex": null,
       "flex_flow": null,
       "grid_area": null,
       "grid_auto_columns": null,
       "grid_auto_flow": null,
       "grid_auto_rows": null,
       "grid_column": null,
       "grid_gap": null,
       "grid_row": null,
       "grid_template_areas": null,
       "grid_template_columns": null,
       "grid_template_rows": null,
       "height": null,
       "justify_content": null,
       "justify_items": null,
       "left": null,
       "margin": "1",
       "max_height": null,
       "max_width": null,
       "min_height": null,
       "min_width": null,
       "object_fit": null,
       "object_position": null,
       "order": null,
       "overflow": null,
       "overflow_x": null,
       "overflow_y": null,
       "padding": null,
       "right": null,
       "top": null,
       "visibility": null,
       "width": "auto"
      }
     },
     "daca9f548d144dfaa7fd583c946251da": {
      "model_module": "@jupyter-widgets/controls",
      "model_module_version": "1.5.0",
      "model_name": "SliderStyleModel",
      "state": {
       "_model_module": "@jupyter-widgets/controls",
       "_model_module_version": "1.5.0",
       "_model_name": "SliderStyleModel",
       "_view_count": null,
       "_view_module": "@jupyter-widgets/base",
       "_view_module_version": "1.2.0",
       "_view_name": "StyleView",
       "description_width": "",
       "handle_color": null
      }
     },
     "db5a2197940e4cd3bb4b64cd7e780181": {
      "buffers": [
       {
        "data": "wMDH914HC0DQwMf3XgcLQMDAx/deBwtAwMDH914HC0DAwMf3XgcLQMDAx/deBwtAwMDH914HC0DAwMf3XgcLQMDAx/deBwtAwMDH914HC0DAwMf3XgcLQMDAx/deBwtAwMDH914HC0DAwMf3XgcLQMDAx/deBwtAwMDH914HC0DAwMf3XgcLQMDAx/deBwtAwMDH914HC0CgwMf3XgcLQA==",
        "encoding": "base64",
        "path": [
         "_data",
         0,
         "width",
         "buffer"
        ]
       },
       {
        "data": "p9cQlrgHTkCzU42FLrhPQODnhDpStFBA5iVDMo2MUUDsYwEqyGRSQPKhvyEDPVNA+N99GT4VVED+HTwRee1UQARc+gi0xVVACpq4AO+dVkAQ2Hb4KXZXQBYWNfBkTlhAHFTz558mWUAikrHf2v5ZQCjQb9cV11pALg4uz1CvW0A0TOzGi4dcQDqKqr7GX11AQMhotgE4XkBGBieuPBBfQA==",
        "encoding": "base64",
        "path": [
         "_data",
         0,
         "x",
         "buffer"
        ]
       },
       {
        "data": "wMDH914HC0DQwMf3XgcLQMDAx/deBwtAwMDH914HC0DAwMf3XgcLQMDAx/deBwtAwMDH914HC0DAwMf3XgcLQMDAx/deBwtAwMDH914HC0DAwMf3XgcLQMDAx/deBwtAwMDH914HC0DAwMf3XgcLQMDAx/deBwtAwMDH914HC0DAwMf3XgcLQMDAx/deBwtAwMDH914HC0CgwMf3XgcLQA==",
        "encoding": "base64",
        "path": [
         "_data",
         1,
         "width",
         "buffer"
        ]
       },
       {
        "data": "p9cQlrgHTkCzU42FLrhPQODnhDpStFBA5iVDMo2MUUDsYwEqyGRSQPKhvyEDPVNA+N99GT4VVED+HTwRee1UQARc+gi0xVVACpq4AO+dVkAQ2Hb4KXZXQBYWNfBkTlhAHFTz558mWUAikrHf2v5ZQCjQb9cV11pALg4uz1CvW0A0TOzGi4dcQDqKqr7GX11AQMhotgE4XkBGBieuPBBfQA==",
        "encoding": "base64",
        "path": [
         "_data",
         1,
         "x",
         "buffer"
        ]
       }
      ],
      "model_module": "plotlywidget",
      "model_module_version": "^4.14.3",
      "model_name": "FigureModel",
      "state": {
       "_config": {
        "plotlyServerURL": "https://plot.ly"
       },
       "_data": [
        {
         "marker": {
          "color": "rgb(255, 127, 14)"
         },
         "name": "Inside",
         "type": "bar",
         "uid": "0be33a78-960a-4c18-a007-053ff6660454",
         "width": {
          "dtype": "float64",
          "shape": [
           20
          ]
         },
         "x": {
          "dtype": "float64",
          "shape": [
           20
          ]
         },
         "y": [
          2882,
          936,
          411,
          230,
          149,
          101,
          69,
          60,
          35,
          39,
          21,
          15,
          15,
          8,
          8,
          4,
          6,
          4,
          3,
          4
         ]
        },
        {
         "marker": {
          "color": "rgb(31, 119, 180)"
         },
         "name": "Outside",
         "type": "bar",
         "uid": "34490a61-db77-41b9-9545-dc7b67a5c6d2",
         "width": {
          "dtype": "float64",
          "shape": [
           20
          ]
         },
         "x": {
          "dtype": "float64",
          "shape": [
           20
          ]
         },
         "y": [
          0,
          0,
          0,
          0,
          0,
          0,
          0,
          0,
          0,
          0,
          0,
          0,
          0,
          0,
          0,
          0,
          0,
          0,
          0,
          0
         ]
        }
       ],
       "_dom_classes": [],
       "_js2py_layoutDelta": {},
       "_js2py_pointsCallback": {},
       "_js2py_relayout": {},
       "_js2py_restyle": {},
       "_js2py_traceDeltas": {},
       "_js2py_update": {},
       "_last_layout_edit_id": 3,
       "_last_trace_edit_id": 3,
       "_layout": {
        "barmode": "stack",
        "dragmode": "select",
        "height": 175,
        "margin": {
         "b": 10,
         "l": 10,
         "r": 10,
         "t": 10
        },
        "selectdirection": "h",
        "showlegend": false,
        "width": 300,
        "yaxis": {
         "showticklabels": false
        }
       },
       "_model_module": "plotlywidget",
       "_model_module_version": "^4.14.3",
       "_model_name": "FigureModel",
       "_py2js_addTraces": {},
       "_py2js_animate": {},
       "_py2js_deleteTraces": {},
       "_py2js_moveTraces": {},
       "_py2js_relayout": null,
       "_py2js_removeLayoutProps": {},
       "_py2js_removeTraceProps": {},
       "_py2js_restyle": {},
       "_py2js_update": null,
       "_view_count": 0,
       "_view_module": "plotlywidget",
       "_view_module_version": "^4.14.3",
       "_view_name": "FigureView"
      }
     },
     "dc29aa6f749743ab914fad1840dd1454": {
      "model_module": "@jupyter-widgets/controls",
      "model_module_version": "1.5.0",
      "model_name": "HTMLModel",
      "state": {
       "_dom_classes": [],
       "_model_module": "@jupyter-widgets/controls",
       "_model_module_version": "1.5.0",
       "_model_name": "HTMLModel",
       "_view_count": null,
       "_view_module": "@jupyter-widgets/controls",
       "_view_module_version": "1.5.0",
       "_view_name": "HTMLView",
       "description": "",
       "description_tooltip": null,
       "layout": "IPY_MODEL_d73e99c01c024751902185ad0304be60",
       "placeholder": "​",
       "style": "IPY_MODEL_3d44f1d9c2cd4ccebeb7728b91214ca5",
       "value": "<span title=\"yield_curve\">Yield Curve</span>"
      }
     },
     "dc74685d1fc5494a9ba21362e7c9709b": {
      "model_module": "@jupyter-widgets/base",
      "model_module_version": "1.2.0",
      "model_name": "LayoutModel",
      "state": {
       "_model_module": "@jupyter-widgets/base",
       "_model_module_version": "1.2.0",
       "_model_name": "LayoutModel",
       "_view_count": null,
       "_view_module": "@jupyter-widgets/base",
       "_view_module_version": "1.2.0",
       "_view_name": "LayoutView",
       "align_content": null,
       "align_items": "center",
       "align_self": null,
       "border": "1px solid #AAA",
       "bottom": null,
       "display": null,
       "flex": null,
       "flex_flow": null,
       "grid_area": null,
       "grid_auto_columns": null,
       "grid_auto_flow": null,
       "grid_auto_rows": null,
       "grid_column": null,
       "grid_gap": null,
       "grid_row": null,
       "grid_template_areas": null,
       "grid_template_columns": null,
       "grid_template_rows": null,
       "height": null,
       "justify_content": null,
       "justify_items": null,
       "left": null,
       "margin": "2px",
       "max_height": null,
       "max_width": null,
       "min_height": null,
       "min_width": null,
       "object_fit": null,
       "object_position": null,
       "order": null,
       "overflow": null,
       "overflow_x": null,
       "overflow_y": null,
       "padding": null,
       "right": null,
       "top": null,
       "visibility": null,
       "width": "270px"
      }
     },
     "dc9a7eb1eed94ea9ba6559b03d984351": {
      "model_module": "@jupyter-widgets/controls",
      "model_module_version": "1.5.0",
      "model_name": "HTMLModel",
      "state": {
       "_dom_classes": [],
       "_model_module": "@jupyter-widgets/controls",
       "_model_module_version": "1.5.0",
       "_model_name": "HTMLModel",
       "_view_count": null,
       "_view_module": "@jupyter-widgets/controls",
       "_view_module_version": "1.5.0",
       "_view_name": "HTMLView",
       "description": "",
       "description_tooltip": null,
       "layout": "IPY_MODEL_4bfbdf914e6f40a1bfa3c0d90b60965e",
       "placeholder": "​",
       "style": "IPY_MODEL_fe075a0d884443d8af79bbb92a85ad43",
       "value": "<span title=\"debt_type\">Debt Type</span>"
      }
     },
     "de12fd61d23e41e586ccd72935490c06": {
      "model_module": "@jupyter-widgets/base",
      "model_module_version": "1.2.0",
      "model_name": "LayoutModel",
      "state": {
       "_model_module": "@jupyter-widgets/base",
       "_model_module_version": "1.2.0",
       "_model_name": "LayoutModel",
       "_view_count": null,
       "_view_module": "@jupyter-widgets/base",
       "_view_module_version": "1.2.0",
       "_view_name": "LayoutView",
       "align_content": null,
       "align_items": null,
       "align_self": null,
       "border": null,
       "bottom": null,
       "display": null,
       "flex": null,
       "flex_flow": null,
       "grid_area": null,
       "grid_auto_columns": null,
       "grid_auto_flow": null,
       "grid_auto_rows": null,
       "grid_column": null,
       "grid_gap": null,
       "grid_row": null,
       "grid_template_areas": null,
       "grid_template_columns": null,
       "grid_template_rows": null,
       "height": null,
       "justify_content": null,
       "justify_items": null,
       "left": null,
       "margin": null,
       "max_height": null,
       "max_width": null,
       "min_height": null,
       "min_width": null,
       "object_fit": null,
       "object_position": null,
       "order": null,
       "overflow": "hidden",
       "overflow_x": null,
       "overflow_y": null,
       "padding": null,
       "right": null,
       "top": null,
       "visibility": null,
       "width": null
      }
     },
     "de9f282e03014b089e8f4e986ae69e04": {
      "model_module": "@jupyter-widgets/controls",
      "model_module_version": "1.5.0",
      "model_name": "HBoxModel",
      "state": {
       "_dom_classes": [],
       "_model_module": "@jupyter-widgets/controls",
       "_model_module_version": "1.5.0",
       "_model_name": "HBoxModel",
       "_view_count": null,
       "_view_module": "@jupyter-widgets/controls",
       "_view_module_version": "1.5.0",
       "_view_name": "HBoxView",
       "box_style": "",
       "children": [
        "IPY_MODEL_e1efc0199a2f4294838ca0784ae72cdd",
        "IPY_MODEL_500db0653d1b4181b62a2d16b7b2db4e"
       ],
       "layout": "IPY_MODEL_f5ca1f6a43e246bd9aceafff5f136845"
      }
     },
     "defb0e6f0c1447508a6fc42409575ce4": {
      "model_module": "@jupyter-widgets/controls",
      "model_module_version": "1.5.0",
      "model_name": "HTMLModel",
      "state": {
       "_dom_classes": [],
       "_model_module": "@jupyter-widgets/controls",
       "_model_module_version": "1.5.0",
       "_model_name": "HTMLModel",
       "_view_count": null,
       "_view_module": "@jupyter-widgets/controls",
       "_view_module_version": "1.5.0",
       "_view_name": "HTMLView",
       "description": "",
       "description_tooltip": null,
       "layout": "IPY_MODEL_41217e320b8c453695ff3ea3c54a4ea1",
       "placeholder": "​",
       "style": "IPY_MODEL_514ccff101c74262a5b66d1a79ab3708",
       "value": "<span title=\"unit_cost_expansion\">Unit Cost Expand</span>"
      }
     },
     "defc7e933671449ba1014ff56a82193f": {
      "model_module": "@jupyter-widgets/controls",
      "model_module_version": "1.5.0",
      "model_name": "FloatRangeSliderModel",
      "state": {
       "_dom_classes": [],
       "_model_module": "@jupyter-widgets/controls",
       "_model_module_version": "1.5.0",
       "_model_name": "FloatRangeSliderModel",
       "_view_count": null,
       "_view_module": "@jupyter-widgets/controls",
       "_view_module_version": "1.5.0",
       "_view_name": "FloatRangeSliderView",
       "continuous_update": false,
       "description": "",
       "description_tooltip": null,
       "disabled": false,
       "layout": "IPY_MODEL_891c93c06c964c19877e7f647975f9d2",
       "max": 0.04,
       "min": 0.025,
       "orientation": "horizontal",
       "readout": true,
       "readout_format": ".3g",
       "step": 7.5e-05,
       "style": "IPY_MODEL_f6c6550613284925b6ceed92b38dc05d",
       "value": [
        0.025,
        0.04
       ]
      }
     },
     "dfc998b9760f4038adff33d611f31640": {
      "buffers": [
       {
        "data": "Um+mfjU8TEBTb6Z+NTxMQFJvpn41PExAUG+mfjU8TEBQb6Z+NTxMQFhvpn41PExAUG+mfjU8TEBQb6Z+NTxMQFBvpn41PExAWG+mfjU8TEBQb6Z+NTxMQGBvpn41PExAUG+mfjU8TEBQb6Z+NTxMQFBvpn41PExAUG+mfjU8TEBQb6Z+NTxMQFBvpn41PExAUG+mfjU8TEBAb6Z+NTxMQA==",
        "encoding": "base64",
        "path": [
         "_data",
         0,
         "width",
         "buffer"
        ]
       },
       {
        "data": "4S3xmUqYdT/bPvtA4jxMQBfX0N+LPFxAYAeST1MtZUA0ozuvYDxsQISfcge3pXFAb21Htz0tdUBZOxxnxLR4QEMJ8RZLPHxALdfFxtHDf0CMUk07rKWBQIG5N5NvaYNAdyAi6zIthUBshwxD9vCGQGHu9pq5tIhAVlXh8nx4ikBLvMtKQDyMQEAjtqIDAI5ANYqg+sbDj0CVeEUpxcOQQA==",
        "encoding": "base64",
        "path": [
         "_data",
         0,
         "x",
         "buffer"
        ]
       },
       {
        "data": "Um+mfjU8TEBTb6Z+NTxMQFJvpn41PExAUG+mfjU8TEBQb6Z+NTxMQFhvpn41PExAUG+mfjU8TEBQb6Z+NTxMQFBvpn41PExAWG+mfjU8TEBQb6Z+NTxMQGBvpn41PExAUG+mfjU8TEBQb6Z+NTxMQFBvpn41PExAUG+mfjU8TEBQb6Z+NTxMQFBvpn41PExAUG+mfjU8TEBAb6Z+NTxMQA==",
        "encoding": "base64",
        "path": [
         "_data",
         1,
         "width",
         "buffer"
        ]
       },
       {
        "data": "4S3xmUqYdT/bPvtA4jxMQBfX0N+LPFxAYAeST1MtZUA0ozuvYDxsQISfcge3pXFAb21Htz0tdUBZOxxnxLR4QEMJ8RZLPHxALdfFxtHDf0CMUk07rKWBQIG5N5NvaYNAdyAi6zIthUBshwxD9vCGQGHu9pq5tIhAVlXh8nx4ikBLvMtKQDyMQEAjtqIDAI5ANYqg+sbDj0CVeEUpxcOQQA==",
        "encoding": "base64",
        "path": [
         "_data",
         1,
         "x",
         "buffer"
        ]
       }
      ],
      "model_module": "plotlywidget",
      "model_module_version": "^4.14.3",
      "model_name": "FigureModel",
      "state": {
       "_config": {
        "plotlyServerURL": "https://plot.ly"
       },
       "_data": [
        {
         "marker": {
          "color": "rgb(255, 127, 14)"
         },
         "name": "Inside",
         "type": "bar",
         "uid": "c720f1f0-f431-4262-bdfd-da3a70fd1ece",
         "width": {
          "dtype": "float64",
          "shape": [
           20
          ]
         },
         "x": {
          "dtype": "float64",
          "shape": [
           20
          ]
         },
         "y": [
          542,
          509,
          537,
          484,
          530,
          468,
          433,
          358,
          317,
          282,
          182,
          139,
          82,
          50,
          48,
          20,
          9,
          6,
          2,
          2
         ]
        },
        {
         "marker": {
          "color": "rgb(31, 119, 180)"
         },
         "name": "Outside",
         "type": "bar",
         "uid": "a973a09a-c73c-4d90-81ee-dd66e5edc7d2",
         "width": {
          "dtype": "float64",
          "shape": [
           20
          ]
         },
         "x": {
          "dtype": "float64",
          "shape": [
           20
          ]
         },
         "y": [
          0,
          0,
          0,
          0,
          0,
          0,
          0,
          0,
          0,
          0,
          0,
          0,
          0,
          0,
          0,
          0,
          0,
          0,
          0,
          0
         ]
        }
       ],
       "_dom_classes": [],
       "_js2py_layoutDelta": {},
       "_js2py_pointsCallback": {},
       "_js2py_relayout": {},
       "_js2py_restyle": {},
       "_js2py_traceDeltas": {},
       "_js2py_update": {},
       "_last_layout_edit_id": 3,
       "_last_trace_edit_id": 3,
       "_layout": {
        "barmode": "stack",
        "dragmode": "select",
        "height": 175,
        "margin": {
         "b": 10,
         "l": 10,
         "r": 10,
         "t": 10
        },
        "selectdirection": "h",
        "showlegend": false,
        "width": 300,
        "yaxis": {
         "showticklabels": false
        }
       },
       "_model_module": "plotlywidget",
       "_model_module_version": "^4.14.3",
       "_model_name": "FigureModel",
       "_py2js_addTraces": {},
       "_py2js_animate": {},
       "_py2js_deleteTraces": {},
       "_py2js_moveTraces": {},
       "_py2js_relayout": null,
       "_py2js_removeLayoutProps": {},
       "_py2js_removeTraceProps": {},
       "_py2js_restyle": {},
       "_py2js_update": null,
       "_view_count": 0,
       "_view_module": "plotlywidget",
       "_view_module_version": "^4.14.3",
       "_view_name": "FigureView"
      }
     },
     "e039e761f7044d9c9f71d8ec06f14921": {
      "model_module": "@jupyter-widgets/controls",
      "model_module_version": "1.5.0",
      "model_name": "VBoxModel",
      "state": {
       "_dom_classes": [],
       "_model_module": "@jupyter-widgets/controls",
       "_model_module_version": "1.5.0",
       "_model_name": "VBoxModel",
       "_view_count": null,
       "_view_module": "@jupyter-widgets/controls",
       "_view_module_version": "1.5.0",
       "_view_name": "VBoxView",
       "box_style": "",
       "children": [
        "IPY_MODEL_9ed852ef19e647c8b5311cefdd9354d5",
        "IPY_MODEL_3af0998971a04659b0cb0212385fface",
        "IPY_MODEL_defc7e933671449ba1014ff56a82193f"
       ],
       "layout": "IPY_MODEL_bf84203485d04753a1872dba88d22e30"
      }
     },
     "e06a70d7cecb49d89442884342d4ba6f": {
      "model_module": "@jupyter-widgets/controls",
      "model_module_version": "1.5.0",
      "model_name": "VBoxModel",
      "state": {
       "_dom_classes": [],
       "_model_module": "@jupyter-widgets/controls",
       "_model_module_version": "1.5.0",
       "_model_name": "VBoxModel",
       "_view_count": null,
       "_view_module": "@jupyter-widgets/controls",
       "_view_module_version": "1.5.0",
       "_view_name": "VBoxView",
       "box_style": "",
       "children": [
        "IPY_MODEL_fef03cebfbb747f18677f3e410d6751b",
        "IPY_MODEL_bbc53f5a6ae04ff0a950281a0d504bd3",
        "IPY_MODEL_b7a40191411c4016a6c61d9237d4e780"
       ],
       "layout": "IPY_MODEL_408448be45de419584e288f037ac1a93"
      }
     },
     "e0de52da73f7481bab437a1ded45fdaf": {
      "model_module": "@jupyter-widgets/controls",
      "model_module_version": "1.5.0",
      "model_name": "VBoxModel",
      "state": {
       "_dom_classes": [],
       "_model_module": "@jupyter-widgets/controls",
       "_model_module_version": "1.5.0",
       "_model_name": "VBoxModel",
       "_view_count": null,
       "_view_module": "@jupyter-widgets/controls",
       "_view_module_version": "1.5.0",
       "_view_name": "VBoxView",
       "box_style": "",
       "children": [
        "IPY_MODEL_65928eda75854f53836276572d7f8472",
        "IPY_MODEL_dfc998b9760f4038adff33d611f31640",
        "IPY_MODEL_ede971dd3ff64711a6321cd047b94eac"
       ],
       "layout": "IPY_MODEL_8b53867dedf0409eb29f48fc9e70e188"
      }
     },
     "e1efc0199a2f4294838ca0784ae72cdd": {
      "buffers": [
       {
        "data": "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",
        "encoding": "base64",
        "path": [
         "_py2js_update",
         "style_data",
         "x",
         1,
         "buffer"
        ]
       },
       {
        "data": "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",
        "encoding": "base64",
        "path": [
         "_py2js_update",
         "style_data",
         "y",
         2,
         "buffer"
        ]
       }
      ],
      "model_module": "plotlywidget",
      "model_module_version": "^4.14.3",
      "model_name": "FigureModel",
      "state": {
       "_config": {
        "plotlyServerURL": "https://plot.ly"
       },
       "_data": [],
       "_dom_classes": [],
       "_js2py_layoutDelta": {},
       "_js2py_pointsCallback": {},
       "_js2py_relayout": {},
       "_js2py_restyle": {},
       "_js2py_traceDeltas": {},
       "_js2py_update": {},
       "_last_layout_edit_id": 17,
       "_last_trace_edit_id": 15,
       "_layout": {
        "barmode": "overlay",
        "dragmode": "lasso",
        "margin": {
         "b": 10,
         "l": 10,
         "r": 10,
         "t": 10
        },
        "showlegend": false,
        "xaxis": {
         "domain": [
          0,
          0.85
         ],
         "showgrid": true
        },
        "xaxis2": {
         "domain": [
          0.85,
          1
         ],
         "showgrid": true,
         "zeroline": true,
         "zerolinecolor": "#FFF",
         "zerolinewidth": 4
        },
        "yaxis": {
         "domain": [
          0,
          0.85
         ],
         "showgrid": true
        },
        "yaxis2": {
         "domain": [
          0.85,
          1
         ],
         "showgrid": true,
         "zeroline": true,
         "zerolinecolor": "#FFF",
         "zerolinewidth": 4
        }
       },
       "_model_module": "plotlywidget",
       "_model_module_version": "^4.14.3",
       "_model_name": "FigureModel",
       "_py2js_addTraces": null,
       "_py2js_animate": {},
       "_py2js_deleteTraces": {},
       "_py2js_moveTraces": {},
       "_py2js_relayout": null,
       "_py2js_removeLayoutProps": {},
       "_py2js_removeTraceProps": {},
       "_py2js_restyle": null,
       "_py2js_update": null,
       "_view_count": 0,
       "_view_module": "plotlywidget",
       "_view_module_version": "^4.14.3",
       "_view_name": "FigureView"
      }
     },
     "e34bcd4b8f734dd78e0f80c2dca9d90c": {
      "model_module": "@jupyter-widgets/base",
      "model_module_version": "1.2.0",
      "model_name": "LayoutModel",
      "state": {
       "_model_module": "@jupyter-widgets/base",
       "_model_module_version": "1.2.0",
       "_model_name": "LayoutModel",
       "_view_count": null,
       "_view_module": "@jupyter-widgets/base",
       "_view_module_version": "1.2.0",
       "_view_name": "LayoutView",
       "align_content": null,
       "align_items": null,
       "align_self": null,
       "border": null,
       "bottom": null,
       "display": null,
       "flex": null,
       "flex_flow": null,
       "grid_area": null,
       "grid_auto_columns": null,
       "grid_auto_flow": null,
       "grid_auto_rows": null,
       "grid_column": null,
       "grid_gap": null,
       "grid_row": null,
       "grid_template_areas": null,
       "grid_template_columns": null,
       "grid_template_rows": null,
       "height": null,
       "justify_content": null,
       "justify_items": null,
       "left": null,
       "margin": null,
       "max_height": null,
       "max_width": null,
       "min_height": null,
       "min_width": null,
       "object_fit": null,
       "object_position": null,
       "order": null,
       "overflow": null,
       "overflow_x": null,
       "overflow_y": null,
       "padding": null,
       "right": null,
       "top": null,
       "visibility": null,
       "width": null
      }
     },
     "e50ed3550de143c7be4b333a14e2c6dc": {
      "model_module": "@jupyter-widgets/controls",
      "model_module_version": "1.5.0",
      "model_name": "DescriptionStyleModel",
      "state": {
       "_model_module": "@jupyter-widgets/controls",
       "_model_module_version": "1.5.0",
       "_model_name": "DescriptionStyleModel",
       "_view_count": null,
       "_view_module": "@jupyter-widgets/base",
       "_view_module_version": "1.2.0",
       "_view_name": "StyleView",
       "description_width": ""
      }
     },
     "e5d668b0d35d432286712168f9dc2d79": {
      "model_module": "@jupyter-widgets/base",
      "model_module_version": "1.2.0",
      "model_name": "LayoutModel",
      "state": {
       "_model_module": "@jupyter-widgets/base",
       "_model_module_version": "1.2.0",
       "_model_name": "LayoutModel",
       "_view_count": null,
       "_view_module": "@jupyter-widgets/base",
       "_view_module_version": "1.2.0",
       "_view_name": "LayoutView",
       "align_content": null,
       "align_items": null,
       "align_self": null,
       "border": null,
       "bottom": null,
       "display": null,
       "flex": null,
       "flex_flow": null,
       "grid_area": null,
       "grid_auto_columns": null,
       "grid_auto_flow": null,
       "grid_auto_rows": null,
       "grid_column": null,
       "grid_gap": null,
       "grid_row": null,
       "grid_template_areas": null,
       "grid_template_columns": null,
       "grid_template_rows": null,
       "height": null,
       "justify_content": null,
       "justify_items": null,
       "left": null,
       "margin": null,
       "max_height": null,
       "max_width": null,
       "min_height": null,
       "min_width": null,
       "object_fit": null,
       "object_position": null,
       "order": null,
       "overflow": null,
       "overflow_x": null,
       "overflow_y": null,
       "padding": null,
       "right": null,
       "top": null,
       "visibility": null,
       "width": "0px"
      }
     },
     "e70ea6f3460b435eab9c9998ee54f0f2": {
      "model_module": "@jupyter-widgets/controls",
      "model_module_version": "1.5.0",
      "model_name": "SliderStyleModel",
      "state": {
       "_model_module": "@jupyter-widgets/controls",
       "_model_module_version": "1.5.0",
       "_model_name": "SliderStyleModel",
       "_view_count": null,
       "_view_module": "@jupyter-widgets/base",
       "_view_module_version": "1.2.0",
       "_view_name": "StyleView",
       "description_width": "",
       "handle_color": null
      }
     },
     "e7d456ac336e4207a79ab43b4463ef6d": {
      "model_module": "@jupyter-widgets/base",
      "model_module_version": "1.2.0",
      "model_name": "LayoutModel",
      "state": {
       "_model_module": "@jupyter-widgets/base",
       "_model_module_version": "1.2.0",
       "_model_name": "LayoutModel",
       "_view_count": null,
       "_view_module": "@jupyter-widgets/base",
       "_view_module_version": "1.2.0",
       "_view_name": "LayoutView",
       "align_content": null,
       "align_items": null,
       "align_self": null,
       "border": null,
       "bottom": null,
       "display": null,
       "flex": null,
       "flex_flow": null,
       "grid_area": null,
       "grid_auto_columns": null,
       "grid_auto_flow": null,
       "grid_auto_rows": null,
       "grid_column": null,
       "grid_gap": null,
       "grid_row": null,
       "grid_template_areas": null,
       "grid_template_columns": null,
       "grid_template_rows": null,
       "height": null,
       "justify_content": null,
       "justify_items": null,
       "left": null,
       "margin": null,
       "max_height": null,
       "max_width": null,
       "min_height": null,
       "min_width": null,
       "object_fit": null,
       "object_position": null,
       "order": null,
       "overflow": null,
       "overflow_x": null,
       "overflow_y": null,
       "padding": null,
       "right": null,
       "top": null,
       "visibility": null,
       "width": null
      }
     },
     "e8ca46ff731042d7b2df11ac08f7f72d": {
      "model_module": "@jupyter-widgets/controls",
      "model_module_version": "1.5.0",
      "model_name": "ToggleButtonModel",
      "state": {
       "_dom_classes": [],
       "_model_module": "@jupyter-widgets/controls",
       "_model_module_version": "1.5.0",
       "_model_name": "ToggleButtonModel",
       "_view_count": null,
       "_view_module": "@jupyter-widgets/controls",
       "_view_module_version": "1.5.0",
       "_view_name": "ToggleButtonView",
       "button_style": "",
       "description": "GO Bond",
       "description_tooltip": null,
       "disabled": false,
       "icon": "",
       "layout": "IPY_MODEL_0d15d3a1742845e9a19b7dc7ec0fd62e",
       "style": "IPY_MODEL_9aede3dad33d4e0a8ea74fac3ab92cc6",
       "tooltip": "GO Bond",
       "value": true
      }
     },
     "ea2ab532733a4a61ba2b3e89b825b625": {
      "model_module": "@jupyter-widgets/base",
      "model_module_version": "1.2.0",
      "model_name": "LayoutModel",
      "state": {
       "_model_module": "@jupyter-widgets/base",
       "_model_module_version": "1.2.0",
       "_model_name": "LayoutModel",
       "_view_count": null,
       "_view_module": "@jupyter-widgets/base",
       "_view_module_version": "1.2.0",
       "_view_name": "LayoutView",
       "align_content": null,
       "align_items": "center",
       "align_self": null,
       "border": "1px solid #AAA",
       "bottom": null,
       "display": null,
       "flex": null,
       "flex_flow": null,
       "grid_area": null,
       "grid_auto_columns": null,
       "grid_auto_flow": null,
       "grid_auto_rows": null,
       "grid_column": null,
       "grid_gap": null,
       "grid_row": null,
       "grid_template_areas": null,
       "grid_template_columns": null,
       "grid_template_rows": null,
       "height": null,
       "justify_content": null,
       "justify_items": null,
       "left": null,
       "margin": "2px",
       "max_height": null,
       "max_width": null,
       "min_height": null,
       "min_width": null,
       "object_fit": null,
       "object_position": null,
       "order": null,
       "overflow": null,
       "overflow_x": null,
       "overflow_y": null,
       "padding": null,
       "right": null,
       "top": null,
       "visibility": null,
       "width": "270px"
      }
     },
     "eab9ad0099504e1faab7ff6c3f4cbf37": {
      "model_module": "@jupyter-widgets/controls",
      "model_module_version": "1.5.0",
      "model_name": "DescriptionStyleModel",
      "state": {
       "_model_module": "@jupyter-widgets/controls",
       "_model_module_version": "1.5.0",
       "_model_name": "DescriptionStyleModel",
       "_view_count": null,
       "_view_module": "@jupyter-widgets/base",
       "_view_module_version": "1.2.0",
       "_view_name": "StyleView",
       "description_width": ""
      }
     },
     "ede971dd3ff64711a6321cd047b94eac": {
      "model_module": "@jupyter-widgets/controls",
      "model_module_version": "1.5.0",
      "model_name": "FloatRangeSliderModel",
      "state": {
       "_dom_classes": [],
       "_model_module": "@jupyter-widgets/controls",
       "_model_module_version": "1.5.0",
       "_model_name": "FloatRangeSliderModel",
       "_view_count": null,
       "_view_module": "@jupyter-widgets/controls",
       "_view_module_version": "1.5.0",
       "_view_name": "FloatRangeSliderView",
       "continuous_update": false,
       "description": "",
       "description_tooltip": null,
       "disabled": false,
       "layout": "IPY_MODEL_891c93c06c964c19877e7f647975f9d2",
       "max": 1129.4129227798,
       "min": 0.005272189532728317,
       "orientation": "horizontal",
       "readout": true,
       "readout_format": ".3g",
       "step": 5.6470382529513365,
       "style": "IPY_MODEL_a933b30048ed435f831f153846792ad0",
       "value": [
        0.005272189532728317,
        1129.4129227798
       ]
      }
     },
     "edf9a0260e474c13b971d0b5711ba798": {
      "model_module": "@jupyter-widgets/base",
      "model_module_version": "1.2.0",
      "model_name": "LayoutModel",
      "state": {
       "_model_module": "@jupyter-widgets/base",
       "_model_module_version": "1.2.0",
       "_model_name": "LayoutModel",
       "_view_count": null,
       "_view_module": "@jupyter-widgets/base",
       "_view_module_version": "1.2.0",
       "_view_name": "LayoutView",
       "align_content": null,
       "align_items": "center",
       "align_self": null,
       "border": "1px solid #AAA",
       "bottom": null,
       "display": null,
       "flex": null,
       "flex_flow": null,
       "grid_area": null,
       "grid_auto_columns": null,
       "grid_auto_flow": null,
       "grid_auto_rows": null,
       "grid_column": null,
       "grid_gap": null,
       "grid_row": null,
       "grid_template_areas": null,
       "grid_template_columns": null,
       "grid_template_rows": null,
       "height": null,
       "justify_content": null,
       "justify_items": null,
       "left": null,
       "margin": "2px",
       "max_height": null,
       "max_width": null,
       "min_height": null,
       "min_width": null,
       "object_fit": null,
       "object_position": null,
       "order": null,
       "overflow": null,
       "overflow_x": null,
       "overflow_y": null,
       "padding": null,
       "right": null,
       "top": null,
       "visibility": null,
       "width": "270px"
      }
     },
     "ef0ee72cfd604650ab80c8431529574b": {
      "model_module": "@jupyter-widgets/controls",
      "model_module_version": "1.5.0",
      "model_name": "LabelModel",
      "state": {
       "_dom_classes": [],
       "_model_module": "@jupyter-widgets/controls",
       "_model_module_version": "1.5.0",
       "_model_name": "LabelModel",
       "_view_count": null,
       "_view_module": "@jupyter-widgets/controls",
       "_view_module_version": "1.5.0",
       "_view_name": "LabelView",
       "description": "",
       "description_tooltip": null,
       "layout": "IPY_MODEL_c0b0bbdefa3c4c3d9dd87cafa7449650",
       "placeholder": "​",
       "style": "IPY_MODEL_92bb13a0d2fd4c7eb1cac2375b42a680",
       "value": "Expression"
      }
     },
     "efc91288d8744bc4ac5e5da7ee3ac86b": {
      "model_module": "@jupyter-widgets/base",
      "model_module_version": "1.2.0",
      "model_name": "LayoutModel",
      "state": {
       "_model_module": "@jupyter-widgets/base",
       "_model_module_version": "1.2.0",
       "_model_name": "LayoutModel",
       "_view_count": null,
       "_view_module": "@jupyter-widgets/base",
       "_view_module_version": "1.2.0",
       "_view_name": "LayoutView",
       "align_content": null,
       "align_items": null,
       "align_self": null,
       "border": null,
       "bottom": null,
       "display": null,
       "flex": null,
       "flex_flow": null,
       "grid_area": null,
       "grid_auto_columns": null,
       "grid_auto_flow": null,
       "grid_auto_rows": null,
       "grid_column": null,
       "grid_gap": null,
       "grid_row": null,
       "grid_template_areas": null,
       "grid_template_columns": null,
       "grid_template_rows": null,
       "height": null,
       "justify_content": null,
       "justify_items": null,
       "left": null,
       "margin": null,
       "max_height": null,
       "max_width": null,
       "min_height": null,
       "min_width": null,
       "object_fit": null,
       "object_position": null,
       "order": null,
       "overflow": null,
       "overflow_x": null,
       "overflow_y": null,
       "padding": null,
       "right": null,
       "top": null,
       "visibility": null,
       "width": null
      }
     },
     "f3621af3ea884ec49f68b193ab62f9a1": {
      "model_module": "@jupyter-widgets/controls",
      "model_module_version": "1.5.0",
      "model_name": "IntRangeSliderModel",
      "state": {
       "_dom_classes": [],
       "_model_module": "@jupyter-widgets/controls",
       "_model_module_version": "1.5.0",
       "_model_name": "IntRangeSliderModel",
       "_view_count": null,
       "_view_module": "@jupyter-widgets/controls",
       "_view_module_version": "1.5.0",
       "_view_name": "IntRangeSliderView",
       "continuous_update": false,
       "description": "",
       "description_tooltip": null,
       "disabled": false,
       "layout": "IPY_MODEL_891c93c06c964c19877e7f647975f9d2",
       "max": 150,
       "min": 80,
       "orientation": "horizontal",
       "readout": true,
       "readout_format": "d",
       "step": 1,
       "style": "IPY_MODEL_e70ea6f3460b435eab9c9998ee54f0f2",
       "value": [
        129,
        150
       ]
      }
     },
     "f5ca1f6a43e246bd9aceafff5f136845": {
      "model_module": "@jupyter-widgets/base",
      "model_module_version": "1.2.0",
      "model_name": "LayoutModel",
      "state": {
       "_model_module": "@jupyter-widgets/base",
       "_model_module_version": "1.2.0",
       "_model_name": "LayoutModel",
       "_view_count": null,
       "_view_module": "@jupyter-widgets/base",
       "_view_module_version": "1.2.0",
       "_view_name": "LayoutView",
       "align_content": null,
       "align_items": "center",
       "align_self": null,
       "border": null,
       "bottom": null,
       "display": null,
       "flex": null,
       "flex_flow": null,
       "grid_area": null,
       "grid_auto_columns": null,
       "grid_auto_flow": null,
       "grid_auto_rows": null,
       "grid_column": null,
       "grid_gap": null,
       "grid_row": null,
       "grid_template_areas": null,
       "grid_template_columns": null,
       "grid_template_rows": null,
       "height": null,
       "justify_content": null,
       "justify_items": null,
       "left": null,
       "margin": null,
       "max_height": null,
       "max_width": null,
       "min_height": null,
       "min_width": null,
       "object_fit": null,
       "object_position": null,
       "order": null,
       "overflow": null,
       "overflow_x": null,
       "overflow_y": null,
       "padding": null,
       "right": null,
       "top": null,
       "visibility": null,
       "width": null
      }
     },
     "f65e1c03f9de44828257e9cfdf389970": {
      "model_module": "@jupyter-widgets/controls",
      "model_module_version": "1.5.0",
      "model_name": "DescriptionStyleModel",
      "state": {
       "_model_module": "@jupyter-widgets/controls",
       "_model_module_version": "1.5.0",
       "_model_name": "DescriptionStyleModel",
       "_view_count": null,
       "_view_module": "@jupyter-widgets/base",
       "_view_module_version": "1.2.0",
       "_view_name": "StyleView",
       "description_width": ""
      }
     },
     "f67a47e99c914a5a8e84a2f7ffcf90bd": {
      "model_module": "@jupyter-widgets/base",
      "model_module_version": "1.2.0",
      "model_name": "LayoutModel",
      "state": {
       "_model_module": "@jupyter-widgets/base",
       "_model_module_version": "1.2.0",
       "_model_name": "LayoutModel",
       "_view_count": null,
       "_view_module": "@jupyter-widgets/base",
       "_view_module_version": "1.2.0",
       "_view_name": "LayoutView",
       "align_content": null,
       "align_items": "center",
       "align_self": null,
       "border": "1px solid #AAA",
       "bottom": null,
       "display": null,
       "flex": null,
       "flex_flow": null,
       "grid_area": null,
       "grid_auto_columns": null,
       "grid_auto_flow": null,
       "grid_auto_rows": null,
       "grid_column": null,
       "grid_gap": null,
       "grid_row": null,
       "grid_template_areas": null,
       "grid_template_columns": null,
       "grid_template_rows": null,
       "height": null,
       "justify_content": null,
       "justify_items": null,
       "left": null,
       "margin": "2px",
       "max_height": null,
       "max_width": null,
       "min_height": null,
       "min_width": null,
       "object_fit": null,
       "object_position": null,
       "order": null,
       "overflow": null,
       "overflow_x": null,
       "overflow_y": null,
       "padding": null,
       "right": null,
       "top": null,
       "visibility": null,
       "width": "270px"
      }
     },
     "f6c6550613284925b6ceed92b38dc05d": {
      "model_module": "@jupyter-widgets/controls",
      "model_module_version": "1.5.0",
      "model_name": "SliderStyleModel",
      "state": {
       "_model_module": "@jupyter-widgets/controls",
       "_model_module_version": "1.5.0",
       "_model_name": "SliderStyleModel",
       "_view_count": null,
       "_view_module": "@jupyter-widgets/base",
       "_view_module_version": "1.2.0",
       "_view_name": "StyleView",
       "description_width": "",
       "handle_color": null
      }
     },
     "f7a27d99815b40dea4d7468f3393fe43": {
      "model_module": "@jupyter-widgets/controls",
      "model_module_version": "1.5.0",
      "model_name": "HTMLModel",
      "state": {
       "_dom_classes": [],
       "_model_module": "@jupyter-widgets/controls",
       "_model_module_version": "1.5.0",
       "_model_name": "HTMLModel",
       "_view_count": null,
       "_view_module": "@jupyter-widgets/controls",
       "_view_module_version": "1.5.0",
       "_view_name": "HTMLView",
       "description": "",
       "description_tooltip": null,
       "layout": "IPY_MODEL_07fdf528bb714bd0bb3b6a4f738d75ba",
       "placeholder": "​",
       "style": "IPY_MODEL_b3ee5ac6852b438c99b281b17305366b",
       "value": "<span title=\"net_benefits\">Net Benefits</span>"
      }
     },
     "fa7266657100443eab377360525daeed": {
      "model_module": "@jupyter-widgets/controls",
      "model_module_version": "1.5.0",
      "model_name": "HTMLModel",
      "state": {
       "_dom_classes": [],
       "_model_module": "@jupyter-widgets/controls",
       "_model_module_version": "1.5.0",
       "_model_name": "HTMLModel",
       "_view_count": null,
       "_view_module": "@jupyter-widgets/controls",
       "_view_module_version": "1.5.0",
       "_view_name": "HTMLView",
       "description": "",
       "description_tooltip": null,
       "layout": "IPY_MODEL_3048811ecd2a474b9194753b770f74f7",
       "placeholder": "​",
       "style": "IPY_MODEL_a6bd20e140204993a82671137ea18e2a",
       "value": "<span title=\"time_savings\">Time Savings</span>"
      }
     },
     "fcda147775494e12830c2dd549b638d5": {
      "buffers": [
       {
        "data": "sMUVuC15dD+wxRW4LXl0P7DFFbgteXQ/wMUVuC15dD+gxRW4LXl0P8DFFbgteXQ/wMUVuC15dD+gxRW4LXl0P6DFFbgteXQ/wMUVuC15dD/AxRW4LXl0P6DFFbgteXQ/wMUVuC15dD+gxRW4LXl0P8DFFbgteXQ/wMUVuC15dD+gxRW4LXl0P6DFFbgteXQ/wMUVuC15dD/AxRW4LXl0Pw==",
        "encoding": "base64",
        "path": [
         "_data",
         0,
         "width",
         "buffer"
        ]
       },
       {
        "data": "KYIMOeeauT+E3o0UeuK6P986D/AMKrw/OpeQy59xvT+W8xGnMrm+P/inScFiAMA/JlYKLyykwD9UBMuc9UfBP4Gyiwq/68E/rmBMeIiPwj/cDg3mUTPDPwq9zVMb18M/N2uOweR6xD9lGU8vrh7FP5LHD513wsU/wHXQCkFmxj/uI5F4CgrHPxvSUebTrcc/SIASVJ1RyD92LtPBZvXIPw==",
        "encoding": "base64",
        "path": [
         "_data",
         0,
         "x",
         "buffer"
        ]
       },
       {
        "data": "sMUVuC15dD+wxRW4LXl0P7DFFbgteXQ/wMUVuC15dD+gxRW4LXl0P8DFFbgteXQ/wMUVuC15dD+gxRW4LXl0P6DFFbgteXQ/wMUVuC15dD/AxRW4LXl0P6DFFbgteXQ/wMUVuC15dD+gxRW4LXl0P8DFFbgteXQ/wMUVuC15dD+gxRW4LXl0P6DFFbgteXQ/wMUVuC15dD/AxRW4LXl0Pw==",
        "encoding": "base64",
        "path": [
         "_data",
         1,
         "width",
         "buffer"
        ]
       },
       {
        "data": "KYIMOeeauT+E3o0UeuK6P986D/AMKrw/OpeQy59xvT+W8xGnMrm+P/inScFiAMA/JlYKLyykwD9UBMuc9UfBP4Gyiwq/68E/rmBMeIiPwj/cDg3mUTPDPwq9zVMb18M/N2uOweR6xD9lGU8vrh7FP5LHD513wsU/wHXQCkFmxj/uI5F4CgrHPxvSUebTrcc/SIASVJ1RyD92LtPBZvXIPw==",
        "encoding": "base64",
        "path": [
         "_data",
         1,
         "x",
         "buffer"
        ]
       }
      ],
      "model_module": "plotlywidget",
      "model_module_version": "^4.14.3",
      "model_name": "FigureModel",
      "state": {
       "_config": {
        "plotlyServerURL": "https://plot.ly"
       },
       "_data": [
        {
         "marker": {
          "color": "rgb(255, 127, 14)"
         },
         "name": "Inside",
         "type": "bar",
         "uid": "51efb66a-ca84-46fe-b782-87ca74ef5211",
         "width": {
          "dtype": "float64",
          "shape": [
           20
          ]
         },
         "x": {
          "dtype": "float64",
          "shape": [
           20
          ]
         },
         "y": [
          251,
          250,
          250,
          249,
          251,
          250,
          250,
          249,
          250,
          250,
          250,
          250,
          249,
          251,
          250,
          250,
          250,
          249,
          250,
          251
         ]
        },
        {
         "marker": {
          "color": "rgb(31, 119, 180)"
         },
         "name": "Outside",
         "type": "bar",
         "uid": "8437eccc-eaf9-432c-80ee-cc4761b89f38",
         "width": {
          "dtype": "float64",
          "shape": [
           20
          ]
         },
         "x": {
          "dtype": "float64",
          "shape": [
           20
          ]
         },
         "y": [
          0,
          0,
          0,
          0,
          0,
          0,
          0,
          0,
          0,
          0,
          0,
          0,
          0,
          0,
          0,
          0,
          0,
          0,
          0,
          0
         ]
        }
       ],
       "_dom_classes": [],
       "_js2py_layoutDelta": {},
       "_js2py_pointsCallback": {},
       "_js2py_relayout": {},
       "_js2py_restyle": {},
       "_js2py_traceDeltas": {},
       "_js2py_update": {},
       "_last_layout_edit_id": 3,
       "_last_trace_edit_id": 3,
       "_layout": {
        "barmode": "stack",
        "dragmode": "select",
        "height": 175,
        "margin": {
         "b": 10,
         "l": 10,
         "r": 10,
         "t": 10
        },
        "selectdirection": "h",
        "showlegend": false,
        "width": 300,
        "yaxis": {
         "showticklabels": false
        }
       },
       "_model_module": "plotlywidget",
       "_model_module_version": "^4.14.3",
       "_model_name": "FigureModel",
       "_py2js_addTraces": {},
       "_py2js_animate": {},
       "_py2js_deleteTraces": {},
       "_py2js_moveTraces": {},
       "_py2js_relayout": null,
       "_py2js_removeLayoutProps": {},
       "_py2js_removeTraceProps": {},
       "_py2js_restyle": {},
       "_py2js_update": null,
       "_view_count": 0,
       "_view_module": "plotlywidget",
       "_view_module_version": "^4.14.3",
       "_view_name": "FigureView"
      }
     },
     "fd925db0d0484626933df0ad692d803e": {
      "model_module": "@jupyter-widgets/controls",
      "model_module_version": "1.5.0",
      "model_name": "HTMLModel",
      "state": {
       "_dom_classes": [],
       "_model_module": "@jupyter-widgets/controls",
       "_model_module_version": "1.5.0",
       "_model_name": "HTMLModel",
       "_view_count": null,
       "_view_module": "@jupyter-widgets/controls",
       "_view_module_version": "1.5.0",
       "_view_name": "HTMLView",
       "description": "",
       "description_tooltip": null,
       "layout": "IPY_MODEL_abfa1606133648f6b0822b29d5434f9e",
       "placeholder": "​",
       "style": "IPY_MODEL_8b28a4fd82f4413394505971211c8762",
       "value": "<span title=\"alpha\">alpha</span>"
      }
     },
     "fe075a0d884443d8af79bbb92a85ad43": {
      "model_module": "@jupyter-widgets/controls",
      "model_module_version": "1.5.0",
      "model_name": "DescriptionStyleModel",
      "state": {
       "_model_module": "@jupyter-widgets/controls",
       "_model_module_version": "1.5.0",
       "_model_name": "DescriptionStyleModel",
       "_view_count": null,
       "_view_module": "@jupyter-widgets/base",
       "_view_module_version": "1.2.0",
       "_view_name": "StyleView",
       "description_width": ""
      }
     },
     "fed919ee282c475da018aa903ef0a1ec": {
      "buffers": [
       {
        "data": "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",
        "encoding": "base64",
        "path": [
         "_py2js_update",
         "style_data",
         "y",
         0,
         "buffer"
        ]
       }
      ],
      "model_module": "plotlywidget",
      "model_module_version": "^4.14.3",
      "model_name": "FigureModel",
      "state": {
       "_config": {
        "plotlyServerURL": "https://plot.ly"
       },
       "_data": [
        {
         "fill": "tozeroy",
         "marker": {
          "color": "rgb(31, 119, 180)"
         },
         "name": "Overall",
         "type": "scatter",
         "uid": "fca145eb-e5bc-47da-95c7-143a5c4fa203",
         "x": {
          "dtype": "float64",
          "shape": [
           250
          ]
         },
         "y": {
          "dtype": "float64",
          "shape": [
           250
          ]
         }
        },
        {
         "fill": "tozeroy",
         "marker": {
          "color": "rgb(255, 127, 14)"
         },
         "name": "Inside",
         "type": "scatter",
         "uid": "476489a7-7a50-41a6-ab9c-63fc2e9ee1c9",
         "x": {
          "dtype": "float64",
          "shape": [
           250
          ]
         },
         "y": {
          "dtype": "float64",
          "shape": [
           250
          ]
         }
        }
       ],
       "_dom_classes": [],
       "_js2py_layoutDelta": {},
       "_js2py_pointsCallback": {},
       "_js2py_relayout": {},
       "_js2py_restyle": {},
       "_js2py_traceDeltas": {},
       "_js2py_update": {},
       "_last_layout_edit_id": 1,
       "_last_trace_edit_id": 1,
       "_layout": {
        "height": 175,
        "margin": {
         "b": 10,
         "l": 10,
         "r": 10,
         "t": 10
        },
        "showlegend": false,
        "width": 300,
        "yaxis": {
         "showticklabels": false
        }
       },
       "_model_module": "plotlywidget",
       "_model_module_version": "^4.14.3",
       "_model_name": "FigureModel",
       "_py2js_addTraces": {},
       "_py2js_animate": {},
       "_py2js_deleteTraces": {},
       "_py2js_moveTraces": {},
       "_py2js_relayout": null,
       "_py2js_removeLayoutProps": {},
       "_py2js_removeTraceProps": {},
       "_py2js_restyle": {},
       "_py2js_update": null,
       "_view_count": 0,
       "_view_module": "plotlywidget",
       "_view_module_version": "^4.14.3",
       "_view_name": "FigureView"
      }
     },
     "fef03cebfbb747f18677f3e410d6751b": {
      "model_module": "@jupyter-widgets/controls",
      "model_module_version": "1.5.0",
      "model_name": "HTMLModel",
      "state": {
       "_dom_classes": [],
       "_model_module": "@jupyter-widgets/controls",
       "_model_module_version": "1.5.0",
       "_model_name": "HTMLModel",
       "_view_count": null,
       "_view_module": "@jupyter-widgets/controls",
       "_view_module_version": "1.5.0",
       "_view_name": "HTMLView",
       "description": "",
       "description_tooltip": null,
       "layout": "IPY_MODEL_0227da92e56945ba8e82154235f41a20",
       "placeholder": "​",
       "style": "IPY_MODEL_27b07e6add8e4d6e889960330c34cb7d",
       "value": "<span title=\"value_of_time\">Value of Time</span>"
      }
     },
     "ff7fa0a5dfaa4f07a7d5aec797cdf456": {
      "model_module": "@jupyter-widgets/controls",
      "model_module_version": "1.5.0",
      "model_name": "DescriptionStyleModel",
      "state": {
       "_model_module": "@jupyter-widgets/controls",
       "_model_module_version": "1.5.0",
       "_model_name": "DescriptionStyleModel",
       "_view_count": null,
       "_view_module": "@jupyter-widgets/base",
       "_view_module_version": "1.2.0",
       "_view_name": "StyleView",
       "description_width": ""
      }
     },
     "ffc302a362074572abeaeae659e8a5ad": {
      "model_module": "@jupyter-widgets/controls",
      "model_module_version": "1.5.0",
      "model_name": "DescriptionStyleModel",
      "state": {
       "_model_module": "@jupyter-widgets/controls",
       "_model_module_version": "1.5.0",
       "_model_name": "DescriptionStyleModel",
       "_view_count": null,
       "_view_module": "@jupyter-widgets/base",
       "_view_module_version": "1.2.0",
       "_view_name": "StyleView",
       "description_width": ""
      }
     }
    },
    "version_major": 2,
    "version_minor": 0
   }
  }
 },
 "nbformat": 4,
 "nbformat_minor": 4
}
