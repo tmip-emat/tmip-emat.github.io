{
 "cells": [
  {
   "cell_type": "code",
   "execution_count": 1,
   "metadata": {
    "execution": {
     "iopub.execute_input": "2021-03-04T00:04:07.508592Z",
     "iopub.status.busy": "2021-03-04T00:04:07.507934Z",
     "iopub.status.idle": "2021-03-04T00:04:09.104316Z",
     "shell.execute_reply": "2021-03-04T00:04:09.104799Z"
    }
   },
   "outputs": [
    {
     "name": "stdout",
     "output_type": "stream",
     "text": [
      "emat 0.5.2, plotly 4.14.3\n"
     ]
    }
   ],
   "source": [
    "import emat, numpy, pandas\n",
    "emat.versions()"
   ]
  },
  {
   "cell_type": "markdown",
   "metadata": {},
   "source": [
    "# Optimization Tools"
   ]
  },
  {
   "cell_type": "markdown",
   "metadata": {},
   "source": [
    "Typically, transportation policy planning models will be used to\n",
    "try to find policies that provide the \"best\" outcomes.  In a traditional\n",
    "analytical environment, that typically means using models to find \n",
    "optimal outcomes for performance measures.\n",
    "\n",
    "Transportation models as used in the TMIP-EMAT frawework are \n",
    "generally characterized by two important features: they are \n",
    "subject to significant exogenous uncertainties about the future\n",
    "state of the world, and they include numerous performance measures\n",
    "for which decision makers would like to see good outcomes. Therefore,\n",
    "optimization tools applied to these models should be \n",
    "flexible to consider *multiple objectives*,\n",
    "as well as be *robust* against uncertainty."
   ]
  },
  {
   "cell_type": "markdown",
   "metadata": {},
   "source": [
    "## Multi-Objective Optimization"
   ]
  },
  {
   "cell_type": "markdown",
   "metadata": {},
   "source": [
    "With exploratory modeling, optimization is also often undertaken as a \n",
    "[multi-objective optimization](https://en.wikipedia.org/wiki/Multi-objective_optimization) exercise, where multiple\n",
    "and possibly conflicting performance measures need to be addressed simultaneously. \n",
    "A road capacity expansion project is a good example of a multi-objective optimization \n",
    "problem. In such a situation, we want to expand the capacity of a roadway, both minimizing\n",
    "the costs and maximizing the travel time benefits.  A smaller expansion project will cost less\n",
    "but also provide lesser benefits.  Funding it with variable rate debt might \n",
    "decrease expected future costs but doing so entails more risk than fixed-rate debt."
   ]
  },
  {
   "cell_type": "markdown",
   "metadata": {},
   "source": [
    "One approach to managing a multi-objective optimization problem is to distill it \n",
    "into a single objective problem, by assigning relative weights to the various \n",
    "objectives.  For a variety of reasons, this can be difficult to accomplish in public policy environments that are common in transportation planning. \n",
    "Multiple stakeholders may have different\n",
    "priorities and may not be able to agree on a relative weighting structure.  \n",
    "Certain small improvements in a performance measure may be valued very differently \n",
    "if they tip the measure over a regulated threshold (e.g. to attain a particular \n",
    "mandated level of emissions or air quality).\n",
    "\n",
    "Instead of trying to simplify a multi-objective into a simple-objective one,\n",
    "an alternate approach is to preserve the multi-objective nature of the problem\n",
    "and find a set or spectrum of different solutions, each of which solves the problem\n",
    "at a different weighting of the various objectives.  Decision makers can then\n",
    "review the various different solutions, and make judgements about the various\n",
    "trade-offs implicit in choosing one path over another.\n",
    "\n",
    "Within a set of solutions for this kind of problem, each individual solution is \n",
    "\"[Pareto optimal](https://en.wikipedia.org/wiki/Pareto_efficiency)\", such that\n",
    "no individual objective can be improved without degrading at least one other\n",
    "objective by some amount.  Thus, each of these solutions might be the \"best\"\n",
    "policy to adopt, and exactly which is the best is left as a subjective judgement\n",
    "to decision makers, instead of being a concretely objective evaluation based \n",
    "on mathematics alone."
   ]
  },
  {
   "cell_type": "markdown",
   "metadata": {},
   "source": [
    "## Robust Optimization"
   ]
  },
  {
   "cell_type": "markdown",
   "metadata": {},
   "source": [
    "Robust optimization is a variant of the more traditional optimization\n",
    "problem, where we will try to find policies that yield *good* outcomes\n",
    "across a range of possible futures, instead of trying to find a policy\n",
    "that delivers the *best* outcome for a particular future.\n",
    "\n",
    "To conceptualize this, let us consider a decision where there are four\n",
    "possible policies to choose among, a single exogenous uncertainty that\n",
    "will impact the future, and a single performance measure that we would\n",
    "like to mimimize.  We have a model that can forecast the performance \n",
    "measure, conditional on the chosen policy and the future value of the\n",
    "exogenous uncertainty, and which gives us a forecasts as shown below."
   ]
  },
  {
   "cell_type": "code",
   "execution_count": 2,
   "metadata": {
    "execution": {
     "iopub.execute_input": "2021-03-04T00:04:09.110653Z",
     "iopub.status.busy": "2021-03-04T00:04:09.110177Z",
     "iopub.status.idle": "2021-03-04T00:04:09.541045Z",
     "shell.execute_reply": "2021-03-04T00:04:09.541485Z"
    },
    "nbsphinx": "hidden"
   },
   "outputs": [],
   "source": [
    "import numpy\n",
    "from matplotlib import pyplot as plt\n",
    "x = numpy.linspace(0,1)\n",
    "y1 = x**3 + numpy.cos((x-3)*23)*.01\n",
    "y2 = x**3 + .1 + numpy.sin((x-3)*23)*.01\n",
    "y3 = 1.3*(1-x)**17 + numpy.cos((x-3)*23)*.01 + .1\n",
    "y4 = numpy.sin((x-3)*23)*.01+0.16 + .1*(x-0.5)\n",
    "\n",
    "linestyles = [\n",
    "    dict(ls='-', c='blue'),\n",
    "    dict(ls=':', c='orange'),\n",
    "    dict(ls='-.', c='green'),\n",
    "    dict(ls='--', c='red'),\n",
    "]\n",
    "\n",
    "fig, ax = plt.subplots(1,1)\n",
    "ax.plot(x, y1, **linestyles[0], label=\"Policy 1\")\n",
    "ax.plot(x, y2, **linestyles[1], label=\"Policy 2\")\n",
    "ax.plot(x, y3, **linestyles[2], label=\"Policy 3\")\n",
    "ax.plot(x, y4, **linestyles[3], label=\"Policy 4\")\n",
    "ax.set_ylabel(\"Performance Measure\\n← Lower is Better ←\")\n",
    "ax.set_xlabel(\"Exogenous Uncertainty\")\n",
    "ax.legend()\n",
    "ax.set_title(\"Example Simple Forecasting Experiment\")\n",
    "\n",
    "plt.savefig(\"robust_example.png\")\n",
    "plt.show()"
   ]
  },
  {
   "cell_type": "raw",
   "metadata": {
    "raw_mimetype": "text/restructuredtext"
   },
   "source": [
    ".. image:: robust_example.png"
   ]
  },
  {
   "cell_type": "markdown",
   "metadata": {},
   "source": [
    "In a naive optimization approach, if we want to minimize the performance\n",
    "measure, we can do so by selecting Policy 1 and setting the exogenous\n",
    "uncertainty to 0.1.  Of course, in application we are able to select\n",
    "Policy 1, but we are unable to actually control the exogenous uncertainty\n",
    "(hence, \"exogenous\") and we may very well end up with a very bad result\n",
    "on the right side of the figure.\n",
    "\n",
    "We can see from the figure that, depending on the ultimate value for \n",
    "the exogenous uncertainty, either Policy 1 or Policy 3 might yield the\n",
    "best possible value of the performace measure.  However, both of these\n",
    "policies come with substantial risks as well -- in each Policy there are\n",
    "some futures where the results are optimal, but there are also some \n",
    "futures where the results are exceptionally poor.\n",
    "\n",
    "In contrast with these optimal policies, Policy 4 may be considered a \n",
    "\"robust\" solution.  Although there is no value of the exogenous \n",
    "uncertainty where Policy 4 yields the best possible outcome, there is\n",
    "also no future where Policy 4 yields a very poor outcome.  Instead, across\n",
    "all futures it is always generating a \"pretty good\" outcome.\n",
    "\n",
    "Different expectations for the future may lead to different policy \n",
    "choices.  If the decision maker feels that low values of the exogenous\n",
    "uncertainty are much more likely than high values, Policy 1 might be\n",
    "the best policy to choose.  If high values of the exogenous uncertainty\n",
    "are expected, then Policy 3 might be the best choice.  If there is not\n",
    "much agreement on the probable future values of the exogenous uncertainty,\n",
    "or if decision makers want to adopt a risk-averse stance, then Policy 4\n",
    "might be the best choice.  \n",
    "\n",
    "The remaining policy shown in the figure, Policy 2, is the lone holdout \n",
    "in this example -- there is no set of expectations about the future, or\n",
    "attitudes toward risk, that can make this policy the best choice.  This\n",
    "is because, no matter what the future value of the exogenous uncertainty\n",
    "may be, the performance measure has a better outcome from Policy 1 than\n",
    "from Policy 2.  In this circumstance, we can say that Policy 2 is \n",
    "\"dominated\" and should never be chosen by decision makers."
   ]
  },
  {
   "cell_type": "markdown",
   "metadata": {},
   "source": [
    "### Robustness Functions"
   ]
  },
  {
   "cell_type": "markdown",
   "metadata": {},
   "source": [
    "To perform robust optimization in EMAT, we need a core model (or meta-model)\n",
    "with defined input and output parameters, as well a set of functions called\n",
    "\"robustness measures\" that define what a \"robust\" measure represents.  \n",
    "As noted above, different expectations about future states of the world\n",
    "can lead to different rankings of policy options.  In addition, different\n",
    "attitudes towards risk can result in different robustness measures that are\n",
    "derived from the same underlying modeled performance measures.  \n",
    "\n",
    "For example, consider the *Example Simple Forecasting Experiment* shown above.\n",
    "In this example, we could compute a robustness measure for each policy where\n",
    "we calculate the maximum value of the performance measure across any possible\n",
    "value of the exogenous uncertainty.  This value is shown in the first column\n",
    "of robustness measures in the figure below, and under this measure Policy 4 is\n",
    "far and away the best choice. "
   ]
  },
  {
   "cell_type": "code",
   "execution_count": 3,
   "metadata": {
    "execution": {
     "iopub.execute_input": "2021-03-04T00:04:09.565954Z",
     "iopub.status.busy": "2021-03-04T00:04:09.564364Z",
     "iopub.status.idle": "2021-03-04T00:04:09.832239Z",
     "shell.execute_reply": "2021-03-04T00:04:09.832679Z"
    },
    "nbsphinx": "hidden"
   },
   "outputs": [
    {
     "name": "stderr",
     "output_type": "stream",
     "text": [
      "/Applications/PyCharm.app/Contents/plugins/python/helpers/pycharm_matplotlib_backend/backend_interagg.py:68: UserWarning:\n",
      "\n",
      "This figure includes Axes that are not compatible with tight_layout, so results might be incorrect.\n",
      "\n"
     ]
    }
   ],
   "source": [
    "fig, ax = plt.subplots(\n",
    "    1,6, sharey=True, \n",
    "    gridspec_kw=dict(width_ratios=[7,1,1,1,1,1], wspace=0.05,), \n",
    "    figsize=[8, 4.],\n",
    ")\n",
    "\n",
    "\n",
    "ax[0].plot(x, y1, **linestyles[0], label=\"Policy 1\")\n",
    "ax[0].plot(x, y2, **linestyles[1], label=\"Policy 2\")\n",
    "ax[0].plot(x, y3, **linestyles[2], label=\"Policy 3\")\n",
    "ax[0].plot(x, y4, **linestyles[3], label=\"Policy 4\")\n",
    "ax[1].plot([0,1], [y1.max()]*2, **linestyles[0], lw=2)\n",
    "ax[1].plot([0,1], [y2.max()]*2, **linestyles[1], lw=2)\n",
    "ax[1].plot([0,1],[y3.max()]*2, **linestyles[2],  lw=2)\n",
    "ax[1].plot([0,1], [y4.max()]*2, **linestyles[3], lw=2)\n",
    "\n",
    "ax[2].plot([0,1], [y1.mean()]*2, **linestyles[0], lw=2)\n",
    "ax[2].plot([0,1], [y2.mean()]*2, **linestyles[1], lw=2)\n",
    "ax[2].plot([0,1],[y3.mean()]*2, **linestyles[2],  lw=2)\n",
    "ax[2].plot([0,1], [y4.mean()]*2, **linestyles[3], lw=2)\n",
    "\n",
    "ax[3].plot([0,1], [numpy.median(y1)]*2, **linestyles[0], lw=2)\n",
    "ax[3].plot([0,1], [numpy.median(y2)]*2, **linestyles[1], lw=2)\n",
    "ax[3].plot([0,1], [numpy.median(y3)]*2, **linestyles[2],  lw=2)\n",
    "ax[3].plot([0,1], [numpy.median(y4)]*2, **linestyles[3], lw=2)\n",
    "\n",
    "ax[4].plot([0,1], [numpy.percentile(y1, 90)]*2, **linestyles[0], lw=2)\n",
    "ax[4].plot([0,1], [numpy.percentile(y2, 90)]*2, **linestyles[1], lw=2)\n",
    "ax[4].plot([0,1], [numpy.percentile(y3, 90)]*2, **linestyles[2],  lw=2)\n",
    "ax[4].plot([0,1], [numpy.percentile(y4, 90)]*2, **linestyles[3], lw=2)\n",
    "\n",
    "ax[5].plot([0,1], [y1.min()]*2, **linestyles[0], lw=2)\n",
    "ax[5].plot([0,1], [y2.min()]*2, **linestyles[1], lw=2)\n",
    "ax[5].plot([0,1], [y3.min()]*2, **linestyles[2], lw=2)\n",
    "ax[5].plot([0,1], [y4.min()]*2, **linestyles[3], lw=2)\n",
    "\n",
    "\n",
    "ax[0].set_ylabel(\"Performance Measure\\n← Lower is Better ←\")\n",
    "ax[0].set_xlabel(\"Exogenous Uncertainty\")\n",
    "ax[0].legend()\n",
    "ax[0].set_title(\"Example Simple Forecasting Experiment\")\n",
    "ax[3].set_title(\"Robustness Measures\")\n",
    "ax[1].set_xlabel(\"Max\\nPM\")\n",
    "ax[2].set_xlabel(\"Mean\\nPM\")\n",
    "ax[3].set_xlabel(\"Median\\nPM\")\n",
    "ax[4].set_xlabel(\"90%ile\\nPM\")\n",
    "ax[5].set_xlabel(\"Min\\nPM\")\n",
    "ax[-1].yaxis.set_label_position(\"right\")\n",
    "for a in [1,2,3,4,5]:\n",
    "    ax[a].set_xticks([])\n",
    "    ax[a].set_yticks([])\n",
    "plt.savefig(\"robust_measures.png\")\n",
    "plt.show()"
   ]
  },
  {
   "cell_type": "raw",
   "metadata": {
    "raw_mimetype": "text/restructuredtext"
   },
   "source": [
    ".. image:: robust_measures.png"
   ]
  },
  {
   "cell_type": "markdown",
   "metadata": {},
   "source": [
    "The \"maximum performance measure result\" robustness function is a very\n",
    "risk averse approach, as no consideration is given to the shape or distribution\n",
    "of performance measure values other than the maximum.  Consider these same\n",
    "policies shown if Policy 4 is not available. In this case, the next best \n",
    "policy under this robustness function is Policy 1, as it has the next lowest\n",
    "maximum value.  However, when we look at\n",
    "a comparison between Policies 1 and 3 in aggregate, we might easily conclude\n",
    "that Policy 3 is a better choice overall: it is better than Policy 1 on average,\n",
    "as judged by the mean, median, and 90th percentile measures.  The only reason \n",
    "Policy 3 appears worse than Policy 1 on the initial robustness function is that \n",
    "it has an especially poor outcome at one extreme end of the uncertainty \n",
    "distribution.  Depending on our attitude towards risk on this performance measure,\n",
    "we may want to consider using some of these alternative robustness functions.\n",
    "An additional consideration here is that the various robustness measures\n",
    "in this example case are all unweighted measures: they implicitly assume a \n",
    "uniform probability distribution for the entire range of possible values for\n",
    "the exogenous uncertainty.  If we are able to develop a probability distribution\n",
    "on our expectations for the future values of the exogenous uncertainties,\n",
    "we can use that probability distribution to weight the robustness functions\n",
    "appropriately, creating more meaningful values, particularly for the non-extreme\n",
    "value robustness functions (i.e., everything except the min and max)."
   ]
  },
  {
   "cell_type": "markdown",
   "metadata": {},
   "source": [
    "# Mechanics of Using Optimization"
   ]
  },
  {
   "cell_type": "markdown",
   "metadata": {},
   "source": [
    "## Policy Optimization: Search over Levers"
   ]
  },
  {
   "cell_type": "markdown",
   "metadata": {},
   "source": [
    "The simplest optimization tool available for TMIP-EMAT users is \n",
    "a *search over policy levers*, which represents multi-objective\n",
    "optimization, manipulating policy lever values to find a Pareto\n",
    "optimal set of solutions, holding the exogenous uncertainties\n",
    "fixed at a particular value for each uncertainty (typically at \n",
    "the default values).  This is often a useful first step\n",
    "in exploratory analysis, even if your ultimate goal is to \n",
    "eventually undertake a robust optimization analysis.  This less\n",
    "complex optimization can give insights into tradeoffs between\n",
    "performance measures and reasonable combinations of policy levers.\n",
    "\n",
    "To demonstrate a search over levers, we'll use the Road Test \n",
    "example model."
   ]
  },
  {
   "cell_type": "code",
   "execution_count": 4,
   "metadata": {
    "execution": {
     "iopub.execute_input": "2021-03-04T00:04:09.836366Z",
     "iopub.status.busy": "2021-03-04T00:04:09.835956Z",
     "iopub.status.idle": "2021-03-04T00:04:09.882608Z",
     "shell.execute_reply": "2021-03-04T00:04:09.882902Z"
    }
   },
   "outputs": [],
   "source": [
    "import emat.examples\n",
    "scope, db, model = emat.examples.road_test()"
   ]
  },
  {
   "cell_type": "markdown",
   "metadata": {},
   "source": [
    "The scope defined for a model in TMIP-EMAT will already provide\n",
    "information about the preferred directionality of performance\n",
    "measures (i.e., 'maximize' when larger values are better,\n",
    "'minimize' when smaller values are better, or 'info' when we\n",
    "do not have a preference for bigger or smaller values, but we \n",
    "just want to be tracking the measure).  We can see these\n",
    "preferences for any particular performance measure by inspecting\n",
    "the scope definition file, or by using the `info` method of\n",
    "`emat.Measure` instances."
   ]
  },
  {
   "cell_type": "code",
   "execution_count": 5,
   "metadata": {
    "execution": {
     "iopub.execute_input": "2021-03-04T00:04:09.886452Z",
     "iopub.status.busy": "2021-03-04T00:04:09.886035Z",
     "iopub.status.idle": "2021-03-04T00:04:09.888246Z",
     "shell.execute_reply": "2021-03-04T00:04:09.888750Z"
    }
   },
   "outputs": [
    {
     "name": "stdout",
     "output_type": "stream",
     "text": [
      "net_benefits:\n",
      "  shortname: Net Benefits\n",
      "  kind: maximize\n"
     ]
    }
   ],
   "source": [
    "scope['net_benefits'].info()"
   ]
  },
  {
   "cell_type": "markdown",
   "metadata": {},
   "source": [
    "To conduct an optimization search over levers, we'll use the \n",
    "`optimize` method of the TMIP-EMAT model class, setting the\n",
    "`search_over` argument to `'levers'`.  In this example, we will\n",
    "set the number of function evaluations (`nfe`) to 10,000, although\n",
    "for other models you may need more or fewer to achieve a good, \n",
    "well converged result.  In a Jupyter notebook environment, \n",
    "we can monitor convergence visually in real time in the figures\n",
    "that will appear automatically."
   ]
  },
  {
   "cell_type": "code",
   "execution_count": 6,
   "metadata": {
    "execution": {
     "iopub.execute_input": "2021-03-04T00:04:09.891695Z",
     "iopub.status.busy": "2021-03-04T00:04:09.891286Z",
     "iopub.status.idle": "2021-03-04T00:04:10.113135Z",
     "shell.execute_reply": "2021-03-04T00:04:10.113651Z"
    }
   },
   "outputs": [
    {
     "data": {
      "application/vnd.jupyter.widget-view+json": {
       "model_id": "e84991115cfc46959b320db8a3782cf6",
       "version_major": 2,
       "version_minor": 0
      },
      "text/plain": [
       "ConvergenceMetrics(children=(FigureWidget({\n",
       "    'data': [{'fill': 'tonexty',\n",
       "              'line': {'shape': '…"
      ]
     },
     "metadata": {},
     "output_type": "display_data"
    }
   ],
   "source": [
    "result = model.optimize(\n",
    "    nfe=10_000, \n",
    "    searchover='levers', \n",
    "    check_extremes=1,\n",
    "    cache_file='./optimization_cache/road_test_search_over_levers.gz',\n",
    ")"
   ]
  },
  {
   "cell_type": "markdown",
   "metadata": {},
   "source": [
    "The `optimize` method returns an `OptimizationResult` object, \n",
    "which contains the resulting solutions, as well as some information\n",
    "about how they were derived.  We can review the raw values of the\n",
    "solutions as a pandas DataFrame, or see the scenario values used \n",
    "to generate these solutions."
   ]
  },
  {
   "cell_type": "code",
   "execution_count": 7,
   "metadata": {
    "execution": {
     "iopub.execute_input": "2021-03-04T00:04:10.120821Z",
     "iopub.status.busy": "2021-03-04T00:04:10.120334Z",
     "iopub.status.idle": "2021-03-04T00:04:10.132384Z",
     "shell.execute_reply": "2021-03-04T00:04:10.132961Z"
    }
   },
   "outputs": [
    {
     "data": {
      "text/html": [
       "<div>\n",
       "<style scoped>\n",
       "    .dataframe tbody tr th:only-of-type {\n",
       "        vertical-align: middle;\n",
       "    }\n",
       "\n",
       "    .dataframe tbody tr th {\n",
       "        vertical-align: top;\n",
       "    }\n",
       "\n",
       "    .dataframe thead th {\n",
       "        text-align: right;\n",
       "    }\n",
       "</style>\n",
       "<table border=\"1\" class=\"dataframe\">\n",
       "  <thead>\n",
       "    <tr style=\"text-align: right;\">\n",
       "      <th></th>\n",
       "      <th>expand_capacity</th>\n",
       "      <th>amortization_period</th>\n",
       "      <th>debt_type</th>\n",
       "      <th>interest_rate_lock</th>\n",
       "      <th>build_travel_time</th>\n",
       "      <th>time_savings</th>\n",
       "      <th>value_of_time_savings</th>\n",
       "      <th>net_benefits</th>\n",
       "      <th>cost_of_capacity_expansion</th>\n",
       "      <th>free_flow_time</th>\n",
       "      <th>initial_capacity</th>\n",
       "    </tr>\n",
       "  </thead>\n",
       "  <tbody>\n",
       "    <tr>\n",
       "      <th>0</th>\n",
       "      <td>88.855738</td>\n",
       "      <td>50</td>\n",
       "      <td>Paygo</td>\n",
       "      <td>True</td>\n",
       "      <td>60.707492</td>\n",
       "      <td>8.292508</td>\n",
       "      <td>62.193807</td>\n",
       "      <td>-164.501446</td>\n",
       "      <td>226.695253</td>\n",
       "      <td>60</td>\n",
       "      <td>100</td>\n",
       "    </tr>\n",
       "    <tr>\n",
       "      <th>1</th>\n",
       "      <td>8.143481</td>\n",
       "      <td>50</td>\n",
       "      <td>Paygo</td>\n",
       "      <td>True</td>\n",
       "      <td>66.580231</td>\n",
       "      <td>2.419769</td>\n",
       "      <td>18.148269</td>\n",
       "      <td>-2.627975</td>\n",
       "      <td>20.776244</td>\n",
       "      <td>60</td>\n",
       "      <td>100</td>\n",
       "    </tr>\n",
       "    <tr>\n",
       "      <th>2</th>\n",
       "      <td>3.340111</td>\n",
       "      <td>50</td>\n",
       "      <td>Paygo</td>\n",
       "      <td>True</td>\n",
       "      <td>67.891632</td>\n",
       "      <td>1.108368</td>\n",
       "      <td>8.312761</td>\n",
       "      <td>-0.208774</td>\n",
       "      <td>8.521535</td>\n",
       "      <td>60</td>\n",
       "      <td>100</td>\n",
       "    </tr>\n",
       "    <tr>\n",
       "      <th>3</th>\n",
       "      <td>13.617514</td>\n",
       "      <td>50</td>\n",
       "      <td>Paygo</td>\n",
       "      <td>True</td>\n",
       "      <td>65.400841</td>\n",
       "      <td>3.599159</td>\n",
       "      <td>26.993693</td>\n",
       "      <td>-7.748303</td>\n",
       "      <td>34.741996</td>\n",
       "      <td>60</td>\n",
       "      <td>100</td>\n",
       "    </tr>\n",
       "    <tr>\n",
       "      <th>4</th>\n",
       "      <td>36.145663</td>\n",
       "      <td>50</td>\n",
       "      <td>Paygo</td>\n",
       "      <td>True</td>\n",
       "      <td>62.619553</td>\n",
       "      <td>6.380447</td>\n",
       "      <td>47.853349</td>\n",
       "      <td>-44.364108</td>\n",
       "      <td>92.217458</td>\n",
       "      <td>60</td>\n",
       "      <td>100</td>\n",
       "    </tr>\n",
       "  </tbody>\n",
       "</table>\n",
       "</div>"
      ],
      "text/plain": [
       "   expand_capacity  amortization_period debt_type  interest_rate_lock  \\\n",
       "0        88.855738                   50     Paygo                True   \n",
       "1         8.143481                   50     Paygo                True   \n",
       "2         3.340111                   50     Paygo                True   \n",
       "3        13.617514                   50     Paygo                True   \n",
       "4        36.145663                   50     Paygo                True   \n",
       "\n",
       "   build_travel_time  time_savings  value_of_time_savings  net_benefits  \\\n",
       "0          60.707492      8.292508              62.193807   -164.501446   \n",
       "1          66.580231      2.419769              18.148269     -2.627975   \n",
       "2          67.891632      1.108368               8.312761     -0.208774   \n",
       "3          65.400841      3.599159              26.993693     -7.748303   \n",
       "4          62.619553      6.380447              47.853349    -44.364108   \n",
       "\n",
       "   cost_of_capacity_expansion  free_flow_time  initial_capacity  \n",
       "0                  226.695253              60               100  \n",
       "1                   20.776244              60               100  \n",
       "2                    8.521535              60               100  \n",
       "3                   34.741996              60               100  \n",
       "4                   92.217458              60               100  "
      ]
     },
     "execution_count": 1,
     "metadata": {},
     "output_type": "execute_result"
    }
   ],
   "source": [
    "result.result.head()"
   ]
  },
  {
   "cell_type": "code",
   "execution_count": 8,
   "metadata": {
    "execution": {
     "iopub.execute_input": "2021-03-04T00:04:10.136316Z",
     "iopub.status.busy": "2021-03-04T00:04:10.135859Z",
     "iopub.status.idle": "2021-03-04T00:04:10.137914Z",
     "shell.execute_reply": "2021-03-04T00:04:10.138365Z"
    }
   },
   "outputs": [
    {
     "data": {
      "text/plain": [
       "Scenario({'alpha': 0.15, 'beta': 4.0, 'input_flow': 100, 'value_of_time': 0.075, 'unit_cost_expansion': 100, 'interest_rate': 0.03, 'yield_curve': 0.01})"
      ]
     },
     "execution_count": 1,
     "metadata": {},
     "output_type": "execute_result"
    }
   ],
   "source": [
    "result.scenario"
   ]
  },
  {
   "cell_type": "markdown",
   "metadata": {},
   "source": [
    "We can visualize the set of solutions using a\n",
    "[parallel coordinates](https://en.wikipedia.org/wiki/Parallel_coordinates) \n",
    "plot.  This figure is composed of a number of vertical axes, one for each \n",
    "column of data in the results DataFrame.  Each row of the DataFrame is\n",
    "represented by a chord that connects across each of the vertical axes.\n",
    "\n",
    "By default, the axes representing performace measures to be minimized are\n",
    "inverted in the parallel coordinates, such that moving up along any \n",
    "performance measure axis results in a \"better\" outcome for that performance\n",
    "measure.\n",
    "\n",
    "In the figure below, we can quickly see that pretty much all the all of the Pareto\n",
    "optimal policy solutions for our reference scenario share an amortization\n",
    "period of 50 years, and all share a debt type of 'Paygo'.  By contrast, the set of \n",
    "solutions include multiple different values for the expand capacity lever,\n",
    "ranging from 0 to 100.  These different values offer possible tradeoffs \n",
    "among the performance measures: lower levels of capacity expansion (shown\n",
    "in yellow) will maximize net benefits and minimize the cost of the project,\n",
    "but they will also fail to provide much travel time savings.  Conversely,\n",
    "larger levels of capacity expansion will provide better travel time savings, \n",
    "but will not perform as well on costs.  It is left up the the analysts and\n",
    "decision makers to judge what tradeoffs to make between these conflicting\n",
    "goals."
   ]
  },
  {
   "cell_type": "code",
   "execution_count": 9,
   "metadata": {
    "execution": {
     "iopub.execute_input": "2021-03-04T00:04:10.141737Z",
     "iopub.status.busy": "2021-03-04T00:04:10.141251Z",
     "iopub.status.idle": "2021-03-04T00:04:10.602020Z",
     "shell.execute_reply": "2021-03-04T00:04:10.602525Z"
    }
   },
   "outputs": [
    {
     "data": {
      "application/vnd.jupyter.widget-view+json": {
       "model_id": "10091516eb14431abfc6b208f84bb2ab",
       "version_major": 2,
       "version_minor": 0
      },
      "text/plain": [
       "ParCoordsViewer(children=(FigureWidget({\n",
       "    'data': [{'dimensions': [{'label': '(L) Expand Amount',\n",
       "         …"
      ]
     },
     "metadata": {},
     "output_type": "display_data"
    }
   ],
   "source": [
    "q=result.par_coords()\n",
    "q"
   ]
  },
  {
   "cell_type": "markdown",
   "metadata": {},
   "source": [
    "As noted above, nearly all but not exactly all of the identified Pareto optimal\n",
    "solutions in this figure share an amortization period of 50 years.  We can review a table \n",
    "of a subset of particular solutions using the `query` method of a pandas DataFrame.  \n",
    "In this example, we may want to see a table of the instances where the amortization period \n",
    "is not 50 years."
   ]
  },
  {
   "cell_type": "code",
   "execution_count": 10,
   "metadata": {
    "execution": {
     "iopub.execute_input": "2021-03-04T00:04:10.606496Z",
     "iopub.status.busy": "2021-03-04T00:04:10.606065Z",
     "iopub.status.idle": "2021-03-04T00:04:10.619184Z",
     "shell.execute_reply": "2021-03-04T00:04:10.619607Z"
    }
   },
   "outputs": [
    {
     "data": {
      "text/html": [
       "<div>\n",
       "<style scoped>\n",
       "    .dataframe tbody tr th:only-of-type {\n",
       "        vertical-align: middle;\n",
       "    }\n",
       "\n",
       "    .dataframe tbody tr th {\n",
       "        vertical-align: top;\n",
       "    }\n",
       "\n",
       "    .dataframe thead th {\n",
       "        text-align: right;\n",
       "    }\n",
       "</style>\n",
       "<table border=\"1\" class=\"dataframe\">\n",
       "  <thead>\n",
       "    <tr style=\"text-align: right;\">\n",
       "      <th></th>\n",
       "      <th>expand_capacity</th>\n",
       "      <th>amortization_period</th>\n",
       "      <th>debt_type</th>\n",
       "      <th>interest_rate_lock</th>\n",
       "      <th>build_travel_time</th>\n",
       "      <th>time_savings</th>\n",
       "      <th>value_of_time_savings</th>\n",
       "      <th>net_benefits</th>\n",
       "      <th>cost_of_capacity_expansion</th>\n",
       "      <th>free_flow_time</th>\n",
       "      <th>initial_capacity</th>\n",
       "    </tr>\n",
       "  </thead>\n",
       "  <tbody>\n",
       "    <tr>\n",
       "      <th>6</th>\n",
       "      <td>0.0</td>\n",
       "      <td>48</td>\n",
       "      <td>Paygo</td>\n",
       "      <td>False</td>\n",
       "      <td>69.0</td>\n",
       "      <td>0.0</td>\n",
       "      <td>0.0</td>\n",
       "      <td>0.0</td>\n",
       "      <td>0.0</td>\n",
       "      <td>60</td>\n",
       "      <td>100</td>\n",
       "    </tr>\n",
       "  </tbody>\n",
       "</table>\n",
       "</div>"
      ],
      "text/plain": [
       "   expand_capacity  amortization_period debt_type  interest_rate_lock  \\\n",
       "6              0.0                   48     Paygo               False   \n",
       "\n",
       "   build_travel_time  time_savings  value_of_time_savings  net_benefits  \\\n",
       "6               69.0           0.0                    0.0           0.0   \n",
       "\n",
       "   cost_of_capacity_expansion  free_flow_time  initial_capacity  \n",
       "6                         0.0              60               100  "
      ]
     },
     "execution_count": 1,
     "metadata": {},
     "output_type": "execute_result"
    }
   ],
   "source": [
    "result.result.query(\"amortization_period != 50\")"
   ]
  },
  {
   "cell_type": "markdown",
   "metadata": {},
   "source": [
    "The first row in this table shows a particular edge case: when the capacity expansion is\n",
    "exactly zero, all of the remaining policy levers have no effect -- the details of debt\n",
    "financing are irrelevant when there is no debt at all, and thus no values of the other\n",
    "levers result in a Pareto-optimal solution that would dominate any other such solution.\n",
    "On the other hand other solution shown is a different edge case, with a capacity \n",
    "expansion at the maximum (100). Here, the numerical difference between an amortization\n",
    "period of 49 years and 50 years may be two small for the algorithm to catch (i.e., it \n",
    "may be swallowed by a rounding error somewhere inside the calculations).  In each case,\n",
    "an analyst with domain knowledge, who understands the underlying system being modeled,\n",
    "will be able to bring a more nuanced understanding of the results than can be achieved\n",
    "merely by applying the mathematical algorithms in TMIP-EMAT, and correctly infer\n",
    "that the 50 year amortization is always an optimal solution, and that the outlier\n",
    "solutions are not important."
   ]
  },
  {
   "cell_type": "markdown",
   "metadata": {},
   "source": [
    "Lastly, a note on the interpretation of the visualization of parallel coordinates\n",
    "plots: for numerical parameters and measures, the range of values shown in each \n",
    "vertical axis of plot is determined not by the full range of possible values, but instead\n",
    "it only displays the range of values included in the solutions being visualized.\n",
    "For example, the `amortization_period` axis only shows values between 47 and 50, even\n",
    "though the actual range of values is defined in the scope to be between 15 and 50 years.\n",
    "Similarly, the range of values for `net_benefits` is between 0.08 and -194.18.\n",
    "Because the solutions being displayed are optimal, the top value of 0.08 is \n",
    "(barring numerical problems) the best value of `net_benefits` that might be obtained,\n",
    "but the bottom value of -194.18 is by no means the worst possible `net_benefits`\n",
    "outcome that could arise from various different policies.  Instead, this bottom\n",
    "value is not a worst outcome but *also an optimal value*, except it is conditional \n",
    "on also achieving some particular other desirable outcome.  In the example shown, this \n",
    "other desirable outcome is a high level of travel time savings.  It is left entirely\n",
    "up to the analyst and policy makers to judge whether this outcome is \"bad\" or not,\n",
    "relative to the other possible outcomes."
   ]
  },
  {
   "cell_type": "markdown",
   "metadata": {},
   "source": [
    "## Worst Case Discovery: Search over Uncertainties"
   ]
  },
  {
   "cell_type": "markdown",
   "metadata": {},
   "source": [
    "We can apply the same multiobjective optimization tool in reverse to \n",
    "study the worst case outcomes from any particular set of policy lever\n",
    "settings.  To do so, we switch out the `searchover` argument from\n",
    "`'levers'` to `'uncertainties'`, and set `reverse_targets` to True,\n",
    "which will tell the optimization engine to search for the worst outcomes\n",
    "instead of the best ones.  We'll often also want to override the reference\n",
    "policy values with selected particular values, although it's possible\n",
    "to omit this reference argument to search for the worst case scenarios\n",
    "under the default policy lever settings."
   ]
  },
  {
   "cell_type": "code",
   "execution_count": 11,
   "metadata": {
    "execution": {
     "iopub.execute_input": "2021-03-04T00:04:10.622927Z",
     "iopub.status.busy": "2021-03-04T00:04:10.622520Z",
     "iopub.status.idle": "2021-03-04T00:04:10.694378Z",
     "shell.execute_reply": "2021-03-04T00:04:10.695091Z"
    }
   },
   "outputs": [
    {
     "data": {
      "application/vnd.jupyter.widget-view+json": {
       "model_id": "58de277492fc476a9cb23f280ba21d33",
       "version_major": 2,
       "version_minor": 0
      },
      "text/plain": [
       "ConvergenceMetrics(children=(FigureWidget({\n",
       "    'data': [{'fill': 'tonexty',\n",
       "              'line': {'shape': '…"
      ]
     },
     "metadata": {},
     "output_type": "display_data"
    }
   ],
   "source": [
    "worst = model.optimize(\n",
    "    nfe=10_000, \n",
    "    searchover='uncertainties', \n",
    "    reverse_targets = True,\n",
    "    check_extremes=1,\n",
    "    cache_file='./optimization_cache/road_test_search_over_uncs.gz',\n",
    "    reference={\n",
    "        'expand_capacity': 100.0, \n",
    "        'amortization_period': 50, \n",
    "        'debt_type': 'PayGo', \n",
    "        'interest_rate_lock': False,\n",
    "    }\n",
    ")"
   ]
  },
  {
   "cell_type": "code",
   "execution_count": 12,
   "metadata": {
    "execution": {
     "iopub.execute_input": "2021-03-04T00:04:10.706727Z",
     "iopub.status.busy": "2021-03-04T00:04:10.706248Z",
     "iopub.status.idle": "2021-03-04T00:04:10.931825Z",
     "shell.execute_reply": "2021-03-04T00:04:10.932771Z"
    }
   },
   "outputs": [
    {
     "data": {
      "application/vnd.jupyter.widget-view+json": {
       "model_id": "08707ff0046b45b68bbac23523fc6eac",
       "version_major": 2,
       "version_minor": 0
      },
      "text/plain": [
       "ParCoordsViewer(children=(FigureWidget({\n",
       "    'data': [{'dimensions': [{'label': '(X) alpha',\n",
       "                 …"
      ]
     },
     "metadata": {},
     "output_type": "display_data"
    }
   ],
   "source": [
    "worst.par_coords()"
   ]
  },
  {
   "cell_type": "markdown",
   "metadata": {},
   "source": [
    "## Using Robust Optimization"
   ]
  },
  {
   "cell_type": "markdown",
   "metadata": {},
   "source": [
    "As discussed above, implementing robust optimization requires the\n",
    "definition of relevant robustness functions.  Because the functional\n",
    "form of these functions can be so many different things depending on\n",
    "the particular application, TMIP-EMAT does not implement a mechanism\n",
    "to generate them automatically.  Instead, it is left to the analyst to\n",
    "develop a set of robustness functions that are appropriate for each\n",
    "application.\n",
    "\n",
    "Each robustness function represents an aggregate performance measure,\n",
    "calculated based on the results from a group of individual runs of the\n",
    "underlying core model (or meta-model).  These runs are conducted with\n",
    "a common set of policy lever settings, and a variety of different \n",
    "exogenous uncertainty scenarios.  This allows us to create aggregate \n",
    "measures that encapsulate information from the distribution of possible\n",
    "outcomes, instead of for just one particular future scenario.\n",
    "\n",
    "A robust measure is created in TMIP-EMAT using the same `Measure` class\n",
    "used for performace measures that are direct model outputs.  Like any \n",
    "other measure, they have a `name` and `kind` (minimize, maximize, or info).\n",
    "The names used for robust measures must be unique new names that are \n",
    "not otherwise used in the model's scope, so you cannot use the same name\n",
    "as an existing performance measure. Instead, the names can (and usually \n",
    "should) be descriptive variants of the existing performance measures. \n",
    "For example, if an existing performance measure is `'net_benefits'`,\n",
    "you can name a robust measure `'min_net_benefits'`.\n",
    "\n",
    "In addition to the `name` and `kind`, robust measures have two important\n",
    "additional attributes: a `variable_name`, which names the underlying\n",
    "performance measure upon which this robust measure is based, and a\n",
    "`function` that describes how to aggregate the results.  The function\n",
    "should be a callable function, which accepts an array of performance\n",
    "measure values as its single argument, and returns a single numeric\n",
    "value that is the robust measure.  For example, the code below will \n",
    "create a robust measure that represents the minimum net benefit across \n",
    "all exogenous uncertainty scenarios."
   ]
  },
  {
   "cell_type": "code",
   "execution_count": 13,
   "metadata": {
    "execution": {
     "iopub.execute_input": "2021-03-04T00:04:10.938089Z",
     "iopub.status.busy": "2021-03-04T00:04:10.937299Z",
     "iopub.status.idle": "2021-03-04T00:04:10.939395Z",
     "shell.execute_reply": "2021-03-04T00:04:10.939979Z"
    }
   },
   "outputs": [],
   "source": [
    "from emat import Measure\n",
    "\n",
    "minimum_net_benefit = Measure(\n",
    "    name='Minimum Net Benefits',\n",
    "    kind=Measure.MAXIMIZE,\n",
    "    variable_name='net_benefits',\n",
    "    function=min,\n",
    ")"
   ]
  },
  {
   "cell_type": "markdown",
   "metadata": {},
   "source": [
    "As suggested earlier, this measure might be too sensitive to outliers\n",
    "in the set of exogenous uncertainty scenarios.  We can address this \n",
    "by creating a different robust measure, based on the same underlying\n",
    "performance measure, but which is based on the mean instead of the \n",
    "minimum value."
   ]
  },
  {
   "cell_type": "code",
   "execution_count": 14,
   "metadata": {
    "execution": {
     "iopub.execute_input": "2021-03-04T00:04:10.943615Z",
     "iopub.status.busy": "2021-03-04T00:04:10.942955Z",
     "iopub.status.idle": "2021-03-04T00:04:10.944713Z",
     "shell.execute_reply": "2021-03-04T00:04:10.945064Z"
    }
   },
   "outputs": [],
   "source": [
    "expected_net_benefit = Measure(\n",
    "    name='Mean Net Benefits',\n",
    "    kind=Measure.MAXIMIZE,\n",
    "    variable_name='net_benefits',\n",
    "    function=numpy.mean,\n",
    ")"
   ]
  },
  {
   "cell_type": "markdown",
   "metadata": {},
   "source": [
    "Or we can adopt an intermediate approach, focusing on the 5th percentile\n",
    "instead of the minimum, which avoids being overly sensitive to the \n",
    "most extreme tail ends of the distribution, but maintains a fairly \n",
    "risk-averse robustness approach.\n",
    "\n",
    "Note that normally, the `numpy.percentile` function requires two arguments\n",
    "instead of one: the array of values, and the target percentile value.\n",
    "Since the `function` of the robust measure needs to accept only a single \n",
    "argument, we can inject the `q=5` argument here using \n",
    "[functools.partial](https://docs.python.org/3/library/functools.html#functools.partial)."
   ]
  },
  {
   "cell_type": "code",
   "execution_count": 15,
   "metadata": {
    "execution": {
     "iopub.execute_input": "2021-03-04T00:04:10.948194Z",
     "iopub.status.busy": "2021-03-04T00:04:10.947716Z",
     "iopub.status.idle": "2021-03-04T00:04:10.949286Z",
     "shell.execute_reply": "2021-03-04T00:04:10.949820Z"
    }
   },
   "outputs": [],
   "source": [
    "import functools\n",
    "\n",
    "pct5_net_benefit = Measure(\n",
    "    '5%ile Net Benefits',\n",
    "    kind = Measure.MAXIMIZE,\n",
    "    variable_name = 'net_benefits', \n",
    "    function = functools.partial(numpy.percentile, q=5), \n",
    ")"
   ]
  },
  {
   "cell_type": "markdown",
   "metadata": {},
   "source": [
    "We can also capture robustness measures that are not statistical versions\n",
    "of the performance measure (that can be contrasted directly with the \n",
    "performance measure outputs, like the mean or median), but rather more abstract \n",
    "measures, like the percentage of scenarios where the performace measure \n",
    "meets some target value.  For example, we can compute the percentage of scenarios\n",
    "for the road test example where the net benefits are negative.  To do so,\n",
    "we will use the `percentileofscore` function from the `scipy.stats` package.\n",
    "For this function, set the `kind` argument to `'strict'` to count only strictly\n",
    "negative results -- not scenarios where the net benefits are exactly zero -- or\n",
    "to `'weak'` to count all non-positive results."
   ]
  },
  {
   "cell_type": "code",
   "execution_count": 16,
   "metadata": {
    "execution": {
     "iopub.execute_input": "2021-03-04T00:04:10.952974Z",
     "iopub.status.busy": "2021-03-04T00:04:10.952487Z",
     "iopub.status.idle": "2021-03-04T00:04:10.954037Z",
     "shell.execute_reply": "2021-03-04T00:04:10.954553Z"
    }
   },
   "outputs": [],
   "source": [
    "from scipy.stats import percentileofscore\n",
    "\n",
    "neg_net_benefit = Measure(\n",
    "    'Possibility of Negative Net Benefits',\n",
    "    kind = Measure.MINIMIZE,\n",
    "    variable_name = 'net_benefits', \n",
    "    function = functools.partial(percentileofscore, score=0, kind='strict'), \n",
    ")"
   ]
  },
  {
   "cell_type": "markdown",
   "metadata": {},
   "source": [
    "We can of course also create robust measures based on other \n",
    "performance measures in the core model.  For example, in the \n",
    "Road Test model the total cost of the capacity expansion is\n",
    "subject to some uncertainty, and we may want to make policy\n",
    "choices not just to maximize net benefits but also trying to\n",
    "keep costs in check."
   ]
  },
  {
   "cell_type": "code",
   "execution_count": 17,
   "metadata": {
    "execution": {
     "iopub.execute_input": "2021-03-04T00:04:10.957574Z",
     "iopub.status.busy": "2021-03-04T00:04:10.957106Z",
     "iopub.status.idle": "2021-03-04T00:04:10.958567Z",
     "shell.execute_reply": "2021-03-04T00:04:10.959100Z"
    }
   },
   "outputs": [],
   "source": [
    "pct95_cost = Measure(\n",
    "    '95%ile Capacity Expansion Cost',\n",
    "    kind = Measure.MINIMIZE,\n",
    "    variable_name = 'cost_of_capacity_expansion', \n",
    "    function = functools.partial(numpy.percentile, q = 95), \n",
    ")"
   ]
  },
  {
   "cell_type": "markdown",
   "metadata": {},
   "source": [
    "We may also be interested in finding policies that will maximize the expected time savings.  \n",
    "Although we can easily conceptualize that these two goals are in opposition (increasing time\n",
    "savings pretty obviously goes hand in hand with increasing cost) we will be able to use\n",
    "the results of this robust optimization to visualize the tradeoffs and try to find an \n",
    "appropriate balance."
   ]
  },
  {
   "cell_type": "code",
   "execution_count": 18,
   "metadata": {
    "execution": {
     "iopub.execute_input": "2021-03-04T00:04:10.961838Z",
     "iopub.status.busy": "2021-03-04T00:04:10.961358Z",
     "iopub.status.idle": "2021-03-04T00:04:10.962835Z",
     "shell.execute_reply": "2021-03-04T00:04:10.963381Z"
    }
   },
   "outputs": [],
   "source": [
    "expected_time_savings = Measure(\n",
    "    'Expected Time Savings',\n",
    "    kind = Measure.MAXIMIZE, \n",
    "    variable_name = 'time_savings', \n",
    "    function = numpy.mean,\n",
    ")"
   ]
  },
  {
   "cell_type": "code",
   "execution_count": 19,
   "metadata": {
    "execution": {
     "iopub.execute_input": "2021-03-04T00:04:10.965939Z",
     "iopub.status.busy": "2021-03-04T00:04:10.965467Z",
     "iopub.status.idle": "2021-03-04T00:04:10.968987Z",
     "shell.execute_reply": "2021-03-04T00:04:10.969496Z"
    }
   },
   "outputs": [],
   "source": [
    "from emat.util.distributed import get_client"
   ]
  },
  {
   "cell_type": "code",
   "execution_count": 20,
   "metadata": {
    "execution": {
     "iopub.execute_input": "2021-03-04T00:04:10.972985Z",
     "iopub.status.busy": "2021-03-04T00:04:10.972457Z",
     "iopub.status.idle": "2021-03-04T00:04:11.870475Z",
     "shell.execute_reply": "2021-03-04T00:04:11.870939Z"
    }
   },
   "outputs": [
    {
     "data": {
      "application/vnd.jupyter.widget-view+json": {
       "model_id": "d0f191626c614351a2f1a295399179a6",
       "version_major": 2,
       "version_minor": 0
      },
      "text/plain": [
       "ConvergenceMetrics(children=(FigureWidget({\n",
       "    'data': [{'fill': 'tonexty',\n",
       "              'line': {'shape': '…"
      ]
     },
     "metadata": {},
     "output_type": "display_data"
    }
   ],
   "source": [
    "robust_result = model.robust_optimize(\n",
    "    robustness_functions=[\n",
    "        expected_net_benefit,\n",
    "        pct5_net_benefit,\n",
    "        neg_net_benefit,\n",
    "        pct95_cost,\n",
    "        expected_time_savings,\n",
    "    ],\n",
    "    scenarios=250,\n",
    "    nfe=25_000,\n",
    "    check_extremes=1,\n",
    "    evaluator=get_client(),\n",
    "    cache_file='./optimization_cache/road_test_robust_search.gz',\n",
    ")"
   ]
  },
  {
   "cell_type": "code",
   "execution_count": 21,
   "metadata": {
    "execution": {
     "iopub.execute_input": "2021-03-04T00:04:11.884498Z",
     "iopub.status.busy": "2021-03-04T00:04:11.873575Z",
     "iopub.status.idle": "2021-03-04T00:04:12.074416Z",
     "shell.execute_reply": "2021-03-04T00:04:12.074938Z"
    }
   },
   "outputs": [
    {
     "data": {
      "application/vnd.jupyter.widget-view+json": {
       "model_id": "128cde20b2e140a4b0582add126c13d4",
       "version_major": 2,
       "version_minor": 0
      },
      "text/plain": [
       "ParCoordsViewer(children=(FigureWidget({\n",
       "    'data': [{'dimensions': [{'label': '(L) Expand Amount',\n",
       "         …"
      ]
     },
     "metadata": {},
     "output_type": "display_data"
    }
   ],
   "source": [
    "robust_result.par_coords()"
   ]
  },
  {
   "cell_type": "markdown",
   "metadata": {},
   "source": [
    "### Constraints\n",
    "\n",
    "The robust optimization process can be constrained to only include \n",
    "solutions that satisfy certain constraints. These constraints can \n",
    "be based on the policy lever parameters that are contained in the \n",
    "core model, the aggregate performance measures identified in the \n",
    "list of robustness functions, or some combination of levers and \n",
    "aggregate measures.  Importantly, the constraints *cannot* be imposed \n",
    "on the exogenous uncertainties, nor directly on the output measures \n",
    "from the core models (or the equivalent meta-model). This is because \n",
    "the robust version of the model aggregates a number of individual \n",
    "core model runs, and effectively hides these two components from \n",
    "the optimization engine.  \n",
    "\n",
    "One way to work around this limitation, at least on the output measures, \n",
    "is to write robustness functions that transmit the relevant output \n",
    "measures through the aggregation process. For example, to constrain \n",
    "the robust search only to instances where a particular output measure \n",
    "is always positive, then write a robustness function that takes the \n",
    "*minimum* value of the targeted performance measure, and write a \n",
    "constraint that ensures that the minimum value is always positive.  \n",
    "This approach should be used with caution, however, as it may severely \n",
    "limit the search space.\n",
    "\n",
    "For the road test example, we can define some constraints to consider \n",
    "solutions that are within the limited search space. To do so, we will use the \n",
    "`Constraint` class.  "
   ]
  },
  {
   "cell_type": "code",
   "execution_count": 22,
   "metadata": {
    "execution": {
     "iopub.execute_input": "2021-03-04T00:04:12.077830Z",
     "iopub.status.busy": "2021-03-04T00:04:12.077346Z",
     "iopub.status.idle": "2021-03-04T00:04:12.079096Z",
     "shell.execute_reply": "2021-03-04T00:04:12.079614Z"
    }
   },
   "outputs": [],
   "source": [
    "from emat import Constraint"
   ]
  },
  {
   "cell_type": "markdown",
   "metadata": {},
   "source": [
    "Each `Constraint` needs to have a unique name\n",
    "(i.e. not the same as anything else in the scope or any robust\n",
    "measure).  Each `Constraint` is also defined by one or more \n",
    "`parameter_names` and/or `outcome_names`, plus a `function` that will be used to \n",
    "determine whether the constraint is violated.  The `function`\n",
    "should accept positional values for each of the `parameter_names` \n",
    "and `outcome_names`, in order, and return 0 if the constraint is not\n",
    "violated, and a positive number if it is violated.\n",
    "\n",
    "Two convenient class methods are provided within the `Constraint` class:\n",
    "`must_be_less_than` and `must_be_greater_than`, which can simplify\n",
    "the creation and legibility of simple constraints on a single\n",
    "parameter or outcome.  Each take a single argument, the threshold\n",
    "of the constraint."
   ]
  },
  {
   "cell_type": "code",
   "execution_count": 23,
   "metadata": {
    "execution": {
     "iopub.execute_input": "2021-03-04T00:04:12.083126Z",
     "iopub.status.busy": "2021-03-04T00:04:12.082641Z",
     "iopub.status.idle": "2021-03-04T00:04:12.084281Z",
     "shell.execute_reply": "2021-03-04T00:04:12.084828Z"
    }
   },
   "outputs": [],
   "source": [
    "c_min_expansion = Constraint(\n",
    "    \"Minimum Capacity Expansion\",\n",
    "    parameter_names=\"expand_capacity\",\n",
    "    function=Constraint.must_be_greater_than(10),\n",
    ")\n",
    "\n",
    "c_positive_mean_net_benefit = Constraint(\n",
    "    \"Minimum Net Benefit\",\n",
    "    outcome_names = \"Mean Net Benefits\",\n",
    "    function = Constraint.must_be_greater_than(0),\n",
    ")"
   ]
  },
  {
   "cell_type": "markdown",
   "metadata": {},
   "source": [
    "It is also possible to impose constraints based on a combination \n",
    "of inputs and outputs. For example, suppose that the total funds \n",
    "available for pay-as-you-go financing are only 3,000. We may thus \n",
    "want to restrict the robust search to only solutions that are almost \n",
    "certainly within the available funds at 99% confidence (a robustness\n",
    "measure that is an output we can construct) \n",
    "but only if the Paygo financing option is used (a model input). \n",
    "This kind of constraint can be created by giving both \n",
    "`parameter_names` and `outcomes_names`, and writing a constraint \n",
    "function that takes two arguments."
   ]
  },
  {
   "cell_type": "code",
   "execution_count": 24,
   "metadata": {
    "execution": {
     "iopub.execute_input": "2021-03-04T00:04:12.088317Z",
     "iopub.status.busy": "2021-03-04T00:04:12.087805Z",
     "iopub.status.idle": "2021-03-04T00:04:12.089514Z",
     "shell.execute_reply": "2021-03-04T00:04:12.090011Z"
    }
   },
   "outputs": [],
   "source": [
    "pct99_present_cost = Measure(\n",
    "    '99%ile Present Cost',\n",
    "    kind=Measure.INFO,\n",
    "    variable_name='present_cost_expansion',\n",
    "    function=functools.partial(numpy.percentile, q=99),\n",
    ")\n",
    "\n",
    "c_max_paygo = Constraint(\n",
    "    \"Maximum Paygo\",\n",
    "    parameter_names='debt_type',\n",
    "    outcome_names='99%ile Present Cost',\n",
    "    function=lambda i,j: max(0, j-3000) if i=='Paygo' else 0,\n",
    ")"
   ]
  },
  {
   "cell_type": "markdown",
   "metadata": {},
   "source": [
    "The constraints are then passed to the `robust_optimize` method in addition to the \n",
    "other arguments."
   ]
  },
  {
   "cell_type": "code",
   "execution_count": 25,
   "metadata": {
    "execution": {
     "iopub.execute_input": "2021-03-04T00:04:12.093060Z",
     "iopub.status.busy": "2021-03-04T00:04:12.092617Z",
     "iopub.status.idle": "2021-03-04T00:04:12.167604Z",
     "shell.execute_reply": "2021-03-04T00:04:12.168486Z"
    }
   },
   "outputs": [
    {
     "data": {
      "application/vnd.jupyter.widget-view+json": {
       "model_id": "ba2aee8d740d49edb182ab2170e07803",
       "version_major": 2,
       "version_minor": 0
      },
      "text/plain": [
       "ConvergenceMetrics(children=(FigureWidget({\n",
       "    'data': [{'fill': 'tonexty',\n",
       "              'line': {'shape': '…"
      ]
     },
     "metadata": {},
     "output_type": "display_data"
    }
   ],
   "source": [
    "robust_constrained = model.robust_optimize(\n",
    "    robustness_functions=[\n",
    "        expected_net_benefit,\n",
    "        pct5_net_benefit,\n",
    "        neg_net_benefit,\n",
    "        pct95_cost,\n",
    "        expected_time_savings,\n",
    "        pct99_present_cost,\n",
    "    ],\n",
    "    constraints = [\n",
    "        c_min_expansion, \n",
    "        c_positive_mean_net_benefit, \n",
    "        c_max_paygo,\n",
    "    ],\n",
    "    scenarios=250,\n",
    "    nfe=10_000,\n",
    "    check_extremes=1,\n",
    "    evaluator=get_client(),\n",
    "    cache_file='./optimization_cache/road_test_robust_search_constrained.gz',\n",
    ")"
   ]
  },
  {
   "cell_type": "code",
   "execution_count": 26,
   "metadata": {
    "execution": {
     "iopub.execute_input": "2021-03-04T00:04:12.180350Z",
     "iopub.status.busy": "2021-03-04T00:04:12.177313Z",
     "iopub.status.idle": "2021-03-04T00:04:12.326455Z",
     "shell.execute_reply": "2021-03-04T00:04:12.326930Z"
    }
   },
   "outputs": [
    {
     "data": {
      "application/vnd.jupyter.widget-view+json": {
       "model_id": "c8139e97e898430b912b2f39ba2b1cf2",
       "version_major": 2,
       "version_minor": 0
      },
      "text/plain": [
       "ParCoordsViewer(children=(FigureWidget({\n",
       "    'data': [{'dimensions': [{'label': '(L) Expand Amount',\n",
       "         …"
      ]
     },
     "metadata": {},
     "output_type": "display_data"
    }
   ],
   "source": [
    "robust_constrained.par_coords()"
   ]
  }
 ],
 "metadata": {
  "jupytext": {
   "cell_metadata_json": true,
   "encoding": "# -*- coding: utf-8 -*-",
   "formats": "ipynb,py:percent"
  },
  "kernelspec": {
   "display_name": "Python 3",
   "language": "python",
   "name": "python3"
  },
  "language_info": {
   "codemirror_mode": {
    "name": "ipython",
    "version": 3
   },
   "file_extension": ".py",
   "mimetype": "text/x-python",
   "name": "python",
   "nbconvert_exporter": "python",
   "pygments_lexer": "ipython3",
   "version": "3.8.6"
  },
  "toc": {
   "base_numbering": 1,
   "nav_menu": {},
   "number_sections": true,
   "sideBar": true,
   "skip_h1_title": false,
   "title_cell": "Table of Contents",
   "title_sidebar": "Contents",
   "toc_cell": false,
   "toc_position": {},
   "toc_section_display": true,
   "toc_window_display": false
  },
  "widgets": {
   "application/vnd.jupyter.widget-state+json": {
    "state": {
     "06b703ec45cf47ecbda92258a4ef745a": {
      "model_module": "@jupyter-widgets/base",
      "model_module_version": "1.2.0",
      "model_name": "LayoutModel",
      "state": {
       "_model_module": "@jupyter-widgets/base",
       "_model_module_version": "1.2.0",
       "_model_name": "LayoutModel",
       "_view_count": null,
       "_view_module": "@jupyter-widgets/base",
       "_view_module_version": "1.2.0",
       "_view_name": "LayoutView",
       "align_content": null,
       "align_items": null,
       "align_self": null,
       "border": null,
       "bottom": null,
       "display": null,
       "flex": null,
       "flex_flow": null,
       "grid_area": null,
       "grid_auto_columns": null,
       "grid_auto_flow": null,
       "grid_auto_rows": null,
       "grid_column": null,
       "grid_gap": null,
       "grid_row": null,
       "grid_template_areas": null,
       "grid_template_columns": null,
       "grid_template_rows": null,
       "height": null,
       "justify_content": null,
       "justify_items": null,
       "left": null,
       "margin": null,
       "max_height": null,
       "max_width": null,
       "min_height": null,
       "min_width": null,
       "object_fit": null,
       "object_position": null,
       "order": null,
       "overflow": null,
       "overflow_x": null,
       "overflow_y": null,
       "padding": null,
       "right": null,
       "top": null,
       "visibility": null,
       "width": null
      }
     },
     "06c8e9eefc5144a6b32f53b1bb1cc0c5": {
      "model_module": "@jupyter-widgets/base",
      "model_module_version": "1.2.0",
      "model_name": "LayoutModel",
      "state": {
       "_model_module": "@jupyter-widgets/base",
       "_model_module_version": "1.2.0",
       "_model_name": "LayoutModel",
       "_view_count": null,
       "_view_module": "@jupyter-widgets/base",
       "_view_module_version": "1.2.0",
       "_view_name": "LayoutView",
       "align_content": null,
       "align_items": null,
       "align_self": null,
       "border": null,
       "bottom": null,
       "display": null,
       "flex": null,
       "flex_flow": null,
       "grid_area": null,
       "grid_auto_columns": null,
       "grid_auto_flow": null,
       "grid_auto_rows": null,
       "grid_column": null,
       "grid_gap": null,
       "grid_row": null,
       "grid_template_areas": null,
       "grid_template_columns": null,
       "grid_template_rows": null,
       "height": null,
       "justify_content": null,
       "justify_items": null,
       "left": null,
       "margin": null,
       "max_height": null,
       "max_width": null,
       "min_height": null,
       "min_width": null,
       "object_fit": null,
       "object_position": null,
       "order": null,
       "overflow": null,
       "overflow_x": null,
       "overflow_y": null,
       "padding": null,
       "right": null,
       "top": null,
       "visibility": null,
       "width": null
      }
     },
     "06d4584b14c546dbb31d7adb14870d33": {
      "model_module": "@jupyter-widgets/controls",
      "model_module_version": "1.5.0",
      "model_name": "DescriptionStyleModel",
      "state": {
       "_model_module": "@jupyter-widgets/controls",
       "_model_module_version": "1.5.0",
       "_model_name": "DescriptionStyleModel",
       "_view_count": null,
       "_view_module": "@jupyter-widgets/base",
       "_view_module_version": "1.2.0",
       "_view_name": "StyleView",
       "description_width": ""
      }
     },
     "06eaff3a8ea446b0ade776a174bd49ec": {
      "model_module": "plotlywidget",
      "model_module_version": "^4.14.3",
      "model_name": "FigureModel",
      "state": {
       "_config": {
        "plotlyServerURL": "https://plot.ly"
       },
       "_data": [
        {
         "fill": "tonexty",
         "line": {
          "shape": "linear"
         },
         "mode": "lines+markers",
         "name": "",
         "type": "scatter",
         "uid": "47862c3d-fd7f-4e25-a665-4dabe6470e2e"
        }
       ],
       "_dom_classes": [],
       "_js2py_layoutDelta": {},
       "_js2py_pointsCallback": {},
       "_js2py_relayout": {},
       "_js2py_restyle": {},
       "_js2py_traceDeltas": {},
       "_js2py_update": {},
       "_last_layout_edit_id": 4,
       "_last_trace_edit_id": 1,
       "_layout": {
        "hovermode": "closest",
        "showlegend": false,
        "title": {
         "text": "ε-Progress"
        }
       },
       "_model_module": "plotlywidget",
       "_model_module_version": "^4.14.3",
       "_model_name": "FigureModel",
       "_py2js_addTraces": {},
       "_py2js_animate": {},
       "_py2js_deleteTraces": {},
       "_py2js_moveTraces": {},
       "_py2js_relayout": null,
       "_py2js_removeLayoutProps": {},
       "_py2js_removeTraceProps": {},
       "_py2js_restyle": {},
       "_py2js_update": null,
       "_view_count": 0,
       "_view_module": "plotlywidget",
       "_view_module_version": "^4.14.3",
       "_view_name": "FigureView"
      }
     },
     "08707ff0046b45b68bbac23523fc6eac": {
      "model_module": "@jupyter-widgets/controls",
      "model_module_version": "1.5.0",
      "model_name": "VBoxModel",
      "state": {
       "_dom_classes": [],
       "_model_module": "@jupyter-widgets/controls",
       "_model_module_version": "1.5.0",
       "_model_name": "VBoxModel",
       "_view_count": null,
       "_view_module": "@jupyter-widgets/controls",
       "_view_module_version": "1.5.0",
       "_view_name": "VBoxView",
       "box_style": "",
       "children": [
        "IPY_MODEL_0eacf7fa70694d13a4ef385d429f69c1",
        "IPY_MODEL_74a2ded9347547c7941aaa4ca0492af5",
        "IPY_MODEL_86b0e9bdd8f1486ebbf3d51173584529",
        "IPY_MODEL_662cd2e7ac154967adb2d9fd89300e4c"
       ],
       "layout": "IPY_MODEL_4b7eb1d7b0b14a63a5d148605247adf1"
      }
     },
     "088d34847d944462a074204f9a086237": {
      "model_module": "@jupyter-widgets/base",
      "model_module_version": "1.2.0",
      "model_name": "LayoutModel",
      "state": {
       "_model_module": "@jupyter-widgets/base",
       "_model_module_version": "1.2.0",
       "_model_name": "LayoutModel",
       "_view_count": null,
       "_view_module": "@jupyter-widgets/base",
       "_view_module_version": "1.2.0",
       "_view_name": "LayoutView",
       "align_content": null,
       "align_items": null,
       "align_self": null,
       "border": null,
       "bottom": null,
       "display": null,
       "flex": null,
       "flex_flow": null,
       "grid_area": null,
       "grid_auto_columns": null,
       "grid_auto_flow": null,
       "grid_auto_rows": null,
       "grid_column": null,
       "grid_gap": null,
       "grid_row": null,
       "grid_template_areas": null,
       "grid_template_columns": null,
       "grid_template_rows": null,
       "height": null,
       "justify_content": null,
       "justify_items": null,
       "left": null,
       "margin": null,
       "max_height": null,
       "max_width": null,
       "min_height": null,
       "min_width": null,
       "object_fit": null,
       "object_position": null,
       "order": null,
       "overflow": null,
       "overflow_x": null,
       "overflow_y": null,
       "padding": null,
       "right": null,
       "top": null,
       "visibility": null,
       "width": null
      }
     },
     "091d62e3a24f4fd59daf99b1a6716faa": {
      "model_module": "@jupyter-widgets/controls",
      "model_module_version": "1.5.0",
      "model_name": "DescriptionStyleModel",
      "state": {
       "_model_module": "@jupyter-widgets/controls",
       "_model_module_version": "1.5.0",
       "_model_name": "DescriptionStyleModel",
       "_view_count": null,
       "_view_module": "@jupyter-widgets/base",
       "_view_module_version": "1.2.0",
       "_view_name": "StyleView",
       "description_width": ""
      }
     },
     "09c1a7c7dab946e790b61f46fa9ddc0a": {
      "model_module": "@jupyter-widgets/controls",
      "model_module_version": "1.5.0",
      "model_name": "DescriptionStyleModel",
      "state": {
       "_model_module": "@jupyter-widgets/controls",
       "_model_module_version": "1.5.0",
       "_model_name": "DescriptionStyleModel",
       "_view_count": null,
       "_view_module": "@jupyter-widgets/base",
       "_view_module_version": "1.2.0",
       "_view_name": "StyleView",
       "description_width": ""
      }
     },
     "0b9d09b20a2a4e5991aaa2c8023d0a97": {
      "model_module": "@jupyter-widgets/controls",
      "model_module_version": "1.5.0",
      "model_name": "DescriptionStyleModel",
      "state": {
       "_model_module": "@jupyter-widgets/controls",
       "_model_module_version": "1.5.0",
       "_model_name": "DescriptionStyleModel",
       "_view_count": null,
       "_view_module": "@jupyter-widgets/base",
       "_view_module_version": "1.2.0",
       "_view_name": "StyleView",
       "description_width": ""
      }
     },
     "0bc5f2d2dd5a45ea8962f2803009e484": {
      "model_module": "@jupyter-widgets/base",
      "model_module_version": "1.2.0",
      "model_name": "LayoutModel",
      "state": {
       "_model_module": "@jupyter-widgets/base",
       "_model_module_version": "1.2.0",
       "_model_name": "LayoutModel",
       "_view_count": null,
       "_view_module": "@jupyter-widgets/base",
       "_view_module_version": "1.2.0",
       "_view_name": "LayoutView",
       "align_content": null,
       "align_items": null,
       "align_self": null,
       "border": null,
       "bottom": null,
       "display": null,
       "flex": null,
       "flex_flow": null,
       "grid_area": null,
       "grid_auto_columns": null,
       "grid_auto_flow": null,
       "grid_auto_rows": null,
       "grid_column": null,
       "grid_gap": null,
       "grid_row": null,
       "grid_template_areas": null,
       "grid_template_columns": null,
       "grid_template_rows": null,
       "height": null,
       "justify_content": null,
       "justify_items": null,
       "left": null,
       "margin": null,
       "max_height": null,
       "max_width": null,
       "min_height": null,
       "min_width": null,
       "object_fit": null,
       "object_position": null,
       "order": null,
       "overflow": null,
       "overflow_x": null,
       "overflow_y": null,
       "padding": null,
       "right": null,
       "top": null,
       "visibility": null,
       "width": null
      }
     },
     "0d5298074b6543e4b42701db66eb2bca": {
      "model_module": "@jupyter-widgets/base",
      "model_module_version": "1.2.0",
      "model_name": "LayoutModel",
      "state": {
       "_model_module": "@jupyter-widgets/base",
       "_model_module_version": "1.2.0",
       "_model_name": "LayoutModel",
       "_view_count": null,
       "_view_module": "@jupyter-widgets/base",
       "_view_module_version": "1.2.0",
       "_view_name": "LayoutView",
       "align_content": null,
       "align_items": null,
       "align_self": null,
       "border": null,
       "bottom": null,
       "display": null,
       "flex": null,
       "flex_flow": null,
       "grid_area": null,
       "grid_auto_columns": null,
       "grid_auto_flow": null,
       "grid_auto_rows": null,
       "grid_column": null,
       "grid_gap": null,
       "grid_row": null,
       "grid_template_areas": null,
       "grid_template_columns": null,
       "grid_template_rows": null,
       "height": null,
       "justify_content": null,
       "justify_items": null,
       "left": null,
       "margin": null,
       "max_height": null,
       "max_width": null,
       "min_height": null,
       "min_width": null,
       "object_fit": null,
       "object_position": null,
       "order": null,
       "overflow": null,
       "overflow_x": null,
       "overflow_y": null,
       "padding": null,
       "right": null,
       "top": null,
       "visibility": null,
       "width": "100%"
      }
     },
     "0e271528d90c47619eaa399a00dd35e9": {
      "model_module": "@jupyter-widgets/controls",
      "model_module_version": "1.5.0",
      "model_name": "DropdownModel",
      "state": {
       "_dom_classes": [],
       "_model_module": "@jupyter-widgets/controls",
       "_model_module_version": "1.5.0",
       "_model_name": "DropdownModel",
       "_options_labels": [
        "< None >",
        "alpha",
        "beta",
        "input_flow",
        "value_of_time",
        "unit_cost_expansion",
        "interest_rate",
        "yield_curve",
        "build_travel_time",
        "time_savings",
        "value_of_time_savings",
        "net_benefits",
        "cost_of_capacity_expansion",
        "free_flow_time",
        "initial_capacity"
       ],
       "_view_count": null,
       "_view_module": "@jupyter-widgets/controls",
       "_view_module_version": "1.5.0",
       "_view_name": "DropdownView",
       "description": "Colorize:",
       "description_tooltip": null,
       "disabled": false,
       "index": 1,
       "layout": "IPY_MODEL_48ec2c1f4e8143088bbd94ab5f5aa3c8",
       "style": "IPY_MODEL_5c669bbedc544792b13db81d9828d81b"
      }
     },
     "0e671557285c481e9afe11cccc51ac48": {
      "model_module": "@jupyter-widgets/base",
      "model_module_version": "1.2.0",
      "model_name": "LayoutModel",
      "state": {
       "_model_module": "@jupyter-widgets/base",
       "_model_module_version": "1.2.0",
       "_model_name": "LayoutModel",
       "_view_count": null,
       "_view_module": "@jupyter-widgets/base",
       "_view_module_version": "1.2.0",
       "_view_name": "LayoutView",
       "align_content": null,
       "align_items": null,
       "align_self": null,
       "border": null,
       "bottom": null,
       "display": null,
       "flex": null,
       "flex_flow": null,
       "grid_area": null,
       "grid_auto_columns": null,
       "grid_auto_flow": null,
       "grid_auto_rows": null,
       "grid_column": null,
       "grid_gap": null,
       "grid_row": null,
       "grid_template_areas": null,
       "grid_template_columns": null,
       "grid_template_rows": null,
       "height": null,
       "justify_content": null,
       "justify_items": null,
       "left": null,
       "margin": null,
       "max_height": null,
       "max_width": null,
       "min_height": null,
       "min_width": null,
       "object_fit": null,
       "object_position": null,
       "order": null,
       "overflow": null,
       "overflow_x": null,
       "overflow_y": null,
       "padding": null,
       "right": null,
       "top": null,
       "visibility": null,
       "width": null
      }
     },
     "0e782f3d8b854dda9eeace7edc1d84e9": {
      "model_module": "@jupyter-widgets/base",
      "model_module_version": "1.2.0",
      "model_name": "LayoutModel",
      "state": {
       "_model_module": "@jupyter-widgets/base",
       "_model_module_version": "1.2.0",
       "_model_name": "LayoutModel",
       "_view_count": null,
       "_view_module": "@jupyter-widgets/base",
       "_view_module_version": "1.2.0",
       "_view_name": "LayoutView",
       "align_content": null,
       "align_items": null,
       "align_self": null,
       "border": null,
       "bottom": null,
       "display": null,
       "flex": null,
       "flex_flow": null,
       "grid_area": null,
       "grid_auto_columns": null,
       "grid_auto_flow": null,
       "grid_auto_rows": null,
       "grid_column": null,
       "grid_gap": null,
       "grid_row": null,
       "grid_template_areas": null,
       "grid_template_columns": null,
       "grid_template_rows": null,
       "height": null,
       "justify_content": null,
       "justify_items": null,
       "left": null,
       "margin": null,
       "max_height": null,
       "max_width": null,
       "min_height": null,
       "min_width": null,
       "object_fit": null,
       "object_position": null,
       "order": null,
       "overflow": null,
       "overflow_x": null,
       "overflow_y": null,
       "padding": null,
       "right": null,
       "top": null,
       "visibility": null,
       "width": null
      }
     },
     "0eacf7fa70694d13a4ef385d429f69c1": {
      "buffers": [
       {
        "data": "FuK68OGauj+amZmZmZm5P5qZmZmZmbk/mpmZmZmZuT+amZmZmZnJP/xB94/efcA/FuK68OGauj+5w6vhg1O7Pw91F4E+X70/TIVjya+yvT9PfVRbhtDHP3HEYiuF28c/fZmgK9zeuz+6oTdGS7vIP9uzLJNlgMk/OYvle+aBxj+FYO/iOYvJP/ylZ4S+c8E/1561XSQOxz9r47NrG1bFP7Uqq8rTgMc/gWWxoVV/yD/wHzgYaJ7IPx/RND7ECcY//HogW5loxj/K5UlopHXIP+grxmKtIsQ/Lkvu5gVwxj8rmpeajSXHPwiDeHtucMc/mmb1Lr4Xxz9TV+UeKqHCP76yGAKkxMY/FZDvqMg5yT8PH6vPTOvHP89TXwBQnsY/+8tsWNp8yT+1c0MrwyjEP5uA5AkjKMg/rbG+3cHGyD+S0MNkXm7HP7Hes1K438c/jaOYHPJZyT9C1O+UwmrGPwfxwg/bUsk/ByxUCIeJxT+sAW5Mm5PJP8M6qDTlD8k/WbX6x0BqxT9gcHaUjFXJP3oaab3lYck/rZjSMP2SyT+/iHnwhGjHP2vy7G0uUMk/BpDHsQjOwj9XNir9NpjJP0HQeR0XFMg/U2O7HVVkxz8Lq7H/oGfIP0udn4LEfMM/GRyAZWqtxz+TjnDMisDFPx/yPryYP8k/vqbxBx5Uxz9gt7dFILTFP8JPfZCQK8k/eV9O2poGxz97p4UR5QLFP03VLzXpZMk/eXq96vLBxj//UsOIi8vGPw33880dVMk/m5UAj7I/yD/FtdAT0tTIP3kCGiEZ0sQ/P/IO3aYXxT/NnqEhRszHP64YuFOc7Lw/8X6wHwCqyD9JZGt+prTIP5qZmZmZmbk/mpmZmZmZuT+amZmZmZm5P5qZmZmZmbk/mpmZmZmZuT+amZmZmZm5P5qZmZmZmbk/mpmZmZmZuT+amZmZmZm5P5qZmZmZmbk/mpmZmZmZuT+amZmZmZm5P5qZmZmZmbk/mpmZmZmZuT+amZmZmZm5P5qZmZmZmbk/mpmZmZmZuT+amZmZmZm5P5qZmZmZmbk/mpmZmZmZuT+amZmZmZm5P5qZmZmZmbk/mpmZmZmZuT+amZmZmZm5P5qZmZmZmbk/mpmZmZmZuT+amZmZmZm5P5qZmZmZmbk/mpmZmZmZuT+amZmZmZm5P5qZmZmZmbk/mpmZmZmZuT+amZmZmZm5P5qZmZmZmbk/mpmZmZmZuT+amZmZmZnJP5qZmZmZmck/mpmZmZmZyT+amZmZmZnJP5qZmZmZmck/mpmZmZmZyT+amZmZmZnJP5qZmZmZmck/mpmZmZmZyT+amZmZmZnJP5qZmZmZmck/mpmZmZmZyT+amZmZmZnJP5qZmZmZmck/mpmZmZmZyT+amZmZmZnJP5qZmZmZmck/mpmZmZmZyT+amZmZmZnJP5qZmZmZmck/mpmZmZmZyT+amZmZmZnJP5qZmZmZmck/mpmZmZmZyT+amZmZmZnJP5qZmZmZmck/mpmZmZmZyT+amZmZmZnJP5qZmZmZmck/mpmZmZmZyT+amZmZmZnJP5qZmZmZmck/mpmZmZmZyT+amZmZmZnJP5qZmZmZmck/mpmZmZmZuT+amZmZmZm5P5qZmZmZmbk/mpmZmZmZuT+amZmZmZm5P5qZmZmZmbk/mpmZmZmZuT+5w6vhg1O7Pw91F4E+X70/TIVjya+yvT9PfVRbhtDHP3HEYiuF28c/fZmgK9zeuz+6oTdGS7vIP9uzLJNlgMk/OYvle+aBxj+FYO/iOYvJP/ylZ4S+c8E/1561XSQOxz9r47NrG1bFP7Uqq8rTgMc/gWWxoVV/yD/wHzgYaJ7IPx/RND7ECcY//HogW5loxj/K5UlopHXIP+grxmKtIsQ/Lkvu5gVwxj8rmpeajSXHPwiDeHtucMc/mmb1Lr4Xxz9TV+UeKqHCP76yGAKkxMY/FZDvqMg5yT8PH6vPTOvHP89TXwBQnsY/+8tsWNp8yT+1c0MrwyjEP5uA5AkjKMg/rbG+3cHGyD+S0MNkXm7HP7Hes1K438c/jaOYHPJZyT9C1O+UwmrGPwfxwg/bUsk/ByxUCIeJxT+sAW5Mm5PJP8M6qDTlD8k/WbX6x0BqxT9gcHaUjFXJP3oaab3lYck/rZjSMP2SyT+/iHnwhGjHP2vy7G0uUMk/BpDHsQjOwj9XNir9NpjJP0HQeR0XFMg/U2O7HVVkxz8Lq7H/oGfIP0udn4LEfMM/GRyAZWqtxz+TjnDMisDFPx/yPryYP8k/vqbxBx5Uxz9gt7dFILTFP8JPfZCQK8k/eV9O2poGxz97p4UR5QLFP03VLzXpZMk/eXq96vLBxj//UsOIi8vGPw33880dVMk/m5UAj7I/yD/FtdAT0tTIP3kCGiEZ0sQ/P/IO3aYXxT/NnqEhRszHP64YuFOc7Lw/8X6wHwCqyD9JZGt+prTIP5qZmZmZmbk/mpmZmZmZyT+amZmZmZm5P/xB94/efcA/FuK68OGauj+5w6vhg1O7Pw91F4E+X70/TIVjya+yvT9PfVRbhtDHP3HEYiuF28c/fZmgK9zeuz+6oTdGS7vIP9uzLJNlgMk/OYvle+aBxj+FYO/iOYvJP/ylZ4S+c8E/1561XSQOxz9r47NrG1bFP7Uqq8rTgMc/gWWxoVV/yD/wHzgYaJ7IPx/RND7ECcY//HogW5loxj/K5UlopHXIP+grxmKtIsQ/Lkvu5gVwxj8rmpeajSXHPwiDeHtucMc/mmb1Lr4Xxz9TV+UeKqHCP76yGAKkxMY/FZDvqMg5yT8PH6vPTOvHP89TXwBQnsY/tXNDK8MoxD+bgOQJIyjIP5LQw2Rebsc/sd6zUrjfxz+No5gc8lnJP0LU75TCasY/ByxUCIeJxT+sAW5Mm5PJP8M6qDTlD8k/WbX6x0BqxT+tmNIw/ZLJP7+IefCEaMc/a/LsbS5QyT8GkMexCM7CP1c2Kv02mMk/QdB5HRcUyD9TY7sdVWTHPwursf+gZ8g/S52fgsR8wz8ZHIBlaq3HP5OOcMyKwMU/H/I+vJg/yT++pvEHHlTHP2C3t0UgtMU/wk99kJAryT95X07amgbHP3unhRHlAsU/TdUvNelkyT95er3q8sHGP/9Sw4iLy8Y/DffzzR1UyT/FtdAT0tTIP3kCGiEZ0sQ/P/IO3aYXxT/NnqEhRszHP64YuFOc7Lw/8X6wHwCqyD9JZGt+prTIPw==",
        "encoding": "base64",
        "path": [
         "_data",
         0,
         "dimensions",
         0,
         "values",
         "buffer"
        ]
       },
       {
        "data": "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",
        "encoding": "base64",
        "path": [
         "_data",
         0,
         "dimensions",
         1,
         "values",
         "buffer"
        ]
       },
       {
        "data": "/Knx0k1iUD/8qfHSTWJQP/yp8dJNYlA//Knx0k1iUD/8qfHSTWJQP/yp8dJNYlA//Knx0k1iUD/8qfHSTWJQP/yp8dJNYlA//Knx0k1iUD/8qfHSTWJQP/yp8dJNYlA//Knx0k1iUD/8qfHSTWJQP/yp8dJNYlA//Knx0k1iUD/8qfHSTWJQP/yp8dJNYlA//Knx0k1iUD/8qfHSTWJQP/yp8dJNYlA//Knx0k1iUD/8qfHSTWJQP/yp8dJNYlA//Knx0k1iUD/8qfHSTWJQP/yp8dJNYlA//Knx0k1iUD/8qfHSTWJQP/yp8dJNYlA//Knx0k1iUD/8qfHSTWJQP/yp8dJNYlA//Knx0k1iUD/8qfHSTWJQP/yp8dJNYlA//Knx0k1iUD/8qfHSTWJQP/yp8dJNYlA//Knx0k1iUD/8qfHSTWJQP/yp8dJNYlA//Knx0k1iUD/8qfHSTWJQP/yp8dJNYlA//Knx0k1iUD/8qfHSTWJQP/yp8dJNYlA//Knx0k1iUD/8qfHSTWJQP/yp8dJNYlA//Knx0k1iUD/8qfHSTWJQP/yp8dJNYlA//Knx0k1iUD/8qfHSTWJQP/yp8dJNYlA//Knx0k1iUD/8qfHSTWJQP/yp8dJNYlA//Knx0k1iUD/8qfHSTWJQP/yp8dJNYlA//Knx0k1iUD/8qfHSTWJQP/yp8dJNYlA//Knx0k1iUD/8qfHSTWJQP/yp8dJNYlA//Knx0k1iUD/8qfHSTWJQP/yp8dJNYlA//Knx0k1iUD/8qfHSTWJQP/yp8dJNYlA//Knx0k1iUD/8qfHSTWJQP/yp8dJNYlA//Knx0k1iUD/8qfHSTWJQP/yp8dJNYlA//Knx0k1iUD/8qfHSTWJQP/yp8dJNYlA//Knx0k1iUD/8qfHSTWJQP/yp8dJNYlA//Knx0k1iUD/8qfHSTWJQP/yp8dJNYlA//Knx0k1iUD/8qfHSTWJQP/yp8dJNYlA//Knx0k1iUD/8qfHSTWJQP/yp8dJNYlA//Knx0k1iUD/8qfHSTWJQP/yp8dJNYlA//Knx0k1iUD/8qfHSTWJQP/yp8dJNYlA//Knx0k1iUD/8qfHSTWJQP/yp8dJNYlA//Knx0k1iUD/8qfHSTWJQP/yp8dJNYlA//Knx0k1iUD/8qfHSTWJQP/yp8dJNYlA//Knx0k1iUD/8qfHSTWJQP/yp8dJNYlA//Knx0k1iUD/8qfHSTWJQP/yp8dJNYlA//Knx0k1iUD/8qfHSTWJQP/yp8dJNYlA//Knx0k1iUD/8qfHSTWJQP/yp8dJNYlA//Knx0k1iUD/8qfHSTWJQP/yp8dJNYlA//Knx0k1iUD/8qfHSTWJQP/yp8dJNYlA//Knx0k1iUD/8qfHSTWJQP/yp8dJNYlA//Knx0k1iUD/8qfHSTWJQP/yp8dJNYlA//Knx0k1iUD/8qfHSTWJQP/yp8dJNYlA//Knx0k1iUD/8qfHSTWJQP/yp8dJNYlA//Knx0k1iUD/8qfHSTWJQP/yp8dJNYlA//Knx0k1iUD/8qfHSTWJQP/yp8dJNYlA//Knx0k1iUD/8qfHSTWJQP/yp8dJNYlA//Knx0k1iUD/8qfHSTWJQP/yp8dJNYlA//Knx0k1iUD/8qfHSTWJQP/yp8dJNYlA//Knx0k1iUD/8qfHSTWJQP/yp8dJNYlA//Knx0k1iUD/8qfHSTWJQP/yp8dJNYlA//Knx0k1iUD/8qfHSTWJQP/yp8dJNYlA//Knx0k1iUD/8qfHSTWJQP/yp8dJNYlA//Knx0k1iUD/8qfHSTWJQP/yp8dJNYlA//Knx0k1iUD/8qfHSTWJQP/yp8dJNYlA//Knx0k1iUD/8qfHSTWJQP/yp8dJNYlA//Knx0k1iUD/8qfHSTWJQP/yp8dJNYlA//Knx0k1iUD/8qfHSTWJQP/yp8dJNYlA//Knx0k1iUD/8qfHSTWJQP/yp8dJNYlA//Knx0k1iUD/8qfHSTWJQP/yp8dJNYlA//Knx0k1iUD/8qfHSTWJQP/yp8dJNYlA//Knx0k1iUD/8qfHSTWJQP/yp8dJNYlA//Knx0k1iUD/8qfHSTWJQP/yp8dJNYlA//Knx0k1iUD/8qfHSTWJQP/yp8dJNYlA//Knx0k1iUD/8qfHSTWJQP/yp8dJNYlA//Knx0k1iUD/8qfHSTWJQP/yp8dJNYlA//Knx0k1iUD/8qfHSTWJQP/yp8dJNYlA//Knx0k1iUD/8qfHSTWJQP/yp8dJNYlA//Knx0k1iUD/8qfHSTWJQP/yp8dJNYlA//Knx0k1iUD/8qfHSTWJQP/yp8dJNYlA//Knx0k1iUD/8qfHSTWJQP/yp8dJNYlA//Knx0k1iUD/8qfHSTWJQP/yp8dJNYlA//Knx0k1iUD/8qfHSTWJQP/yp8dJNYlA//Knx0k1iUD/8qfHSTWJQP/yp8dJNYlA//Knx0k1iUD/8qfHSTWJQP/yp8dJNYlA//Knx0k1iUD/8qfHSTWJQP/yp8dJNYlA//Knx0k1iUD/8qfHSTWJQP/yp8dJNYlA//Knx0k1iUD/8qfHSTWJQP/yp8dJNYlA//Knx0k1iUD/8qfHSTWJQP/yp8dJNYlA//Knx0k1iUD/8qfHSTWJQP/yp8dJNYlA//Knx0k1iUD/8qfHSTWJQP/yp8dJNYlA//Knx0k1iUD/8qfHSTWJQP/yp8dJNYlA//Knx0k1iUD/8qfHSTWJQP/yp8dJNYlA//Knx0k1iUD/8qfHSTWJQP/yp8dJNYlA//Knx0k1iUD/8qfHSTWJQP/yp8dJNYlA//Knx0k1iUD/8qfHSTWJQP/yp8dJNYlA//Knx0k1iUD/8qfHSTWJQP/yp8dJNYlA//Knx0k1iUD/8qfHSTWJQP/yp8dJNYlA//Knx0k1iUD/8qfHSTWJQP/yp8dJNYlA//Knx0k1iUD/8qfHSTWJQP/yp8dJNYlA//Knx0k1iUD/8qfHSTWJQP/yp8dJNYlA//Knx0k1iUD/8qfHSTWJQP/yp8dJNYlA//Knx0k1iUD/8qfHSTWJQP/yp8dJNYlA//Knx0k1iUD/8qfHSTWJQP/yp8dJNYlA//Knx0k1iUD/8qfHSTWJQP/yp8dJNYlA//Knx0k1iUD/8qfHSTWJQP/yp8dJNYlA//Knx0k1iUD/8qfHSTWJQP/yp8dJNYlA//Knx0k1iUD/8qfHSTWJQPw==",
        "encoding": "base64",
        "path": [
         "_data",
         0,
         "dimensions",
         3,
         "values",
         "buffer"
        ]
       },
       {
        "data": "AAAAAAAgYkAAAAAAACBiQAAAAAAAIGJAAAAAAAAgYkAAAAAAACBiQAAAAAAAIGJAAAAAAAAgYkAAAAAAACBiQAAAAAAAIGJAAAAAAAAgYkAAAAAAACBiQAAAAAAAIGJAAAAAAAAgYkAAAAAAACBiQAAAAAAAIGJAAAAAAAAgYkAAAAAAACBiQAAAAAAAIGJAAAAAAAAgYkAAAAAAACBiQAAAAAAAIGJAAAAAAAAgYkAAAAAAACBiQAAAAAAAIGJAAAAAAAAgYkAAAAAAACBiQAAAAAAAIGJAAAAAAAAgYkAAAAAAACBiQAAAAAAAIGJAAAAAAAAgYkAAAAAAACBiQAAAAAAAIGJAAAAAAAAgYkAAAAAAACBiQAAAAAAAIGJAAAAAAAAgYkAAAAAAACBiQAAAAAAAIGJAAAAAAAAgYkAAAAAAACBiQAAAAAAAIGJAAAAAAAAgYkAAAAAAACBiQAAAAAAAIGJAAAAAAAAgYkAAAAAAACBiQAAAAAAAIGJAAAAAAAAgYkAAAAAAACBiQAAAAAAAIGJAAAAAAAAgYkAAAAAAACBiQAAAAAAAIGJAAAAAAAAgYkAAAAAAACBiQAAAAAAAIGJAAAAAAAAgYkAAAAAAACBiQAAAAAAAIGJAAAAAAAAgYkAAAAAAACBiQAAAAAAAIGJAAAAAAAAgYkAAAAAAACBiQAAAAAAAIGJAAAAAAAAgYkAAAAAAACBiQAAAAAAAIGJAAAAAAAAgYkAAAAAAACBiQAAAAAAAIGJAAAAAAAAgYkAAAAAAACBiQAAAAAAAIGJAAAAAAAAgYkAAAAAAACBiQAAAAAAAIGJAAAAAAAAgYkAAAAAAACBiQAAAAAAAIGJAAAAAAAAgYkAAAAAAACBiQAAAAAAAIGJAAAAAAAAgYkAAAAAAACBiQAAAAAAAIGJAAAAAAAAgYkAAAAAAACBiQAAAAAAAIGJAAAAAAAAgYkAAAAAAACBiQAAAAAAAIGJAAAAAAAAgYkAAAAAAACBiQAAAAAAAIGJAAAAAAAAgYkAAAAAAACBiQAAAAAAAIGJAAAAAAAAgYkAAAAAAACBiQAAAAAAAIGJAAAAAAAAgYkAAAAAAACBiQAAAAAAAIGJAAAAAAAAgYkAAAAAAACBiQAAAAAAAIGJAAAAAAAAgYkAAAAAAACBiQAAAAAAAIGJAAAAAAAAgYkAAAAAAACBiQAAAAAAAIGJAAAAAAAAgYkAAAAAAACBiQAAAAAAAIGJAAAAAAAAgYkAAAAAAACBiQAAAAAAAIGJAAAAAAAAgYkAAAAAAACBiQAAAAAAAIGJAAAAAAAAgYkAAAAAAACBiQAAAAAAAIGJAAAAAAAAgYkAAAAAAACBiQAAAAAAAIGJAAAAAAAAgYkAAAAAAACBiQAAAAAAAIGJAAAAAAAAgYkAAAAAAACBiQAAAAAAAIGJAAAAAAAAgYkAAAAAAACBiQAAAAAAAIGJAAAAAAAAgYkAAAAAAACBiQAAAAAAAIGJAAAAAAAAgYkAAAAAAACBiQAAAAAAAIGJAAAAAAAAgYkAAAAAAACBiQAAAAAAAIGJAAAAAAAAgYkAAAAAAACBiQAAAAAAAIGJAAAAAAAAgYkAAAAAAACBiQAAAAAAAIGJAAAAAAAAgYkAAAAAAACBiQAAAAAAAIGJAAAAAAAAgYkAAAAAAACBiQAAAAAAAIGJAAAAAAAAgYkAAAAAAACBiQAAAAAAAIGJAAAAAAAAgYkAAAAAAACBiQAAAAAAAIGJAAAAAAAAgYkAAAAAAACBiQAAAAAAAIGJAAAAAAAAgYkAAAAAAACBiQAAAAAAAIGJAAAAAAAAgYkAAAAAAACBiQAAAAAAAIGJAAAAAAAAgYkAAAAAAACBiQAAAAAAAIGJAAAAAAAAgYkAAAAAAACBiQAAAAAAAIGJAAAAAAAAgYkAAAAAAACBiQAAAAAAAIGJAAAAAAAAgYkAAAAAAACBiQAAAAAAAIGJAAAAAAAAgYkAAAAAAACBiQAAAAAAAIGJAAAAAAAAgYkAAAAAAACBiQAAAAAAAIGJAAAAAAAAgYkAAAAAAACBiQAAAAAAAIGJAAAAAAAAgYkAAAAAAACBiQAAAAAAAIGJAAAAAAAAgYkAAAAAAACBiQAAAAAAAIGJAAAAAAAAgYkAAAAAAACBiQAAAAAAAIGJAAAAAAAAgYkAAAAAAACBiQAAAAAAAIGJAAAAAAAAgYkAAAAAAACBiQAAAAAAAIGJAAAAAAAAgYkAAAAAAACBiQAAAAAAAIGJAAAAAAAAgYkAAAAAAACBiQAAAAAAAIGJAAAAAAAAgYkAAAAAAACBiQAAAAAAAIGJAAAAAAAAgYkAAAAAAACBiQAAAAAAAIGJAAAAAAAAgYkAAAAAAACBiQAAAAAAAIGJAAAAAAAAgYkAAAAAAACBiQAAAAAAAIGJAAAAAAAAgYkAAAAAAACBiQAAAAAAAIGJAAAAAAAAgYkAAAAAAACBiQAAAAAAAIGJAAAAAAAAgYkAAAAAAACBiQAAAAAAAIGJAAAAAAAAgYkAAAAAAACBiQAAAAAAAIGJAAAAAAAAgYkAAAAAAACBiQAAAAAAAIGJAAAAAAAAgYkAAAAAAACBiQAAAAAAAIGJAAAAAAAAgYkAAAAAAACBiQAAAAAAAIGJAAAAAAAAgYkAAAAAAACBiQAAAAAAAIGJAAAAAAAAgYkAAAAAAACBiQAAAAAAAIGJAAAAAAAAgYkAAAAAAACBiQAAAAAAAIGJAAAAAAAAgYkAAAAAAACBiQAAAAAAAIGJAAAAAAAAgYkAAAAAAACBiQAAAAAAAIGJAAAAAAAAgYkAAAAAAACBiQAAAAAAAIGJAAAAAAAAgYkAAAAAAACBiQAAAAAAAIGJAAAAAAAAgYkAAAAAAACBiQAAAAAAAIGJAAAAAAAAgYkAAAAAAACBiQAAAAAAAIGJAAAAAAAAgYkAAAAAAACBiQAAAAAAAIGJAAAAAAAAgYkAAAAAAACBiQAAAAAAAIGJAAAAAAAAgYkAAAAAAACBiQAAAAAAAIGJAAAAAAAAgYkAAAAAAACBiQAAAAAAAIGJAAAAAAAAgYkAAAAAAACBiQAAAAAAAIGJAAAAAAAAgYkAAAAAAACBiQAAAAAAAIGJAAAAAAAAgYkAAAAAAACBiQAAAAAAAIGJAAAAAAAAgYkAAAAAAACBiQAAAAAAAIGJAAAAAAAAgYkAAAAAAACBiQA==",
        "encoding": "base64",
        "path": [
         "_data",
         0,
         "dimensions",
         4,
         "values",
         "buffer"
        ]
       },
       {
        "data": "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",
        "encoding": "base64",
        "path": [
         "_data",
         0,
         "dimensions",
         5,
         "values",
         "buffer"
        ]
       },
       {
        "data": "exSuR+F6lD97FK5H4XqUP3sUrkfhepQ/exSuR+F6lD97FK5H4XqUP3sUrkfhepQ/exSuR+F6lD97FK5H4XqUP3sUrkfhepQ/exSuR+F6lD97FK5H4XqUP3sUrkfhepQ/exSuR+F6lD97FK5H4XqUP3sUrkfhepQ/exSuR+F6lD97FK5H4XqUP3sUrkfhepQ/exSuR+F6lD97FK5H4XqUP3sUrkfhepQ/exSuR+F6lD97FK5H4XqUP3sUrkfhepQ/exSuR+F6lD97FK5H4XqUP3sUrkfhepQ/exSuR+F6lD97FK5H4XqUP3sUrkfhepQ/exSuR+F6lD97FK5H4XqUP3sUrkfhepQ/exSuR+F6lD97FK5H4XqUP3sUrkfhepQ/exSuR+F6lD97FK5H4XqUP3sUrkfhepQ/exSuR+F6lD97FK5H4XqUP3sUrkfhepQ/exSuR+F6lD97FK5H4XqUP3sUrkfhepQ/exSuR+F6lD97FK5H4XqUP3sUrkfhepQ/exSuR+F6lD97FK5H4XqUP3sUrkfhepQ/exSuR+F6lD97FK5H4XqUP3sUrkfhepQ/exSuR+F6lD97FK5H4XqUP3sUrkfhepQ/exSuR+F6lD97FK5H4XqUP3sUrkfhepQ/exSuR+F6lD97FK5H4XqUP3sUrkfhepQ/exSuR+F6lD97FK5H4XqUP3sUrkfhepQ/exSuR+F6lD97FK5H4XqUP3sUrkfhepQ/exSuR+F6lD97FK5H4XqUP3sUrkfhepQ/exSuR+F6lD97FK5H4XqUP3sUrkfhepQ/exSuR+F6lD97FK5H4XqUP3sUrkfhepQ/exSuR+F6lD97FK5H4XqUP3sUrkfhepQ/exSuR+F6lD97FK5H4XqUP3sUrkfhepQ/exSuR+F6lD97FK5H4XqUP3sUrkfhepQ/exSuR+F6lD97FK5H4XqUP3sUrkfhepQ/exSuR+F6lD97FK5H4XqUP3sUrkfhepQ/exSuR+F6lD97FK5H4XqUP3sUrkfhepQ/exSuR+F6lD97FK5H4XqUP3sUrkfhepQ/exSuR+F6lD97FK5H4XqUP3sUrkfhepQ/exSuR+F6lD97FK5H4XqUP3sUrkfhepQ/exSuR+F6lD97FK5H4XqUP3sUrkfhepQ/exSuR+F6lD97FK5H4XqUP3sUrkfhepQ/exSuR+F6lD97FK5H4XqUP3sUrkfhepQ/exSuR+F6lD97FK5H4XqUP3sUrkfhepQ/exSuR+F6lD97FK5H4XqUP3sUrkfhepQ/exSuR+F6lD97FK5H4XqUP3sUrkfhepQ/exSuR+F6lD97FK5H4XqUP3sUrkfhepQ/exSuR+F6lD97FK5H4XqUP3sUrkfhepQ/exSuR+F6lD97FK5H4XqUP3sUrkfhepQ/exSuR+F6lD97FK5H4XqUP3sUrkfhepQ/exSuR+F6lD97FK5H4XqUP3sUrkfhepQ/exSuR+F6lD97FK5H4XqUP3sUrkfhepQ/exSuR+F6lD97FK5H4XqUP3sUrkfhepQ/exSuR+F6lD97FK5H4XqUP3sUrkfhepQ/exSuR+F6lD97FK5H4XqUP3sUrkfhepQ/exSuR+F6lD97FK5H4XqUP3sUrkfhepQ/exSuR+F6lD97FK5H4XqUP3sUrkfhepQ/exSuR+F6lD97FK5H4XqUP3sUrkfhepQ/exSuR+F6lD97FK5H4XqUP3sUrkfhepQ/exSuR+F6lD97FK5H4XqUP3sUrkfhepQ/exSuR+F6lD97FK5H4XqUP3sUrkfhepQ/exSuR+F6lD97FK5H4XqUP3sUrkfhepQ/exSuR+F6lD97FK5H4XqUP3sUrkfhepQ/exSuR+F6lD97FK5H4XqUP3sUrkfhepQ/exSuR+F6lD97FK5H4XqUP3sUrkfhepQ/exSuR+F6lD97FK5H4XqUP3sUrkfhepQ/exSuR+F6lD97FK5H4XqUP3sUrkfhepQ/exSuR+F6lD97FK5H4XqUP3sUrkfhepQ/exSuR+F6lD97FK5H4XqUP3sUrkfhepQ/exSuR+F6lD97FK5H4XqUP3sUrkfhepQ/exSuR+F6lD97FK5H4XqUP3sUrkfhepQ/exSuR+F6lD97FK5H4XqUP3sUrkfhepQ/exSuR+F6lD97FK5H4XqUP3sUrkfhepQ/exSuR+F6lD97FK5H4XqUP3sUrkfhepQ/exSuR+F6lD97FK5H4XqUP3sUrkfhepQ/exSuR+F6lD97FK5H4XqUP3sUrkfhepQ/exSuR+F6lD97FK5H4XqUP3sUrkfhepQ/exSuR+F6lD97FK5H4XqUP3sUrkfhepQ/exSuR+F6lD97FK5H4XqUP3sUrkfhepQ/exSuR+F6lD97FK5H4XqUP3sUrkfhepQ/exSuR+F6lD97FK5H4XqUP3sUrkfhepQ/exSuR+F6lD97FK5H4XqUP3sUrkfhepQ/exSuR+F6lD97FK5H4XqUP3sUrkfhepQ/exSuR+F6lD97FK5H4XqUP3sUrkfhepQ/exSuR+F6lD97FK5H4XqUP3sUrkfhepQ/exSuR+F6lD97FK5H4XqUP3sUrkfhepQ/exSuR+F6lD97FK5H4XqUP3sUrkfhepQ/exSuR+F6lD97FK5H4XqUP3sUrkfhepQ/exSuR+F6lD97FK5H4XqUP3sUrkfhepQ/exSuR+F6lD97FK5H4XqUP3sUrkfhepQ/exSuR+F6lD97FK5H4XqUP3sUrkfhepQ/exSuR+F6lD97FK5H4XqUP3sUrkfhepQ/exSuR+F6lD97FK5H4XqUP3sUrkfhepQ/exSuR+F6lD97FK5H4XqUP3sUrkfhepQ/exSuR+F6lD97FK5H4XqUP3sUrkfhepQ/exSuR+F6lD97FK5H4XqUP3sUrkfhepQ/exSuR+F6lD97FK5H4XqUP3sUrkfhepQ/exSuR+F6lD97FK5H4XqUP3sUrkfhepQ/exSuR+F6lD97FK5H4XqUP3sUrkfhepQ/exSuR+F6lD97FK5H4XqUP3sUrkfhepQ/exSuR+F6lD97FK5H4XqUP3sUrkfhepQ/exSuR+F6lD97FK5H4XqUP3sUrkfhepQ/exSuR+F6lD97FK5H4XqUP3sUrkfhepQ/exSuR+F6lD97FK5H4XqUP3sUrkfhepQ/exSuR+F6lD97FK5H4XqUP3sUrkfhepQ/exSuR+F6lD97FK5H4XqUPw==",
        "encoding": "base64",
        "path": [
         "_data",
         0,
         "dimensions",
         6,
         "values",
         "buffer"
        ]
       },
       {
        "data": "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",
        "encoding": "base64",
        "path": [
         "_data",
         0,
         "dimensions",
         7,
         "values",
         "buffer"
        ]
       },
       {
        "data": "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",
        "encoding": "base64",
        "path": [
         "_data",
         0,
         "dimensions",
         8,
         "values",
         "buffer"
        ]
       },
       {
        "data": "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",
        "encoding": "base64",
        "path": [
         "_data",
         0,
         "dimensions",
         9,
         "values",
         "buffer"
        ]
       },
       {
        "data": "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",
        "encoding": "base64",
        "path": [
         "_data",
         0,
         "dimensions",
         10,
         "values",
         "buffer"
        ]
       },
       {
        "data": "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",
        "encoding": "base64",
        "path": [
         "_data",
         0,
         "dimensions",
         11,
         "values",
         "buffer"
        ]
       },
       {
        "data": "FuK68OGauj+amZmZmZm5P5qZmZmZmbk/mpmZmZmZuT+amZmZmZnJP/xB94/efcA/FuK68OGauj+5w6vhg1O7Pw91F4E+X70/TIVjya+yvT9PfVRbhtDHP3HEYiuF28c/fZmgK9zeuz+6oTdGS7vIP9uzLJNlgMk/OYvle+aBxj+FYO/iOYvJP/ylZ4S+c8E/1561XSQOxz9r47NrG1bFP7Uqq8rTgMc/gWWxoVV/yD/wHzgYaJ7IPx/RND7ECcY//HogW5loxj/K5UlopHXIP+grxmKtIsQ/Lkvu5gVwxj8rmpeajSXHPwiDeHtucMc/mmb1Lr4Xxz9TV+UeKqHCP76yGAKkxMY/FZDvqMg5yT8PH6vPTOvHP89TXwBQnsY/+8tsWNp8yT+1c0MrwyjEP5uA5AkjKMg/rbG+3cHGyD+S0MNkXm7HP7Hes1K438c/jaOYHPJZyT9C1O+UwmrGPwfxwg/bUsk/ByxUCIeJxT+sAW5Mm5PJP8M6qDTlD8k/WbX6x0BqxT9gcHaUjFXJP3oaab3lYck/rZjSMP2SyT+/iHnwhGjHP2vy7G0uUMk/BpDHsQjOwj9XNir9NpjJP0HQeR0XFMg/U2O7HVVkxz8Lq7H/oGfIP0udn4LEfMM/GRyAZWqtxz+TjnDMisDFPx/yPryYP8k/vqbxBx5Uxz9gt7dFILTFP8JPfZCQK8k/eV9O2poGxz97p4UR5QLFP03VLzXpZMk/eXq96vLBxj//UsOIi8vGPw33880dVMk/m5UAj7I/yD/FtdAT0tTIP3kCGiEZ0sQ/P/IO3aYXxT/NnqEhRszHP64YuFOc7Lw/8X6wHwCqyD9JZGt+prTIP5qZmZmZmbk/mpmZmZmZuT+amZmZmZm5P5qZmZmZmbk/mpmZmZmZuT+amZmZmZm5P5qZmZmZmbk/mpmZmZmZuT+amZmZmZm5P5qZmZmZmbk/mpmZmZmZuT+amZmZmZm5P5qZmZmZmbk/mpmZmZmZuT+amZmZmZm5P5qZmZmZmbk/mpmZmZmZuT+amZmZmZm5P5qZmZmZmbk/mpmZmZmZuT+amZmZmZm5P5qZmZmZmbk/mpmZmZmZuT+amZmZmZm5P5qZmZmZmbk/mpmZmZmZuT+amZmZmZm5P5qZmZmZmbk/mpmZmZmZuT+amZmZmZm5P5qZmZmZmbk/mpmZmZmZuT+amZmZmZm5P5qZmZmZmbk/mpmZmZmZuT+amZmZmZnJP5qZmZmZmck/mpmZmZmZyT+amZmZmZnJP5qZmZmZmck/mpmZmZmZyT+amZmZmZnJP5qZmZmZmck/mpmZmZmZyT+amZmZmZnJP5qZmZmZmck/mpmZmZmZyT+amZmZmZnJP5qZmZmZmck/mpmZmZmZyT+amZmZmZnJP5qZmZmZmck/mpmZmZmZyT+amZmZmZnJP5qZmZmZmck/mpmZmZmZyT+amZmZmZnJP5qZmZmZmck/mpmZmZmZyT+amZmZmZnJP5qZmZmZmck/mpmZmZmZyT+amZmZmZnJP5qZmZmZmck/mpmZmZmZyT+amZmZmZnJP5qZmZmZmck/mpmZmZmZyT+amZmZmZnJP5qZmZmZmck/mpmZmZmZuT+amZmZmZm5P5qZmZmZmbk/mpmZmZmZuT+amZmZmZm5P5qZmZmZmbk/mpmZmZmZuT+5w6vhg1O7Pw91F4E+X70/TIVjya+yvT9PfVRbhtDHP3HEYiuF28c/fZmgK9zeuz+6oTdGS7vIP9uzLJNlgMk/OYvle+aBxj+FYO/iOYvJP/ylZ4S+c8E/1561XSQOxz9r47NrG1bFP7Uqq8rTgMc/gWWxoVV/yD/wHzgYaJ7IPx/RND7ECcY//HogW5loxj/K5UlopHXIP+grxmKtIsQ/Lkvu5gVwxj8rmpeajSXHPwiDeHtucMc/mmb1Lr4Xxz9TV+UeKqHCP76yGAKkxMY/FZDvqMg5yT8PH6vPTOvHP89TXwBQnsY/+8tsWNp8yT+1c0MrwyjEP5uA5AkjKMg/rbG+3cHGyD+S0MNkXm7HP7Hes1K438c/jaOYHPJZyT9C1O+UwmrGPwfxwg/bUsk/ByxUCIeJxT+sAW5Mm5PJP8M6qDTlD8k/WbX6x0BqxT9gcHaUjFXJP3oaab3lYck/rZjSMP2SyT+/iHnwhGjHP2vy7G0uUMk/BpDHsQjOwj9XNir9NpjJP0HQeR0XFMg/U2O7HVVkxz8Lq7H/oGfIP0udn4LEfMM/GRyAZWqtxz+TjnDMisDFPx/yPryYP8k/vqbxBx5Uxz9gt7dFILTFP8JPfZCQK8k/eV9O2poGxz97p4UR5QLFP03VLzXpZMk/eXq96vLBxj//UsOIi8vGPw33880dVMk/m5UAj7I/yD/FtdAT0tTIP3kCGiEZ0sQ/P/IO3aYXxT/NnqEhRszHP64YuFOc7Lw/8X6wHwCqyD9JZGt+prTIP5qZmZmZmbk/mpmZmZmZyT+amZmZmZm5P/xB94/efcA/FuK68OGauj+5w6vhg1O7Pw91F4E+X70/TIVjya+yvT9PfVRbhtDHP3HEYiuF28c/fZmgK9zeuz+6oTdGS7vIP9uzLJNlgMk/OYvle+aBxj+FYO/iOYvJP/ylZ4S+c8E/1561XSQOxz9r47NrG1bFP7Uqq8rTgMc/gWWxoVV/yD/wHzgYaJ7IPx/RND7ECcY//HogW5loxj/K5UlopHXIP+grxmKtIsQ/Lkvu5gVwxj8rmpeajSXHPwiDeHtucMc/mmb1Lr4Xxz9TV+UeKqHCP76yGAKkxMY/FZDvqMg5yT8PH6vPTOvHP89TXwBQnsY/tXNDK8MoxD+bgOQJIyjIP5LQw2Rebsc/sd6zUrjfxz+No5gc8lnJP0LU75TCasY/ByxUCIeJxT+sAW5Mm5PJP8M6qDTlD8k/WbX6x0BqxT+tmNIw/ZLJP7+IefCEaMc/a/LsbS5QyT8GkMexCM7CP1c2Kv02mMk/QdB5HRcUyD9TY7sdVWTHPwursf+gZ8g/S52fgsR8wz8ZHIBlaq3HP5OOcMyKwMU/H/I+vJg/yT++pvEHHlTHP2C3t0UgtMU/wk99kJAryT95X07amgbHP3unhRHlAsU/TdUvNelkyT95er3q8sHGP/9Sw4iLy8Y/DffzzR1UyT/FtdAT0tTIP3kCGiEZ0sQ/P/IO3aYXxT/NnqEhRszHP64YuFOc7Lw/8X6wHwCqyD9JZGt+prTIPw==",
        "encoding": "base64",
        "path": [
         "_data",
         0,
         "line",
         "color",
         "buffer"
        ]
       }
      ],
      "model_module": "plotlywidget",
      "model_module_version": "^4.14.3",
      "model_name": "FigureModel",
      "state": {
       "_config": {
        "plotlyServerURL": "https://plot.ly"
       },
       "_data": [
        {
         "dimensions": [
          {
           "label": "(X) alpha",
           "name": "alpha",
           "range": [
            0.1,
            0.2
           ],
           "values": {
            "dtype": "float64",
            "shape": [
             302
            ]
           }
          },
          {
           "label": "(X) beta",
           "name": "beta",
           "range": [
            3.5,
            5.5
           ],
           "values": {
            "dtype": "float64",
            "shape": [
             302
            ]
           }
          },
          {
           "label": "(X) Input Flow",
           "name": "input_flow",
           "range": [
            80,
            150
           ],
           "values": [
            80,
            80,
            80,
            82,
            88,
            80,
            80,
            83,
            88,
            136,
            133,
            129,
            88,
            133,
            117,
            144,
            122,
            85,
            99,
            148,
            133,
            121,
            134,
            136,
            119,
            131,
            102,
            120,
            147,
            119,
            102,
            103,
            138,
            115,
            118,
            146,
            150,
            102,
            118,
            150,
            146,
            131,
            115,
            146,
            150,
            100,
            132,
            132,
            136,
            150,
            150,
            149,
            98,
            131,
            103,
            96,
            131,
            135,
            116,
            125,
            81,
            148,
            132,
            97,
            82,
            130,
            97,
            148,
            132,
            133,
            137,
            133,
            150,
            116,
            148,
            148,
            132,
            90,
            134,
            131,
            83,
            129,
            88,
            144,
            122,
            85,
            99,
            133,
            134,
            136,
            147,
            119,
            102,
            138,
            146,
            118,
            115,
            100,
            132,
            149,
            98,
            131,
            103,
            96,
            135,
            125,
            81,
            148,
            97,
            82,
            130,
            137,
            150,
            116,
            90,
            88,
            129,
            117,
            122,
            85,
            99,
            133,
            121,
            134,
            136,
            120,
            147,
            119,
            102,
            138,
            146,
            118,
            115,
            100,
            132,
            149,
            98,
            131,
            103,
            96,
            135,
            125,
            81,
            97,
            82,
            148,
            137,
            150,
            116,
            90,
            80,
            80,
            80,
            80,
            80,
            80,
            80,
            80,
            80,
            80,
            80,
            80,
            80,
            80,
            80,
            80,
            80,
            80,
            80,
            80,
            80,
            80,
            80,
            80,
            80,
            80,
            80,
            80,
            80,
            80,
            80,
            80,
            80,
            80,
            80,
            80,
            80,
            80,
            80,
            80,
            80,
            80,
            80,
            80,
            80,
            80,
            80,
            80,
            80,
            80,
            80,
            80,
            80,
            80,
            80,
            80,
            80,
            80,
            80,
            80,
            80,
            80,
            80,
            80,
            80,
            80,
            80,
            80,
            80,
            80,
            80,
            80,
            80,
            80,
            80,
            80,
            80,
            80,
            80,
            80,
            80,
            80,
            80,
            150,
            150,
            150,
            150,
            150,
            150,
            150,
            150,
            150,
            150,
            150,
            150,
            150,
            150,
            150,
            150,
            150,
            150,
            150,
            150,
            150,
            150,
            150,
            150,
            150,
            150,
            150,
            150,
            150,
            150,
            150,
            150,
            150,
            150,
            150,
            150,
            150,
            150,
            150,
            150,
            150,
            150,
            150,
            150,
            150,
            150,
            150,
            150,
            150,
            150,
            150,
            150,
            150,
            150,
            150,
            150,
            150,
            150,
            150,
            150,
            150,
            150,
            150,
            150,
            150,
            150,
            150,
            150,
            150
           ]
          },
          {
           "label": "(X) Value of Time",
           "name": "value_of_time",
           "range": [
            0.001,
            0.001
           ],
           "values": {
            "dtype": "float64",
            "shape": [
             302
            ]
           }
          },
          {
           "label": "(X) Unit Cost Expand",
           "name": "unit_cost_expansion",
           "range": [
            145.0,
            145.0
           ],
           "values": {
            "dtype": "float64",
            "shape": [
             302
            ]
           }
          },
          {
           "label": "(X) Interest Rate",
           "name": "interest_rate",
           "range": [
            0.025259859556148147,
            0.03988666636189074
           ],
           "values": {
            "dtype": "float64",
            "shape": [
             302
            ]
           }
          },
          {
           "label": "(X) Yield Curve",
           "name": "yield_curve",
           "range": [
            0.02,
            0.02
           ],
           "values": {
            "dtype": "float64",
            "shape": [
             302
            ]
           }
          },
          {
           "label": "(M-) Build Time",
           "name": "build_travel_time",
           "range": [
            64.38425360665872,
            60.03885806788815
           ],
           "values": {
            "dtype": "float64",
            "shape": [
             302
            ]
           }
          },
          {
           "label": "(M+) Time Savings",
           "name": "time_savings",
           "range": [
            1.7196573437929672,
            45.21791368470065
           ],
           "values": {
            "dtype": "float64",
            "shape": [
             302
            ]
           }
          },
          {
           "label": "(M+) Value Time Save",
           "name": "value_of_time_savings",
           "range": [
            0.13757258750343737,
            6.782687052705097
           ],
           "values": {
            "dtype": "float64",
            "shape": [
             302
            ]
           }
          },
          {
           "label": "(M+) Net Benefits",
           "name": "net_benefits",
           "range": [
            -461.29896811609655,
            -454.65385365089486
           ],
           "values": {
            "dtype": "float64",
            "shape": [
             302
            ]
           }
          },
          {
           "label": "(M-) Cost of Expand",
           "name": "cost_of_capacity_expansion",
           "range": [
            461.4365407036,
            461.4365407036
           ],
           "values": {
            "dtype": "float64",
            "shape": [
             302
            ]
           }
          }
         ],
         "domain": {
          "y": [
           0,
           0.7
          ]
         },
         "labelangle": -90,
         "labelfont": {
          "color": "#AA0000"
         },
         "line": {
          "cmax": 0.2,
          "cmin": 0.1,
          "color": {
           "dtype": "float64",
           "shape": [
            302
           ]
          },
          "colorbar": {
           "title": {
            "side": "right",
            "text": "alpha"
           }
          },
          "colorscale": [
           [
            0.0,
            "#440154"
           ],
           [
            0.1111111111111111,
            "#482878"
           ],
           [
            0.2222222222222222,
            "#3e4989"
           ],
           [
            0.3333333333333333,
            "#31688e"
           ],
           [
            0.4444444444444444,
            "#26828e"
           ],
           [
            0.5555555555555556,
            "#1f9e89"
           ],
           [
            0.6666666666666666,
            "#35b779"
           ],
           [
            0.7777777777777778,
            "#6ece58"
           ],
           [
            0.8888888888888888,
            "#b5de2b"
           ],
           [
            1.0,
            "#fde725"
           ]
          ],
          "reversescale": true,
          "showscale": true
         },
         "type": "parcoords",
         "uid": "df7ce654-da8e-4e32-af54-974cbb30f4ba"
        }
       ],
       "_dom_classes": [],
       "_js2py_layoutDelta": {},
       "_js2py_pointsCallback": {},
       "_js2py_relayout": {},
       "_js2py_restyle": {},
       "_js2py_traceDeltas": {},
       "_js2py_update": {},
       "_last_layout_edit_id": 0,
       "_last_trace_edit_id": 0,
       "_layout": {},
       "_model_module": "plotlywidget",
       "_model_module_version": "^4.14.3",
       "_model_name": "FigureModel",
       "_py2js_addTraces": {},
       "_py2js_animate": {},
       "_py2js_deleteTraces": {},
       "_py2js_moveTraces": {},
       "_py2js_relayout": null,
       "_py2js_removeLayoutProps": {},
       "_py2js_removeTraceProps": {},
       "_py2js_restyle": {},
       "_py2js_update": {},
       "_view_count": 0,
       "_view_module": "plotlywidget",
       "_view_module_version": "^4.14.3",
       "_view_name": "FigureView"
      }
     },
     "10091516eb14431abfc6b208f84bb2ab": {
      "model_module": "@jupyter-widgets/controls",
      "model_module_version": "1.5.0",
      "model_name": "VBoxModel",
      "state": {
       "_dom_classes": [],
       "_model_module": "@jupyter-widgets/controls",
       "_model_module_version": "1.5.0",
       "_model_name": "VBoxModel",
       "_view_count": null,
       "_view_module": "@jupyter-widgets/controls",
       "_view_module_version": "1.5.0",
       "_view_name": "VBoxView",
       "box_style": "",
       "children": [
        "IPY_MODEL_fb35cc941bfe4f2ab9a61fe23b588396",
        "IPY_MODEL_3a8abd4433984a87984e173bd771d10d",
        "IPY_MODEL_99ddaea4c78b42029e75dbe624b4e912",
        "IPY_MODEL_86b804431f1845648aff29af954d72be"
       ],
       "layout": "IPY_MODEL_405c68a921494ee28c91ef221f08bfb7"
      }
     },
     "11c814eb25e7470d8b8ba48fba1ddc8a": {
      "buffers": [
       {
        "data": "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",
        "encoding": "base64",
        "path": [
         "_data",
         0,
         "dimensions",
         0,
         "values",
         "buffer"
        ]
       },
       {
        "data": "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",
        "encoding": "base64",
        "path": [
         "_data",
         0,
         "dimensions",
         2,
         "values",
         "buffer"
        ]
       },
       {
        "data": "+R03SC5J8D+2YVCvaHOoP4r8jGG58+4/uMuDKeHUoD/Ikzis2GiXP0CglBxOgZc/ZK6Gy3g+7z94mMO+SvDvP90MnW+j0u4/E5R3q+J28D8Wg1Vy90KpP4VlelpFcO4/PHtcjLu18D8DNQXbBMPvP1W20YEkd+8/4FHOH5PGjD8XVyGWb0mjv9C0PnQqB2C/6BLVS4M/g79QT/eXfNNhP9oSGbcwtpG/+kxbaiKPkb9IGIBlD0TwP/qJWpfTF/A/6iVE2zKVqL8ZSxnM2H7wPwTcC+6fUqQ/iviFdobrqL8eCbT+aFiiP3DEFg2/ypC/sFsUsQi0cj/FfgmJ2RWlv/1eUBb2D5m/v78UWDJo8D9mH16jjjDwP0fCV/tLw6i/YM/AEgdxnb8Jz3e7EUvvPyggmhXQaoI/QP+V8Fokib/yHlYrUVfvP1hkTL6d7u4//SFQM1Cd8D9iJTytu4amPxzAhIA/+qC/IJR9q1yY7j+yIOt/HxbwP14y4VQnZe8/bHwa7RI5kj+ROvlwA07wP/ffSUFpMPA/mDKjXyEso78yCDvOC2GiP1RlTRGV5KQ/2JV9IS6w8D/ewKwYNe/vP05LAtoQe+8/siOwUmdG8D/xajG3aI7wP+C6uh9nvpY/tMaHFBJ28D+BsCTnkrPvP2w/AS18hu4/dFjI2AA08D9gdDEdPxBUPwL/Oasbm/A/AxiPcGJB7z/4TtYC8yWCPwCUVCR1a3O/jKkHmRQ3nD/80mr9JkagP/DjwNNgzJw/6mL163dp7j97DRMBb7fwP8cxlKjxhfA/OVEeKnVe7z/0m9S904zvP2v9mqTMjfA/Lr99X1znoT+YKVWlypejP2ofzMAGO/A/nDjyTGvs7z9YjLmjSZ2jP9Q8KWKdIPA/wBHLzhjHoL99xumDMHehvzSw/HSwKe8/ov3laUQu8D8Q7qPNPQKdPxBdav4th3u/yusaInyQ7z9EftOvWjjvP8iZEIIP+og/hPr3+C1RkL8AFmv1/LCNP9oBkDXqgqK/MH4o7yuubj8amWpysNikv2WgJQuHCfA/MJ43Tbt5lD/UjO9eGHTvP7xKZUyz4e8/BcaB9Hab8D8aw9P7JmvwP+j0O8bKNX0/1irHfzQh7z9Wss3hyWeiPwhYP3PnZYI/WS7OHH3L8D/AWeJywHnvP7nDNBpQNO8/5w3P+EkJ8D8n4UiutH+fvxVxnstiM/A/7AVnIL5TlT9razTIIG3wPwdKcHGy4u4/gEXJRDjFaT8GY5CUXoHwPxyED6Zm3qA/+0ydvBW+7j/TjgB0opfuP4lNbe0/XPA/37RiC3km8D91nklnwabwP/kwzKEvofA/m+a1/A4b7z/R+8rshnvuP9oQ4B9qY/A/+C4ksuuj8D/OnUtIyFnwP3wIcSTTPvA/Kh666Q9D7z/GXWpqPeDuP2evcrfHqaK/wviYaEHK8D8q7G65IpqSv/oOMeB6du8/bzMMrhcg7z+KQTcPRm6pP2BOjsXop+8/4XsU+Z0C8D8AjKucdnA5P39zCZknkO8/p7tKvnti8D9AQ0PPFqJKPz5WiNs+f+8/tCSKNevAhz+aacG38B7vP4yG/cz+2+8/u8YpSWCO8D+cEaXe08GYP7Ywqw3T7KU/StgKYHlClL8gImlYc+dlP+BxohfJUWq/hjB+5qk/8D8Y0ghIS4eSPz7XjphrY/A/QTr/Z4Wz8D9UGvoSEkaGv5TUaBHrL50/APrKbZhzbz/GfqzliafvPz6mZ3rPqe8/YO5Sv68QVL+l+Hq1/56jvyTOxAiOiZS/eEQ0NQkDmD+MTpGs/X2gv0RkfjmNQpE/6vk+9Gfbk78VdV7g8AKhv2gUFqqXEIA/LpKDW4gNpj/c71C0xBGYPyrcz7r9wZq/WBNXvB09p79MVIBFKveeP77IosUGOaE/zJmoJPCanD+n7ZCeF++Xv+izlK6xQ5o/UF811V4wej9Y2MMwU5aivxbQch0fVpC/kjBOQ0d+pL+yYy83RmegvzazWsr3waA/Nw4g8BsBn7+PlsZ+poWjv5Y7REg2L6g/OOOJScZjpr+i4FuSyOSjP/DwCQ80E3E/8F7PklwSnL9Q4BRd1tN2v6BtUlghp5U/pBVmZztnkb/QCw661lOnv3AfOQppxIs/UFrl3FXoab8QHCv+2SFyv9AX7mIr2ZA/SIJlRSx9mT9wm+vUkcqcv8rDGN+ah5W/rJ+72fOqmj8UqV1YNyWjv6D6tvlt1VU/XS9j6vJ6o79c03Gm5l6XP9gSzGHyRp8/oJ6ycsGMhb+M6ksX7/eaP6Xwd9lX+6C/lDDT+noSmz/gAnabZCKRP2iukHzwtZI//l58wz72oj+S/cGoIOGjv/XH5KKiZqW/NJRnfItanb/mE3S2lISnP/ipcn2Ok6C/0AH86MbMnT8Mpkw1FhqEv/DQsgdqaZu/h1ST83onqL8IIKJTVIaPv0R7JkvqzZw/1CcJKvjTi78X1ah5XSmkv0D1RpIDf1M/ZF+3bZN9pL9Q6Tu2O2eVP8ATJs/8q3g/hBamGfWRlr/kNrQU8smjv9LMGWIfqqc/gsr1/l69pD/gS4hEvPqWvziUet5IGJk/WkHOOOUXpz80I61CwFWnvzx6Jw8YI5U/atCTT5Rmnb89AGZLWgCkv2DQ4Ovu/JW/nkQEQTAIob90JaBZ3rOLvwTRhdhd56c/XMNpgm1lpb9Kr1VwyK6Qv/RaSKDXpoS/1N+caq6mgT9MXYphv3fvP1JaDmUIrfA//HAYfbN77z+/iQPKbqfvP6qbccRl7O4/9Md+KXr/7j8E0Tks/XfvP4JDIw88LPA/aPFarNF87j8RLTJ1bkrwP26MAoDac/A/7kQsl51g8D8Abp3FH3TuP0jlkJRiyu4/Ixts8dCG7j9phlihucLwPw1TheDOm+8/wJMO/GV78D+8yLCn36ruP4vof9H2xPA/MTVUF4oT8D84QSqfYDTwPxJHKbTCDPA/+gC6Rts87z9/3Xcxe97vP78qqICZSfA/6mjzagts7z9XRp79m4PuP1KdiYhq1+4/LpJE/KmE7z8STk72vmXvP5cWpQrSu+8/orCQdpfp7z+IRkqbNR/wPw8LCaQgzu4/iXfBvciW7j+mMi6rgE/wP1O1qm0k8u8/f1rbQB/F7z9NHJoOAjnwP7eFZl03WvA/MXzyLdVw8D9mJqG5qejvPy8Lly3eVe8/lAORiFAp7z9tj1jdipvwP51Yc1QlHe8/Z8UPuGjq7z+VBjxrgSLwP+xcauqZg/A/7GQrRCuG7j9vGk86SXbwP48hN/bdQ+8/VkBXu1LB7z8pkusvX0TwP2y/DAyXLO8/Px0iOSIS7z//nwzWn8jwPy2cIiGSou4/3EFN4Ll97j82W4GDcAjwP6TsZ/g4s+4/utX8D/0P7z8iycbPhSbwP8eanBiz+u8/eqQ+qEUh8D+tF62vGMDwP3+IlG9WIfA/1DCCsBtY8D/c9eV8Yj3wP4euC/hXG/A/",
        "encoding": "base64",
        "path": [
         "_data",
         0,
         "dimensions",
         3,
         "values",
         "buffer"
        ]
       },
       {
        "data": "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",
        "encoding": "base64",
        "path": [
         "_data",
         0,
         "dimensions",
         4,
         "values",
         "buffer"
        ]
       },
       {
        "data": "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",
        "encoding": "base64",
        "path": [
         "_data",
         0,
         "dimensions",
         5,
         "values",
         "buffer"
        ]
       },
       {
        "data": "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",
        "encoding": "base64",
        "path": [
         "_data",
         0,
         "dimensions",
         6,
         "values",
         "buffer"
        ]
       },
       {
        "data": "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",
        "encoding": "base64",
        "path": [
         "_data",
         0,
         "dimensions",
         7,
         "values",
         "buffer"
        ]
       },
       {
        "data": "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",
        "encoding": "base64",
        "path": [
         "_data",
         0,
         "dimensions",
         8,
         "values",
         "buffer"
        ]
       },
       {
        "data": "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",
        "encoding": "base64",
        "path": [
         "_data",
         0,
         "line",
         "color",
         "buffer"
        ]
       }
      ],
      "model_module": "plotlywidget",
      "model_module_version": "^4.14.3",
      "model_name": "FigureModel",
      "state": {
       "_config": {
        "plotlyServerURL": "https://plot.ly"
       },
       "_data": [
        {
         "dimensions": [
          {
           "label": "(L) Expand Amount",
           "name": "expand_capacity",
           "range": [
            0.0,
            100.0
           ],
           "values": {
            "dtype": "float64",
            "shape": [
             327
            ]
           }
          },
          {
           "label": "(L) Amortization",
           "name": "amortization_period",
           "range": [
            23,
            50
           ],
           "values": [
            50,
            50,
            50,
            50,
            50,
            50,
            50,
            50,
            50,
            50,
            50,
            50,
            50,
            50,
            50,
            50,
            23,
            50,
            50,
            50,
            50,
            50,
            50,
            50,
            50,
            50,
            50,
            50,
            50,
            50,
            50,
            50,
            50,
            50,
            50,
            50,
            50,
            50,
            50,
            50,
            50,
            50,
            50,
            50,
            50,
            50,
            50,
            50,
            50,
            50,
            50,
            50,
            50,
            50,
            50,
            50,
            50,
            50,
            50,
            50,
            50,
            50,
            50,
            50,
            50,
            50,
            50,
            50,
            50,
            50,
            50,
            50,
            50,
            50,
            50,
            50,
            50,
            50,
            50,
            50,
            50,
            50,
            50,
            50,
            50,
            50,
            50,
            50,
            50,
            50,
            50,
            50,
            50,
            50,
            50,
            50,
            50,
            50,
            50,
            50,
            50,
            50,
            50,
            50,
            50,
            50,
            50,
            50,
            50,
            50,
            50,
            50,
            50,
            50,
            50,
            50,
            50,
            50,
            50,
            50,
            50,
            50,
            50,
            50,
            50,
            50,
            50,
            50,
            50,
            50,
            50,
            50,
            50,
            50,
            50,
            50,
            50,
            50,
            50,
            50,
            50,
            50,
            50,
            50,
            50,
            50,
            50,
            50,
            50,
            50,
            50,
            50,
            50,
            50,
            50,
            50,
            50,
            50,
            50,
            50,
            50,
            50,
            50,
            50,
            50,
            50,
            50,
            50,
            50,
            50,
            50,
            50,
            50,
            50,
            50,
            50,
            50,
            50,
            50,
            50,
            50,
            50,
            50,
            50,
            50,
            50,
            50,
            50,
            50,
            50,
            50,
            50,
            50,
            50,
            50,
            50,
            50,
            50,
            50,
            50,
            50,
            50,
            50,
            50,
            50,
            50,
            50,
            50,
            50,
            50,
            50,
            50,
            50,
            50,
            50,
            50,
            50,
            50,
            50,
            50,
            50,
            50,
            50,
            50,
            50,
            50,
            50,
            50,
            50,
            50,
            50,
            50,
            50,
            50,
            50,
            50,
            50,
            50,
            50,
            50,
            50,
            50,
            50,
            50,
            50,
            50,
            50,
            50,
            50,
            50,
            50,
            50,
            50,
            50,
            50,
            50,
            50,
            50,
            50,
            50,
            50,
            50,
            50,
            50,
            50,
            50,
            50,
            50,
            50,
            50,
            50,
            50,
            50,
            50,
            50,
            50,
            50,
            50,
            50,
            50,
            50,
            50,
            50,
            50,
            50,
            50,
            50,
            50,
            50,
            50,
            50,
            50,
            50,
            50,
            50,
            50,
            50,
            50,
            50,
            50,
            50,
            50,
            50,
            50,
            50,
            50,
            50,
            50,
            50,
            50,
            50,
            50,
            50,
            50,
            50,
            50,
            50,
            50,
            50,
            50,
            50,
            50,
            50,
            50,
            50,
            50,
            50
           ]
          },
          {
           "label": "(L) Debt Type",
           "name": "debt_type",
           "range": [
            -0.1,
            2.1
           ],
           "ticktext": [
            "",
            "GO Bond",
            "Rev Bond",
            "Paygo",
            ""
           ],
           "tickvals": [
            -0.1,
            0,
            1,
            2,
            2.1
           ],
           "values": {
            "dtype": "float64",
            "shape": [
             327
            ]
           }
          },
          {
           "label": "(L) Rate Lock",
           "name": "interest_rate_lock",
           "range": [
            -0.1,
            1.1
           ],
           "ticktext": [
            "",
            "False",
            "True",
            ""
           ],
           "tickvals": [
            -0.1,
            0,
            1,
            1.1
           ],
           "values": {
            "dtype": "float64",
            "shape": [
             327
            ]
           }
          },
          {
           "label": "(M+) Mean Net Benefits",
           "name": "Mean Net Benefits",
           "range": [
            -69.8851564951961,
            83.01952182149846
           ],
           "values": {
            "dtype": "float64",
            "shape": [
             327
            ]
           }
          },
          {
           "label": "(M+) 5%ile Net Benefits",
           "name": "5%ile Net Benefits",
           "range": [
            -322.31870291728876,
            0.0
           ],
           "values": {
            "dtype": "float64",
            "shape": [
             327
            ]
           }
          },
          {
           "label": "(M-) Possibility of<br>   Negative Net Benefits",
           "name": "Possibility of Negative Net Benefits",
           "range": [
            73.2,
            0.0
           ],
           "values": {
            "dtype": "float64",
            "shape": [
             327
            ]
           }
          },
          {
           "label": "(M-) 95%ile Capacity<br>   Expansion Cost",
           "name": "95%ile Capacity Expansion Cost",
           "range": [
            402.7504028254715,
            0.0
           ],
           "values": {
            "dtype": "float64",
            "shape": [
             327
            ]
           }
          },
          {
           "label": "(M+) Expected Time<br>   Savings",
           "name": "Expected Time Savings",
           "range": [
            0.0,
            20.305734401294245
           ],
           "values": {
            "dtype": "float64",
            "shape": [
             327
            ]
           }
          }
         ],
         "domain": {
          "y": [
           0,
           0.7
          ]
         },
         "labelangle": -90,
         "labelfont": {
          "color": "#AA0000"
         },
         "line": {
          "cmax": 100.0,
          "cmin": 0.0,
          "color": {
           "dtype": "float64",
           "shape": [
            327
           ]
          },
          "colorbar": {
           "title": {
            "side": "right",
            "text": "expand_capacity"
           }
          },
          "colorscale": [
           [
            0.0,
            "#440154"
           ],
           [
            0.1111111111111111,
            "#482878"
           ],
           [
            0.2222222222222222,
            "#3e4989"
           ],
           [
            0.3333333333333333,
            "#31688e"
           ],
           [
            0.4444444444444444,
            "#26828e"
           ],
           [
            0.5555555555555556,
            "#1f9e89"
           ],
           [
            0.6666666666666666,
            "#35b779"
           ],
           [
            0.7777777777777778,
            "#6ece58"
           ],
           [
            0.8888888888888888,
            "#b5de2b"
           ],
           [
            1.0,
            "#fde725"
           ]
          ],
          "reversescale": true,
          "showscale": true
         },
         "type": "parcoords",
         "uid": "b31a65f6-2271-42f8-83cf-05b0061bd357"
        }
       ],
       "_dom_classes": [],
       "_js2py_layoutDelta": {},
       "_js2py_pointsCallback": {},
       "_js2py_relayout": {},
       "_js2py_restyle": {},
       "_js2py_traceDeltas": {},
       "_js2py_update": {},
       "_last_layout_edit_id": 0,
       "_last_trace_edit_id": 0,
       "_layout": {},
       "_model_module": "plotlywidget",
       "_model_module_version": "^4.14.3",
       "_model_name": "FigureModel",
       "_py2js_addTraces": {},
       "_py2js_animate": {},
       "_py2js_deleteTraces": {},
       "_py2js_moveTraces": {},
       "_py2js_relayout": null,
       "_py2js_removeLayoutProps": {},
       "_py2js_removeTraceProps": {},
       "_py2js_restyle": {},
       "_py2js_update": {},
       "_view_count": 0,
       "_view_module": "plotlywidget",
       "_view_module_version": "^4.14.3",
       "_view_name": "FigureView"
      }
     },
     "128cde20b2e140a4b0582add126c13d4": {
      "model_module": "@jupyter-widgets/controls",
      "model_module_version": "1.5.0",
      "model_name": "VBoxModel",
      "state": {
       "_dom_classes": [],
       "_model_module": "@jupyter-widgets/controls",
       "_model_module_version": "1.5.0",
       "_model_name": "VBoxModel",
       "_view_count": null,
       "_view_module": "@jupyter-widgets/controls",
       "_view_module_version": "1.5.0",
       "_view_name": "VBoxView",
       "box_style": "",
       "children": [
        "IPY_MODEL_11c814eb25e7470d8b8ba48fba1ddc8a",
        "IPY_MODEL_dde71322a7c24e2eb24b22595fca8aee",
        "IPY_MODEL_2222117272ca4e21b5d0ae2cfb79b9fb",
        "IPY_MODEL_ad796f27f7dc4cba9c068bb9b37a8510"
       ],
       "layout": "IPY_MODEL_30e68416ab584e6ab163b69b14a7546d"
      }
     },
     "14bdd8b0559c48d6ba1d6ef820e2c5cd": {
      "model_module": "@jupyter-widgets/controls",
      "model_module_version": "1.5.0",
      "model_name": "CheckboxModel",
      "state": {
       "_dom_classes": [],
       "_model_module": "@jupyter-widgets/controls",
       "_model_module_version": "1.5.0",
       "_model_name": "CheckboxModel",
       "_view_count": null,
       "_view_module": "@jupyter-widgets/controls",
       "_view_module_version": "1.5.0",
       "_view_name": "CheckboxView",
       "description": "(M+) Time Savings",
       "description_tooltip": "time_savings",
       "disabled": false,
       "indent": true,
       "layout": "IPY_MODEL_bd37e3ff975646ea85b766b2a03d97c4",
       "name": "time_savings",
       "style": "IPY_MODEL_94c2be871a234e5eb7e699df2292ccbc",
       "value": true
      }
     },
     "1616c1466a6d44369da30b1f8ec8328e": {
      "model_module": "@jupyter-widgets/base",
      "model_module_version": "1.2.0",
      "model_name": "LayoutModel",
      "state": {
       "_model_module": "@jupyter-widgets/base",
       "_model_module_version": "1.2.0",
       "_model_name": "LayoutModel",
       "_view_count": null,
       "_view_module": "@jupyter-widgets/base",
       "_view_module_version": "1.2.0",
       "_view_name": "LayoutView",
       "align_content": null,
       "align_items": null,
       "align_self": null,
       "border": null,
       "bottom": null,
       "display": null,
       "flex": null,
       "flex_flow": null,
       "grid_area": null,
       "grid_auto_columns": null,
       "grid_auto_flow": null,
       "grid_auto_rows": null,
       "grid_column": null,
       "grid_gap": null,
       "grid_row": null,
       "grid_template_areas": null,
       "grid_template_columns": null,
       "grid_template_rows": null,
       "height": null,
       "justify_content": null,
       "justify_items": null,
       "left": null,
       "margin": null,
       "max_height": null,
       "max_width": null,
       "min_height": null,
       "min_width": null,
       "object_fit": null,
       "object_position": null,
       "order": null,
       "overflow": null,
       "overflow_x": null,
       "overflow_y": null,
       "padding": null,
       "right": null,
       "top": null,
       "visibility": null,
       "width": null
      }
     },
     "168933d81ac04961a8c6eea68a390cca": {
      "model_module": "@jupyter-widgets/base",
      "model_module_version": "1.2.0",
      "model_name": "LayoutModel",
      "state": {
       "_model_module": "@jupyter-widgets/base",
       "_model_module_version": "1.2.0",
       "_model_name": "LayoutModel",
       "_view_count": null,
       "_view_module": "@jupyter-widgets/base",
       "_view_module_version": "1.2.0",
       "_view_name": "LayoutView",
       "align_content": null,
       "align_items": null,
       "align_self": null,
       "border": null,
       "bottom": null,
       "display": null,
       "flex": null,
       "flex_flow": null,
       "grid_area": null,
       "grid_auto_columns": null,
       "grid_auto_flow": null,
       "grid_auto_rows": null,
       "grid_column": null,
       "grid_gap": null,
       "grid_row": null,
       "grid_template_areas": null,
       "grid_template_columns": null,
       "grid_template_rows": null,
       "height": null,
       "justify_content": null,
       "justify_items": null,
       "left": null,
       "margin": null,
       "max_height": null,
       "max_width": null,
       "min_height": null,
       "min_width": null,
       "object_fit": null,
       "object_position": null,
       "order": null,
       "overflow": null,
       "overflow_x": null,
       "overflow_y": null,
       "padding": null,
       "right": null,
       "top": null,
       "visibility": null,
       "width": null
      }
     },
     "1865948dd5cc4932b72acd89d9f9b9ae": {
      "model_module": "@jupyter-widgets/controls",
      "model_module_version": "1.5.0",
      "model_name": "CheckboxModel",
      "state": {
       "_dom_classes": [],
       "_model_module": "@jupyter-widgets/controls",
       "_model_module_version": "1.5.0",
       "_model_name": "CheckboxModel",
       "_view_count": null,
       "_view_module": "@jupyter-widgets/controls",
       "_view_module_version": "1.5.0",
       "_view_name": "CheckboxView",
       "description": "(L) Debt Type",
       "description_tooltip": "debt_type",
       "disabled": false,
       "indent": true,
       "layout": "IPY_MODEL_b6af3b184a064729b33a56de046acce4",
       "name": "debt_type",
       "style": "IPY_MODEL_977487dd45b149f8a23520ad897b557b",
       "value": true
      }
     },
     "18c23bd70e07497ca37a8dc8d2d17012": {
      "model_module": "@jupyter-widgets/base",
      "model_module_version": "1.2.0",
      "model_name": "LayoutModel",
      "state": {
       "_model_module": "@jupyter-widgets/base",
       "_model_module_version": "1.2.0",
       "_model_name": "LayoutModel",
       "_view_count": null,
       "_view_module": "@jupyter-widgets/base",
       "_view_module_version": "1.2.0",
       "_view_name": "LayoutView",
       "align_content": null,
       "align_items": null,
       "align_self": null,
       "border": null,
       "bottom": null,
       "display": null,
       "flex": null,
       "flex_flow": null,
       "grid_area": null,
       "grid_auto_columns": null,
       "grid_auto_flow": null,
       "grid_auto_rows": null,
       "grid_column": null,
       "grid_gap": null,
       "grid_row": null,
       "grid_template_areas": null,
       "grid_template_columns": null,
       "grid_template_rows": null,
       "height": null,
       "justify_content": null,
       "justify_items": null,
       "left": null,
       "margin": null,
       "max_height": null,
       "max_width": null,
       "min_height": null,
       "min_width": null,
       "object_fit": null,
       "object_position": null,
       "order": null,
       "overflow": null,
       "overflow_x": null,
       "overflow_y": null,
       "padding": null,
       "right": null,
       "top": null,
       "visibility": null,
       "width": "100%"
      }
     },
     "1a15c2de6abd46d9920b2b8f76434487": {
      "model_module": "@jupyter-widgets/controls",
      "model_module_version": "1.5.0",
      "model_name": "CheckboxModel",
      "state": {
       "_dom_classes": [],
       "_model_module": "@jupyter-widgets/controls",
       "_model_module_version": "1.5.0",
       "_model_name": "CheckboxModel",
       "_view_count": null,
       "_view_module": "@jupyter-widgets/controls",
       "_view_module_version": "1.5.0",
       "_view_name": "CheckboxView",
       "description": "(L) Expand Amount",
       "description_tooltip": "expand_capacity",
       "disabled": false,
       "indent": true,
       "layout": "IPY_MODEL_8b477dff7e2243998b23565c752e209d",
       "name": "expand_capacity",
       "style": "IPY_MODEL_7af3c33b232e49b0af628442b5cb1f0c",
       "value": true
      }
     },
     "1a73bb8ac1014823b20ab8bb36978dcc": {
      "model_module": "@jupyter-widgets/base",
      "model_module_version": "1.2.0",
      "model_name": "LayoutModel",
      "state": {
       "_model_module": "@jupyter-widgets/base",
       "_model_module_version": "1.2.0",
       "_model_name": "LayoutModel",
       "_view_count": null,
       "_view_module": "@jupyter-widgets/base",
       "_view_module_version": "1.2.0",
       "_view_name": "LayoutView",
       "align_content": null,
       "align_items": null,
       "align_self": null,
       "border": null,
       "bottom": null,
       "display": null,
       "flex": null,
       "flex_flow": null,
       "grid_area": null,
       "grid_auto_columns": null,
       "grid_auto_flow": null,
       "grid_auto_rows": null,
       "grid_column": null,
       "grid_gap": null,
       "grid_row": null,
       "grid_template_areas": null,
       "grid_template_columns": null,
       "grid_template_rows": null,
       "height": null,
       "justify_content": null,
       "justify_items": null,
       "left": null,
       "margin": null,
       "max_height": null,
       "max_width": null,
       "min_height": null,
       "min_width": null,
       "object_fit": null,
       "object_position": null,
       "order": null,
       "overflow": null,
       "overflow_x": null,
       "overflow_y": null,
       "padding": null,
       "right": null,
       "top": null,
       "visibility": null,
       "width": null
      }
     },
     "1b9684c50f584d13b32d7f8c78c6756c": {
      "model_module": "@jupyter-widgets/base",
      "model_module_version": "1.2.0",
      "model_name": "LayoutModel",
      "state": {
       "_model_module": "@jupyter-widgets/base",
       "_model_module_version": "1.2.0",
       "_model_name": "LayoutModel",
       "_view_count": null,
       "_view_module": "@jupyter-widgets/base",
       "_view_module_version": "1.2.0",
       "_view_name": "LayoutView",
       "align_content": null,
       "align_items": null,
       "align_self": null,
       "border": null,
       "bottom": null,
       "display": null,
       "flex": null,
       "flex_flow": "row wrap",
       "grid_area": null,
       "grid_auto_columns": null,
       "grid_auto_flow": null,
       "grid_auto_rows": null,
       "grid_column": null,
       "grid_gap": null,
       "grid_row": null,
       "grid_template_areas": null,
       "grid_template_columns": null,
       "grid_template_rows": null,
       "height": null,
       "justify_content": null,
       "justify_items": null,
       "left": null,
       "margin": null,
       "max_height": null,
       "max_width": null,
       "min_height": null,
       "min_width": null,
       "object_fit": null,
       "object_position": null,
       "order": null,
       "overflow": null,
       "overflow_x": null,
       "overflow_y": null,
       "padding": null,
       "right": null,
       "top": null,
       "visibility": null,
       "width": null
      }
     },
     "1d1b4818bfe24bee9be0f8dbc188e45c": {
      "model_module": "@jupyter-widgets/controls",
      "model_module_version": "1.5.0",
      "model_name": "DescriptionStyleModel",
      "state": {
       "_model_module": "@jupyter-widgets/controls",
       "_model_module_version": "1.5.0",
       "_model_name": "DescriptionStyleModel",
       "_view_count": null,
       "_view_module": "@jupyter-widgets/base",
       "_view_module_version": "1.2.0",
       "_view_name": "StyleView",
       "description_width": ""
      }
     },
     "1d44c6642b8345a793ed720b0b943b1d": {
      "model_module": "@jupyter-widgets/base",
      "model_module_version": "1.2.0",
      "model_name": "LayoutModel",
      "state": {
       "_model_module": "@jupyter-widgets/base",
       "_model_module_version": "1.2.0",
       "_model_name": "LayoutModel",
       "_view_count": null,
       "_view_module": "@jupyter-widgets/base",
       "_view_module_version": "1.2.0",
       "_view_name": "LayoutView",
       "align_content": null,
       "align_items": null,
       "align_self": null,
       "border": null,
       "bottom": null,
       "display": null,
       "flex": null,
       "flex_flow": null,
       "grid_area": null,
       "grid_auto_columns": null,
       "grid_auto_flow": null,
       "grid_auto_rows": null,
       "grid_column": null,
       "grid_gap": null,
       "grid_row": null,
       "grid_template_areas": null,
       "grid_template_columns": null,
       "grid_template_rows": null,
       "height": null,
       "justify_content": null,
       "justify_items": null,
       "left": null,
       "margin": null,
       "max_height": null,
       "max_width": null,
       "min_height": null,
       "min_width": null,
       "object_fit": null,
       "object_position": null,
       "order": null,
       "overflow": null,
       "overflow_x": null,
       "overflow_y": null,
       "padding": null,
       "right": null,
       "top": null,
       "visibility": null,
       "width": null
      }
     },
     "200c4a2c697c456c806ad6d2f99b9a2c": {
      "model_module": "@jupyter-widgets/base",
      "model_module_version": "1.2.0",
      "model_name": "LayoutModel",
      "state": {
       "_model_module": "@jupyter-widgets/base",
       "_model_module_version": "1.2.0",
       "_model_name": "LayoutModel",
       "_view_count": null,
       "_view_module": "@jupyter-widgets/base",
       "_view_module_version": "1.2.0",
       "_view_name": "LayoutView",
       "align_content": null,
       "align_items": null,
       "align_self": null,
       "border": null,
       "bottom": null,
       "display": null,
       "flex": null,
       "flex_flow": null,
       "grid_area": null,
       "grid_auto_columns": null,
       "grid_auto_flow": null,
       "grid_auto_rows": null,
       "grid_column": null,
       "grid_gap": null,
       "grid_row": null,
       "grid_template_areas": null,
       "grid_template_columns": null,
       "grid_template_rows": null,
       "height": null,
       "justify_content": null,
       "justify_items": null,
       "left": null,
       "margin": null,
       "max_height": null,
       "max_width": null,
       "min_height": null,
       "min_width": null,
       "object_fit": null,
       "object_position": null,
       "order": null,
       "overflow": null,
       "overflow_x": null,
       "overflow_y": null,
       "padding": null,
       "right": null,
       "top": null,
       "visibility": null,
       "width": null
      }
     },
     "205b972d91cc4d4198d540ddb98cd222": {
      "model_module": "@jupyter-widgets/controls",
      "model_module_version": "1.5.0",
      "model_name": "DescriptionStyleModel",
      "state": {
       "_model_module": "@jupyter-widgets/controls",
       "_model_module_version": "1.5.0",
       "_model_name": "DescriptionStyleModel",
       "_view_count": null,
       "_view_module": "@jupyter-widgets/base",
       "_view_module_version": "1.2.0",
       "_view_name": "StyleView",
       "description_width": ""
      }
     },
     "2222117272ca4e21b5d0ae2cfb79b9fb": {
      "model_module": "@jupyter-widgets/controls",
      "model_module_version": "1.5.0",
      "model_name": "AccordionModel",
      "state": {
       "_dom_classes": [],
       "_model_module": "@jupyter-widgets/controls",
       "_model_module_version": "1.5.0",
       "_model_name": "AccordionModel",
       "_titles": {
        "0": "Axes"
       },
       "_view_count": null,
       "_view_module": "@jupyter-widgets/controls",
       "_view_module_version": "1.5.0",
       "_view_name": "AccordionView",
       "box_style": "",
       "children": [
        "IPY_MODEL_5711ed6208ae4aed93f5cd892f04d0b8"
       ],
       "layout": "IPY_MODEL_0d5298074b6543e4b42701db66eb2bca",
       "selected_index": null
      }
     },
     "229adae8d06f41049b0228b635d5f5d8": {
      "model_module": "@jupyter-widgets/controls",
      "model_module_version": "1.5.0",
      "model_name": "CheckboxModel",
      "state": {
       "_dom_classes": [],
       "_model_module": "@jupyter-widgets/controls",
       "_model_module_version": "1.5.0",
       "_model_name": "CheckboxModel",
       "_view_count": null,
       "_view_module": "@jupyter-widgets/controls",
       "_view_module_version": "1.5.0",
       "_view_name": "CheckboxView",
       "description": "(L) Expand Amount",
       "description_tooltip": "expand_capacity",
       "disabled": false,
       "indent": true,
       "layout": "IPY_MODEL_95d3bafdaa7e4026a6c05472cdbb023e",
       "name": "expand_capacity",
       "style": "IPY_MODEL_bf0944a597714b588942f4f3d0bb9b50",
       "value": true
      }
     },
     "22f396fd38bd40a79011c5eec4251033": {
      "model_module": "@jupyter-widgets/controls",
      "model_module_version": "1.5.0",
      "model_name": "CheckboxModel",
      "state": {
       "_dom_classes": [],
       "_model_module": "@jupyter-widgets/controls",
       "_model_module_version": "1.5.0",
       "_model_name": "CheckboxModel",
       "_view_count": null,
       "_view_module": "@jupyter-widgets/controls",
       "_view_module_version": "1.5.0",
       "_view_name": "CheckboxView",
       "description": "(M+) 5%ile Net Benefits",
       "description_tooltip": "5%ile Net Benefits",
       "disabled": false,
       "indent": true,
       "layout": "IPY_MODEL_088d34847d944462a074204f9a086237",
       "name": "5%ile Net Benefits",
       "style": "IPY_MODEL_c1d748d53baf4b0490f0715b55b0fef5",
       "value": true
      }
     },
     "251988e9b6ac449ba7698b7623f3508e": {
      "model_module": "@jupyter-widgets/controls",
      "model_module_version": "1.5.0",
      "model_name": "DescriptionStyleModel",
      "state": {
       "_model_module": "@jupyter-widgets/controls",
       "_model_module_version": "1.5.0",
       "_model_name": "DescriptionStyleModel",
       "_view_count": null,
       "_view_module": "@jupyter-widgets/base",
       "_view_module_version": "1.2.0",
       "_view_name": "StyleView",
       "description_width": ""
      }
     },
     "26a101c675a14bf39f5e1621da412e95": {
      "model_module": "@jupyter-widgets/base",
      "model_module_version": "1.2.0",
      "model_name": "LayoutModel",
      "state": {
       "_model_module": "@jupyter-widgets/base",
       "_model_module_version": "1.2.0",
       "_model_name": "LayoutModel",
       "_view_count": null,
       "_view_module": "@jupyter-widgets/base",
       "_view_module_version": "1.2.0",
       "_view_name": "LayoutView",
       "align_content": null,
       "align_items": null,
       "align_self": null,
       "border": null,
       "bottom": null,
       "display": null,
       "flex": null,
       "flex_flow": null,
       "grid_area": null,
       "grid_auto_columns": null,
       "grid_auto_flow": null,
       "grid_auto_rows": null,
       "grid_column": null,
       "grid_gap": null,
       "grid_row": null,
       "grid_template_areas": null,
       "grid_template_columns": null,
       "grid_template_rows": null,
       "height": null,
       "justify_content": null,
       "justify_items": null,
       "left": null,
       "margin": null,
       "max_height": null,
       "max_width": null,
       "min_height": null,
       "min_width": null,
       "object_fit": null,
       "object_position": null,
       "order": null,
       "overflow": null,
       "overflow_x": null,
       "overflow_y": null,
       "padding": null,
       "right": null,
       "top": null,
       "visibility": null,
       "width": "100%"
      }
     },
     "270babe889184e71bd395596fb080815": {
      "model_module": "@jupyter-widgets/base",
      "model_module_version": "1.2.0",
      "model_name": "LayoutModel",
      "state": {
       "_model_module": "@jupyter-widgets/base",
       "_model_module_version": "1.2.0",
       "_model_name": "LayoutModel",
       "_view_count": null,
       "_view_module": "@jupyter-widgets/base",
       "_view_module_version": "1.2.0",
       "_view_name": "LayoutView",
       "align_content": null,
       "align_items": null,
       "align_self": null,
       "border": null,
       "bottom": null,
       "display": null,
       "flex": null,
       "flex_flow": null,
       "grid_area": null,
       "grid_auto_columns": null,
       "grid_auto_flow": null,
       "grid_auto_rows": null,
       "grid_column": null,
       "grid_gap": null,
       "grid_row": null,
       "grid_template_areas": null,
       "grid_template_columns": null,
       "grid_template_rows": null,
       "height": null,
       "justify_content": null,
       "justify_items": null,
       "left": null,
       "margin": null,
       "max_height": null,
       "max_width": null,
       "min_height": null,
       "min_width": null,
       "object_fit": null,
       "object_position": null,
       "order": null,
       "overflow": null,
       "overflow_x": null,
       "overflow_y": null,
       "padding": null,
       "right": null,
       "top": null,
       "visibility": null,
       "width": null
      }
     },
     "27d9a70a0c4f463e872a0373073c3f3e": {
      "model_module": "@jupyter-widgets/controls",
      "model_module_version": "1.5.0",
      "model_name": "CheckboxModel",
      "state": {
       "_dom_classes": [],
       "_model_module": "@jupyter-widgets/controls",
       "_model_module_version": "1.5.0",
       "_model_name": "CheckboxModel",
       "_view_count": null,
       "_view_module": "@jupyter-widgets/controls",
       "_view_module_version": "1.5.0",
       "_view_name": "CheckboxView",
       "description": "(X) Unit Cost Expand",
       "description_tooltip": "unit_cost_expansion",
       "disabled": false,
       "indent": true,
       "layout": "IPY_MODEL_b309652cc8714dc596acc89e77ba9f7d",
       "name": "unit_cost_expansion",
       "style": "IPY_MODEL_251988e9b6ac449ba7698b7623f3508e",
       "value": true
      }
     },
     "280979c7622f4c9bb79f149f44388638": {
      "model_module": "@jupyter-widgets/controls",
      "model_module_version": "1.5.0",
      "model_name": "CheckboxModel",
      "state": {
       "_dom_classes": [],
       "_model_module": "@jupyter-widgets/controls",
       "_model_module_version": "1.5.0",
       "_model_name": "CheckboxModel",
       "_view_count": null,
       "_view_module": "@jupyter-widgets/controls",
       "_view_module_version": "1.5.0",
       "_view_name": "CheckboxView",
       "description": "(X) Yield Curve",
       "description_tooltip": "yield_curve",
       "disabled": false,
       "indent": true,
       "layout": "IPY_MODEL_0e782f3d8b854dda9eeace7edc1d84e9",
       "name": "yield_curve",
       "style": "IPY_MODEL_69456711ff3c4e8d8d85ffd032339824",
       "value": true
      }
     },
     "2a0d43849a434579be59160a3717b338": {
      "model_module": "@jupyter-widgets/controls",
      "model_module_version": "1.5.0",
      "model_name": "DescriptionStyleModel",
      "state": {
       "_model_module": "@jupyter-widgets/controls",
       "_model_module_version": "1.5.0",
       "_model_name": "DescriptionStyleModel",
       "_view_count": null,
       "_view_module": "@jupyter-widgets/base",
       "_view_module_version": "1.2.0",
       "_view_name": "StyleView",
       "description_width": ""
      }
     },
     "2b5d478055cf4dbd9bacb7aa1f8babcc": {
      "model_module": "@jupyter-widgets/base",
      "model_module_version": "1.2.0",
      "model_name": "LayoutModel",
      "state": {
       "_model_module": "@jupyter-widgets/base",
       "_model_module_version": "1.2.0",
       "_model_name": "LayoutModel",
       "_view_count": null,
       "_view_module": "@jupyter-widgets/base",
       "_view_module_version": "1.2.0",
       "_view_name": "LayoutView",
       "align_content": null,
       "align_items": null,
       "align_self": null,
       "border": null,
       "bottom": null,
       "display": null,
       "flex": null,
       "flex_flow": null,
       "grid_area": null,
       "grid_auto_columns": null,
       "grid_auto_flow": null,
       "grid_auto_rows": null,
       "grid_column": null,
       "grid_gap": null,
       "grid_row": null,
       "grid_template_areas": null,
       "grid_template_columns": null,
       "grid_template_rows": null,
       "height": null,
       "justify_content": null,
       "justify_items": null,
       "left": null,
       "margin": null,
       "max_height": null,
       "max_width": null,
       "min_height": null,
       "min_width": null,
       "object_fit": null,
       "object_position": null,
       "order": null,
       "overflow": null,
       "overflow_x": null,
       "overflow_y": null,
       "padding": null,
       "right": null,
       "top": null,
       "visibility": null,
       "width": null
      }
     },
     "2e05d85c8f5541519efde150d0d1fbea": {
      "model_module": "@jupyter-widgets/controls",
      "model_module_version": "1.5.0",
      "model_name": "DescriptionStyleModel",
      "state": {
       "_model_module": "@jupyter-widgets/controls",
       "_model_module_version": "1.5.0",
       "_model_name": "DescriptionStyleModel",
       "_view_count": null,
       "_view_module": "@jupyter-widgets/base",
       "_view_module_version": "1.2.0",
       "_view_name": "StyleView",
       "description_width": ""
      }
     },
     "301e409c5c3440d584bda940653a067e": {
      "model_module": "@jupyter-widgets/base",
      "model_module_version": "1.2.0",
      "model_name": "LayoutModel",
      "state": {
       "_model_module": "@jupyter-widgets/base",
       "_model_module_version": "1.2.0",
       "_model_name": "LayoutModel",
       "_view_count": null,
       "_view_module": "@jupyter-widgets/base",
       "_view_module_version": "1.2.0",
       "_view_name": "LayoutView",
       "align_content": null,
       "align_items": null,
       "align_self": null,
       "border": null,
       "bottom": null,
       "display": null,
       "flex": null,
       "flex_flow": "row wrap",
       "grid_area": null,
       "grid_auto_columns": null,
       "grid_auto_flow": null,
       "grid_auto_rows": null,
       "grid_column": null,
       "grid_gap": null,
       "grid_row": null,
       "grid_template_areas": null,
       "grid_template_columns": null,
       "grid_template_rows": null,
       "height": null,
       "justify_content": null,
       "justify_items": null,
       "left": null,
       "margin": null,
       "max_height": null,
       "max_width": null,
       "min_height": null,
       "min_width": null,
       "object_fit": null,
       "object_position": null,
       "order": null,
       "overflow": null,
       "overflow_x": null,
       "overflow_y": null,
       "padding": null,
       "right": null,
       "top": null,
       "visibility": null,
       "width": null
      }
     },
     "30e68416ab584e6ab163b69b14a7546d": {
      "model_module": "@jupyter-widgets/base",
      "model_module_version": "1.2.0",
      "model_name": "LayoutModel",
      "state": {
       "_model_module": "@jupyter-widgets/base",
       "_model_module_version": "1.2.0",
       "_model_name": "LayoutModel",
       "_view_count": null,
       "_view_module": "@jupyter-widgets/base",
       "_view_module_version": "1.2.0",
       "_view_name": "LayoutView",
       "align_content": null,
       "align_items": "center",
       "align_self": null,
       "border": null,
       "bottom": null,
       "display": null,
       "flex": null,
       "flex_flow": null,
       "grid_area": null,
       "grid_auto_columns": null,
       "grid_auto_flow": null,
       "grid_auto_rows": null,
       "grid_column": null,
       "grid_gap": null,
       "grid_row": null,
       "grid_template_areas": null,
       "grid_template_columns": null,
       "grid_template_rows": null,
       "height": null,
       "justify_content": null,
       "justify_items": null,
       "left": null,
       "margin": null,
       "max_height": null,
       "max_width": null,
       "min_height": null,
       "min_width": null,
       "object_fit": null,
       "object_position": null,
       "order": null,
       "overflow": null,
       "overflow_x": null,
       "overflow_y": null,
       "padding": null,
       "right": null,
       "top": null,
       "visibility": null,
       "width": null
      }
     },
     "31f2a0b470bf441fac5ce4e5f717c93b": {
      "model_module": "@jupyter-widgets/base",
      "model_module_version": "1.2.0",
      "model_name": "LayoutModel",
      "state": {
       "_model_module": "@jupyter-widgets/base",
       "_model_module_version": "1.2.0",
       "_model_name": "LayoutModel",
       "_view_count": null,
       "_view_module": "@jupyter-widgets/base",
       "_view_module_version": "1.2.0",
       "_view_name": "LayoutView",
       "align_content": null,
       "align_items": null,
       "align_self": null,
       "border": null,
       "bottom": null,
       "display": null,
       "flex": null,
       "flex_flow": null,
       "grid_area": null,
       "grid_auto_columns": null,
       "grid_auto_flow": null,
       "grid_auto_rows": null,
       "grid_column": null,
       "grid_gap": null,
       "grid_row": null,
       "grid_template_areas": null,
       "grid_template_columns": null,
       "grid_template_rows": null,
       "height": null,
       "justify_content": null,
       "justify_items": null,
       "left": null,
       "margin": null,
       "max_height": null,
       "max_width": null,
       "min_height": null,
       "min_width": null,
       "object_fit": null,
       "object_position": null,
       "order": null,
       "overflow": null,
       "overflow_x": null,
       "overflow_y": null,
       "padding": null,
       "right": null,
       "top": null,
       "visibility": null,
       "width": "250px"
      }
     },
     "3256ded59639476397436066a835bfb0": {
      "model_module": "@jupyter-widgets/controls",
      "model_module_version": "1.5.0",
      "model_name": "CheckboxModel",
      "state": {
       "_dom_classes": [],
       "_model_module": "@jupyter-widgets/controls",
       "_model_module_version": "1.5.0",
       "_model_name": "CheckboxModel",
       "_view_count": null,
       "_view_module": "@jupyter-widgets/controls",
       "_view_module_version": "1.5.0",
       "_view_name": "CheckboxView",
       "description": "(X) Value of Time",
       "description_tooltip": "value_of_time",
       "disabled": false,
       "indent": true,
       "layout": "IPY_MODEL_67a1acdc23624ca9b004ec8a941029c0",
       "name": "value_of_time",
       "style": "IPY_MODEL_6678e69fe6d34e16a071ce27de6b53e0",
       "value": true
      }
     },
     "329a06a3dc8d49909d899bb45a774471": {
      "model_module": "@jupyter-widgets/controls",
      "model_module_version": "1.5.0",
      "model_name": "DropdownModel",
      "state": {
       "_dom_classes": [],
       "_model_module": "@jupyter-widgets/controls",
       "_model_module_version": "1.5.0",
       "_model_name": "DropdownModel",
       "_options_labels": [
        " ",
        "   Clear Selection Constraints",
        "-- (X) Uncertainties --",
        "   Show All Exogenous Uncertainties",
        "   Hide All Exogenous Uncertainties",
        "-- (L) Levers --",
        "   Show All Policy Levers",
        "   Hide All Policy Levers",
        "-- (M) Measures --",
        "   Show All Performance Measures",
        "   Hide All Performance Measures"
       ],
       "_view_count": null,
       "_view_module": "@jupyter-widgets/controls",
       "_view_module_version": "1.5.0",
       "_view_name": "DropdownView",
       "description": "View:",
       "description_tooltip": null,
       "disabled": false,
       "index": 0,
       "layout": "IPY_MODEL_b0336cb157594a41a7fccac6b4bcb985",
       "style": "IPY_MODEL_b6b15923d2f74bb0bbd1b961fbb62040"
      }
     },
     "336b1fc559c041ed889cebd7a3154e25": {
      "model_module": "@jupyter-widgets/controls",
      "model_module_version": "1.5.0",
      "model_name": "AccordionModel",
      "state": {
       "_dom_classes": [],
       "_model_module": "@jupyter-widgets/controls",
       "_model_module_version": "1.5.0",
       "_model_name": "AccordionModel",
       "_titles": {
        "0": "Axes"
       },
       "_view_count": null,
       "_view_module": "@jupyter-widgets/controls",
       "_view_module_version": "1.5.0",
       "_view_name": "AccordionView",
       "box_style": "",
       "children": [
        "IPY_MODEL_f4d5912c53e749edb510cec60ae01880"
       ],
       "layout": "IPY_MODEL_26a101c675a14bf39f5e1621da412e95",
       "selected_index": null
      }
     },
     "33a4092211b4427187524a8d6d15c15b": {
      "model_module": "@jupyter-widgets/base",
      "model_module_version": "1.2.0",
      "model_name": "LayoutModel",
      "state": {
       "_model_module": "@jupyter-widgets/base",
       "_model_module_version": "1.2.0",
       "_model_name": "LayoutModel",
       "_view_count": null,
       "_view_module": "@jupyter-widgets/base",
       "_view_module_version": "1.2.0",
       "_view_name": "LayoutView",
       "align_content": null,
       "align_items": null,
       "align_self": null,
       "border": null,
       "bottom": null,
       "display": null,
       "flex": null,
       "flex_flow": null,
       "grid_area": null,
       "grid_auto_columns": null,
       "grid_auto_flow": null,
       "grid_auto_rows": null,
       "grid_column": null,
       "grid_gap": null,
       "grid_row": null,
       "grid_template_areas": null,
       "grid_template_columns": null,
       "grid_template_rows": null,
       "height": null,
       "justify_content": null,
       "justify_items": null,
       "left": null,
       "margin": null,
       "max_height": null,
       "max_width": null,
       "min_height": null,
       "min_width": null,
       "object_fit": null,
       "object_position": null,
       "order": null,
       "overflow": null,
       "overflow_x": null,
       "overflow_y": null,
       "padding": null,
       "right": null,
       "top": null,
       "visibility": null,
       "width": "100%"
      }
     },
     "359f3d1e61db45dc8128e16ce3e3edb8": {
      "model_module": "@jupyter-widgets/controls",
      "model_module_version": "1.5.0",
      "model_name": "HTMLModel",
      "state": {
       "_dom_classes": [],
       "_model_module": "@jupyter-widgets/controls",
       "_model_module_version": "1.5.0",
       "_model_name": "HTMLModel",
       "_view_count": null,
       "_view_module": "@jupyter-widgets/controls",
       "_view_module_version": "1.5.0",
       "_view_name": "HTMLView",
       "description": "",
       "description_tooltip": null,
       "layout": "IPY_MODEL_d33aea9edbb145cdab6da4efa09f4dcf",
       "placeholder": "​",
       "style": "IPY_MODEL_2e05d85c8f5541519efde150d0d1fbea",
       "value": "\n\t\t\t(M-) Performance Measure to Minimize<br>\n\t\t\t(M+) Performance Measure to Maximize<br>\n\t\t\t(M) Performance Measure without preferred direction<br>\n\t\t\t(L) Policy Lever<br>\n\t\t\t(X) Exogenous Uncertainty\n\t\t"
      }
     },
     "381db4cb6f924da2b4c01e8bc47e7b51": {
      "model_module": "@jupyter-widgets/base",
      "model_module_version": "1.2.0",
      "model_name": "LayoutModel",
      "state": {
       "_model_module": "@jupyter-widgets/base",
       "_model_module_version": "1.2.0",
       "_model_name": "LayoutModel",
       "_view_count": null,
       "_view_module": "@jupyter-widgets/base",
       "_view_module_version": "1.2.0",
       "_view_name": "LayoutView",
       "align_content": null,
       "align_items": null,
       "align_self": null,
       "border": null,
       "bottom": null,
       "display": null,
       "flex": null,
       "flex_flow": null,
       "grid_area": null,
       "grid_auto_columns": null,
       "grid_auto_flow": null,
       "grid_auto_rows": null,
       "grid_column": null,
       "grid_gap": null,
       "grid_row": null,
       "grid_template_areas": null,
       "grid_template_columns": null,
       "grid_template_rows": null,
       "height": null,
       "justify_content": null,
       "justify_items": null,
       "left": null,
       "margin": null,
       "max_height": null,
       "max_width": null,
       "min_height": null,
       "min_width": null,
       "object_fit": null,
       "object_position": null,
       "order": null,
       "overflow": null,
       "overflow_x": null,
       "overflow_y": null,
       "padding": null,
       "right": null,
       "top": null,
       "visibility": null,
       "width": null
      }
     },
     "3946e801682b4dec8ef3fd954c31183d": {
      "model_module": "plotlywidget",
      "model_module_version": "^4.14.3",
      "model_name": "FigureModel",
      "state": {
       "_config": {
        "plotlyServerURL": "https://plot.ly"
       },
       "_data": [
        {
         "fill": "tonexty",
         "line": {
          "shape": "linear"
         },
         "mode": "lines+markers",
         "name": "",
         "type": "scatter",
         "uid": "11d2581e-d578-4ee0-ac14-366ecde20891"
        }
       ],
       "_dom_classes": [],
       "_js2py_layoutDelta": {},
       "_js2py_pointsCallback": {},
       "_js2py_relayout": {},
       "_js2py_restyle": {},
       "_js2py_traceDeltas": {},
       "_js2py_update": {},
       "_last_layout_edit_id": 4,
       "_last_trace_edit_id": 1,
       "_layout": {
        "hovermode": "closest",
        "showlegend": false,
        "title": {
         "text": "Number of Solutions"
        }
       },
       "_model_module": "plotlywidget",
       "_model_module_version": "^4.14.3",
       "_model_name": "FigureModel",
       "_py2js_addTraces": {},
       "_py2js_animate": {},
       "_py2js_deleteTraces": {},
       "_py2js_moveTraces": {},
       "_py2js_relayout": null,
       "_py2js_removeLayoutProps": {},
       "_py2js_removeTraceProps": {},
       "_py2js_restyle": {},
       "_py2js_update": null,
       "_view_count": 0,
       "_view_module": "plotlywidget",
       "_view_module_version": "^4.14.3",
       "_view_name": "FigureView"
      }
     },
     "3a8abd4433984a87984e173bd771d10d": {
      "model_module": "@jupyter-widgets/controls",
      "model_module_version": "1.5.0",
      "model_name": "HBoxModel",
      "state": {
       "_dom_classes": [],
       "_model_module": "@jupyter-widgets/controls",
       "_model_module_version": "1.5.0",
       "_model_name": "HBoxModel",
       "_view_count": null,
       "_view_module": "@jupyter-widgets/controls",
       "_view_module_version": "1.5.0",
       "_view_name": "HBoxView",
       "box_style": "",
       "children": [
        "IPY_MODEL_3e2357f8bc1f43179ffed5448caccaf2",
        "IPY_MODEL_9a93d46a9f5f4393ac310be97f3f69e0"
       ],
       "layout": "IPY_MODEL_2b5d478055cf4dbd9bacb7aa1f8babcc"
      }
     },
     "3c3e2dd27779429db4aba9f1d11f55bc": {
      "model_module": "@jupyter-widgets/base",
      "model_module_version": "1.2.0",
      "model_name": "LayoutModel",
      "state": {
       "_model_module": "@jupyter-widgets/base",
       "_model_module_version": "1.2.0",
       "_model_name": "LayoutModel",
       "_view_count": null,
       "_view_module": "@jupyter-widgets/base",
       "_view_module_version": "1.2.0",
       "_view_name": "LayoutView",
       "align_content": null,
       "align_items": null,
       "align_self": null,
       "border": null,
       "bottom": null,
       "display": null,
       "flex": null,
       "flex_flow": null,
       "grid_area": null,
       "grid_auto_columns": null,
       "grid_auto_flow": null,
       "grid_auto_rows": null,
       "grid_column": null,
       "grid_gap": null,
       "grid_row": null,
       "grid_template_areas": null,
       "grid_template_columns": null,
       "grid_template_rows": null,
       "height": null,
       "justify_content": null,
       "justify_items": null,
       "left": null,
       "margin": null,
       "max_height": null,
       "max_width": null,
       "min_height": null,
       "min_width": null,
       "object_fit": null,
       "object_position": null,
       "order": null,
       "overflow": null,
       "overflow_x": null,
       "overflow_y": null,
       "padding": null,
       "right": null,
       "top": null,
       "visibility": null,
       "width": null
      }
     },
     "3d022425702d40aca41fffefb94fdb53": {
      "model_module": "@jupyter-widgets/base",
      "model_module_version": "1.2.0",
      "model_name": "LayoutModel",
      "state": {
       "_model_module": "@jupyter-widgets/base",
       "_model_module_version": "1.2.0",
       "_model_name": "LayoutModel",
       "_view_count": null,
       "_view_module": "@jupyter-widgets/base",
       "_view_module_version": "1.2.0",
       "_view_name": "LayoutView",
       "align_content": null,
       "align_items": null,
       "align_self": null,
       "border": null,
       "bottom": null,
       "display": null,
       "flex": null,
       "flex_flow": null,
       "grid_area": null,
       "grid_auto_columns": null,
       "grid_auto_flow": null,
       "grid_auto_rows": null,
       "grid_column": null,
       "grid_gap": null,
       "grid_row": null,
       "grid_template_areas": null,
       "grid_template_columns": null,
       "grid_template_rows": null,
       "height": null,
       "justify_content": null,
       "justify_items": null,
       "left": null,
       "margin": null,
       "max_height": null,
       "max_width": null,
       "min_height": null,
       "min_width": null,
       "object_fit": null,
       "object_position": null,
       "order": null,
       "overflow": null,
       "overflow_x": null,
       "overflow_y": null,
       "padding": null,
       "right": null,
       "top": null,
       "visibility": null,
       "width": null
      }
     },
     "3d959ed7531f4fd08df13056b61ab29c": {
      "model_module": "@jupyter-widgets/base",
      "model_module_version": "1.2.0",
      "model_name": "LayoutModel",
      "state": {
       "_model_module": "@jupyter-widgets/base",
       "_model_module_version": "1.2.0",
       "_model_name": "LayoutModel",
       "_view_count": null,
       "_view_module": "@jupyter-widgets/base",
       "_view_module_version": "1.2.0",
       "_view_name": "LayoutView",
       "align_content": null,
       "align_items": null,
       "align_self": null,
       "border": null,
       "bottom": null,
       "display": null,
       "flex": null,
       "flex_flow": null,
       "grid_area": null,
       "grid_auto_columns": null,
       "grid_auto_flow": null,
       "grid_auto_rows": null,
       "grid_column": null,
       "grid_gap": null,
       "grid_row": null,
       "grid_template_areas": null,
       "grid_template_columns": null,
       "grid_template_rows": null,
       "height": null,
       "justify_content": null,
       "justify_items": null,
       "left": null,
       "margin": null,
       "max_height": null,
       "max_width": null,
       "min_height": null,
       "min_width": null,
       "object_fit": null,
       "object_position": null,
       "order": null,
       "overflow": null,
       "overflow_x": null,
       "overflow_y": null,
       "padding": null,
       "right": null,
       "top": null,
       "visibility": null,
       "width": null
      }
     },
     "3e0ceedd68ef4be989165d69b69694c6": {
      "model_module": "@jupyter-widgets/base",
      "model_module_version": "1.2.0",
      "model_name": "LayoutModel",
      "state": {
       "_model_module": "@jupyter-widgets/base",
       "_model_module_version": "1.2.0",
       "_model_name": "LayoutModel",
       "_view_count": null,
       "_view_module": "@jupyter-widgets/base",
       "_view_module_version": "1.2.0",
       "_view_name": "LayoutView",
       "align_content": null,
       "align_items": null,
       "align_self": null,
       "border": null,
       "bottom": null,
       "display": null,
       "flex": null,
       "flex_flow": null,
       "grid_area": null,
       "grid_auto_columns": null,
       "grid_auto_flow": null,
       "grid_auto_rows": null,
       "grid_column": null,
       "grid_gap": null,
       "grid_row": null,
       "grid_template_areas": null,
       "grid_template_columns": null,
       "grid_template_rows": null,
       "height": null,
       "justify_content": null,
       "justify_items": null,
       "left": null,
       "margin": null,
       "max_height": null,
       "max_width": null,
       "min_height": null,
       "min_width": null,
       "object_fit": null,
       "object_position": null,
       "order": null,
       "overflow": null,
       "overflow_x": null,
       "overflow_y": null,
       "padding": null,
       "right": null,
       "top": null,
       "visibility": null,
       "width": null
      }
     },
     "3e2357f8bc1f43179ffed5448caccaf2": {
      "model_module": "@jupyter-widgets/controls",
      "model_module_version": "1.5.0",
      "model_name": "DropdownModel",
      "state": {
       "_dom_classes": [],
       "_model_module": "@jupyter-widgets/controls",
       "_model_module_version": "1.5.0",
       "_model_name": "DropdownModel",
       "_options_labels": [
        "< None >",
        "expand_capacity",
        "amortization_period",
        "debt_type",
        "interest_rate_lock",
        "build_travel_time",
        "time_savings",
        "value_of_time_savings",
        "net_benefits",
        "cost_of_capacity_expansion",
        "free_flow_time",
        "initial_capacity"
       ],
       "_view_count": null,
       "_view_module": "@jupyter-widgets/controls",
       "_view_module_version": "1.5.0",
       "_view_name": "DropdownView",
       "description": "Colorize:",
       "description_tooltip": null,
       "disabled": false,
       "index": 1,
       "layout": "IPY_MODEL_d6ac3586da5247048b17a73f706fb7e8",
       "style": "IPY_MODEL_7eddaf09caec4b008b6dc0b46343b5a1"
      }
     },
     "3e7898b4b80a41df9739cb413f9a0eec": {
      "model_module": "@jupyter-widgets/base",
      "model_module_version": "1.2.0",
      "model_name": "LayoutModel",
      "state": {
       "_model_module": "@jupyter-widgets/base",
       "_model_module_version": "1.2.0",
       "_model_name": "LayoutModel",
       "_view_count": null,
       "_view_module": "@jupyter-widgets/base",
       "_view_module_version": "1.2.0",
       "_view_name": "LayoutView",
       "align_content": null,
       "align_items": null,
       "align_self": null,
       "border": null,
       "bottom": null,
       "display": null,
       "flex": null,
       "flex_flow": null,
       "grid_area": null,
       "grid_auto_columns": null,
       "grid_auto_flow": null,
       "grid_auto_rows": null,
       "grid_column": null,
       "grid_gap": null,
       "grid_row": null,
       "grid_template_areas": null,
       "grid_template_columns": null,
       "grid_template_rows": null,
       "height": null,
       "justify_content": null,
       "justify_items": null,
       "left": null,
       "margin": null,
       "max_height": null,
       "max_width": null,
       "min_height": null,
       "min_width": null,
       "object_fit": null,
       "object_position": null,
       "order": null,
       "overflow": null,
       "overflow_x": null,
       "overflow_y": null,
       "padding": null,
       "right": null,
       "top": null,
       "visibility": null,
       "width": null
      }
     },
     "3ed9bfa251704575a3b692e9cd0beb7f": {
      "model_module": "@jupyter-widgets/controls",
      "model_module_version": "1.5.0",
      "model_name": "DescriptionStyleModel",
      "state": {
       "_model_module": "@jupyter-widgets/controls",
       "_model_module_version": "1.5.0",
       "_model_name": "DescriptionStyleModel",
       "_view_count": null,
       "_view_module": "@jupyter-widgets/base",
       "_view_module_version": "1.2.0",
       "_view_name": "StyleView",
       "description_width": ""
      }
     },
     "405c68a921494ee28c91ef221f08bfb7": {
      "model_module": "@jupyter-widgets/base",
      "model_module_version": "1.2.0",
      "model_name": "LayoutModel",
      "state": {
       "_model_module": "@jupyter-widgets/base",
       "_model_module_version": "1.2.0",
       "_model_name": "LayoutModel",
       "_view_count": null,
       "_view_module": "@jupyter-widgets/base",
       "_view_module_version": "1.2.0",
       "_view_name": "LayoutView",
       "align_content": null,
       "align_items": "center",
       "align_self": null,
       "border": null,
       "bottom": null,
       "display": null,
       "flex": null,
       "flex_flow": null,
       "grid_area": null,
       "grid_auto_columns": null,
       "grid_auto_flow": null,
       "grid_auto_rows": null,
       "grid_column": null,
       "grid_gap": null,
       "grid_row": null,
       "grid_template_areas": null,
       "grid_template_columns": null,
       "grid_template_rows": null,
       "height": null,
       "justify_content": null,
       "justify_items": null,
       "left": null,
       "margin": null,
       "max_height": null,
       "max_width": null,
       "min_height": null,
       "min_width": null,
       "object_fit": null,
       "object_position": null,
       "order": null,
       "overflow": null,
       "overflow_x": null,
       "overflow_y": null,
       "padding": null,
       "right": null,
       "top": null,
       "visibility": null,
       "width": null
      }
     },
     "46603e3a96e548859e54dc1d55c1370d": {
      "model_module": "@jupyter-widgets/controls",
      "model_module_version": "1.5.0",
      "model_name": "CheckboxModel",
      "state": {
       "_dom_classes": [],
       "_model_module": "@jupyter-widgets/controls",
       "_model_module_version": "1.5.0",
       "_model_name": "CheckboxModel",
       "_view_count": null,
       "_view_module": "@jupyter-widgets/controls",
       "_view_module_version": "1.5.0",
       "_view_name": "CheckboxView",
       "description": "(M+) Time Savings",
       "description_tooltip": "time_savings",
       "disabled": false,
       "indent": true,
       "layout": "IPY_MODEL_d68842c8ceca4ced856b899b0c9f206d",
       "name": "time_savings",
       "style": "IPY_MODEL_cfda9fae80ee42f7b737f6793c1e4e6f",
       "value": true
      }
     },
     "466a9260b6ff48a7949a956ab4566db8": {
      "model_module": "@jupyter-widgets/base",
      "model_module_version": "1.2.0",
      "model_name": "LayoutModel",
      "state": {
       "_model_module": "@jupyter-widgets/base",
       "_model_module_version": "1.2.0",
       "_model_name": "LayoutModel",
       "_view_count": null,
       "_view_module": "@jupyter-widgets/base",
       "_view_module_version": "1.2.0",
       "_view_name": "LayoutView",
       "align_content": null,
       "align_items": null,
       "align_self": null,
       "border": null,
       "bottom": null,
       "display": null,
       "flex": null,
       "flex_flow": null,
       "grid_area": null,
       "grid_auto_columns": null,
       "grid_auto_flow": null,
       "grid_auto_rows": null,
       "grid_column": null,
       "grid_gap": null,
       "grid_row": null,
       "grid_template_areas": null,
       "grid_template_columns": null,
       "grid_template_rows": null,
       "height": null,
       "justify_content": null,
       "justify_items": null,
       "left": null,
       "margin": null,
       "max_height": null,
       "max_width": null,
       "min_height": null,
       "min_width": null,
       "object_fit": null,
       "object_position": null,
       "order": null,
       "overflow": null,
       "overflow_x": null,
       "overflow_y": null,
       "padding": null,
       "right": null,
       "top": null,
       "visibility": null,
       "width": null
      }
     },
     "47912856b0d74ed19f8d89a21fec610f": {
      "model_module": "@jupyter-widgets/base",
      "model_module_version": "1.2.0",
      "model_name": "LayoutModel",
      "state": {
       "_model_module": "@jupyter-widgets/base",
       "_model_module_version": "1.2.0",
       "_model_name": "LayoutModel",
       "_view_count": null,
       "_view_module": "@jupyter-widgets/base",
       "_view_module_version": "1.2.0",
       "_view_name": "LayoutView",
       "align_content": null,
       "align_items": null,
       "align_self": null,
       "border": null,
       "bottom": null,
       "display": null,
       "flex": null,
       "flex_flow": null,
       "grid_area": null,
       "grid_auto_columns": null,
       "grid_auto_flow": null,
       "grid_auto_rows": null,
       "grid_column": null,
       "grid_gap": null,
       "grid_row": null,
       "grid_template_areas": null,
       "grid_template_columns": null,
       "grid_template_rows": null,
       "height": null,
       "justify_content": null,
       "justify_items": null,
       "left": null,
       "margin": null,
       "max_height": null,
       "max_width": null,
       "min_height": null,
       "min_width": null,
       "object_fit": null,
       "object_position": null,
       "order": null,
       "overflow": null,
       "overflow_x": null,
       "overflow_y": null,
       "padding": null,
       "right": null,
       "top": null,
       "visibility": null,
       "width": null
      }
     },
     "48ec2c1f4e8143088bbd94ab5f5aa3c8": {
      "model_module": "@jupyter-widgets/base",
      "model_module_version": "1.2.0",
      "model_name": "LayoutModel",
      "state": {
       "_model_module": "@jupyter-widgets/base",
       "_model_module_version": "1.2.0",
       "_model_name": "LayoutModel",
       "_view_count": null,
       "_view_module": "@jupyter-widgets/base",
       "_view_module_version": "1.2.0",
       "_view_name": "LayoutView",
       "align_content": null,
       "align_items": null,
       "align_self": null,
       "border": null,
       "bottom": null,
       "display": null,
       "flex": null,
       "flex_flow": null,
       "grid_area": null,
       "grid_auto_columns": null,
       "grid_auto_flow": null,
       "grid_auto_rows": null,
       "grid_column": null,
       "grid_gap": null,
       "grid_row": null,
       "grid_template_areas": null,
       "grid_template_columns": null,
       "grid_template_rows": null,
       "height": null,
       "justify_content": null,
       "justify_items": null,
       "left": null,
       "margin": null,
       "max_height": null,
       "max_width": null,
       "min_height": null,
       "min_width": null,
       "object_fit": null,
       "object_position": null,
       "order": null,
       "overflow": null,
       "overflow_x": null,
       "overflow_y": null,
       "padding": null,
       "right": null,
       "top": null,
       "visibility": null,
       "width": null
      }
     },
     "4b7eb1d7b0b14a63a5d148605247adf1": {
      "model_module": "@jupyter-widgets/base",
      "model_module_version": "1.2.0",
      "model_name": "LayoutModel",
      "state": {
       "_model_module": "@jupyter-widgets/base",
       "_model_module_version": "1.2.0",
       "_model_name": "LayoutModel",
       "_view_count": null,
       "_view_module": "@jupyter-widgets/base",
       "_view_module_version": "1.2.0",
       "_view_name": "LayoutView",
       "align_content": null,
       "align_items": "center",
       "align_self": null,
       "border": null,
       "bottom": null,
       "display": null,
       "flex": null,
       "flex_flow": null,
       "grid_area": null,
       "grid_auto_columns": null,
       "grid_auto_flow": null,
       "grid_auto_rows": null,
       "grid_column": null,
       "grid_gap": null,
       "grid_row": null,
       "grid_template_areas": null,
       "grid_template_columns": null,
       "grid_template_rows": null,
       "height": null,
       "justify_content": null,
       "justify_items": null,
       "left": null,
       "margin": null,
       "max_height": null,
       "max_width": null,
       "min_height": null,
       "min_width": null,
       "object_fit": null,
       "object_position": null,
       "order": null,
       "overflow": null,
       "overflow_x": null,
       "overflow_y": null,
       "padding": null,
       "right": null,
       "top": null,
       "visibility": null,
       "width": null
      }
     },
     "51532bab1544475c9403d7373defe539": {
      "model_module": "@jupyter-widgets/controls",
      "model_module_version": "1.5.0",
      "model_name": "DescriptionStyleModel",
      "state": {
       "_model_module": "@jupyter-widgets/controls",
       "_model_module_version": "1.5.0",
       "_model_name": "DescriptionStyleModel",
       "_view_count": null,
       "_view_module": "@jupyter-widgets/base",
       "_view_module_version": "1.2.0",
       "_view_name": "StyleView",
       "description_width": ""
      }
     },
     "51c2da71f2e743309ffa48f9b4bc9292": {
      "model_module": "@jupyter-widgets/base",
      "model_module_version": "1.2.0",
      "model_name": "LayoutModel",
      "state": {
       "_model_module": "@jupyter-widgets/base",
       "_model_module_version": "1.2.0",
       "_model_name": "LayoutModel",
       "_view_count": null,
       "_view_module": "@jupyter-widgets/base",
       "_view_module_version": "1.2.0",
       "_view_name": "LayoutView",
       "align_content": null,
       "align_items": null,
       "align_self": null,
       "border": null,
       "bottom": null,
       "display": null,
       "flex": null,
       "flex_flow": null,
       "grid_area": null,
       "grid_auto_columns": null,
       "grid_auto_flow": null,
       "grid_auto_rows": null,
       "grid_column": null,
       "grid_gap": null,
       "grid_row": null,
       "grid_template_areas": null,
       "grid_template_columns": null,
       "grid_template_rows": null,
       "height": null,
       "justify_content": null,
       "justify_items": null,
       "left": null,
       "margin": null,
       "max_height": null,
       "max_width": null,
       "min_height": null,
       "min_width": null,
       "object_fit": null,
       "object_position": null,
       "order": null,
       "overflow": null,
       "overflow_x": null,
       "overflow_y": null,
       "padding": null,
       "right": null,
       "top": null,
       "visibility": null,
       "width": null
      }
     },
     "51c40b16a5ce474a88874e7a50102478": {
      "model_module": "@jupyter-widgets/controls",
      "model_module_version": "1.5.0",
      "model_name": "CheckboxModel",
      "state": {
       "_dom_classes": [],
       "_model_module": "@jupyter-widgets/controls",
       "_model_module_version": "1.5.0",
       "_model_name": "CheckboxModel",
       "_view_count": null,
       "_view_module": "@jupyter-widgets/controls",
       "_view_module_version": "1.5.0",
       "_view_name": "CheckboxView",
       "description": "(M-) Cost of Expand",
       "description_tooltip": "cost_of_capacity_expansion",
       "disabled": false,
       "indent": true,
       "layout": "IPY_MODEL_270babe889184e71bd395596fb080815",
       "name": "cost_of_capacity_expansion",
       "style": "IPY_MODEL_c8b4984ed62a418dba77f765a7ecb706",
       "value": true
      }
     },
     "52ee1901a9b44433a4e2f0e0aecb802a": {
      "buffers": [
       {
        "data": "YAuVrcGFN0A6qaeD7L42QNAzjmpgnjdA1GdOrdQ2MkAC+UmcA4gyQEdglha2ajdAKs75QBwhQED4w5rkSbAoQGLhNCC9JCRAv73io3A3MEACJlADeaAvQBpoGuIf0yVAwv6eZDgLJkDKgA6OtEsyQLIx/T4xJj9A3o8y8Ld7MUADbh9zXIovQLdskFb9DTNAamWa6377LkBgC5WtwYU3QJtDlSnG0DNAl2I2Jkz0NUB+/+h7SjU1QMJG1CTrEzZA1r7IQct5PkARYVLFUIQ0QA3tKlUfvjJAkKPx2U8CKkAQUBJ+dmM+QOQI0rueAzNANKJnGEv0PUCmkt+LeggwQFCe0pKKZzZAsK3FkN97M0AxWW8qgog+QO5DKzS9fzpAlYYA28jSPEACiCbh00c7QIKXTGSwvzRA/0HH1R0kOEC0sUzoN54/QO1DBd/fOTdAZjSi+AdgOEDIb4OaHlw2QLxaqfQicDRAlELZrxCaMUBc7eLQQiUtQP6bgknIkT1AmwfihkeFQUAyAkVzQ0pBQJ5JaHVD0DhA1hhAP3wdJ0CrgB5MMRk3QGd5jHcqPzZAKs75QBwhQEDN8rYBi2s1QNoIib3VWTxA9iTJC0JLM0CooDVaAZ1CQOjR/5yFvSxAn4K9F+3BQECD5pUtV0EmQC3A79fvTEBAlWGaAxHcQEBWO24QVnpAQL+94qNwNzBAGmga4h/TJUDC/p5kOAsmQMqADo60SzJA3o8y8Ld7MUADbh9zXIovQJdiNiZM9DVAfv/oe0o1NUAN7SpVH74yQJCj8dlPAipAEFASfnZjPkDkCNK7ngMzQDSiZxhL9D1AUJ7SkopnNkD/QcfVHSQ4QLSxTOg3nj9A7UMF3985N0C8Wqn0InA0QJ5JaHVD0DhA1hhAP3wdJ0CrgB5MMRk3QM3ytgGLazVA9iTJC0JLM0Do0f+chb0sQIPmlS1XQSZALcDv1+9MQECVYZoDEdxAQFY7bhBWekBAOqmng+y+NkDQM45qYJ43QNRnTq3UNjJAAvlJnAOIMkBHYJYWtmo3QPjDmuRJsChAYuE0IL0kJEACJlADeaAvQLIx/T4xJj9At2yQVv0NM0BqZZrrfvsuQGALla3BhTdAm0OVKcbQM0B0CeXcqno7QMJG1CTrEzZA1r7IQct5PkARYVLFUIQ0QKaS34t6CDBAsK3FkN97M0CCl0xksL80QEj3a1+QmD1AZjSi+AdgOEDIb4OaHlw2QJRC2a8QmjFAXO3i0EIlLUCbB+KGR4VBQDICRXNDSkFAZ3mMdyo/NkAqzvlAHCFAQJ+CvRftwUBA",
        "encoding": "base64",
        "path": [
         "_data",
         0,
         "dimensions",
         0,
         "values",
         "buffer"
        ]
       },
       {
        "data": "FDN+qgodqD+FfVqNHfClv6UdCscN56W/JZgqtflt/z9XrxbaY14AQHhQhdBA5YM/GDWRps5Mmz+459MX1Ff/P0SkdyxocP8/wB3woO5KAECoTD37LZb/P8GcsN5qEABAbsKGWywrAECOT8rPkRsAQKzzL2Z99Iy/4ccAzm0nAEDZpikk30z/Px8rLM30BQBAGxEUTpFOAEBgT5DKR2ihv/Prfa9eRP8/dGt+GvCZmr/CYOLZ5g+hv3pthoMLlZ2/qENl1Vl0hz/2/LExPSYAQDVmBC9dGQBAHr+nP7sqAECNsLOIJJSUvxxaYzveOwBANI29MrAWkb8dFtVWBQkAQE/Aki1BEaS/aH9aD6a3/z/6zIDK5rCivw2a4ZV1hJy/WNp2HngSkD98edoliVmpv6XvFZ0S5v8/6DNAukxEpj9wbsIPbzSdP+Am9yd/s5k/DZ55gAbeob8wVC7ivBl0P0o/xKfYzf8/DW2PjAvp/z9YOfwuYTj/P1QxcdYAr4g/4IbVF6eboD/ghSZnEo9nv4qn+Pd4KZm/Qyo0SL+k/z8o5Vi8oXubP/7V/vdE2qC/ns4l7Rekoj/AeBbGQnRMPwjizgVWJJU/6JQql+q6/z/oxXDhvZmFv5RVEzjcQ/8/DOArhng3gT++oFb0Iz8AQPgHGftF4IA/PMn1CXUdnD+nmq3zzTqlv7tzkgCPZ/8/VO1kXxKt/z/40YaYajb/P+iIcEg9HQBAblZbmvzl/z/ZScWSyC0AQOCe+78dqIy/fpXd4ryZqD9e9ReqAAsAQH3JWDh7Zv8/aFnlY9YFcz/bBCHMAUYAQFRar5wnRpg/1k/xYtASoT8NAdiKoYmav30OaOFMYKS/3jrHfHrWqD8umKhJ7sz/P8zsCTGCaKa/1CujnzI//z8oXFPATISBP/qrmWwjiaA/EYYYtHIwAEBAibeH7SUAQLfJ8pa+ZQBAcMA2/UVajj/6qZ6fMhyTvzwBH+VWRo+/7pF42uHXoL+sGuyJGpmhv/sUxxgepP8//twuCCgHAECYEBQA2kqAP5w0ylbYVwBAOb+Xjx61/z8SmSMF9RwAQOAhFNM8v2G/089D7gty/z+Ooy+V/oT/P7pceFmOTae/QYQ3P1tCAECidGAxp+GivxSdhJ+2IYk//0Qf1p33p79fur48gN3/P2bYocMbbv8/wE+U/7KB/z8EApS/O4b/P+hFtlOVj30/Itz8HjiTpD9mH0ya6yGlP9vR8UbxRwBARa3nD2lMAEDcLxi61UiePyjC81Ccqai/qqSe5iNgoL8AEW1pV7hlP8DSJVhBx3u/",
        "encoding": "base64",
        "path": [
         "_data",
         0,
         "dimensions",
         2,
         "values",
         "buffer"
        ]
       },
       {
        "data": "wGJ479TLoL8s2O67sk+YP7w1uaZqnag/voEY1gCUob+w69E4Ll2YP7wJcf4LYqA/iG+yJrR9kj/E7o0EQPOWv6xTFa0a4YK/QpL0lj5t7z9K3xRIsEiYv0h6o0u+kfA/6zeeSdji7z+lbmABaq7vP57Gz3+97qY/o5vuSuis7z/yosHyv3/wP+DQN+ohu56/LMnPhXsOgz8Ky2MpE/ukvzDg2svuqaE/FWssOC2W7j9opzMqqZLwP/zUeGfW6Y+/OCnH4Q9enz/aK8Hs5Pqnv8nk4uGin/A/Y97XUtCW7j8uVSOjjMnwP16RaFkoze8/OG4awx9H8D/MZ5MgWGyOv0Th5JSZo+8/ePvcRTrygj8K/iXnoMTwP3O+R9rLsPA/QSsvcPR28D+3c1lbXKbvP/yLfXAooqc/NtACpQif7j8Gkfkx1cnwP+xDI/tyLvA/EJES5suLpr8aOB5L4/mkP8aib1IuKO8/Vz5b4rNclL8kMo04jnuQPxqGPet0eO4/eMW6I6XwgD+Mb66kMo2Avy1PgfMgLvA/2DDYuhgp7z/L/hP1ZBXwP6wY1d4uHJg/wJlkE+PTUb+tEFR6QTTvP+fx7Yf6EfA/zC1gJrBe7z/IP7B727PvPyiz8uNxsPA/SMzGaDypkT9ME0zjqxTwP51Cw0KDmfA/5p4labVc8D9607QONn7uP46cPsWCmKQ/WlZOcikEqD/oBcZCNvd4Pz2ycjZUdKG/sK2FW3ljcb9gFuVE5o5QPwDT2jcb8qG/TN5yMwZ8qT+u5T0W/r+nPxz9r2QNU5o/8tLqxvSfoz/vLMX7zuinv17MnLsW7aU/AHIk6kMgUj/ABWNfxjuSv4bJyOswlZK/rN8La0oyqD+gGN70av2Mv16cMHxK4aM/pxeWC57YlL8ANnw+0l16P1y3VhJsUZI/3hatXV0BoD8Nz8YUz2agv/jSRY29Tpw/lANE9z6spL+1cZteEXCkv2ySLSeJ2aa/Obowpzc/7z9v6u1Ba4HwP44mvhtRCvA/8ICe0K/t7j8TRAxPQYbuP/JQD2AAPfA/dDRF5Pzd7z+IKeqmmBrwP1fe/JUXLe8/bUUlCdMn8D+MP9iXd0LwPx7i5P5K5O8/Bgax8Bqw7z8GZEmbEv7uP+THcXosWvA/KXR8ID5k8D/neQT14MruP+IQoM73Z+4/+o6l0zku7z/S2gb35RLvPwcWb0XBePA/X3uvF/2Q8D+aOndXMxXwPxquxmcyeO4/BicEcsAY7z/fk9vh7cnuP01RB6na7+8//eZxM1Yc7z/ixPFvI2nuP3KEgCKoM/A/",
        "encoding": "base64",
        "path": [
         "_data",
         0,
         "dimensions",
         3,
         "values",
         "buffer"
        ]
       },
       {
        "data": "kJv6q6qSQUD2FE8rWo9CQFrAqGtw0kFAvFdTMqj1VUCYTLw/EBlWQNQF+vOZ/0FA9rs2N3WbJECz++fEnkFSQAtFJFqqIlBAM0N5YFywVEAl1TmpibhUQFbbYsYOy1BAzcX4qFLlUEDLhpfSdLJVQAqiCmFsKjJAy/gTkWxVVUBo4BktG3BUQKzR0BtiUFZAPS/iCfyGVEAZbmzrEehBQM82qH4amlZAIc/teGqvREDJ9Tx1SihFQNVofd9gFENAJ/THxfsHNEBgZxDWRNdWQMN8aqWO4VVAygp9hbiUUkCIVWEnyHU4QP9q4y7L/FVA/FoI4AySOUBWHV/6VdlUQOkWh1ofYERAaN90Wu56VkCPEf2JyBU4QBnTOfa1xkBA+hPJELdaPEBEKoJ8COM/QPpahaEb6lZA1srljaoDQ0B1OShHeTI1QFDtB7V/w0NAvnWLTHMhQUDDTdU2dt1CQPdOAkdRe1ZAJvf/biatVUB5t9aUA/BTQKjKwq4XiTpAt7XFDnW2GUCDaYEGr5cfQHU53rx8a0JA75vQC/phUUDs9U3r0txDQDgxopK080JAcchO5D/2LUD/b8j6UQdFQH3OOLQ0eD1AUL/qkM0XVkChJqn1GVQRQHsF1VuskFNAplTEXFJuJkAZsZHLaf5QQMh7h9SldzJAbqD+dyh6LkDaalAYCXUxQD+HxcId9FRA/U82uqb4UEA1vQ7NXxNRQNs8uhjm/lVA22qk1nieVUD7pXUq/7FUQJZUGrjYK0NANlzioeSxQ0C6vCH53S9WQO4dPEUOy1JATqufH9tENECIVPDhPExWQAaKguZ0cDVA+FuJJZvUQkDXpzMNfllBQFE1bTEj1jBABNWvY3opQkC1Hj78tdBWQITIYz5xtUBAnhAcJkSSUUCihQWNDkVCQFQez2oujUNADFuQlGpoVkDj+kvQtsxTQJo3av/nLFFA7saGIDXxK0DBCfwQHC0lQOx65APw0ilAOXBh++QgRECsyhrzY3NDQM95xSOOqVVAgyG+/qLLVUB7BNZo/ZxDQHOkji0LDlJAhwIzBSvxT0Cs4X56d3ZUQOYfYLY0djZAZp9mFcUAVkCPoZGBQkZUQB5Bq9FSh0NA7KP8oE9HVkBgxlt8NnM/QLKpD9kgmkRA7gwAP/07OEBaaDnRi4FWQImhUM5YllRA031tN4YpVkC8VTiKapNWQOrtPvI7eDpAQ6CRgMHPQkB7qpvJMGhEQMO6Wl6bY1VAyvs9aCCzU0Atyfd+oIUmQJaLAMuuVSlAPw56A3B8REAxkadzFG4zQPa+tQbzrC9A",
        "encoding": "base64",
        "path": [
         "_data",
         0,
         "dimensions",
         4,
         "values",
         "buffer"
        ]
       },
       {
        "data": "4KqjnQyUYMCM9HbESO9fwLoGSFTApmDA00HsAGB5SMCOoxdd2+9IwA8YFQswfmDAQHxd1i9tZ8DsbJSvToE/wPLXSAA3FTnAFb2AjdJqRcArZLUVWtxEwAeLmMA0/TvA9j3XrWZKPMBsKrWkqGlIwETf4qS+dGbAckwjRcg8R8B4ui6AmMdEwJpljjDas0nAYZhUF4xgRMCwt9l3apNgwCiiMgnQ0UrA2N06HEb6XMDZrnDp+vVbwHy4vKdy5F7AOB4vWOTtZcCo4jaeadpLwM4gO9XRD0nA0Jj9TUDiQMAKaPk6C25kwFKKgcv2dEnAlr4hY+UdZMAibHFdBTFFwMjD5GKAl13AokzB6gZVSsBUjvoqxYhkwMqInulQo2HAViziO5JNY8DMFowsWDJiwLV+w2YfMkzAluOZrD33X8DKgvGQZ1FlwPbcSdLLtl7AukVHiTA/YcD4hVeO+1RfwCQe3psPikvAXISinGWTR8DmpjMvMAJDwFKBVLbx1mPAlr3TPM9uacAUOzsdTxRpwLKSQ1KHcWDAE+WnQdnCPcBiK9S8IIpewATtB/3UJ1/AGNdaS4ZNZ8CuYjio3z9cwC6c1NS29mLAZMxzaWTdScDWu2iuzWVpwLMNbifVy0LAZrQQFXVDaMDGfCxWipQ8wMBNED+hB2bAXz8JoV3XZsCGgaF0eElmwGghIA/gd0XAkvapvxptO8BYGAMhM7w7wI66+sHRl0jAI3ZgWO1kR8BOn9eDu8tEwGLvksQ4s17AYWDdX6iKXcAgokiW8T5JwJXbHV0ItUDAyhmjZ4DcZcDgoIV7qaRJwL3hInpKhmXAYDP7V81mX8BWZRr89Q9hwC7pwx1O0GbAwOFR8eJXYMCkhTlUoLxLwCawT43Ql2HAMxrmQdlAPcDKB+0jRz5gwMqtesHA3l3AUK/7P6wNSsBF6GBbabVCwCQe6EyjCDzAcFp7V4CQZ8CSuuwBemtowDCL+C3r1WfATK0EOc4OXsAClDaxOEBfwHew0oNkS0jAnLFghC/BSMDemr0nkPlewPLsqp/17j/APpTmkzmtOcC6+LcCXtdEwFasdFWh+mTA2UdcxBGEScAMvT6kz2FEwMSKwiuMHl/AUEyUjnigSsAF2OhvvFZiwDK3WsFmJV3AheEgRyd+ZMAoGiUZsqdLwPzSInGsJ0XA76qXNVskSsAhbC/b9v5LwCYOH5LT22PAJGRpgaQkYMByHJ2w6YddwMboyBeWaEfA95nI+OcUQ8D2uqD7i81nwKwo3O2dd2fAVmeL7mZgXcC88eXGHchlwML6WCZksWbA",
        "encoding": "base64",
        "path": [
         "_data",
         0,
         "dimensions",
         5,
         "values",
         "buffer"
        ]
       },
       {
        "data": "AAAAAAAATkDMzMzMzMxNQMzMzMzMzE1AZmZmZmZmREBmZmZmZmZEQMzMzMzMzE1AAAAAAACAUEDNzMzMzMxCQJqZmZmZmUJAmZmZmZmZREAzMzMzMzNDQGZmZmZmZkJAZmZmZmZmQkDNzMzMzMxEQDMzMzMzM1BAmZmZmZmZRECZmZmZmZlEQJmZmZmZmURAMzMzMzMzQ0DMzMzMzMxNQJmZmZmZmURAzMzMzMzMTUDMzMzMzMxNQMzMzMzMzE1AmpmZmZkZUEDNzMzMzMxEQAAAAAAAAEVAZ2ZmZmZmQ0AzMzMzMzNQQAAAAAAAAEVAMzMzMzMzUEAzMzMzMzNDQAAAAAAAAE5AmZmZmZmZREAzMzMzMzNQQM3MzMzMzE5AAAAAAAAAUEAzMzMzMzNPQM3MzMzMzERAZmZmZmZmTkAAAAAAAIBQQGZmZmZmZk5AAAAAAAAATkDMzMzMzMxNQAAAAAAAAEVAmpmZmZmZQ0DNzMzMzMxCQAAAAAAAAFBAmpmZmZmZUEAAAAAAAIBQQGZmZmZmZk5AmpmZmZmZQkAzMzMzMzNOQMzMzMzMzE1AzczMzMxMUEDMzMzMzMxNQAAAAAAAAFBAAAAAAAAARUCamZmZmRlRQAAAAAAAAERAZ2ZmZmZmUEBmZmZmZmZCQM3MzMzMzFBAAAAAAAAAUUDNzMzMzMxQQGdmZmZmZkNAmpmZmZmZQkCamZmZmZlCQGZmZmZmZkRAmpmZmZmZQ0AzMzMzMzNDQJmZmZmZmU1AMzMzMzMzTUBmZmZmZmZEQM3MzMzMzEJAmpmZmZkZUECZmZmZmZlEQJqZmZmZGVBAzMzMzMzMTUAAAAAAAABOQM3MzMzMTFBAzMzMzMzMTUDNzMzMzMxEQDMzMzMzM05AmpmZmZmZQkDMzMzMzMxNQGZmZmZmZk1AmZmZmZmZREDNzMzMzMxCQJqZmZmZmUJAzczMzMxMUEAAAAAAAIBQQM3MzMzMTFBAMzMzMzMzTkBmZmZmZmZOQM3MzMzMzERAzczMzMzMREBmZmZmZmZOQAAAAAAAAENAMzMzMzMzQkCZmZmZmZlEQM3MzMzMTFBAAAAAAAAARUCZmZmZmZlEQGZmZmZmZk5AAAAAAAAARUAzMzMzMzNPQAAAAAAAAE5AMzMzMzMzUEAAAAAAAABFQJmZmZmZmURAAAAAAAAARUAAAAAAAABFQAAAAAAAAFBAZmZmZmZmTkAAAAAAAABOQJmZmZmZmURAAAAAAAAAREAAAAAAAABRQAAAAAAAAFFAAAAAAAAATkAzMzMzM7NQQGdmZmZm5lBA",
        "encoding": "base64",
        "path": [
         "_data",
         0,
         "dimensions",
         6,
         "values",
         "buffer"
        ]
       },
       {
        "data": "o/qd+xcbZUAGMCTzOnhkQK6AG4VSQWVAJkQBL936UUA6cRbWAEtSQPnrcLzTEmVA/bL0g6bBbEBAhAKIAV9IQC3cgYhr4kNA4ndQ5H90TUAOYjbmWDhPQOt+PKkb0kNANM1Wkg0FREADXrxPpJ1QQPyq3kI5CGxARyLtW4HBT0CXJYSt9qRMQFqHi3lBz1JAUDRP9n2VTkDqgGh9KitlQBQSAgKJj1NA8ipxquVqYUASbvBnXNNgQOvKNFVW3mNATLJIthNta0ACyICCxEBUQDAWJ5ONBVFAMFIFDvCeR0AqNstV4htoQI/WFFmrRFFAZRNH5q/DZ0B1C/ikYqdPQMDF4pdTxmFArhhF7rk7U0DqCNRDRjloQCa5AK3rBWVA0BjG6gDeZkBzyip/qaRlQLc+lqdge1RAGqj1cggnY0BBP7PqmBVpQA6yWRYybWJAdjh+GpnvZUBcxUgsUB9kQEBcjSm3j1JA6rSTUB1gUUAiQXIETsVMQNDso2eIdWdAIDNIg+KIb0CK5JIOqh5vQHL9RVqbr2NAi54ifSL+REDK0EVqRFNiQHcNw8JBBWRAZl3zYtQHbUDwUSnzZv5gQKHWQCQMfmZArTT+uLqFUUBiF1QYsYhtQMWw6QbyGUpAcmWJn0YpbkBuNpIxNDZEQK/N6Ok/3WlAFu9851rAakDWIVAISSVqQJWWA84MAlBA/weRU0WLRUBbfs4mpcJFQBDSClZ4D1JAAtMReihCUUAerVwihSJPQFEEPmXhwWNAYoKy3fwVY0DWtcZqaoBSQCzakJyurElAkEWVBPtYa0DjV5YCBcVSQO6dfYXv9GpAl61ii5cpZEBstnrWrbllQOL8pSM9dGxAgrgpmuDmZECJQVEh2SxUQLTcYXaZVGZAVoMcCmLRRkAwISJDd8lkQMjuVZTPRmNA0NDQd7wLU0BYhCdb5l5MQDtCf8ER+EVA8cYQGrZWbUC2ac4oU1huQEgJVn9sqG1AxVr066YLYkCG2R387bxiQE60ZR2vilBAuroCvGnUUEA2uhLM8JNiQITrnb/za0ZALLBOpj1LQkCusjd7C7lMQHjHu7tftmhAs3wWNBZOUUALY7VfNyNMQHk9UatlqWJAqF4wYfz+UUBkvksD/8xlQEuRAeH7g2FArrXVw5ktaEC69GKlCqJSQCOdcHgzH01AJonDeuGxUUDeSJye9tdSQFVOKL3pemdA8nR0DZFWY0CbtA7YQ71hQJdURy+g+E9A7AUltyh4SkAW2zPq2MxrQK4BAr80b2tAdClhYUumYUCIkYintZdpQFi7WMDglmpA",
        "encoding": "base64",
        "path": [
         "_data",
         0,
         "dimensions",
         7,
         "values",
         "buffer"
        ]
       },
       {
        "data": "AKlZnL86KkDTGGMFYcIpQAwVjXJcSSpASoDmnaSnJkC4oJFP4uQmQFo3T4ifKipAaH/M5u6KLkDh063P5n8hQEZPatEbIh5Apq62gesPJUBiMS/GzLgkQPisczGc/x9AMmC1Ri4eIEAORoc8ercmQJZG3L+oFC5AGKIlv/EWJkBK896+Xa8kQJGRJ0n4RydA6Pnr0e9xJEAAqVmcvzoqQCQak93C0ydAkL+c9UNDKUCuety9J8coQE3aRtxnVylAL3U8wh3KLUCgIyy5S1AoQDMsNQAyDSdAzWagEu8nIkBimwG1TcAtQMWkxi5jQCdAWfyrJuiOLUAqQK60fOgkQNDEYX8fjClA+Plh63CXJ0CzZ7/qj9AtQBfXHzEb4ytAMKS+K98JLUDxJaJXk0ksQADf0n6YeChADp4sr6SXKkDHcarMUEcuQBKVfjVPDSpAFm80Mx+6KkAE3ikB+IQpQBfD2h+AQihATBtqJsEuJkDzmbQ2xKEjQDFJBa1cYi1AvFY8+IecL0Ar+sLOWHEvQJ6UWlG++SpAfpwmIk2wIEANleb7jPkpQK7CZofEcilAaH/M5u6KLkA1UQH81uooQL7bHl9Y0CxA3QtCWXp0J0Dk/oDcQC8wQLaG4sCSciNA5Wrn32IKL0CtxNjsUzsgQL819FBVri5Aj1C7A3seL0CrX5QMedIuQKautoHrDyVA+KxzMZz/H0AyYLVGLh4gQA5Ghzx6tyZAGKIlv/EWJkBK896+Xa8kQJC/nPVDQylArnrcvSfHKEAzLDUAMg0nQM1moBLvJyJAYpsBtU3ALUDFpMYuY0AnQFn8qyboji1A0MRhfx+MKUAOniyvpJcqQMdxqsxQRy5AEpV+NU8NKkAXw9ofgEIoQJ6UWlG++SpAfpwmIk2wIEANleb7jPkpQDVRAfzW6ihA3QtCWXp0J0C2huLAknIjQK3E2OxTOyBAvzX0UFWuLkCPULsDex4vQKtflAx50i5A0xhjBWHCKUAMFY1yXEkqQEqA5p2kpyZAuKCRT+LkJkBaN0+InyoqQOHTrc/mfyFARk9q0RsiHkBiMS/GzLgkQJZG3L+oFC5AkZEnSfhHJ0Do+evR73EkQACpWZy/OipAJBqT3cLTJ0AfQBDRDmMsQE3aRtxnVylAL3U8wh3KLUCgIyy5S1AoQCpArrR86CRA+Plh63CXJ0AA39J+mHgoQIncab1zZS1AFm80Mx+6KkAE3ikB+IQpQEwbaibBLiZA85m0NsShI0C8Vjz4h5wvQCv6ws5YcS9ArsJmh8RyKUBof8zm7oouQOVq599iCi9A",
        "encoding": "base64",
        "path": [
         "_data",
         0,
         "dimensions",
         8,
         "values",
         "buffer"
        ]
       },
       {
        "data": "tICId4OKqkDCt6pIKqqpQMMVDwVLpqpANCiEQDONpECmaCA1zeikQGbM3WP/a6pAtHOLIf0yskCBf7YCW9ubQG7s73x9upZAF0lFFi9MokDufwKGvNehQOaB2jUboJhAWKeOkWbfmEB6pn7lwKSkQHFWqRLAkrFA36/0hxO6o0Bg6vMJQ8uhQAqR5Ub4f6VANp5OlKl6oUC0gIh3g4qqQGPYMSHAW6ZAbHGJRInFqEDQLOmvBO6nQJgHoRI36ahAX7+pRn0xsUAqJjwBVSanQJZ7lHzaJaVA0KLkp8FYnUAuArAV5CSxQLFXggNFdKVAMTMPUyzmsEDSJlg6MheiQKoVGaqRR6lAo5rcYvT7pUBKze5tyjmxQBCNdYVH5q1ADw2/wddCsEAgeqN5C8iuQLCuvidTaadAzI2FCjI9q0B6ewPxdtaxQM7gc8vkNKpAShdje8yAq0CaFv53rjqpQHACCkaQD6dAYk1NOVHco0Ccwux8X3GgQLdJecmYrrBAiuhuNt3Es0Bea7BaRoKzQPqcagJv/6tARtzZiNwUmkDSrDKPBBCqQGAHsiYDGqlAtHOLIf0yskBpAEF9OyuoQOAMsfo2/a9Ad/KlwxnFpUCaX1yMfAC1QAs3e+DYNqBAvKh1EHHoskAMV7dNdxyZQHaZroBwZLJASBhCvu8Fs0B2nIUsqpeyQBdJRRYvTKJA5oHaNRugmEBYp46RZt+YQHqmfuXApKRA36/0hxO6o0Bg6vMJQ8uhQGxxiUSJxahA0CzprwTup0CWe5R82iWlQNCi5KfBWJ1ALgKwFeQksUCxV4IDRXSlQDEzD1Ms5rBAqhUZqpFHqUDMjYUKMj2rQHp7A/F21rFAzuBzy+Q0qkBwAgpGkA+nQPqcagJv/6tARtzZiNwUmkDSrDKPBBCqQGkAQX07K6hAd/KlwxnFpUALN3vg2DagQAxXt013HJlAdpmugHBkskBIGEK+7wWzQHachSyql7JAwreqSCqqqUDDFQ8FS6aqQDQohEAzjaRApmggNc3opEBmzN1j/2uqQIF/tgJb25tAbuzvfH26lkDufwKGvNehQHFWqRLAkrFACpHlRvh/pUA2nk6UqXqhQLSAiHeDiqpAY9gxIcBbpkDxFIyjaAGvQJgHoRI36ahAX7+pRn0xsUAqJjwBVSanQNImWDoyF6JAo5rcYvT7pUCwrr4nU2mnQKTEOzlssrBAShdje8yAq0CaFv53rjqpQGJNTTlR3KNAnMLsfF9xoECK6G423cSzQF5rsFpGgrNAYAeyJgMaqUC0c4sh/TKyQLyodRBx6LJA",
        "encoding": "base64",
        "path": [
         "_data",
         0,
         "dimensions",
         9,
         "values",
         "buffer"
        ]
       },
       {
        "data": "YAuVrcGFN0A6qaeD7L42QNAzjmpgnjdA1GdOrdQ2MkAC+UmcA4gyQEdglha2ajdAKs75QBwhQED4w5rkSbAoQGLhNCC9JCRAv73io3A3MEACJlADeaAvQBpoGuIf0yVAwv6eZDgLJkDKgA6OtEsyQLIx/T4xJj9A3o8y8Ld7MUADbh9zXIovQLdskFb9DTNAamWa6377LkBgC5WtwYU3QJtDlSnG0DNAl2I2Jkz0NUB+/+h7SjU1QMJG1CTrEzZA1r7IQct5PkARYVLFUIQ0QA3tKlUfvjJAkKPx2U8CKkAQUBJ+dmM+QOQI0rueAzNANKJnGEv0PUCmkt+LeggwQFCe0pKKZzZAsK3FkN97M0AxWW8qgog+QO5DKzS9fzpAlYYA28jSPEACiCbh00c7QIKXTGSwvzRA/0HH1R0kOEC0sUzoN54/QO1DBd/fOTdAZjSi+AdgOEDIb4OaHlw2QLxaqfQicDRAlELZrxCaMUBc7eLQQiUtQP6bgknIkT1AmwfihkeFQUAyAkVzQ0pBQJ5JaHVD0DhA1hhAP3wdJ0CrgB5MMRk3QGd5jHcqPzZAKs75QBwhQEDN8rYBi2s1QNoIib3VWTxA9iTJC0JLM0CooDVaAZ1CQOjR/5yFvSxAn4K9F+3BQECD5pUtV0EmQC3A79fvTEBAlWGaAxHcQEBWO24QVnpAQL+94qNwNzBAGmga4h/TJUDC/p5kOAsmQMqADo60SzJA3o8y8Ld7MUADbh9zXIovQJdiNiZM9DVAfv/oe0o1NUAN7SpVH74yQJCj8dlPAipAEFASfnZjPkDkCNK7ngMzQDSiZxhL9D1AUJ7SkopnNkD/QcfVHSQ4QLSxTOg3nj9A7UMF3985N0C8Wqn0InA0QJ5JaHVD0DhA1hhAP3wdJ0CrgB5MMRk3QM3ytgGLazVA9iTJC0JLM0Do0f+chb0sQIPmlS1XQSZALcDv1+9MQECVYZoDEdxAQFY7bhBWekBAOqmng+y+NkDQM45qYJ43QNRnTq3UNjJAAvlJnAOIMkBHYJYWtmo3QPjDmuRJsChAYuE0IL0kJEACJlADeaAvQLIx/T4xJj9At2yQVv0NM0BqZZrrfvsuQGALla3BhTdAm0OVKcbQM0B0CeXcqno7QMJG1CTrEzZA1r7IQct5PkARYVLFUIQ0QKaS34t6CDBAsK3FkN97M0CCl0xksL80QEj3a1+QmD1AZjSi+AdgOEDIb4OaHlw2QJRC2a8QmjFAXO3i0EIlLUCbB+KGR4VBQDICRXNDSkFAZ3mMdyo/NkAqzvlAHCFAQJ+CvRftwUBA",
        "encoding": "base64",
        "path": [
         "_data",
         0,
         "line",
         "color",
         "buffer"
        ]
       }
      ],
      "model_module": "plotlywidget",
      "model_module_version": "^4.14.3",
      "model_name": "FigureModel",
      "state": {
       "_config": {
        "plotlyServerURL": "https://plot.ly"
       },
       "_data": [
        {
         "dimensions": [
          {
           "label": "(L) Expand Amount",
           "name": "expand_capacity",
           "range": [
            10.071755415396812,
            37.226603771386465
           ],
           "values": {
            "dtype": "float64",
            "shape": [
             123
            ]
           }
          },
          {
           "label": "(L) Amortization",
           "name": "amortization_period",
           "range": [
            43,
            50
           ],
           "values": [
            48,
            50,
            50,
            50,
            50,
            50,
            43,
            50,
            50,
            50,
            50,
            50,
            50,
            50,
            50,
            50,
            50,
            50,
            50,
            50,
            50,
            50,
            50,
            50,
            50,
            50,
            50,
            50,
            50,
            50,
            50,
            50,
            50,
            50,
            50,
            50,
            50,
            50,
            50,
            50,
            50,
            50,
            50,
            50,
            50,
            50,
            50,
            50,
            50,
            50,
            50,
            50,
            50,
            50,
            50,
            50,
            50,
            50,
            50,
            50,
            50,
            50,
            50,
            50,
            50,
            50,
            50,
            50,
            50,
            50,
            50,
            50,
            50,
            50,
            50,
            50,
            50,
            50,
            50,
            50,
            50,
            50,
            50,
            50,
            50,
            50,
            50,
            50,
            50,
            50,
            50,
            50,
            50,
            50,
            50,
            50,
            50,
            50,
            50,
            50,
            50,
            50,
            50,
            50,
            50,
            50,
            50,
            50,
            50,
            50,
            50,
            50,
            50,
            50,
            50,
            50,
            50,
            50,
            50,
            50,
            50,
            50,
            50
           ]
          },
          {
           "label": "(L) Debt Type",
           "name": "debt_type",
           "range": [
            -0.1,
            2.1
           ],
           "ticktext": [
            "",
            "GO Bond",
            "Rev Bond",
            "Paygo",
            ""
           ],
           "tickvals": [
            -0.1,
            0,
            1,
            2,
            2.1
           ],
           "values": {
            "dtype": "float64",
            "shape": [
             123
            ]
           }
          },
          {
           "label": "(L) Rate Lock",
           "name": "interest_rate_lock",
           "range": [
            -0.1,
            1.1
           ],
           "ticktext": [
            "",
            "False",
            "True",
            ""
           ],
           "tickvals": [
            -0.1,
            0,
            1,
            1.1
           ],
           "values": {
            "dtype": "float64",
            "shape": [
             123
            ]
           }
          },
          {
           "label": "(M+) Mean Net Benefits",
           "name": "Mean Net Benefits",
           "range": [
            4.332130278062011,
            91.65793645880686
           ],
           "values": {
            "dtype": "float64",
            "shape": [
             123
            ]
           }
          },
          {
           "label": "(M+) 5%ile Net Benefits",
           "name": "5%ile Net Benefits",
           "range": [
            -203.46279755931454,
            -25.082870500358645
           ],
           "values": {
            "dtype": "float64",
            "shape": [
             123
            ]
           }
          },
          {
           "label": "(M-) Possibility of<br>   Negative Net Benefits",
           "name": "Possibility of Negative Net Benefits",
           "range": [
            68.4,
            36.4
           ],
           "values": {
            "dtype": "float64",
            "shape": [
             123
            ]
           }
          },
          {
           "label": "(M-) 95%ile Capacity<br>   Expansion Cost",
           "name": "95%ile Capacity Expansion Cost",
           "range": [
            252.27765049077516,
            36.587818897649726
           ],
           "values": {
            "dtype": "float64",
            "shape": [
             123
            ]
           }
          },
          {
           "label": "(M+) Expected Time<br>   Savings",
           "name": "Expected Time Savings",
           "range": [
            7.533309242356898,
            16.184583455555995
           ],
           "values": {
            "dtype": "float64",
            "shape": [
             123
            ]
           }
          },
          {
           "label": "(M) 99%ile Present Cost",
           "name": "99%ile Present Cost",
           "range": [
            1454.6225469101005,
            5376.486516736355
           ],
           "values": {
            "dtype": "float64",
            "shape": [
             123
            ]
           }
          }
         ],
         "domain": {
          "y": [
           0,
           0.7
          ]
         },
         "labelangle": -90,
         "labelfont": {
          "color": "#AA0000"
         },
         "line": {
          "cmax": 37.226603771386465,
          "cmin": 10.071755415396812,
          "color": {
           "dtype": "float64",
           "shape": [
            123
           ]
          },
          "colorbar": {
           "title": {
            "side": "right",
            "text": "expand_capacity"
           }
          },
          "colorscale": [
           [
            0.0,
            "#440154"
           ],
           [
            0.1111111111111111,
            "#482878"
           ],
           [
            0.2222222222222222,
            "#3e4989"
           ],
           [
            0.3333333333333333,
            "#31688e"
           ],
           [
            0.4444444444444444,
            "#26828e"
           ],
           [
            0.5555555555555556,
            "#1f9e89"
           ],
           [
            0.6666666666666666,
            "#35b779"
           ],
           [
            0.7777777777777778,
            "#6ece58"
           ],
           [
            0.8888888888888888,
            "#b5de2b"
           ],
           [
            1.0,
            "#fde725"
           ]
          ],
          "reversescale": true,
          "showscale": true
         },
         "type": "parcoords",
         "uid": "f081506e-647e-474f-ad02-bc157793de4b"
        }
       ],
       "_dom_classes": [],
       "_js2py_layoutDelta": {},
       "_js2py_pointsCallback": {},
       "_js2py_relayout": {},
       "_js2py_restyle": {},
       "_js2py_traceDeltas": {},
       "_js2py_update": {},
       "_last_layout_edit_id": 1,
       "_last_trace_edit_id": 1,
       "_layout": {},
       "_model_module": "plotlywidget",
       "_model_module_version": "^4.14.3",
       "_model_name": "FigureModel",
       "_py2js_addTraces": {},
       "_py2js_animate": {},
       "_py2js_deleteTraces": {},
       "_py2js_moveTraces": {},
       "_py2js_relayout": null,
       "_py2js_removeLayoutProps": {},
       "_py2js_removeTraceProps": {},
       "_py2js_restyle": null,
       "_py2js_update": {},
       "_view_count": 0,
       "_view_module": "plotlywidget",
       "_view_module_version": "^4.14.3",
       "_view_name": "FigureView"
      }
     },
     "533e2420b04d4cf3b2369065ee762bff": {
      "model_module": "@jupyter-widgets/controls",
      "model_module_version": "1.5.0",
      "model_name": "DescriptionStyleModel",
      "state": {
       "_model_module": "@jupyter-widgets/controls",
       "_model_module_version": "1.5.0",
       "_model_name": "DescriptionStyleModel",
       "_view_count": null,
       "_view_module": "@jupyter-widgets/base",
       "_view_module_version": "1.2.0",
       "_view_name": "StyleView",
       "description_width": ""
      }
     },
     "567e5a1802714a4a97a8bffc793add17": {
      "model_module": "@jupyter-widgets/base",
      "model_module_version": "1.2.0",
      "model_name": "LayoutModel",
      "state": {
       "_model_module": "@jupyter-widgets/base",
       "_model_module_version": "1.2.0",
       "_model_name": "LayoutModel",
       "_view_count": null,
       "_view_module": "@jupyter-widgets/base",
       "_view_module_version": "1.2.0",
       "_view_name": "LayoutView",
       "align_content": null,
       "align_items": null,
       "align_self": null,
       "border": null,
       "bottom": null,
       "display": null,
       "flex": null,
       "flex_flow": null,
       "grid_area": null,
       "grid_auto_columns": null,
       "grid_auto_flow": null,
       "grid_auto_rows": null,
       "grid_column": null,
       "grid_gap": null,
       "grid_row": null,
       "grid_template_areas": null,
       "grid_template_columns": null,
       "grid_template_rows": null,
       "height": null,
       "justify_content": null,
       "justify_items": null,
       "left": null,
       "margin": null,
       "max_height": null,
       "max_width": null,
       "min_height": null,
       "min_width": null,
       "object_fit": null,
       "object_position": null,
       "order": null,
       "overflow": null,
       "overflow_x": null,
       "overflow_y": null,
       "padding": null,
       "right": null,
       "top": null,
       "visibility": null,
       "width": null
      }
     },
     "5711ed6208ae4aed93f5cd892f04d0b8": {
      "model_module": "@jupyter-widgets/controls",
      "model_module_version": "1.5.0",
      "model_name": "BoxModel",
      "state": {
       "_dom_classes": [],
       "_model_module": "@jupyter-widgets/controls",
       "_model_module_version": "1.5.0",
       "_model_name": "BoxModel",
       "_view_count": null,
       "_view_module": "@jupyter-widgets/controls",
       "_view_module_version": "1.5.0",
       "_view_name": "BoxView",
       "box_style": "",
       "children": [
        "IPY_MODEL_229adae8d06f41049b0228b635d5f5d8",
        "IPY_MODEL_c32808875d3d443c91bab55db3496dad",
        "IPY_MODEL_c97f2626dd68466eb151084c6ce55857",
        "IPY_MODEL_a7d910b6a92e474d96eee872023ff820",
        "IPY_MODEL_6b7e6be9eea74e7993dad37163410263",
        "IPY_MODEL_8d962557961c45fb85e8704d3c836d31",
        "IPY_MODEL_ee6c780a8f2542f881562172f13a6d8a",
        "IPY_MODEL_9fff9ed4082245bbae6135b1bd8acaa7",
        "IPY_MODEL_769b43dd86ee4bb693ef14cec2a38486"
       ],
       "layout": "IPY_MODEL_aed0d802e5f04b3bb61d9a09236baceb"
      }
     },
     "574e4af3991b433f85614ec33bae8f12": {
      "model_module": "@jupyter-widgets/base",
      "model_module_version": "1.2.0",
      "model_name": "LayoutModel",
      "state": {
       "_model_module": "@jupyter-widgets/base",
       "_model_module_version": "1.2.0",
       "_model_name": "LayoutModel",
       "_view_count": null,
       "_view_module": "@jupyter-widgets/base",
       "_view_module_version": "1.2.0",
       "_view_name": "LayoutView",
       "align_content": null,
       "align_items": null,
       "align_self": null,
       "border": null,
       "bottom": null,
       "display": null,
       "flex": null,
       "flex_flow": null,
       "grid_area": null,
       "grid_auto_columns": null,
       "grid_auto_flow": null,
       "grid_auto_rows": null,
       "grid_column": null,
       "grid_gap": null,
       "grid_row": null,
       "grid_template_areas": null,
       "grid_template_columns": null,
       "grid_template_rows": null,
       "height": null,
       "justify_content": null,
       "justify_items": null,
       "left": null,
       "margin": null,
       "max_height": null,
       "max_width": null,
       "min_height": null,
       "min_width": null,
       "object_fit": null,
       "object_position": null,
       "order": null,
       "overflow": null,
       "overflow_x": null,
       "overflow_y": null,
       "padding": null,
       "right": null,
       "top": null,
       "visibility": null,
       "width": null
      }
     },
     "57b50a5aa457447d9d3c16063ec50fb3": {
      "model_module": "@jupyter-widgets/controls",
      "model_module_version": "1.5.0",
      "model_name": "BoxModel",
      "state": {
       "_dom_classes": [],
       "_model_module": "@jupyter-widgets/controls",
       "_model_module_version": "1.5.0",
       "_model_name": "BoxModel",
       "_view_count": null,
       "_view_module": "@jupyter-widgets/controls",
       "_view_module_version": "1.5.0",
       "_view_name": "BoxView",
       "box_style": "",
       "children": [
        "IPY_MODEL_7f368584cc5d450ba889370bf3a9cafb",
        "IPY_MODEL_ffd0a8632c4443a3bf9370e49acebac9",
        "IPY_MODEL_1865948dd5cc4932b72acd89d9f9b9ae",
        "IPY_MODEL_d56f172ad8594c24a94d905d2a19ad76",
        "IPY_MODEL_c46f01a3699b4a8c99520c7847d00790",
        "IPY_MODEL_46603e3a96e548859e54dc1d55c1370d",
        "IPY_MODEL_5e4a1b74046b4e72b682e2d435d8e65a",
        "IPY_MODEL_abdb6293c80d4f589b83cb820d5a0b11",
        "IPY_MODEL_6b23830c05e04d4e995b46a50b81f5d5"
       ],
       "layout": "IPY_MODEL_d2b2603e6f95446795c8b4a058fe4890"
      }
     },
     "58de277492fc476a9cb23f280ba21d33": {
      "model_module": "@jupyter-widgets/controls",
      "model_module_version": "1.5.0",
      "model_name": "HBoxModel",
      "state": {
       "_dom_classes": [],
       "_model_module": "@jupyter-widgets/controls",
       "_model_module_version": "1.5.0",
       "_model_name": "HBoxModel",
       "_view_count": null,
       "_view_module": "@jupyter-widgets/controls",
       "_view_module_version": "1.5.0",
       "_view_name": "HBoxView",
       "box_style": "",
       "children": [
        "IPY_MODEL_e392d81a0e1c485480f60829aabae01a",
        "IPY_MODEL_faf5d5bcb68e443fbc455c78823a09c8"
       ],
       "layout": "IPY_MODEL_ee15a305f0fe49e88444b754d32dd2aa"
      }
     },
     "5908e92226eb40b18c8f9b2085d02667": {
      "model_module": "@jupyter-widgets/controls",
      "model_module_version": "1.5.0",
      "model_name": "DropdownModel",
      "state": {
       "_dom_classes": [],
       "_model_module": "@jupyter-widgets/controls",
       "_model_module_version": "1.5.0",
       "_model_name": "DropdownModel",
       "_options_labels": [
        " ",
        "   Clear Selection Constraints",
        "-- (X) Uncertainties --",
        "   Show All Exogenous Uncertainties",
        "   Hide All Exogenous Uncertainties",
        "-- (L) Levers --",
        "   Show All Policy Levers",
        "   Hide All Policy Levers",
        "-- (M) Measures --",
        "   Show All Performance Measures",
        "   Hide All Performance Measures"
       ],
       "_view_count": null,
       "_view_module": "@jupyter-widgets/controls",
       "_view_module_version": "1.5.0",
       "_view_name": "DropdownView",
       "description": "View:",
       "description_tooltip": null,
       "disabled": false,
       "index": 0,
       "layout": "IPY_MODEL_7397ae17a5b34879882ea9b19e34362c",
       "style": "IPY_MODEL_1d1b4818bfe24bee9be0f8dbc188e45c"
      }
     },
     "5c1bca0ad04d480a8b2deed60eaa66b9": {
      "model_module": "@jupyter-widgets/base",
      "model_module_version": "1.2.0",
      "model_name": "LayoutModel",
      "state": {
       "_model_module": "@jupyter-widgets/base",
       "_model_module_version": "1.2.0",
       "_model_name": "LayoutModel",
       "_view_count": null,
       "_view_module": "@jupyter-widgets/base",
       "_view_module_version": "1.2.0",
       "_view_name": "LayoutView",
       "align_content": null,
       "align_items": null,
       "align_self": null,
       "border": null,
       "bottom": null,
       "display": null,
       "flex": null,
       "flex_flow": "row wrap",
       "grid_area": null,
       "grid_auto_columns": null,
       "grid_auto_flow": null,
       "grid_auto_rows": null,
       "grid_column": null,
       "grid_gap": null,
       "grid_row": null,
       "grid_template_areas": null,
       "grid_template_columns": null,
       "grid_template_rows": null,
       "height": null,
       "justify_content": null,
       "justify_items": null,
       "left": null,
       "margin": null,
       "max_height": null,
       "max_width": null,
       "min_height": null,
       "min_width": null,
       "object_fit": null,
       "object_position": null,
       "order": null,
       "overflow": null,
       "overflow_x": null,
       "overflow_y": null,
       "padding": null,
       "right": null,
       "top": null,
       "visibility": null,
       "width": null
      }
     },
     "5c669bbedc544792b13db81d9828d81b": {
      "model_module": "@jupyter-widgets/controls",
      "model_module_version": "1.5.0",
      "model_name": "DescriptionStyleModel",
      "state": {
       "_model_module": "@jupyter-widgets/controls",
       "_model_module_version": "1.5.0",
       "_model_name": "DescriptionStyleModel",
       "_view_count": null,
       "_view_module": "@jupyter-widgets/base",
       "_view_module_version": "1.2.0",
       "_view_name": "StyleView",
       "description_width": ""
      }
     },
     "5d61d2054e054f6c968f1bcf86b88e3b": {
      "model_module": "@jupyter-widgets/controls",
      "model_module_version": "1.5.0",
      "model_name": "CheckboxModel",
      "state": {
       "_dom_classes": [],
       "_model_module": "@jupyter-widgets/controls",
       "_model_module_version": "1.5.0",
       "_model_name": "CheckboxModel",
       "_view_count": null,
       "_view_module": "@jupyter-widgets/controls",
       "_view_module_version": "1.5.0",
       "_view_name": "CheckboxView",
       "description": "(X) beta",
       "description_tooltip": "beta",
       "disabled": false,
       "indent": true,
       "layout": "IPY_MODEL_567e5a1802714a4a97a8bffc793add17",
       "name": "beta",
       "style": "IPY_MODEL_51532bab1544475c9403d7373defe539",
       "value": true
      }
     },
     "5e4a1b74046b4e72b682e2d435d8e65a": {
      "model_module": "@jupyter-widgets/controls",
      "model_module_version": "1.5.0",
      "model_name": "CheckboxModel",
      "state": {
       "_dom_classes": [],
       "_model_module": "@jupyter-widgets/controls",
       "_model_module_version": "1.5.0",
       "_model_name": "CheckboxModel",
       "_view_count": null,
       "_view_module": "@jupyter-widgets/controls",
       "_view_module_version": "1.5.0",
       "_view_name": "CheckboxView",
       "description": "(M+) Value Time Save",
       "description_tooltip": "value_of_time_savings",
       "disabled": false,
       "indent": true,
       "layout": "IPY_MODEL_47912856b0d74ed19f8d89a21fec610f",
       "name": "value_of_time_savings",
       "style": "IPY_MODEL_e7102a323c7c48f68b82d6da7bebb887",
       "value": true
      }
     },
     "5eea75bea1bc4461a8e6ce5af113d62f": {
      "model_module": "@jupyter-widgets/controls",
      "model_module_version": "1.5.0",
      "model_name": "DescriptionStyleModel",
      "state": {
       "_model_module": "@jupyter-widgets/controls",
       "_model_module_version": "1.5.0",
       "_model_name": "DescriptionStyleModel",
       "_view_count": null,
       "_view_module": "@jupyter-widgets/base",
       "_view_module_version": "1.2.0",
       "_view_name": "StyleView",
       "description_width": ""
      }
     },
     "60bef755f2754631b7acda570697073a": {
      "model_module": "@jupyter-widgets/base",
      "model_module_version": "1.2.0",
      "model_name": "LayoutModel",
      "state": {
       "_model_module": "@jupyter-widgets/base",
       "_model_module_version": "1.2.0",
       "_model_name": "LayoutModel",
       "_view_count": null,
       "_view_module": "@jupyter-widgets/base",
       "_view_module_version": "1.2.0",
       "_view_name": "LayoutView",
       "align_content": null,
       "align_items": null,
       "align_self": null,
       "border": null,
       "bottom": null,
       "display": null,
       "flex": null,
       "flex_flow": null,
       "grid_area": null,
       "grid_auto_columns": null,
       "grid_auto_flow": null,
       "grid_auto_rows": null,
       "grid_column": null,
       "grid_gap": null,
       "grid_row": null,
       "grid_template_areas": null,
       "grid_template_columns": null,
       "grid_template_rows": null,
       "height": null,
       "justify_content": null,
       "justify_items": null,
       "left": null,
       "margin": null,
       "max_height": null,
       "max_width": null,
       "min_height": null,
       "min_width": null,
       "object_fit": null,
       "object_position": null,
       "order": null,
       "overflow": null,
       "overflow_x": null,
       "overflow_y": null,
       "padding": null,
       "right": null,
       "top": null,
       "visibility": null,
       "width": null
      }
     },
     "613e740eb735412788f6c6dc5d855fd0": {
      "model_module": "@jupyter-widgets/controls",
      "model_module_version": "1.5.0",
      "model_name": "DescriptionStyleModel",
      "state": {
       "_model_module": "@jupyter-widgets/controls",
       "_model_module_version": "1.5.0",
       "_model_name": "DescriptionStyleModel",
       "_view_count": null,
       "_view_module": "@jupyter-widgets/base",
       "_view_module_version": "1.2.0",
       "_view_name": "StyleView",
       "description_width": ""
      }
     },
     "63a7ddf003a64b60bcbb5d2c9fdf27cd": {
      "model_module": "plotlywidget",
      "model_module_version": "^4.14.3",
      "model_name": "FigureModel",
      "state": {
       "_config": {
        "plotlyServerURL": "https://plot.ly"
       },
       "_data": [
        {
         "fill": "tonexty",
         "line": {
          "shape": "linear"
         },
         "mode": "lines+markers",
         "name": "",
         "type": "scatter",
         "uid": "ec64f6ee-5377-4e4e-9fc5-f522d7fbb184"
        }
       ],
       "_dom_classes": [],
       "_js2py_layoutDelta": {},
       "_js2py_pointsCallback": {},
       "_js2py_relayout": {},
       "_js2py_restyle": {},
       "_js2py_traceDeltas": {},
       "_js2py_update": {},
       "_last_layout_edit_id": 4,
       "_last_trace_edit_id": 1,
       "_layout": {
        "hovermode": "closest",
        "showlegend": false,
        "title": {
         "text": "Number of Solutions"
        }
       },
       "_model_module": "plotlywidget",
       "_model_module_version": "^4.14.3",
       "_model_name": "FigureModel",
       "_py2js_addTraces": {},
       "_py2js_animate": {},
       "_py2js_deleteTraces": {},
       "_py2js_moveTraces": {},
       "_py2js_relayout": null,
       "_py2js_removeLayoutProps": {},
       "_py2js_removeTraceProps": {},
       "_py2js_restyle": {},
       "_py2js_update": null,
       "_view_count": 0,
       "_view_module": "plotlywidget",
       "_view_module_version": "^4.14.3",
       "_view_name": "FigureView"
      }
     },
     "6405e3e61e764ddf903bbe792cef822b": {
      "model_module": "@jupyter-widgets/controls",
      "model_module_version": "1.5.0",
      "model_name": "CheckboxModel",
      "state": {
       "_dom_classes": [],
       "_model_module": "@jupyter-widgets/controls",
       "_model_module_version": "1.5.0",
       "_model_name": "CheckboxModel",
       "_view_count": null,
       "_view_module": "@jupyter-widgets/controls",
       "_view_module_version": "1.5.0",
       "_view_name": "CheckboxView",
       "description": "(L) Debt Type",
       "description_tooltip": "debt_type",
       "disabled": false,
       "indent": true,
       "layout": "IPY_MODEL_df07c6a28cbb48f899ab748f63d6f661",
       "name": "debt_type",
       "style": "IPY_MODEL_d8ce2aa10d864860908543adafc046b3",
       "value": true
      }
     },
     "64fe2f6a3092421595ec3c923b87fc52": {
      "model_module": "@jupyter-widgets/controls",
      "model_module_version": "1.5.0",
      "model_name": "DescriptionStyleModel",
      "state": {
       "_model_module": "@jupyter-widgets/controls",
       "_model_module_version": "1.5.0",
       "_model_name": "DescriptionStyleModel",
       "_view_count": null,
       "_view_module": "@jupyter-widgets/base",
       "_view_module_version": "1.2.0",
       "_view_name": "StyleView",
       "description_width": ""
      }
     },
     "657f8ff5c63f451cae139c1078423448": {
      "model_module": "@jupyter-widgets/controls",
      "model_module_version": "1.5.0",
      "model_name": "DropdownModel",
      "state": {
       "_dom_classes": [],
       "_model_module": "@jupyter-widgets/controls",
       "_model_module_version": "1.5.0",
       "_model_name": "DropdownModel",
       "_options_labels": [
        " ",
        "   Clear Selection Constraints",
        "-- (X) Uncertainties --",
        "   Show All Exogenous Uncertainties",
        "   Hide All Exogenous Uncertainties",
        "-- (L) Levers --",
        "   Show All Policy Levers",
        "   Hide All Policy Levers",
        "-- (M) Measures --",
        "   Show All Performance Measures",
        "   Hide All Performance Measures"
       ],
       "_view_count": null,
       "_view_module": "@jupyter-widgets/controls",
       "_view_module_version": "1.5.0",
       "_view_name": "DropdownView",
       "description": "View:",
       "description_tooltip": null,
       "disabled": false,
       "index": 0,
       "layout": "IPY_MODEL_c6b4359f76464f3e83aa196862a9d240",
       "style": "IPY_MODEL_9ae47f262e7a46cbac2bf30aa5f42b05"
      }
     },
     "662cd2e7ac154967adb2d9fd89300e4c": {
      "model_module": "@jupyter-widgets/controls",
      "model_module_version": "1.5.0",
      "model_name": "HTMLModel",
      "state": {
       "_dom_classes": [],
       "_model_module": "@jupyter-widgets/controls",
       "_model_module_version": "1.5.0",
       "_model_name": "HTMLModel",
       "_view_count": null,
       "_view_module": "@jupyter-widgets/controls",
       "_view_module_version": "1.5.0",
       "_view_name": "HTMLView",
       "description": "",
       "description_tooltip": null,
       "layout": "IPY_MODEL_3e7898b4b80a41df9739cb413f9a0eec",
       "placeholder": "​",
       "style": "IPY_MODEL_f35eba47602f4108a4d13719ba3458bb",
       "value": "\n\t\t\t(M-) Performance Measure to Minimize<br>\n\t\t\t(M+) Performance Measure to Maximize<br>\n\t\t\t(M) Performance Measure without preferred direction<br>\n\t\t\t(L) Policy Lever<br>\n\t\t\t(X) Exogenous Uncertainty\n\t\t"
      }
     },
     "6678e69fe6d34e16a071ce27de6b53e0": {
      "model_module": "@jupyter-widgets/controls",
      "model_module_version": "1.5.0",
      "model_name": "DescriptionStyleModel",
      "state": {
       "_model_module": "@jupyter-widgets/controls",
       "_model_module_version": "1.5.0",
       "_model_name": "DescriptionStyleModel",
       "_view_count": null,
       "_view_module": "@jupyter-widgets/base",
       "_view_module_version": "1.2.0",
       "_view_name": "StyleView",
       "description_width": ""
      }
     },
     "66ef94f304de4a59bc70954cc2c2b68a": {
      "model_module": "@jupyter-widgets/controls",
      "model_module_version": "1.5.0",
      "model_name": "DescriptionStyleModel",
      "state": {
       "_model_module": "@jupyter-widgets/controls",
       "_model_module_version": "1.5.0",
       "_model_name": "DescriptionStyleModel",
       "_view_count": null,
       "_view_module": "@jupyter-widgets/base",
       "_view_module_version": "1.2.0",
       "_view_name": "StyleView",
       "description_width": ""
      }
     },
     "6758f81967d54600b96deda45a8ec068": {
      "model_module": "@jupyter-widgets/base",
      "model_module_version": "1.2.0",
      "model_name": "LayoutModel",
      "state": {
       "_model_module": "@jupyter-widgets/base",
       "_model_module_version": "1.2.0",
       "_model_name": "LayoutModel",
       "_view_count": null,
       "_view_module": "@jupyter-widgets/base",
       "_view_module_version": "1.2.0",
       "_view_name": "LayoutView",
       "align_content": null,
       "align_items": null,
       "align_self": null,
       "border": null,
       "bottom": null,
       "display": null,
       "flex": null,
       "flex_flow": null,
       "grid_area": null,
       "grid_auto_columns": null,
       "grid_auto_flow": null,
       "grid_auto_rows": null,
       "grid_column": null,
       "grid_gap": null,
       "grid_row": null,
       "grid_template_areas": null,
       "grid_template_columns": null,
       "grid_template_rows": null,
       "height": null,
       "justify_content": null,
       "justify_items": null,
       "left": null,
       "margin": null,
       "max_height": null,
       "max_width": null,
       "min_height": null,
       "min_width": null,
       "object_fit": null,
       "object_position": null,
       "order": null,
       "overflow": null,
       "overflow_x": null,
       "overflow_y": null,
       "padding": null,
       "right": null,
       "top": null,
       "visibility": null,
       "width": null
      }
     },
     "67a1acdc23624ca9b004ec8a941029c0": {
      "model_module": "@jupyter-widgets/base",
      "model_module_version": "1.2.0",
      "model_name": "LayoutModel",
      "state": {
       "_model_module": "@jupyter-widgets/base",
       "_model_module_version": "1.2.0",
       "_model_name": "LayoutModel",
       "_view_count": null,
       "_view_module": "@jupyter-widgets/base",
       "_view_module_version": "1.2.0",
       "_view_name": "LayoutView",
       "align_content": null,
       "align_items": null,
       "align_self": null,
       "border": null,
       "bottom": null,
       "display": null,
       "flex": null,
       "flex_flow": null,
       "grid_area": null,
       "grid_auto_columns": null,
       "grid_auto_flow": null,
       "grid_auto_rows": null,
       "grid_column": null,
       "grid_gap": null,
       "grid_row": null,
       "grid_template_areas": null,
       "grid_template_columns": null,
       "grid_template_rows": null,
       "height": null,
       "justify_content": null,
       "justify_items": null,
       "left": null,
       "margin": null,
       "max_height": null,
       "max_width": null,
       "min_height": null,
       "min_width": null,
       "object_fit": null,
       "object_position": null,
       "order": null,
       "overflow": null,
       "overflow_x": null,
       "overflow_y": null,
       "padding": null,
       "right": null,
       "top": null,
       "visibility": null,
       "width": null
      }
     },
     "680b5408770242cd9c83ab4dc136a295": {
      "model_module": "@jupyter-widgets/controls",
      "model_module_version": "1.5.0",
      "model_name": "DescriptionStyleModel",
      "state": {
       "_model_module": "@jupyter-widgets/controls",
       "_model_module_version": "1.5.0",
       "_model_name": "DescriptionStyleModel",
       "_view_count": null,
       "_view_module": "@jupyter-widgets/base",
       "_view_module_version": "1.2.0",
       "_view_name": "StyleView",
       "description_width": ""
      }
     },
     "69456711ff3c4e8d8d85ffd032339824": {
      "model_module": "@jupyter-widgets/controls",
      "model_module_version": "1.5.0",
      "model_name": "DescriptionStyleModel",
      "state": {
       "_model_module": "@jupyter-widgets/controls",
       "_model_module_version": "1.5.0",
       "_model_name": "DescriptionStyleModel",
       "_view_count": null,
       "_view_module": "@jupyter-widgets/base",
       "_view_module_version": "1.2.0",
       "_view_name": "StyleView",
       "description_width": ""
      }
     },
     "6b23830c05e04d4e995b46a50b81f5d5": {
      "model_module": "@jupyter-widgets/controls",
      "model_module_version": "1.5.0",
      "model_name": "CheckboxModel",
      "state": {
       "_dom_classes": [],
       "_model_module": "@jupyter-widgets/controls",
       "_model_module_version": "1.5.0",
       "_model_name": "CheckboxModel",
       "_view_count": null,
       "_view_module": "@jupyter-widgets/controls",
       "_view_module_version": "1.5.0",
       "_view_name": "CheckboxView",
       "description": "(M-) Cost of Expand",
       "description_tooltip": "cost_of_capacity_expansion",
       "disabled": false,
       "indent": true,
       "layout": "IPY_MODEL_06c8e9eefc5144a6b32f53b1bb1cc0c5",
       "name": "cost_of_capacity_expansion",
       "style": "IPY_MODEL_0b9d09b20a2a4e5991aaa2c8023d0a97",
       "value": true
      }
     },
     "6b7e6be9eea74e7993dad37163410263": {
      "model_module": "@jupyter-widgets/controls",
      "model_module_version": "1.5.0",
      "model_name": "CheckboxModel",
      "state": {
       "_dom_classes": [],
       "_model_module": "@jupyter-widgets/controls",
       "_model_module_version": "1.5.0",
       "_model_name": "CheckboxModel",
       "_view_count": null,
       "_view_module": "@jupyter-widgets/controls",
       "_view_module_version": "1.5.0",
       "_view_name": "CheckboxView",
       "description": "(M+) Mean Net Benefits",
       "description_tooltip": "Mean Net Benefits",
       "disabled": false,
       "indent": true,
       "layout": "IPY_MODEL_3c3e2dd27779429db4aba9f1d11f55bc",
       "name": "Mean Net Benefits",
       "style": "IPY_MODEL_3ed9bfa251704575a3b692e9cd0beb7f",
       "value": true
      }
     },
     "6e0b748cbdec4e5a819b52ca766c89bb": {
      "model_module": "@jupyter-widgets/controls",
      "model_module_version": "1.5.0",
      "model_name": "DescriptionStyleModel",
      "state": {
       "_model_module": "@jupyter-widgets/controls",
       "_model_module_version": "1.5.0",
       "_model_name": "DescriptionStyleModel",
       "_view_count": null,
       "_view_module": "@jupyter-widgets/base",
       "_view_module_version": "1.2.0",
       "_view_name": "StyleView",
       "description_width": ""
      }
     },
     "7082fe7085c94f2c8acf1bce5d9c5b74": {
      "model_module": "@jupyter-widgets/controls",
      "model_module_version": "1.5.0",
      "model_name": "CheckboxModel",
      "state": {
       "_dom_classes": [],
       "_model_module": "@jupyter-widgets/controls",
       "_model_module_version": "1.5.0",
       "_model_name": "CheckboxModel",
       "_view_count": null,
       "_view_module": "@jupyter-widgets/controls",
       "_view_module_version": "1.5.0",
       "_view_name": "CheckboxView",
       "description": "(M+) Net Benefits",
       "description_tooltip": "net_benefits",
       "disabled": false,
       "indent": true,
       "layout": "IPY_MODEL_c609eba0483a4399b38dfbf65a8dba58",
       "name": "net_benefits",
       "style": "IPY_MODEL_64fe2f6a3092421595ec3c923b87fc52",
       "value": true
      }
     },
     "7397ae17a5b34879882ea9b19e34362c": {
      "model_module": "@jupyter-widgets/base",
      "model_module_version": "1.2.0",
      "model_name": "LayoutModel",
      "state": {
       "_model_module": "@jupyter-widgets/base",
       "_model_module_version": "1.2.0",
       "_model_name": "LayoutModel",
       "_view_count": null,
       "_view_module": "@jupyter-widgets/base",
       "_view_module_version": "1.2.0",
       "_view_name": "LayoutView",
       "align_content": null,
       "align_items": null,
       "align_self": null,
       "border": null,
       "bottom": null,
       "display": null,
       "flex": null,
       "flex_flow": null,
       "grid_area": null,
       "grid_auto_columns": null,
       "grid_auto_flow": null,
       "grid_auto_rows": null,
       "grid_column": null,
       "grid_gap": null,
       "grid_row": null,
       "grid_template_areas": null,
       "grid_template_columns": null,
       "grid_template_rows": null,
       "height": null,
       "justify_content": null,
       "justify_items": null,
       "left": null,
       "margin": null,
       "max_height": null,
       "max_width": null,
       "min_height": null,
       "min_width": null,
       "object_fit": null,
       "object_position": null,
       "order": null,
       "overflow": null,
       "overflow_x": null,
       "overflow_y": null,
       "padding": null,
       "right": null,
       "top": null,
       "visibility": null,
       "width": null
      }
     },
     "74a2ded9347547c7941aaa4ca0492af5": {
      "model_module": "@jupyter-widgets/controls",
      "model_module_version": "1.5.0",
      "model_name": "HBoxModel",
      "state": {
       "_dom_classes": [],
       "_model_module": "@jupyter-widgets/controls",
       "_model_module_version": "1.5.0",
       "_model_name": "HBoxModel",
       "_view_count": null,
       "_view_module": "@jupyter-widgets/controls",
       "_view_module_version": "1.5.0",
       "_view_name": "HBoxView",
       "box_style": "",
       "children": [
        "IPY_MODEL_0e271528d90c47619eaa399a00dd35e9",
        "IPY_MODEL_657f8ff5c63f451cae139c1078423448"
       ],
       "layout": "IPY_MODEL_fef207c303cc4ec58a7a5277c19ceefe"
      }
     },
     "769b43dd86ee4bb693ef14cec2a38486": {
      "model_module": "@jupyter-widgets/controls",
      "model_module_version": "1.5.0",
      "model_name": "CheckboxModel",
      "state": {
       "_dom_classes": [],
       "_model_module": "@jupyter-widgets/controls",
       "_model_module_version": "1.5.0",
       "_model_name": "CheckboxModel",
       "_view_count": null,
       "_view_module": "@jupyter-widgets/controls",
       "_view_module_version": "1.5.0",
       "_view_name": "CheckboxView",
       "description": "(M+) Expected Time Savings",
       "description_tooltip": "Expected Time Savings",
       "disabled": false,
       "indent": true,
       "layout": "IPY_MODEL_847ee282d66149c98844a0ca778b6544",
       "name": "Expected Time Savings",
       "style": "IPY_MODEL_8d1b824a5dc646f3b934e9598617c825",
       "value": true
      }
     },
     "77b1bb4483fe45c892c6b787193739f7": {
      "model_module": "@jupyter-widgets/controls",
      "model_module_version": "1.5.0",
      "model_name": "DescriptionStyleModel",
      "state": {
       "_model_module": "@jupyter-widgets/controls",
       "_model_module_version": "1.5.0",
       "_model_name": "DescriptionStyleModel",
       "_view_count": null,
       "_view_module": "@jupyter-widgets/base",
       "_view_module_version": "1.2.0",
       "_view_name": "StyleView",
       "description_width": ""
      }
     },
     "7a59cb4393664f8c9063fbe73fc99e90": {
      "model_module": "@jupyter-widgets/controls",
      "model_module_version": "1.5.0",
      "model_name": "DescriptionStyleModel",
      "state": {
       "_model_module": "@jupyter-widgets/controls",
       "_model_module_version": "1.5.0",
       "_model_name": "DescriptionStyleModel",
       "_view_count": null,
       "_view_module": "@jupyter-widgets/base",
       "_view_module_version": "1.2.0",
       "_view_name": "StyleView",
       "description_width": ""
      }
     },
     "7af3c33b232e49b0af628442b5cb1f0c": {
      "model_module": "@jupyter-widgets/controls",
      "model_module_version": "1.5.0",
      "model_name": "DescriptionStyleModel",
      "state": {
       "_model_module": "@jupyter-widgets/controls",
       "_model_module_version": "1.5.0",
       "_model_name": "DescriptionStyleModel",
       "_view_count": null,
       "_view_module": "@jupyter-widgets/base",
       "_view_module_version": "1.2.0",
       "_view_name": "StyleView",
       "description_width": ""
      }
     },
     "7eddaf09caec4b008b6dc0b46343b5a1": {
      "model_module": "@jupyter-widgets/controls",
      "model_module_version": "1.5.0",
      "model_name": "DescriptionStyleModel",
      "state": {
       "_model_module": "@jupyter-widgets/controls",
       "_model_module_version": "1.5.0",
       "_model_name": "DescriptionStyleModel",
       "_view_count": null,
       "_view_module": "@jupyter-widgets/base",
       "_view_module_version": "1.2.0",
       "_view_name": "StyleView",
       "description_width": ""
      }
     },
     "7ef957b14cdf40e5b40aaf1d9d2db81f": {
      "model_module": "@jupyter-widgets/controls",
      "model_module_version": "1.5.0",
      "model_name": "CheckboxModel",
      "state": {
       "_dom_classes": [],
       "_model_module": "@jupyter-widgets/controls",
       "_model_module_version": "1.5.0",
       "_model_name": "CheckboxModel",
       "_view_count": null,
       "_view_module": "@jupyter-widgets/controls",
       "_view_module_version": "1.5.0",
       "_view_name": "CheckboxView",
       "description": "(M+) Value Time Save",
       "description_tooltip": "value_of_time_savings",
       "disabled": false,
       "indent": true,
       "layout": "IPY_MODEL_f2f17f80859548658494f2df36eb6be0",
       "name": "value_of_time_savings",
       "style": "IPY_MODEL_533e2420b04d4cf3b2369065ee762bff",
       "value": true
      }
     },
     "7f368584cc5d450ba889370bf3a9cafb": {
      "model_module": "@jupyter-widgets/controls",
      "model_module_version": "1.5.0",
      "model_name": "CheckboxModel",
      "state": {
       "_dom_classes": [],
       "_model_module": "@jupyter-widgets/controls",
       "_model_module_version": "1.5.0",
       "_model_name": "CheckboxModel",
       "_view_count": null,
       "_view_module": "@jupyter-widgets/controls",
       "_view_module_version": "1.5.0",
       "_view_name": "CheckboxView",
       "description": "(L) Expand Amount",
       "description_tooltip": "expand_capacity",
       "disabled": false,
       "indent": true,
       "layout": "IPY_MODEL_6758f81967d54600b96deda45a8ec068",
       "name": "expand_capacity",
       "style": "IPY_MODEL_e5ce6681de284b9e98337b1a18b3ac9e",
       "value": true
      }
     },
     "847ee282d66149c98844a0ca778b6544": {
      "model_module": "@jupyter-widgets/base",
      "model_module_version": "1.2.0",
      "model_name": "LayoutModel",
      "state": {
       "_model_module": "@jupyter-widgets/base",
       "_model_module_version": "1.2.0",
       "_model_name": "LayoutModel",
       "_view_count": null,
       "_view_module": "@jupyter-widgets/base",
       "_view_module_version": "1.2.0",
       "_view_name": "LayoutView",
       "align_content": null,
       "align_items": null,
       "align_self": null,
       "border": null,
       "bottom": null,
       "display": null,
       "flex": null,
       "flex_flow": null,
       "grid_area": null,
       "grid_auto_columns": null,
       "grid_auto_flow": null,
       "grid_auto_rows": null,
       "grid_column": null,
       "grid_gap": null,
       "grid_row": null,
       "grid_template_areas": null,
       "grid_template_columns": null,
       "grid_template_rows": null,
       "height": null,
       "justify_content": null,
       "justify_items": null,
       "left": null,
       "margin": null,
       "max_height": null,
       "max_width": null,
       "min_height": null,
       "min_width": null,
       "object_fit": null,
       "object_position": null,
       "order": null,
       "overflow": null,
       "overflow_x": null,
       "overflow_y": null,
       "padding": null,
       "right": null,
       "top": null,
       "visibility": null,
       "width": null
      }
     },
     "85b880690aaf4fb0acba32bb274d0458": {
      "model_module": "@jupyter-widgets/controls",
      "model_module_version": "1.5.0",
      "model_name": "DescriptionStyleModel",
      "state": {
       "_model_module": "@jupyter-widgets/controls",
       "_model_module_version": "1.5.0",
       "_model_name": "DescriptionStyleModel",
       "_view_count": null,
       "_view_module": "@jupyter-widgets/base",
       "_view_module_version": "1.2.0",
       "_view_name": "StyleView",
       "description_width": ""
      }
     },
     "85d4b4b802334fbcaf279c4458035aaf": {
      "model_module": "@jupyter-widgets/controls",
      "model_module_version": "1.5.0",
      "model_name": "DescriptionStyleModel",
      "state": {
       "_model_module": "@jupyter-widgets/controls",
       "_model_module_version": "1.5.0",
       "_model_name": "DescriptionStyleModel",
       "_view_count": null,
       "_view_module": "@jupyter-widgets/base",
       "_view_module_version": "1.2.0",
       "_view_name": "StyleView",
       "description_width": ""
      }
     },
     "8674e937d087473da3a674268e132896": {
      "model_module": "@jupyter-widgets/controls",
      "model_module_version": "1.5.0",
      "model_name": "DescriptionStyleModel",
      "state": {
       "_model_module": "@jupyter-widgets/controls",
       "_model_module_version": "1.5.0",
       "_model_name": "DescriptionStyleModel",
       "_view_count": null,
       "_view_module": "@jupyter-widgets/base",
       "_view_module_version": "1.2.0",
       "_view_name": "StyleView",
       "description_width": ""
      }
     },
     "86b0e9bdd8f1486ebbf3d51173584529": {
      "model_module": "@jupyter-widgets/controls",
      "model_module_version": "1.5.0",
      "model_name": "AccordionModel",
      "state": {
       "_dom_classes": [],
       "_model_module": "@jupyter-widgets/controls",
       "_model_module_version": "1.5.0",
       "_model_name": "AccordionModel",
       "_titles": {
        "0": "Axes"
       },
       "_view_count": null,
       "_view_module": "@jupyter-widgets/controls",
       "_view_module_version": "1.5.0",
       "_view_name": "AccordionView",
       "box_style": "",
       "children": [
        "IPY_MODEL_b15d5090bb394aa7baed96175c2cedea"
       ],
       "layout": "IPY_MODEL_18c23bd70e07497ca37a8dc8d2d17012",
       "selected_index": null
      }
     },
     "86b804431f1845648aff29af954d72be": {
      "model_module": "@jupyter-widgets/controls",
      "model_module_version": "1.5.0",
      "model_name": "HTMLModel",
      "state": {
       "_dom_classes": [],
       "_model_module": "@jupyter-widgets/controls",
       "_model_module_version": "1.5.0",
       "_model_name": "HTMLModel",
       "_view_count": null,
       "_view_module": "@jupyter-widgets/controls",
       "_view_module_version": "1.5.0",
       "_view_name": "HTMLView",
       "description": "",
       "description_tooltip": null,
       "layout": "IPY_MODEL_0e671557285c481e9afe11cccc51ac48",
       "placeholder": "​",
       "style": "IPY_MODEL_6e0b748cbdec4e5a819b52ca766c89bb",
       "value": "\n\t\t\t(M-) Performance Measure to Minimize<br>\n\t\t\t(M+) Performance Measure to Maximize<br>\n\t\t\t(M) Performance Measure without preferred direction<br>\n\t\t\t(L) Policy Lever<br>\n\t\t\t(X) Exogenous Uncertainty\n\t\t"
      }
     },
     "88352ec25b5d4044b3e7df2d8371b051": {
      "model_module": "@jupyter-widgets/base",
      "model_module_version": "1.2.0",
      "model_name": "LayoutModel",
      "state": {
       "_model_module": "@jupyter-widgets/base",
       "_model_module_version": "1.2.0",
       "_model_name": "LayoutModel",
       "_view_count": null,
       "_view_module": "@jupyter-widgets/base",
       "_view_module_version": "1.2.0",
       "_view_name": "LayoutView",
       "align_content": null,
       "align_items": null,
       "align_self": null,
       "border": null,
       "bottom": null,
       "display": null,
       "flex": null,
       "flex_flow": null,
       "grid_area": null,
       "grid_auto_columns": null,
       "grid_auto_flow": null,
       "grid_auto_rows": null,
       "grid_column": null,
       "grid_gap": null,
       "grid_row": null,
       "grid_template_areas": null,
       "grid_template_columns": null,
       "grid_template_rows": null,
       "height": null,
       "justify_content": null,
       "justify_items": null,
       "left": null,
       "margin": null,
       "max_height": null,
       "max_width": null,
       "min_height": null,
       "min_width": null,
       "object_fit": null,
       "object_position": null,
       "order": null,
       "overflow": null,
       "overflow_x": null,
       "overflow_y": null,
       "padding": null,
       "right": null,
       "top": null,
       "visibility": null,
       "width": null
      }
     },
     "8a6e665d17804d5e9f72cdd98d6a61f3": {
      "model_module": "@jupyter-widgets/output",
      "model_module_version": "1.0.0",
      "model_name": "OutputModel",
      "state": {
       "_dom_classes": [],
       "_model_module": "@jupyter-widgets/output",
       "_model_module_version": "1.0.0",
       "_model_name": "OutputModel",
       "_view_count": null,
       "_view_module": "@jupyter-widgets/output",
       "_view_module_version": "1.0.0",
       "_view_name": "OutputView",
       "layout": "IPY_MODEL_466a9260b6ff48a7949a956ab4566db8",
       "msg_id": "",
       "outputs": []
      }
     },
     "8b477dff7e2243998b23565c752e209d": {
      "model_module": "@jupyter-widgets/base",
      "model_module_version": "1.2.0",
      "model_name": "LayoutModel",
      "state": {
       "_model_module": "@jupyter-widgets/base",
       "_model_module_version": "1.2.0",
       "_model_name": "LayoutModel",
       "_view_count": null,
       "_view_module": "@jupyter-widgets/base",
       "_view_module_version": "1.2.0",
       "_view_name": "LayoutView",
       "align_content": null,
       "align_items": null,
       "align_self": null,
       "border": null,
       "bottom": null,
       "display": null,
       "flex": null,
       "flex_flow": null,
       "grid_area": null,
       "grid_auto_columns": null,
       "grid_auto_flow": null,
       "grid_auto_rows": null,
       "grid_column": null,
       "grid_gap": null,
       "grid_row": null,
       "grid_template_areas": null,
       "grid_template_columns": null,
       "grid_template_rows": null,
       "height": null,
       "justify_content": null,
       "justify_items": null,
       "left": null,
       "margin": null,
       "max_height": null,
       "max_width": null,
       "min_height": null,
       "min_width": null,
       "object_fit": null,
       "object_position": null,
       "order": null,
       "overflow": null,
       "overflow_x": null,
       "overflow_y": null,
       "padding": null,
       "right": null,
       "top": null,
       "visibility": null,
       "width": null
      }
     },
     "8d1b824a5dc646f3b934e9598617c825": {
      "model_module": "@jupyter-widgets/controls",
      "model_module_version": "1.5.0",
      "model_name": "DescriptionStyleModel",
      "state": {
       "_model_module": "@jupyter-widgets/controls",
       "_model_module_version": "1.5.0",
       "_model_name": "DescriptionStyleModel",
       "_view_count": null,
       "_view_module": "@jupyter-widgets/base",
       "_view_module_version": "1.2.0",
       "_view_name": "StyleView",
       "description_width": ""
      }
     },
     "8d962557961c45fb85e8704d3c836d31": {
      "model_module": "@jupyter-widgets/controls",
      "model_module_version": "1.5.0",
      "model_name": "CheckboxModel",
      "state": {
       "_dom_classes": [],
       "_model_module": "@jupyter-widgets/controls",
       "_model_module_version": "1.5.0",
       "_model_name": "CheckboxModel",
       "_view_count": null,
       "_view_module": "@jupyter-widgets/controls",
       "_view_module_version": "1.5.0",
       "_view_name": "CheckboxView",
       "description": "(M+) 5%ile Net Benefits",
       "description_tooltip": "5%ile Net Benefits",
       "disabled": false,
       "indent": true,
       "layout": "IPY_MODEL_e9d5c9249aa448a899370abb45f97b82",
       "name": "5%ile Net Benefits",
       "style": "IPY_MODEL_7a59cb4393664f8c9063fbe73fc99e90",
       "value": true
      }
     },
     "8d9e5a04188a477fa9c5abe9b8b1f363": {
      "model_module": "@jupyter-widgets/controls",
      "model_module_version": "1.5.0",
      "model_name": "DescriptionStyleModel",
      "state": {
       "_model_module": "@jupyter-widgets/controls",
       "_model_module_version": "1.5.0",
       "_model_name": "DescriptionStyleModel",
       "_view_count": null,
       "_view_module": "@jupyter-widgets/base",
       "_view_module_version": "1.2.0",
       "_view_name": "StyleView",
       "description_width": ""
      }
     },
     "90d01dd7b85749a6b0c742c90c4f63b7": {
      "model_module": "@jupyter-widgets/base",
      "model_module_version": "1.2.0",
      "model_name": "LayoutModel",
      "state": {
       "_model_module": "@jupyter-widgets/base",
       "_model_module_version": "1.2.0",
       "_model_name": "LayoutModel",
       "_view_count": null,
       "_view_module": "@jupyter-widgets/base",
       "_view_module_version": "1.2.0",
       "_view_name": "LayoutView",
       "align_content": null,
       "align_items": null,
       "align_self": null,
       "border": null,
       "bottom": null,
       "display": null,
       "flex": null,
       "flex_flow": "row wrap",
       "grid_area": null,
       "grid_auto_columns": null,
       "grid_auto_flow": null,
       "grid_auto_rows": null,
       "grid_column": null,
       "grid_gap": null,
       "grid_row": null,
       "grid_template_areas": null,
       "grid_template_columns": null,
       "grid_template_rows": null,
       "height": null,
       "justify_content": null,
       "justify_items": null,
       "left": null,
       "margin": null,
       "max_height": null,
       "max_width": null,
       "min_height": null,
       "min_width": null,
       "object_fit": null,
       "object_position": null,
       "order": null,
       "overflow": null,
       "overflow_x": null,
       "overflow_y": null,
       "padding": null,
       "right": null,
       "top": null,
       "visibility": null,
       "width": null
      }
     },
     "937d3c1f0ae44f59afd7f3d27ecc8f0c": {
      "model_module": "@jupyter-widgets/base",
      "model_module_version": "1.2.0",
      "model_name": "LayoutModel",
      "state": {
       "_model_module": "@jupyter-widgets/base",
       "_model_module_version": "1.2.0",
       "_model_name": "LayoutModel",
       "_view_count": null,
       "_view_module": "@jupyter-widgets/base",
       "_view_module_version": "1.2.0",
       "_view_name": "LayoutView",
       "align_content": null,
       "align_items": null,
       "align_self": null,
       "border": null,
       "bottom": null,
       "display": null,
       "flex": null,
       "flex_flow": null,
       "grid_area": null,
       "grid_auto_columns": null,
       "grid_auto_flow": null,
       "grid_auto_rows": null,
       "grid_column": null,
       "grid_gap": null,
       "grid_row": null,
       "grid_template_areas": null,
       "grid_template_columns": null,
       "grid_template_rows": null,
       "height": null,
       "justify_content": null,
       "justify_items": null,
       "left": null,
       "margin": null,
       "max_height": null,
       "max_width": null,
       "min_height": null,
       "min_width": null,
       "object_fit": null,
       "object_position": null,
       "order": null,
       "overflow": null,
       "overflow_x": null,
       "overflow_y": null,
       "padding": null,
       "right": null,
       "top": null,
       "visibility": null,
       "width": null
      }
     },
     "94c2be871a234e5eb7e699df2292ccbc": {
      "model_module": "@jupyter-widgets/controls",
      "model_module_version": "1.5.0",
      "model_name": "DescriptionStyleModel",
      "state": {
       "_model_module": "@jupyter-widgets/controls",
       "_model_module_version": "1.5.0",
       "_model_name": "DescriptionStyleModel",
       "_view_count": null,
       "_view_module": "@jupyter-widgets/base",
       "_view_module_version": "1.2.0",
       "_view_name": "StyleView",
       "description_width": ""
      }
     },
     "95d3bafdaa7e4026a6c05472cdbb023e": {
      "model_module": "@jupyter-widgets/base",
      "model_module_version": "1.2.0",
      "model_name": "LayoutModel",
      "state": {
       "_model_module": "@jupyter-widgets/base",
       "_model_module_version": "1.2.0",
       "_model_name": "LayoutModel",
       "_view_count": null,
       "_view_module": "@jupyter-widgets/base",
       "_view_module_version": "1.2.0",
       "_view_name": "LayoutView",
       "align_content": null,
       "align_items": null,
       "align_self": null,
       "border": null,
       "bottom": null,
       "display": null,
       "flex": null,
       "flex_flow": null,
       "grid_area": null,
       "grid_auto_columns": null,
       "grid_auto_flow": null,
       "grid_auto_rows": null,
       "grid_column": null,
       "grid_gap": null,
       "grid_row": null,
       "grid_template_areas": null,
       "grid_template_columns": null,
       "grid_template_rows": null,
       "height": null,
       "justify_content": null,
       "justify_items": null,
       "left": null,
       "margin": null,
       "max_height": null,
       "max_width": null,
       "min_height": null,
       "min_width": null,
       "object_fit": null,
       "object_position": null,
       "order": null,
       "overflow": null,
       "overflow_x": null,
       "overflow_y": null,
       "padding": null,
       "right": null,
       "top": null,
       "visibility": null,
       "width": null
      }
     },
     "977487dd45b149f8a23520ad897b557b": {
      "model_module": "@jupyter-widgets/controls",
      "model_module_version": "1.5.0",
      "model_name": "DescriptionStyleModel",
      "state": {
       "_model_module": "@jupyter-widgets/controls",
       "_model_module_version": "1.5.0",
       "_model_name": "DescriptionStyleModel",
       "_view_count": null,
       "_view_module": "@jupyter-widgets/base",
       "_view_module_version": "1.2.0",
       "_view_name": "StyleView",
       "description_width": ""
      }
     },
     "98d70029174a449e922175d39f7b525f": {
      "model_module": "@jupyter-widgets/controls",
      "model_module_version": "1.5.0",
      "model_name": "CheckboxModel",
      "state": {
       "_dom_classes": [],
       "_model_module": "@jupyter-widgets/controls",
       "_model_module_version": "1.5.0",
       "_model_name": "CheckboxModel",
       "_view_count": null,
       "_view_module": "@jupyter-widgets/controls",
       "_view_module_version": "1.5.0",
       "_view_name": "CheckboxView",
       "description": "(X) Interest Rate",
       "description_tooltip": "interest_rate",
       "disabled": false,
       "indent": true,
       "layout": "IPY_MODEL_d887c1c094d149e3872847374aa7126c",
       "name": "interest_rate",
       "style": "IPY_MODEL_680b5408770242cd9c83ab4dc136a295",
       "value": true
      }
     },
     "99ddaea4c78b42029e75dbe624b4e912": {
      "model_module": "@jupyter-widgets/controls",
      "model_module_version": "1.5.0",
      "model_name": "AccordionModel",
      "state": {
       "_dom_classes": [],
       "_model_module": "@jupyter-widgets/controls",
       "_model_module_version": "1.5.0",
       "_model_name": "AccordionModel",
       "_titles": {
        "0": "Axes"
       },
       "_view_count": null,
       "_view_module": "@jupyter-widgets/controls",
       "_view_module_version": "1.5.0",
       "_view_name": "AccordionView",
       "box_style": "",
       "children": [
        "IPY_MODEL_57b50a5aa457447d9d3c16063ec50fb3"
       ],
       "layout": "IPY_MODEL_33a4092211b4427187524a8d6d15c15b",
       "selected_index": null
      }
     },
     "9a93d46a9f5f4393ac310be97f3f69e0": {
      "model_module": "@jupyter-widgets/controls",
      "model_module_version": "1.5.0",
      "model_name": "DropdownModel",
      "state": {
       "_dom_classes": [],
       "_model_module": "@jupyter-widgets/controls",
       "_model_module_version": "1.5.0",
       "_model_name": "DropdownModel",
       "_options_labels": [
        " ",
        "   Clear Selection Constraints",
        "-- (X) Uncertainties --",
        "   Show All Exogenous Uncertainties",
        "   Hide All Exogenous Uncertainties",
        "-- (L) Levers --",
        "   Show All Policy Levers",
        "   Hide All Policy Levers",
        "-- (M) Measures --",
        "   Show All Performance Measures",
        "   Hide All Performance Measures"
       ],
       "_view_count": null,
       "_view_module": "@jupyter-widgets/controls",
       "_view_module_version": "1.5.0",
       "_view_name": "DropdownView",
       "description": "View:",
       "description_tooltip": null,
       "disabled": false,
       "index": 0,
       "layout": "IPY_MODEL_88352ec25b5d4044b3e7df2d8371b051",
       "style": "IPY_MODEL_2a0d43849a434579be59160a3717b338"
      }
     },
     "9ae47f262e7a46cbac2bf30aa5f42b05": {
      "model_module": "@jupyter-widgets/controls",
      "model_module_version": "1.5.0",
      "model_name": "DescriptionStyleModel",
      "state": {
       "_model_module": "@jupyter-widgets/controls",
       "_model_module_version": "1.5.0",
       "_model_name": "DescriptionStyleModel",
       "_view_count": null,
       "_view_module": "@jupyter-widgets/base",
       "_view_module_version": "1.2.0",
       "_view_name": "StyleView",
       "description_width": ""
      }
     },
     "9bb8d0df33dd45f7afd70b20747c3f18": {
      "model_module": "@jupyter-widgets/controls",
      "model_module_version": "1.5.0",
      "model_name": "CheckboxModel",
      "state": {
       "_dom_classes": [],
       "_model_module": "@jupyter-widgets/controls",
       "_model_module_version": "1.5.0",
       "_model_name": "CheckboxModel",
       "_view_count": null,
       "_view_module": "@jupyter-widgets/controls",
       "_view_module_version": "1.5.0",
       "_view_name": "CheckboxView",
       "description": "(M-) Possibility of Negative Net Benefits",
       "description_tooltip": "Possibility of Negative Net Benefits",
       "disabled": false,
       "indent": true,
       "layout": "IPY_MODEL_06b703ec45cf47ecbda92258a4ef745a",
       "name": "Possibility of Negative Net Benefits",
       "style": "IPY_MODEL_b5e94a7955d847a883d37bf482ae1d75",
       "value": true
      }
     },
     "9c53b5cf03a14846adff0127b0464416": {
      "model_module": "@jupyter-widgets/controls",
      "model_module_version": "1.5.0",
      "model_name": "CheckboxModel",
      "state": {
       "_dom_classes": [],
       "_model_module": "@jupyter-widgets/controls",
       "_model_module_version": "1.5.0",
       "_model_name": "CheckboxModel",
       "_view_count": null,
       "_view_module": "@jupyter-widgets/controls",
       "_view_module_version": "1.5.0",
       "_view_name": "CheckboxView",
       "description": "(X) Input Flow",
       "description_tooltip": "input_flow",
       "disabled": false,
       "indent": true,
       "layout": "IPY_MODEL_1616c1466a6d44369da30b1f8ec8328e",
       "name": "input_flow",
       "style": "IPY_MODEL_09c1a7c7dab946e790b61f46fa9ddc0a",
       "value": true
      }
     },
     "9db05918404f4e99b5c20dbf6beb2f58": {
      "model_module": "@jupyter-widgets/base",
      "model_module_version": "1.2.0",
      "model_name": "LayoutModel",
      "state": {
       "_model_module": "@jupyter-widgets/base",
       "_model_module_version": "1.2.0",
       "_model_name": "LayoutModel",
       "_view_count": null,
       "_view_module": "@jupyter-widgets/base",
       "_view_module_version": "1.2.0",
       "_view_name": "LayoutView",
       "align_content": null,
       "align_items": null,
       "align_self": null,
       "border": null,
       "bottom": null,
       "display": null,
       "flex": null,
       "flex_flow": null,
       "grid_area": null,
       "grid_auto_columns": null,
       "grid_auto_flow": null,
       "grid_auto_rows": null,
       "grid_column": null,
       "grid_gap": null,
       "grid_row": null,
       "grid_template_areas": null,
       "grid_template_columns": null,
       "grid_template_rows": null,
       "height": null,
       "justify_content": null,
       "justify_items": null,
       "left": null,
       "margin": null,
       "max_height": null,
       "max_width": null,
       "min_height": null,
       "min_width": null,
       "object_fit": null,
       "object_position": null,
       "order": null,
       "overflow": null,
       "overflow_x": null,
       "overflow_y": null,
       "padding": null,
       "right": null,
       "top": null,
       "visibility": null,
       "width": null
      }
     },
     "9e98b7b8e49c4a23bde9c57a6a3df2ff": {
      "model_module": "@jupyter-widgets/controls",
      "model_module_version": "1.5.0",
      "model_name": "DescriptionStyleModel",
      "state": {
       "_model_module": "@jupyter-widgets/controls",
       "_model_module_version": "1.5.0",
       "_model_name": "DescriptionStyleModel",
       "_view_count": null,
       "_view_module": "@jupyter-widgets/base",
       "_view_module_version": "1.2.0",
       "_view_name": "StyleView",
       "description_width": ""
      }
     },
     "9fff9ed4082245bbae6135b1bd8acaa7": {
      "model_module": "@jupyter-widgets/controls",
      "model_module_version": "1.5.0",
      "model_name": "CheckboxModel",
      "state": {
       "_dom_classes": [],
       "_model_module": "@jupyter-widgets/controls",
       "_model_module_version": "1.5.0",
       "_model_name": "CheckboxModel",
       "_view_count": null,
       "_view_module": "@jupyter-widgets/controls",
       "_view_module_version": "1.5.0",
       "_view_name": "CheckboxView",
       "description": "(M-) 95%ile Capacity Expansion Cost",
       "description_tooltip": "95%ile Capacity Expansion Cost",
       "disabled": false,
       "indent": true,
       "layout": "IPY_MODEL_3e0ceedd68ef4be989165d69b69694c6",
       "name": "95%ile Capacity Expansion Cost",
       "style": "IPY_MODEL_bb7ce64d1a7647879e2851fe6c7d08cb",
       "value": true
      }
     },
     "a338b15c631346f7be38a8b2b7cb730d": {
      "model_module": "@jupyter-widgets/base",
      "model_module_version": "1.2.0",
      "model_name": "LayoutModel",
      "state": {
       "_model_module": "@jupyter-widgets/base",
       "_model_module_version": "1.2.0",
       "_model_name": "LayoutModel",
       "_view_count": null,
       "_view_module": "@jupyter-widgets/base",
       "_view_module_version": "1.2.0",
       "_view_name": "LayoutView",
       "align_content": null,
       "align_items": null,
       "align_self": null,
       "border": null,
       "bottom": null,
       "display": null,
       "flex": null,
       "flex_flow": null,
       "grid_area": null,
       "grid_auto_columns": null,
       "grid_auto_flow": null,
       "grid_auto_rows": null,
       "grid_column": null,
       "grid_gap": null,
       "grid_row": null,
       "grid_template_areas": null,
       "grid_template_columns": null,
       "grid_template_rows": null,
       "height": null,
       "justify_content": null,
       "justify_items": null,
       "left": null,
       "margin": null,
       "max_height": null,
       "max_width": null,
       "min_height": null,
       "min_width": null,
       "object_fit": null,
       "object_position": null,
       "order": null,
       "overflow": null,
       "overflow_x": null,
       "overflow_y": null,
       "padding": null,
       "right": null,
       "top": null,
       "visibility": null,
       "width": null
      }
     },
     "a747526870054d3b918c9c4bf42ed63a": {
      "model_module": "@jupyter-widgets/controls",
      "model_module_version": "1.5.0",
      "model_name": "DescriptionStyleModel",
      "state": {
       "_model_module": "@jupyter-widgets/controls",
       "_model_module_version": "1.5.0",
       "_model_name": "DescriptionStyleModel",
       "_view_count": null,
       "_view_module": "@jupyter-widgets/base",
       "_view_module_version": "1.2.0",
       "_view_name": "StyleView",
       "description_width": ""
      }
     },
     "a7d910b6a92e474d96eee872023ff820": {
      "model_module": "@jupyter-widgets/controls",
      "model_module_version": "1.5.0",
      "model_name": "CheckboxModel",
      "state": {
       "_dom_classes": [],
       "_model_module": "@jupyter-widgets/controls",
       "_model_module_version": "1.5.0",
       "_model_name": "CheckboxModel",
       "_view_count": null,
       "_view_module": "@jupyter-widgets/controls",
       "_view_module_version": "1.5.0",
       "_view_name": "CheckboxView",
       "description": "(L) Rate Lock",
       "description_tooltip": "interest_rate_lock",
       "disabled": false,
       "indent": true,
       "layout": "IPY_MODEL_0bc5f2d2dd5a45ea8962f2803009e484",
       "name": "interest_rate_lock",
       "style": "IPY_MODEL_c47b5b96fbc441018b0b7a46bfcad381",
       "value": true
      }
     },
     "a89ad548dbd44610a23ad691befea717": {
      "model_module": "@jupyter-widgets/base",
      "model_module_version": "1.2.0",
      "model_name": "LayoutModel",
      "state": {
       "_model_module": "@jupyter-widgets/base",
       "_model_module_version": "1.2.0",
       "_model_name": "LayoutModel",
       "_view_count": null,
       "_view_module": "@jupyter-widgets/base",
       "_view_module_version": "1.2.0",
       "_view_name": "LayoutView",
       "align_content": null,
       "align_items": null,
       "align_self": null,
       "border": null,
       "bottom": null,
       "display": null,
       "flex": null,
       "flex_flow": null,
       "grid_area": null,
       "grid_auto_columns": null,
       "grid_auto_flow": null,
       "grid_auto_rows": null,
       "grid_column": null,
       "grid_gap": null,
       "grid_row": null,
       "grid_template_areas": null,
       "grid_template_columns": null,
       "grid_template_rows": null,
       "height": null,
       "justify_content": null,
       "justify_items": null,
       "left": null,
       "margin": null,
       "max_height": null,
       "max_width": null,
       "min_height": null,
       "min_width": null,
       "object_fit": null,
       "object_position": null,
       "order": null,
       "overflow": null,
       "overflow_x": null,
       "overflow_y": null,
       "padding": null,
       "right": null,
       "top": null,
       "visibility": null,
       "width": null
      }
     },
     "abdb6293c80d4f589b83cb820d5a0b11": {
      "model_module": "@jupyter-widgets/controls",
      "model_module_version": "1.5.0",
      "model_name": "CheckboxModel",
      "state": {
       "_dom_classes": [],
       "_model_module": "@jupyter-widgets/controls",
       "_model_module_version": "1.5.0",
       "_model_name": "CheckboxModel",
       "_view_count": null,
       "_view_module": "@jupyter-widgets/controls",
       "_view_module_version": "1.5.0",
       "_view_name": "CheckboxView",
       "description": "(M+) Net Benefits",
       "description_tooltip": "net_benefits",
       "disabled": false,
       "indent": true,
       "layout": "IPY_MODEL_3d959ed7531f4fd08df13056b61ab29c",
       "name": "net_benefits",
       "style": "IPY_MODEL_85b880690aaf4fb0acba32bb274d0458",
       "value": true
      }
     },
     "ac93ac3392604c8880f8981761280c0e": {
      "model_module": "plotlywidget",
      "model_module_version": "^4.14.3",
      "model_name": "FigureModel",
      "state": {
       "_config": {
        "plotlyServerURL": "https://plot.ly"
       },
       "_data": [
        {
         "fill": "tonexty",
         "line": {
          "shape": "linear"
         },
         "mode": "lines+markers",
         "name": "",
         "type": "scatter",
         "uid": "582e3c26-6e75-4dbe-99f8-a59bd74d64eb"
        }
       ],
       "_dom_classes": [],
       "_js2py_layoutDelta": {},
       "_js2py_pointsCallback": {},
       "_js2py_relayout": {},
       "_js2py_restyle": {},
       "_js2py_traceDeltas": {},
       "_js2py_update": {},
       "_last_layout_edit_id": 4,
       "_last_trace_edit_id": 1,
       "_layout": {
        "hovermode": "closest",
        "showlegend": false,
        "title": {
         "text": "Number of Solutions"
        }
       },
       "_model_module": "plotlywidget",
       "_model_module_version": "^4.14.3",
       "_model_name": "FigureModel",
       "_py2js_addTraces": {},
       "_py2js_animate": {},
       "_py2js_deleteTraces": {},
       "_py2js_moveTraces": {},
       "_py2js_relayout": null,
       "_py2js_removeLayoutProps": {},
       "_py2js_removeTraceProps": {},
       "_py2js_restyle": {},
       "_py2js_update": null,
       "_view_count": 0,
       "_view_module": "plotlywidget",
       "_view_module_version": "^4.14.3",
       "_view_name": "FigureView"
      }
     },
     "ac96ea3e6d1f40849bf36247b46637af": {
      "model_module": "@jupyter-widgets/output",
      "model_module_version": "1.0.0",
      "model_name": "OutputModel",
      "state": {
       "_dom_classes": [],
       "_model_module": "@jupyter-widgets/output",
       "_model_module_version": "1.0.0",
       "_model_name": "OutputModel",
       "_view_count": null,
       "_view_module": "@jupyter-widgets/output",
       "_view_module_version": "1.0.0",
       "_view_name": "OutputView",
       "layout": "IPY_MODEL_60bef755f2754631b7acda570697073a",
       "msg_id": "",
       "outputs": []
      }
     },
     "ad796f27f7dc4cba9c068bb9b37a8510": {
      "model_module": "@jupyter-widgets/controls",
      "model_module_version": "1.5.0",
      "model_name": "HTMLModel",
      "state": {
       "_dom_classes": [],
       "_model_module": "@jupyter-widgets/controls",
       "_model_module_version": "1.5.0",
       "_model_name": "HTMLModel",
       "_view_count": null,
       "_view_module": "@jupyter-widgets/controls",
       "_view_module_version": "1.5.0",
       "_view_name": "HTMLView",
       "description": "",
       "description_tooltip": null,
       "layout": "IPY_MODEL_168933d81ac04961a8c6eea68a390cca",
       "placeholder": "​",
       "style": "IPY_MODEL_85d4b4b802334fbcaf279c4458035aaf",
       "value": "\n\t\t\t(M-) Performance Measure to Minimize<br>\n\t\t\t(M+) Performance Measure to Maximize<br>\n\t\t\t(M) Performance Measure without preferred direction<br>\n\t\t\t(L) Policy Lever<br>\n\t\t\t(X) Exogenous Uncertainty\n\t\t"
      }
     },
     "aed0d802e5f04b3bb61d9a09236baceb": {
      "model_module": "@jupyter-widgets/base",
      "model_module_version": "1.2.0",
      "model_name": "LayoutModel",
      "state": {
       "_model_module": "@jupyter-widgets/base",
       "_model_module_version": "1.2.0",
       "_model_name": "LayoutModel",
       "_view_count": null,
       "_view_module": "@jupyter-widgets/base",
       "_view_module_version": "1.2.0",
       "_view_name": "LayoutView",
       "align_content": null,
       "align_items": null,
       "align_self": null,
       "border": null,
       "bottom": null,
       "display": null,
       "flex": null,
       "flex_flow": "row wrap",
       "grid_area": null,
       "grid_auto_columns": null,
       "grid_auto_flow": null,
       "grid_auto_rows": null,
       "grid_column": null,
       "grid_gap": null,
       "grid_row": null,
       "grid_template_areas": null,
       "grid_template_columns": null,
       "grid_template_rows": null,
       "height": null,
       "justify_content": null,
       "justify_items": null,
       "left": null,
       "margin": null,
       "max_height": null,
       "max_width": null,
       "min_height": null,
       "min_width": null,
       "object_fit": null,
       "object_position": null,
       "order": null,
       "overflow": null,
       "overflow_x": null,
       "overflow_y": null,
       "padding": null,
       "right": null,
       "top": null,
       "visibility": null,
       "width": null
      }
     },
     "b0336cb157594a41a7fccac6b4bcb985": {
      "model_module": "@jupyter-widgets/base",
      "model_module_version": "1.2.0",
      "model_name": "LayoutModel",
      "state": {
       "_model_module": "@jupyter-widgets/base",
       "_model_module_version": "1.2.0",
       "_model_name": "LayoutModel",
       "_view_count": null,
       "_view_module": "@jupyter-widgets/base",
       "_view_module_version": "1.2.0",
       "_view_name": "LayoutView",
       "align_content": null,
       "align_items": null,
       "align_self": null,
       "border": null,
       "bottom": null,
       "display": null,
       "flex": null,
       "flex_flow": null,
       "grid_area": null,
       "grid_auto_columns": null,
       "grid_auto_flow": null,
       "grid_auto_rows": null,
       "grid_column": null,
       "grid_gap": null,
       "grid_row": null,
       "grid_template_areas": null,
       "grid_template_columns": null,
       "grid_template_rows": null,
       "height": null,
       "justify_content": null,
       "justify_items": null,
       "left": null,
       "margin": null,
       "max_height": null,
       "max_width": null,
       "min_height": null,
       "min_width": null,
       "object_fit": null,
       "object_position": null,
       "order": null,
       "overflow": null,
       "overflow_x": null,
       "overflow_y": null,
       "padding": null,
       "right": null,
       "top": null,
       "visibility": null,
       "width": null
      }
     },
     "b15d5090bb394aa7baed96175c2cedea": {
      "model_module": "@jupyter-widgets/controls",
      "model_module_version": "1.5.0",
      "model_name": "BoxModel",
      "state": {
       "_dom_classes": [],
       "_model_module": "@jupyter-widgets/controls",
       "_model_module_version": "1.5.0",
       "_model_name": "BoxModel",
       "_view_count": null,
       "_view_module": "@jupyter-widgets/controls",
       "_view_module_version": "1.5.0",
       "_view_name": "BoxView",
       "box_style": "",
       "children": [
        "IPY_MODEL_d1394208d0814a93bc4b92962455481c",
        "IPY_MODEL_5d61d2054e054f6c968f1bcf86b88e3b",
        "IPY_MODEL_9c53b5cf03a14846adff0127b0464416",
        "IPY_MODEL_3256ded59639476397436066a835bfb0",
        "IPY_MODEL_27d9a70a0c4f463e872a0373073c3f3e",
        "IPY_MODEL_98d70029174a449e922175d39f7b525f",
        "IPY_MODEL_280979c7622f4c9bb79f149f44388638",
        "IPY_MODEL_f0f880c1f6134e66b4a5280fcca9352b",
        "IPY_MODEL_14bdd8b0559c48d6ba1d6ef820e2c5cd",
        "IPY_MODEL_7ef957b14cdf40e5b40aaf1d9d2db81f",
        "IPY_MODEL_7082fe7085c94f2c8acf1bce5d9c5b74",
        "IPY_MODEL_51c40b16a5ce474a88874e7a50102478"
       ],
       "layout": "IPY_MODEL_90d01dd7b85749a6b0c742c90c4f63b7"
      }
     },
     "b309652cc8714dc596acc89e77ba9f7d": {
      "model_module": "@jupyter-widgets/base",
      "model_module_version": "1.2.0",
      "model_name": "LayoutModel",
      "state": {
       "_model_module": "@jupyter-widgets/base",
       "_model_module_version": "1.2.0",
       "_model_name": "LayoutModel",
       "_view_count": null,
       "_view_module": "@jupyter-widgets/base",
       "_view_module_version": "1.2.0",
       "_view_name": "LayoutView",
       "align_content": null,
       "align_items": null,
       "align_self": null,
       "border": null,
       "bottom": null,
       "display": null,
       "flex": null,
       "flex_flow": null,
       "grid_area": null,
       "grid_auto_columns": null,
       "grid_auto_flow": null,
       "grid_auto_rows": null,
       "grid_column": null,
       "grid_gap": null,
       "grid_row": null,
       "grid_template_areas": null,
       "grid_template_columns": null,
       "grid_template_rows": null,
       "height": null,
       "justify_content": null,
       "justify_items": null,
       "left": null,
       "margin": null,
       "max_height": null,
       "max_width": null,
       "min_height": null,
       "min_width": null,
       "object_fit": null,
       "object_position": null,
       "order": null,
       "overflow": null,
       "overflow_x": null,
       "overflow_y": null,
       "padding": null,
       "right": null,
       "top": null,
       "visibility": null,
       "width": null
      }
     },
     "b5e94a7955d847a883d37bf482ae1d75": {
      "model_module": "@jupyter-widgets/controls",
      "model_module_version": "1.5.0",
      "model_name": "DescriptionStyleModel",
      "state": {
       "_model_module": "@jupyter-widgets/controls",
       "_model_module_version": "1.5.0",
       "_model_name": "DescriptionStyleModel",
       "_view_count": null,
       "_view_module": "@jupyter-widgets/base",
       "_view_module_version": "1.2.0",
       "_view_name": "StyleView",
       "description_width": ""
      }
     },
     "b625bfd9e9d64cd3900681a201cc2dc3": {
      "model_module": "@jupyter-widgets/base",
      "model_module_version": "1.2.0",
      "model_name": "LayoutModel",
      "state": {
       "_model_module": "@jupyter-widgets/base",
       "_model_module_version": "1.2.0",
       "_model_name": "LayoutModel",
       "_view_count": null,
       "_view_module": "@jupyter-widgets/base",
       "_view_module_version": "1.2.0",
       "_view_name": "LayoutView",
       "align_content": null,
       "align_items": null,
       "align_self": null,
       "border": null,
       "bottom": null,
       "display": null,
       "flex": null,
       "flex_flow": null,
       "grid_area": null,
       "grid_auto_columns": null,
       "grid_auto_flow": null,
       "grid_auto_rows": null,
       "grid_column": null,
       "grid_gap": null,
       "grid_row": null,
       "grid_template_areas": null,
       "grid_template_columns": null,
       "grid_template_rows": null,
       "height": null,
       "justify_content": null,
       "justify_items": null,
       "left": null,
       "margin": null,
       "max_height": null,
       "max_width": null,
       "min_height": null,
       "min_width": null,
       "object_fit": null,
       "object_position": null,
       "order": null,
       "overflow": null,
       "overflow_x": null,
       "overflow_y": null,
       "padding": null,
       "right": null,
       "top": null,
       "visibility": null,
       "width": null
      }
     },
     "b6af3b184a064729b33a56de046acce4": {
      "model_module": "@jupyter-widgets/base",
      "model_module_version": "1.2.0",
      "model_name": "LayoutModel",
      "state": {
       "_model_module": "@jupyter-widgets/base",
       "_model_module_version": "1.2.0",
       "_model_name": "LayoutModel",
       "_view_count": null,
       "_view_module": "@jupyter-widgets/base",
       "_view_module_version": "1.2.0",
       "_view_name": "LayoutView",
       "align_content": null,
       "align_items": null,
       "align_self": null,
       "border": null,
       "bottom": null,
       "display": null,
       "flex": null,
       "flex_flow": null,
       "grid_area": null,
       "grid_auto_columns": null,
       "grid_auto_flow": null,
       "grid_auto_rows": null,
       "grid_column": null,
       "grid_gap": null,
       "grid_row": null,
       "grid_template_areas": null,
       "grid_template_columns": null,
       "grid_template_rows": null,
       "height": null,
       "justify_content": null,
       "justify_items": null,
       "left": null,
       "margin": null,
       "max_height": null,
       "max_width": null,
       "min_height": null,
       "min_width": null,
       "object_fit": null,
       "object_position": null,
       "order": null,
       "overflow": null,
       "overflow_x": null,
       "overflow_y": null,
       "padding": null,
       "right": null,
       "top": null,
       "visibility": null,
       "width": null
      }
     },
     "b6b15923d2f74bb0bbd1b961fbb62040": {
      "model_module": "@jupyter-widgets/controls",
      "model_module_version": "1.5.0",
      "model_name": "DescriptionStyleModel",
      "state": {
       "_model_module": "@jupyter-widgets/controls",
       "_model_module_version": "1.5.0",
       "_model_name": "DescriptionStyleModel",
       "_view_count": null,
       "_view_module": "@jupyter-widgets/base",
       "_view_module_version": "1.2.0",
       "_view_name": "StyleView",
       "description_width": ""
      }
     },
     "ba2aee8d740d49edb182ab2170e07803": {
      "model_module": "@jupyter-widgets/controls",
      "model_module_version": "1.5.0",
      "model_name": "HBoxModel",
      "state": {
       "_dom_classes": [],
       "_model_module": "@jupyter-widgets/controls",
       "_model_module_version": "1.5.0",
       "_model_name": "HBoxModel",
       "_view_count": null,
       "_view_module": "@jupyter-widgets/controls",
       "_view_module_version": "1.5.0",
       "_view_name": "HBoxView",
       "box_style": "",
       "children": [
        "IPY_MODEL_bf488a4e108a4a5189287ae254593247",
        "IPY_MODEL_3946e801682b4dec8ef3fd954c31183d"
       ],
       "layout": "IPY_MODEL_1b9684c50f584d13b32d7f8c78c6756c"
      }
     },
     "bb7ce64d1a7647879e2851fe6c7d08cb": {
      "model_module": "@jupyter-widgets/controls",
      "model_module_version": "1.5.0",
      "model_name": "DescriptionStyleModel",
      "state": {
       "_model_module": "@jupyter-widgets/controls",
       "_model_module_version": "1.5.0",
       "_model_name": "DescriptionStyleModel",
       "_view_count": null,
       "_view_module": "@jupyter-widgets/base",
       "_view_module_version": "1.2.0",
       "_view_name": "StyleView",
       "description_width": ""
      }
     },
     "bd37e3ff975646ea85b766b2a03d97c4": {
      "model_module": "@jupyter-widgets/base",
      "model_module_version": "1.2.0",
      "model_name": "LayoutModel",
      "state": {
       "_model_module": "@jupyter-widgets/base",
       "_model_module_version": "1.2.0",
       "_model_name": "LayoutModel",
       "_view_count": null,
       "_view_module": "@jupyter-widgets/base",
       "_view_module_version": "1.2.0",
       "_view_name": "LayoutView",
       "align_content": null,
       "align_items": null,
       "align_self": null,
       "border": null,
       "bottom": null,
       "display": null,
       "flex": null,
       "flex_flow": null,
       "grid_area": null,
       "grid_auto_columns": null,
       "grid_auto_flow": null,
       "grid_auto_rows": null,
       "grid_column": null,
       "grid_gap": null,
       "grid_row": null,
       "grid_template_areas": null,
       "grid_template_columns": null,
       "grid_template_rows": null,
       "height": null,
       "justify_content": null,
       "justify_items": null,
       "left": null,
       "margin": null,
       "max_height": null,
       "max_width": null,
       "min_height": null,
       "min_width": null,
       "object_fit": null,
       "object_position": null,
       "order": null,
       "overflow": null,
       "overflow_x": null,
       "overflow_y": null,
       "padding": null,
       "right": null,
       "top": null,
       "visibility": null,
       "width": null
      }
     },
     "bf0944a597714b588942f4f3d0bb9b50": {
      "model_module": "@jupyter-widgets/controls",
      "model_module_version": "1.5.0",
      "model_name": "DescriptionStyleModel",
      "state": {
       "_model_module": "@jupyter-widgets/controls",
       "_model_module_version": "1.5.0",
       "_model_name": "DescriptionStyleModel",
       "_view_count": null,
       "_view_module": "@jupyter-widgets/base",
       "_view_module_version": "1.2.0",
       "_view_name": "StyleView",
       "description_width": ""
      }
     },
     "bf488a4e108a4a5189287ae254593247": {
      "model_module": "plotlywidget",
      "model_module_version": "^4.14.3",
      "model_name": "FigureModel",
      "state": {
       "_config": {
        "plotlyServerURL": "https://plot.ly"
       },
       "_data": [
        {
         "fill": "tonexty",
         "line": {
          "shape": "linear"
         },
         "mode": "lines+markers",
         "name": "",
         "type": "scatter",
         "uid": "c0cb8862-763d-4d9f-9bc9-388e174e77c2"
        }
       ],
       "_dom_classes": [],
       "_js2py_layoutDelta": {},
       "_js2py_pointsCallback": {},
       "_js2py_relayout": {},
       "_js2py_restyle": {},
       "_js2py_traceDeltas": {},
       "_js2py_update": {},
       "_last_layout_edit_id": 4,
       "_last_trace_edit_id": 1,
       "_layout": {
        "hovermode": "closest",
        "showlegend": false,
        "title": {
         "text": "ε-Progress"
        }
       },
       "_model_module": "plotlywidget",
       "_model_module_version": "^4.14.3",
       "_model_name": "FigureModel",
       "_py2js_addTraces": {},
       "_py2js_animate": {},
       "_py2js_deleteTraces": {},
       "_py2js_moveTraces": {},
       "_py2js_relayout": null,
       "_py2js_removeLayoutProps": {},
       "_py2js_removeTraceProps": {},
       "_py2js_restyle": {},
       "_py2js_update": null,
       "_view_count": 0,
       "_view_module": "plotlywidget",
       "_view_module_version": "^4.14.3",
       "_view_name": "FigureView"
      }
     },
     "c15913a0a1254f47a7dd2180344ded75": {
      "model_module": "@jupyter-widgets/base",
      "model_module_version": "1.2.0",
      "model_name": "LayoutModel",
      "state": {
       "_model_module": "@jupyter-widgets/base",
       "_model_module_version": "1.2.0",
       "_model_name": "LayoutModel",
       "_view_count": null,
       "_view_module": "@jupyter-widgets/base",
       "_view_module_version": "1.2.0",
       "_view_name": "LayoutView",
       "align_content": null,
       "align_items": null,
       "align_self": null,
       "border": null,
       "bottom": null,
       "display": null,
       "flex": null,
       "flex_flow": null,
       "grid_area": null,
       "grid_auto_columns": null,
       "grid_auto_flow": null,
       "grid_auto_rows": null,
       "grid_column": null,
       "grid_gap": null,
       "grid_row": null,
       "grid_template_areas": null,
       "grid_template_columns": null,
       "grid_template_rows": null,
       "height": null,
       "justify_content": null,
       "justify_items": null,
       "left": null,
       "margin": null,
       "max_height": null,
       "max_width": null,
       "min_height": null,
       "min_width": null,
       "object_fit": null,
       "object_position": null,
       "order": null,
       "overflow": null,
       "overflow_x": null,
       "overflow_y": null,
       "padding": null,
       "right": null,
       "top": null,
       "visibility": null,
       "width": null
      }
     },
     "c1d748d53baf4b0490f0715b55b0fef5": {
      "model_module": "@jupyter-widgets/controls",
      "model_module_version": "1.5.0",
      "model_name": "DescriptionStyleModel",
      "state": {
       "_model_module": "@jupyter-widgets/controls",
       "_model_module_version": "1.5.0",
       "_model_name": "DescriptionStyleModel",
       "_view_count": null,
       "_view_module": "@jupyter-widgets/base",
       "_view_module_version": "1.2.0",
       "_view_name": "StyleView",
       "description_width": ""
      }
     },
     "c32808875d3d443c91bab55db3496dad": {
      "model_module": "@jupyter-widgets/controls",
      "model_module_version": "1.5.0",
      "model_name": "CheckboxModel",
      "state": {
       "_dom_classes": [],
       "_model_module": "@jupyter-widgets/controls",
       "_model_module_version": "1.5.0",
       "_model_name": "CheckboxModel",
       "_view_count": null,
       "_view_module": "@jupyter-widgets/controls",
       "_view_module_version": "1.5.0",
       "_view_name": "CheckboxView",
       "description": "(L) Amortization",
       "description_tooltip": "amortization_period",
       "disabled": false,
       "indent": true,
       "layout": "IPY_MODEL_fcaba85efeff42c99a98cc0a3a81f1fb",
       "name": "amortization_period",
       "style": "IPY_MODEL_ffe9839745864e39adfacd0bb21017ab",
       "value": true
      }
     },
     "c3375edbf3694a34b13ee0c2e1264c61": {
      "model_module": "@jupyter-widgets/controls",
      "model_module_version": "1.5.0",
      "model_name": "CheckboxModel",
      "state": {
       "_dom_classes": [],
       "_model_module": "@jupyter-widgets/controls",
       "_model_module_version": "1.5.0",
       "_model_name": "CheckboxModel",
       "_view_count": null,
       "_view_module": "@jupyter-widgets/controls",
       "_view_module_version": "1.5.0",
       "_view_name": "CheckboxView",
       "description": "(M) 99%ile Present Cost",
       "description_tooltip": "99%ile Present Cost",
       "disabled": false,
       "indent": true,
       "layout": "IPY_MODEL_a338b15c631346f7be38a8b2b7cb730d",
       "name": "99%ile Present Cost",
       "style": "IPY_MODEL_5eea75bea1bc4461a8e6ce5af113d62f",
       "value": false
      }
     },
     "c46f01a3699b4a8c99520c7847d00790": {
      "model_module": "@jupyter-widgets/controls",
      "model_module_version": "1.5.0",
      "model_name": "CheckboxModel",
      "state": {
       "_dom_classes": [],
       "_model_module": "@jupyter-widgets/controls",
       "_model_module_version": "1.5.0",
       "_model_name": "CheckboxModel",
       "_view_count": null,
       "_view_module": "@jupyter-widgets/controls",
       "_view_module_version": "1.5.0",
       "_view_name": "CheckboxView",
       "description": "(M-) Build Time",
       "description_tooltip": "build_travel_time",
       "disabled": false,
       "indent": true,
       "layout": "IPY_MODEL_937d3c1f0ae44f59afd7f3d27ecc8f0c",
       "name": "build_travel_time",
       "style": "IPY_MODEL_06d4584b14c546dbb31d7adb14870d33",
       "value": true
      }
     },
     "c47b5b96fbc441018b0b7a46bfcad381": {
      "model_module": "@jupyter-widgets/controls",
      "model_module_version": "1.5.0",
      "model_name": "DescriptionStyleModel",
      "state": {
       "_model_module": "@jupyter-widgets/controls",
       "_model_module_version": "1.5.0",
       "_model_name": "DescriptionStyleModel",
       "_view_count": null,
       "_view_module": "@jupyter-widgets/base",
       "_view_module_version": "1.2.0",
       "_view_name": "StyleView",
       "description_width": ""
      }
     },
     "c609eba0483a4399b38dfbf65a8dba58": {
      "model_module": "@jupyter-widgets/base",
      "model_module_version": "1.2.0",
      "model_name": "LayoutModel",
      "state": {
       "_model_module": "@jupyter-widgets/base",
       "_model_module_version": "1.2.0",
       "_model_name": "LayoutModel",
       "_view_count": null,
       "_view_module": "@jupyter-widgets/base",
       "_view_module_version": "1.2.0",
       "_view_name": "LayoutView",
       "align_content": null,
       "align_items": null,
       "align_self": null,
       "border": null,
       "bottom": null,
       "display": null,
       "flex": null,
       "flex_flow": null,
       "grid_area": null,
       "grid_auto_columns": null,
       "grid_auto_flow": null,
       "grid_auto_rows": null,
       "grid_column": null,
       "grid_gap": null,
       "grid_row": null,
       "grid_template_areas": null,
       "grid_template_columns": null,
       "grid_template_rows": null,
       "height": null,
       "justify_content": null,
       "justify_items": null,
       "left": null,
       "margin": null,
       "max_height": null,
       "max_width": null,
       "min_height": null,
       "min_width": null,
       "object_fit": null,
       "object_position": null,
       "order": null,
       "overflow": null,
       "overflow_x": null,
       "overflow_y": null,
       "padding": null,
       "right": null,
       "top": null,
       "visibility": null,
       "width": null
      }
     },
     "c6a1515df94142c2aabb10df21d36950": {
      "model_module": "@jupyter-widgets/output",
      "model_module_version": "1.0.0",
      "model_name": "OutputModel",
      "state": {
       "_dom_classes": [],
       "_model_module": "@jupyter-widgets/output",
       "_model_module_version": "1.0.0",
       "_model_name": "OutputModel",
       "_view_count": null,
       "_view_module": "@jupyter-widgets/output",
       "_view_module_version": "1.0.0",
       "_view_name": "OutputView",
       "layout": "IPY_MODEL_9db05918404f4e99b5c20dbf6beb2f58",
       "msg_id": "",
       "outputs": []
      }
     },
     "c6b4359f76464f3e83aa196862a9d240": {
      "model_module": "@jupyter-widgets/base",
      "model_module_version": "1.2.0",
      "model_name": "LayoutModel",
      "state": {
       "_model_module": "@jupyter-widgets/base",
       "_model_module_version": "1.2.0",
       "_model_name": "LayoutModel",
       "_view_count": null,
       "_view_module": "@jupyter-widgets/base",
       "_view_module_version": "1.2.0",
       "_view_name": "LayoutView",
       "align_content": null,
       "align_items": null,
       "align_self": null,
       "border": null,
       "bottom": null,
       "display": null,
       "flex": null,
       "flex_flow": null,
       "grid_area": null,
       "grid_auto_columns": null,
       "grid_auto_flow": null,
       "grid_auto_rows": null,
       "grid_column": null,
       "grid_gap": null,
       "grid_row": null,
       "grid_template_areas": null,
       "grid_template_columns": null,
       "grid_template_rows": null,
       "height": null,
       "justify_content": null,
       "justify_items": null,
       "left": null,
       "margin": null,
       "max_height": null,
       "max_width": null,
       "min_height": null,
       "min_width": null,
       "object_fit": null,
       "object_position": null,
       "order": null,
       "overflow": null,
       "overflow_x": null,
       "overflow_y": null,
       "padding": null,
       "right": null,
       "top": null,
       "visibility": null,
       "width": null
      }
     },
     "c8139e97e898430b912b2f39ba2b1cf2": {
      "model_module": "@jupyter-widgets/controls",
      "model_module_version": "1.5.0",
      "model_name": "VBoxModel",
      "state": {
       "_dom_classes": [],
       "_model_module": "@jupyter-widgets/controls",
       "_model_module_version": "1.5.0",
       "_model_name": "VBoxModel",
       "_view_count": null,
       "_view_module": "@jupyter-widgets/controls",
       "_view_module_version": "1.5.0",
       "_view_name": "VBoxView",
       "box_style": "",
       "children": [
        "IPY_MODEL_52ee1901a9b44433a4e2f0e0aecb802a",
        "IPY_MODEL_d0988867a60542a98cfba6b687155853",
        "IPY_MODEL_336b1fc559c041ed889cebd7a3154e25",
        "IPY_MODEL_359f3d1e61db45dc8128e16ce3e3edb8"
       ],
       "layout": "IPY_MODEL_d8add3057e944dc3a19d796f1f24247a"
      }
     },
     "c8b4984ed62a418dba77f765a7ecb706": {
      "model_module": "@jupyter-widgets/controls",
      "model_module_version": "1.5.0",
      "model_name": "DescriptionStyleModel",
      "state": {
       "_model_module": "@jupyter-widgets/controls",
       "_model_module_version": "1.5.0",
       "_model_name": "DescriptionStyleModel",
       "_view_count": null,
       "_view_module": "@jupyter-widgets/base",
       "_view_module_version": "1.2.0",
       "_view_name": "StyleView",
       "description_width": ""
      }
     },
     "c8e16183443249a0b37f52c1463c3e22": {
      "model_module": "@jupyter-widgets/controls",
      "model_module_version": "1.5.0",
      "model_name": "DescriptionStyleModel",
      "state": {
       "_model_module": "@jupyter-widgets/controls",
       "_model_module_version": "1.5.0",
       "_model_name": "DescriptionStyleModel",
       "_view_count": null,
       "_view_module": "@jupyter-widgets/base",
       "_view_module_version": "1.2.0",
       "_view_name": "StyleView",
       "description_width": ""
      }
     },
     "c97f2626dd68466eb151084c6ce55857": {
      "model_module": "@jupyter-widgets/controls",
      "model_module_version": "1.5.0",
      "model_name": "CheckboxModel",
      "state": {
       "_dom_classes": [],
       "_model_module": "@jupyter-widgets/controls",
       "_model_module_version": "1.5.0",
       "_model_name": "CheckboxModel",
       "_view_count": null,
       "_view_module": "@jupyter-widgets/controls",
       "_view_module_version": "1.5.0",
       "_view_name": "CheckboxView",
       "description": "(L) Debt Type",
       "description_tooltip": "debt_type",
       "disabled": false,
       "indent": true,
       "layout": "IPY_MODEL_d7517a96df3143fbae2addf34e8f5b4c",
       "name": "debt_type",
       "style": "IPY_MODEL_205b972d91cc4d4198d540ddb98cd222",
       "value": true
      }
     },
     "ca84763dfeab409dbb4602d433d70780": {
      "model_module": "@jupyter-widgets/controls",
      "model_module_version": "1.5.0",
      "model_name": "CheckboxModel",
      "state": {
       "_dom_classes": [],
       "_model_module": "@jupyter-widgets/controls",
       "_model_module_version": "1.5.0",
       "_model_name": "CheckboxModel",
       "_view_count": null,
       "_view_module": "@jupyter-widgets/controls",
       "_view_module_version": "1.5.0",
       "_view_name": "CheckboxView",
       "description": "(M-) 95%ile Capacity Expansion Cost",
       "description_tooltip": "95%ile Capacity Expansion Cost",
       "disabled": false,
       "indent": true,
       "layout": "IPY_MODEL_1a73bb8ac1014823b20ab8bb36978dcc",
       "name": "95%ile Capacity Expansion Cost",
       "style": "IPY_MODEL_a747526870054d3b918c9c4bf42ed63a",
       "value": true
      }
     },
     "cb7cef8823e84e38a4b3d30134a4d0b2": {
      "model_module": "@jupyter-widgets/controls",
      "model_module_version": "1.5.0",
      "model_name": "DescriptionStyleModel",
      "state": {
       "_model_module": "@jupyter-widgets/controls",
       "_model_module_version": "1.5.0",
       "_model_name": "DescriptionStyleModel",
       "_view_count": null,
       "_view_module": "@jupyter-widgets/base",
       "_view_module_version": "1.2.0",
       "_view_name": "StyleView",
       "description_width": ""
      }
     },
     "cfda9fae80ee42f7b737f6793c1e4e6f": {
      "model_module": "@jupyter-widgets/controls",
      "model_module_version": "1.5.0",
      "model_name": "DescriptionStyleModel",
      "state": {
       "_model_module": "@jupyter-widgets/controls",
       "_model_module_version": "1.5.0",
       "_model_name": "DescriptionStyleModel",
       "_view_count": null,
       "_view_module": "@jupyter-widgets/base",
       "_view_module_version": "1.2.0",
       "_view_name": "StyleView",
       "description_width": ""
      }
     },
     "d0988867a60542a98cfba6b687155853": {
      "model_module": "@jupyter-widgets/controls",
      "model_module_version": "1.5.0",
      "model_name": "HBoxModel",
      "state": {
       "_dom_classes": [],
       "_model_module": "@jupyter-widgets/controls",
       "_model_module_version": "1.5.0",
       "_model_name": "HBoxModel",
       "_view_count": null,
       "_view_module": "@jupyter-widgets/controls",
       "_view_module_version": "1.5.0",
       "_view_name": "HBoxView",
       "box_style": "",
       "children": [
        "IPY_MODEL_ee0c154ae79a44e6974aa26b455ef282",
        "IPY_MODEL_329a06a3dc8d49909d899bb45a774471"
       ],
       "layout": "IPY_MODEL_a89ad548dbd44610a23ad691befea717"
      }
     },
     "d0f191626c614351a2f1a295399179a6": {
      "model_module": "@jupyter-widgets/controls",
      "model_module_version": "1.5.0",
      "model_name": "HBoxModel",
      "state": {
       "_dom_classes": [],
       "_model_module": "@jupyter-widgets/controls",
       "_model_module_version": "1.5.0",
       "_model_name": "HBoxModel",
       "_view_count": null,
       "_view_module": "@jupyter-widgets/controls",
       "_view_module_version": "1.5.0",
       "_view_name": "HBoxView",
       "box_style": "",
       "children": [
        "IPY_MODEL_06eaff3a8ea446b0ade776a174bd49ec",
        "IPY_MODEL_63a7ddf003a64b60bcbb5d2c9fdf27cd"
       ],
       "layout": "IPY_MODEL_301e409c5c3440d584bda940653a067e"
      }
     },
     "d1394208d0814a93bc4b92962455481c": {
      "model_module": "@jupyter-widgets/controls",
      "model_module_version": "1.5.0",
      "model_name": "CheckboxModel",
      "state": {
       "_dom_classes": [],
       "_model_module": "@jupyter-widgets/controls",
       "_model_module_version": "1.5.0",
       "_model_name": "CheckboxModel",
       "_view_count": null,
       "_view_module": "@jupyter-widgets/controls",
       "_view_module_version": "1.5.0",
       "_view_name": "CheckboxView",
       "description": "(X) alpha",
       "description_tooltip": "alpha",
       "disabled": false,
       "indent": true,
       "layout": "IPY_MODEL_dde3591a9f664f718acbdba2bf45d02c",
       "name": "alpha",
       "style": "IPY_MODEL_e8e929f1d34547319a4458d1e76cf15a",
       "value": true
      }
     },
     "d2b2603e6f95446795c8b4a058fe4890": {
      "model_module": "@jupyter-widgets/base",
      "model_module_version": "1.2.0",
      "model_name": "LayoutModel",
      "state": {
       "_model_module": "@jupyter-widgets/base",
       "_model_module_version": "1.2.0",
       "_model_name": "LayoutModel",
       "_view_count": null,
       "_view_module": "@jupyter-widgets/base",
       "_view_module_version": "1.2.0",
       "_view_name": "LayoutView",
       "align_content": null,
       "align_items": null,
       "align_self": null,
       "border": null,
       "bottom": null,
       "display": null,
       "flex": null,
       "flex_flow": "row wrap",
       "grid_area": null,
       "grid_auto_columns": null,
       "grid_auto_flow": null,
       "grid_auto_rows": null,
       "grid_column": null,
       "grid_gap": null,
       "grid_row": null,
       "grid_template_areas": null,
       "grid_template_columns": null,
       "grid_template_rows": null,
       "height": null,
       "justify_content": null,
       "justify_items": null,
       "left": null,
       "margin": null,
       "max_height": null,
       "max_width": null,
       "min_height": null,
       "min_width": null,
       "object_fit": null,
       "object_position": null,
       "order": null,
       "overflow": null,
       "overflow_x": null,
       "overflow_y": null,
       "padding": null,
       "right": null,
       "top": null,
       "visibility": null,
       "width": null
      }
     },
     "d33aea9edbb145cdab6da4efa09f4dcf": {
      "model_module": "@jupyter-widgets/base",
      "model_module_version": "1.2.0",
      "model_name": "LayoutModel",
      "state": {
       "_model_module": "@jupyter-widgets/base",
       "_model_module_version": "1.2.0",
       "_model_name": "LayoutModel",
       "_view_count": null,
       "_view_module": "@jupyter-widgets/base",
       "_view_module_version": "1.2.0",
       "_view_name": "LayoutView",
       "align_content": null,
       "align_items": null,
       "align_self": null,
       "border": null,
       "bottom": null,
       "display": null,
       "flex": null,
       "flex_flow": null,
       "grid_area": null,
       "grid_auto_columns": null,
       "grid_auto_flow": null,
       "grid_auto_rows": null,
       "grid_column": null,
       "grid_gap": null,
       "grid_row": null,
       "grid_template_areas": null,
       "grid_template_columns": null,
       "grid_template_rows": null,
       "height": null,
       "justify_content": null,
       "justify_items": null,
       "left": null,
       "margin": null,
       "max_height": null,
       "max_width": null,
       "min_height": null,
       "min_width": null,
       "object_fit": null,
       "object_position": null,
       "order": null,
       "overflow": null,
       "overflow_x": null,
       "overflow_y": null,
       "padding": null,
       "right": null,
       "top": null,
       "visibility": null,
       "width": null
      }
     },
     "d56f172ad8594c24a94d905d2a19ad76": {
      "model_module": "@jupyter-widgets/controls",
      "model_module_version": "1.5.0",
      "model_name": "CheckboxModel",
      "state": {
       "_dom_classes": [],
       "_model_module": "@jupyter-widgets/controls",
       "_model_module_version": "1.5.0",
       "_model_name": "CheckboxModel",
       "_view_count": null,
       "_view_module": "@jupyter-widgets/controls",
       "_view_module_version": "1.5.0",
       "_view_name": "CheckboxView",
       "description": "(L) Rate Lock",
       "description_tooltip": "interest_rate_lock",
       "disabled": false,
       "indent": true,
       "layout": "IPY_MODEL_3d022425702d40aca41fffefb94fdb53",
       "name": "interest_rate_lock",
       "style": "IPY_MODEL_cb7cef8823e84e38a4b3d30134a4d0b2",
       "value": true
      }
     },
     "d68842c8ceca4ced856b899b0c9f206d": {
      "model_module": "@jupyter-widgets/base",
      "model_module_version": "1.2.0",
      "model_name": "LayoutModel",
      "state": {
       "_model_module": "@jupyter-widgets/base",
       "_model_module_version": "1.2.0",
       "_model_name": "LayoutModel",
       "_view_count": null,
       "_view_module": "@jupyter-widgets/base",
       "_view_module_version": "1.2.0",
       "_view_name": "LayoutView",
       "align_content": null,
       "align_items": null,
       "align_self": null,
       "border": null,
       "bottom": null,
       "display": null,
       "flex": null,
       "flex_flow": null,
       "grid_area": null,
       "grid_auto_columns": null,
       "grid_auto_flow": null,
       "grid_auto_rows": null,
       "grid_column": null,
       "grid_gap": null,
       "grid_row": null,
       "grid_template_areas": null,
       "grid_template_columns": null,
       "grid_template_rows": null,
       "height": null,
       "justify_content": null,
       "justify_items": null,
       "left": null,
       "margin": null,
       "max_height": null,
       "max_width": null,
       "min_height": null,
       "min_width": null,
       "object_fit": null,
       "object_position": null,
       "order": null,
       "overflow": null,
       "overflow_x": null,
       "overflow_y": null,
       "padding": null,
       "right": null,
       "top": null,
       "visibility": null,
       "width": null
      }
     },
     "d6ac3586da5247048b17a73f706fb7e8": {
      "model_module": "@jupyter-widgets/base",
      "model_module_version": "1.2.0",
      "model_name": "LayoutModel",
      "state": {
       "_model_module": "@jupyter-widgets/base",
       "_model_module_version": "1.2.0",
       "_model_name": "LayoutModel",
       "_view_count": null,
       "_view_module": "@jupyter-widgets/base",
       "_view_module_version": "1.2.0",
       "_view_name": "LayoutView",
       "align_content": null,
       "align_items": null,
       "align_self": null,
       "border": null,
       "bottom": null,
       "display": null,
       "flex": null,
       "flex_flow": null,
       "grid_area": null,
       "grid_auto_columns": null,
       "grid_auto_flow": null,
       "grid_auto_rows": null,
       "grid_column": null,
       "grid_gap": null,
       "grid_row": null,
       "grid_template_areas": null,
       "grid_template_columns": null,
       "grid_template_rows": null,
       "height": null,
       "justify_content": null,
       "justify_items": null,
       "left": null,
       "margin": null,
       "max_height": null,
       "max_width": null,
       "min_height": null,
       "min_width": null,
       "object_fit": null,
       "object_position": null,
       "order": null,
       "overflow": null,
       "overflow_x": null,
       "overflow_y": null,
       "padding": null,
       "right": null,
       "top": null,
       "visibility": null,
       "width": null
      }
     },
     "d7517a96df3143fbae2addf34e8f5b4c": {
      "model_module": "@jupyter-widgets/base",
      "model_module_version": "1.2.0",
      "model_name": "LayoutModel",
      "state": {
       "_model_module": "@jupyter-widgets/base",
       "_model_module_version": "1.2.0",
       "_model_name": "LayoutModel",
       "_view_count": null,
       "_view_module": "@jupyter-widgets/base",
       "_view_module_version": "1.2.0",
       "_view_name": "LayoutView",
       "align_content": null,
       "align_items": null,
       "align_self": null,
       "border": null,
       "bottom": null,
       "display": null,
       "flex": null,
       "flex_flow": null,
       "grid_area": null,
       "grid_auto_columns": null,
       "grid_auto_flow": null,
       "grid_auto_rows": null,
       "grid_column": null,
       "grid_gap": null,
       "grid_row": null,
       "grid_template_areas": null,
       "grid_template_columns": null,
       "grid_template_rows": null,
       "height": null,
       "justify_content": null,
       "justify_items": null,
       "left": null,
       "margin": null,
       "max_height": null,
       "max_width": null,
       "min_height": null,
       "min_width": null,
       "object_fit": null,
       "object_position": null,
       "order": null,
       "overflow": null,
       "overflow_x": null,
       "overflow_y": null,
       "padding": null,
       "right": null,
       "top": null,
       "visibility": null,
       "width": null
      }
     },
     "d887c1c094d149e3872847374aa7126c": {
      "model_module": "@jupyter-widgets/base",
      "model_module_version": "1.2.0",
      "model_name": "LayoutModel",
      "state": {
       "_model_module": "@jupyter-widgets/base",
       "_model_module_version": "1.2.0",
       "_model_name": "LayoutModel",
       "_view_count": null,
       "_view_module": "@jupyter-widgets/base",
       "_view_module_version": "1.2.0",
       "_view_name": "LayoutView",
       "align_content": null,
       "align_items": null,
       "align_self": null,
       "border": null,
       "bottom": null,
       "display": null,
       "flex": null,
       "flex_flow": null,
       "grid_area": null,
       "grid_auto_columns": null,
       "grid_auto_flow": null,
       "grid_auto_rows": null,
       "grid_column": null,
       "grid_gap": null,
       "grid_row": null,
       "grid_template_areas": null,
       "grid_template_columns": null,
       "grid_template_rows": null,
       "height": null,
       "justify_content": null,
       "justify_items": null,
       "left": null,
       "margin": null,
       "max_height": null,
       "max_width": null,
       "min_height": null,
       "min_width": null,
       "object_fit": null,
       "object_position": null,
       "order": null,
       "overflow": null,
       "overflow_x": null,
       "overflow_y": null,
       "padding": null,
       "right": null,
       "top": null,
       "visibility": null,
       "width": null
      }
     },
     "d8add3057e944dc3a19d796f1f24247a": {
      "model_module": "@jupyter-widgets/base",
      "model_module_version": "1.2.0",
      "model_name": "LayoutModel",
      "state": {
       "_model_module": "@jupyter-widgets/base",
       "_model_module_version": "1.2.0",
       "_model_name": "LayoutModel",
       "_view_count": null,
       "_view_module": "@jupyter-widgets/base",
       "_view_module_version": "1.2.0",
       "_view_name": "LayoutView",
       "align_content": null,
       "align_items": "center",
       "align_self": null,
       "border": null,
       "bottom": null,
       "display": null,
       "flex": null,
       "flex_flow": null,
       "grid_area": null,
       "grid_auto_columns": null,
       "grid_auto_flow": null,
       "grid_auto_rows": null,
       "grid_column": null,
       "grid_gap": null,
       "grid_row": null,
       "grid_template_areas": null,
       "grid_template_columns": null,
       "grid_template_rows": null,
       "height": null,
       "justify_content": null,
       "justify_items": null,
       "left": null,
       "margin": null,
       "max_height": null,
       "max_width": null,
       "min_height": null,
       "min_width": null,
       "object_fit": null,
       "object_position": null,
       "order": null,
       "overflow": null,
       "overflow_x": null,
       "overflow_y": null,
       "padding": null,
       "right": null,
       "top": null,
       "visibility": null,
       "width": null
      }
     },
     "d8ce2aa10d864860908543adafc046b3": {
      "model_module": "@jupyter-widgets/controls",
      "model_module_version": "1.5.0",
      "model_name": "DescriptionStyleModel",
      "state": {
       "_model_module": "@jupyter-widgets/controls",
       "_model_module_version": "1.5.0",
       "_model_name": "DescriptionStyleModel",
       "_view_count": null,
       "_view_module": "@jupyter-widgets/base",
       "_view_module_version": "1.2.0",
       "_view_name": "StyleView",
       "description_width": ""
      }
     },
     "dd09828aa9414be8ae3b59dd35fad208": {
      "model_module": "@jupyter-widgets/controls",
      "model_module_version": "1.5.0",
      "model_name": "CheckboxModel",
      "state": {
       "_dom_classes": [],
       "_model_module": "@jupyter-widgets/controls",
       "_model_module_version": "1.5.0",
       "_model_name": "CheckboxModel",
       "_view_count": null,
       "_view_module": "@jupyter-widgets/controls",
       "_view_module_version": "1.5.0",
       "_view_name": "CheckboxView",
       "description": "(M+) Expected Time Savings",
       "description_tooltip": "Expected Time Savings",
       "disabled": false,
       "indent": true,
       "layout": "IPY_MODEL_1d44c6642b8345a793ed720b0b943b1d",
       "name": "Expected Time Savings",
       "style": "IPY_MODEL_8674e937d087473da3a674268e132896",
       "value": true
      }
     },
     "dde3591a9f664f718acbdba2bf45d02c": {
      "model_module": "@jupyter-widgets/base",
      "model_module_version": "1.2.0",
      "model_name": "LayoutModel",
      "state": {
       "_model_module": "@jupyter-widgets/base",
       "_model_module_version": "1.2.0",
       "_model_name": "LayoutModel",
       "_view_count": null,
       "_view_module": "@jupyter-widgets/base",
       "_view_module_version": "1.2.0",
       "_view_name": "LayoutView",
       "align_content": null,
       "align_items": null,
       "align_self": null,
       "border": null,
       "bottom": null,
       "display": null,
       "flex": null,
       "flex_flow": null,
       "grid_area": null,
       "grid_auto_columns": null,
       "grid_auto_flow": null,
       "grid_auto_rows": null,
       "grid_column": null,
       "grid_gap": null,
       "grid_row": null,
       "grid_template_areas": null,
       "grid_template_columns": null,
       "grid_template_rows": null,
       "height": null,
       "justify_content": null,
       "justify_items": null,
       "left": null,
       "margin": null,
       "max_height": null,
       "max_width": null,
       "min_height": null,
       "min_width": null,
       "object_fit": null,
       "object_position": null,
       "order": null,
       "overflow": null,
       "overflow_x": null,
       "overflow_y": null,
       "padding": null,
       "right": null,
       "top": null,
       "visibility": null,
       "width": null
      }
     },
     "dde71322a7c24e2eb24b22595fca8aee": {
      "model_module": "@jupyter-widgets/controls",
      "model_module_version": "1.5.0",
      "model_name": "HBoxModel",
      "state": {
       "_dom_classes": [],
       "_model_module": "@jupyter-widgets/controls",
       "_model_module_version": "1.5.0",
       "_model_name": "HBoxModel",
       "_view_count": null,
       "_view_module": "@jupyter-widgets/controls",
       "_view_module_version": "1.5.0",
       "_view_name": "HBoxView",
       "box_style": "",
       "children": [
        "IPY_MODEL_fb62329531ab4ad0a4da826e148dd0b2",
        "IPY_MODEL_5908e92226eb40b18c8f9b2085d02667"
       ],
       "layout": "IPY_MODEL_de3a95016906484abd33672aa2968727"
      }
     },
     "de3a95016906484abd33672aa2968727": {
      "model_module": "@jupyter-widgets/base",
      "model_module_version": "1.2.0",
      "model_name": "LayoutModel",
      "state": {
       "_model_module": "@jupyter-widgets/base",
       "_model_module_version": "1.2.0",
       "_model_name": "LayoutModel",
       "_view_count": null,
       "_view_module": "@jupyter-widgets/base",
       "_view_module_version": "1.2.0",
       "_view_name": "LayoutView",
       "align_content": null,
       "align_items": null,
       "align_self": null,
       "border": null,
       "bottom": null,
       "display": null,
       "flex": null,
       "flex_flow": null,
       "grid_area": null,
       "grid_auto_columns": null,
       "grid_auto_flow": null,
       "grid_auto_rows": null,
       "grid_column": null,
       "grid_gap": null,
       "grid_row": null,
       "grid_template_areas": null,
       "grid_template_columns": null,
       "grid_template_rows": null,
       "height": null,
       "justify_content": null,
       "justify_items": null,
       "left": null,
       "margin": null,
       "max_height": null,
       "max_width": null,
       "min_height": null,
       "min_width": null,
       "object_fit": null,
       "object_position": null,
       "order": null,
       "overflow": null,
       "overflow_x": null,
       "overflow_y": null,
       "padding": null,
       "right": null,
       "top": null,
       "visibility": null,
       "width": null
      }
     },
     "df07c6a28cbb48f899ab748f63d6f661": {
      "model_module": "@jupyter-widgets/base",
      "model_module_version": "1.2.0",
      "model_name": "LayoutModel",
      "state": {
       "_model_module": "@jupyter-widgets/base",
       "_model_module_version": "1.2.0",
       "_model_name": "LayoutModel",
       "_view_count": null,
       "_view_module": "@jupyter-widgets/base",
       "_view_module_version": "1.2.0",
       "_view_name": "LayoutView",
       "align_content": null,
       "align_items": null,
       "align_self": null,
       "border": null,
       "bottom": null,
       "display": null,
       "flex": null,
       "flex_flow": null,
       "grid_area": null,
       "grid_auto_columns": null,
       "grid_auto_flow": null,
       "grid_auto_rows": null,
       "grid_column": null,
       "grid_gap": null,
       "grid_row": null,
       "grid_template_areas": null,
       "grid_template_columns": null,
       "grid_template_rows": null,
       "height": null,
       "justify_content": null,
       "justify_items": null,
       "left": null,
       "margin": null,
       "max_height": null,
       "max_width": null,
       "min_height": null,
       "min_width": null,
       "object_fit": null,
       "object_position": null,
       "order": null,
       "overflow": null,
       "overflow_x": null,
       "overflow_y": null,
       "padding": null,
       "right": null,
       "top": null,
       "visibility": null,
       "width": null
      }
     },
     "e246ab5f6ed0424d9e28deaf79834afa": {
      "model_module": "@jupyter-widgets/base",
      "model_module_version": "1.2.0",
      "model_name": "LayoutModel",
      "state": {
       "_model_module": "@jupyter-widgets/base",
       "_model_module_version": "1.2.0",
       "_model_name": "LayoutModel",
       "_view_count": null,
       "_view_module": "@jupyter-widgets/base",
       "_view_module_version": "1.2.0",
       "_view_name": "LayoutView",
       "align_content": null,
       "align_items": null,
       "align_self": null,
       "border": null,
       "bottom": null,
       "display": null,
       "flex": null,
       "flex_flow": null,
       "grid_area": null,
       "grid_auto_columns": null,
       "grid_auto_flow": null,
       "grid_auto_rows": null,
       "grid_column": null,
       "grid_gap": null,
       "grid_row": null,
       "grid_template_areas": null,
       "grid_template_columns": null,
       "grid_template_rows": null,
       "height": null,
       "justify_content": null,
       "justify_items": null,
       "left": null,
       "margin": null,
       "max_height": null,
       "max_width": null,
       "min_height": null,
       "min_width": null,
       "object_fit": null,
       "object_position": null,
       "order": null,
       "overflow": null,
       "overflow_x": null,
       "overflow_y": null,
       "padding": null,
       "right": null,
       "top": null,
       "visibility": null,
       "width": null
      }
     },
     "e392d81a0e1c485480f60829aabae01a": {
      "model_module": "plotlywidget",
      "model_module_version": "^4.14.3",
      "model_name": "FigureModel",
      "state": {
       "_config": {
        "plotlyServerURL": "https://plot.ly"
       },
       "_data": [
        {
         "fill": "tonexty",
         "line": {
          "shape": "linear"
         },
         "mode": "lines+markers",
         "name": "",
         "type": "scatter",
         "uid": "432a6bb4-2171-4101-87a0-cb2444a40ad9"
        }
       ],
       "_dom_classes": [],
       "_js2py_layoutDelta": {},
       "_js2py_pointsCallback": {},
       "_js2py_relayout": {},
       "_js2py_restyle": {},
       "_js2py_traceDeltas": {},
       "_js2py_update": {},
       "_last_layout_edit_id": 4,
       "_last_trace_edit_id": 1,
       "_layout": {
        "hovermode": "closest",
        "showlegend": false,
        "title": {
         "text": "ε-Progress"
        }
       },
       "_model_module": "plotlywidget",
       "_model_module_version": "^4.14.3",
       "_model_name": "FigureModel",
       "_py2js_addTraces": {},
       "_py2js_animate": {},
       "_py2js_deleteTraces": {},
       "_py2js_moveTraces": {},
       "_py2js_relayout": null,
       "_py2js_removeLayoutProps": {},
       "_py2js_removeTraceProps": {},
       "_py2js_restyle": {},
       "_py2js_update": null,
       "_view_count": 0,
       "_view_module": "plotlywidget",
       "_view_module_version": "^4.14.3",
       "_view_name": "FigureView"
      }
     },
     "e4b5094084a942529ad30a1a82ab6cd0": {
      "model_module": "@jupyter-widgets/base",
      "model_module_version": "1.2.0",
      "model_name": "LayoutModel",
      "state": {
       "_model_module": "@jupyter-widgets/base",
       "_model_module_version": "1.2.0",
       "_model_name": "LayoutModel",
       "_view_count": null,
       "_view_module": "@jupyter-widgets/base",
       "_view_module_version": "1.2.0",
       "_view_name": "LayoutView",
       "align_content": null,
       "align_items": null,
       "align_self": null,
       "border": null,
       "bottom": null,
       "display": null,
       "flex": null,
       "flex_flow": "row wrap",
       "grid_area": null,
       "grid_auto_columns": null,
       "grid_auto_flow": null,
       "grid_auto_rows": null,
       "grid_column": null,
       "grid_gap": null,
       "grid_row": null,
       "grid_template_areas": null,
       "grid_template_columns": null,
       "grid_template_rows": null,
       "height": null,
       "justify_content": null,
       "justify_items": null,
       "left": null,
       "margin": null,
       "max_height": null,
       "max_width": null,
       "min_height": null,
       "min_width": null,
       "object_fit": null,
       "object_position": null,
       "order": null,
       "overflow": null,
       "overflow_x": null,
       "overflow_y": null,
       "padding": null,
       "right": null,
       "top": null,
       "visibility": null,
       "width": null
      }
     },
     "e5ce6681de284b9e98337b1a18b3ac9e": {
      "model_module": "@jupyter-widgets/controls",
      "model_module_version": "1.5.0",
      "model_name": "DescriptionStyleModel",
      "state": {
       "_model_module": "@jupyter-widgets/controls",
       "_model_module_version": "1.5.0",
       "_model_name": "DescriptionStyleModel",
       "_view_count": null,
       "_view_module": "@jupyter-widgets/base",
       "_view_module_version": "1.2.0",
       "_view_name": "StyleView",
       "description_width": ""
      }
     },
     "e7102a323c7c48f68b82d6da7bebb887": {
      "model_module": "@jupyter-widgets/controls",
      "model_module_version": "1.5.0",
      "model_name": "DescriptionStyleModel",
      "state": {
       "_model_module": "@jupyter-widgets/controls",
       "_model_module_version": "1.5.0",
       "_model_name": "DescriptionStyleModel",
       "_view_count": null,
       "_view_module": "@jupyter-widgets/base",
       "_view_module_version": "1.2.0",
       "_view_name": "StyleView",
       "description_width": ""
      }
     },
     "e73febb22ef648c09af7b1c3c569e4ab": {
      "model_module": "@jupyter-widgets/output",
      "model_module_version": "1.0.0",
      "model_name": "OutputModel",
      "state": {
       "_dom_classes": [],
       "_model_module": "@jupyter-widgets/output",
       "_model_module_version": "1.0.0",
       "_model_name": "OutputModel",
       "_view_count": null,
       "_view_module": "@jupyter-widgets/output",
       "_view_module_version": "1.0.0",
       "_view_name": "OutputView",
       "layout": "IPY_MODEL_381db4cb6f924da2b4c01e8bc47e7b51",
       "msg_id": "",
       "outputs": []
      }
     },
     "e84991115cfc46959b320db8a3782cf6": {
      "model_module": "@jupyter-widgets/controls",
      "model_module_version": "1.5.0",
      "model_name": "HBoxModel",
      "state": {
       "_dom_classes": [],
       "_model_module": "@jupyter-widgets/controls",
       "_model_module_version": "1.5.0",
       "_model_name": "HBoxModel",
       "_view_count": null,
       "_view_module": "@jupyter-widgets/controls",
       "_view_module_version": "1.5.0",
       "_view_name": "HBoxView",
       "box_style": "",
       "children": [
        "IPY_MODEL_fd0a4a73a210485ca7ee0a36ca10974b",
        "IPY_MODEL_ac93ac3392604c8880f8981761280c0e"
       ],
       "layout": "IPY_MODEL_5c1bca0ad04d480a8b2deed60eaa66b9"
      }
     },
     "e8e929f1d34547319a4458d1e76cf15a": {
      "model_module": "@jupyter-widgets/controls",
      "model_module_version": "1.5.0",
      "model_name": "DescriptionStyleModel",
      "state": {
       "_model_module": "@jupyter-widgets/controls",
       "_model_module_version": "1.5.0",
       "_model_name": "DescriptionStyleModel",
       "_view_count": null,
       "_view_module": "@jupyter-widgets/base",
       "_view_module_version": "1.2.0",
       "_view_name": "StyleView",
       "description_width": ""
      }
     },
     "e9d5c9249aa448a899370abb45f97b82": {
      "model_module": "@jupyter-widgets/base",
      "model_module_version": "1.2.0",
      "model_name": "LayoutModel",
      "state": {
       "_model_module": "@jupyter-widgets/base",
       "_model_module_version": "1.2.0",
       "_model_name": "LayoutModel",
       "_view_count": null,
       "_view_module": "@jupyter-widgets/base",
       "_view_module_version": "1.2.0",
       "_view_name": "LayoutView",
       "align_content": null,
       "align_items": null,
       "align_self": null,
       "border": null,
       "bottom": null,
       "display": null,
       "flex": null,
       "flex_flow": null,
       "grid_area": null,
       "grid_auto_columns": null,
       "grid_auto_flow": null,
       "grid_auto_rows": null,
       "grid_column": null,
       "grid_gap": null,
       "grid_row": null,
       "grid_template_areas": null,
       "grid_template_columns": null,
       "grid_template_rows": null,
       "height": null,
       "justify_content": null,
       "justify_items": null,
       "left": null,
       "margin": null,
       "max_height": null,
       "max_width": null,
       "min_height": null,
       "min_width": null,
       "object_fit": null,
       "object_position": null,
       "order": null,
       "overflow": null,
       "overflow_x": null,
       "overflow_y": null,
       "padding": null,
       "right": null,
       "top": null,
       "visibility": null,
       "width": null
      }
     },
     "eb4c40ff3a9f4c7295471d324e15dad1": {
      "model_module": "@jupyter-widgets/base",
      "model_module_version": "1.2.0",
      "model_name": "LayoutModel",
      "state": {
       "_model_module": "@jupyter-widgets/base",
       "_model_module_version": "1.2.0",
       "_model_name": "LayoutModel",
       "_view_count": null,
       "_view_module": "@jupyter-widgets/base",
       "_view_module_version": "1.2.0",
       "_view_name": "LayoutView",
       "align_content": null,
       "align_items": null,
       "align_self": null,
       "border": null,
       "bottom": null,
       "display": null,
       "flex": null,
       "flex_flow": null,
       "grid_area": null,
       "grid_auto_columns": null,
       "grid_auto_flow": null,
       "grid_auto_rows": null,
       "grid_column": null,
       "grid_gap": null,
       "grid_row": null,
       "grid_template_areas": null,
       "grid_template_columns": null,
       "grid_template_rows": null,
       "height": null,
       "justify_content": null,
       "justify_items": null,
       "left": null,
       "margin": null,
       "max_height": null,
       "max_width": null,
       "min_height": null,
       "min_width": null,
       "object_fit": null,
       "object_position": null,
       "order": null,
       "overflow": null,
       "overflow_x": null,
       "overflow_y": null,
       "padding": null,
       "right": null,
       "top": null,
       "visibility": null,
       "width": null
      }
     },
     "ebbb19b580de4c4eb7c67ba36a665fec": {
      "model_module": "@jupyter-widgets/controls",
      "model_module_version": "1.5.0",
      "model_name": "DescriptionStyleModel",
      "state": {
       "_model_module": "@jupyter-widgets/controls",
       "_model_module_version": "1.5.0",
       "_model_name": "DescriptionStyleModel",
       "_view_count": null,
       "_view_module": "@jupyter-widgets/base",
       "_view_module_version": "1.2.0",
       "_view_name": "StyleView",
       "description_width": ""
      }
     },
     "ed9e7adc0bff4de5a2cfc739f87582d6": {
      "model_module": "@jupyter-widgets/base",
      "model_module_version": "1.2.0",
      "model_name": "LayoutModel",
      "state": {
       "_model_module": "@jupyter-widgets/base",
       "_model_module_version": "1.2.0",
       "_model_name": "LayoutModel",
       "_view_count": null,
       "_view_module": "@jupyter-widgets/base",
       "_view_module_version": "1.2.0",
       "_view_name": "LayoutView",
       "align_content": null,
       "align_items": null,
       "align_self": null,
       "border": null,
       "bottom": null,
       "display": null,
       "flex": null,
       "flex_flow": null,
       "grid_area": null,
       "grid_auto_columns": null,
       "grid_auto_flow": null,
       "grid_auto_rows": null,
       "grid_column": null,
       "grid_gap": null,
       "grid_row": null,
       "grid_template_areas": null,
       "grid_template_columns": null,
       "grid_template_rows": null,
       "height": null,
       "justify_content": null,
       "justify_items": null,
       "left": null,
       "margin": null,
       "max_height": null,
       "max_width": null,
       "min_height": null,
       "min_width": null,
       "object_fit": null,
       "object_position": null,
       "order": null,
       "overflow": null,
       "overflow_x": null,
       "overflow_y": null,
       "padding": null,
       "right": null,
       "top": null,
       "visibility": null,
       "width": null
      }
     },
     "ee0c154ae79a44e6974aa26b455ef282": {
      "model_module": "@jupyter-widgets/controls",
      "model_module_version": "1.5.0",
      "model_name": "DropdownModel",
      "state": {
       "_dom_classes": [],
       "_model_module": "@jupyter-widgets/controls",
       "_model_module_version": "1.5.0",
       "_model_name": "DropdownModel",
       "_options_labels": [
        "< None >",
        "expand_capacity",
        "amortization_period",
        "debt_type",
        "interest_rate_lock",
        "Mean Net Benefits",
        "5%ile Net Benefits",
        "Possibility of Negative Net Benefits",
        "95%ile Capacity Expansion Cost",
        "Expected Time Savings",
        "99%ile Present Cost"
       ],
       "_view_count": null,
       "_view_module": "@jupyter-widgets/controls",
       "_view_module_version": "1.5.0",
       "_view_name": "DropdownView",
       "description": "Colorize:",
       "description_tooltip": null,
       "disabled": false,
       "index": 1,
       "layout": "IPY_MODEL_b625bfd9e9d64cd3900681a201cc2dc3",
       "style": "IPY_MODEL_66ef94f304de4a59bc70954cc2c2b68a"
      }
     },
     "ee15a305f0fe49e88444b754d32dd2aa": {
      "model_module": "@jupyter-widgets/base",
      "model_module_version": "1.2.0",
      "model_name": "LayoutModel",
      "state": {
       "_model_module": "@jupyter-widgets/base",
       "_model_module_version": "1.2.0",
       "_model_name": "LayoutModel",
       "_view_count": null,
       "_view_module": "@jupyter-widgets/base",
       "_view_module_version": "1.2.0",
       "_view_name": "LayoutView",
       "align_content": null,
       "align_items": null,
       "align_self": null,
       "border": null,
       "bottom": null,
       "display": null,
       "flex": null,
       "flex_flow": "row wrap",
       "grid_area": null,
       "grid_auto_columns": null,
       "grid_auto_flow": null,
       "grid_auto_rows": null,
       "grid_column": null,
       "grid_gap": null,
       "grid_row": null,
       "grid_template_areas": null,
       "grid_template_columns": null,
       "grid_template_rows": null,
       "height": null,
       "justify_content": null,
       "justify_items": null,
       "left": null,
       "margin": null,
       "max_height": null,
       "max_width": null,
       "min_height": null,
       "min_width": null,
       "object_fit": null,
       "object_position": null,
       "order": null,
       "overflow": null,
       "overflow_x": null,
       "overflow_y": null,
       "padding": null,
       "right": null,
       "top": null,
       "visibility": null,
       "width": null
      }
     },
     "ee6c780a8f2542f881562172f13a6d8a": {
      "model_module": "@jupyter-widgets/controls",
      "model_module_version": "1.5.0",
      "model_name": "CheckboxModel",
      "state": {
       "_dom_classes": [],
       "_model_module": "@jupyter-widgets/controls",
       "_model_module_version": "1.5.0",
       "_model_name": "CheckboxModel",
       "_view_count": null,
       "_view_module": "@jupyter-widgets/controls",
       "_view_module_version": "1.5.0",
       "_view_name": "CheckboxView",
       "description": "(M-) Possibility of Negative Net Benefits",
       "description_tooltip": "Possibility of Negative Net Benefits",
       "disabled": false,
       "indent": true,
       "layout": "IPY_MODEL_574e4af3991b433f85614ec33bae8f12",
       "name": "Possibility of Negative Net Benefits",
       "style": "IPY_MODEL_8d9e5a04188a477fa9c5abe9b8b1f363",
       "value": true
      }
     },
     "ee70a5e32a2f4d64baac4a9a49349f5b": {
      "model_module": "@jupyter-widgets/controls",
      "model_module_version": "1.5.0",
      "model_name": "CheckboxModel",
      "state": {
       "_dom_classes": [],
       "_model_module": "@jupyter-widgets/controls",
       "_model_module_version": "1.5.0",
       "_model_name": "CheckboxModel",
       "_view_count": null,
       "_view_module": "@jupyter-widgets/controls",
       "_view_module_version": "1.5.0",
       "_view_name": "CheckboxView",
       "description": "(L) Amortization",
       "description_tooltip": "amortization_period",
       "disabled": false,
       "indent": true,
       "layout": "IPY_MODEL_f2b55ac231b541f39222fcc0d2008fea",
       "name": "amortization_period",
       "style": "IPY_MODEL_613e740eb735412788f6c6dc5d855fd0",
       "value": true
      }
     },
     "f012d7a374114032bd9a64481847bdc0": {
      "model_module": "@jupyter-widgets/controls",
      "model_module_version": "1.5.0",
      "model_name": "CheckboxModel",
      "state": {
       "_dom_classes": [],
       "_model_module": "@jupyter-widgets/controls",
       "_model_module_version": "1.5.0",
       "_model_name": "CheckboxModel",
       "_view_count": null,
       "_view_module": "@jupyter-widgets/controls",
       "_view_module_version": "1.5.0",
       "_view_name": "CheckboxView",
       "description": "(L) Rate Lock",
       "description_tooltip": "interest_rate_lock",
       "disabled": false,
       "indent": true,
       "layout": "IPY_MODEL_ed9e7adc0bff4de5a2cfc739f87582d6",
       "name": "interest_rate_lock",
       "style": "IPY_MODEL_ebbb19b580de4c4eb7c67ba36a665fec",
       "value": true
      }
     },
     "f0f880c1f6134e66b4a5280fcca9352b": {
      "model_module": "@jupyter-widgets/controls",
      "model_module_version": "1.5.0",
      "model_name": "CheckboxModel",
      "state": {
       "_dom_classes": [],
       "_model_module": "@jupyter-widgets/controls",
       "_model_module_version": "1.5.0",
       "_model_name": "CheckboxModel",
       "_view_count": null,
       "_view_module": "@jupyter-widgets/controls",
       "_view_module_version": "1.5.0",
       "_view_name": "CheckboxView",
       "description": "(M-) Build Time",
       "description_tooltip": "build_travel_time",
       "disabled": false,
       "indent": true,
       "layout": "IPY_MODEL_eb4c40ff3a9f4c7295471d324e15dad1",
       "name": "build_travel_time",
       "style": "IPY_MODEL_c8e16183443249a0b37f52c1463c3e22",
       "value": true
      }
     },
     "f2b55ac231b541f39222fcc0d2008fea": {
      "model_module": "@jupyter-widgets/base",
      "model_module_version": "1.2.0",
      "model_name": "LayoutModel",
      "state": {
       "_model_module": "@jupyter-widgets/base",
       "_model_module_version": "1.2.0",
       "_model_name": "LayoutModel",
       "_view_count": null,
       "_view_module": "@jupyter-widgets/base",
       "_view_module_version": "1.2.0",
       "_view_name": "LayoutView",
       "align_content": null,
       "align_items": null,
       "align_self": null,
       "border": null,
       "bottom": null,
       "display": null,
       "flex": null,
       "flex_flow": null,
       "grid_area": null,
       "grid_auto_columns": null,
       "grid_auto_flow": null,
       "grid_auto_rows": null,
       "grid_column": null,
       "grid_gap": null,
       "grid_row": null,
       "grid_template_areas": null,
       "grid_template_columns": null,
       "grid_template_rows": null,
       "height": null,
       "justify_content": null,
       "justify_items": null,
       "left": null,
       "margin": null,
       "max_height": null,
       "max_width": null,
       "min_height": null,
       "min_width": null,
       "object_fit": null,
       "object_position": null,
       "order": null,
       "overflow": null,
       "overflow_x": null,
       "overflow_y": null,
       "padding": null,
       "right": null,
       "top": null,
       "visibility": null,
       "width": null
      }
     },
     "f2f17f80859548658494f2df36eb6be0": {
      "model_module": "@jupyter-widgets/base",
      "model_module_version": "1.2.0",
      "model_name": "LayoutModel",
      "state": {
       "_model_module": "@jupyter-widgets/base",
       "_model_module_version": "1.2.0",
       "_model_name": "LayoutModel",
       "_view_count": null,
       "_view_module": "@jupyter-widgets/base",
       "_view_module_version": "1.2.0",
       "_view_name": "LayoutView",
       "align_content": null,
       "align_items": null,
       "align_self": null,
       "border": null,
       "bottom": null,
       "display": null,
       "flex": null,
       "flex_flow": null,
       "grid_area": null,
       "grid_auto_columns": null,
       "grid_auto_flow": null,
       "grid_auto_rows": null,
       "grid_column": null,
       "grid_gap": null,
       "grid_row": null,
       "grid_template_areas": null,
       "grid_template_columns": null,
       "grid_template_rows": null,
       "height": null,
       "justify_content": null,
       "justify_items": null,
       "left": null,
       "margin": null,
       "max_height": null,
       "max_width": null,
       "min_height": null,
       "min_width": null,
       "object_fit": null,
       "object_position": null,
       "order": null,
       "overflow": null,
       "overflow_x": null,
       "overflow_y": null,
       "padding": null,
       "right": null,
       "top": null,
       "visibility": null,
       "width": null
      }
     },
     "f35eba47602f4108a4d13719ba3458bb": {
      "model_module": "@jupyter-widgets/controls",
      "model_module_version": "1.5.0",
      "model_name": "DescriptionStyleModel",
      "state": {
       "_model_module": "@jupyter-widgets/controls",
       "_model_module_version": "1.5.0",
       "_model_name": "DescriptionStyleModel",
       "_view_count": null,
       "_view_module": "@jupyter-widgets/base",
       "_view_module_version": "1.2.0",
       "_view_name": "StyleView",
       "description_width": ""
      }
     },
     "f4d5912c53e749edb510cec60ae01880": {
      "model_module": "@jupyter-widgets/controls",
      "model_module_version": "1.5.0",
      "model_name": "BoxModel",
      "state": {
       "_dom_classes": [],
       "_model_module": "@jupyter-widgets/controls",
       "_model_module_version": "1.5.0",
       "_model_name": "BoxModel",
       "_view_count": null,
       "_view_module": "@jupyter-widgets/controls",
       "_view_module_version": "1.5.0",
       "_view_name": "BoxView",
       "box_style": "",
       "children": [
        "IPY_MODEL_1a15c2de6abd46d9920b2b8f76434487",
        "IPY_MODEL_ee70a5e32a2f4d64baac4a9a49349f5b",
        "IPY_MODEL_6405e3e61e764ddf903bbe792cef822b",
        "IPY_MODEL_f012d7a374114032bd9a64481847bdc0",
        "IPY_MODEL_f914789409e14188b4a2bb3cb116dc0a",
        "IPY_MODEL_22f396fd38bd40a79011c5eec4251033",
        "IPY_MODEL_9bb8d0df33dd45f7afd70b20747c3f18",
        "IPY_MODEL_ca84763dfeab409dbb4602d433d70780",
        "IPY_MODEL_dd09828aa9414be8ae3b59dd35fad208",
        "IPY_MODEL_c3375edbf3694a34b13ee0c2e1264c61"
       ],
       "layout": "IPY_MODEL_e4b5094084a942529ad30a1a82ab6cd0"
      }
     },
     "f914789409e14188b4a2bb3cb116dc0a": {
      "model_module": "@jupyter-widgets/controls",
      "model_module_version": "1.5.0",
      "model_name": "CheckboxModel",
      "state": {
       "_dom_classes": [],
       "_model_module": "@jupyter-widgets/controls",
       "_model_module_version": "1.5.0",
       "_model_name": "CheckboxModel",
       "_view_count": null,
       "_view_module": "@jupyter-widgets/controls",
       "_view_module_version": "1.5.0",
       "_view_name": "CheckboxView",
       "description": "(M+) Mean Net Benefits",
       "description_tooltip": "Mean Net Benefits",
       "disabled": false,
       "indent": true,
       "layout": "IPY_MODEL_e246ab5f6ed0424d9e28deaf79834afa",
       "name": "Mean Net Benefits",
       "style": "IPY_MODEL_9e98b7b8e49c4a23bde9c57a6a3df2ff",
       "value": true
      }
     },
     "faf5d5bcb68e443fbc455c78823a09c8": {
      "model_module": "plotlywidget",
      "model_module_version": "^4.14.3",
      "model_name": "FigureModel",
      "state": {
       "_config": {
        "plotlyServerURL": "https://plot.ly"
       },
       "_data": [
        {
         "fill": "tonexty",
         "line": {
          "shape": "linear"
         },
         "mode": "lines+markers",
         "name": "",
         "type": "scatter",
         "uid": "7a2a6af1-31db-43d8-b7cd-0e1cf5fd12ec"
        }
       ],
       "_dom_classes": [],
       "_js2py_layoutDelta": {},
       "_js2py_pointsCallback": {},
       "_js2py_relayout": {},
       "_js2py_restyle": {},
       "_js2py_traceDeltas": {},
       "_js2py_update": {},
       "_last_layout_edit_id": 4,
       "_last_trace_edit_id": 1,
       "_layout": {
        "hovermode": "closest",
        "showlegend": false,
        "title": {
         "text": "Number of Solutions"
        }
       },
       "_model_module": "plotlywidget",
       "_model_module_version": "^4.14.3",
       "_model_name": "FigureModel",
       "_py2js_addTraces": {},
       "_py2js_animate": {},
       "_py2js_deleteTraces": {},
       "_py2js_moveTraces": {},
       "_py2js_relayout": null,
       "_py2js_removeLayoutProps": {},
       "_py2js_removeTraceProps": {},
       "_py2js_restyle": {},
       "_py2js_update": null,
       "_view_count": 0,
       "_view_module": "plotlywidget",
       "_view_module_version": "^4.14.3",
       "_view_name": "FigureView"
      }
     },
     "fb35cc941bfe4f2ab9a61fe23b588396": {
      "buffers": [
       {
        "data": "4yOWaMQ2VkDrEyZedkkgQGL5ZCGMuApAGQ+Fuyo8K0DAUGEWpRJCQIUAmW+JvFhAAAAAAAAAAAAAAAAAAABZQHSjExWqKEpAleIpCDjdSUBs76EY3T45QOPXmS6UTEJAXVj3gA/NU0BO8xX1YwFRQHzzdjt7N1FA58CJH8wrLEC+WHR50Ro0QKjI5sIFGD1A3TzPEKtILEC0sMqjaYLyP+y/k/FtVEpAQdoLy5yYMUBbdfJ0vfs5QMYplple6SVAmqOQ8FjCFUDq4u7esFBOQDUL20rn7BVAy2VL0GhdPkAncE5G7Mk1QE18RfF+diNA8X/pMfY9Q0CoNOOKsVdPQLyRk/7B3QNA",
        "encoding": "base64",
        "path": [
         "_data",
         0,
         "dimensions",
         0,
         "values",
         "buffer"
        ]
       },
       {
        "data": "I47YAJ4nAEDvHTO2T2r/P6JxrqNFGgBAf7ZtV3cCAED3xtPPaCwAQKrxjlnJaf8/TelGpNUUAEAiUYRRejcAQNfU9adsNP8/q/S6+O25/z9ipNTRQoH/P6fN3WcjeP8/ZVaSdaCS/z9JvHdbApb/P5G0AI70Tf8/WFzyaDIAAEBvqj/g1az/Pz9gg3ptIQBAujQ+9wAGAEBk29kNQWf/PxHXsfC6df8/XIV2Jlnp/z/JaDTMENL/P+LbAOIKHQBAlp1TEaND/z9K6Q6E0y0AQGqlCOxCYf8/5mdcPnnW/z+iC4UZepf/P6UNP9JoQQBA24nSBxBu/z8E/DFJ8T0AQGH1y5lJYABA",
        "encoding": "base64",
        "path": [
         "_data",
         0,
         "dimensions",
         2,
         "values",
         "buffer"
        ]
       },
       {
        "data": "mf4dR3Hs7j+aQ1HJ5mHwP52QjmNqQ/A/txNckn6t7j99o/WbpnfwP9FsG+poKvA/LJdj/pIumT/4t8gNax7vPxoRc69ki5C/2DxN5xB2eb8Yv6smNDTvP4YXL/CQD/A/v11ExRq48D8TJa1oCZnuPyRriIpKa/A/w4e4qXGi8D/w6KmjdjCYP6VihnTvRu8/oJvoMOwF8D+MieTwR0OjP24J6SdJa/A/k+0Q+qqU8D84iM94wDPwP+gMHhgO7e8/wNgKCF2He7+VVGjaXS7wP9249Hae8e8/wHJ/ECcZlL9AEjorS8FUPxDe+ZXR2aW/ZxypCyFj8D89+pxLw8buP0CQ9wyMYfA/",
        "encoding": "base64",
        "path": [
         "_data",
         0,
         "dimensions",
         3,
         "values",
         "buffer"
        ]
       },
       {
        "data": "/glTHI9aTkBFq2CAIqVQQKPA034Q+VBAp6+9YKdZUEBaNwCHTU9PQBJuKcOJSU5AAAAAAABAUUD//////0dOQMsURLUE1k5A2SoMCF3ZTkCSWqhjK9RPQCrQgoDhSk9AP0D6trNvTkDmhIV3ipBOQIYpQDqrjU5ArrItPARUUEDXrbtVzxRQQKVoIcTKnk9Ag8EmW1hTUEDzcDWMGSZRQKovX4Ib1E5AiwSfWTItUEAen7hnTMlPQJplBbQIfFBAL23IDQXSUEBXDci7Ca1OQHWSpSZJ0VBABi/4s9mOT0DJ/V+A0AVQQO9AqghIjVBANO1B/jg5T0D+a9TbdaROQNw+sQ4rClFA",
        "encoding": "base64",
        "path": [
         "_data",
         0,
         "dimensions",
         4,
         "values",
         "buffer"
        ]
       },
       {
        "data": "CNizjsOVIEBgl+rzr1sDQEDXD0vgu/E/IAtK6BPLDEAwRf7Hk4UZQLhHWvPY2SBAAAAAAAAAAAAEAAAAAOAgQKhZ31XaTx1AOKmevxc1HUBwK73ipF4VQLB+6fvzqBlABP8WJDFBIEDQ2NNDrHsfQNCz/i2mkh9AQKpJenh/DUCQIkWkCrMSQNi69N6pCRdAoM8nm/SUDUAADY/Kc+bZP7CCBu0jXx1AULcPZtosEUAQBzvCnLUVQMBMU3/pfghAQLTkjbx++z9Ilb8hspceQMBim1a2rfs/0Ic+YDKJF0BwIwD696ITQCDit+r+VgZAYJbwDTg2GkAQoFwhUdweQACSYKd46uo/",
        "encoding": "base64",
        "path": [
         "_data",
         0,
         "dimensions",
         5,
         "values",
         "buffer"
        ]
       },
       {
        "data": "DzWRq84YT0Dq7av09CUyQMzZXkYioCBAbWrFqWL+OkDdYH6LOu1HQHhGSch2mE9AAAAAAAAAAAAIAAAAAKRPQA1kgbDcektApL6kQ8ZhS0C5WJGUughEQMXmKrxkDkhAJx6rIzx6TkBDm5Z/8YNNQJLIHst7mU1AnA+l8oCnO0Bn0AD62YdBQCtvBUEPmUVAplJ1UaW7O0AwHOaNDEgIQIUaNq4xiUtA27uuvwwaQECfVhf2QlpEQPQXXuf69jZA+2gGxdDGKUDzm6P/Nq5MQJSsMfHa8ilAU586Op8QRkA5IWB6yGhCQP5jDPyO8TRA+owRjdSSSEAP1kYPjO5MQN+I6hzROxlA",
        "encoding": "base64",
        "path": [
         "_data",
         0,
         "dimensions",
         6,
         "values",
         "buffer"
        ]
       },
       {
        "data": "LO5y2AuQZMAoqzYDGAYFwECF/F0aucq/PEsAG0P+HsDTYiMbmy5GwE/lY0Lmp2fAAAAAAAAAAAC/K+rqEvtnwNSoyysUoVPAfP7SrGFNU8CqF9aOElc4wLvRpxY/oUbAkvueXbijYcBqPf1ct6BcwAl7R2XyH13AcAP800GQIMAEFE5qPDswwNIwR/vRBz/AkANlZqGxIMAALchc0HG1PxAHBLu90VPAVB4sQ8tgKcDKAmXf4ZU5wOxnSZAl8hPAEEABl8Wu77+0xkaptlRYwFhCTkpbKfC/h4QtVWyrQMBwOxEOPcUywMhWrsBcEg/A1CnLrKSESMA8ooALC4RZwABgru37wpu/",
        "encoding": "base64",
        "path": [
         "_data",
         0,
         "dimensions",
         7,
         "values",
         "buffer"
        ]
       },
       {
        "data": "cDtXgz9WbEBPwxL1t8Y0QOHL1q8GCyFAnr5CuPleQUDY4VDT6g1XQO02dvQDjm9AAAAAAAAAAADBK+rqEuRvQG0tBkJBr2BA565SZyJ/YEBHMv7tIRpQQEBcaenRV1dAHMOJZkdCaUCGRWQOWLFlQKlvayVY9mVAqohR7tD3QUBp2icveKVJQMqDVB98jlJAN+pTAjsKQkDI2v8KfpwHQCmKD0kry2BAcMN5kD9yRkAC7OTymZJQQO9xcEuE8ztA/Hx2Hr3BK0BXSowU6VVjQN90e1oG+CtA7RG0xwVeU0DxvmgBZ8tLQNcuIpTa0zhAZ1vunLyLWECiBpKJqP1jQD832BiUVxlA",
        "encoding": "base64",
        "path": [
         "_data",
         0,
         "dimensions",
         8,
         "values",
         "buffer"
        ]
       },
       {
        "data": "4yOWaMQ2VkDrEyZedkkgQGL5ZCGMuApAGQ+Fuyo8K0DAUGEWpRJCQIUAmW+JvFhAAAAAAAAAAAAAAAAAAABZQHSjExWqKEpAleIpCDjdSUBs76EY3T45QOPXmS6UTEJAXVj3gA/NU0BO8xX1YwFRQHzzdjt7N1FA58CJH8wrLEC+WHR50Ro0QKjI5sIFGD1A3TzPEKtILEC0sMqjaYLyP+y/k/FtVEpAQdoLy5yYMUBbdfJ0vfs5QMYplple6SVAmqOQ8FjCFUDq4u7esFBOQDUL20rn7BVAy2VL0GhdPkAncE5G7Mk1QE18RfF+diNA8X/pMfY9Q0CoNOOKsVdPQLyRk/7B3QNA",
        "encoding": "base64",
        "path": [
         "_data",
         0,
         "line",
         "color",
         "buffer"
        ]
       }
      ],
      "model_module": "plotlywidget",
      "model_module_version": "^4.14.3",
      "model_name": "FigureModel",
      "state": {
       "_config": {
        "plotlyServerURL": "https://plot.ly"
       },
       "_data": [
        {
         "dimensions": [
          {
           "label": "(L) Expand Amount",
           "name": "expand_capacity",
           "range": [
            0.0,
            100.0
           ],
           "values": {
            "dtype": "float64",
            "shape": [
             33
            ]
           }
          },
          {
           "label": "(L) Amortization",
           "name": "amortization_period",
           "range": [
            48,
            50
           ],
           "values": [
            50,
            50,
            50,
            50,
            50,
            50,
            48,
            50,
            50,
            50,
            50,
            50,
            50,
            50,
            50,
            50,
            50,
            50,
            50,
            50,
            50,
            50,
            50,
            50,
            50,
            50,
            50,
            50,
            50,
            50,
            50,
            50,
            50
           ]
          },
          {
           "label": "(L) Debt Type",
           "name": "debt_type",
           "range": [
            -0.1,
            2.1
           ],
           "ticktext": [
            "",
            "GO Bond",
            "Rev Bond",
            "Paygo",
            ""
           ],
           "tickvals": [
            -0.1,
            0,
            1,
            2,
            2.1
           ],
           "values": {
            "dtype": "float64",
            "shape": [
             33
            ]
           }
          },
          {
           "label": "(L) Rate Lock",
           "name": "interest_rate_lock",
           "range": [
            -0.1,
            1.1
           ],
           "ticktext": [
            "",
            "False",
            "True",
            ""
           ],
           "tickvals": [
            -0.1,
            0,
            1,
            1.1
           ],
           "values": {
            "dtype": "float64",
            "shape": [
             33
            ]
           }
          },
          {
           "label": "(M-) Build Time",
           "name": "build_travel_time",
           "range": [
            69.0,
            60.56249999999999
           ],
           "values": {
            "dtype": "float64",
            "shape": [
             33
            ]
           }
          },
          {
           "label": "(M+) Time Savings",
           "name": "time_savings",
           "range": [
            0.0,
            8.437500000000007
           ],
           "values": {
            "dtype": "float64",
            "shape": [
             33
            ]
           }
          },
          {
           "label": "(M+) Value Time Save",
           "name": "value_of_time_savings",
           "range": [
            0.0,
            63.28125000000006
           ],
           "values": {
            "dtype": "float64",
            "shape": [
             33
            ]
           }
          },
          {
           "label": "(M+) Net Benefits",
           "name": "net_benefits",
           "range": [
            -191.84605928169728,
            0.08376791253265381
           ],
           "values": {
            "dtype": "float64",
            "shape": [
             33
            ]
           }
          },
          {
           "label": "(M-) Cost of Expand",
           "name": "cost_of_capacity_expansion",
           "range": [
            255.12730928169734,
            0.0
           ],
           "values": {
            "dtype": "float64",
            "shape": [
             33
            ]
           }
          }
         ],
         "domain": {
          "y": [
           0,
           0.7
          ]
         },
         "labelangle": -90,
         "labelfont": {
          "color": "#AA0000"
         },
         "line": {
          "cmax": 100.0,
          "cmin": 0.0,
          "color": {
           "dtype": "float64",
           "shape": [
            33
           ]
          },
          "colorbar": {
           "title": {
            "side": "right",
            "text": "expand_capacity"
           }
          },
          "colorscale": [
           [
            0.0,
            "#440154"
           ],
           [
            0.1111111111111111,
            "#482878"
           ],
           [
            0.2222222222222222,
            "#3e4989"
           ],
           [
            0.3333333333333333,
            "#31688e"
           ],
           [
            0.4444444444444444,
            "#26828e"
           ],
           [
            0.5555555555555556,
            "#1f9e89"
           ],
           [
            0.6666666666666666,
            "#35b779"
           ],
           [
            0.7777777777777778,
            "#6ece58"
           ],
           [
            0.8888888888888888,
            "#b5de2b"
           ],
           [
            1.0,
            "#fde725"
           ]
          ],
          "reversescale": true,
          "showscale": true
         },
         "type": "parcoords",
         "uid": "7546e97c-6d64-4ebc-b913-f5deb6c9687f"
        }
       ],
       "_dom_classes": [],
       "_js2py_layoutDelta": {},
       "_js2py_pointsCallback": {},
       "_js2py_relayout": {},
       "_js2py_restyle": {},
       "_js2py_traceDeltas": {},
       "_js2py_update": {},
       "_last_layout_edit_id": 0,
       "_last_trace_edit_id": 0,
       "_layout": {},
       "_model_module": "plotlywidget",
       "_model_module_version": "^4.14.3",
       "_model_name": "FigureModel",
       "_py2js_addTraces": {},
       "_py2js_animate": {},
       "_py2js_deleteTraces": {},
       "_py2js_moveTraces": {},
       "_py2js_relayout": null,
       "_py2js_removeLayoutProps": {},
       "_py2js_removeTraceProps": {},
       "_py2js_restyle": {},
       "_py2js_update": {},
       "_view_count": 0,
       "_view_module": "plotlywidget",
       "_view_module_version": "^4.14.3",
       "_view_name": "FigureView"
      }
     },
     "fb62329531ab4ad0a4da826e148dd0b2": {
      "model_module": "@jupyter-widgets/controls",
      "model_module_version": "1.5.0",
      "model_name": "DropdownModel",
      "state": {
       "_dom_classes": [],
       "_model_module": "@jupyter-widgets/controls",
       "_model_module_version": "1.5.0",
       "_model_name": "DropdownModel",
       "_options_labels": [
        "< None >",
        "expand_capacity",
        "amortization_period",
        "debt_type",
        "interest_rate_lock",
        "Mean Net Benefits",
        "5%ile Net Benefits",
        "Possibility of Negative Net Benefits",
        "95%ile Capacity Expansion Cost",
        "Expected Time Savings"
       ],
       "_view_count": null,
       "_view_module": "@jupyter-widgets/controls",
       "_view_module_version": "1.5.0",
       "_view_name": "DropdownView",
       "description": "Colorize:",
       "description_tooltip": null,
       "disabled": false,
       "index": 1,
       "layout": "IPY_MODEL_200c4a2c697c456c806ad6d2f99b9a2c",
       "style": "IPY_MODEL_77b1bb4483fe45c892c6b787193739f7"
      }
     },
     "fcaba85efeff42c99a98cc0a3a81f1fb": {
      "model_module": "@jupyter-widgets/base",
      "model_module_version": "1.2.0",
      "model_name": "LayoutModel",
      "state": {
       "_model_module": "@jupyter-widgets/base",
       "_model_module_version": "1.2.0",
       "_model_name": "LayoutModel",
       "_view_count": null,
       "_view_module": "@jupyter-widgets/base",
       "_view_module_version": "1.2.0",
       "_view_name": "LayoutView",
       "align_content": null,
       "align_items": null,
       "align_self": null,
       "border": null,
       "bottom": null,
       "display": null,
       "flex": null,
       "flex_flow": null,
       "grid_area": null,
       "grid_auto_columns": null,
       "grid_auto_flow": null,
       "grid_auto_rows": null,
       "grid_column": null,
       "grid_gap": null,
       "grid_row": null,
       "grid_template_areas": null,
       "grid_template_columns": null,
       "grid_template_rows": null,
       "height": null,
       "justify_content": null,
       "justify_items": null,
       "left": null,
       "margin": null,
       "max_height": null,
       "max_width": null,
       "min_height": null,
       "min_width": null,
       "object_fit": null,
       "object_position": null,
       "order": null,
       "overflow": null,
       "overflow_x": null,
       "overflow_y": null,
       "padding": null,
       "right": null,
       "top": null,
       "visibility": null,
       "width": null
      }
     },
     "fd0a4a73a210485ca7ee0a36ca10974b": {
      "model_module": "plotlywidget",
      "model_module_version": "^4.14.3",
      "model_name": "FigureModel",
      "state": {
       "_config": {
        "plotlyServerURL": "https://plot.ly"
       },
       "_data": [
        {
         "fill": "tonexty",
         "line": {
          "shape": "linear"
         },
         "mode": "lines+markers",
         "name": "",
         "type": "scatter",
         "uid": "1782df19-3850-47cd-8322-55f046fb5c3e"
        }
       ],
       "_dom_classes": [],
       "_js2py_layoutDelta": {},
       "_js2py_pointsCallback": {},
       "_js2py_relayout": {},
       "_js2py_restyle": {},
       "_js2py_traceDeltas": {},
       "_js2py_update": {},
       "_last_layout_edit_id": 4,
       "_last_trace_edit_id": 1,
       "_layout": {
        "hovermode": "closest",
        "showlegend": false,
        "title": {
         "text": "ε-Progress"
        }
       },
       "_model_module": "plotlywidget",
       "_model_module_version": "^4.14.3",
       "_model_name": "FigureModel",
       "_py2js_addTraces": {},
       "_py2js_animate": {},
       "_py2js_deleteTraces": {},
       "_py2js_moveTraces": {},
       "_py2js_relayout": null,
       "_py2js_removeLayoutProps": {},
       "_py2js_removeTraceProps": {},
       "_py2js_restyle": {},
       "_py2js_update": null,
       "_view_count": 0,
       "_view_module": "plotlywidget",
       "_view_module_version": "^4.14.3",
       "_view_name": "FigureView"
      }
     },
     "fef207c303cc4ec58a7a5277c19ceefe": {
      "model_module": "@jupyter-widgets/base",
      "model_module_version": "1.2.0",
      "model_name": "LayoutModel",
      "state": {
       "_model_module": "@jupyter-widgets/base",
       "_model_module_version": "1.2.0",
       "_model_name": "LayoutModel",
       "_view_count": null,
       "_view_module": "@jupyter-widgets/base",
       "_view_module_version": "1.2.0",
       "_view_name": "LayoutView",
       "align_content": null,
       "align_items": null,
       "align_self": null,
       "border": null,
       "bottom": null,
       "display": null,
       "flex": null,
       "flex_flow": null,
       "grid_area": null,
       "grid_auto_columns": null,
       "grid_auto_flow": null,
       "grid_auto_rows": null,
       "grid_column": null,
       "grid_gap": null,
       "grid_row": null,
       "grid_template_areas": null,
       "grid_template_columns": null,
       "grid_template_rows": null,
       "height": null,
       "justify_content": null,
       "justify_items": null,
       "left": null,
       "margin": null,
       "max_height": null,
       "max_width": null,
       "min_height": null,
       "min_width": null,
       "object_fit": null,
       "object_position": null,
       "order": null,
       "overflow": null,
       "overflow_x": null,
       "overflow_y": null,
       "padding": null,
       "right": null,
       "top": null,
       "visibility": null,
       "width": null
      }
     },
     "ffd0a8632c4443a3bf9370e49acebac9": {
      "model_module": "@jupyter-widgets/controls",
      "model_module_version": "1.5.0",
      "model_name": "CheckboxModel",
      "state": {
       "_dom_classes": [],
       "_model_module": "@jupyter-widgets/controls",
       "_model_module_version": "1.5.0",
       "_model_name": "CheckboxModel",
       "_view_count": null,
       "_view_module": "@jupyter-widgets/controls",
       "_view_module_version": "1.5.0",
       "_view_name": "CheckboxView",
       "description": "(L) Amortization",
       "description_tooltip": "amortization_period",
       "disabled": false,
       "indent": true,
       "layout": "IPY_MODEL_51c2da71f2e743309ffa48f9b4bc9292",
       "name": "amortization_period",
       "style": "IPY_MODEL_091d62e3a24f4fd59daf99b1a6716faa",
       "value": true
      }
     },
     "ffe9839745864e39adfacd0bb21017ab": {
      "model_module": "@jupyter-widgets/controls",
      "model_module_version": "1.5.0",
      "model_name": "DescriptionStyleModel",
      "state": {
       "_model_module": "@jupyter-widgets/controls",
       "_model_module_version": "1.5.0",
       "_model_name": "DescriptionStyleModel",
       "_view_count": null,
       "_view_module": "@jupyter-widgets/base",
       "_view_module_version": "1.2.0",
       "_view_name": "StyleView",
       "description_width": ""
      }
     }
    },
    "version_major": 2,
    "version_minor": 0
   }
  }
 },
 "nbformat": 4,
 "nbformat_minor": 4
}
